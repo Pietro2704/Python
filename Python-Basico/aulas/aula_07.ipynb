{
  "nbformat": 4,
  "nbformat_minor": 0,
  "metadata": {
    "colab": {
      "provenance": []
    },
    "kernelspec": {
      "name": "python3",
      "display_name": "Python 3"
    },
    "language_info": {
      "name": "python"
    }
  },
  "cells": [
    {
      "cell_type": "code",
      "source": [
        "# loopimg de 3 a 10\n",
        "# mostre na tela os numeros do loopimg\n",
        "# Criar um looping pra add listas na minha lista original\n",
        "# lista_original = [[num for num in range(1, 4)] for _ in range(0, 3)]\n",
        "\n",
        "# print(lista_original)\n",
        "\n",
        "\n",
        "# Cria uma lista com numeros de 0 ate 8\n",
        "lista = []\n",
        "alcance = range(0, 8)\n",
        "for num in alcance:\n",
        "  lista.append(num)\n",
        "lista"
      ],
      "metadata": {
        "id": "FWljfCx8yird"
      },
      "execution_count": null,
      "outputs": []
    },
    {
      "cell_type": "code",
      "source": [],
      "metadata": {
        "id": "6hVoU3fh86XT"
      },
      "execution_count": null,
      "outputs": []
    },
    {
      "cell_type": "markdown",
      "source": [
        "# Protocolos de Comunicação\n",
        "A missão, a partir de agora, é demonstrar as várias áreas de atuação emque poderemos utilizar Python.\n",
        "\n",
        "Agora entenderemos como ele pode interagir com alguns protocolos, saberemos mais adiante como ele será utilizado com IoT, um pouco mais à frente,também verificaremos a ligação do Python com Inteligência Artificial e finalizaremos o conteúdo deste curso em Python comunicando-se com Cybersecurity junto a ferramentas de pentest. Então, agora é abrir sua IDE e vamos codar."
      ],
      "metadata": {
        "id": "AS8Mx7pHnywd"
      }
    },
    {
      "cell_type": "markdown",
      "source": [
        "Tudo começa com a biblioteca “socket”. A biblioteca socket é integrante do conjunto debibliotecas-padrão que já fazem parte da PVM do Python, ou seja, diferentemente daPygeocoder, ela não precisa ser instalada por meio do comando “pip”, apresentadoanteriormente.\n",
        "\n",
        "Podemos observar que o pacote __“datetime”__ irá nos permitir recuperar a data completa de acordo com o sistema operacional, assim como: dia, mês, ano, hora, minuto e segundo.\n",
        "Essa sequência também poderá nos ajudar, por exemplo, na\n",
        "montagem de um inventário.\n",
        "\n",
        "Já o pacote __“getpass”__ nos propicia retornar o usuário\n",
        "logado no momento, o que pode nos auxiliar, por exemplo, no desenvolvimento de uma ferramenta de auditoria, em que saberemos as ações que determinado usuário\n",
        "realizou, assim como estabelecer se o usuário está em um dia/horário que deve possuir ou não acesso.\n",
        "\n",
        "Se a clínica não abre aos domingos, poderemos bloquear\n",
        "todos os usuários, exceção ao administrador, o acesso ao sistema, máquina ou qualquer outro item que faça parte da rede, que desejarmos.\n",
        "\n",
        "Mas o “getpass” também nos proporciona ter acesso a outro recurso bem interessante."
      ],
      "metadata": {
        "id": "8QFGYSY5or-E"
      }
    },
    {
      "cell_type": "code",
      "source": [
        "# Exemplo básico:\n",
        "usuario=input(\"Digite o usuário: \").upper()\n",
        "senha= input(\"Digite a senha: \")\n",
        "\n",
        "if usuario == \"ROOT\" and senha == \"123\":\n",
        "  print(\"Usuário logado\")\n",
        "else:\n",
        "  print(\"Login Negado\")"
      ],
      "metadata": {
        "id": "MTcY70POozMt"
      },
      "execution_count": null,
      "outputs": []
    },
    {
      "cell_type": "code",
      "source": [
        "# Usando getpass:\n",
        "import getpass\n",
        "\n",
        "usuario = input(\"Digite o usuário: \").upper()\n",
        "senha = getpass.getpass(\"Digite a senha: \")\n",
        "\n",
        "if usuario == \"ROOT\" and senha == '123':\n",
        "  print(\"Usuário logado\")\n",
        "else:\n",
        "  print(\"Login Negado\")"
      ],
      "metadata": {
        "id": "s-aYjkKqpg-_"
      },
      "execution_count": null,
      "outputs": []
    },
    {
      "cell_type": "markdown",
      "source": [
        "__OBS:__ Não roda no pycharm"
      ],
      "metadata": {
        "id": "F0j22FWiqC_A"
      }
    },
    {
      "cell_type": "markdown",
      "source": [
        "Você deve estar se perguntando: por que preciso importar essa biblioteca? Qual a sua finalidade?\n",
        "\n",
        "Pois bem, essa é a biblioteca que será responsável por criar ferramentase estabelecer comunicação entre dois processos, ou mais, que podem estar em uma rede decomputadores. Por isso, vamos relembrar os principais protocolos envolvidos em umatransmissão de dados entre computadores:"
      ],
      "metadata": {
        "id": "Wa3oulHyp7xO"
      }
    },
    {
      "cell_type": "markdown",
      "source": [
        "## Protocolos\n",
        "- IP: que representa o endereço do qual partiu ou para o qual irá determinado pacote dedados, ou seja, o endereçamento lógico;\n",
        "\n",
        "- TCP: protocolo de transporte que possui maior confiabilidade na entrega dos pacotes, devidoao processo de “handshake” que ele realiza;\n",
        "\n",
        "- UDP: protocolo de transporte que possui maior velocidade, porém menor confiabilidade de entrega (quando comparado ao TCP), uma vez que ele não realiza “handshake”."
      ],
      "metadata": {
        "id": "3u6VRk45qNCn"
      }
    },
    {
      "cell_type": "markdown",
      "source": [
        "### Exercicio:\n",
        "\n",
        "Recuperar o IP por meio do DNS:\n"
      ],
      "metadata": {
        "id": "eM5XFkjNqmkW"
      }
    },
    {
      "cell_type": "code",
      "source": [
        "import socket\n",
        "url = input(\"Digite uma URL: \")\n",
        "ip_url = socket.gethostbyname(url)\n",
        "print(\"O IP do site informado é:\", ip_url)"
      ],
      "metadata": {
        "id": "9RsuqdVjLT19"
      },
      "execution_count": null,
      "outputs": []
    },
    {
      "cell_type": "code",
      "source": [
        "import socket\n",
        "resp=\"S\"\n",
        "while(resp==\"S\"):\n",
        "  url = input(\"Digite uma url: \")\n",
        "  ip = socket.gethostbyname(url)\n",
        "  print(\"O IP referente à url informada é: \", ip)\n",
        "  resp=input(\"Digite <s> para continuar: \").upper()"
      ],
      "metadata": {
        "id": "gzyanOdwqA-w"
      },
      "execution_count": null,
      "outputs": []
    },
    {
      "cell_type": "markdown",
      "source": [
        "Simples, não é mesmo?\n",
        "\n",
        "Mas até o momento vimos o socket somente agindo junto ao protocolo IP, que, por sua vez, ainda necessita de uma porta para que pacotes possam ser direcionados de maneira íntegra e correta.\n",
        "\n",
        "Podemos identificar as portas da nossa máquina que estão sendo utilizadas\n",
        "para serviços, como domínio, http e ftp, por exemplo."
      ],
      "metadata": {
        "id": "pVHS80MzrJH4"
      }
    },
    {
      "cell_type": "code",
      "source": [
        "import socket\n",
        "print(socket.getservbyname(\"domain\"))\n",
        "print(socket.getservbyname(\"http\"))\n",
        "print(socket.getservbyname(\"ftp\"))"
      ],
      "metadata": {
        "id": "soqbw-aHrXml"
      },
      "execution_count": null,
      "outputs": []
    },
    {
      "cell_type": "markdown",
      "source": [
        "Com a execução desse código, teremos o retorno das portas que estamos\n",
        "disponibilizando para:\n",
        "- domínio (por padrão 53), usado para resolver a conversão\n",
        "entre DNS e IP;\n",
        "- HTTP (por padrão 80), usado para navegar nas páginas WEB; e\n",
        "- FTP (por padrão 21), usado para transferência de arquivos."
      ],
      "metadata": {
        "id": "CNloRKajrqYu"
      }
    },
    {
      "cell_type": "markdown",
      "source": [
        "## Preparação do servidor\n",
        "Vamos preparar duas ferramentas, uma será utilizada para ficar no servidor,\n",
        "isso significa que será a ferramenta que ficará escutando e atendendo aos pedidos\n",
        "dos clientes.\n",
        "\n",
        "A segunda ferramenta deverá ficar nos clientes, ou seja, é a ferramenta\n",
        "que irá fazer as solicitações para o servidor."
      ],
      "metadata": {
        "id": "ivimqUepr4Uf"
      }
    },
    {
      "cell_type": "code",
      "source": [
        "# Servidor.py\n",
        "from socket import *\n",
        "servidor=\"localhost\"\n",
        "porta=43210\n",
        "\n",
        "obj_socket = socket(AF_INET, SOCK_STREAM)\n",
        "obj_socket.bind((servidor,porta))\n",
        "obj_socket.listen(2)\n",
        "print(\"Aguardando cliente....\")\n",
        "while True:\n",
        "  con, cliente = obj_socket.accept()\n",
        "  print(\"Conectado com: \", cliente)\n",
        "  while True:\n",
        "    msg_recebida = str(con.recv(1024))\n",
        "    print(\"Recebemos: \", msg_recebida)\n",
        "    msg_enviada = b'Olah cliente'\n",
        "    con.send(msg_enviada)\n",
        "    break\n",
        "    con.close()"
      ],
      "metadata": {
        "id": "r7hXor8YrvqC"
      },
      "execution_count": null,
      "outputs": []
    },
    {
      "cell_type": "markdown",
      "source": [
        "### Explicação\n",
        "- Primeiramente, importamos todas (*) as funções da biblioteca “socket”, isso será preciso paraque possamos criar objetos do tipo “socket”.\n",
        "\n",
        "Criamos duas variáveis, “servidor” e “porta”, para armazenarmos esses dois dados que serão utilizados posteriormente;\n",
        "\n",
        "Em “servidor”, poderíamos utilizar também a palavra __“localhost”__ para identificarmos que o servidor é a\n",
        "própria máquina que está executando o código, o que também é representado pelo endereço __“127.0.0.1”__, que foi aqui utilizado.\n",
        "\n",
        "Em “porta”, escolhemos uma porta representada por um número inteiro entre 0 e 65535, em que normalmente as portas entre 0 e 1023 são portas utilizadas, por padrão, para atribuições de serviços conhecidos por meio do sistema operacional.\n",
        "\n",
        "\n",
        "Na quarta linha, criamos o nosso objeto socket “obj_socket”, por meio da função “socket()”, que exige dois parâmetros:\n",
        "- o primeiro definirá a família responsável por identificar os pacotes.\n",
        "\n",
        "  Para o nosso exemplo, definimos como AF_INET, o que significa que iremos utilizar a identificação do emissor/receptor do(s) pacote(s) via DNS ou número IP (poderíamos utilizar a constante AF_UNIX,o que mudaria a forma de identificar a origem/destino do(s) pacote(s)).\n",
        "- Já o segundo parâmetrorefere-se ao transporte desse pacote, que pode ser SOCK_STREAM, que representa o\n",
        "protocolo TCP (o que nós optamos) ou SOCK_DGRAM, que representa o\n",
        "protocolo de transporte UDP."
      ],
      "metadata": {
        "id": "mPNwgrP9s6MQ"
      }
    },
    {
      "cell_type": "markdown",
      "source": [
        "Na próxima linha, fazemos a associação no nosso objeto socket com o nosso servidor e porta.\n",
        "\n",
        "- Na linha em que utilizamos a função “listen()”, estamos definindo o máximo de clientes que o nosso servidor irá atender simultaneamente, para o nosso caso, definimos que serão, no máximo, dois clientes.\n",
        "\n",
        "- Montamos, na sequência, dois laços infinitos (enquanto for verdadeiro):\n",
        "  - No primeiro,aguardamos a chamada de um cliente (por meio da função accept()), assim que tivermos,receberemos uma tupla e iremos direcionar a identificação do cliente para a variável “cliente” e aidentificação da conexão para a variável “con” e, então, iremos exibir a identificação do\n",
        "  nosso cliente;\n",
        "  - No segundo laço, aguardando uma solicitação que pode ser transmitida\n",
        "  em pacotes de 1024 bytes, exibimos a mensagem recebida e geramos uma mensagem para enviar no formato de “bytes” (por isso, a mensagem começa com “b” e, em seguida, a string que se deseja), enviamos por meio do método “send()” e encerramos esse segundo laço while.\n",
        "- Finalmente, fechamos a conexão e voltamos a aguardar uma nova conexão.\n",
        "\n",
        "__Todos os dados transmitidos via socket devem estar no formato byte. O socket não envia nem recebe dados strings.__"
      ],
      "metadata": {
        "id": "lraTnQwntubt"
      }
    },
    {
      "cell_type": "markdown",
      "source": [
        "### Exercicio:\n",
        "Vamos preparar um código que permita a comunicação de um cliente qualquer, que faça parte da rede, com o nosso servidor"
      ],
      "metadata": {
        "id": "2HFrAn_ruUxG"
      }
    },
    {
      "cell_type": "code",
      "source": [
        "# Cliente.py\n",
        "from socket import *\n",
        "\n",
        "servidor=\"127.0.0.1\"\n",
        "porta=43210\n",
        "\n",
        "obj_socket=socket(AF_INET, SOCK_STREAM)\n",
        "obj_socket.connect((servidor,porta))\n",
        "msg = bytes(input(\"Digite algo: \"), 'utf-8')\n",
        "obj_socket.send(msg)\n",
        "\n",
        "resposta=obj_socket.recv(1024)\n",
        "print(\"Recebemos: \", resposta)\n",
        "obj_socket.close()"
      ],
      "metadata": {
        "id": "6vn4f0TkuNj9"
      },
      "execution_count": null,
      "outputs": []
    },
    {
      "cell_type": "markdown",
      "source": [
        "## Detalhando as linhas do código apresentado:\n",
        "- Importamos as funções da biblioteca socket e criamos duas variáveis, uma para representar o servidor, caso o servidor não fosse a máquina local, poderíamos definir o IP do servidor externo, se fosse o caso.\n",
        "__Cuidado ao definir a porta, deve ser a mesma em que inicializamos oservidor.__\n",
        "\n",
        "- Na quarta linha, definimos o conteúdo da variável “msg”, por meio de uma entrada do usuário(input). Observe que utilizamos a função “bytes()” para converter o conteúdo do input, ou seja,__a string para o formato bytes__, o segundo parâmetro faz referência ao padrão de caracteres “utf-8”.\n",
        "\n",
        "- As três próximas linhas são referentes à criação do objeto socket (por meio da função“socket()”), à conexão com o servidor, por meio da função “connect()”, e, finalmente, enviando uma mensagem para o servidor, utilizando o método “send()”.\n",
        "\n",
        "- A variável resposta recebe o dado enviado pelo servidor, limitando o tamanho para 1024 bytes.\n",
        "E finalizamos o código, exibindo a resposta e fechando conexão."
      ],
      "metadata": {
        "id": "w9VJ5Ilpuj0i"
      }
    },
    {
      "cell_type": "markdown",
      "source": [
        "## O desafio agora é: você consegue montar um “chat” entre o cliente e o servidor?\n",
        "Ou seja, você pode enviar um dado para o servidor, faça o mesmo com o servidor, e deixe o cliente dentro de um laço infinito para que possam conversar.\n",
        "\n",
        "Tente fazer isso, antes de continuar para o próximo tópico"
      ],
      "metadata": {
        "id": "6Ks5GrE55Dqh"
      }
    },
    {
      "cell_type": "code",
      "source": [
        "# Servidor\n",
        "from socket import *\n",
        "servidor=\"127.0.0.1\"\n",
        "porta=43210\n",
        "\n",
        "obj_socket = socket(AF_INET, SOCK_STREAM)\n",
        "obj_socket.bind((servidor,porta))\n",
        "obj_socket.listen(2)\n",
        "\n",
        "print(\"Aguardando cliente....\")\n",
        "while True:\n",
        "  con, cliente = obj_socket.accept()\n",
        "  print(\"Conectado com: \", cliente)\n",
        "  while True:\n",
        "    msg_recebida = str(con.recv(1024))\n",
        "    print(\"Recebemos: \", str(msg_recebida)[2:])\n",
        "    msg_enviada = bytes(input(\"Sua resposta: \"), 'utf-8')\n",
        "    con.send(msg_enviada)\n",
        "    break\n",
        "  con.close()"
      ],
      "metadata": {
        "id": "Htrs32SKvHrs"
      },
      "execution_count": null,
      "outputs": []
    },
    {
      "cell_type": "code",
      "source": [
        "# Cliente\n",
        "from socket import *\n",
        "servidor=\"192.168.15.238\"\n",
        "porta=43210\n",
        "\n",
        "while True:\n",
        "  obj_socket = socket(AF_INET, SOCK_STREAM)\n",
        "  obj_socket.connect((servidor, porta))\n",
        "  msg = bytes(input(\"Sua mensagem: \"), 'utf-8')\n",
        "  obj_socket.send(msg)\n",
        "  resposta=obj_socket.recv(1024)\n",
        "  print(\"Resposta do Servidor:\", str(resposta)[2:])"
      ],
      "metadata": {
        "id": "dgW1KVi2AOAh"
      },
      "execution_count": null,
      "outputs": []
    },
    {
      "cell_type": "markdown",
      "source": [
        "## Protocolo UDP\n",
        "Como você já viu anteriormente, o protocolo UDP não é confiável em relação\n",
        "à garantia de que os dados cheguem até o destino, mas, como contraponto,\n",
        "sabemos que esse protocolo entrega de maneira muito mais rápida, quando\n",
        "comparado ao TCP. As aplicações desse protocolo estão mais voltadas para\n",
        "ambientes que utilizem “streaming” de vídeos e/ou áudios ou até mesmo ambientes\n",
        "de jogos online, que têm a velocidade como algo primordial para a jogabilidade.\n",
        "Veremos um pequeno exemplo, utilizando o protocolo UDP para que possamos completar amanipulação dos dois principais protocolos de transporte dentro do Python."
      ],
      "metadata": {
        "id": "RT1pVkE6Cp2W"
      }
    },
    {
      "cell_type": "code",
      "source": [
        "from socket import *\n",
        "servidor=\"127.0.0.1\"\n",
        "porta=43210\n",
        "\n",
        "obj_socket = socket(AF_INET, SOCK_DGRAM)\n",
        "obj_socket.connect((servidor, porta))\n",
        "\n",
        "saida=\"\"\n",
        "while saida != \"X\":\n",
        "  msg = input(\"Sua mensagem: \")\n",
        "  obj_socket.sendto(msg.encode(), (servidor,porta))\n",
        "  dados, origem = obj_socket.recvfrom(65535)"
      ],
      "metadata": {
        "id": "nTld6cDOCzhR"
      },
      "execution_count": null,
      "outputs": []
    },
    {
      "cell_type": "code",
      "source": [
        "from socket import *\n",
        "\n",
        "servidor = \"192.168.15.238\"\n",
        "porta = 43210\n",
        "\n",
        "# Criação do socket UDP\n",
        "obj_socket = socket(AF_INET, SOCK_DGRAM)\n",
        "obj_socket.bind((servidor, porta))\n",
        "\n",
        "print(f\"Servidor ouvindo em {servidor}:{porta}\")\n",
        "\n",
        "while True:\n",
        "    # Receber dados do cliente\n",
        "    dados, endereco_cliente = obj_socket.recvfrom(65535)\n",
        "    mensagem = dados.decode()\n",
        "\n",
        "    print(f\"Recebido de {endereco_cliente}: {mensagem}\")\n",
        "\n",
        "    # Se a mensagem for \"X\", encerre o servidor\n",
        "    if mensagem == \"X\":\n",
        "        print(\"Encerrando o servidor.\")\n",
        "        break\n",
        "\n",
        "    # Enviar uma resposta ao cliente\n",
        "    resposta = \"Mensagem recebida\"\n",
        "    obj_socket.sendto(resposta.encode(), endereco_cliente)\n",
        "\n",
        "obj_socket.close()\n"
      ],
      "metadata": {
        "id": "HCnSTUcmsZNL"
      },
      "execution_count": null,
      "outputs": []
    },
    {
      "cell_type": "markdown",
      "source": [
        "## Não só de Socket sobrevive os protocolos\n",
        "\n",
        "Além da biblioteca “sockets”, que, como já vimos, permite a troca de pacotes\n",
        "entre equipamentos que estão conectados em uma mesma rede por meio dos\n",
        "protocolos TCP e UDP, o Python possui muitas outras bibliotecas que permitem\n",
        "manipular outros protocolos, como, por exemplo, SMTP para e-mails, HTTP para\n",
        "envio ou recebimento de dados de uma página WEB, entre outros. __Claro que não\n",
        "iremos apresentar todos, isso demandaria uma disciplina inteira.__\n",
        "\n",
        "Mas, a fim de complementarmos um pouco mais e consolidarmos o poder do\n",
        "Python no meio dos protocolos, iremos abordar um pouco agora sobre o FTP (File\n",
        "Transfer Protocol), que tem como principal finalidade trocar arquivos entre os\n",
        "dispositivos que estiverem conectados em uma mesma rede. Uma primeira\n",
        "observação muito importante: utilize-o com moderação, pois esse protocolo é\n",
        "inseguro e pode trazer vulnerabilidades para o seu ambiente, daí a importância em\n",
        "conhecê-lo."
      ],
      "metadata": {
        "id": "WRgXW57dDTEx"
      }
    },
    {
      "cell_type": "code",
      "source": [
        "# FTP\n",
        "from ftplib import *\n",
        "ftp_ativo = False\n",
        "ftp = FTP('ftp.ibiblio.org')\n",
        "print(ftp.getwelcome())\n",
        "ftp.quit()"
      ],
      "metadata": {
        "id": "IRpO2tqfDoIR"
      },
      "execution_count": null,
      "outputs": []
    },
    {
      "cell_type": "markdown",
      "source": [
        "Você já pode executar o seu arquivo, deverá ver uma mensagem do servidor\n",
        "FTP e a conexão será finalizada na sequência.\n",
        "\n",
        "Caso o código esteja idêntico e apresente qualquererro, verifique se o seu computador possui um firewall que esteja bloqueando a conexãocom um servidor FTP ou ainda se a rede em que está conectado (no caso de empresa ouqualquer outra instituição) permite uma transmissão FTP.\n",
        "\n",
        "## Código\n",
        "Na primeira linha, fizemos a importação de todas as funções do módulo ftplib, como, porexemplo, a função FTP(), que permite criar um objeto que representará a conexãoestabelecida.\n",
        "Na segunda linha, criamos uma variável booleana, ou seja, armazenará somente os valores“True” ou “False” (cuidado, pois no Python, os valores “True” e “False” devem ser digitadoscom a primeira letra maiúscula, diferente dos padrões adotados em outras linguagens).\n",
        "Essa variável está definida como False, e a utilizaremos posteriormente, para definirmos sea conexão será ativa ou passiva.\n",
        "\n",
        "A conexão ativa era mais utilizada quando a Internet ainda não era tão difundida, poispermitia que o servidor criasse uma conexão diretamente com o cliente, entretanto, osclientes passaram a ter firewalls e outros tipos de proteções, o que passou a impedir esse\n",
        "tipo de solicitação. Então, a utilização da conexão passiva passou a ser mais comum,representando que o servidor irá liberar uma porta e solicitará o estabelecimento daconexão para o cliente, por isso, a variável está com o valor False, que representa a conexãopassiva.\n",
        "Na terceira linha, criamos um objeto para representar uma conexão FTP, para isso,utilizamos o método “FTP()”, que precisa apenas do endereço do servidor FTP, no exemplo,utilizamos o endereço “ftp.ibiblio.org”. Caso queira, pode acessá-lo diretamente em seubrowser, por meio do endereço “ftp://ftp.ibiblio.org/”, irá surgir uma imagem como a queserá apresentada logo a seguir.\n",
        "Na quarta linha, chamamos o método “getwelcome()” do objeto “ftp”, que irá apresentaruma mensagem-padrão retornada pelo servidor. Essa mensagem pode, por exemplo, serútil para informar ao cliente que algum arquivo está indisponível, ou que o servidor estápassando por uma atualização, ou simplesmente ser responsável por um “olá”."
      ],
      "metadata": {
        "id": "R2TQ-G76D1_R"
      }
    },
    {
      "cell_type": "code",
      "source": [
        "# Mais interativo\n",
        "import os\n",
        "from ftplib import *\n",
        "\n",
        "ftp_ativo=False\n",
        "ftp = FTP(input(\"Digite o FTP que se deseja conectar: \"))\n",
        "print(ftp.getwelcome())\n",
        "\n",
        "usuario=input(\"Digite o usuario: \")\n",
        "senha=input(\"Digite a senha: \")\n",
        "ftp.login(usuario, senha)\n",
        "\n",
        "print(\"Conexão bem sucedida.\\nDiretório atual de trabalho: \", ftp.pwd(),\"\\n\\n\")\n",
        "\n",
        "menu=\"1\"\n",
        "while menu==\"1\" or menu==\"2\" or menu==\"3\":\n",
        "\n",
        "menu=input(\"Escolha a opção desejada: \"\n",
        "\"\\n<1> - para Listar arquivos\"\n",
        "\"\\n<2> - para definir um diretório\"\n",
        "\"\\n<3> - para baixar um arquivo: \")\n",
        "\n",
        "  if menu==\"1\":\n",
        "    print(ftp.dir())\n",
        "\n",
        "  elif menu==\"2\":\n",
        "    ftp.cwd(input(\"Digite o diretório que deseja entrar: \"))\n",
        "    print(\"\\nDiretório corrente é: \", ftp.pwd())\n",
        "\n",
        "  elif menu==\"3\":\n",
        "    tipo=input(\"Digite <B> para arquivo binário ou \"\n",
        "    \"\\nqualquer outra letra para arquivo ASCII: \").upper()\n",
        "\n",
        "    if tipo==\"B\":\n",
        "      with open(input(\"Digite o nome do arquivo destino: \"), 'wb') as arq:\n",
        "        ftp.retrbinary('RETR ' + input(\"Arquivo de origem: \"), arq.write)\n",
        "\n",
        "    else:\n",
        "      with open(input(\"Digite o nome do arquivo destino: \"), 'w') as arq:\n",
        "        dfih(d)"
      ],
      "metadata": {
        "id": "0cU_w_MBETOx"
      },
      "execution_count": null,
      "outputs": []
    }
  ]
}