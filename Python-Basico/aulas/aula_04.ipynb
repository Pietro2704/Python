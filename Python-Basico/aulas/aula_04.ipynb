{
  "nbformat": 4,
  "nbformat_minor": 0,
  "metadata": {
    "colab": {
      "provenance": []
    },
    "kernelspec": {
      "name": "python3",
      "display_name": "Python 3"
    },
    "language_info": {
      "name": "python"
    }
  },
  "cells": [
    {
      "cell_type": "markdown",
      "source": [
        "# 🧠 Revisão da Aula Passada: Lista Dentro de Lista\n",
        "\n",
        "Uma lista pode conter outras listas, o que é útil quando queremos agrupar informações relacionadas a um mesmo item.\n",
        "\n",
        "## 🧩 Desafio:\n",
        "\n",
        "🎯 Crie um sistema simples para **cadastrar funcionários**. Cada funcionário deve conter:\n",
        "\n",
        "- Nome  \n",
        "- Idade  \n",
        "- Cargo  \n",
        "- Setor  \n",
        "\n",
        "Armazene essas informações dentro de uma **lista de listas**.\n",
        "```python\n",
        "sistema = [\n",
        "  [\"João\", 23, \"Gerente\", \"TI\"],\n",
        "  ...\n",
        "]\n",
        "```\n",
        "\n",
        "\n",
        "### Etapas:\n",
        "\n",
        "1. Cadastre **3 funcionários** com seus respectivos dados.\n",
        "\n",
        "2. Depois, faça:\n",
        "  - ✅ Exibir todos os funcionários cadastrados  \n",
        "  - ✅ Buscar um funcionário pelo nome  \n",
        "  - ✅ Atualizar o cargo de um funcionário  \n",
        "  - ✅ Remover um funcionário pelo nome\n",
        "\n",
        "\n"
      ],
      "metadata": {
        "id": "C95y8hF8HSdg"
      }
    },
    {
      "cell_type": "code",
      "source": [
        "sistema = []"
      ],
      "metadata": {
        "id": "XHjDcbeqwmiU"
      },
      "execution_count": null,
      "outputs": []
    },
    {
      "cell_type": "code",
      "source": [
        "# Cadastro\n",
        "cadastrar = \"SIM\"\n",
        "\n",
        "while cadastrar == \"SIM\":\n",
        "  # ...\n",
        "  cadastrar = input(\"Digite 'SIM' para cadastrar outro funcionário: \").upper()\n",
        "\n",
        "print(\"Cadastro Finalizado com Sucesso!\")"
      ],
      "metadata": {
        "id": "0CwNLDmOHZRN"
      },
      "execution_count": null,
      "outputs": []
    },
    {
      "cell_type": "code",
      "source": [
        "# Exibir\n",
        "while True:\n",
        "  opcao = int(input(\"\"\"\n",
        "  Digite o que deseja fazer:\n",
        "  [1] - Exibir todos os funcionários\n",
        "  [2] - Buscar um funcionário pelo nome\n",
        "  [3] - Atualizar o cargo de um funcionário\n",
        "  [4] - Remover um funcionário pelo nome\n",
        "  [0] - Sair\n",
        "  \"\"\"))\n",
        "\n",
        "  if opcao == 1:\n",
        "    print(\"-\" *20)\n",
        "  elif opcao == 2:\n",
        "    nome = input(\"Digite o nome do funcionário: \")\n",
        "  elif opcao == 3:\n",
        "    nome = input(\"Digite o nome do funcionário: \")\n",
        "  elif opcao == 4:\n",
        "    nome = input(\"Digite o nome do funcionário: \")\n",
        "  elif opcao == 0:\n",
        "    break\n",
        "  else:\n",
        "    print(\"Digite um número válido!\")"
      ],
      "metadata": {
        "id": "eLtdoO0cMx1M"
      },
      "execution_count": null,
      "outputs": []
    },
    {
      "cell_type": "markdown",
      "source": [
        "# 🗂️ Dicionário\n",
        "Um **dicionário** em Python armazena **pares de informação**, como o nome e a idade de uma pessoa. A grande diferença para a lista é que, no dicionário, cada **informação tem um rótulo**, chamado de **chave**. Isso facilita muito na hora de encontrar e trabalhar com os dados.\n",
        "\n",
        "Em vez de usar posições numéricas como nas listas (```lista[0]```, ```lista[1]```), usamos chaves como ```\"nome\"``` ou ```\"idade\"```.\n",
        "\n",
        "\n",
        "### 🔧 Como criar um dicionário:\n",
        "Usamos ```{}``` com **pares de chave e valor**, separados por dois pontos ```:```. Exemplo:\n",
        "```python\n",
        "funcionario = {\n",
        "  \"nome\": \"Pietro\",\n",
        "  \"idade\": 23,\n",
        "  \"cargo\": \"Gerente\",\n",
        "  \"setor\": \"TI\"\n",
        "}\n",
        "```\n",
        "Neste exemplo:\n",
        "\n",
        "- ```\"nome\"```, ```\"idade\"```, ```\"cargo\"``` e ```\"setor\"``` são as **chaves**\n",
        "\n",
        "- ```\"Pietro\"```, ```23```, ```\"Gerente\"``` e ```\"TI\"``` são os **valores**\n",
        "\n"
      ],
      "metadata": {
        "id": "83VLR7ZnIfZ1"
      }
    },
    {
      "cell_type": "markdown",
      "source": [
        "**🎯 Desafio:**\n",
        "\n",
        "Crie um **dicionário** chamado `livro` com as seguintes informações, contendo seus respectivos valores:\n",
        "\n",
        "- título  \n",
        "- autor  \n",
        "- ano de publicação  \n",
        "- editora\n"
      ],
      "metadata": {
        "id": "jt78qyZ_lgpW"
      }
    },
    {
      "cell_type": "code",
      "source": [
        "# Dicionario Livro\n",
        "livro = ...\n",
        "\n",
        "print(livro)\n",
        "print(type(livro))\n",
        "print(len(livro))"
      ],
      "metadata": {
        "collapsed": true,
        "id": "3E39Hl5GJFuM"
      },
      "execution_count": null,
      "outputs": []
    },
    {
      "cell_type": "markdown",
      "source": [
        "## 📏 Métodos úteis\n",
        "\n",
        "**📌 .keys() → mostra todas as chaves do dicionário**\n",
        "\n",
        "```python\n",
        "print(livro.keys())\n",
        "```\n",
        "**📌 .values() → mostra todos os valores**\n",
        "\n",
        "```python\n",
        "print(livro.values())\n",
        "```\n",
        "**📌 .items() → mostra chave e valor juntos**\n",
        "\n",
        "```python\n",
        "print(livro.items())\n",
        "```"
      ],
      "metadata": {
        "id": "txe90TqNUzsU"
      }
    },
    {
      "cell_type": "code",
      "source": [
        "# Imprimir os Valores do Dicionário\n",
        "print(f\"Valores do Dicionário: {...}\")"
      ],
      "metadata": {
        "id": "HFg5zco1cJEP"
      },
      "execution_count": null,
      "outputs": []
    },
    {
      "cell_type": "code",
      "source": [
        "# Imprimir as Chaves do Dicionário\n",
        "print(f\"Chaves do Dicionário: {...}\")"
      ],
      "metadata": {
        "id": "omho_bNSfGWt"
      },
      "execution_count": null,
      "outputs": []
    },
    {
      "cell_type": "code",
      "source": [
        "# Imprimir as chaves e seus valores\n",
        "print(f\"Chaves com seus valores: {...}\")"
      ],
      "metadata": {
        "id": "6dVEQXY1fGng"
      },
      "execution_count": null,
      "outputs": []
    },
    {
      "cell_type": "markdown",
      "source": [
        "## 🔁 Percorrendo um dicionário\n",
        "Você pode usar um laço **```for```** para ver cada informação do dicionário."
      ],
      "metadata": {
        "id": "4b0Qp6LlmueQ"
      }
    },
    {
      "cell_type": "code",
      "source": [
        "# Percorrer as chaves\n",
        "\n"
      ],
      "metadata": {
        "id": "CtJG9Brsm3nF"
      },
      "execution_count": null,
      "outputs": []
    },
    {
      "cell_type": "code",
      "source": [
        "# Percorrer os valores\n",
        "\n"
      ],
      "metadata": {
        "id": "-fNHA3g_nEof"
      },
      "execution_count": null,
      "outputs": []
    },
    {
      "cell_type": "code",
      "source": [
        "# Percorrer as chaves com seus valores\n",
        "\n"
      ],
      "metadata": {
        "id": "LTldvDwsnI-Z"
      },
      "execution_count": null,
      "outputs": []
    },
    {
      "cell_type": "markdown",
      "source": [
        "## 🔎 Acessando valores\n",
        "Depois que você cria um dicionário, pode acessar os valores de várias formas:\n",
        "\n",
        "**📌 1. Usando colchetes** ```[]```.\n",
        "\n",
        "A forma mais direta:\n",
        "```python\n",
        "print(livro[\"titulo\"])\n",
        "```\n",
        "🟢 **Vantagem:** simples e direto.\n",
        "\n",
        "🔴 **Desvantagem:** se a chave não existir, o Python gera erro:"
      ],
      "metadata": {
        "id": "NqQZ_nJVI2kR"
      }
    },
    {
      "cell_type": "code",
      "source": [
        "# Teste\n",
        "print(livro)"
      ],
      "metadata": {
        "id": "klaIJhTAfvys"
      },
      "execution_count": null,
      "outputs": []
    },
    {
      "cell_type": "code",
      "source": [
        "# Imprimir o valor da chave 'autor'\n"
      ],
      "metadata": {
        "id": "zeAzp5WJJz3e"
      },
      "execution_count": null,
      "outputs": []
    },
    {
      "cell_type": "code",
      "source": [
        "# Imprimir o valor da chave 'genero'\n",
        "print(livro[\"genero\"])"
      ],
      "metadata": {
        "id": "2lYGd8vIfqng"
      },
      "execution_count": null,
      "outputs": []
    },
    {
      "cell_type": "markdown",
      "source": [
        "**📌 2. Usando ```.get(\"chave\")```**\n",
        "\n",
        "Mais segura. Retorna ```None``` se a chave não existir (ou outro valor, se você quiser):\n",
        "\n",
        "```python\n",
        "print(livro.get(\"titulo\"))\n",
        "print(livro.get(\"genero\")) # None\n",
        "print(livro.get(\"genero\", \"Não existe\")) # Não existe\n",
        "```\n",
        "🟢 **Vantagem:** evita erro caso a chave não exista."
      ],
      "metadata": {
        "id": "16ovcBFHJZGk"
      }
    },
    {
      "cell_type": "code",
      "source": [
        "# Teste\n",
        "print(livro)"
      ],
      "metadata": {
        "id": "UB1UBdWTMFtD"
      },
      "execution_count": null,
      "outputs": []
    },
    {
      "cell_type": "code",
      "source": [
        "# Imprimir o valor da chave 'editora' usando get\n"
      ],
      "metadata": {
        "id": "wO8gudWJfy6U"
      },
      "execution_count": null,
      "outputs": []
    },
    {
      "cell_type": "code",
      "source": [
        "# Imprimir o valor da chave 'preco' usando get\n",
        "print(livro.get(\"preco\"))"
      ],
      "metadata": {
        "id": "ZDrSRip_fzFH"
      },
      "execution_count": null,
      "outputs": []
    },
    {
      "cell_type": "markdown",
      "source": [
        "**📌 3. Usando ```.setdefault(\"chave\")```**\n",
        "\n",
        "Além de acessar o valor, **cria a chave no dicionário caso ela não exista**:\n",
        "\n",
        "```python\n",
        "livro.setdefault(\"preco\", 300.00) # Adiciona a chave 'preco' com valor 300.00\n",
        "print(livro.setdefault(\"preco\"))  # 300.00\n",
        "```\n",
        "\n",
        "🟢 **Vantagem:** útil para **definir um valor padrão** se a chave ainda não estiver no dicionário.\n",
        "\n",
        "🔴 **Desvantagem:** **altera o dicionário original** mesmo que você só queira ler."
      ],
      "metadata": {
        "id": "fvwgDDejN17v"
      }
    },
    {
      "cell_type": "code",
      "source": [
        "# Teste\n",
        "print(livro)"
      ],
      "metadata": {
        "id": "gepi-ihaPHRb"
      },
      "execution_count": null,
      "outputs": []
    },
    {
      "cell_type": "code",
      "source": [
        "# Imprimir o valor da chave 'preco' usando setdefault\n",
        "print(livro.setdefault(\"preco\"))"
      ],
      "metadata": {
        "id": "XgQgiBNIgCCM"
      },
      "execution_count": null,
      "outputs": []
    },
    {
      "cell_type": "code",
      "source": [
        "# Adicionar a chave 'genero' usando setdefault\n"
      ],
      "metadata": {
        "id": "rmp5AgBggCNm"
      },
      "execution_count": null,
      "outputs": []
    },
    {
      "cell_type": "code",
      "source": [
        "# Adicionar a chave 'preco' usando setdefault\n"
      ],
      "metadata": {
        "id": "p1GRH69lXtVR"
      },
      "execution_count": null,
      "outputs": []
    },
    {
      "cell_type": "code",
      "source": [
        "# Imprimir o valor da chave 'genero' criada, usando setdefault\n"
      ],
      "metadata": {
        "id": "2PNnkkC2gMc7"
      },
      "execution_count": null,
      "outputs": []
    },
    {
      "cell_type": "markdown",
      "source": [
        "## 🛠️ Atualizando valores\n",
        "Existem várias formas de alterar informações de um dicionário:"
      ],
      "metadata": {
        "id": "pkurJf0qSbAm"
      }
    },
    {
      "cell_type": "markdown",
      "source": [
        "**📌 1. Usando colchetes** ```[]```.\n",
        "\n",
        "A forma mais direta:\n",
        "```python\n",
        "livro[\"titulo\"] = \"Iracema\"\n",
        "livro[\"autor\"] = \"José de Alencar\"\n",
        "```\n",
        "🟢 **Vantagem:** simples e direto. Ideal quando você sabe exatamente o que quer atualizar.\n",
        "\n",
        "🔴 **Desvantagem:** se a chave não existir, ela será criada (sem aviso)."
      ],
      "metadata": {
        "id": "TbFrU_Y-Su3a"
      }
    },
    {
      "cell_type": "code",
      "source": [
        "# Teste\n",
        "print(livro)"
      ],
      "metadata": {
        "id": "u-JJ74OTTLBD"
      },
      "execution_count": null,
      "outputs": []
    },
    {
      "cell_type": "code",
      "source": [
        "# Alterar o valor da chave 'preco'\n"
      ],
      "metadata": {
        "id": "sGmS_CX-gkMZ"
      },
      "execution_count": null,
      "outputs": []
    },
    {
      "cell_type": "code",
      "source": [
        "# Alterar o valor da chave 'genero'\n"
      ],
      "metadata": {
        "id": "RTIj3iTwgmJ6"
      },
      "execution_count": null,
      "outputs": []
    },
    {
      "cell_type": "code",
      "source": [
        "# Alterar o valor da chave 'editora'\n"
      ],
      "metadata": {
        "id": "aLrTZx9QgmVT"
      },
      "execution_count": null,
      "outputs": []
    },
    {
      "cell_type": "code",
      "source": [
        "# Adicionar a chave 'paginas'\n",
        "livro[\"paginas\"] = 375"
      ],
      "metadata": {
        "id": "2PoHEfCEgmgU"
      },
      "execution_count": null,
      "outputs": []
    },
    {
      "cell_type": "markdown",
      "source": [
        "**📌 2. Usando ```.update({})```**.\n",
        "\n",
        "Atualiza o dicionário com os pares passados. _Se a chave já existir_, o valor **será substituído**. _Se não existir_, **será criada**.\n",
        "```python\n",
        "livro.update({\"ano de publicacao\" : 2025})\n",
        "```\n",
        "🟢 **Vantagem:** permite atualizar várias chaves de uma vez.\n",
        "\n",
        "🔴 **Desvantagem:** também altera o dicionário mesmo que a chave não exista (ou seja, não serve apenas para \"atualizar\", mas também \"criar\")."
      ],
      "metadata": {
        "id": "IepOoPOBTMa-"
      }
    },
    {
      "cell_type": "code",
      "source": [
        "# Teste\n",
        "print(livro)"
      ],
      "metadata": {
        "id": "bl--LJ9IUDqN"
      },
      "execution_count": null,
      "outputs": []
    },
    {
      "cell_type": "code",
      "source": [
        "# Alterar o valor da chave 'titulo' e 'autor'\n"
      ],
      "metadata": {
        "id": "s5XWs3FrhrpM"
      },
      "execution_count": null,
      "outputs": []
    },
    {
      "cell_type": "code",
      "source": [
        "# Alterar o valor da chave 'ano de publicacao' e 'idioma'\n",
        "livro.update(   {\"ano de publicacao\": 1900, \"idioma\": \"Portugues(BR)\"}   )"
      ],
      "metadata": {
        "id": "C_cI8gcHio0R"
      },
      "execution_count": null,
      "outputs": []
    },
    {
      "cell_type": "markdown",
      "source": [
        "## ❌ Remover dados do dicionário\n",
        "Existem várias formas de remover informações de um dicionário:\n",
        "\n"
      ],
      "metadata": {
        "id": "SXhof19vmJup"
      }
    },
    {
      "cell_type": "markdown",
      "source": [
        "**📌 1. Usando **```.pop(\"chave\")```****\n",
        "\n",
        "Remove a chave informada e retorna o valor.\n",
        "\n",
        "```python\n",
        "livro.pop(\"genero\")\n",
        "```\n",
        "**🟢 Vantagem:** remove a chave e ainda mostra o valor removido.\n",
        "\n",
        "**🔴 Desvantagem:** gera erro se a chave não existir (a menos que você use um valor padrão)."
      ],
      "metadata": {
        "id": "NgxqzEYrmPqw"
      }
    },
    {
      "cell_type": "code",
      "source": [
        "# Teste\n",
        "print(livro)"
      ],
      "metadata": {
        "id": "tP6Kp_O0OtG2"
      },
      "execution_count": null,
      "outputs": []
    },
    {
      "cell_type": "code",
      "source": [
        "# Remover a chave 'paginas' usando pop\n"
      ],
      "metadata": {
        "id": "UbpH8qADOwN1"
      },
      "execution_count": null,
      "outputs": []
    },
    {
      "cell_type": "code",
      "source": [
        "# Remover a chave 'idioma' usando pop\n"
      ],
      "metadata": {
        "id": "RYFqmTmNOwjR"
      },
      "execution_count": null,
      "outputs": []
    },
    {
      "cell_type": "code",
      "source": [
        "# Remover a chave 'biografia' usando pop\n",
        "livro.pop(\"biografia\")"
      ],
      "metadata": {
        "id": "bi1uqSVOPnri"
      },
      "execution_count": null,
      "outputs": []
    },
    {
      "cell_type": "markdown",
      "source": [
        "**📌 2. Usando** ```del```\n",
        "\n",
        "Remove a chave diretamente.\n",
        "\n",
        "```python\n",
        "del livro[\"editora\"]\n",
        "```\n",
        "**🟢 Vantagem:** simples e direto.\n",
        "\n",
        "**🔴 Desvantagem:** dá erro se a chave não existir."
      ],
      "metadata": {
        "id": "f_We_ebaQBn_"
      }
    },
    {
      "cell_type": "code",
      "source": [
        "# Teste\n",
        "print(livro)"
      ],
      "metadata": {
        "id": "htO6KGS_Qcwv"
      },
      "execution_count": null,
      "outputs": []
    },
    {
      "cell_type": "code",
      "source": [
        "# Remover a chave 'genero' usando del\n"
      ],
      "metadata": {
        "id": "rDIcQ4T2Qfsm"
      },
      "execution_count": null,
      "outputs": []
    },
    {
      "cell_type": "code",
      "source": [
        "# Remover a chave 'ano de publicacao'\n"
      ],
      "metadata": {
        "id": "9k2LI2QFS8Cs"
      },
      "execution_count": null,
      "outputs": []
    },
    {
      "cell_type": "code",
      "source": [
        "# Remover a chave 'biografia' usando del\n",
        "del livro[\"biografia\"]"
      ],
      "metadata": {
        "id": "N8i4vOUTQydO"
      },
      "execution_count": null,
      "outputs": []
    },
    {
      "cell_type": "markdown",
      "source": [
        "**📌 3. Usando popitem()**\n",
        "\n",
        "Remove e retorna **o último** item do dicionário.\n",
        "\n",
        "```python\n",
        "livro.popitem()\n",
        "```\n",
        "**🟢 Vantagem:** fácil de usar se quiser remover o último item adicionado.\n",
        "\n",
        "**🔴 Desvantagem:** sem controle de qual chave será removida."
      ],
      "metadata": {
        "id": "LaPkd1-4TJ2v"
      }
    },
    {
      "cell_type": "code",
      "source": [
        "# Teste\n",
        "print(livro)"
      ],
      "metadata": {
        "id": "NqzGIAKhTtPZ"
      },
      "execution_count": null,
      "outputs": []
    },
    {
      "cell_type": "code",
      "source": [
        "# IMPRIMIR a CHAVE e o VALOR do ultimo item do dicionario\n",
        "print(...)"
      ],
      "metadata": {
        "id": "eeEFJOdXTvHY"
      },
      "execution_count": null,
      "outputs": []
    },
    {
      "cell_type": "code",
      "source": [
        "# Remover o ultimo item do dicionario\n"
      ],
      "metadata": {
        "id": "t9odX8HzkQ2t"
      },
      "execution_count": null,
      "outputs": []
    },
    {
      "cell_type": "markdown",
      "source": [
        "**📌 4. Usando** ```.clear()```\n",
        "\n",
        "Remove **todos** os itens do dicionário. **Ele fica vazio.**\n",
        "\n",
        "```python\n",
        "livro.clear()\n",
        "```\n",
        "**🟢 Vantagem:** limpa tudo de uma vez.\n",
        "\n",
        "**🔴 Desvantagem:** apaga todos os dados!"
      ],
      "metadata": {
        "id": "WNeXrgq5le6L"
      }
    },
    {
      "cell_type": "code",
      "source": [
        "# Teste\n",
        "print(livro)"
      ],
      "metadata": {
        "id": "0eBEyNAcl2M9"
      },
      "execution_count": null,
      "outputs": []
    },
    {
      "cell_type": "code",
      "source": [
        "# Apagar todos os itens do dicionário\n",
        "livro.clear()"
      ],
      "metadata": {
        "id": "d7sMZd4ql43u"
      },
      "execution_count": null,
      "outputs": []
    },
    {
      "cell_type": "markdown",
      "source": [
        "## 🧩 Desafio:\n",
        "**🎯 Crie um sistema simples para cadastrar alunos.**\n",
        "\n",
        "Cada aluno deve ser um **dicionário** e precisa conter:\n",
        "\n",
        "- Nome (**string**)\n",
        "- Idade (**inteiro**)\n",
        "- Nota (**lista de 3 números float**, representando notas de provas ou trabalhos)\n",
        "\n",
        "Armazene os alunos em uma lista.\n",
        "\n",
        "```python\n",
        "sistema = [\n",
        "    {\n",
        "      'nome': 'João',\n",
        "      'idade': 16,\n",
        "      'nota': [5.7, 8.4, 6.6]\n",
        "    }, ...\n",
        "  ]\n",
        "```\n",
        "\n",
        "### Etapas:\n",
        "1. Cadastre **3 alunos** com seus respectivos dados.\n",
        "\n",
        "2. Depois, faça:\n",
        "  - ✅ Exibir **todos os alunos** com seus dados completos (nome, idade, notas).\n",
        "\n",
        "  - ✅ Buscar **um aluno pelo nome** e mostrar suas informações.\n",
        "\n",
        "  - ✅ Calcular e **mostrar a média** das notas de um aluno buscado pelo nome.\n",
        "\n",
        "  - ✅ **Remover um aluno** pelo nome."
      ],
      "metadata": {
        "id": "eUBjaDnPsRME"
      }
    },
    {
      "cell_type": "code",
      "source": [
        "sistema = []"
      ],
      "metadata": {
        "id": "Eu6arGShyOql"
      },
      "execution_count": null,
      "outputs": []
    },
    {
      "cell_type": "code",
      "source": [
        "# Cadastro\n"
      ],
      "metadata": {
        "id": "Obm7hblUyPkw"
      },
      "execution_count": null,
      "outputs": []
    },
    {
      "cell_type": "code",
      "source": [
        "# Exibir\n"
      ],
      "metadata": {
        "id": "y0pzbJKryQal"
      },
      "execution_count": null,
      "outputs": []
    },
    {
      "cell_type": "markdown",
      "source": [
        "# 📦 Tuplas no Python\n",
        "## 🧠 O que são Tuplas?\n",
        "- Uma **tupla** é **como uma lista**, mas **imutável**.\n",
        "\n",
        "- Isso significa que **não é possível alterar, adicionar ou remover elementos** depois de criada.\n",
        "\n",
        "- Usada quando você quer **garantir que os dados não mudem.**\n",
        "\n",
        "## 🎯 Por que usar Tuplas?\n",
        "- **Segurança dos dados:** evita alterações acidentais.\n",
        "\n",
        "- **Desempenho:** são mais rápidas que listas.\n",
        "\n",
        "\n",
        "## ✍️ Criando Tuplas\n",
        "\n",
        "- **Criando tupla simples**:\n",
        "```python\n",
        "numeros = (1, 2, 3)\n",
        "```\n",
        "\n",
        "- **Misturando tipos**:\n",
        "```python\n",
        "dados = (\"Pietro\", 23, 1.75, True)\n",
        "```\n",
        "\n",
        "- **Tupla de um único elemento** (```atenção à vírgula```):\n",
        "```python\n",
        "tupla_unica = (5,)\n",
        "```\n",
        "\n",
        "- **Tupla Vazia:**\n",
        "```python\n",
        "tupla_vazia = ()\n",
        "```"
      ],
      "metadata": {
        "id": "rRhIM2lB0ESb"
      }
    },
    {
      "cell_type": "code",
      "source": [
        "# Exemplo: vazia\n",
        "tupla = ...\n",
        "\n",
        "# tupla de frutas: \"Banana\", \"Pêra\", \"Maça\"\n",
        "frutas = ...\n",
        "\n",
        "# tupla de números: 1, 4, 3, 2, 5\n",
        "numeros = ...\n",
        "\n",
        "# tupla mista: \"Hello\", 3, 3.14, False\n",
        "mista = ...\n",
        "\n",
        "print('Tupla:', frutas)\n",
        "print('Tipo:', type(frutas))\n",
        "print('Tamanho:', len(frutas))"
      ],
      "metadata": {
        "id": "BI1juobs21J7"
      },
      "execution_count": null,
      "outputs": []
    },
    {
      "cell_type": "markdown",
      "source": [
        "## 🎯 Acesso por índice (indexação)\n",
        "- Usamos índices **como nas listas.**\n",
        "\n",
        "📌 Os índices **começam em 0**. Índices **negativos contam de trás para frente**.\n",
        "\n",
        "```python\n",
        "frutas = (\"maçã\", \"banana\", \"uva\")\n",
        "\n",
        "print(frutas[0])   # maçã\n",
        "print(frutas[-1])  # uva\n",
        "```"
      ],
      "metadata": {
        "id": "IRtWo7-0393Z"
      }
    },
    {
      "cell_type": "code",
      "source": [
        "# Nossa tentativa\n",
        "aluno = (\"João\", \"Python Básico\", \"DIGICAD\")\n",
        "\n",
        "# Mostre o nome do aluno\n",
        "print(...)\n",
        "\n",
        "# Mostre a escola do aluno\n",
        "print(...)"
      ],
      "metadata": {
        "id": "6aVo7zbA5NHp"
      },
      "execution_count": null,
      "outputs": []
    },
    {
      "cell_type": "markdown",
      "source": [
        "## 🔁 Percorrendo a tupla\n",
        "Como vimos, podemos usar o **```for```** quando queremos **iterar sobre uma coleção** (lista, string, dicionario, etc)."
      ],
      "metadata": {
        "id": "0NVmOLBo5NgV"
      }
    },
    {
      "cell_type": "code",
      "source": [
        "# Percorrendo item por item\n",
        "for caracteristica in aluno:\n",
        "  print(...)"
      ],
      "metadata": {
        "id": "ltIOOC9_5hef"
      },
      "execution_count": null,
      "outputs": []
    },
    {
      "cell_type": "code",
      "source": [
        "# Percorrendo pelo índice\n",
        "for indice in range(len(aluno)):\n",
        "  print(...)"
      ],
      "metadata": {
        "id": "83wA89rs6mf1"
      },
      "execution_count": null,
      "outputs": []
    },
    {
      "cell_type": "markdown",
      "source": [
        "## 🔹 Métodos das Tuplas\n",
        "As tuplas têm poucos métodos (porque não mudam):\n",
        "\n",
        "- ``.count(valor)``: Conta quantas vezes o valor aparece.\n",
        "\n",
        "- ``.index(valor)``: Mostra o índice **da primeira** ocorrência.\n",
        "\n",
        "```python\n",
        "numeros = (1, 2, 3, 2, 3, 2)\n",
        "\n",
        "print(numeros.count(2))  # 3\n",
        "print(numeros.index(3))  # 2\n",
        "```"
      ],
      "metadata": {
        "id": "oUiVP4QYIf0U"
      }
    },
    {
      "cell_type": "code",
      "source": [
        "# Nossa tentativa\n",
        "tupla = (10, 20, 20, 50, 40, 30, 40, 10, 10)\n",
        "\n",
        "# Mostre o índice do valor 20\n",
        "print(...)\n",
        "\n",
        "# Mostre quantas vezes o valor 40 aparece\n",
        "print(...)"
      ],
      "metadata": {
        "id": "XC22ejjjJY7T"
      },
      "execution_count": null,
      "outputs": []
    },
    {
      "cell_type": "markdown",
      "source": [
        "## 📏 Funções úteis com tuplas\n",
        "```python\n",
        "numeros = (5, 2, 9, 1)\n",
        "\n",
        "print(len(numeros))     # tamanho da tupla\n",
        "print(sum(numeros))     # soma dos elementos\n",
        "print(max(numeros))     # maior valor\n",
        "print(min(numeros))     # menor valor\n",
        "```"
      ],
      "metadata": {
        "id": "zUpNX7kdN5kW"
      }
    },
    {
      "cell_type": "markdown",
      "source": [
        "**🧩 Desafio 1: Verificar se um item está na tupla**\n",
        "\n",
        "- Crie uma tupla chamada **``numeros``** com os números 2, 4, 6, 8, 10.\n",
        "\n",
        "- Peça para o usuário digitar um número inteiro e verifique se esse número está na tupla.\n",
        "\n",
        "- Imprima **_“Número encontrado!”_** ou **_“Número não encontrado!”_** de acordo com o resultado."
      ],
      "metadata": {
        "id": "KOeEnPi6OFKl"
      }
    },
    {
      "cell_type": "code",
      "source": [
        "numeros = (2, 4, 6, 8, 10)\n",
        "\n",
        "# ..."
      ],
      "metadata": {
        "id": "XXRt8bhpOrCR"
      },
      "execution_count": null,
      "outputs": []
    },
    {
      "cell_type": "markdown",
      "source": [
        "**🧩 Desafio 2: Média e Estatísticas Simples com Tuplas**\n",
        "\n",
        "Crie uma tupla chamada **``notas``** com os números **``7.5``** , **``4.8``** , **``9.2``** , **``3.5``** , **``6.3``**\n",
        "\n",
        "Mostre:\n",
        "\n",
        "- A média das notas\n",
        "\n",
        "- A maior nota\n",
        "\n",
        "- A menor nota"
      ],
      "metadata": {
        "id": "_ejc0zOfUIot"
      }
    },
    {
      "cell_type": "code",
      "source": [
        "notas = ...\n",
        "\n",
        "# ..."
      ],
      "metadata": {
        "id": "pBoys0eZU44F"
      },
      "execution_count": null,
      "outputs": []
    },
    {
      "cell_type": "markdown",
      "source": [
        "# 🎬 Desafio\n",
        "Você foi contratado para desenvolver um sistema simples para **gerenciar os filmes** inscritos em um Festival Internacional de Cinema.\n",
        "\n",
        "Cada filme terá as seguintes informações:\n",
        "\n",
        "- Título (**str**).\n",
        "\n",
        "- Ano de lançamento (**int**).\n",
        "\n",
        "- Gêneros (**tuple**) — pode conter mais de um, como (\"Drama\", \"Suspense\").\n",
        "\n",
        "- Duração (**int**) — em minutos.\n",
        "\n",
        "\n",
        "Esses dados **devem ser armazenados em uma lista**, onde **cada elemento será um dicionário com essas informações**.\n",
        "\n",
        "No final, o programa deve:\n",
        "\n",
        "- Mostrar todos os filmes cadastrados.\n",
        "\n",
        "- Permitir que o usuário pesquise um filme pelo título.\n",
        "\n",
        "- Mostrar a média de duração dos filmes cadastrados."
      ],
      "metadata": {
        "id": "K5CbpL8DWxby"
      }
    },
    {
      "cell_type": "code",
      "source": [
        "# ..."
      ],
      "metadata": {
        "id": "2b2v62i_d2hG"
      },
      "execution_count": null,
      "outputs": []
    }
  ]
}