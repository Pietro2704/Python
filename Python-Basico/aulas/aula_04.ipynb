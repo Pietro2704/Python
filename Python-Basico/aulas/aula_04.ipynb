{
  "nbformat": 4,
  "nbformat_minor": 0,
  "metadata": {
    "colab": {
      "provenance": []
    },
    "kernelspec": {
      "name": "python3",
      "display_name": "Python 3"
    },
    "language_info": {
      "name": "python"
    }
  },
  "cells": [
    {
      "cell_type": "code",
      "source": [
        "def preencherInventario(lista):\n",
        "  resp=\"S\"\n",
        "  while resp == \"S\":\n",
        "    equipamento=[\n",
        "        input(\"Equipamento: \"),\n",
        "        float(input(\"Valor: \")),\n",
        "        int(input(\"Número Serial: \")),\n",
        "        input(\"Departamento: \")\n",
        "        ]\n",
        "\n",
        "    lista.append(equipamento)\n",
        "    resp = input(\"Digite \\\"S\\\" para continuar: \").upper()\n",
        "\n",
        "def exibir(inventario):\n",
        "  for equipamento in inventario:\n",
        "    print(\"Nome.........: \", equipamento[0])\n",
        "    print(\"Valor........: \", equipamento[1])\n",
        "    print(\"Serial.......: \", equipamento[2])\n",
        "    print(\"Departamento.: \", equipamento[3])\n",
        "    print(\"\\n\")\n",
        "\n",
        "def localizarPorNome(inventario):\n",
        "  busca = input(\"Digite o nome do equipamento: \")\n",
        "  for equipamento in inventario:\n",
        "    if equipamento[0] == busca:\n",
        "      print(f\"Valor: {equipamento[1]}\")\n",
        "\n",
        "def depreciarPorNome(inventario, porcentagem):\n",
        "  busca = input(\"Digite o nome do equipamento: \")\n",
        "  for equipamento in inventario:\n",
        "    if equipamento[0] == busca:\n",
        "      print(f\"Valor Antigo {equipamento[1]}\")\n",
        "      equipamento[1] = equipamento[1] - (equipamento[1] * (porcentagem / 100))\n",
        "      print(f\"Valor Novo {equipamento[1]}\")\n",
        "\n",
        "def atualizarInventario(inventario):\n",
        "  busca = input(\"Digite um equipamento: \")\n",
        "  for equipamento in inventario:\n",
        "    if busca == equipamento[0]:\n",
        "      departamento = input(\"Digite o nove departamento: \")\n",
        "      equipamento[3] = departamento\n"
      ],
      "metadata": {
        "id": "R-BnSYEq57Z5"
      },
      "execution_count": null,
      "outputs": []
    },
    {
      "cell_type": "code",
      "source": [
        "exibir(inventario)"
      ],
      "metadata": {
        "id": "Iv6KhThLDRx2"
      },
      "execution_count": null,
      "outputs": []
    },
    {
      "cell_type": "markdown",
      "source": [
        "# ☔ Desafio sobre a aula passada ☔\n",
        "\n",
        "### Utilizando Funções !!!\n",
        "\n",
        "\n",
        "__Atualizar Departamento:__ Permitir que o usuário atualize o departamento de um equipamento específico com base no nome.\n",
        "\n",
        "\n",
        "\n",
        "\n",
        "\n",
        "\n",
        "\n",
        "\n"
      ],
      "metadata": {
        "id": "ZYD55H2THHkn"
      }
    },
    {
      "cell_type": "markdown",
      "source": [
        "```python\n",
        "inventario = []\n",
        "\n",
        "resposta = \"S\"\n",
        "while resposta == \"S\":\n",
        "    equipamento = [\n",
        "        input(\"Equipamento: \"),\n",
        "        float(input(\"Valor: \")),\n",
        "        int(input(\"Número Serial: \")),\n",
        "        input(\"Departamento: \")\n",
        "    ]\n",
        "    inventario.append(equipamento)\n",
        "\n",
        "    resposta = input(\"Digite <S> para continuar:  \").upper()\n",
        "\n",
        "\n",
        "opcao = int(input(\"\"\"\n",
        "Digite oq deseja fazer:\n",
        "[1] - Listar Equipamentos\n",
        "[2] - Atualizar Departamento\n",
        "\"\"\"))\n",
        "\n",
        "if opcao == 1:\n",
        "    listarEquipamentos(inventario)\n",
        "elif opcao == 2:\n",
        "    atualizarDepartamento(inventario)        \n",
        "else:\n",
        "    print(\"Coloque um valor válido !!\")\n",
        "```"
      ],
      "metadata": {
        "id": "EOMsLutDKDhh"
      }
    },
    {
      "cell_type": "markdown",
      "source": [
        "# Dicionário\n",
        "\n",
        "Um dicionário em Python é uma estrutura de dados que armazena pares de chave-valor. É muito útil quando você deseja associar valores a chaves únicas, permitindo uma recuperação rápida e eficiente dos dados.\n",
        "\n",
        "__Exemplo:__\n",
        "\n",
        "```python\n",
        "dados_pessoa = {\n",
        "    \"nome\": \"João\",\n",
        "    \"idade\": 25,\n",
        "    \"cidade\": \"São Paulo\"\n",
        "}\n",
        "\n",
        "```"
      ],
      "metadata": {
        "id": "83VLR7ZnIfZ1"
      }
    },
    {
      "cell_type": "code",
      "source": [
        "# Colocando em prática\n",
        "\n",
        "dados_pessoa = {\n",
        "    'Nome': \"João\",\n",
        "    'Idade': 25,\n",
        "    'Cidade': \"São Paulo\"\n",
        "}\n",
        "\n",
        "print(dados_pessoa.get('Cidade'))"
      ],
      "metadata": {
        "collapsed": true,
        "id": "3E39Hl5GJFuM"
      },
      "execution_count": null,
      "outputs": []
    },
    {
      "cell_type": "markdown",
      "source": [
        "utilizamos o seu método get(), que recebe um dado e vai pesquisá-lo\n",
        "entre as chaves que existem dentro do dicionário, caso ele encontre, retornará os dados relativos à chave encontrada.\n",
        "\n",
        "Agora, vamos supor uma determinada situação onde temos que controlar o acesso dos funcionarios em uma determinada empresa por questão de segurança"
      ],
      "metadata": {
        "id": "16ovcBFHJZGk"
      }
    },
    {
      "cell_type": "code",
      "source": [
        "# Controle de funcionario\n",
        "\n",
        "acessos_funcionarios = {\n",
        "    \"Cleitin\": [\"Andar01\", \"Vendas\", \"2024-09-01\"],\n",
        "    \"Robson\": [\"Andar02\", \"Financeiro\", \"2024-09-01\"]\n",
        "}\n",
        "\n",
        "# Add mais funcionario\n",
        "acessos_funcionarios[\"Julia\"] = [\"Andar03\", \"RH\", \"2024-09-01\"]\n",
        "print(acessos_funcionarios)"
      ],
      "metadata": {
        "id": "o8gz9JfkJmsD"
      },
      "execution_count": null,
      "outputs": []
    },
    {
      "cell_type": "markdown",
      "source": [
        "Um dicionário chamado acessos_funcionarios foi criado, suas chaves são os nomes dos funcionarios e seus valores são:\n",
        "\n",
        " [\"andar que trabalha\",  \"Qual o setor\",   \"Ultimo acesso\"]\n",
        "\n",
        " Sabendo disso, vamos criar um programa que irá ter um dicionario chamado usuarios e irá nos perguntar o que deseja fazer: inserir, pesquisar, excluir, listar ou sair."
      ],
      "metadata": {
        "id": "DTUa-UW9Nai8"
      }
    },
    {
      "cell_type": "code",
      "source": [
        "usuarios = {}\n",
        "while True:\n",
        "  op = perguntar()\n",
        "  if op == 1:\n",
        "    inserir(usuarios)\n",
        "  elif op == 2:\n",
        "    print(pesquisar(usuarios))\n",
        "  elif op == 3:\n",
        "    excluir(usuarios)\n",
        "  elif op == 4:\n",
        "    listar(usuarios)\n",
        "  elif op == 5:\n",
        "    atualizar(usuarios)\n",
        "  elif op == 6:\n",
        "    break\n",
        "  else:\n",
        "    print(\"Não entendi!\")"
      ],
      "metadata": {
        "id": "sLqV7CvvHXWj"
      },
      "execution_count": null,
      "outputs": []
    },
    {
      "cell_type": "code",
      "source": [
        "usuarios = {}\n",
        "opcao = input(\"\"\"\n",
        "O que deseja realizar?\n",
        "<I> - Para Inserir um usuário\n",
        "<P> - Para Pesquisar um usuário\n",
        "<E> - Para Excluir um usuário\n",
        "<L> - Para Listar um usuário:\n",
        "\"\"\").upper()\n",
        "\n",
        "while opcao == \"I\" or opcao == \"P\" or opcao == \"E\" or opcao == \"L\":\n",
        "  if opcao==\"I\":\n",
        "\n",
        "    nome = input(\"Digite o nome: \").upper()\n",
        "    andar = input(\"Digite o andar: \").upper()\n",
        "    setor = input(\"Digite o setor: \").upper()\n",
        "    data = input(\"Digite a data de acesso: \")\n",
        "\n",
        "    usuarios[nome]=[andar, setor, data]\n",
        "\n",
        "    opcao = input(\"\"\"\n",
        "    O que deseja realizar?\\n\n",
        "    <I> - Para Inserir um usuário\\n\n",
        "    <P> - Para Pesquisar um usuário\\n\n",
        "    <E> - Para Excluir um usuário\\n\n",
        "    <L> - Para Listar um usuário:\n",
        "    \"\"\").upper()\n",
        "\n"
      ],
      "metadata": {
        "id": "Tu0Qycw3OcAS"
      },
      "execution_count": null,
      "outputs": []
    },
    {
      "cell_type": "markdown",
      "source": [
        "Perceba que o codigo esta horroroso....\n",
        "\n",
        "# Exercicio:\n",
        "Crie funcoes para deixar o código mais limpo, como:\n",
        "- Perguntar\n",
        "- Inserir\n",
        "- Pesquisar\n",
        "- Excluir\n",
        "- Listar"
      ],
      "metadata": {
        "id": "MX5VqbrpTj8T"
      }
    },
    {
      "cell_type": "code",
      "source": [
        "def inserir(dicionario):\n",
        "  nome = input(\"Digite seu nome: \")\n",
        "  andar = input(\"Digite seu andar: \")\n",
        "  setor = input(\"Digite seu setor: \")\n",
        "  data = input(\"Digite a data do seu ultimo acesso: \")\n",
        "  dicionario[nome] = [andar, setor, data]\n",
        "  print(\"Adicionado com sucesso!\")\n",
        "\n",
        "def perguntar():\n",
        "  op = int(input(\"\"\"\n",
        "  Digite o que deseja fazer:\n",
        "  [1] - Inserir\n",
        "  [2] - Pesquisar\n",
        "  [3] - Excluir\n",
        "  [4] - Listar\n",
        "  [5] - Atualizar\n",
        "  [6] - Sair\n",
        "  \"\"\"))\n",
        "  return op\n",
        "\n",
        "def pesquisar(dicionario):\n",
        "  pesq = input(\"Digite o nome de quem deseja pesquisar: \")\n",
        "  return dicionario.get(pesq)\n",
        "\n",
        "def excluir(dicionario):\n",
        "  chave = input(\"Digite uma chave a ser excluída: \")\n",
        "  dicionario.pop(chave)\n",
        "\n",
        "def listar(dicionario):\n",
        "  for chave, valor in dicionario.items():\n",
        "    print(f'{chave}: {valor}')\n",
        "\n",
        "def atualizar(dicionario):\n",
        "  # perguntar quem ele quer atualizar\n",
        "  nome = input(\"Digite uma chave: \")\n",
        "  for chave in dicionario.keys():\n",
        "    # verificar se chave existe\n",
        "    if chave == nome:\n",
        "      # Modificar\n",
        "      andar = input(\"Digite seu andar: \")\n",
        "      setor = input(\"Digite seu setor: \")\n",
        "      data = input(\"Digite a data da sua ultima visita\")\n",
        "      dicionario.update({\n",
        "          nome: [andar, setor, data]\n",
        "      })"
      ],
      "metadata": {
        "id": "rYjibst7PEcz"
      },
      "execution_count": null,
      "outputs": []
    },
    {
      "cell_type": "code",
      "source": [
        "# Deixe o código mais limpo usando funções\n",
        "\n",
        "def perguntar():\n",
        "  resposta = input(\n",
        "    \"\"\"\n",
        "    O que deseja realizar?\n",
        "    <I> - Para Inserir um usuário\n",
        "    <P> - Para Pesquisar um usuário\n",
        "    <E> - Para Excluir um usuário\n",
        "    <L> - Para Listar um usuário:\n",
        "    \"\"\"\n",
        "    ).upper()\n",
        "  return resposta\n",
        "\n",
        "\n",
        "\n",
        "def inserir(dicionario):\n",
        "  nome = input(\"Digite o nome: \").upper()\n",
        "  andar = input(\"Digite o andar: \").upper()\n",
        "  setor = input(\"Digite o setor: \").upper()\n",
        "  data = input(\"Digite a data de acesso: \")\n",
        "  dicionario[nome]=[andar, setor, data]\n",
        "\n",
        "\n",
        "\n",
        "def pesquisar(dicionario, nome):\n",
        "  nome = nome.upper()\n",
        "  return dicionario.get(nome)\n",
        "\n",
        "\n",
        "def excluir(dicionario, nome):\n",
        "  nome = nome.upper()\n",
        "  if nome in dicionario:\n",
        "    dicionario[nome].pop()\n",
        "  else:\n",
        "    print(\"Nome não encontrado\")\n",
        "  return dicionario.pop(nome)\n",
        "\n",
        "\n",
        "\n",
        "def listar(dicionario):\n",
        "  for chave, valor in dicionario.items():\n",
        "    print(f\"Nome: {chave}, Valor: {valor}\")\n",
        "\n",
        "\n",
        "listar(acessos_funcionarios)\n",
        "\n"
      ],
      "metadata": {
        "id": "OSh3LQ7YQT5l"
      },
      "execution_count": null,
      "outputs": []
    },
    {
      "cell_type": "code",
      "source": [
        "# Agora o código ficou mais limpo\n",
        "usuarios = {}\n",
        "resp = perguntar()\n",
        "\n",
        "while resp == \"I\" or resp == \"P\" or resp == \"E\" or resp == \"L\":\n",
        "  if resp == \"I\":\n",
        "    inserir(usuarios)\n",
        "\n",
        "  elif resp == \"P\":\n",
        "    nome = input(\"Digite o nome: \").upper()\n",
        "    print(pesquisar(usuarios, nome))\n",
        "\n",
        "  elif resp == \"E\":\n",
        "    nome = input(\"Digite o nome: \").upper()\n",
        "    print(excluir(usuarios, nome))\n",
        "\n",
        "  elif resp == \"L\":\n",
        "    listar(usuarios)\n",
        "\n",
        "  resp = perguntar()\n"
      ],
      "metadata": {
        "id": "2iwrYoWiQ-yv"
      },
      "execution_count": null,
      "outputs": []
    },
    {
      "cell_type": "code",
      "source": [
        "pessoa = {\n",
        "    'nome': 'Pietro',\n",
        "    'Idade': 23,\n",
        "    'Cidade': \"São Paulo\"\n",
        "}\n",
        "\n",
        "print(pessoa.items())\n",
        "\n",
        "# Vai ser a função Listar\n",
        "# for chave, valor in pessoa.items():\n",
        "#   print(f\"Chave: {chave}\")\n",
        "#   print(f\"Valor: {valor}\")\n",
        "#   print(\"\")"
      ],
      "metadata": {
        "id": "0fgCtBNEQqUR"
      },
      "execution_count": null,
      "outputs": []
    },
    {
      "cell_type": "code",
      "source": [
        "dicionario_2 = {\n",
        "    \"Cidade\": \"São Bernardo do Campo\",\n",
        "    \"Bairro\": \"Dos Casas\"\n",
        "}\n",
        "\n",
        "print(pessoa.setdefault(\"País\", \"Brasil\"))\n",
        "pessoa"
      ],
      "metadata": {
        "id": "wVqOIArkSKvl"
      },
      "execution_count": null,
      "outputs": []
    },
    {
      "cell_type": "markdown",
      "source": [
        "Os dicionários possuem alguns métodos que podem ser úteis em outras\n",
        "situações do dia a dia, vamos explorar alguns deles:\n",
        "- __items():__ Retorna uma view dos pares (chave, valor) do dicionário.\n",
        "\n",
        "- __values():__ Retorna uma view de todos os __VALORES__ no dicionário.\n",
        "\n",
        "- __keys():__ Retorna uma view de todas as __CHAVES__ no dicionário.\n",
        "\n",
        "- __get(key):__ Retorna o valor para a chave especificada.\n",
        "\n",
        "- __pop(key):__ Remove a chave especificada do dicionário e retorna o valor associado.\n",
        "\n",
        "- __popitem():__ Remove e retorna o ultimo par (chave, valor) do dicionário.\n",
        "\n",
        "- __clear():__ Remove todos os itens do dicionário.\n",
        "\n",
        "- __update({other}):__ Atualiza o dicionário com pares (chave, valor) de outro dicionário ou de um iterável de pares chave-valor. Se a chave já existir, o valor será substituído.\n",
        "\n",
        "- __setdefault(key, value):__ Se a chave existir no dicionário, retorna o valor correspondente. Se não, insere a chave com o valor padrão e retorna esse valor.\n",
        "\n",
        "- __copy():__ Retorna uma cópia rasa do dicionário."
      ],
      "metadata": {
        "id": "olhCcpmqVM8c"
      }
    },
    {
      "cell_type": "code",
      "source": [
        "dicionario_1 = {\n",
        "    \"a\": 1,\n",
        "    \"b\": 2,\n",
        "    \"c\": 3\n",
        "}\n",
        "\n",
        "print(dicionario_1.update({}))\n",
        "print(\"nosso dicionario: \", dicionario_1)\n",
        "\n"
      ],
      "metadata": {
        "id": "LD50A1_0iJoy"
      },
      "execution_count": null,
      "outputs": []
    },
    {
      "cell_type": "code",
      "source": [
        "# Dicionario Raso (Copy)\n",
        "\n",
        "dicionario_1 = {\n",
        "    \"a\": 1,\n",
        "    \"b\": 2,\n",
        "    \"c\": 3\n",
        "}\n",
        "\n",
        "copia = dicionario_1.copy()\n",
        "\n",
        "copia[\"d\"] = 4\n",
        "\n",
        "print(dicionario_1)\n",
        "print(copia)"
      ],
      "metadata": {
        "id": "jYqyAFAzQ4-b"
      },
      "execution_count": null,
      "outputs": []
    },
    {
      "cell_type": "code",
      "source": [
        "# Dicionario Profundo (Copy)\n",
        "\n",
        "dicionario_2 = {\n",
        "    'a': [1, 2, 3],\n",
        "    'b': [4, 5, 6],\n",
        "    'c': [7, 8, 9]\n",
        "}\n",
        "\n",
        "copia = dicionario_2.copy()\n",
        "\n",
        "copia['c'].append(10)\n",
        "\n",
        "print(dicionario_2)\n",
        "print(copia)"
      ],
      "metadata": {
        "id": "f4L10EaZS8tV"
      },
      "execution_count": null,
      "outputs": []
    },
    {
      "cell_type": "code",
      "source": [
        "# Setdefault\n",
        "\n",
        "pessoa = {\n",
        "    \"nome\": \"João\",\n",
        "    \"idade\": 25,\n",
        "    \"cidade\": \"São Paulo\"\n",
        "}\n",
        "\n",
        "\n",
        "print(pessoa.get(\"nome\")) # João\n",
        "\n",
        "pessoa.update({\"bairro\": \"Cerqueira César\"}) # add no dicionario o bairro com o valor cerqueira cesar\n",
        "\n",
        "print(pessoa.setdefault(\"nome\")) # João\n",
        "print(pessoa.setdefault(\"bairro\", \"Santa catarina\")) # Cerqueira César\n",
        "print(pessoa)\n"
      ],
      "metadata": {
        "id": "QAjmVDf-ThSl"
      },
      "execution_count": null,
      "outputs": []
    },
    {
      "cell_type": "markdown",
      "source": [
        "# Tuplas\n",
        "\n",
        "As tuplas são um tipo de estrutura de dados em Python que, assim como as listas, podem armazenar múltiplos itens.\n",
        "\n",
        "Uma característica única das tuplas é o fato de elas não aceitarem alteração sobre os dados que já estiverem nelas inseridos. Além disso, as tuplas sempre são representadas com seus dados entre parênteses. Então, podemos sintetizar que:\n",
        "- listas envolvem os dados entre colchetes;\n",
        "- dicionários entre chaves;\n",
        "- tuplas entre parênteses.\n",
        "\n",
        "## Tupla Simples\n",
        "```python\n",
        "tupla = (1,2,3)\n",
        "```\n",
        "\n",
        "## Tupla com Múltiplos Tipos:\n",
        "```python\n",
        "tupla_mista = (1, \"Hello\", 3.14, True)\n",
        "```\n",
        "\n",
        "## Tupla Vazia:\n",
        "```python\n",
        "tupla_vazia = ()\n",
        "```\n",
        "\n",
        "## Tupla de Um Único Elemento\n",
        "```python\n",
        "tupla_unica = (1,)\n",
        "```"
      ],
      "metadata": {
        "id": "zx1C5WgvXcKY"
      }
    },
    {
      "cell_type": "code",
      "source": [
        "# Exemplo Esdrúxulo\n",
        "\n",
        "dic = {\n",
        "    [\"nome\", \"idade\"] : [\"Pietro\", 22]\n",
        "}\n",
        "\n",
        "print(dic)"
      ],
      "metadata": {
        "id": "SiauEp3Jb3sX"
      },
      "execution_count": null,
      "outputs": []
    },
    {
      "cell_type": "code",
      "source": [
        "# Exemplo Bom\n",
        "\n",
        "dic = {\n",
        "    (\"nome\", \"idade\") : [\"Pietro\", 22]\n",
        "}\n",
        "\n",
        "print(dic.get((\"nome\", \"idade\"))) # [\"Pietro\", 22]\n",
        "print(dic.keys()) # [(\"nome\", \"idade\")]\n",
        "print(dic.values()) # [[\"Pietro\", 22]]\n",
        "print(dic.items()) # [(('nome', 'idade'), ['Pietro', 22])]\n",
        "dic.update({\n",
        "    (\"nome\", \"altura\") : [\"Enzo\", 1.75]\n",
        "})\n",
        "dic.pop((\"nome\", \"idade\"))\n",
        "print(dic) # {('nome', 'altura'): ['Enzo', 1.75]}"
      ],
      "metadata": {
        "id": "F2xCPCXXcOkc"
      },
      "execution_count": null,
      "outputs": []
    },
    {
      "cell_type": "code",
      "source": [
        "# Exemplo\n",
        "\n",
        "coordenadas = {}\n",
        "resp = \"S\"\n",
        "\n",
        "while resp == \"S\":\n",
        "\n",
        "    coordenadas[(\n",
        "        input(\"Digite a latitude: \"),\n",
        "        input(\"Digite a longitude: \")\n",
        "    )] = input(\"Digite o nome da cidade: \")\n",
        "\n",
        "    resp = input(\"Digite <S> para continuar: \").upper()"
      ],
      "metadata": {
        "id": "GeHlRQHfaaf5"
      },
      "execution_count": null,
      "outputs": []
    },
    {
      "cell_type": "code",
      "source": [
        "# Ver as coordenadas\n",
        "\n",
        "for chave, valor in coordenadas.items():\n",
        "    print(f\"Coordenadas: {chave} -> Cidade: {valor}\")"
      ],
      "metadata": {
        "id": "nTzwWNwFf7cJ"
      },
      "execution_count": null,
      "outputs": []
    },
    {
      "cell_type": "markdown",
      "source": [
        "# Exercicios:\n",
        "\n",
        "- __Gerenciamento de Inventário:__\n",
        "Crie um dicionário onde as chaves são nomes de produtos e os valores são tuplas contendo o preço e a quantidade em estoque. Escreva um programa que permita ao usuário:\n",
        "\n",
        "  - Adicionar um novo produto ao inventário.\n",
        "  - Atualizar o preço ou a quantidade de um produto existente.\n",
        "  - Exibir todos os produtos com seus preços e quantidades.\n",
        "\n",
        "- __Agenda de Contatos:__\n",
        "Crie um dicionário onde as chaves são nomes de contatos e os valores são tuplas contendo o número de telefone e o e-mail. Escreva um programa que:\n",
        "\n",
        "  - Adicione novos contatos\n",
        "  - Atualize o número de telefone ou o e-mail de um contato existente.\n",
        "  - Exiba todos os contatos e suas informações."
      ],
      "metadata": {
        "id": "K5CbpL8DWxby"
      }
    },
    {
      "cell_type": "code",
      "source": [
        "# Programa para gerenciamento de inventário\n",
        "inventario = {}\n",
        "\n",
        "def adicionar_produto():\n",
        "    nome = input(\"Digite o nome do produto: \")\n",
        "    preco = float(input(\"Digite o preço do produto: \"))\n",
        "    quantidade = int(input(\"Digite a quantidade em estoque: \"))\n",
        "    inventario[nome] = (preco, quantidade)\n",
        "\n",
        "def atualizar_produto():\n",
        "    nome = input(\"Digite o nome do produto para atualizar: \")\n",
        "    if nome in inventario:\n",
        "        preco = float(input(\"Digite o novo preço do produto: \"))\n",
        "        quantidade = int(input(\"Digite a nova quantidade em estoque: \"))\n",
        "        inventario[nome] = (preco, quantidade)\n",
        "    else:\n",
        "        print(\"Produto não encontrado.\")\n",
        "\n",
        "def exibir_produtos():\n",
        "    print(\"Produtos no inventário:\")\n",
        "    for nome, (preco, quantidade) in inventario.items():\n",
        "        print(f\"{nome}: Preço = {preco}, Quantidade = {quantidade}\")\n",
        "\n",
        "while True:\n",
        "    print(\"\\nMenu:\")\n",
        "    print(\"1. Adicionar produto\")\n",
        "    print(\"2. Atualizar produto\")\n",
        "    print(\"3. Exibir todos os produtos\")\n",
        "    print(\"4. Sair\")\n",
        "    opcao = input(\"Escolha uma opção: \")\n",
        "\n",
        "    if opcao == \"1\":\n",
        "        adicionar_produto()\n",
        "    elif opcao == \"2\":\n",
        "        atualizar_produto()\n",
        "    elif opcao == \"3\":\n",
        "        exibir_produtos()\n",
        "    elif opcao == \"4\":\n",
        "        break\n",
        "    else:\n",
        "        print(\"Opção inválida. Tente novamente.\")\n"
      ],
      "metadata": {
        "id": "bBtt1Kn6oNjO"
      },
      "execution_count": null,
      "outputs": []
    },
    {
      "cell_type": "code",
      "source": [
        "# Programa para gerenciar uma agenda de contatos\n",
        "contatos = {}\n",
        "\n",
        "def adicionar_contato():\n",
        "    nome = input(\"Digite o nome do contato: \")\n",
        "    telefone = input(\"Digite o número de telefone: \")\n",
        "    email = input(\"Digite o e-mail: \")\n",
        "    contatos[nome] = (telefone, email)\n",
        "\n",
        "def atualizar_contato():\n",
        "    nome = input(\"Digite o nome do contato para atualizar: \")\n",
        "    if nome in contatos:\n",
        "        telefone = input(\"Digite o novo número de telefone: \")\n",
        "        email = input(\"Digite o novo e-mail: \")\n",
        "        contatos[nome] = (telefone, email)\n",
        "    else:\n",
        "        print(\"Contato não encontrado.\")\n",
        "\n",
        "def exibir_contatos():\n",
        "    print(\"Contatos na agenda:\")\n",
        "    for nome, (telefone, email) in contatos.items():\n",
        "        print(f\"{nome}: Telefone = {telefone}, E-mail = {email}\")\n",
        "\n",
        "while True:\n",
        "    print(\"\\nMenu:\")\n",
        "    print(\"1. Adicionar contato\")\n",
        "    print(\"2. Atualizar contato\")\n",
        "    print(\"3. Exibir todos os contatos\")\n",
        "    print(\"4. Sair\")\n",
        "    opcao = input(\"Escolha uma opção: \")\n",
        "\n",
        "    if opcao == \"1\":\n",
        "        adicionar_contato()\n",
        "    elif opcao == \"2\":\n",
        "        atualizar_contato()\n",
        "    elif opcao == \"3\":\n",
        "        exibir_contatos()\n",
        "    elif opcao == \"4\":\n",
        "        break\n",
        "    else:\n",
        "        print(\"Opção inválida. Tente novamente.\")\n"
      ],
      "metadata": {
        "id": "KcFj6nr6oOsp"
      },
      "execution_count": null,
      "outputs": []
    },
    {
      "cell_type": "code",
      "source": [
        "dic = {\n",
        "\n",
        "    'Pietro':(40028922, 'pietro@gmail.com'),\n",
        "    'João':(83838338, 'email'),\n",
        "    'Maria':(4545454, 'email')\n",
        "\n",
        "}\n",
        "\n",
        "\n",
        "# add\n",
        "dic['Michel'] = (1144445555, 'email')\n",
        "\n",
        "dic.update({\n",
        "    'Pietro':(20202020, 'email'),\n",
        "    'Julia' : (30303030,'email')\n",
        "})\n",
        "\n",
        "\n",
        "\n",
        "print(dic)\n"
      ],
      "metadata": {
        "id": "F9auOPMJ4_av"
      },
      "execution_count": null,
      "outputs": []
    },
    {
      "cell_type": "code",
      "source": [],
      "metadata": {
        "id": "AQ4fXLnY54-J"
      },
      "execution_count": null,
      "outputs": []
    }
  ]
}