{
  "cells": [
    {
      "cell_type": "markdown",
      "metadata": {
        "id": "r0Cr7YN3c4do"
      },
      "source": [
        "# 🐍 O que é Python?\n",
        "\n",
        "**Python é uma linguagem de programação** usada para criar sites, jogos, automações e até sistemas de inteligência artificial. Ela é conhecida por ser fácil de entender e escrever."
      ]
    },
    {
      "cell_type": "markdown",
      "metadata": {
        "id": "2D-eDXt4dQSz"
      },
      "source": [
        "# 🧠 Por que aprender Python?\n",
        "\n",
        "- **Sintaxe clara** e parecida com o português/inglês.\n",
        "\n",
        "- Usada em **diversas áreas:** web, ciência de dados, automações, jogos, etc.\n",
        "\n",
        "- Comunidade grande, com muita documentação e cursos gratuitos."
      ]
    },
    {
      "cell_type": "markdown",
      "metadata": {
        "id": "absi6JEKeauE"
      },
      "source": [
        "# 💻 Instalar o Python e começar a programar\n",
        "Antes de escrever o primeiro código, **precisamos instalar** o Python **ou usar ambientes que já vêm prontos**.\n",
        "\n",
        "\\\\\n",
        "___\n",
        "✅ Opção 1: Instalar Python direto do site\n",
        "- Acesse o site oficial: https://www.python.org\n",
        "\n",
        "- Clique em “Download Python” (o site detecta automaticamente seu sistema operacional)\n",
        "\n",
        "- Durante a instalação, marque a opção “Add Python to PATH”\n",
        "\n",
        "- Depois de instalado, você pode abrir o IDLE (editor básico que já vem com o Python)\n",
        "\n",
        "**🐍 Vantagem:** É leve e direto, ideal para quem está começando com coisas simples.\n",
        "\n",
        "\\\\\n",
        "___\n",
        "✅ Opção 2: Usar o Anaconda (recomendado para ciência de dados e automações)\n",
        "\n",
        "O **Anaconda** é como um **kit completo** para quem quer **trabalhar com dados, automações ou inteligência artificial** em Python.\n",
        "\n",
        "- Acesse: https://www.anaconda.com\n",
        "\n",
        "- Baixe a versão para seu sistema (Windows, macOS ou Linux)\n",
        "\n",
        "- A instalação **já inclui o Python, o Jupyter Notebook, o Spyder e muitas bibliotecas** úteis como pandas, numpy, matplotlib, etc.\n",
        "\n",
        "\\\\\n",
        "___\n",
        "\n",
        "✅ Opção 3: Usar sem instalar nada (no navegador)\n",
        "- Google Colab: https://colab.research.google.com\n",
        "\n",
        "Ideal para iniciantes e não exige instalação.\n",
        "\n",
        "- Replit: https://replit.com\n",
        "\n",
        "Roda códigos direto do navegador, com interface amigável."
      ]
    },
    {
      "cell_type": "markdown",
      "metadata": {
        "id": "I1Doyc03g7ME"
      },
      "source": [
        "# Nosso Primeiro Código\n",
        "\n",
        "## Imprimir mensagens no terminal"
      ]
    },
    {
      "cell_type": "code",
      "execution_count": null,
      "metadata": {
        "id": "VoDkOrcZu7Vl"
      },
      "outputs": [],
      "source": [
        "# Printar Hello World\n",
        "\n",
        "print(\"Hello World\")\n",
        "\n",
        "# Oq acontece se tirar as aspas ?\n",
        "\n",
        "# Tente escrever uma nova frase"
      ]
    },
    {
      "cell_type": "code",
      "execution_count": null,
      "metadata": {
        "id": "cSpaH6bBoare"
      },
      "outputs": [],
      "source": [
        "print(23)"
      ]
    },
    {
      "cell_type": "code",
      "execution_count": null,
      "metadata": {
        "id": "fB4tBkzpgiuR"
      },
      "outputs": [],
      "source": [
        "print(12.5)"
      ]
    },
    {
      "cell_type": "code",
      "execution_count": null,
      "metadata": {
        "id": "93axlxl1gjKo"
      },
      "outputs": [],
      "source": [
        "print(True)"
      ]
    },
    {
      "cell_type": "code",
      "execution_count": null,
      "metadata": {
        "id": "hhnNcoVt48By"
      },
      "outputs": [],
      "source": [
        "# Porque essas funcionaram sem uso de aspas ?"
      ]
    },
    {
      "cell_type": "markdown",
      "metadata": {
        "id": "sGTmcNniGl36"
      },
      "source": [
        "# O que são variáveis?\n",
        "\n",
        "**São espaços reservados na memória** do computador para que possamos **armazenar, temporariamente**, um determinado dado.\n",
        "\n",
        "Imagine que variáveis **são \"caixinhas\"** onde podemos **guardar informações** (como nomes, números, textos) **para usar depois.**\n"
      ]
    },
    {
      "cell_type": "code",
      "execution_count": null,
      "metadata": {
        "collapsed": true,
        "id": "r64qujNv2APf"
      },
      "outputs": [],
      "source": [
        "# Criando Variáveis\n",
        "\n",
        "nome = \"Pietro\"\n",
        "idade = 23\n",
        "altura = 1.75\n",
        "gente_boa = True"
      ]
    },
    {
      "cell_type": "markdown",
      "metadata": {
        "id": "P1-Hpi8PjjHl"
      },
      "source": [
        "__Tipos:__\n",
        "- String\n",
        "- Inteiro\n",
        "- Decimal / Float\n",
        "- boolean\n",
        "\n",
        "__Regras:__\n",
        " - O nome da variável não pode iniciar com um número.\n",
        " - Cuidado na utilização de caracteres especiais como: @ # ! ? () []{} -\n",
        "\n",
        "__Boas Práticas:__\n",
        "\n",
        " - O identificador de uma variável sempre deverá começar com letra minúscula\n",
        " - Letras maiúsculas podem ser usadas quando você fizer uso de\n",
        "duas ou mais palavras para compor o identificador de uma variável\n",
        "\n",
        "__Válidas:__\n",
        "- elemento1\n",
        "- nomeCliente\n",
        "- descricaoCurso\n",
        "- CodigoCliente\n",
        "- produto_alimenticio"
      ]
    },
    {
      "cell_type": "code",
      "execution_count": null,
      "metadata": {
        "id": "V8q0Ub6Uu98o"
      },
      "outputs": [],
      "source": [
        "# Tente printar sua variável\n",
        "\n",
        "print(...)"
      ]
    },
    {
      "cell_type": "code",
      "execution_count": null,
      "metadata": {
        "id": "vEAtG8Mlu-Kc"
      },
      "outputs": [],
      "source": [
        "# Printar o tipo da variável\n",
        "\n",
        "print(...)"
      ]
    },
    {
      "cell_type": "code",
      "execution_count": null,
      "metadata": {
        "id": "MUFNCRyYwFZ0"
      },
      "outputs": [],
      "source": [
        "# Formatação de Texto\n",
        "# \"Oi Pietro, você tem 23 anos!\"\n",
        "\n",
        "# vírgula\n",
        "print(...)\n",
        "# .format()\n",
        "print(...)\n",
        "# f-string\n",
        "print(...)"
      ]
    },
    {
      "cell_type": "markdown",
      "metadata": {
        "id": "hjHQY8L5w_vF"
      },
      "source": [
        "**📘 Exercício:**\n",
        "\n",
        "- **Crie 3 variáveis:** nome, nota, turma\n",
        "\n",
        "- Mostre uma mensagem como esta:\n",
        "\n",
        "  **\"Aluno João, da turma B, obteve nota 8.5\"**\n",
        "\n",
        "Com **os 3 métodos** (vírgula, .format() e f-string)"
      ]
    },
    {
      "cell_type": "code",
      "execution_count": null,
      "metadata": {
        "id": "EDd2CcYNxZqQ"
      },
      "outputs": [],
      "source": [
        "nome = \"João\"\n",
        "nota = 8.5\n",
        "turma = \"B\""
      ]
    },
    {
      "cell_type": "code",
      "execution_count": null,
      "metadata": {
        "id": "i7vrVttDxx30"
      },
      "outputs": [],
      "source": [
        "print(...)\n",
        "print(...)\n",
        "print(...)"
      ]
    },
    {
      "cell_type": "markdown",
      "metadata": {
        "id": "VJC4-ym9vnQe"
      },
      "source": [
        "# Concatenação\n",
        "É o processo de juntar textos (strings) usando o operador +."
      ]
    },
    {
      "cell_type": "code",
      "execution_count": null,
      "metadata": {
        "id": "XiX1tZ6Eu-U0"
      },
      "outputs": [],
      "source": [
        "nome = \"Pietro\"\n",
        "sobrenome = \"Rosolia\"\n",
        "\n",
        "# Concatenando duas strings\n",
        "print(nome + sobrenome)\n",
        "\n",
        "nome_completo = ... # add o espaço\n",
        "print(\"Nome completo:\", nome_completo)"
      ]
    },
    {
      "cell_type": "markdown",
      "metadata": {
        "id": "nQusfTK9zPDv"
      },
      "source": [
        "## ⚠️ Cuidado: tipos diferentes não se concatenam"
      ]
    },
    {
      "cell_type": "code",
      "execution_count": null,
      "metadata": {
        "id": "mjlWPprWu-hq"
      },
      "outputs": [],
      "source": [
        "idade = 23\n",
        "# print(\"Oi \" + nome_completo + \" Você tem \" + idade + \" anos.\")  ❌ ERRO!"
      ]
    },
    {
      "cell_type": "code",
      "execution_count": null,
      "metadata": {
        "id": "G0TDU17qz19V"
      },
      "outputs": [],
      "source": [
        "# Transforme a variável para string\n",
        "print(\"Oi \" + nome_completo + \" Você tem \" + str(idade) + \" anos.\")"
      ]
    },
    {
      "cell_type": "markdown",
      "metadata": {
        "id": "30T6HYKQ0wFt"
      },
      "source": [
        "**🎯 Atividade**:\n",
        "\n",
        "**Crie 3 variáveis:** nome, curso, ano.\n",
        "\n",
        "**Concatenar** tudo e imprimir a frase:\n",
        "\n",
        "**\"O aluno João está no curso de Python desde 2024.\"**"
      ]
    },
    {
      "cell_type": "code",
      "execution_count": null,
      "metadata": {
        "id": "qnZfAdDb0_2O"
      },
      "outputs": [],
      "source": [
        "nome = \"João\"\n",
        "curso = \"Python\"\n",
        "ano = 2024"
      ]
    },
    {
      "cell_type": "code",
      "execution_count": null,
      "metadata": {
        "id": "qK1LVAcc1Zi6"
      },
      "outputs": [],
      "source": [
        "print(...)"
      ]
    },
    {
      "cell_type": "markdown",
      "metadata": {
        "id": "o6OmwNt24B_e"
      },
      "source": [
        "#🔤 Manipulação de strings em Python\n",
        "\n",
        "**🧠 Lembrete:**\n",
        "Strings são **textos**, e em Python elas funcionam como **sequências de caracteres**, ou seja, podemos acessar e manipular cada letra individualmente."
      ]
    },
    {
      "cell_type": "markdown",
      "metadata": {
        "id": "uRmKFPQS4X5l"
      },
      "source": [
        "## 🔢 Acesso por índice (indexação)\n",
        "\n",
        "📌 Os índices começam em 0. Índices negativos contam de trás para frente.\n",
        "```python\n",
        "texto = \"Python\"\n",
        "print(texto[0])   # P\n",
        "print(texto[1])   # y\n",
        "print(texto[-1])  # n (último caractere)\n",
        "\n",
        "```"
      ]
    },
    {
      "cell_type": "code",
      "execution_count": null,
      "metadata": {
        "id": "3vTSaC_a6Ikj"
      },
      "outputs": [],
      "source": [
        "# Nossa tentativa\n",
        "\n",
        "mensagem = \" Hoje é um ótimo dia para programar em Python! \""
      ]
    },
    {
      "cell_type": "code",
      "execution_count": null,
      "metadata": {
        "id": "iCJjqcXA6s1x"
      },
      "outputs": [],
      "source": [
        "# Desafio:\n",
        "\n",
        "print(...) # H\n",
        "print(...) # !\n",
        "print(...) # j"
      ]
    },
    {
      "cell_type": "markdown",
      "metadata": {
        "id": "TCbFWY915pH8"
      },
      "source": [
        "## ✂️ Fatiamento (slicing)\n",
        "📌 Formato: **string[início : fim : passo]**\n",
        "\n",
        "```python\n",
        "texto = \"Programação\"\n",
        "print(texto[0:4])     # 'Prog' (do índice 0 até 3)\n",
        "print(texto[3:10:2])  # 'grmç' (de 3 até 9, pulando de 2 em 2)\n",
        "\n",
        "```\n"
      ]
    },
    {
      "cell_type": "code",
      "execution_count": null,
      "metadata": {
        "id": "0abysm1v7KjY"
      },
      "outputs": [],
      "source": [
        "# Nossa tentativa\n",
        "\n",
        "mensagem = \" Hoje é um ótimo dia para programar em Python! \""
      ]
    },
    {
      "cell_type": "code",
      "execution_count": null,
      "metadata": {
        "id": "lAHh55JE4PT0"
      },
      "outputs": [],
      "source": [
        "# Desafio:\n",
        "\n",
        "print(...) # Hoje\n",
        "print(...) # Hj"
      ]
    },
    {
      "cell_type": "markdown",
      "metadata": {
        "id": "asyfEXSI9HT-"
      },
      "source": [
        "##📏 Função len()\n",
        "\n",
        "Usada para **contar** quantos **caracteres** uma string tem (incluindo espaços).\n",
        "\n",
        "```python\n",
        "frase = \"Aprender Python\"\n",
        "print(len(frase))  # 16\n",
        "```"
      ]
    },
    {
      "cell_type": "code",
      "execution_count": null,
      "metadata": {
        "id": "aCE6VhtK9GMC"
      },
      "outputs": [],
      "source": [
        "# Nossa tentativa\n",
        "\n",
        "mensagem = \" Hoje é um ótimo dia para programar em Python! \""
      ]
    },
    {
      "cell_type": "code",
      "execution_count": null,
      "metadata": {
        "id": "POJ59ZT69pAu"
      },
      "outputs": [],
      "source": [
        "# Desafio:\n",
        "\n",
        "print(len(...))"
      ]
    },
    {
      "cell_type": "markdown",
      "metadata": {
        "id": "7-Y94Tnl-Kyy"
      },
      "source": [
        "## 🔍 Operador in\n",
        "Verifica se um texto **está contido dentro** de outro.\n",
        "```python\n",
        "frase = \"Python é divertido\"\n",
        "print(\"Python\" in frase)     # True\n",
        "print(\"Java\" in frase)       # False\n",
        "```"
      ]
    },
    {
      "cell_type": "code",
      "execution_count": null,
      "metadata": {
        "id": "dznoBgWD-9rF"
      },
      "outputs": [],
      "source": [
        "# Nossa tentativa\n",
        "\n",
        "mensagem = \" Hoje é um ótimo dia para programar em Python! \""
      ]
    },
    {
      "cell_type": "code",
      "execution_count": null,
      "metadata": {
        "id": "89cF8LYD_gvB"
      },
      "outputs": [],
      "source": [
        "# Desafio:\n",
        "\n",
        "print(...) # True\n",
        "print(...) # False"
      ]
    },
    {
      "cell_type": "markdown",
      "metadata": {
        "id": "akHzEfhZAPkT"
      },
      "source": [
        "## Outros Métodos\n",
        "```python\n",
        "texto = \"Aprender Python é divertido\"\n",
        "```\n",
        "## 🔎 Métodos úteis para busca e análise\n",
        "```python\n",
        "# .find()\n",
        "print(texto.find(\"Python\"))   # 9 (posição inicial)\n",
        "print(texto.find(\"Java\"))     # -1 (não encontrado)\n",
        "\n",
        "# .count()\n",
        "print(texto.count(\"e\"))       # Conta quantos \"e\" existem\n",
        "\n",
        "# .startswith() e .endswith()\n",
        "print(texto.startswith(\"Aprender\"))  # True\n",
        "print(texto.endswith(\"divertido\"))   # True\n",
        "```\n",
        "\n",
        "## 🛠️ Métodos para transformar o texto\n",
        "```python\n",
        "# .lower() e .upper()\n",
        "print(texto.lower())     # tudo minúsculo\n",
        "print(texto.upper())     # tudo maiúsculo\n",
        "\n",
        "# .replace()\n",
        "print(texto.replace(\"divertido\", \"fácil\"))\n",
        "\n",
        "# .strip()\n",
        "espacos = \"   Olá   \"\n",
        "print(espacos.strip())   # Remove espaços das extremidades\n",
        "\n",
        "# .split()\n",
        "frase = \"Python é incrível\"\n",
        "palavras = frase.split()  # ['Python', 'é', 'incrível']\n",
        "```"
      ]
    },
    {
      "cell_type": "code",
      "execution_count": null,
      "metadata": {
        "id": "YzCGoTxcBsj-"
      },
      "outputs": [],
      "source": [
        "# 🧪 Desafio prático\n",
        "\n",
        "mensagem = \" Hoje é um ótimo dia para programar em Python! \"\n",
        "\n",
        "# Mostre quantos caracteres há sem os espaços nas bordas\n",
        "print(...)\n",
        "# Verifique se a palavra \"Python\" está presente\n",
        "print(...)\n",
        "# Substitua \"Python\" por \"JavaScript\"\n",
        "print(...)\n",
        "# Transforme tudo em maiúsculas\n",
        "print(...)\n",
        "# Divida a frase em palavras\n",
        "print(...)"
      ]
    },
    {
      "cell_type": "markdown",
      "metadata": {
        "id": "J75dsoQOMzKl"
      },
      "source": [
        "# 📥Entrada de dados com input()\n",
        "**🧠 O que é?**\n",
        "\n",
        "A função `input()` serve para receber informações digitadas pelo usuário."
      ]
    },
    {
      "cell_type": "code",
      "execution_count": null,
      "metadata": {
        "id": "MH5-VLzVM_NU"
      },
      "outputs": [],
      "source": [
        "nome = input(\"Digite seu nome: \")\n",
        "print(nome)"
      ]
    },
    {
      "cell_type": "markdown",
      "metadata": {
        "id": "jY1Asu2FNMyz"
      },
      "source": [
        "## ⚠️ Importante:\n",
        "Tudo que é digitado com `input()` vira uma **string (str)**, mesmo que seja um número!"
      ]
    },
    {
      "cell_type": "code",
      "execution_count": null,
      "metadata": {
        "id": "oC5J0MTYNTfC"
      },
      "outputs": [],
      "source": [
        "idade = int(input(\"Digite sua idade: \"))\n",
        "altura = float(input(\"Digite sua altura: \"))"
      ]
    },
    {
      "cell_type": "code",
      "execution_count": null,
      "metadata": {
        "id": "aHF7atr4Nf7P"
      },
      "outputs": [],
      "source": [
        "print(\"Olá\", nome)\n",
        "print(f\"Você tem {idade} anos e {altura}m de altura.\")"
      ]
    },
    {
      "cell_type": "markdown",
      "metadata": {
        "id": "UG_WiE5WOaRH"
      },
      "source": [
        "**🧩 Desafio prático:**\n",
        "Criar um programa que:\n",
        "- Peça o nome de uma pessoa\n",
        "- Peça a idade\n",
        "- Calcule o **ano de nascimento**\n",
        "- Mostre tudo formatado"
      ]
    },
    {
      "cell_type": "code",
      "execution_count": null,
      "metadata": {
        "id": "s74ASydcOSOb"
      },
      "outputs": [],
      "source": [
        "nome = input(\"Digite seu nome: \")\n",
        "idade = int(input(\"Digite sua idade: \"))\n",
        "\n",
        "ano_nasc = ...\n",
        "\n",
        "print(f\"Olá {nome} você nasceu em {ano_nasc}\")"
      ]
    },
    {
      "cell_type": "markdown",
      "metadata": {
        "id": "lDvhjGZ01cVy"
      },
      "source": [
        "# Operadores\n",
        "\n"
      ]
    },
    {
      "cell_type": "markdown",
      "metadata": {
        "id": "FtSIlUusCwnn"
      },
      "source": [
        "## Aritiméticos\n",
        "Usado para fazer conta\n",
        "```python\n",
        "print(5 + 2)       # 7\n",
        "print(5 - 2)       # 3\n",
        "print(5 * 2)       # 10\n",
        "print(5 / 2)       # 2.5\n",
        "\n",
        "print(5 // 2)      # 2\n",
        "print(5 ** 2)      # 25\n",
        "\n",
        "print(38 % 5)      # 3\n",
        "```"
      ]
    },
    {
      "cell_type": "markdown",
      "metadata": {
        "id": "t3WZXHYAFYrm"
      },
      "source": [
        "## Atribuição\n",
        "Usados para guardar valores em variáveis:\n",
        "```python\n",
        "x = 10     # Atribuição simples\n",
        "x += 5     # x = x + 5\n",
        "x -= 2     # x = x - 2\n",
        "x *= 3     # x = x * 3\n",
        "x /= 2     # x = x / 2\n",
        "```"
      ]
    },
    {
      "cell_type": "markdown",
      "metadata": {
        "id": "6f7BAhw6FwUu"
      },
      "source": [
        "## Comparação (Relacionais)\n",
        "Usados para comparar valores. **O resultado é sempre True ou False**\n",
        "```python\n",
        "print(5 == 2)       # False\n",
        "print(5 != 2)       # True\n",
        "print(5 > 2)        # True\n",
        "print(5 < 2)        # False\n",
        "print(5 >= 5)       # True\n",
        "print(5 <= 2)       # False\n",
        "```"
      ]
    },
    {
      "cell_type": "markdown",
      "metadata": {
        "id": "7EeTAF49JJVm"
      },
      "source": [
        "## Lógicos\n",
        "Usados para combinar condições:\n",
        "\n",
        "- **and**: Retorna verdadeiro somente **se as duas** condições forem verdadeiras\n",
        "\n",
        "  ```python\n",
        "  idade = 20\n",
        "  tem_carteira = True\n",
        "  print(idade >= 18 and tem_carteira)  # True\n",
        "  ```\n",
        "\n",
        "- **or**: Retorna verdadeiro **se pelo menos uma** das condições for verdadeira\n",
        "  ```python\n",
        "  idade = 16\n",
        "  tem_autorizacao = True\n",
        "  print(idade >= 18 or tem_autorizacao)  # True\n",
        "  ```\n",
        "\n",
        "- **not**: Inverte o valor lógico da condição\n",
        "```python\n",
        "chovendo = False\n",
        "print(not chovendo)  # True\n",
        "```"
      ]
    }
  ],
  "metadata": {
    "colab": {
      "provenance": []
    },
    "kernelspec": {
      "display_name": "Python 3",
      "name": "python3"
    },
    "language_info": {
      "codemirror_mode": {
        "name": "ipython",
        "version": 3
      },
      "file_extension": ".py",
      "mimetype": "text/x-python",
      "name": "python",
      "nbconvert_exporter": "python",
      "pygments_lexer": "ipython3",
      "version": "3.13.5"
    }
  },
  "nbformat": 4,
  "nbformat_minor": 0
}
