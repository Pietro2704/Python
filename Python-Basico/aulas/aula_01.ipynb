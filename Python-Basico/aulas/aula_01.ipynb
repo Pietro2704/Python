{
  "cells": [
    {
      "cell_type": "markdown",
      "metadata": {
        "id": "r0Cr7YN3c4do"
      },
      "source": [
        "# 🐍 O que é Python?\n",
        "\n",
        "**Python é uma linguagem de programação** usada para criar sites, jogos, automações e até sistemas de inteligência artificial. Ela é conhecida por ser fácil de entender e escrever."
      ]
    },
    {
      "cell_type": "markdown",
      "metadata": {
        "id": "2D-eDXt4dQSz"
      },
      "source": [
        "# 🧠 Por que aprender Python?\n",
        "\n",
        "- **Sintaxe clara** e parecida com o português/inglês.\n",
        "\n",
        "- Usada em **diversas áreas:** web, ciência de dados, automações, jogos, etc.\n",
        "\n",
        "- Comunidade grande, com muita documentação e cursos gratuitos."
      ]
    },
    {
      "cell_type": "markdown",
      "metadata": {
        "id": "absi6JEKeauE"
      },
      "source": [
        "# 💻 Instalar o Python e começar a programar\n",
        "Antes de escrever o primeiro código, **precisamos instalar** o Python **ou usar ambientes que já vêm prontos**.\n",
        "\n",
        "\\\\\n",
        "___\n",
        "✅ Opção 1: Instalar Python direto do site\n",
        "- Acesse o site oficial: https://www.python.org\n",
        "\n",
        "- Clique em “Download Python” (o site detecta automaticamente seu sistema operacional)\n",
        "\n",
        "- Durante a instalação, marque a opção “Add Python to PATH”\n",
        "\n",
        "- Depois de instalado, você pode abrir o IDLE (editor básico que já vem com o Python)\n",
        "\n",
        "**🐍 Vantagem:** É leve e direto, ideal para quem está começando com coisas simples.\n",
        "\n",
        "\\\\\n",
        "___\n",
        "✅ Opção 2: Usar o Anaconda (recomendado para ciência de dados e automações)\n",
        "\n",
        "O **Anaconda** é como um **kit completo** para quem quer **trabalhar com dados, automações ou inteligência artificial** em Python.\n",
        "\n",
        "- Acesse: https://www.anaconda.com\n",
        "\n",
        "- Baixe a versão para seu sistema (Windows, macOS ou Linux)\n",
        "\n",
        "- A instalação **já inclui o Python, o Jupyter Notebook, o Spyder e muitas bibliotecas** úteis como pandas, numpy, matplotlib, etc.\n",
        "\n",
        "\\\\\n",
        "___\n",
        "\n",
        "✅ Opção 3: Usar sem instalar nada (no navegador)\n",
        "- Google Colab: https://colab.research.google.com\n",
        "\n",
        "Ideal para iniciantes e não exige instalação.\n",
        "\n",
        "- Replit: https://replit.com\n",
        "\n",
        "Roda códigos direto do navegador, com interface amigável."
      ]
    },
    {
      "cell_type": "markdown",
      "metadata": {
        "id": "43A010Nd9FLP"
      },
      "source": [
        "# 📝 Comentários em Python\n",
        "\n",
        "Comentários são trechos de texto inseridos no código que **não são executados** pelo Python. Eles servem para explicar o que o código faz, deixar observações ou anotações para você ou para outras pessoas que forem ler seu código no futuro.\n"
      ]
    },
    {
      "cell_type": "code",
      "execution_count": null,
      "metadata": {
        "id": "Rxqqg13O9MaB"
      },
      "outputs": [],
      "source": [
        "# Isso é um comentário de uma linha"
      ]
    },
    {
      "cell_type": "code",
      "execution_count": null,
      "metadata": {
        "id": "1EZQ_udn9YVP"
      },
      "outputs": [],
      "source": [
        "\"\"\"\n",
        "Este é um comentário\n",
        "de múltiplas linhas.\n",
        "Normalmente usado como documentação.\n",
        "\n",
        "Python ignora esses textos entre aspas triplas se não forem atribuídos a nada.\n",
        "\"\"\""
      ]
    },
    {
      "cell_type": "markdown",
      "metadata": {
        "id": "I1Doyc03g7ME"
      },
      "source": [
        "# Nosso Primeiro Código\n",
        "\n",
        "## Imprimir mensagens no terminal"
      ]
    },
    {
      "cell_type": "code",
      "execution_count": null,
      "metadata": {
        "id": "VoDkOrcZu7Vl"
      },
      "outputs": [],
      "source": [
        "# Printar Hello World\n",
        "print(\"Hello World\")\n",
        "\n",
        "# Printar números\n",
        "print(...) # Inteiro\n",
        "print(...) # Decimal\n",
        "\n",
        "# Printar Sim / Não\n",
        "print(...) # Sim\n",
        "print(...) # Não"
      ]
    },
    {
      "cell_type": "markdown",
      "metadata": {
        "id": "yadYh2Pw8g9H"
      },
      "source": [
        "# 🧱 Tipos de Dados\n",
        "\n",
        "Python possui diferentes tipos de dados embutidos que são utilizados para armazenar valores. Os principais tipos primitivos são:\n",
        "\n",
        "- `int` → números inteiros (ex: 5, -2, 1000)\n",
        "- `float` → números decimais (ex: 3.14, -0.1)\n",
        "- `str` → textos (ex: \"Olá\", \"Python\")\n",
        "- `bool` → valores booleanos (True ou False)\n",
        "\n",
        "Você pode usar a função `type()` para verificar o tipo de qualquer valor ou variável.\n"
      ]
    },
    {
      "cell_type": "code",
      "execution_count": null,
      "metadata": {
        "id": "OmkkjWz69t-x"
      },
      "outputs": [],
      "source": [
        "print(type(\"Hello World\"))\n",
        "\n",
        "print(type(5))\n",
        "\n",
        "print(type(3.14))\n",
        "\n",
        "print(type(True))"
      ]
    },
    {
      "cell_type": "code",
      "execution_count": null,
      "metadata": {
        "id": "CIAGlyiiAs1x"
      },
      "outputs": [],
      "source": [
        "# Alterar o tipo do dado\n",
        "\n",
        "print(0)\n",
        "print(type(...))\n",
        "\n",
        "print(str(0))\n",
        "print(type(...))\n",
        "\n",
        "print(bool(0))\n",
        "print(type(...))"
      ]
    },
    {
      "cell_type": "markdown",
      "metadata": {
        "id": "sGTmcNniGl36"
      },
      "source": [
        "# Variáveis\n",
        "\n",
        "**São espaços reservados na memória** do computador para que possamos **armazenar, temporariamente**, um determinado dado.\n",
        "\n",
        "Imagine que variáveis **são \"caixinhas\"** onde podemos **guardar informações** (como nomes, números, textos) **para usar depois.**\n"
      ]
    },
    {
      "cell_type": "markdown",
      "metadata": {
        "id": "P1-Hpi8PjjHl"
      },
      "source": [
        "__Regras:__\n",
        " - O nome da variável **não pode iniciar com um número**.\n",
        " - Cuidado na utilização de caracteres especiais como: **@ # ! ? () []{} -**\n",
        "\n",
        "__Boas Práticas:__\n",
        " - O identificador de uma variável **sempre deverá começar com letra minúscula**\n",
        " - **Letras maiúsculas podem ser usadas quando** você fizer uso de\n",
        "duas ou mais palavras para compor o identificador de uma variável\n",
        "\n",
        "__Válidas:__\n",
        "- elemento1\n",
        "- nomeCliente\n",
        "- descricaoCurso\n",
        "- CodigoCliente\n",
        "- produto_alimenticio"
      ]
    },
    {
      "cell_type": "code",
      "execution_count": null,
      "metadata": {
        "collapsed": true,
        "id": "r64qujNv2APf"
      },
      "outputs": [],
      "source": [
        "# Criando Variáveis\n",
        "nome = \"Pietro\"\n",
        "idade = 23\n",
        "altura = 1.75\n",
        "gente_boa = True"
      ]
    },
    {
      "cell_type": "code",
      "execution_count": null,
      "metadata": {
        "id": "V8q0Ub6Uu98o"
      },
      "outputs": [],
      "source": [
        "# Printar sua variável\n",
        "\n",
        "print(...)"
      ]
    },
    {
      "cell_type": "code",
      "execution_count": null,
      "metadata": {
        "id": "vEAtG8Mlu-Kc"
      },
      "outputs": [],
      "source": [
        "# Printar o tipo da variável\n",
        "\n",
        "print(...)"
      ]
    },
    {
      "cell_type": "markdown",
      "metadata": {
        "id": "VJC4-ym9vnQe"
      },
      "source": [
        "# Concatenação\n",
        "É o processo de juntar textos (strings) usando o operador +."
      ]
    },
    {
      "cell_type": "code",
      "execution_count": null,
      "metadata": {
        "id": "XiX1tZ6Eu-U0"
      },
      "outputs": [],
      "source": [
        "sobrenome = \"Rosolia\"\n",
        "\n",
        "# Concatenando duas strings\n",
        "print(nome + sobrenome)"
      ]
    },
    {
      "cell_type": "code",
      "execution_count": null,
      "metadata": {},
      "outputs": [],
      "source": [
        "# Desafio: Separar o nome do sobrenome\n",
        "\n",
        "nome_completo = ... # add o espaço\n",
        "\n",
        "print(\"Olá \" + nome_completo + \", tudo bem?\")"
      ]
    },
    {
      "cell_type": "markdown",
      "metadata": {
        "id": "nQusfTK9zPDv"
      },
      "source": [
        "## ⚠️ Cuidado: tipos diferentes não se concatenam"
      ]
    },
    {
      "cell_type": "code",
      "execution_count": null,
      "metadata": {
        "id": "mjlWPprWu-hq"
      },
      "outputs": [],
      "source": [
        "idade = 23\n",
        "\n",
        "# print(\"Olá, \" + nome_completo + \". Você tem \" + idade + \" anos.\")  ❌ ERRO!"
      ]
    },
    {
      "cell_type": "code",
      "execution_count": null,
      "metadata": {
        "id": "G0TDU17qz19V"
      },
      "outputs": [],
      "source": [
        "# Transforme a variável para string\n",
        "print(\"Oi \" + nome_completo + \". Você tem \" + str(idade) + \" anos.\")"
      ]
    },
    {
      "cell_type": "markdown",
      "metadata": {
        "id": "30T6HYKQ0wFt"
      },
      "source": [
        "**🎯 Atividade**:\n",
        "\n",
        "**Crie 3 variáveis:** nome, curso, ano.\n",
        "\n",
        "**Concatenar** tudo e imprimir a frase:\n",
        "\n",
        "**\"O aluno João está no curso de Python desde 2024.\"**"
      ]
    },
    {
      "cell_type": "code",
      "execution_count": null,
      "metadata": {
        "id": "qnZfAdDb0_2O"
      },
      "outputs": [],
      "source": [
        "nome = \"João\"\n",
        "curso = \"Python\"\n",
        "ano = 2024"
      ]
    },
    {
      "cell_type": "code",
      "execution_count": null,
      "metadata": {
        "id": "qK1LVAcc1Zi6"
      },
      "outputs": [],
      "source": [
        "print(...)"
      ]
    },
    {
      "cell_type": "code",
      "execution_count": null,
      "metadata": {},
      "outputs": [],
      "source": [
        "# Formatação de Texto\n",
        "# O aluno João está no curso de Python desde 2024.\n",
        "\n",
        "# vírgula\n",
        "print(...)\n",
        "\n",
        "# .format()\n",
        "print(...)\n",
        "\n",
        "# f-string\n",
        "print(...)"
      ]
    },
    {
      "cell_type": "markdown",
      "metadata": {},
      "source": [
        "**📘 Exercício:**\n",
        "\n",
        "- **Crie 3 variáveis:** nome, nota, turma\n",
        "\n",
        "- Mostre uma mensagem como esta:\n",
        "\n",
        "  **\"Aluno João, da turma B, obteve nota 8.5\"**\n",
        "\n",
        "Com **os 3 métodos** (vírgula, .format() e f-string)"
      ]
    },
    {
      "cell_type": "code",
      "execution_count": null,
      "metadata": {},
      "outputs": [],
      "source": [
        "nome = \"João\"\n",
        "nota = 8.5\n",
        "turma = \"B\"\n",
        "\n",
        "print(...) # vírgula\n",
        "print(...) # .format()\n",
        "print(...) # f-string"
      ]
    },
    {
      "cell_type": "markdown",
      "metadata": {
        "id": "o6OmwNt24B_e"
      },
      "source": [
        "# 🔤 Manipulação de strings em Python\n",
        "\n",
        "**🧠 Lembrete:**\n",
        "Strings são **textos**, e em Python elas funcionam como **sequências de caracteres**, ou seja, podemos acessar e manipular cada letra individualmente."
      ]
    },
    {
      "cell_type": "markdown",
      "metadata": {
        "id": "uRmKFPQS4X5l"
      },
      "source": [
        "## 🔢 Acesso por índice (indexação)\n",
        "\n",
        "📌 Os índices começam em 0. Índices negativos contam de trás para frente.\n",
        "```python\n",
        "texto = \"Python\"\n",
        "print(texto[0])   # P\n",
        "print(texto[1])   # y\n",
        "print(texto[-1])  # n (último caractere)\n",
        "\n",
        "```"
      ]
    },
    {
      "cell_type": "code",
      "execution_count": null,
      "metadata": {
        "id": "3vTSaC_a6Ikj"
      },
      "outputs": [],
      "source": [
        "# Nossa tentativa\n",
        "\n",
        "mensagem = \" Hoje é um ótimo dia para programar em Python! \""
      ]
    },
    {
      "cell_type": "code",
      "execution_count": null,
      "metadata": {
        "id": "iCJjqcXA6s1x"
      },
      "outputs": [],
      "source": [
        "# Desafio:\n",
        "\n",
        "print(...) # H\n",
        "print(...) # !\n",
        "print(...) # j"
      ]
    },
    {
      "cell_type": "markdown",
      "metadata": {
        "id": "TCbFWY915pH8"
      },
      "source": [
        "## ✂️ Fatiamento (slicing)\n",
        "📌 Formato: **string[início : fim : passo]**\n",
        "\n",
        "```python\n",
        "texto = \"Programação\"\n",
        "print(texto[0:4])     # 'Prog' (do índice 0 até 3)\n",
        "print(texto[3:10:2])  # 'grmç' (de 3 até 9, pulando de 2 em 2)\n",
        "\n",
        "```\n"
      ]
    },
    {
      "cell_type": "code",
      "execution_count": null,
      "metadata": {
        "id": "0abysm1v7KjY"
      },
      "outputs": [],
      "source": [
        "# Nossa tentativa\n",
        "\n",
        "mensagem = \" Hoje é um ótimo dia para programar em Python! \""
      ]
    },
    {
      "cell_type": "code",
      "execution_count": null,
      "metadata": {
        "id": "lAHh55JE4PT0"
      },
      "outputs": [],
      "source": [
        "# Desafio:\n",
        "\n",
        "print(...) # Hoje\n",
        "print(...) # Hj"
      ]
    },
    {
      "cell_type": "markdown",
      "metadata": {
        "id": "asyfEXSI9HT-"
      },
      "source": [
        "## 📏 Função len()\n",
        "\n",
        "Usada para **contar** quantos **caracteres** uma string tem (incluindo espaços).\n",
        "\n",
        "```python\n",
        "frase = \"Aprender Python\"\n",
        "print(len(frase))  # 16\n",
        "```"
      ]
    },
    {
      "cell_type": "code",
      "execution_count": null,
      "metadata": {
        "id": "aCE6VhtK9GMC"
      },
      "outputs": [],
      "source": [
        "# Nossa tentativa\n",
        "\n",
        "mensagem = \" Hoje é um ótimo dia para programar em Python! \""
      ]
    },
    {
      "cell_type": "code",
      "execution_count": null,
      "metadata": {
        "id": "POJ59ZT69pAu"
      },
      "outputs": [],
      "source": [
        "# Desafio:\n",
        "\n",
        "print(len(...))"
      ]
    },
    {
      "cell_type": "markdown",
      "metadata": {
        "id": "7-Y94Tnl-Kyy"
      },
      "source": [
        "## 🔍 Operador in\n",
        "Verifica se um texto **está contido dentro** de outro.\n",
        "\n",
        "```python\n",
        "frase = \"Python é divertido\"\n",
        "print(\"Python\" in frase)     # True\n",
        "print(\"Java\" in frase)       # False\n",
        "```"
      ]
    },
    {
      "cell_type": "code",
      "execution_count": null,
      "metadata": {
        "id": "dznoBgWD-9rF"
      },
      "outputs": [],
      "source": [
        "# Nossa tentativa\n",
        "\n",
        "mensagem = \" Hoje é um ótimo dia para programar em Python! \""
      ]
    },
    {
      "cell_type": "code",
      "execution_count": null,
      "metadata": {
        "id": "89cF8LYD_gvB"
      },
      "outputs": [],
      "source": [
        "# Desafio:\n",
        "\n",
        "print(...) # True\n",
        "print(...) # False"
      ]
    },
    {
      "cell_type": "markdown",
      "metadata": {
        "id": "akHzEfhZAPkT"
      },
      "source": [
        "## Outros Métodos\n",
        "```python\n",
        "texto = \"Aprender Python é divertido\"\n",
        "```\n",
        "## 🔎 Métodos úteis para busca e análise\n",
        "```python\n",
        "# .find()\n",
        "print(texto.find(\"Python\"))   # 9 (posição inicial)\n",
        "print(texto.find(\"Java\"))     # -1 (não encontrado)\n",
        "\n",
        "# .count()\n",
        "print(texto.count(\"e\"))       # Conta quantos \"e\" existem\n",
        "\n",
        "# .startswith() e .endswith()\n",
        "print(texto.startswith(\"Aprender\"))  # True\n",
        "print(texto.endswith(\"divertido\"))   # True\n",
        "```\n",
        "\n",
        "## 🛠️ Métodos para transformar o texto\n",
        "```python\n",
        "# .lower() e .upper()\n",
        "print(texto.lower())     # tudo minúsculo\n",
        "print(texto.upper())     # tudo maiúsculo\n",
        "\n",
        "# .replace()\n",
        "print(texto.replace(\"divertido\", \"fácil\"))\n",
        "\n",
        "# .strip()\n",
        "espacos = \"   Olá   \"\n",
        "print(espacos.strip())   # Remove espaços das extremidades\n",
        "\n",
        "# .split()\n",
        "frase = \"Python é incrível\"\n",
        "palavras = frase.split()  # ['Python', 'é', 'incrível']\n",
        "```"
      ]
    },
    {
      "cell_type": "code",
      "execution_count": null,
      "metadata": {
        "id": "YzCGoTxcBsj-"
      },
      "outputs": [],
      "source": [
        "# 🧪 Desafio prático\n",
        "\n",
        "mensagem = \" Hoje é um ótimo dia para programar em Python! \"\n",
        "\n",
        "# Mostre quantos caracteres há sem os espaços nas bordas\n",
        "print(...)\n",
        "# Verifique se a palavra \"Python\" está presente\n",
        "print(...)\n",
        "# Substitua \"Python\" por \"JavaScript\"\n",
        "print(...)\n",
        "# Transforme tudo em maiúsculas\n",
        "print(...)\n",
        "# Divida a frase em palavras\n",
        "print(...)"
      ]
    },
    {
      "cell_type": "markdown",
      "metadata": {
        "id": "J75dsoQOMzKl"
      },
      "source": [
        "# 📥Entrada de dados com input()\n",
        "**🧠 O que é?**\n",
        "\n",
        "A função `input()` serve para receber informações digitadas pelo usuário."
      ]
    },
    {
      "cell_type": "code",
      "execution_count": null,
      "metadata": {
        "id": "MH5-VLzVM_NU"
      },
      "outputs": [],
      "source": [
        "nome = input(\"Digite seu nome: \")\n",
        "print(nome)"
      ]
    },
    {
      "cell_type": "markdown",
      "metadata": {
        "id": "jY1Asu2FNMyz"
      },
      "source": [
        "## ⚠️ Importante:\n",
        "Tudo que é digitado com `input()` vira uma **string (str)**, mesmo que seja um número!"
      ]
    },
    {
      "cell_type": "code",
      "execution_count": null,
      "metadata": {
        "id": "oN_EbH1bDMHo"
      },
      "outputs": [],
      "source": [
        "print(type(nome))"
      ]
    },
    {
      "cell_type": "code",
      "execution_count": null,
      "metadata": {
        "id": "oC5J0MTYNTfC"
      },
      "outputs": [],
      "source": [
        "idade = int(input(\"Digite sua idade: \"))\n",
        "altura = float(input(\"Digite sua altura: \"))"
      ]
    },
    {
      "cell_type": "code",
      "execution_count": null,
      "metadata": {
        "id": "aHF7atr4Nf7P"
      },
      "outputs": [],
      "source": [
        "print(\"Olá\", nome)\n",
        "print(f\"Você tem {idade} anos e {altura}m de altura.\")"
      ]
    },
    {
      "cell_type": "code",
      "execution_count": null,
      "metadata": {
        "id": "mDUUWitQFNXI"
      },
      "outputs": [],
      "source": [
        "# 📝 Atividade 1:\n",
        "# Peça ao usuário para informar os seguintes dados:\n",
        "# - nome\n",
        "# - idade\n",
        "# - altura\n",
        "# - curso\n",
        "\n",
        "# Depois, exiba uma mensagem formatada com f-string e também mostre o tipo de cada variável"
      ]
    },
    {
      "cell_type": "code",
      "execution_count": null,
      "metadata": {
        "id": "Lg1CZaeOFR2g"
      },
      "outputs": [],
      "source": [
        "# 📝 Atividade 2:\n",
        "# Peça ao usuário para digitar uma frase\n",
        "# Depois, aplique os seguintes métodos:\n",
        "\n",
        "# a) Remover espaços das bordas\n",
        "\n",
        "# b) Mostrar a quantidade de caracteres (sem espaços nas bordas)\n",
        "\n",
        "# c) Verificar se a palavra \"Python\" está na frase\n",
        "\n",
        "# d) Substituir uma palavra por \"JavaScript\"\n",
        "\n",
        "# e) Transformar tudo em maiúsculo"
      ]
    }
  ],
  "metadata": {
    "colab": {
      "provenance": []
    },
    "kernelspec": {
      "display_name": "Python 3",
      "name": "python3"
    },
    "language_info": {
      "name": "python"
    }
  },
  "nbformat": 4,
  "nbformat_minor": 0
}
