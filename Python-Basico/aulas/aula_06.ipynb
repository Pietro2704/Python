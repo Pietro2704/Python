{
  "nbformat": 4,
  "nbformat_minor": 0,
  "metadata": {
    "colab": {
      "provenance": []
    },
    "kernelspec": {
      "name": "python3",
      "display_name": "Python 3"
    },
    "language_info": {
      "name": "python"
    }
  },
  "cells": [
    {
      "cell_type": "markdown",
      "source": [
        "# Revisão da aula passada !!!\n"
      ],
      "metadata": {
        "id": "arU-2aO9r4kR"
      }
    },
    {
      "cell_type": "code",
      "source": [
        "import json\n",
        "import os\n",
        "\n",
        "inventario = ler_arquivo('inventario_json.json')\n",
        "\n",
        "opcao=int(input(\"Digite: \\n<1> para registrar ativo\"\n",
        "\"\\n<2> para exibir ativos armazenados: \"))\n",
        "\n",
        "while opcao > 0 and opcao < 3:\n",
        "    if opcao == 1:\n",
        "        resp = \"S\"\n",
        "        while resp == \"S\":\n",
        "            inventario[input(\"Digite o número patrimonial: \")] = [\n",
        "                input(\"Digite a data da última atualização: \"),\n",
        "                input(\"Digite a descrição: \"),\n",
        "                input(\"Digite o departamento: \")\n",
        "            ]\n",
        "            resp = input(\"Digite <S> para continuar.\").upper()\n",
        "\n",
        "        with open(\"inventario_json.json\", \"w\") as arq_json:\n",
        "            json.dump(inventario, arq_json)\n",
        "            print(\"JSON gerado!!!!\")\n",
        "\n",
        "    elif opcao == 2:\n",
        "        for chave, dado in inventario.items():\n",
        "            print(\"Data.........: \", dado[0])\n",
        "            print(\"Descrição....: \", dado[1])\n",
        "            print(\"Departamento.: \", dado[2])\n",
        "\n",
        "    opcao = int(input(\n",
        "        \"Digite: \"\n",
        "        \"\\n<1> para registrar ativo\"\n",
        "        \"\\n<2> para exibir ativos armazenados: \"\n",
        "    ))"
      ],
      "metadata": {
        "id": "5-ClwAmTr3CE"
      },
      "execution_count": null,
      "outputs": []
    },
    {
      "cell_type": "code",
      "source": [
        "import json\n",
        "import os\n",
        "\n",
        "def chamarMenu():\n",
        "  escolha = int(input(\"Digite: \"\n",
        "  \"\\n<1> para registrar ativo\"\n",
        "  \"\\n<2> para exibir ativos armazenados: \"))\n",
        "  return escolha\n",
        "\n",
        "\n",
        "def ler_arquivo(arquivo):\n",
        "  if os.path.exists(arquivo):\n",
        "    with open(arquivo, \"r\") as arq_json:\n",
        "      dicionario=json.load(arq_json)\n",
        "  else:\n",
        "    dicionario = {}\n",
        "  return dicionario\n",
        "\n",
        "\n",
        "def gravar_arquivo(dicionario,arquivo):\n",
        "  with open(arquivo, \"w\") as arq_json:\n",
        "    json.dump(dicionario, arq_json)\n",
        "\n",
        "\n",
        "def registrar(dicionario, arquivo):\n",
        "  resp = \"S\"\n",
        "  while resp == \"S\":\n",
        "    dicionario[input(\"Digite o número patrimonial: \")] = [\n",
        "      input(\"Digite a data da última atualização: \"),\n",
        "      input(\"Digite a descrição: \"),\n",
        "      input(\"Digite o departamento: \")\n",
        "    ]\n",
        "    resp = input(\"Digite <S> para continuar.\").upper()\n",
        "  gravar_arquivo(dicionario,arquivo)\n",
        "  return \"JSON gerado!!!!\"\n",
        "\n",
        "\n",
        "def exibir(arquivo):\n",
        "  dicionario = ler_arquivo(arquivo)\n",
        "  for chave, dado in dicionario.items():\n",
        "    print(\"Data.........: \", dado[0])\n",
        "    print(\"Descrição....: \", dado[1])\n",
        "    print(\"Departamento.: \", dado[2])"
      ],
      "metadata": {
        "id": "PyQ-nYfZPWde"
      },
      "execution_count": null,
      "outputs": []
    },
    {
      "cell_type": "markdown",
      "source": [
        "## Revisão\n",
        "\n",
        "### Lista de Tarefas\n",
        "\n",
        "Criar um programa que irá organizar suas tarefas dentro de um arquivo JSON.\n",
        "```python\n",
        "{ \"NomeTarefa\": [\"descrição\", \"data_prazo\", \"status\"]}\n",
        "```\n",
        "\n",
        "\n",
        "- Função carregar arquivo\n",
        "- Função adicionar tarefa\n",
        "- Função gravar tarefas\n",
        "- Função mostrar tarefas\n",
        "- Função atualizar status da tarefa"
      ],
      "metadata": {
        "id": "CLvu1jYjtiUn"
      }
    },
    {
      "cell_type": "code",
      "source": [
        "import os\n",
        "import json\n",
        "def carregar_arquivo(arquivo):\n",
        "  # cria/carrega um dicionario\n",
        "  if os.path.exists(arquivo):\n",
        "    with open(arquivo, 'r') as arq_json:\n",
        "      dicionario = json.load(arq_json)\n",
        "  else:\n",
        "    dicionario = {}\n",
        "  return dicionario\n",
        "\n",
        "def inserir_tarefas(dicionario):\n",
        "  # add tarefas com { \"NomeTarefa\": [\"descrição\", \"data_prazo\", \"status\"]}\n",
        "  perg = \"S\"\n",
        "  while perg == \"S\":\n",
        "    nome = input(\"Digite uma tarefa: \")\n",
        "    desc = input(\"Digite uma breve descrição: \")\n",
        "    prazo = input(\"Digite a data prazo: \")\n",
        "    dicionario[nome] = [desc, prazo, \"Pendente\"]\n",
        "    perg = input(\"Digite S para adicionar uma nova tarefa: \").upper()\n",
        "\n",
        "def gravar_tarefas(dicionario):\n",
        "  # Gravar tarefas no arquivo ./tarefas.json\n",
        "  with open(\"./tarefas.json\", 'w') as arq_json:\n",
        "    json.dump(dicionario, arq_json)\n",
        "\n",
        "def tarefas_atuais():\n",
        "  # Ver o que tem no arquivo ./tarefas.json\n",
        "  if os.path.exists(\"./tarefas.json\"):\n",
        "    with open('./tarefas.json', 'r') as arq_json:\n",
        "      dicionario = json.load(arq_json)\n",
        "      for x, y in dicionario.items():\n",
        "        print(f\"Nome: {x}\")\n",
        "        print(f\"Descrição: {y[0]}\")\n",
        "        print(f\"Prazo: {y[1]}\")\n",
        "        print(f\"Status: {y[2]}\")\n",
        "        print(\"\")\n",
        "  else:\n",
        "    print(\"Não encontrei o arquivo!\")"
      ],
      "metadata": {
        "id": "QwpskKrdthrx"
      },
      "execution_count": null,
      "outputs": []
    },
    {
      "cell_type": "code",
      "source": [
        "tarefas = carregar_arquivo(\"./lista_tarefas.json\")\n",
        "op = int(input(\"\"\"\n",
        "Digite:\n",
        "[1] - Add tarefa\n",
        "[2] - Exibir tarefas atuais\n",
        "\"\"\"))\n",
        "while op == 1 or op == 2:\n",
        "  if op == 1:\n",
        "    inserir_tarefas(tarefas)\n",
        "    gravar_tarefas(tarefas)\n",
        "  else:\n",
        "    tarefas_atuais()\n",
        "\n",
        "  op = int(input(\"\"\"\n",
        "  Digite:\n",
        "  [1] - Add tarefa\n",
        "  [2] - Exibir tarefas atuais\n",
        "  \"\"\"))\n"
      ],
      "metadata": {
        "id": "Yz0npn0V0qJK"
      },
      "execution_count": null,
      "outputs": []
    },
    {
      "cell_type": "markdown",
      "source": [
        "# Bibliotecas Internas, Externas e Sistema Operacional\n",
        "\n",
        "As __Bibliotecas Internas__ do Python são conjuntos de módulos que vêm integrados com o Python e oferecem funcionalidades amplas sem precisar instalar pacotes externos.\n",
        "\n",
        "__Exemplo:__\n",
        "```python\n",
        "# Biblioteca Internas\n",
        "import math\n",
        "print(math.sqrt(9))\n",
        "\n",
        "```\n",
        "\n",
        "\n",
        "As __Bibliotecas Externas__ em Python são pacotes ou módulos que não vêm incluídos por padrão com o Python e precisam ser instalados separadamente, geralmente usando o pip, o gerenciador de pacotes do Python.\n",
        "\n",
        "Essas bibliotecas expandem as capacidades do Python e são desenvolvidas pela comunidade, empresas e organizações para atender a diversas necessidades específicas, como manipulação de dados, aprendizado de máquina, desenvolvimento web, entre outras.\n",
        "\n",
        "## __Exemplo:__ Geopy\n",
        "\n",
        "É uma biblioteca útil para manipular dados geoespaciais, como realizar geocodificação e calcular distâncias entre coordenadas.\n"
      ],
      "metadata": {
        "id": "qfozsIbL2Stl"
      }
    },
    {
      "cell_type": "code",
      "execution_count": null,
      "metadata": {
        "id": "IqELvZmv12y2"
      },
      "outputs": [],
      "source": [
        "pip install geopy"
      ]
    },
    {
      "cell_type": "code",
      "source": [
        "import geopy\n",
        "print(dir(geopy))"
      ],
      "metadata": {
        "id": "o9ppXZRFOyfa"
      },
      "execution_count": null,
      "outputs": []
    },
    {
      "cell_type": "code",
      "source": [
        "print(dir(geopy.geocoders))"
      ],
      "metadata": {
        "id": "tUxMsShs1DQJ"
      },
      "execution_count": null,
      "outputs": []
    },
    {
      "cell_type": "code",
      "source": [
        "from geopy.geocoders import Nominatim\n",
        "geolocator = Nominatim(user_agent=\"nome_da_aplicacao\")\n",
        "location = geolocator.geocode(\"01232-010, Santa Cecília, São Paulo, Região Imediata de São Paulo\")\n",
        "print(location.address)\n",
        "print(location.latitude, location.longitude)"
      ],
      "metadata": {
        "id": "40khthcwQOrd"
      },
      "execution_count": null,
      "outputs": []
    },
    {
      "cell_type": "markdown",
      "source": [
        "- Por que o __user_agent__ é necessário?\n",
        "\n",
        "__R:__ O Nominatim (uma classe), impõe limites ao número de requisições que um cliente pode fazer em um curto período e o user_agent ajuda a rastrear essas requisições.\n",
        "\n",
        "Se muitas requisições forem feitas rapidamente e sem um identificador adequado, o servidor pode bloquear o acesso por suspeita de abuso.\n",
        "\n",
        "- Posso usar outro nome para o user_agent?\n",
        "\n",
        "__R:__ Sim! O user_agent é apenas uma string que identifica sua aplicação."
      ],
      "metadata": {
        "id": "XIH1gzRA0FA_"
      }
    },
    {
      "cell_type": "markdown",
      "source": [
        "# Projeto: Google Maps DEMO\n",
        "- __Time 1:__ Terá a responsabilidade de receber o endereço, por voz ou texto, e gerar um arquivo JSON no servidor, com o endereço que foi digitado ou falado.\n",
        "\n",
        "- __Time 2:__ Nossa aplicação Python irá realizar a leitura do arquivo JSON(entrada.json), que armazena o endereço e,então, deverá escrever em outro arquivo JSON(saida.json) as coordenadas geográficas referentes ao endereço.\n",
        "\n",
        "- __Time 3:__ Outra aplicação irá consumir o arquivo “saida.json”, dentro de determinado intervalo de tempo, e, então, irá gerar uma rota que será exibida ao portador da necessidade especial,somente quando ele ativar o botão “Iniciar o trajeto”"
      ],
      "metadata": {
        "id": "8F-cjt6_2Zwu"
      }
    },
    {
      "cell_type": "code",
      "source": [
        "from geopy.geocoders import Nominatim\n",
        "# Time 1\n",
        "dicionario = {\n",
        "     \"endereco\": [\"01232-010\",\n",
        "                  \"Santa Cecília\",\n",
        "                  \"Sao Paulo\",\n",
        "                  \"Região Imediata de São Paulo\"]\n",
        "}\n",
        "with open(\"./entrada.json\", \"w\") as arq_json:\n",
        "  json.dump(dicionario, arq_json)\n",
        "\n",
        "# Time 2\n",
        "dicionario = carregar_arquivo(\"./entrada.json\")\n",
        "lista = dicionario.get(\"endereco\")\n",
        "endereco = (f\"{lista[0]}, {lista[1]} {lista[2]} {lista[3]}\")\n",
        "\n",
        "geolocator = Nominatim(user_agent=\"nome_da_aplicacao\")\n",
        "location = geolocator.geocode(endereco)\n",
        "saida = {\n",
        "    \"coordenadas\": (location.latitude, location.longitude)\n",
        "    }\n",
        "with open(\"./saida.json\", \"w\") as arq:\n",
        "  json.dump(saida, arq)"
      ],
      "metadata": {
        "id": "J6to0xoERUqX"
      },
      "execution_count": null,
      "outputs": []
    },
    {
      "cell_type": "markdown",
      "source": [
        "# Um pouco mais sobre o Geopy\n",
        "Podemos, ainda, utilizar o Geopy para obter mais informações com base em\n",
        "um endereço fornecido. Crie um arquivo chamado “Geolocalizacao_plus.py” e digite o\n",
        "seguinte código:"
      ],
      "metadata": {
        "id": "dk-286VL3h1E"
      }
    },
    {
      "cell_type": "code",
      "source": [
        "from geopy.geocoders import Nominatim\n",
        "geolocator = Nominatim(user_agent=\"app\")\n",
        "\n",
        "endereco = input(\"\"\"\n",
        "Digite um endereco com número e cidade.\n",
        "Exemplo: avenida paulista, 1100 São Paulo:\n",
        "\"\"\")\n",
        "\n",
        "resultado = str(geolocator.geocode(endereco)).split(\",\")\n",
        "if resultado[0] != 'None':\n",
        "  print(\"Endereço completo.: \", resultado)\n",
        "  print(\"Bairro............: \", resultado[1])\n",
        "  print(\"Cidade............: \", resultado[2])\n",
        "  print(\"Regiao............: \", resultado[3])"
      ],
      "metadata": {
        "id": "-W3VKMFWSTOc"
      },
      "execution_count": null,
      "outputs": []
    },
    {
      "cell_type": "markdown",
      "source": [
        "experimente digitar somente um CEP, um\n",
        "endereço menos completo, outro mais completo e aprenda com o comportamento do\n",
        "pacote “Geopy”. Podemos também fazer o inverso, monte um novo arquivo, chamado\n",
        "“Geolocalizacao_reversa.py”, com o seguinte código:"
      ],
      "metadata": {
        "id": "Eh-m5R6r5c7F"
      }
    },
    {
      "cell_type": "code",
      "source": [
        "from geopy.geocoders import Nominatim\n",
        "geolocator = Nominatim(user_agent=\"wazeyes\")\n",
        "\n",
        "latitude=float(input(\"Digite a latitude...: \"))\n",
        "longitude=float(input(\"Digite a longitude.: \"))\n",
        "# (-23.5378889, -46.6614261)\n",
        "resultado = str(geolocator.reverse(f\"{latitude}, {longitude}\")).split(\",\")\n",
        "if resultado[0]!='None':\n",
        "  print(\"Endereço completo.: \", resultado)\n",
        "  print(\"Dado 1............: \", resultado[0])\n",
        "  print(\"Dado 2............: \", resultado[1])\n",
        "  print(\"Dado 3............: \", resultado[2])"
      ],
      "metadata": {
        "id": "lnUgbGYWOLzR"
      },
      "execution_count": null,
      "outputs": []
    },
    {
      "cell_type": "markdown",
      "source": [
        "## Sistema Operacional\n",
        "\n",
        "__OBS:__ 'os' é mais voltado para operações de sistema e manipulação de arquivos, enquanto 'platform' é mais voltado para a obtenção de informações sobre o sistema operacional e a plataforma."
      ],
      "metadata": {
        "id": "9mRLrKFKPC6K"
      }
    },
    {
      "cell_type": "code",
      "source": [
        "import platform\n",
        "\n",
        "print(\"Distribuição do Sistema Operacional.: \", platform.platform())\n",
        "print(\"Nome do Sistema Operacional.........: \", platform.system())\n",
        "print(\"Versão do Sistema Operacional.......: \", platform.release())\n",
        "print(\"Arquitetura.........................: \", platform.architecture())\n",
        "print(\"Nome do Computador..................: \", platform.node())\n",
        "print(\"Tipo de Máquina.....................: \", platform.machine())\n",
        "print(\"Processador:\", platform.processor())"
      ],
      "metadata": {
        "id": "Q-IIngiYPeuk"
      },
      "execution_count": null,
      "outputs": []
    },
    {
      "cell_type": "code",
      "source": [
        "import platform\n",
        "import os\n",
        "\n",
        "# Informações gerais sobre o sistema\n",
        "system = platform.system()\n",
        "release = platform.release()\n",
        "version = platform.version()\n",
        "processor = platform.processor()\n",
        "machine = platform.machine()\n",
        "\n",
        "# Exibindo as informações\n",
        "print(f\"Sistema Operacional: {system} {release} {version}\")\n",
        "print(f\"Arquitetura: {machine}\")\n",
        "print(f\"Processador: {processor}\")\n",
        "\n",
        "# Informações mais detalhadas sobre o processador\n",
        "if system == \"Windows\":\n",
        "    os.system(\"wmic cpu get caption, maxclockspeed, numberofcores, numberoflogicalprocessors\")\n",
        "elif system == \"Linux\" or system == \"Darwin\":  # MacOS\n",
        "    os.system(\"lscpu\")\n"
      ],
      "metadata": {
        "id": "g05d6RDmTErM"
      },
      "execution_count": null,
      "outputs": []
    },
    {
      "cell_type": "markdown",
      "source": [
        "- platform.system()\n",
        "\n",
        "  __Descrição:__ Retorna o nome do sistema operacional (por exemplo, \"Windows\", \"Linux\", \"Darwin\" para macOS).\n",
        "\n",
        "- platform.release()\n",
        "\n",
        "  __Descrição:__ Retorna a versão do sistema operacional.\n",
        "\n",
        "- platform.version()\n",
        "\n",
        " __Descrição:__ Fornece a versão detalhada do sistema operacional. Essa função pode retornar o número da versão exata com mais detalhes.\n",
        "Exemplo de saída: '10.0.19045' (para Windows 10)\n",
        "\n",
        "- platform.processor()\n",
        "\n",
        "  __Descrição:__ Retorna o nome do processador, ou pelo menos uma descrição do mesmo conforme identificado pelo sistema operacional.\n",
        "\n",
        "- platform.machine()\n",
        "\n",
        "  __Descrição:__ Retorna o tipo de arquitetura do processador da máquina (por exemplo, \"AMD64\", \"x86_64\" para processadores de 64 bits, ou \"ARM\" para processadores ARM).\n",
        "\n",
        "- os.system(\"wmic cpu get caption, maxclockspeed, numberofcores, numberoflogicalprocessors\")\n",
        "\n",
        "  __Descrição:__ Executa o comando wmic no terminal do Windows para obter informações detalhadas sobre o processador, como o nome (caption), a frequência máxima do clock (maxclockspeed), o número de núcleos físicos (numberofcores) e o número de threads (processadores lógicos) (numberoflogicalprocessors)."
      ],
      "metadata": {
        "id": "FL9AWdTyTkO2"
      }
    },
    {
      "cell_type": "markdown",
      "source": [
        "## Getpass\n",
        "__É usado__ principalmente para lidar com senhas e credenciais de maneira segura."
      ],
      "metadata": {
        "id": "3idwblEPX5Jd"
      }
    },
    {
      "cell_type": "code",
      "source": [
        "nome = input(\"Digite seu nome: \")\n",
        "senha = input(\"Digite sua senha: \")\n",
        "\n",
        "print(\"Nome: \", nome)\n",
        "print(\"Senha: \", senha)"
      ],
      "metadata": {
        "id": "7_hbH6B-89ff"
      },
      "execution_count": null,
      "outputs": []
    },
    {
      "cell_type": "code",
      "source": [
        "import getpass\n",
        "\n",
        "username = input(\"Digite seu nome de usuário: \")\n",
        "password = getpass.getpass(\"Digite sua senha: \")\n",
        "\n",
        "if username == getpass.getuser() and password == \"12345\":\n",
        "    print(\"Acesso concedido.\")\n",
        "else:\n",
        "    print(\"Usuário ou senha incorretos.\")"
      ],
      "metadata": {
        "id": "v2lgXSHTXJuv"
      },
      "execution_count": null,
      "outputs": []
    },
    {
      "cell_type": "code",
      "source": [
        "import getpass\n",
        "print(\"Usuário.......: \", getpass.getuser())\n",
        "\n",
        "from datetime import datetime\n",
        "print(\"Data Completa.: \", datetime.now())\n",
        "print(\"Dia...........: \", datetime.now().day)\n",
        "print(\"Mês...........: \", datetime.now().month)\n",
        "print(\"Ano...........: \", datetime.now().year)\n",
        "print(\"Hora..........: \", datetime.now().hour)\n",
        "print(\"Minuto........: \", datetime.now().minute)\n",
        "print(\"Segundo.......: \", datetime.now().second)\n",
        "\n",
        "dic = {\n",
        "    datetime.now(): [\"escola\", \"lapis\", 12.5]\n",
        "    }\n",
        "\n",
        "print(dic)"
      ],
      "metadata": {
        "id": "NwqG3p-9U6w9"
      },
      "execution_count": null,
      "outputs": []
    },
    {
      "cell_type": "markdown",
      "source": [
        "# Pandas\n",
        "\n",
        "Pandas é uma biblioteca de código aberto que fornece estruturas de dadosfáceis de usar para a linguagem de programação Python.\n",
        "\n",
        "Além disso, a biblioteca fornece estrutura de dados de alto desempenho eferramentas de análise de dados."
      ],
      "metadata": {
        "id": "PSDoa74qYHnC"
      }
    },
    {
      "cell_type": "code",
      "source": [
        "# pip install pandas"
      ],
      "metadata": {
        "id": "0WUJn0dpYO_c"
      },
      "execution_count": null,
      "outputs": []
    },
    {
      "cell_type": "markdown",
      "source": [
        "Uma das estruturas de dados mais utilizada no pandas é o __DataFrame__.\n",
        "Uma instância do tipo DataFrame é um objeto de duas (ou mais) dimensões com as seguintes características:\n",
        "- Suas dimensões podem ser modificadas decorrente da modificação dosdados.\n",
        "\n",
        "- Seus dados podem ser acessados através de rótulos ao invés deexclusivamente por índices.\n",
        "\n",
        "- É possível trabalhar com dados heterogênios, tanto nas linhas como também nas colunas.\n",
        "\n",
        "A classe __DataFrame__ da biblioteca pandas possui um método construtor com alguns parâmetros:\n",
        "\n",
        "- data: recebe os dados no formato de lista, dicionário ou até mesmo umDataFrame já existe.\n",
        "\n",
        "- index: recebe uma string ou uma lista de strings que definem os rótulos daslinhas.\n",
        "\n",
        "- columns: recebe uma string ou uma lista de strings que definem os rótulosdas colunas.\n",
        "\n",
        "- dtype: recebe um tipo de dados com intuito de forçar a conversão do tipo de dados do DataFrame. Por padrão esse parâmetro recebe valor None e os tipos dos dados são inferidos."
      ],
      "metadata": {
        "id": "2Hc-mfVov0Yp"
      }
    },
    {
      "cell_type": "code",
      "source": [
        "dados = {\n",
        "    'Nome': ['Ana', 'Bruno', 'Carla'],\n",
        "    'Idade': [21, 20, 22]\n",
        "    }\n",
        "\n",
        "import pandas as pd\n",
        "df = pd.DataFrame(dados)\n",
        "df"
      ],
      "metadata": {
        "id": "h0Nqz8WkISOO"
      },
      "execution_count": null,
      "outputs": []
    },
    {
      "cell_type": "code",
      "source": [
        "import pandas as pd\n",
        "\n",
        "# Associar uma lista com outra\n",
        "nomes = ['Ana', 'Bruno', 'Carla']\n",
        "idades = [21, 20, 22]\n",
        "\n",
        "dados = list(zip(nomes, idades))\n",
        "\n",
        "df = pd.DataFrame(data = dados, columns=['Nome', 'Idade'], index=[\"A\",\"B\",\"C\"])\n",
        "display(df)\n",
        "print(df.info())"
      ],
      "metadata": {
        "id": "t4p17OlawWTm"
      },
      "execution_count": null,
      "outputs": []
    },
    {
      "cell_type": "code",
      "source": [
        "import pandas as pd\n",
        "\n",
        "dados = [('Ana', 21), ('Bruno', 20), ('Carla', 22)]\n",
        "colunas = ['Nome', 'Idade']\n",
        "linhas = ['A', 'B', 'C']\n",
        "\n",
        "df = pd.DataFrame(data = dados, columns = colunas , index = linhas)\n",
        "display(df)\n",
        "# print(df.info())"
      ],
      "metadata": {
        "id": "lELnYFMt0PDW"
      },
      "execution_count": null,
      "outputs": []
    },
    {
      "cell_type": "code",
      "source": [
        "import pandas as pd\n",
        "\n",
        "dados = {\n",
        "    'Nome': ['Ana', 'Bruno', 'Carla'],\n",
        "    'Idade': [21, 20, 22]\n",
        "    }\n",
        "\n",
        "df = pd.DataFrame(data = dados)\n",
        "display(df)\n",
        "print(df.shape)"
      ],
      "metadata": {
        "id": "Rv7rOeBDwjPP"
      },
      "execution_count": null,
      "outputs": []
    },
    {
      "cell_type": "markdown",
      "source": [
        "Objetos do tipo Dataframe possuem atributos que são bastante úteis:\n",
        "- index: retorna os rótulos das linhas em formato de lista.\n",
        "- columns: retorna os rótulos das colunas em formato de lista.\n",
        "- ndim: retorna o número de dimensões do DataFrame.\n",
        "- shape: retorna o tamanho de cada uma das dimensões em um formato detupla.\n",
        "- size: retorna o número de elementos (células) do DataFrame.\n",
        "- empty: retorna se o DataFrame está vazio (True) ou não (False)."
      ],
      "metadata": {
        "id": "GTT84-lq2xR6"
      }
    },
    {
      "cell_type": "code",
      "source": [
        "import pandas as pd\n",
        "\n",
        "dados = {\n",
        "    'Nome': ['Ana', 'Bruno', 'Carla'],\n",
        "    'Idade': [21, 20, 22]\n",
        "    }\n",
        "\n",
        "df = pd.DataFrame(data = dados)\n",
        "print(df.index)   # RangeIndex(start=0, stop=3, step=1)\n",
        "print(df.columns) # Index(['Nome', 'Idade'], dtype='object')\n",
        "print(df.ndim)    # 2            => linhas, colunas\n",
        "print(df.shape)   # (3,2)        => # 3 linhas e 2 colunas\n",
        "print(df.size)    # 6            => 3 linhas * 2 colunas\n",
        "print(df.empty)   # False        => O DataFrame contém dados\n",
        "df\n",
        "# print(df.info())"
      ],
      "metadata": {
        "id": "NP5P9sLWzfbd"
      },
      "execution_count": null,
      "outputs": []
    },
    {
      "cell_type": "markdown",
      "source": [
        "A forma de acessar um dado de um DataFrame por meio de índices é a seguinte:\n",
        "```python\n",
        "dataframe[\"coluna\"][\"linha\"]\n",
        "```"
      ],
      "metadata": {
        "id": "6ThO1x9L6L-W"
      }
    },
    {
      "cell_type": "code",
      "source": [
        "print(df,'\\n')\n",
        "\n",
        "print(df[\"Nome\"][0])\n",
        "print(df[\"Idade\"][0])"
      ],
      "metadata": {
        "id": "wv6VTWH9287x"
      },
      "execution_count": null,
      "outputs": []
    },
    {
      "cell_type": "code",
      "source": [
        "import pandas as pd\n",
        "\n",
        "dados = [('Ana', 21, 'SBC'), ('Bruno', 20, 'SP'), ('Carla', 22, 'RJ')]\n",
        "\n",
        "df = pd.DataFrame(data = dados, columns=[\"Nome\", \"Idade\", \"Cidade\"])\n",
        "print(df,'\\n')\n",
        "\n",
        "print(f\"{df['Nome'][0]} tem {df['Idade'][0]} anos\")"
      ],
      "metadata": {
        "id": "P9rDYOJm6vQO"
      },
      "execution_count": null,
      "outputs": []
    },
    {
      "cell_type": "markdown",
      "source": [
        "Os DataFrames possuem indexadores para seleção de dados.\n",
        "Esses indexadores fornecem uma forma fácil e rápida de selecionar um conjunto de dados de um DataFrame.\n",
        "\n",
        "__Alguns deles são:__\n",
        "- T: usado para transpor linhas e colunas.\n",
        "- at: acessa um único elemento utilizando rótulos.\n",
        "- iat: acessa um único elemento utilizando índices.\n",
        "- loc: seleção de elementos utilizando rótulos.\n",
        "- iloc: seleção de elementos utilizando índices."
      ],
      "metadata": {
        "id": "sXLknaglJT1Y"
      }
    },
    {
      "cell_type": "code",
      "source": [
        "import pandas as pd\n",
        "\n",
        "dados = {\n",
        "    'Nome': ['Ana', 'Bruno', 'Carla'],\n",
        "    'Idade': [21, 20, 22],\n",
        "    'Cidade': ['SBC', 'SP', 'RJ']\n",
        "    }\n",
        "\n",
        "df = pd.DataFrame(data = dados)\n",
        "display(df)\n",
        "\n",
        "# display(df.T)\n",
        "# print(df.at[2, 'Nome'])\n",
        "# print(df.iat[2, 0])\n",
        "# print(df.loc[[0, 2]])\n",
        "# print(df.loc[[True , False , True]])\n",
        "# print(df.iloc[0])\n",
        "\n",
        "# print(df.info())"
      ],
      "metadata": {
        "id": "AnkDhbdy8GmD"
      },
      "execution_count": null,
      "outputs": []
    },
    {
      "cell_type": "code",
      "source": [],
      "metadata": {
        "id": "oPjqiM4-CLzg"
      },
      "execution_count": null,
      "outputs": []
    },
    {
      "cell_type": "code",
      "source": [
        "# Revendo\n",
        "import pandas as pd\n",
        "agenda = {\n",
        "    'Nomes': ['Pietro','Enzo', 'Ricardo'],\n",
        "    'Telefones': [40028922, 30084554, 89224002],\n",
        "    'Emails': ['pietro@digicad.com','enzo.santos@digicad.com','ricardoPereira@digicad.com'],\n",
        "    'Cargos': ['Professor', 'Gerente de Projetos', 'Arquiteto']\n",
        "}\n",
        "\n",
        "df_agenda = pd.DataFrame(agenda)\n",
        "df_agenda.info()"
      ],
      "metadata": {
        "id": "d2VZgk1SCL84"
      },
      "execution_count": null,
      "outputs": []
    },
    {
      "cell_type": "code",
      "source": [
        "df_agenda['aniversario'] = ['27-04','12-03','17-01']\n",
        "df_agenda.head()"
      ],
      "metadata": {
        "id": "K6cmIYo0CKqv"
      },
      "execution_count": null,
      "outputs": []
    },
    {
      "cell_type": "code",
      "source": [
        "nova_agenda = {\n",
        "    'Nomes': ['Murilo','João', 'Maria'],\n",
        "    'Telefones': [12342010, 20252222, 59648187],\n",
        "    'Emails': ['muriloDosSantos@hotmail.com','jaoo.amaral@gmail.com','MariaCarvalhoLopes@digicad.com'],\n",
        "    'Cargos': ['Jogador', 'Analista de Dados', 'Médico'],\n",
        "    'aniversario': ['01-01', '13-03', '26-05']\n",
        "}\n",
        "\n",
        "df_nova_agenda = pd.DataFrame(nova_agenda)\n",
        "\n",
        "df_minha_agenda = pd.concat([df_agenda, df_nova_agenda], ignore_index=True)\n",
        "df_minha_agenda[['Nomes', 'aniversario']]"
      ],
      "metadata": {
        "id": "D-SFGLHQJOzf"
      },
      "execution_count": null,
      "outputs": []
    },
    {
      "cell_type": "code",
      "source": [
        "import pandas as pd\n",
        "\n",
        "# Add nova coluna\n",
        "\n",
        "dados = {\n",
        "    'Nome': ['Ana', 'Bruno', 'Carla'],\n",
        "    'Idade': [21, 20, 22]\n",
        "    }\n",
        "\n",
        "df = pd.DataFrame(data = dados)\n",
        "\n",
        "df['Nome'] = ['Gabriel', 'Julia', 'Yago']\n",
        "df['Raça'] = ['Branco', 'Preto', 'Pardo']\n",
        "df['Altura'] = None\n",
        "display(df)"
      ],
      "metadata": {
        "id": "HAHGmE-RJH_Q"
      },
      "execution_count": null,
      "outputs": []
    },
    {
      "cell_type": "code",
      "source": [
        "# Add mais dados\n",
        "\n",
        "df2 = {\n",
        "    'Nome': ['Ricardo', 'Andrea', 'Murilo'],\n",
        "    'Idade': [21, 20, 22],\n",
        "    'Raça': ['Branco', 'Preto', 'Pardo'],\n",
        "    'Altura': None\n",
        "}\n",
        "\n",
        "df2 = pd.DataFrame(data = df2)\n",
        "\n",
        "df = pd.concat([df,df2], ignore_index=  True)\n",
        "\n",
        "display(df)"
      ],
      "metadata": {
        "id": "aqYrcSM2Lb2i"
      },
      "execution_count": null,
      "outputs": []
    },
    {
      "cell_type": "markdown",
      "source": [
        "# Removendo Linhas e Colunas de um DataFrame\n",
        "É possível remover linhas ou colunas de um DataFrame utilizando o método drop.\n",
        "\n",
        "- Alguns dos parâmetros do método drop são:\n",
        "\n",
        "- index: recebe um rótulo ou uma lista de rótulos das linhas que serãoremovidas.\n",
        "- columns: recebe um rótulo ou uma lista de rótulos das colunas que serãoremovidas.\n",
        "- inplace: determinar se as mudanças desem ser aplicadas diretamente noDataFrame ou em uma cópia (valor padrão é False)."
      ],
      "metadata": {
        "id": "rLsQp62I4t-F"
      }
    },
    {
      "cell_type": "code",
      "source": [
        "# df_minha_agenda.drop(index=[2,3], columns=['aniversario'], inplace=True)\n",
        "df_minha_agenda['Idade'] = [12, 18, 11, 32]\n",
        "mask = df_minha_agenda['Idade'] < 18\n",
        "df_minha_agenda[mask]"
      ],
      "metadata": {
        "id": "8mg8n1qUOGEl"
      },
      "execution_count": null,
      "outputs": []
    },
    {
      "cell_type": "code",
      "source": [
        "display(df)\n",
        "# df.drop(index = [0,1], columns = ['Altura'], inplace=True)\n",
        "# display(df)"
      ],
      "metadata": {
        "id": "dD6j1d8OM9Sj"
      },
      "execution_count": null,
      "outputs": []
    },
    {
      "cell_type": "code",
      "source": [
        "# Alterar idade de geral\n",
        "\n",
        "df['Idade'] -= 3\n",
        "display(df)"
      ],
      "metadata": {
        "id": "UEfHPZ7D5QUV"
      },
      "execution_count": null,
      "outputs": []
    },
    {
      "cell_type": "code",
      "source": [
        "# colunas maiores de idade\n",
        "\n",
        "resultado = list(df['Idade'] >= 18)\n",
        "print(resultado)"
      ],
      "metadata": {
        "id": "65bypQIa5wzc"
      },
      "execution_count": null,
      "outputs": []
    },
    {
      "cell_type": "code",
      "source": [
        "# Ver quem são\n",
        "\n",
        "resultado = list(df['Idade'] >= 18)\n",
        "print(df.loc[resultado])"
      ],
      "metadata": {
        "id": "XfMhaHNN6KLx"
      },
      "execution_count": null,
      "outputs": []
    },
    {
      "cell_type": "code",
      "source": [
        "lista = [(1,5),(1,3),(6,1),(8,9),(0,3)]\n",
        "\n",
        "lista.sort()\n",
        "print(lista)"
      ],
      "metadata": {
        "id": "33hcxLhNYotj"
      },
      "execution_count": null,
      "outputs": []
    },
    {
      "cell_type": "markdown",
      "source": [
        "## Um DataFrame pode ser ordenado utilizando o método sort_values.\n",
        "- O método sort_values possui alguns parâmetros:\n",
        "\n",
        "- by: string ou lista de strings especificando os rótulos que serão utilizadoscomo chave para a ordenação.\n",
        "\n",
        "- axis: eixo de ordenação vertical (0, padrão) ou horizontal (1).\n",
        "\n",
        "- ascending: ordenação crescente ou decrescente (padrão: True).\n",
        "\n",
        "- kind: algoritmo de ordenação que será utilizado (padrão: quicksort).\n",
        "\n",
        "- inplace: define se a ordenação deve ser aplicada diretamente no DataFrameou em uma cópia (padrão: False)."
      ],
      "metadata": {
        "id": "fuma2iRh637t"
      }
    },
    {
      "cell_type": "code",
      "source": [
        "df_minha_agenda.sort_values(by='Nomes', ascending=True)"
      ],
      "metadata": {
        "id": "ZNjgeot0Rqay"
      },
      "execution_count": null,
      "outputs": []
    },
    {
      "cell_type": "code",
      "source": [
        "df"
      ],
      "metadata": {
        "id": "sy1EyHZyb10b"
      },
      "execution_count": null,
      "outputs": []
    },
    {
      "cell_type": "code",
      "source": [
        "df.sort_values(by = 'Idade', ascending = True , inplace = True)\n",
        "print(df)"
      ],
      "metadata": {
        "id": "MVGn7xnh6aoq"
      },
      "execution_count": null,
      "outputs": []
    },
    {
      "cell_type": "markdown",
      "source": [
        "# É possível também ordenar um DataFrame pelos seus rótulos utilizando ométodo sort_index.\n",
        "- O método sort_index possui alguns parâmetros:\n",
        "- axis: eixo de ordenação vertical (0, padrão) ou horizontal (1).\n",
        "- ascending: ordenação crescente ou decrescente (padrão: True).\n",
        "- kind: algoritmo de ordenação que será utilizado (padrão: quicksort).\n",
        "- inplace: define se a ordenação deve ser aplicada diretamente no DataFrameou em uma cópia (padrão: False)."
      ],
      "metadata": {
        "id": "sNGdOfKy7YP7"
      }
    },
    {
      "cell_type": "code",
      "source": [
        "df_minha_agenda.sort_index(axis=1, ascending=True)"
      ],
      "metadata": {
        "id": "JMpQag9vTC-j"
      },
      "execution_count": null,
      "outputs": []
    },
    {
      "cell_type": "code",
      "source": [
        "df"
      ],
      "metadata": {
        "id": "AcAhBsvNcLFB"
      },
      "execution_count": null,
      "outputs": []
    },
    {
      "cell_type": "code",
      "source": [
        "# df.sort_index(axis = 0, inplace=True) # linha\n",
        "# print(df)\n",
        "df.sort_index(axis = 1, inplace=True) # coluna\n",
        "print(df)"
      ],
      "metadata": {
        "id": "80bl1dsx7NSG"
      },
      "execution_count": null,
      "outputs": []
    },
    {
      "cell_type": "markdown",
      "source": [
        "# Métodos para realização de cálculos em colunas:\n",
        "\n",
        "- abs: retorna uma lista com os valores absolutos da coluna.\n",
        "- count: realiza a contagem de quantas células da coluna possuem valoresdisponíveis.\n",
        "- nunique: conta os valores distintos na coluna.\n",
        "- sum: retorna a soma dos valores da coluna.\n",
        "- max: retorna o maior valor da coluna.\n",
        "- min: retorna o menor valor da coluna.\n",
        "- mean: computa a média dos valores da coluna.\n",
        "- median: calcula a mediana dos valores da coluna.\n",
        "- copy: retorna uma cópia do DataFrame.\n",
        "- head: retorna as n primeiras linhas do DataFrame (valor padrão: n = 5).\n",
        "- tail: retorna as n últimas linhas do DataFrame (valor padrão: n = 5)."
      ],
      "metadata": {
        "id": "iybYGF-Vyo2r"
      }
    },
    {
      "cell_type": "code",
      "source": [
        "# count\n",
        "print(f\"Quantas idades existem na minha tabela? {df_minha_agenda['Idade'].count()}\")\n",
        "\n",
        "# sum\n",
        "print(f\"Somatória da coluna Idade: {sum(df_minha_agenda['Idade'])}\")\n",
        "\n",
        "# nunique\n",
        "print(f\"Quantos valores distintos existem? {df_minha_agenda['Idade'].nunique()}\")\n"
      ],
      "metadata": {
        "id": "jLNsoN227iie"
      },
      "execution_count": null,
      "outputs": []
    },
    {
      "cell_type": "markdown",
      "source": [
        "# Exportar os dados de um DataFrame para diferentes formatos.\n",
        "Entre os diversos formatos disponíveis iremos focar no formato CSV(Comma-Separated Values, ou Valores Separados por Vírgulas).\n",
        "\n",
        "Para realizar essa tarefa temos o **método to_csv.**\n",
        "\n",
        "Alguns dos parâmetros desse método são:\n",
        "- path_or_buf: caminho ou buffer onde o arquivo deve ser salvo.\n",
        "- sep: caractere separador do arquivo (o padrão é a vírgula).\n",
        "- header: define se os rótulos das colunas devem ser inseridos no arquivo ounão (padrão: True).\n",
        "- index: define se os rótulos das linhas devem ser inseridos no arquivo ou não(padrão: True)."
      ],
      "metadata": {
        "id": "Uk0Frwnm1Y0C"
      }
    },
    {
      "cell_type": "code",
      "source": [
        "df_minha_agenda.to_csv(path_or_buf=\"./arquivo.csv\", encoding='utf-8', sep=\";\", header=True, index=False)"
      ],
      "metadata": {
        "id": "zdmOFZ8eYMWu"
      },
      "execution_count": null,
      "outputs": []
    },
    {
      "cell_type": "code",
      "source": [
        "df.to_csv('dados.csv', sep = ';', header = True, index = False)"
      ],
      "metadata": {
        "id": "yKDqBbzey-Tk"
      },
      "execution_count": null,
      "outputs": []
    },
    {
      "cell_type": "markdown",
      "source": [
        "### Importar CSV"
      ],
      "metadata": {
        "id": "Tv-JDC76ZgZ2"
      }
    },
    {
      "cell_type": "code",
      "source": [
        "df = pd.read_csv(\"BRAZIL_CITIES.csv\", sep=\";\")\n",
        "display(df.info())"
      ],
      "metadata": {
        "id": "TKI3Fyxmb9Xv"
      },
      "execution_count": null,
      "outputs": []
    },
    {
      "cell_type": "code",
      "source": [
        "def limpeza(DataFrame):\n",
        "  colunas = [\n",
        "      'CITY', 'STATE', 'CAPITAL',\n",
        "      'LONG', 'LAT', 'ALT', 'AREA',\n",
        "      'UBER', 'MAC', 'WAL-MART',\n",
        "      'POST_OFFICES', 'IBGE_RES_POP',\n",
        "      'Cars'\n",
        "      ]\n",
        "  DataFrame = DataFrame[colunas]\n",
        "  # mask_sp = DataFrame['STATE'] == 'SP'\n",
        "  # DataFrame = DataFrame[mask_sp]\n",
        "  return DataFrame\n",
        "\n",
        "df = limpeza(df)\n",
        "df.info()"
      ],
      "metadata": {
        "id": "UTTrGV2KeGKt"
      },
      "execution_count": null,
      "outputs": []
    },
    {
      "cell_type": "code",
      "source": [
        "# grafico de relação pop x area (densidade urbana)\n",
        "\n",
        "plt.figure(figsize=(8,5))\n",
        "plt.scatter(df['AREA'] , df['IBGE_RES_POP'])\n",
        "plt.xlabel(\"Área (km²)\")\n",
        "plt.ylabel(\"População\")"
      ],
      "metadata": {
        "id": "7miuontRb9dg"
      },
      "execution_count": null,
      "outputs": []
    },
    {
      "cell_type": "code",
      "source": [
        "# Distribuição da altitude das cidades\n",
        "\n",
        "# plotar um histograma\n",
        "\n",
        "import matplotlib.pyplot as plt\n",
        "\n",
        "# plt.figure(figsize=(8, 5))\n",
        "# df['IBGE_RES_POP'].hist(bins=30, color='red')\n",
        "\n",
        "plt.scatter(df['Cars'], df['STATE'])"
      ],
      "metadata": {
        "id": "0cUGhEFFb9hi"
      },
      "execution_count": null,
      "outputs": []
    },
    {
      "cell_type": "code",
      "source": [],
      "metadata": {
        "id": "4Humj3Z_b9lt"
      },
      "execution_count": null,
      "outputs": []
    },
    {
      "cell_type": "code",
      "source": [
        "import pandas as pd\n",
        "# kaggle\n",
        "df = pd.read_csv('tmp8h467vkt.csv')\n",
        "df.info()"
      ],
      "metadata": {
        "id": "zXq5z4A9iAjw"
      },
      "execution_count": null,
      "outputs": []
    },
    {
      "cell_type": "code",
      "source": [
        "df.drop(columns=['violation_sthigh','contact_addr2'], inplace=True)\n",
        "df.info()"
      ],
      "metadata": {
        "id": "Of6l8k1miP1g"
      },
      "execution_count": null,
      "outputs": []
    },
    {
      "cell_type": "code",
      "source": [
        "valores = df.select_dtypes(include='int64')\n",
        "valores = valores.astype(float)\n",
        "df.head()"
      ],
      "metadata": {
        "id": "Ek47JxgUjVva"
      },
      "execution_count": null,
      "outputs": []
    }
  ]
}