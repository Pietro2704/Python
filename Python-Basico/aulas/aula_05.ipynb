{
  "nbformat": 4,
  "nbformat_minor": 0,
  "metadata": {
    "colab": {
      "provenance": []
    },
    "kernelspec": {
      "name": "python3",
      "display_name": "Python 3"
    },
    "language_info": {
      "name": "python"
    }
  },
  "cells": [
    {
      "cell_type": "markdown",
      "source": [
        "# Desafio: Cadastro de Funcionários\n",
        "Crie um dicionário onde as chaves são IDs de funcionários e os valores são tuplas contendo o nome do funcionário e o cargo. Escreva um programa que permita ao usuário:\n",
        "\n",
        "  - Adicionar um novo funcionário ao cadastro.\n",
        "  - Atualizar o nome ou o cargo de um funcionário existente usando o ID.\n",
        "  - Exibir todos os funcionários com seus IDs, nomes e cargos.\n",
        "  - Remover um funcionário do cadastro com base no ID.\n",
        "\n",
        "  ```python\n",
        "  # add\n",
        "  dicionario[\"chave\"] = \"valor\"\n",
        "\n",
        "  # atualizar\n",
        "  dicionario.update({\"chave\": \"valor\"})\n",
        "\n",
        "  # Exibir\n",
        "  for chave, valor in dicionario.items():\n",
        "\n",
        "  # Remover\n",
        "  dicionario.pop(\"chave\")\n",
        "  ```"
      ],
      "metadata": {
        "id": "r4jL8JMeDHt6"
      }
    },
    {
      "cell_type": "code",
      "source": [
        "def add(dicionario):\n",
        "  id = int(input(\"Digite seu id: \"))\n",
        "  nome = input(\"Digite seu nome: \")\n",
        "  cargo = input(\"Digite seu cargo: \")\n",
        "  dicionario[id] = (nome, cargo)\n",
        "  print(f\"Funcionário {nome} adicionado com sucesso! \")\n",
        "\n",
        "def atualizar(dicionario):\n",
        "  id = int(input(\"Digite um ID: \"))\n",
        "  for id_funcionario in dicionario.keys():\n",
        "    if id == id_funcionario:\n",
        "      nome = input(\"Digite um nome PARA ALTERAÇÃO: \")\n",
        "      cargo = input(\"Digite um cargo PARA ALTERAÇÃO: \")\n",
        "      dicionario.update({id_funcionario: (nome, cargo)})\n",
        "\n",
        "def exibir(dicionario):\n",
        "  for chave, valor in dicionario.items():\n",
        "    print(f\"Chave: {chave}\\nValor: {valor}\\n\")\n",
        "\n",
        "def remover(dicionario):\n",
        "  id = int(input(\"Digite um ID: \"))\n",
        "  for id_funcionario in dicionario.keys():\n",
        "    if id == id_funcionario:\n",
        "      dicionario.pop(id)\n",
        "      print(\"Removido!\")\n",
        "    else:\n",
        "      print(\"Não achei!\")\n",
        "      break"
      ],
      "metadata": {
        "id": "PGn1DUZvw3kv"
      },
      "execution_count": null,
      "outputs": []
    },
    {
      "cell_type": "code",
      "source": [
        "dic"
      ],
      "metadata": {
        "id": "wUvUi4Dp6-4X"
      },
      "execution_count": null,
      "outputs": []
    },
    {
      "cell_type": "code",
      "source": [
        "dic = {}\n",
        "add(dic)"
      ],
      "metadata": {
        "id": "Rmki1-yFxmwg"
      },
      "execution_count": null,
      "outputs": []
    },
    {
      "cell_type": "code",
      "source": [
        "exibir(dic)"
      ],
      "metadata": {
        "id": "bfJnMfBM5hke"
      },
      "execution_count": null,
      "outputs": []
    },
    {
      "cell_type": "markdown",
      "source": [
        "# Manipulação de arquivos\n",
        "Até o momento, nossos dados só existiam enquanto o sistema estivesse\n",
        "aberto e/ou a sua estrutura não fosse limpa ou sobrescrita. A partir de agora, nossos dados passam a ser mais valorizados pelas nossas rotinas e, então, iremos persistir esses dados em disco. Isso significa que eles passarão a existir fisicamente em uma estrutura de arquivo.\n",
        "\n",
        "Isso irá permitir que você transporte os dados coletados de\n",
        "uma máquina para outra, ou até mesmo que atualize um sistema por meio das\n",
        "instruções encontradas em arquivos gerados por outros."
      ],
      "metadata": {
        "id": "CpjI7o8EuEoo"
      }
    },
    {
      "cell_type": "markdown",
      "source": [
        "Para a manipulação dos arquivos, utilizaremos uma função denominada\n",
        "“open()”, que permite várias ações:\n",
        "\n",
        "- __open(\"caminhoDoArquivo\", \"r\")__: Abre o arquivo no modo de leitura. Permite ler o conteúdo, mas não permite modificar o arquivo. Gera erro se o arquivo não existir.\n",
        "\n",
        "- __open(\"caminhoDoArquivo\", \"w\")__: Abre o arquivo no modo de escrita. Permite modificar o arquivo, sobrescrevendo o conteúdo existente. Cria um novo arquivo se ele não existir.\n",
        "\n",
        "- __open(\"caminhoDoArquivo\", \"a\")__: Abre o arquivo no modo de anexação. Permite adicionar dados ao final do arquivo sem sobrescrever o conteúdo existente. Cria um novo arquivo se ele não existir.\n",
        "\n",
        "- __open(\"caminhoDoArquivo\", \"x\")__: Abre o arquivo no modo de criação exclusiva. Garante que o arquivo será criado e não sobrescreve um arquivo existente. Gera erro se o arquivo já existir.\n",
        "\n",
        "- __open(\"caminhoDoArquivo\", \"t\")__: Abre o arquivo no modo texto, que é o padrão. Trata o conteúdo do arquivo como texto. Pode ser omitido, pois é o comportamento padrão."
      ],
      "metadata": {
        "id": "aqCwJpy5vOfu"
      }
    },
    {
      "cell_type": "code",
      "execution_count": null,
      "metadata": {
        "id": "JDbPbdhMuA8O"
      },
      "outputs": [],
      "source": [
        "# Usando como variavel\n",
        "\n",
        "# Escrevendo no arquivo\n",
        "arq = open(\"./arq_novo.txt\", \"w\")\n",
        "arq.write(\"Olá, mundo!\")\n",
        "arq.write(\"Estou aqui hoje\")\n",
        "arq.write(\"Para ver oq isso faz\")\n",
        "arq.close()\n",
        "\n",
        "# Lendo do arquivo\n",
        "arq = open(\"./arq_novo.txt\", \"r\")\n",
        "print(arq.read())\n",
        "arq.close()"
      ]
    },
    {
      "cell_type": "code",
      "source": [
        "# Usando o With\n",
        "\n",
        "# Escrevendo no arquivo\n",
        "with open(\"arquivo.txt\", \"w\") as arq:\n",
        "    arq.write(\"Olá, mundo!\\n\")\n",
        "    arq.write(\"Estou aqui hoje\\n\")\n",
        "\n",
        "# Adicionando ao arquivo\n",
        "with open(\"arquivo.txt\", \"a\") as arq:\n",
        "    arq.write(\"Para ver o que isso faz\\n\")\n",
        "    arq.write(\"E oq não faz.\\n\")\n",
        "\n",
        "# Lendo o arquivo\n",
        "with open(\"arquivo.txt\", \"r\") as arq:\n",
        "    print(arq.read())\n"
      ],
      "metadata": {
        "id": "vr9Ao7V9zU7Z"
      },
      "execution_count": null,
      "outputs": []
    },
    {
      "cell_type": "markdown",
      "source": [
        "Comando with é o controle do encerramento do arquivo em memória, isso faz com que você não precise utilizar o método close(), tampouco ocorrerá o fato do arquivo ficar aberto na memória sem qualquer necessidade. Por isso, recomendo que utilize esse combinado with + open()!\n",
        "\n",
        "Repare que os acentos podem estar com caracteres estranhos, isso pode ou não acontecer, depende da configuração da sua IDE.\n",
        "\n",
        "Para a leitura de encodes para exibição de caracteres do tipo texto. Clique em “Reload in another encoding” e opte pela opção windows-1252, ou ainda algum outro encoding compatível com o seu layout de teclado, idioma e/ou sistema operacional.\n",
        "\n",
        "Pode alterar o encode, fechar o arquivo, gerar um novo arquivo (executando seu\n",
        "código) e abri-lo novamente para verificar se a alteração foi realizada com sucesso."
      ],
      "metadata": {
        "id": "4SyPEPfw4sI7"
      }
    },
    {
      "cell_type": "code",
      "source": [
        "# Arquivo HTML\n",
        "\n",
        "with open(\"pagina.html\", \"w\") as pagina:\n",
        "  pagina.write(\"<body>\")\n",
        "  pagina.write(\"<h1> Esta é um teste para página WEB </h1>\")\n",
        "  pagina.write(\"<br><h2> Abaixo seguem alguns nomes importantes para o  projeto: </h2>\")\n",
        "  pagina.write(\"<h3>\")\n",
        "  nome=\"\"\n",
        "\n",
        "  while nome != \"SAIR\":\n",
        "    nome = input(\"Digite um nome ou SAIR: \").upper()\n",
        "    if nome != \"SAIR\":\n",
        "      pagina.write(\"<br>\"+nome)\n",
        "      pagina.write(\"</h3>\")\n",
        "      pagina.write(\"</body>\")"
      ],
      "metadata": {
        "id": "BTjvIbrz4uVp"
      },
      "execution_count": null,
      "outputs": []
    },
    {
      "cell_type": "markdown",
      "source": [
        "Rode sua aplicação, digite alguns nomesconforme for solicitado e, após encerrar a aplicação digitando “SAIR”, você terá um arquivo chamado “pagina.html”. Para abri-lo no browser, clique sobre o arquivo com obotão direito do mouse, escolha a opção “Open in Browser” e o browser que preferir."
      ],
      "metadata": {
        "id": "KEM5KHw28WrX"
      }
    },
    {
      "cell_type": "markdown",
      "source": [
        "É muito importante, em qualquer sistema computacional, oarmazenamento dos dados, mas isso não traz nada de inovador e/ou agregador ao seucliente, o diferencial está na leitura dos dados, que deverá trazer, para o seu cliente, dadosna forma de informações, de uma maneira simples e confiável, pois será por meio delasque decisões gerenciais e/ou estratégicas serão tomadas."
      ],
      "metadata": {
        "id": "bcyKukFS8zeK"
      }
    },
    {
      "cell_type": "code",
      "source": [
        "# Visualizando Dados\n",
        "\n",
        "with open(\"arquivo.txt\", \"rb\") as arquivo:\n",
        "  conteudo = arquivo.read()\n",
        "\n",
        "print(\"Tipo de dado da variável\",type(conteudo))\n",
        "print(\"\\nConteúdo do arquivo:\\n\",conteudo)"
      ],
      "metadata": {
        "id": "ET0Z91OQ86LE"
      },
      "execution_count": null,
      "outputs": []
    },
    {
      "cell_type": "markdown",
      "source": [
        "O tipo de dado da variável “conteudo” que será exibido é “str”, ou seja, string. Isso ocorre porque quando não definimos o modo de saída, o valor-padrão é o “t”(text), por isso “r” ou “rt” ou “r+t”.\n",
        "\n",
        "__Curiosidade:__ Podemos mudar para que a\n",
        "saída seja em bytes, para isso, substitua “r” por “rb” ou “r+b” e execute novamente esse bloco de código; verá que não só o tipo mudará para “byte” como também o conteúdo do arquivo a ser exibido terá uma formatação diferente, por byte. O mais comum mesmo é fazê-lo utilizando a saída no formato texto, não é à toa que ele é a forma-padrão."
      ],
      "metadata": {
        "id": "96UkyLWqV36l"
      }
    },
    {
      "cell_type": "code",
      "source": [
        "# Alteração Simples\n",
        "\n",
        "with open(\"arquivo.txt\", \"r\") as arquivo:\n",
        "  conteudo = arquivo.readlines()\n",
        "\n",
        "print(\"Tipo de dado da variável\",type(conteudo))\n",
        "print(\"\\nConteúdo do arquivo:\\n\",conteudo)"
      ],
      "metadata": {
        "id": "daFc99ZqVced"
      },
      "execution_count": null,
      "outputs": []
    },
    {
      "cell_type": "markdown",
      "source": [
        "# Projeto\n",
        "## Gerando uma rotina para inventário\n",
        "\n",
        "Uma das suas atribuições dentro do projeto será a de gerir todo o inventário de ativos que fazem parte da rede do seu cliente. É fundamental saber quantos são, quais são e onde estão distribuídos os ativos que fizerem parte da rede.\n",
        "\n",
        "Além disso, muitas outras informações podem ser  devidamente documentadas, como licenças de softwares, controle sobre o que deve trafegar na rede ou em partes dela, local definido para armazenamento de dados específicos, controle de atualizações, enfim,\n",
        "o gerenciamento e a segurança de uma rede, sem dúvida, começam com um inventário gerenciado, atualizado e funcional.\n",
        "\n",
        "Montaremos uma rotina pequena e simples, a princípio, para que possamos praticar as técnicas para a manipulação de arquivos vistas até o momento, com uma aplicação prática que, com certeza, fará parte das suas atribuições como um\n",
        "profissional de defesa cibernética. Vamos começar criando um novo arquivo chamado: “Inventario.py” e iremos armazenar apenas os seguintes dados: o número\n",
        "patrimonial do ativo, a descrição do ativo, data da última atualização e o nome do departamento em que está localizado."
      ],
      "metadata": {
        "id": "-W_ytRnLXq4b"
      }
    },
    {
      "cell_type": "markdown",
      "source": [
        "# Passo a passo\n",
        "\n",
        "Primeiro iremos definir uma estrutura de dados para armazená-lo;\n",
        "\n",
        "Eles serão recebidospelo colaborador responsável por catalogar os ativos, e, então, persistiremos os dados para um arquivo, para que possam ser recuperados, “backupeados”, alterados, excluídos e estejam disponíveis para qualquer outra consulta que possa ser necessária posteriormente.\n",
        "\n",
        "Utilizaremos uma estrutura de um dicionário de dados para armazená-los enquanto estiverem na condição de dados voláteis, em que a chave será o número patrimonial do ativo (que não pode ser repetido).\n",
        "\n",
        "Sobre essa chave, teremos uma lista com o departamento, data da última alteração e descrição. Após a gerência dos\n",
        "dados no dicionário, iremos persistir em um arquivo do tipo “csv”, que representa um padrão de arquivo no qual os dados poderão ser abertos dentro do Excel e de outros\n",
        "programas que aceitam esse tipo de arquivo.\n",
        "\n",
        "Isso irá garantir maior flexibilidade e portabilidade sobre os dados persistidos"
      ],
      "metadata": {
        "id": "VraD596lYLWA"
      }
    },
    {
      "cell_type": "code",
      "source": [],
      "metadata": {
        "id": "4Nv54d6rE7Rq"
      },
      "execution_count": null,
      "outputs": []
    },
    {
      "cell_type": "code",
      "source": [
        "# \"num_patrimonial\" : ['a descrição do ativo', 'data da última atualização', 'nome do departamento']\n",
        "\n",
        "dicionario = {\n",
        "    123: ['mesa', '20/05/2025', 'Escola'],\n",
        "    321: ['cadeira', '20/05/2025', 'Escola']\n",
        "}\n",
        "\n",
        "while True:\n",
        "  num_patrimonial = int(input(\"Digite o numero patrimonial: \"))\n",
        "  if num_patrimonial in dicionario.keys():\n",
        "      print(\"Ja existe!\")\n",
        "      break\n",
        "  else:\n",
        "      desc = input(\"Digite a descrição do ativo: \")\n",
        "      data = input(\"Digite a data da última atualização: \")\n",
        "      nome = input(\"Digite o nome do departamento: \")\n",
        "      dicionario[num_patrimonial] = [desc, data, nome]\n"
      ],
      "metadata": {
        "id": "9KIPWoEbEShi"
      },
      "execution_count": null,
      "outputs": []
    },
    {
      "cell_type": "code",
      "source": [
        "def menu():\n",
        "  opcao = int(input(\"\"\"\n",
        "    Digite:\n",
        "    <1> para registrar ativo\n",
        "    <2> para persistir em arquivo\n",
        "    <3> para exibir ativos armazenados\n",
        "    <0> para sair:\n",
        "    \"\"\"))\n",
        "  return opcao\n",
        "\n",
        "def registrar_ativo(inventario):\n",
        "  num_patrimonial = int(input(\"Digite o numero patrimonial: \"))\n",
        "  if num_patrimonial in inventario.keys():\n",
        "      print(\"Ja existe!\")\n",
        "  else:\n",
        "      desc = input(\"Digite a descrição do ativo: \")\n",
        "      data = input(\"Digite a data da última atualização: \")\n",
        "      nome = input(\"Digite o nome do departamento: \")\n",
        "      inventario[num_patrimonial] = [desc, data, nome]\n",
        "      print(\"Regitrado com sucesso! \")\n",
        "\n",
        "def persistir(inventario, caminho):\n",
        "  with open(caminho, 'a') as arq:\n",
        "    for chave, valor in inventario.items():\n",
        "      arq.write(f\"{chave};\\t{valor[0]};\\t{valor[1]};\\t{valor[2]};\\n\")\n",
        "    print(\"Persistido com sucesso! \")\n",
        "\n",
        "def exibir_ativos(caminho):\n",
        "  with open(caminho, 'r') as arq:\n",
        "    return arq.read()"
      ],
      "metadata": {
        "id": "hC0TwMtNIT76"
      },
      "execution_count": null,
      "outputs": []
    },
    {
      "cell_type": "code",
      "source": [
        "# Dicionario inventario\n",
        "inventario = {}\n",
        "# Looping infinito\n",
        "while 1 == 1:\n",
        "    # Menu\n",
        "    opcao = menu()\n",
        "    # Add novo registro no inventario\n",
        "    if opcao == 1:\n",
        "        registrar_ativo(inventario)\n",
        "    # Coloca oq tiver no inventario, dentro do arquivo csv\n",
        "    elif opcao == 2:\n",
        "        persistir(inventario, './inventario.csv')\n",
        "    # Mostra oq tem no inventario\n",
        "    elif opcao == 3:\n",
        "        print(exibir_ativos('./inventario.csv'))\n",
        "    # Sai do programa\n",
        "    elif opcao == 0:\n",
        "        print(\"Saindo do programa.\")\n",
        "        break\n",
        "    # Opção invalida\n",
        "    else:\n",
        "        print(\"Opção inválida. Tente novamente.\")\n"
      ],
      "metadata": {
        "id": "vmkAuO_rYyDp"
      },
      "execution_count": null,
      "outputs": []
    },
    {
      "cell_type": "markdown",
      "source": [
        "# Vamos separa em funçoes para ficar mais limpo."
      ],
      "metadata": {
        "id": "SeHz13J-kHZi"
      }
    },
    {
      "cell_type": "code",
      "source": [
        "# Menu\n",
        "def chamarMenu():\n",
        "  opcao = int(input(\"\"\"\n",
        "  Digite:\n",
        "  <1> para registrar ativo\n",
        "  <2> para persistir em arquivo\n",
        "  <3> para exibir ativos armazenados\n",
        "  <0> para sair:\n",
        "  \"\"\"))\n",
        "  return opcao\n",
        "\n",
        "\n",
        "# Add novo registro no inventario\n",
        "def registrar(dicionario):\n",
        "  resp = \"S\"\n",
        "  while resp == \"S\":\n",
        "      dicionario[\n",
        "          input(\"Digite o número patrimonial: \")] = [\n",
        "          input(\"Digite a data da última atualização: \"),\n",
        "          input(\"Digite a descrição: \"),\n",
        "          input(\"Digite o departamento: \")]\n",
        "      resp = input(\"Digite <S> para continuar.\").upper()\n",
        "\n",
        "\n",
        "# Coloca oq tiver no inventario, dentro do arquivo csv\n",
        "def persistir(dicionario):\n",
        "  with open(\"inventario.csv\", \"a\") as inv:\n",
        "      for chave, valor in dicionario.items():\n",
        "        inv.write(f\"{chave}; {valor[0]}; {valor[1]}; {valor[2]}\\n\")\n",
        "      print(\"Persistido com sucesso\")\n",
        "\n",
        "\n",
        "# Mostra oq tem no inventario\n",
        "def exibir():\n",
        "  with open(\"inventario.csv\", \"r\") as inv:\n",
        "    linhas = inv.readlines()\n",
        "  return linhas"
      ],
      "metadata": {
        "id": "djTp1D6OkKZA"
      },
      "execution_count": null,
      "outputs": []
    },
    {
      "cell_type": "code",
      "source": [
        "# Dicionario inventario\n",
        "inventario = {}\n",
        "\n",
        "# Looping infinito\n",
        "while True:\n",
        "\n",
        "    # Menu\n",
        "    opcao = chamarMenu()\n",
        "\n",
        "    # Add novo registro no inventario\n",
        "    if opcao == 1:\n",
        "      registrar(inventario)\n",
        "\n",
        "    # Coloca oq tiver no inventario, dentro do arquivo csv\n",
        "    elif opcao == 2:\n",
        "      persistir(inventario)\n",
        "\n",
        "    # Mostra oq tem no inventario\n",
        "    elif opcao == 3:\n",
        "       print(exibir())\n",
        "\n",
        "    # Sai do programa\n",
        "    elif opcao == 0:\n",
        "      print(\"Saindo do programa.\")\n",
        "      break\n",
        "\n",
        "    # Opção invalida\n",
        "    else:\n",
        "      print(\"Opção inválida. Tente novamente.\")\n"
      ],
      "metadata": {
        "id": "uGmymnQ2lly_"
      },
      "execution_count": null,
      "outputs": []
    },
    {
      "cell_type": "markdown",
      "source": [
        "# Problema:\n",
        "\n",
        "Se tivermos 200 ativos cadastrados, imagine como ficaria a saída! Uma bagunça, não é mesmo?\n",
        "\n",
        "E se quiséssemos saber, por exemplo, quais as descrições dos ativos que pertencerem a um departamento, em\n",
        "específico? Ou, ainda, quais os ativos que foram\n",
        "atualizados hoje?\n",
        "\n",
        "Agora, caberá a você recuperar esses dados e trabalhá-los da melhor forma possível, trazendo inteligência para o seu gerenciamento do ambiente.\n",
        "\n",
        "Será fundamental, neste momento, a manipulação de Strings, e é com esse assunto que iremos trabalhar no próximo tópico."
      ],
      "metadata": {
        "id": "RaQLFAh2mZrn"
      }
    },
    {
      "cell_type": "code",
      "source": [
        "string = 'alguma, frase, aq'\n",
        "print(string.split(\",\"))"
      ],
      "metadata": {
        "id": "-JMNi7v6211h"
      },
      "execution_count": null,
      "outputs": []
    },
    {
      "cell_type": "markdown",
      "source": [
        "# Manipulação de Strings na recuperação dos dados de arquivos\n",
        "\n",
        "Atualmente, o nosso arquivo “Inventario.py” retorna todas\n",
        "as informações do arquivo “inventario.csv” de uma forma nada agradável, por exemplo, para que se possa apresentar em uma reunião. Começaremos pelo seguinte: o número patrimonial do ativo, normalmente, não é um dado importante\n",
        "para ser exibido, salvo em consultas específicas.\n",
        "\n",
        "É como se eu fosse até o supermercado e comprasse um refrigerante, mas, antes, quisesse saber o código que representa o refrigerante no estoque do supermercado...\n",
        "\n",
        "Insano, não é mesmo? Imagine-se, agora, fazendo as compras do mês e querendo saber todos os códigos de todos os produtos.\n",
        "\n",
        "Ou seja, temos um dado (código do produto), para essa situação específica, que não agrega absolutamente nada, tornando-se um dado descartável para a situação.\n",
        "\n",
        "O mesmo podemos pensar sobre o número do patrimônio, que, para um relatório simples, não se faz necessário.\n",
        "\n",
        "A nossa função exibir() retorna todos os elementos dos ativos em forma de lista, e cada elemento da lista é um ativo que possui: número patrimonial, data da última alteração, descrição e departamento, todos separados por “;”."
      ],
      "metadata": {
        "id": "ftb6MKaKoGpe"
      }
    },
    {
      "cell_type": "code",
      "source": [
        "inventario = {}\n",
        "\n",
        "while True:\n",
        "    opcao = chamarMenu()\n",
        "\n",
        "    if opcao == 1:\n",
        "      registrar(inventario)\n",
        "\n",
        "    elif opcao == 2:\n",
        "      persistir(inventario)\n",
        "\n",
        "    # Alteração\n",
        "    elif opcao == 3:\n",
        "      resultado = exibir()\n",
        "      for linha in resultado:\n",
        "        separacao = linha[linha.find(\";\")+1 : -1]\n",
        "        data = separacao[0 : separacao.find(\";\")]\n",
        "        separacao = separacao[separacao.find(\";\")+1 : -1]\n",
        "        descricao = separacao[0 : separacao.find(\";\")]\n",
        "        departamento = linha[linha.rfind(\";\")+1 : -1]\n",
        "\n",
        "        print(\"\\nData.........: \", data)\n",
        "        print(\"Descrição....: \", descricao)\n",
        "        print(\"Departamento.: \", departamento)\n",
        "\n",
        "    elif opcao == 0:\n",
        "      print(\"Saindo do programa.\")\n",
        "      break\n",
        "\n",
        "    else:\n",
        "      print(\"Opção inválida. Tente novamente.\")"
      ],
      "metadata": {
        "id": "OAG1nk6ZSnLp"
      },
      "execution_count": null,
      "outputs": []
    },
    {
      "cell_type": "code",
      "source": [
        "# Criar um arquivo txt e escrever algo dentro dele\n",
        "with open('./arquivo.txt','w') as arq:\n",
        "  a = input(\"Digite seu nome: \")\n",
        "  b = int(input(\"Digite sua idade: \"))\n",
        "  c = float(input(\"Digite sua altura: \"))\n",
        "  arq.write(f\"Oi, meu nome é {a}, tenho {b} anos e meço {c}m\")"
      ],
      "metadata": {
        "id": "t9SsuyySSXZE"
      },
      "execution_count": null,
      "outputs": []
    },
    {
      "cell_type": "code",
      "source": [
        "# Criar uma função que insere um texto em um arquivo txt\n",
        "def inserir(caminho):\n",
        "  with open(caminho, 'a') as arq:\n",
        "    a = input(\"Digite seu nome: \")\n",
        "    b = int(input(\"Digite sua idade: \"))\n",
        "    c = float(input(\"Digite sua altura: \"))\n",
        "    arq.write(f\"\\nOi, meu nome é {a}, tenho {b} anos e meço {c}m\")\n",
        "\n",
        "\n",
        "inserir('arquivo.txt')"
      ],
      "metadata": {
        "id": "vYXcpThISYGc"
      },
      "execution_count": null,
      "outputs": []
    },
    {
      "cell_type": "code",
      "source": [
        "# Criar uma funçao para ler um arquivo txt\n",
        "def ler(caminho):\n",
        "  with open(caminho, 'r') as arq:\n",
        "    return arq.read()\n",
        "\n",
        "ler('arquivo.txt')"
      ],
      "metadata": {
        "id": "jYOAbZ_ISYOM"
      },
      "execution_count": null,
      "outputs": []
    },
    {
      "cell_type": "code",
      "source": [],
      "metadata": {
        "id": "i0NgUwB1SYaV"
      },
      "execution_count": null,
      "outputs": []
    },
    {
      "cell_type": "code",
      "source": [],
      "metadata": {
        "id": "6a7xilWkSYjj"
      },
      "execution_count": null,
      "outputs": []
    },
    {
      "cell_type": "code",
      "source": [],
      "metadata": {
        "id": "1cVLVxBoSYu7"
      },
      "execution_count": null,
      "outputs": []
    },
    {
      "cell_type": "markdown",
      "source": [
        "## Manipulação de Strings:\n",
        "\n",
        "- __split(separador):__ Divide uma string em uma lista de substrings com base no delimitador fornecido.\n",
        "\n",
        "  __Exemplo:__\n",
        "  ```python\n",
        "  string = \"a;b;c\"\n",
        "  print(string.split(';'))\n",
        "  # output ['a', 'b', 'c']\n",
        "  ```\n",
        "\n",
        "- __join(iterável):__ Combina os elementos de um iterável (como uma lista) em uma única string, usando o delimitador especificado.\n",
        "\n",
        "  __Exemplo:__\n",
        "  ```python\n",
        "  lista = ['a', 'b', 'c']\n",
        "  print(';'.join(lista))\n",
        "  # output \"a;b;c\"\n",
        "  ```\n",
        "- __slice[início : fim]:__ Permite extrair uma parte específica de uma string (ou lista) selecionando um intervalo de índices.\n",
        "\n",
        "  __Exemplo:__\n",
        "  ```python\n",
        "  string = \"abcdef\"\n",
        "  print(string[1:4])\n",
        "  # output \"bcd\"\n",
        "  ```\n",
        "\n",
        "- strip(): Remove espaços em branco do início e do final de uma string.\n",
        "\n",
        "  __Exemplo:__\n",
        "  ```python\n",
        "  string = \"  hello  \"\n",
        "  print(string.strip())\n",
        "  # output \"hello\"\n",
        "  ```\n",
        "\n",
        "- __find(buscador):__ Localiza o índice do primeiro 'buscador' na string. Se não for encontrado, find() retorna -1\n",
        "\n",
        "  ```python\n",
        "  string = 'Encontre uma letra ou palavra'\n",
        "  print(string.find('letra'))\n",
        "  # output 13\n",
        "  ```\n",
        "\n"
      ],
      "metadata": {
        "id": "BtvOgfIc0It1"
      }
    },
    {
      "cell_type": "code",
      "source": [
        "# Jeito mais facil\n",
        "\n",
        "inventario = {}\n",
        "\n",
        "while True:\n",
        "    opcao = chamarMenu()\n",
        "\n",
        "    if opcao == 1:\n",
        "      registrar(inventario)\n",
        "\n",
        "    elif opcao == 2:\n",
        "      persistir(inventario)\n",
        "\n",
        "    # Alteração\n",
        "    elif opcao == 3:\n",
        "      resultado = exibir()\n",
        "      for string in resultado:\n",
        "        partes = string.split(';')\n",
        "        print(';'.join(partes[1:]).strip())\n",
        "\n",
        "    elif opcao == 0:\n",
        "      print(\"Saindo do programa.\")\n",
        "      break\n",
        "\n",
        "    else:\n",
        "      print(\"Opção inválida. Tente novamente.\")"
      ],
      "metadata": {
        "id": "5VZwf-gtmkxH"
      },
      "execution_count": null,
      "outputs": []
    },
    {
      "cell_type": "markdown",
      "source": [
        "### Código:\n",
        "Quando a opção 3 é selecionada, o programa chama a função exibir(), que lê o conteúdo do arquivo inventario.csv e retorna uma lista de strings, onde cada string representa uma linha do arquivo. Em seguida, o código entra em um loop for que percorre cada linha dessa lista.\n",
        "\n",
        "Para cada linha, a string é dividida em várias partes usando o ponto e vírgula (;) como delimitador. Isso é feito com o método split(';'), que cria uma lista chamada partes. Cada elemento da lista partes corresponde a uma seção da linha original, separada pelo ponto e vírgula.\n",
        "\n",
        "Depois o código utiliza o método join para unir todas as partes da lista, exceto a primeira, que contém o número patrimonial e o ponto e vírgula. Essas partes são unidas de volta em uma única string, com pontos e vírgulas entre elas, e qualquer espaço em branco extra ao redor é removido com strip()."
      ],
      "metadata": {
        "id": "G5aT1GShV1PS"
      }
    },
    {
      "cell_type": "markdown",
      "source": [
        "Até o momento, manipulamos dados e arquivos que nós mesmos\n",
        "organizamos e criamos e, sem dúvida, esse é o mundo perfeito.\n",
        "\n",
        "Entretanto, em muitas ocasiões, você deverá realizar a leitura e recuperar dados de arquivos de terceiros, como, por exemplo, logs gerados pelo sistema operacional, arquivos de configuração de roteadores e outros equipamentos ou ainda arquivos gerados por\n",
        "ferramentas de outros programadores.\n",
        "\n",
        "Por isso, nesse tópico, realizaremos o tratamentodos dados de um arquivo de terceiro, a fim de praticarmos e fixarmos os métodos, sobre Strings e arquivos, abordados até o momento e também para que possamos praticar umpouco mais a lógica para o trabalho com arquivos.\n",
        "\n",
        "__Vamos lá:__\n",
        "Comece acessando o link: https://data.boston.gov/dataset/\n",
        "\n",
        "Irá direcioná-lo para uma página que permitirá realizar o\n",
        "download de um arquivo “csv”, que contém indicadores oficiais relacionados à cidade de Boston-EUA.\n",
        "\n",
        "\n",
        "Após baixar o arquivo, arraste-o para dentro do pacote 3_3_ManipulaArquivos\n",
        "e crie o arquivo Boston.py. Abra o arquivo “economic-indicators.csv” e você irá encontrar, na primeira linha, as siglas dos indicadores e, nas linhas subsequentes, os dados separados por vírgula, seguindo a ordem dos indicadores."
      ],
      "metadata": {
        "id": "nC2hAECBWboi"
      }
    },
    {
      "cell_type": "code",
      "source": [
        "with open(\"economic-indicators.csv\", \"r\") as boston:\n",
        "  print(boston.read())"
      ],
      "metadata": {
        "id": "E0tioBPuc2Dc"
      },
      "execution_count": null,
      "outputs": []
    },
    {
      "cell_type": "code",
      "source": [
        "# Somar quantos voos ocorreram:\n",
        "\n",
        "with open(\"economic-indicators.csv\", \"r\") as boston:\n",
        "  total=0\n",
        "  for linha in boston.readlines()[1:]:\n",
        "    total = total+int(linha.split(\",\")[3])\n",
        "  print(\"O total de voos é: \", total)\n"
      ],
      "metadata": {
        "id": "ggyiQb0HTjEb"
      },
      "execution_count": null,
      "outputs": []
    },
    {
      "cell_type": "markdown",
      "source": [
        "# Exercicio:\n",
        "\n",
        "- Qual o total de voos internacionais que partiram do aeroporto de Logan no ano de 2014?\n",
        "\n",
        "- Quando (mês/ano) ocorreu o maior trânsito de passageiros no aeroporto de Logan?\n",
        "\n",
        "- Qual o total de passageiros que passaram pelo aeroporto de Logan, no ano que for especificado pelo usuário?\n",
        "\n",
        "- Qual o mês que possui a maior média da diária de um hotel, com base no\n",
        "ano especificado pelo usuário?\n",
        "\n",
        "## Colunas:\n",
        "- Year = ano do dado\n",
        "\n",
        "- Month = mês do dado\n",
        "\n",
        "- logan_passengers = quantidade de passageiros, internacionais e\n",
        "domésticos, que passaram pelo aeroporto de Logan.\n",
        "\n",
        "- logan_intl_flights = total de voos internacionais que partiram do aeroporto de Logan.\n",
        "\n",
        "- hotel_occup_rate = porcentagem de vagas ocupadas nos hotéis de\n",
        "Boston.\n",
        "\n",
        "- hotel_avg_daily_rate = média da diária, em dólar, de um hotel em Boston.\n",
        "\n",
        "- total_jobs,unemp_rate = porcentagem de desempregados em Boston."
      ],
      "metadata": {
        "id": "o-GWpTPhif4x"
      }
    },
    {
      "cell_type": "code",
      "source": [
        "with open(\"economic-indicators.csv\",\"r\") as boston:\n",
        "    total_voos = 0\n",
        "    maior = 0\n",
        "    total_passageiros = 0\n",
        "    maior_media_diaria = 0\n",
        "    ano_usuario = input(\"Qual ano deseja pesquisar? \")\n",
        "\n",
        "    for linha in boston.readlines()[1:]:\n",
        "        lista = linha.split(\",\")\n",
        "        total_voos += float(lista[3])\n",
        "\n",
        "        if float(lista[2]) > float(maior):\n",
        "            maior = lista[2]\n",
        "            ano = lista[0]\n",
        "            mes = lista[1]\n",
        "\n",
        "        if ano_usuario == lista[0]:\n",
        "            total_passageiros += float(lista[2])\n",
        "\n",
        "            if float(lista[5]) > float(maior_media_diaria):\n",
        "                maior_media_diaria = lista[5]\n",
        "                mes_maior_diaria = lista[1]\n",
        "\n",
        "    print(\"O total de voos é: \", total_voos)\n",
        "    print(\"O mês/ano de maior movimento no aeroporto foi: \", str(mes), \"/\", str(ano))\n",
        "    print(\"O total de passageiros do ano \", ano_usuario, \"foi de \", total_passageiros)\n",
        "    print(\"O mês do ano \", ano_usuario, \"com maior média para diária de hotel foi \", mes_maior_diaria)\n"
      ],
      "metadata": {
        "id": "jGnBFj2Ojthc"
      },
      "execution_count": null,
      "outputs": []
    },
    {
      "cell_type": "code",
      "source": [],
      "metadata": {
        "id": "ub1l2e8AAbev"
      },
      "execution_count": null,
      "outputs": []
    },
    {
      "cell_type": "code",
      "source": [],
      "metadata": {
        "id": "3yZzrWF4AeSt"
      },
      "execution_count": null,
      "outputs": []
    },
    {
      "cell_type": "code",
      "source": [],
      "metadata": {
        "id": "gBR1dO32Aebu"
      },
      "execution_count": null,
      "outputs": []
    },
    {
      "cell_type": "code",
      "source": [
        "# Criar/Sobreescrever um arquivo\n",
        "with open(\"./arq.txt\", \"w\") as arq:\n",
        "  arq.write(\"OI\")\n",
        "  arq.write(\"Tudo Bem?\")\n",
        "\n",
        "# Colocar mais coisa dentro desse arquivo\n",
        "with open(\"./arq.txt\", \"a\") as arq:\n",
        "  arq.write(\"Eu estou otimo!!\")\n",
        "\n",
        "# Ler\n",
        "with open(\"./arq.txt\", \"r\") as arq:\n",
        "  print(arq.read())"
      ],
      "metadata": {
        "id": "7TD7-mgLAekG"
      },
      "execution_count": null,
      "outputs": []
    },
    {
      "cell_type": "code",
      "source": [],
      "metadata": {
        "id": "alaQV7tEAeru"
      },
      "execution_count": null,
      "outputs": []
    },
    {
      "cell_type": "code",
      "source": [],
      "metadata": {
        "id": "LAjzikFjAey5"
      },
      "execution_count": null,
      "outputs": []
    },
    {
      "cell_type": "markdown",
      "source": [
        "# Vice - Versa\n",
        "\n",
        "Já trabalhamos com arquivos que nós mesmos geramos e com arquivos de\n",
        "terceiros, mas você também deve pensar em outros profissionais que podem\n",
        "precisar realizar leitura sobre os seus arquivos, e pensando um pouco maior ainda, os seus arquivos gerados pelo Python podem ser exportados para outras plataformas, até mesmo por uma aplicação mobile.\n",
        "\n",
        "O que desejamos dizer é que não basta o Python ser portátil, os dados que você gera por meio dele também devem ter a qualidade da portabilidade."
      ],
      "metadata": {
        "id": "KWt94Awil9_T"
      }
    },
    {
      "cell_type": "markdown",
      "source": [
        "Imagine que você irá desenvolver alguma ferramenta que deverá se\n",
        "comunicar com outra aplicação, como, por exemplo, se conectar aos Correios, à Receita Federal, ao Detran ou, simplesmente, à aplicação de um programador que fala outro idioma em outro país...\n",
        "\n",
        "Como será possível estabelecer uma comunicação entre a sua aplicação e qualquer outra aplicação do mundo que queira trocar dados?\n",
        "\n",
        "\n",
        "__Utilizando um padrão de comunicação.__\n",
        "\n",
        "Um padrão muito comum utilizado pelos programadores é o __XML__, que permite a troca de dados entre plataformas distintas.\n",
        "\n",
        "Uma prova disso é a nota fiscal eletrônica, que roda em todo o País e não importa se você usa Windows 32 bits, 64 bits, Linux, iOS, Solaris ou qualquer outro sistema operacional,tampouco importa a\n",
        "linguagem que foi utilizada para desenvolver a ferramenta e não importa também se o programa que irá gerar a nota fiscal for realizado em .Net, Java, PHP, Python ou qualquer outra linguagem.\n",
        "\n",
        "O único fator que importa é que os dados sejam criados dentro do padrão XML.\n",
        "\n",
        "Mas não abordaremos o XML, que é mais comumente utilizado para sistemas comerciais, como é o caso da nota fiscal eletrônica.\n",
        "\n",
        "Abordaremos outro padrão, também muito utilizado, para que você garanta\n",
        "que a saída dos dados da sua aplicação tenha portabilidade, esse é o tal __JSON!__"
      ],
      "metadata": {
        "id": "REUtQrw6rUl9"
      }
    },
    {
      "cell_type": "markdown",
      "source": [
        "![image.png](data:image/png;base64,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)"
      ],
      "metadata": {
        "id": "B8Bl-Q3TsFMl"
      }
    },
    {
      "cell_type": "markdown",
      "source": [
        "__JSON__ é uma sigla, JavaScript Object Notation, que representa um padrão\n",
        "para armazenamento de dados, cuja principal função é permitir a troca de dados\n",
        "entre aplicações e plataformas distintas. O Python possui um módulo para facilitar o\n",
        "trabalho com esse tipo de padronização.\n",
        "\n",
        "Vamos a um exemplo prático, crie um\n",
        "arquivo chamado “Manipular_JSON.py” e digite o código a seguir:"
      ],
      "metadata": {
        "id": "xpTCJmYwu_t9"
      }
    },
    {
      "cell_type": "code",
      "source": [
        "import json\n",
        "\n",
        "inventario = {}\n",
        "\n",
        "opcao = int(input(\n",
        "    \"Digite: \"\n",
        "    \"\\n<1> para registrar ativo\"\n",
        "    \"\\n<2> para exibir ativos armazenados: \"\n",
        "))\n",
        "\n",
        "while opcao > 0 and opcao < 3:\n",
        "    if opcao == 1:\n",
        "\n",
        "        resp = \"S\"\n",
        "        while resp == \"S\":\n",
        "            inventario[input(\"Digite o número patrimonial: \")] = [\n",
        "                input(\"Digite a data da última atualização: \"),\n",
        "                input(\"Digite a descrição: \"),\n",
        "                input(\"Digite o departamento: \")\n",
        "            ]\n",
        "            resp = input(\"Digite <S> para continuar.\").upper()\n",
        "\n",
        "        with open(\"inventario_json.json\", \"w\") as arq_json:\n",
        "            json.dump(inventario, arq_json)\n",
        "            print(\"JSON gerado!!!!\")\n",
        "            resp = input(\"Digite <S> para continuar.\").upper()\n",
        "\n",
        "    elif opcao == 2:\n",
        "        with open(\"inventario_json.json\", \"r\") as arq_json:\n",
        "            resultado = json.load(arq_json)\n",
        "            for chave, dado in resultado.items():\n",
        "                print(\"Data.........: \", dado[0])\n",
        "                print(\"Descrição....: \", dado[1])\n",
        "                print(\"Departamento.: \", dado[2])\n",
        "\n",
        "    opcao = int(input(\n",
        "        \"Digite: \"\n",
        "        \"\\n<1> para registrar ativo\"\n",
        "        \"\\n<2> para exibir ativos armazenados: \"\n",
        "    ))\n"
      ],
      "metadata": {
        "id": "FPyQsGOOrTw9"
      },
      "execution_count": null,
      "outputs": []
    },
    {
      "cell_type": "code",
      "source": [
        "import json\n",
        "inventario = {}\n",
        "opcao = int(input(\"\"\"\n",
        "Digite:\n",
        "<1> para registrar ativo\n",
        "<2> para exibir ativos armazenados\n",
        "\"\"\"))\n",
        "\n",
        "while opcao > 0 and opcao < 3:\n",
        "  # Se for 1:\n",
        "  if opcao == 1:\n",
        "    # Criar um looping para ficar inserindo\n",
        "    resp = \"S\"\n",
        "    while resp == \"S\":\n",
        "      # Pedir coisas para serem inseridas {num_patrimonial: [descricao, data, local]}\n",
        "      num_pat = int(input(\"Digite um número patrimonial: \"))\n",
        "      # Verificar se o num_pat ja existe no meu dicionario\n",
        "      if num_pat not in inventario.keys():\n",
        "        desc = input(\"Digite uma descrição: \")\n",
        "        data = input(\"Digite uma data: \")\n",
        "        local = input(\"Digite um local: \")\n",
        "        inventario[num_pat] = [desc, data, local]\n",
        "      else:\n",
        "        print(\"Esse número patrimonial já existe! \")\n",
        "      resp = input(\"Digite <S> para continuar: \").upper()\n",
        "\n",
        "    # Criar um arq json\n",
        "    with open(\"./arq.json\", \"w\") as arq:\n",
        "      # Coloco meu inventario no arquivo\n",
        "      json.dump(inventario, arq)\n",
        "    print(\"JSON gerado!\")\n",
        "\n",
        "  elif opcao == 2:\n",
        "    # Abrir meu arquivo em modo leitura\n",
        "    with open(\"./arq.json\", \"r\") as arq:\n",
        "      # carregar o conteudo em uma variavel == dic\n",
        "      dicionario = json.load(arq)\n",
        "      # Exibir variavel\n",
        "      for chave, valor in dicionario.items():\n",
        "        print(f\"\\nNúmero Patrimonial:... {chave}\")\n",
        "        print(f\"Descrição:.............. {valor[0]}\")\n",
        "        print(f\"Data:................... {valor[1]}\")\n",
        "        print(f\"Local:.................. {valor[2]}\")\n",
        "\n",
        "  opcao = int(input(\"\"\"\n",
        "  Digite:\n",
        "  <1> para registrar ativo\n",
        "  <2> para exibir ativos armazenados\n",
        "  \"\"\"))"
      ],
      "metadata": {
        "id": "l6ex4OyzDUym"
      },
      "execution_count": null,
      "outputs": []
    },
    {
      "cell_type": "markdown",
      "source": [
        "Como já afirmamos anteriormente, o Python possui um módulo para a\n",
        "manipulação de JSON e, para que possamos utilizar os seus objetos e métodos, devemos importá-lo.\n",
        "\n",
        "Perceba que, nesse exemplo, retiramos a antiga opção “2”, que era\n",
        "responsável por persistir no arquivo, pois agora realizamos a persistência logo após o usuário digitar todos os dados no dicionário “inventario”, assim que o loop for encerrado, já realizamos a persistência no formato JSON.\n",
        "\n",
        "Para gravarmos o dicionário “inventario” no arquivo, utilizamos o método\n",
        "__dump()__, que pertence ao objeto “json”.\n",
        "\n",
        "Esse método é formado, basicamente, por dois parâmetros:\n",
        "- O que será gravado, no nosso caso, o dicionário “inventario”\n",
        "- Onde será gravado, quando definimos o “arq_json”, que aponta para o\n",
        "arquivo “inventario_json.json”, o qual estará aberto em modo escrito.\n",
        "\n",
        "Ou seja, caso ele não exista será criado automaticamente e, caso já exista, será sobrescrito.\n",
        "\n",
        "Na opção “2”, abrimos o nosso arquivo em modo de leitura apenas e, então, chamamos o método __load()__, que também pertence ao objeto “json”.\n",
        "\n",
        "Ele descarrega o arquivo informado no parâmetro para uma variável, no nosso exemplo, a variável “resultado”.\n",
        "\n",
        "Em seguida, montamos um laço “foreach”, que irá trazer a chave (número patrimonial) e os dados (uma lista com data, descrição e departamento);\n",
        "\n",
        "Finalizamos com a exibição e o menu de opções novamente."
      ],
      "metadata": {
        "id": "67Y-ZJ_65nym"
      }
    },
    {
      "cell_type": "markdown",
      "source": [
        "# Problema:\n",
        "\n",
        "Agora perceba que, como não utilizamos, na opção “1”, o modo de\n",
        "concatenação, se você executar novamente o seu código, verá que o seu arquivo anterior será sobrescrito, isto é, se você lançar um ativo, o seu arquivo ficará apenas com um ativo e não mais com três (considerando os outros dois que você preencheu\n",
        "anteriormente).\n",
        "\n",
        "# Solução:\n",
        "\n",
        "Para solucionar isso, faremos uma alteração na estrutura do nosso\n",
        "código, ao invés de criarmos o dicionário “inventario” vazio, já o criaremos preenchido pelo arquivo, assim, a nossa opção “1” irá adicionar mais um objeto ao dicionário, que já estará preenchido com o conteúdo do arquivo e, finalmente, quando for realizar a gravação, irá gravar todos os objetos que estiverem no dicionário."
      ],
      "metadata": {
        "id": "4mNSBo1l8f46"
      }
    },
    {
      "cell_type": "code",
      "source": [
        "import json\n",
        "\n",
        "with open(\"inventario_json.json\", \"r\") as arq_json:\n",
        "    inventario = json.load(arq_json)\n",
        "\n",
        "opcao = int(input(\n",
        "    \"Digite: \"\n",
        "    \"\\n<1> para registrar ativo\"\n",
        "    \"\\n<2> para exibir ativos armazenados: \"\n",
        "))\n",
        "\n",
        "while opcao > 0 and opcao < 3:\n",
        "    if opcao == 1:\n",
        "        resp = \"S\"\n",
        "        while resp == \"S\":\n",
        "            inventario[input(\"Digite o número patrimonial: \")] = [\n",
        "                input(\"Digite a data da última atualização: \"),\n",
        "                input(\"Digite a descrição: \"),\n",
        "                input(\"Digite o departamento: \")\n",
        "            ]\n",
        "            resp = input(\"Digite <S> para continuar.\").upper()\n",
        "\n",
        "        with open(\"inventario_json.json\", \"w\") as arq_json:\n",
        "            json.dump(inventario, arq_json)\n",
        "            print(\"JSON gerado!!!!\")\n",
        "\n",
        "    elif opcao == 2:\n",
        "        for chave, dado in inventario.items():\n",
        "            print(\"Data.........: \", dado[0])\n",
        "            print(\"Descrição....: \", dado[1])\n",
        "            print(\"Departamento.: \", dado[2])\n",
        "\n",
        "    opcao = int(input(\n",
        "        \"Digite: \"\n",
        "        \"\\n<1> para registrar ativo\"\n",
        "        \"\\n<2> para exibir ativos armazenados: \"\n",
        "    ))\n"
      ],
      "metadata": {
        "id": "BtrV6t-95JVC"
      },
      "execution_count": null,
      "outputs": []
    },
    {
      "cell_type": "markdown",
      "source": [
        "# Problema:\n",
        "\n",
        "Elimine o arquivo “inventario_json.json”, para isso, clique com o botão direito sobre o arquivo, escolha a opção “Delete”, clique nobotão “OK” e, no painel debaixo do PyCharm,normalmente irá aparecer um botão com o texto “Do Factor”, clique sobre ele para confirmar a exclusão.\n",
        "\n",
        "Rode novamente a aplicação e, então, verá um erro que ocorrerá porque o Python não localizou o arquivo parapreencher o dicionário “inventario”.\n",
        "\n",
        "\n",
        "Uma forma simples para resolver esse problema é identificar se o arquivo já existe.\n",
        "\n",
        "Para isso, precisaremos importar o pacote “os” (Operation System), que\n",
        "permite acessar objetos e funções referentes ao sistema operacional.\n",
        "\n",
        "Uma dessas funções é a __“path.exists()”__, que retorna “True”, caso encontre o arquivo especificado como parâmetro, ou “False”, se o arquivo não for encontrado."
      ],
      "metadata": {
        "id": "Bo7yZEB2_pBr"
      }
    },
    {
      "cell_type": "code",
      "source": [
        "import json\n",
        "import os\n",
        "\n",
        "if os.path.exists(\"inventario_json.json\"):\n",
        "  with open(\"inventario_json.json\", \"r\") as arq_json:\n",
        "    inventario = json.load(arq_json)\n",
        "else:\n",
        "  inventario={}\n",
        "\n",
        "opcao=int(input(\"Digite: \\n<1> para registrar ativo\"\n",
        "\"\\n<2> para exibir ativos armazenados: \"))\n",
        "\n",
        "while opcao > 0 and opcao < 3:\n",
        "    if opcao == 1:\n",
        "        resp = \"S\"\n",
        "        while resp == \"S\":\n",
        "            inventario[input(\"Digite o número patrimonial: \")] = [\n",
        "                input(\"Digite a data da última atualização: \"),\n",
        "                input(\"Digite a descrição: \"),\n",
        "                input(\"Digite o departamento: \")\n",
        "            ]\n",
        "            resp = input(\"Digite <S> para continuar.\").upper()\n",
        "\n",
        "        with open(\"inventario_json.json\", \"w\") as arq_json:\n",
        "            json.dump(inventario, arq_json)\n",
        "            print(\"JSON gerado!!!!\")\n",
        "\n",
        "    elif opcao == 2:\n",
        "        for chave, dado in inventario.items():\n",
        "            print(\"Data.........: \", dado[0])\n",
        "            print(\"Descrição....: \", dado[1])\n",
        "            print(\"Departamento.: \", dado[2])\n",
        "\n",
        "    opcao = int(input(\n",
        "        \"Digite: \"\n",
        "        \"\\n<1> para registrar ativo\"\n",
        "        \"\\n<2> para exibir ativos armazenados: \"\n",
        "    ))"
      ],
      "metadata": {
        "id": "E69lOFFV9l3z"
      },
      "execution_count": null,
      "outputs": []
    },
    {
      "cell_type": "code",
      "source": [
        "import json\n",
        "import os\n",
        "\n",
        "# ler arquivo\n",
        "def ler_arquivo(arquivo):\n",
        "  if os.path.exists(\"./arq.json\"):\n",
        "    with open(\"./arq.json\", \"r\") as arq:\n",
        "      dicionario = json.load(arq)\n",
        "  else:\n",
        "    dicionario = {}\n",
        "  return dicionario\n",
        "\n",
        "# inserir_patrimonio\n",
        "def add_pat(dicionario):\n",
        "  resp = \"S\"\n",
        "  while resp == \"S\":\n",
        "    num_pat = int(input(\"Digite um número patrimonial: \"))\n",
        "    if num_pat not in dicionario.keys():\n",
        "      desc = input(\"Digite uma descrição: \")\n",
        "      data = input(\"Digite uma data: \")\n",
        "      local = input(\"Digite um local: \")\n",
        "      dicionario[num_pat] = [desc, data, local]\n",
        "    else:\n",
        "      print(\"Esse número patrimonial já existe! \")\n",
        "    resp = input(\"Digite <S> para continuar: \").upper()\n",
        "\n",
        "# gravar arquivo\n",
        "def gravar_arquivo(dicionario, arquivo):\n",
        "  with open(arquivo, \"w\") as arq:\n",
        "    json.dump(dicionario, arq)\n",
        "\n",
        "# exibir\n",
        "def exibir(arquivo):\n",
        "  dicionario = ler_arquivo(arquivo)\n",
        "  for chave, valor in dicionario.items():\n",
        "    print(f\"\\nNúmero Patrimonial:... {chave}\")\n",
        "    print(f\"Descrição:.............. {valor[0]}\")\n",
        "    print(f\"Data:................... {valor[1]}\")\n",
        "    print(f\"Local:.................. {valor[2]}\")\n",
        "\n",
        "def menu():\n",
        "  opcao = int(input(\"\"\"\n",
        "  Digite:\n",
        "  <1> para registrar ativo\n",
        "  <2> para exibir ativos armazenados\n",
        "  \"\"\"))\n",
        "  return opcao"
      ],
      "metadata": {
        "id": "FR6rJPQ0ey_I"
      },
      "execution_count": null,
      "outputs": []
    },
    {
      "cell_type": "code",
      "source": [
        "inventario = ler_arquivo(\"./arq.json\")\n",
        "op = menu()\n",
        "while op > 0 and op < 3:\n",
        "  if op == 1:\n",
        "    add_pat(inventario)\n",
        "    gravar_arquivo(inventario, './arq.json')\n",
        "  elif op == 2:\n",
        "    exibir(\"arq.json\")\n",
        "  op = menu()"
      ],
      "metadata": {
        "id": "SBmXM6JPXp5i"
      },
      "execution_count": null,
      "outputs": []
    },
    {
      "cell_type": "markdown",
      "source": [
        "Ainda podemos melhorar um último detalhe. O fato de modularizar. Isso significa aplicar as funções.\n",
        "\n",
        "__Vamos lá!__"
      ],
      "metadata": {
        "id": "YcAPetARBOr5"
      }
    },
    {
      "cell_type": "markdown",
      "source": [
        "# Desafio Final:\n",
        "\n",
        "Para finalizar este capítulo, você poderá aplicar todos os conceitos vistos, desenvolvendo uma ferramenta mais completa para catalogar o inventário do seu cliente.\n",
        "\n",
        "Armazene tudo em arquivo e crie, pelo menos, duas formas de saídas, por\n",
        "modelos, atualizações e valores, por exemplo."
      ],
      "metadata": {
        "id": "4C4_IS12DZqj"
      }
    },
    {
      "cell_type": "code",
      "source": [
        "import json\n",
        "import os\n",
        "\n",
        "def verificar_arquivo(arquivo):\n",
        "  if os.path.exists(arquivo):\n",
        "    with open(arquivo, \"r\") as arq_json:\n",
        "      agenda = json.load(arq_json)\n",
        "  else:\n",
        "    agenda = {}\n",
        "  return agenda\n",
        "\n",
        "def add_contato(agenda):\n",
        "  resp = \"S\"\n",
        "  while resp == \"S\":\n",
        "    nome = input(\"Digite seu nome: \")\n",
        "    tel = input(\"Digite seu telefone: \")\n",
        "    email = input(\"Digite seu email: \")\n",
        "    cargo = input(\"Digite seu cargo: \")\n",
        "    agenda[nome] = [tel, email, cargo]\n",
        "    resp = input(\"Digite <S> para continuar\").upper()\n",
        "\n",
        "def gravar(agenda, arquivo):\n",
        "  with open(arquivo, \"w\") as arq_json:\n",
        "    json.dump(agenda, arq_json)\n",
        "\n",
        "def mostrar_agenda(arquivo):\n",
        "  with open(arquivo, \"r\") as arq_json:\n",
        "    agenda = json.load(arq_json)\n",
        "    for chave, valor in agenda.items():\n",
        "      print(f\"\\nNome: {chave}\")\n",
        "      print(f\"Telefone: {valor[0]}\")\n",
        "      print(f\"Email: {valor[1]}\")\n",
        "      print(f\"Cargo: {valor[2]}\")"
      ],
      "metadata": {
        "id": "H_826EydlVZT"
      },
      "execution_count": null,
      "outputs": []
    },
    {
      "cell_type": "code",
      "source": [
        "agenda = verificar_arquivo(\"./agenda.json\")\n",
        "add_contato(agenda)\n",
        "gravar(agenda, \"./agenda.json\")\n",
        "mostrar_agenda(\"./agenda.json\")"
      ],
      "metadata": {
        "id": "jbEAD0TFtv9w"
      },
      "execution_count": null,
      "outputs": []
    }
  ]
}