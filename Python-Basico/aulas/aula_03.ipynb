{
  "nbformat": 4,
  "nbformat_minor": 0,
  "metadata": {
    "colab": {
      "provenance": []
    },
    "kernelspec": {
      "name": "python3",
      "display_name": "Python 3"
    },
    "language_info": {
      "name": "python"
    }
  },
  "cells": [
    {
      "cell_type": "markdown",
      "source": [
        "# Joguinho adivinha o numero!!!!\n",
        "\n",
        "O computador escolhe, secretamente, um intervalo determinado (ex: de 1 a 100).\n",
        "\n",
        "Seu objetivo é descobrir qual é esse número oculto, fazendo palpites.\n",
        "\n",
        "A cada tentativa, o computador dá uma dica:\n",
        "- Se o número que você chutou **for maior** do que o número secreto, ele diz: \"Muito Alto!\"\n",
        "\n",
        "- Se o número que você chutou **for menor** do que o número secreto, ele diz: \"Muito Baixo!\"\n",
        "\n",
        "- Se você acertar, ele diz: \"Parabens! Você acertou em x° tentativas\"\n",
        "\n",
        "**Desafio Extra:** Ao invés de tentativas, tente um número limitado de vidas"
      ],
      "metadata": {
        "id": "jaNIvelftxTh"
      }
    },
    {
      "cell_type": "code",
      "source": [
        "import random\n",
        "\n",
        "numero_aleatorio = random.randint(1, 100)\n",
        "vidas = 5\n",
        "\n",
        "while vidas > 0:\n",
        "  chute = int(input(\"Digite um número: \"))\n",
        "  if chute > numero_aleatorio:\n",
        "    vidas -= 1\n",
        "    if vidas == 0:\n",
        "      print(f\"Você perdeu. O número era {numero_aleatorio}\")\n",
        "    else:\n",
        "      print(f\"Muito Alto! Você ainda tem {vidas} vidas\")\n",
        "  elif chute < numero_aleatorio:\n",
        "    vidas -= 1\n",
        "    if vidas == 0:\n",
        "      print(f\"Você perdeu. O número era {numero_aleatorio}\")\n",
        "    else:\n",
        "      print(f\"Muito Baixo! Você ainda tem {vidas} vidas\")\n",
        "  else:\n",
        "    print(f\"Parabens vc acertou\")\n",
        "    break\n"
      ],
      "metadata": {
        "id": "Gv2J8GOQnT7_"
      },
      "execution_count": null,
      "outputs": []
    },
    {
      "cell_type": "markdown",
      "source": [
        "# Listas\n",
        "\n",
        "Vamos passar por situações em que a variável não será o recurso mais indicado, pensando em desenvolver um código limpo e reduzido, por exemplo, iremos pesquisar em um conjunto de dados, todos os usuários que possuem acesso ao sistema para a realização de uma auditoria.\n",
        "\n",
        "Cada usuário seria identificado por uma variável, certo? Mas quantos\n",
        "usuários serão pesquisados? Precisaremos de quantas variáveis? Percebe que é impossível definirmos um valor exato?\n",
        "\n",
        "Em vez disso, iremos criar uma única e singela lista que pode armazenarquantos usuários desejarmos.\n",
        "\n",
        "- ## Lista Estática\n",
        "Uma lista que ja vem preenchida.\n",
        "```python\n",
        "lista = [\"Pietro\", \"Maria\", \"Fulano\", \"Ciclano\"]\n",
        "```\n",
        "- ## Lista Dinâmica\n",
        "Uma lista que vamos preencheendo na criação\n",
        "```python\n",
        "lista = [input(\"Digite o usuário: \"), bool(int(input(\"Está logado? \")))]\n",
        "```\n",
        "\n",
        "- ## Lista Vazia\n",
        "Uma lista vazia\n",
        "```python\n",
        "lista = []\n",
        "```"
      ],
      "metadata": {
        "id": "cfzvMpZyJXeN"
      }
    },
    {
      "cell_type": "code",
      "source": [
        "# Exemplo\n",
        "\n",
        "inventario=[]\n",
        "resposta=\"S\"\n",
        "\n",
        "while resposta==\"S\":\n",
        "  inventario.append(input(\"Equipamento: \"))\n",
        "  inventario.append(float(input(\"Valor: \")))\n",
        "  inventario.append(int(input(\"Número Serial: \")))\n",
        "  inventario.append(input(\"Departamento: \"))\n",
        "  resposta=input(\"Digite <S> para continuar: \").upper()\n"
      ],
      "metadata": {
        "id": "F34vcdz3KfJB"
      },
      "execution_count": null,
      "outputs": []
    },
    {
      "cell_type": "code",
      "source": [
        "# Ver a lista\n",
        "for elemento in inventario:\n",
        "  print(elemento)"
      ],
      "metadata": {
        "id": "-CEj8Lt2Ks-f"
      },
      "execution_count": null,
      "outputs": []
    },
    {
      "cell_type": "code",
      "source": [
        "# Separando Bunitinho\n",
        "\n",
        "equipamentos = []\n",
        "valores = []\n",
        "seriais = []\n",
        "departamentos = []\n",
        "resposta = \"S\"\n",
        "\n",
        "while resposta == \"S\":\n",
        "  equipamentos.append(input(\"Equipamento: \"))\n",
        "  valores.append(float(input(\"Valor: \")))\n",
        "  seriais.append(int(input(\"Número Serial: \")))\n",
        "  departamentos.append(input(\"Departamento: \"))\n",
        "  resposta = input(\"Digite \\\"S\\\" para continuar: \").upper()\n",
        "\n",
        "for equipamento in equipamentos:\n",
        "  print(\"Equipamento: \", equipamento)"
      ],
      "metadata": {
        "id": "85h6nyu_d0lG"
      },
      "execution_count": null,
      "outputs": []
    },
    {
      "cell_type": "code",
      "source": [
        "print(equipamentos)\n",
        "print(valores)\n",
        "print(seriais)\n",
        "print(departamentos)"
      ],
      "metadata": {
        "id": "qNPOZwD76h4p"
      },
      "execution_count": null,
      "outputs": []
    },
    {
      "cell_type": "markdown",
      "source": [
        "# Índice\n",
        "\n",
        "Repare agora que estamos utilizando quatro listas, mas que o nosso “for”\n",
        "somente mostra os nomes dos equipamentos, que é o conteúdo da lista\n",
        "“equipamentos”. E para saber os outros dados?\n",
        "\n",
        "O índice é o número que define onde está armazenado um elemento dentro\n",
        "de uma lista.\n",
        "\n",
        "Quando um primeiro append() é executado na lista, ele abre a posição 0 (zero) para armazenar o dado, quando ele for executado novamente, abrirá a posição 1 (um) para o próximo dado, e assim sucessivamente.\n",
        "\n",
        "```python\n",
        "len(equipamentos)\n",
        "```\n",
        "\n",
        "| 0    | 1   | 2 |\n",
        "|------------|---------|------------|\n",
        "| Elemento 1       |  Elemento 2 | Elemento 3         |\n"
      ],
      "metadata": {
        "id": "vnVWiBgmfnhf"
      }
    },
    {
      "cell_type": "code",
      "source": [
        "# equipamentos\n",
        "equipamentos[2]"
      ],
      "metadata": {
        "id": "m0wim9BGgI14"
      },
      "execution_count": null,
      "outputs": []
    },
    {
      "cell_type": "code",
      "source": [
        "for indice in range(len(equipamentos)):\n",
        "  print(equipamentos[indice])\n",
        "  print(valores[indice])\n",
        "  print(seriais[indice])\n",
        "  print(departamentos[indice])\n",
        "  print(\"\")"
      ],
      "metadata": {
        "id": "h8SnC6Gv8VjD"
      },
      "execution_count": null,
      "outputs": []
    },
    {
      "cell_type": "code",
      "source": [
        "# Vamos mudar o for....\n",
        "for indice in range(0, len(equipamentos)):\n",
        "  print(\"\\nIndice..: \", indice)\n",
        "  print(\"Equipamento.........: \", equipamentos[indice])\n",
        "  print(\"Valor........: \", valores[indice])\n",
        "  print(\"Serial.......: \", seriais[indice])\n",
        "  print(\"Departamento.: \", departamentos[indice])"
      ],
      "metadata": {
        "id": "Qs2vHj15e-Z3"
      },
      "execution_count": null,
      "outputs": []
    },
    {
      "cell_type": "markdown",
      "source": [
        "A estrutura do nosso “for” mudou, agora não estamos trabalhando com base\n",
        "nos elementos diretamente, mas, sim, de acordo com o índice.\n",
        "\n",
        "Para a variável “índice” que criamos no “for”, será atribuído o valor  de 0 até a quantidade de elementos que existirem dentro da nossa lista “equipamentos” (função “len()”).\n",
        "\n",
        "Obviamente será a mesma quantidade de elementos que existirão nas listas: valores, seriais e departamentos"
      ],
      "metadata": {
        "id": "dStgUSzBhQVA"
      }
    },
    {
      "cell_type": "code",
      "source": [
        "busca = input(\"Digite o nome do equipamento que deseja buscar: \")\n",
        "\n",
        "for indice in range(0,len(equipamentos)):\n",
        "\n",
        "  if equipamentos[indice] == busca:\n",
        "    print(\"Valor..: \", valores[indice])\n",
        "    print(\"Serial.:\", seriais[indice])\n",
        "  else:\n",
        "    print(\"Não achei\")\n",
        "    break"
      ],
      "metadata": {
        "id": "ToKEhH1Hhgf8"
      },
      "execution_count": null,
      "outputs": []
    },
    {
      "cell_type": "markdown",
      "source": [
        "# Exercício:\n",
        "\n",
        "- Crie um programa pede o nome de um equipamento e verifica se existe dentro da lista de equipamentos, caso exista, o equipamento digitado receberá uma depreciação (desvalorização) de 10%."
      ],
      "metadata": {
        "id": "IXxzqjhHlCJ-"
      }
    },
    {
      "cell_type": "code",
      "source": [
        "busca = input(\"Digite o nome do equipamento que deseja buscar: \")\n",
        "for indice in range(1,len(equipamentos)):\n",
        "  if equipamentos[indice] == busca:\n",
        "    print(f\"Valor Antigo: {valores[indice]}\")\n",
        "    valores[indice] = valores[indice] * 0.9\n",
        "    print(f\"Valor Novo: {valores[indice]}\")"
      ],
      "metadata": {
        "id": "4exafkzFBFtw"
      },
      "execution_count": null,
      "outputs": []
    },
    {
      "cell_type": "code",
      "source": [
        "equipamentos = []\n",
        "valores = []\n",
        "seriais = []\n",
        "departamentos = []\n",
        "resposta = \"S\"\n",
        "\n",
        "while resposta == \"S\":\n",
        "  equipamentos.append(input(\"Equipamento: \"))\n",
        "  valores.append(float(input(\"Valor: \")))\n",
        "  seriais.append(int(input(\"Número Serial: \")))\n",
        "  departamentos.append(input(\"Departamento: \"))\n",
        "  resposta = input(\"Digite <S> para continuar: \").upper()\n",
        "\n",
        "\n",
        "equipamento = input(\"Digite o nome do equipamento que irá ser depreciado: \")\n",
        "for indice in range(0,len(equipamentos)):\n",
        "  if equipamento == equipamentos[indice]:\n",
        "    print(\"Valor antigo: \", valores[indice])\n",
        "\n",
        "    # Alterar valor\n",
        "    valores[indice] = valores[indice] - (valores[indice] / 10)\n",
        "    print(\"Novo valor: \", valores[indice])"
      ],
      "metadata": {
        "id": "2imn1067nBrl"
      },
      "execution_count": null,
      "outputs": []
    },
    {
      "cell_type": "markdown",
      "source": [
        "# Problema\n",
        "\n",
        "Agora observe o seguinte detalhe: se o equipamento do nosso inventário\n",
        "possuir dezenas de características, teremos que criar também dezenas de listas, e assim o código irá aumentar assustadoramente.\n",
        "\n",
        "```python\n",
        "equipamentos = []\n",
        "valores = []\n",
        "seriais = []\n",
        "departamentos = []\n",
        "```\n",
        "\n",
        "- __Listas dentro de lista:__\n",
        "Podemos explorar as listas também, inserindo uma lista dentro da outra.\n",
        "\n",
        "Para isso, iremos manipular dois índices, um para se\n",
        "referir à lista externa (responsável por armazenar outras listas) e outro para se referir\n",
        "à lista interna (que está dentro de uma lista)."
      ],
      "metadata": {
        "id": "ctXC6M_toJUu"
      }
    },
    {
      "cell_type": "code",
      "source": [
        "# Iremos montar o código com o mesmo objetivo,\n",
        "# mas dessa vez, utilizando apenas duas listas\n",
        "# (interna e externa – equipamento e inventário, respectivamente)\n",
        "\n",
        "inventario=[]\n",
        "resposta = \"S\"\n",
        "while resposta == \"S\":\n",
        "  equipamento = [\n",
        "    input(\"Equipamento: \"),\n",
        "    float(input(\"Valor: \")),\n",
        "    int(input(\"Número Serial: \")),\n",
        "    input(\"Departamento: \")\n",
        "    ]\n",
        "  inventario.append(equipamento)\n",
        "  resposta = input(\"Digite \\\"S\\\" para continuar: \").upper()"
      ],
      "metadata": {
        "id": "hjq-FCripPOS"
      },
      "execution_count": null,
      "outputs": []
    },
    {
      "cell_type": "code",
      "source": [
        "# Mostrar\n",
        "for equipamento in inventario:\n",
        "  print(\"Nome.........: \", equipamento[0])\n",
        "  print(\"Valor........: \", equipamento[1])\n",
        "  print(\"Serial.......: \", equipamento[2])\n",
        "  print(\"Departamento.: \", equipamento[3])\n",
        "  print(\"\\n\")"
      ],
      "metadata": {
        "id": "Wp04Ut7Irkyd"
      },
      "execution_count": null,
      "outputs": []
    },
    {
      "cell_type": "code",
      "source": [
        "busca=input(\"\\nDigite o nome do equipamento que deseja buscar: \")\n",
        "\n",
        "for equipamento in inventario:\n",
        "  if busca == equipamento[0]:\n",
        "    print(\"Valor..: \", equipamento[1])\n",
        "    print(\"Serial.:\", equipamento[2])"
      ],
      "metadata": {
        "id": "5Zi_LECYsGem"
      },
      "execution_count": null,
      "outputs": []
    },
    {
      "cell_type": "code",
      "source": [
        "inventario = [\n",
        "    ['Pedra', 200.0, 123, 'Construção'],\n",
        "    ['Papel', 100.0, 321, 'Papelaria'],\n",
        "    ['Tesoura', 150.0, 456, 'Manicure']\n",
        "    ]\n",
        "\n",
        "for lista in inventario:\n",
        "  for item in lista:\n",
        "    print(item)\n",
        "\n",
        "# print(inventario[1][3])\n",
        "\n",
        "\n",
        "# for num in range(0,4):\n",
        "#   print(equipamento[num])\n",
        "\n",
        "# print(equipamento[0])\n",
        "# print(equipamento[1])\n",
        "# print(equipamento[2])\n",
        "# print(equipamento[3])"
      ],
      "metadata": {
        "id": "neAOoOIgZjof"
      },
      "execution_count": null,
      "outputs": []
    },
    {
      "cell_type": "markdown",
      "source": [
        "# Funções\n",
        "\n",
        "Até agora trabalhamos com diversas funções:\n",
        "- int()\n",
        "- str()\n",
        "- float()\n",
        "- input()\n",
        "- print()\n",
        "\n",
        "Todas elas já fazem parte da linguagem Python e estão incorporadas na nossa PVM (Python VirtualMachine).\n",
        "\n",
        "Mas e se não existisse?? Em vez de utilizarmos um simples input(), deveríamos utilizar 15 linhas.\n",
        "\n",
        "Para criarmos funções, utilizaremos o comando “def”\n",
        "```python\n",
        "def funcao(parametros):\n",
        "  código que será executado...\n",
        "  return resultado\n",
        "```"
      ],
      "metadata": {
        "id": "EMzP4TSqx1RC"
      }
    },
    {
      "cell_type": "code",
      "source": [
        "\n",
        "def falar(nome):\n",
        "  return f\"Olá {nome}\"\n",
        "# print(falar(\"Andrea\"))\n",
        "\n",
        "# Crie uma função que precise de dois números e retorne a soma entre eles\n",
        "def soma(num1, num2):\n",
        "  return num1 + num2\n",
        "\n",
        "x = int(input(\"Digite um número: \"))\n",
        "y = int(input(\"Digite outro número: \"))"
      ],
      "metadata": {
        "id": "v2Bz9GFJPm-2"
      },
      "execution_count": null,
      "outputs": []
    },
    {
      "cell_type": "code",
      "source": [
        "# Função para preencher o Inventario\n",
        "\n",
        "def preencherInventario(lista):\n",
        "  resp=\"S\"\n",
        "\n",
        "  while resp == \"S\":\n",
        "    equipamento=[\n",
        "        input(\"Equipamento: \"),\n",
        "        float(input(\"Valor: \")),\n",
        "        int(input(\"Número Serial: \")),\n",
        "        input(\"Departamento: \")\n",
        "        ]\n",
        "\n",
        "    lista.append(equipamento)\n",
        "    resp = input(\"Digite \\\"S\\\" para continuar: \").upper()\n",
        "\n",
        "\n",
        "# Função para exibir o inventario\n",
        "def exibir(inventario):\n",
        "  for equipamento in inventario:\n",
        "    print(\"Nome.........: \", equipamento[0])\n",
        "    print(\"Valor........: \", equipamento[1])\n",
        "    print(\"Serial.......: \", equipamento[2])\n",
        "    print(\"Departamento.: \", equipamento[3])\n",
        "    print(\"\\n\")"
      ],
      "metadata": {
        "id": "XdjLeEflypr3"
      },
      "execution_count": null,
      "outputs": []
    },
    {
      "cell_type": "markdown",
      "source": [
        "# Exercício\n",
        "\n",
        "Tente criar a função:\n",
        "- localizarPorNome()\n",
        "- depreciarPorNome()"
      ],
      "metadata": {
        "id": "nQ_LPqD30w-H"
      }
    },
    {
      "cell_type": "code",
      "source": [
        "def localizarPorNome(inventario):\n",
        "  busca = input(\"Digite o nome do equipamento: \")\n",
        "  for equipamento in inventario:\n",
        "    if equipamento[0] == busca:\n",
        "      print(f\"Valor: {equipamento[1]}\")\n",
        "\n",
        "localizarPorNome(inventario)\n",
        "\n",
        "def depreciarPorNome(inventario, porcentagem):\n",
        "  busca = input(\"Digite o nome do equipamento: \")\n",
        "  for equipamento in inventario:\n",
        "    if equipamento[0] == busca:\n",
        "      print(f\"Valor Antigo {equipamento[1]}\")\n",
        "      equipamento[1] = equipamento[1] - (equipamento[1] * (porcentagem / 100))\n",
        "      print(f\"Valor Novo {equipamento[1]}\")\n",
        "\n",
        "depreciarPorNome(inventario, 25)"
      ],
      "metadata": {
        "id": "ealA_aBWa5-g"
      },
      "execution_count": null,
      "outputs": []
    },
    {
      "cell_type": "code",
      "source": [
        "def localizarPorNome(lista):\n",
        "  busca = input(\"\\nDigite o nome do equipamento que deseja buscar: \")\n",
        "  for elemento in lista:\n",
        "    if busca == elemento[0]:\n",
        "      print(\"Valor..: \", elemento[1])\n",
        "      print(\"Serial.:\", elemento[2])\n",
        "\n",
        "\n",
        "def depreciarPorNome(lista, porcentagem):\n",
        "  equipamento = input(\"\\nDigite o nome do equipamento que será depreciado: \")\n",
        "  for elemento in lista:\n",
        "    if equipamento == elemento[0]:\n",
        "      print(\"Valor antigo: \", elemento[1])\n",
        "      elemento[1] = elemento[1] - (elemento[1]/porcentagem)\n",
        "      print(\"Novo valor: \", elemento[1])"
      ],
      "metadata": {
        "id": "MYcwlnJO0j2P"
      },
      "execution_count": null,
      "outputs": []
    },
    {
      "cell_type": "code",
      "source": [
        "inventario = []\n",
        "preencherInventario(inventario)\n",
        "print(\"--------------\\\\----------------\")\n",
        "localizarPorNome(inventario)\n",
        "print(\"--------------\\\\----------------\")\n",
        "depreciarPorNome(inventario, 10)"
      ],
      "metadata": {
        "id": "j7Rzi-OdtEkh"
      },
      "execution_count": null,
      "outputs": []
    }
  ]
}