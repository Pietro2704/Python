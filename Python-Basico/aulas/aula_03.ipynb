{
  "nbformat": 4,
  "nbformat_minor": 0,
  "metadata": {
    "colab": {
      "provenance": []
    },
    "kernelspec": {
      "name": "python3",
      "display_name": "Python 3"
    },
    "language_info": {
      "name": "python"
    }
  },
  "cells": [
    {
      "cell_type": "markdown",
      "source": [
        "# Revisão Aula Passada\n",
        "**🧠 Desafio: Verificando Números Válidos**\n",
        "\n",
        "Peça para o usuário digitar **5 números inteiros.**\n",
        "\n",
        "Para cada número digitado, verifique se ele está **entre 10 e 50 (inclusive) e** se é **par.**\n",
        "\n",
        "Ao final, mostre:\n",
        "\n",
        "- Quantos números são válidos (ou seja, que estão entre 10 e 50 e são pares).\n",
        "\n",
        "- Quantos não são válidos.\n",
        "\n",
        "**🔢 Exemplo:**\n",
        "\n",
        "Se o usuário digitar: ```12, 7, 44, 51, 30```.\n",
        "\n",
        "A saída será:\n",
        "```\n",
        "3 números são válidos.\n",
        "2 números não são válidos.\n",
        "```"
      ],
      "metadata": {
        "id": "Z18aOqxGUEK9"
      }
    },
    {
      "cell_type": "markdown",
      "source": [
        "# Listas\n",
        "## ✳️ O que é uma lista?\n",
        "\n",
        "Uma lista é uma **coleção de itens mutáveis.**\n",
        "Você pode armazenar vários dados dentro de uma única variável.\n",
        "- **Lista Estática**\n",
        "Uma lista que ja vem preenchida.\n",
        "```python\n",
        "lista = [\"Pietro\", \"Maria\", \"Fulano\", \"Ciclano\"]\n",
        "```\n",
        "- **Lista Dinâmica**\n",
        "Uma lista que vamos preencheendo na criação\n",
        "```python\n",
        "lista = [input(\"Digite o usuário: \"), bool(int(input(\"Está logado? \")))]\n",
        "```\n",
        "\n",
        "- **Lista Vazia**\n",
        "Uma lista vazia\n",
        "```python\n",
        "lista = []\n",
        "```"
      ],
      "metadata": {
        "id": "cfzvMpZyJXeN"
      }
    },
    {
      "cell_type": "code",
      "source": [
        "# Exemplo: vazia\n",
        "lista = ...\n",
        "\n",
        "# Lista de frutas: \"Banana\", \"Pêra\", \"Maça\"\n",
        "frutas = ...\n",
        "\n",
        "# Lista de números: 1, 4, 3, 2, 5\n",
        "numeros = ...\n",
        "\n",
        "# Lista mista: \"Pietro\", 23, 1.75, True\n",
        "mista = ...\n",
        "\n",
        "print('Lista:', frutas)\n",
        "print('Tipo:', type(frutas))\n",
        "print('Tamanho:', len(frutas))"
      ],
      "metadata": {
        "id": "k80b2HoYZ-0V"
      },
      "execution_count": null,
      "outputs": []
    },
    {
      "cell_type": "markdown",
      "source": [
        "## 🎯 Acesso por índice (indexação)\n",
        "📌 Os índices começam em 0. Índices negativos contam de trás para frente.\n",
        "\n",
        "```python\n",
        "# Acessando pelo índice\n",
        "\n",
        "lista = [\"Pietro\", 23, 1.75, True]\n",
        "\n",
        "print(lista[0])   # Pietro\n",
        "print(lista[1])   # 23\n",
        "print(lista[-1])  # True\n",
        "```"
      ],
      "metadata": {
        "id": "-76JUFoo82pc"
      }
    },
    {
      "cell_type": "code",
      "source": [
        "# Nossa tentativa\n",
        "numeros = [10, 20, 30, 40, 50]\n",
        "\n",
        "# Mostre o número 20\n",
        "print(...)\n",
        "\n",
        "# Mostre o último número\n",
        "print(...)\n",
        "\n",
        "# Mostre o penúltimo número\n",
        "print(...)"
      ],
      "metadata": {
        "id": "fe1Y6WyX8L6c"
      },
      "execution_count": null,
      "outputs": []
    },
    {
      "cell_type": "markdown",
      "source": [
        "## 🛠️ Modificando valores\n",
        "```python\n",
        "lista = [\"Pietro\", 23, 1.75, True]\n",
        "lista[0] = \"Rodrigo\"      # muda 'Pietro' para 'Rodrigo'\n",
        "```"
      ],
      "metadata": {
        "id": "e6SdQouF-BuG"
      }
    },
    {
      "cell_type": "code",
      "source": [
        "# Nossa tentativa\n",
        "numeros = [10, 20, 30, 40, 50]\n",
        "\n",
        "# Mude o valor 30 da lista para 35\n",
        "# ...\n",
        "\n",
        "print(numeros)"
      ],
      "metadata": {
        "id": "hYaCrPDS-H2T"
      },
      "execution_count": null,
      "outputs": []
    },
    {
      "cell_type": "markdown",
      "source": [
        "## ➕ Adicionando elementos\n",
        "Para adicionar elementos na lista, utiliza a função **append()** ou **insert()**\n",
        "\n",
        "```python\n",
        "lista = [\"Pietro\", 23, 1.75, True]\n",
        "\n",
        "# adiciona ao final\n",
        "lista.append(False)\n",
        "print(lista) # ['Pietro', 23, 1.75, True, False]\n",
        "\n",
        "# adiciona na posição 1\n",
        "lista.insert(1, \"Ricardo\")\n",
        "print(lista) # ['Pietro', 'Ricardo', 23, 1.75, True, False]\n",
        "```"
      ],
      "metadata": {
        "id": "MhRHbbk--vQ3"
      }
    },
    {
      "cell_type": "code",
      "source": [
        "# Nossa tentativa\n",
        "nomes = []\n",
        "\n",
        "# Crie um programa que peça ao usuário 3 nomes\n",
        "# e adicione cada nome à lista usando o método append()\n",
        "\n",
        "print(nomes)"
      ],
      "metadata": {
        "id": "eflMUv27B4CN"
      },
      "execution_count": null,
      "outputs": []
    },
    {
      "cell_type": "markdown",
      "source": [
        "## ❌ Removendo elementos\n",
        "Para remover elementos na lista, utiliza a função **remove()** ou **pop()**\n",
        "\n",
        "```python\n",
        "lista = [\"Pietro\", 23, 1.75, True]\n",
        "\n",
        "# remove por valor\n",
        "lista.remove(23)\n",
        "print(lista) # [\"Pietro\", 1.75, True]\n",
        "\n",
        "# remove por índice\n",
        "lista.pop(0)      \n",
        "print(lista) # [1.75, True]\n",
        "```"
      ],
      "metadata": {
        "id": "uN5xGOh1CrgI"
      }
    },
    {
      "cell_type": "code",
      "source": [
        "# Nossa tentativa\n",
        "nomes = [\"Ana\", \"Bruno\", \"Carlos\", \"Diana\"]\n",
        "\n",
        "# Remova o nome da posição 2 de uma lista\n",
        "# ...\n",
        "\n",
        "print(nomes)"
      ],
      "metadata": {
        "id": "l_hBcz9kDjYL"
      },
      "execution_count": null,
      "outputs": []
    },
    {
      "cell_type": "markdown",
      "source": [
        "## 🔁 Percorrendo a lista com for\n",
        "Como vimos, podemos usar o **```for```** quando queremos **iterar sobre uma coleção** (lista, string, etc)."
      ],
      "metadata": {
        "id": "vrDhG2BxGK4L"
      }
    },
    {
      "cell_type": "code",
      "source": [
        "# Percorrendo item por item\n",
        "\n",
        "nomes = [\"Pietro\", \"Enzo\", \"Andrea\", \"Julia\", \"Valentina\", \"Ricardo\"]\n",
        "\n",
        "for nome in nomes:\n",
        "  print(nome)"
      ],
      "metadata": {
        "id": "FJ5iAVFsGj5Y"
      },
      "execution_count": null,
      "outputs": []
    },
    {
      "cell_type": "code",
      "source": [
        "# Percorrendo pelo índice\n",
        "print(len(nomes))\n",
        "\n",
        "# ...\n"
      ],
      "metadata": {
        "id": "HT2N956hujp_"
      },
      "execution_count": null,
      "outputs": []
    },
    {
      "cell_type": "code",
      "source": [
        "# Nossa tentativa\n",
        "\n",
        "# Crie uma lista com 5 números e mostre apenas os pares"
      ],
      "metadata": {
        "id": "eJE6rxXiG_ly"
      },
      "execution_count": null,
      "outputs": []
    },
    {
      "cell_type": "markdown",
      "source": [
        "## 📏 Funções úteis com listas\n",
        "\n",
        "```python\n",
        "numeros = [5, 2, 9, 1]\n",
        "\n",
        "print(len(numeros))     # tamanho\n",
        "print(sum(numeros))     # soma\n",
        "print(max(numeros))     # maior\n",
        "print(min(numeros))     # menor\n",
        "numeros.sort()          # ordena\n",
        "print(numeros)\n",
        "```"
      ],
      "metadata": {
        "id": "xmz_p0kZII0M"
      }
    },
    {
      "cell_type": "markdown",
      "source": [
        "**🧩 Desafio: Controle de Números Válidos**\n",
        "\n",
        "Crie um programa que peça ao usuário 3 números inteiros **entre 1 e 10 (inclusive)** para armazenar em uma lista.\n",
        "\n",
        "- Se o número digitado estiver **fora do intervalo**, o programa deve exibir uma **mensagem de erro e pedir o número novamente** (**sem contar** como um dos 3 válidos).\n",
        "\n",
        "- Ao final, o programa deve **mostrar a lista** dos números válidos inseridos **e a média** desses números."
      ],
      "metadata": {
        "id": "n6hujNhMYE_Q"
      }
    },
    {
      "cell_type": "code",
      "source": [
        "lista = []\n",
        "\n",
        "while len(lista) < 3:\n",
        "  num = ...\n",
        "\n",
        "\n",
        "\n",
        "media = ...\n",
        "print('Números Cadastrados:', lista)\n",
        "print(f'A média entre os números é {media:.2f}')"
      ],
      "metadata": {
        "id": "8bcu-xpxZWcF"
      },
      "execution_count": null,
      "outputs": []
    },
    {
      "cell_type": "markdown",
      "source": [
        "**🧩 Desafio:**\n",
        "Crie um programa que simule o **cadastro de um equipamento.**\n",
        "\n",
        "O equipamento deve conter:\n",
        "\n",
        "- **Nome**\n",
        "\n",
        "- **Valor**\n",
        "\n",
        "- **Número de série**\n",
        "\n",
        "- **Departamento responsável**\n",
        "\n",
        "Todos esses dados devem ser armazenados **juntos**, dentro de **uma única lista**."
      ],
      "metadata": {
        "id": "DERdbwWYR1M-"
      }
    },
    {
      "cell_type": "code",
      "source": [
        "nome = ...\n",
        "valor = ...\n",
        "num_serie = ...\n",
        "dep = ...\n",
        "\n",
        "equipamento = [nome, valor, num_serie, dep]\n",
        "\n",
        "print(\"\\nEquipamento cadastrado:\")\n",
        "print(equipamento)"
      ],
      "metadata": {
        "id": "FVnXIWvhSWRX"
      },
      "execution_count": null,
      "outputs": []
    },
    {
      "cell_type": "markdown",
      "source": [
        "**🧠 Perguntas para reflexão:**\n",
        "\n",
        "- O que representa **cada posição** da lista equipamento?\n",
        "- E se eu quiser **cadastrar vários equipamentos?**"
      ],
      "metadata": {
        "id": "pWIOaAGIT8wo"
      }
    },
    {
      "cell_type": "code",
      "source": [
        "# Teste\n",
        "\n",
        "print(equipamento[0])"
      ],
      "metadata": {
        "id": "DkNdClvmUkZb"
      },
      "execution_count": null,
      "outputs": []
    },
    {
      "cell_type": "markdown",
      "source": [
        "# Listas Dentro de Lista\n",
        "Agora que você já sabe como representar um equipamento com uma lista contendo **nome, valor, número de série e departamento**, vamos dar um passo a mais:"
      ],
      "metadata": {
        "id": "8tOtKzTcMfQb"
      }
    },
    {
      "cell_type": "markdown",
      "source": [
        "## 🛠️ Nosso objetivo:\n",
        "Criar um **inventário de equipamentos**, onde cada equipamento é uma lista com:\n",
        "\n",
        "- Nome do equipamento\n",
        "\n",
        "- Valor\n",
        "\n",
        "- Número de série\n",
        "\n",
        "- Departamento\n",
        "\n",
        "E **todos os equipamentos serão armazenados dentro de uma lista maior, chamada inventario.**"
      ],
      "metadata": {
        "id": "MzOAaMs8sFeu"
      }
    },
    {
      "cell_type": "code",
      "source": [
        "# Iniciar inventario\n",
        "inventario = []"
      ],
      "metadata": {
        "id": "IxEtYvXyqhfB"
      },
      "execution_count": null,
      "outputs": []
    },
    {
      "cell_type": "code",
      "source": [
        "resposta = \"SIM\"\n",
        "\n",
        "while resposta == \"SIM\":\n",
        "  nome = ...\n",
        "  valor = ...\n",
        "  num_serie = ...\n",
        "  dep = ...\n",
        "\n",
        "  equipamento = [nome, valor, num_serie, dep]\n",
        "  # Adicinar no inventário...\n",
        "\n",
        "  resposta = input(\"Digite 'SIM' para adicionar outro equipamento: \").upper()"
      ],
      "metadata": {
        "id": "F34vcdz3KfJB"
      },
      "execution_count": null,
      "outputs": []
    },
    {
      "cell_type": "code",
      "source": [
        "print('Inventario:', inventario)\n",
        "print('Tipo:', type(inventario))\n",
        "print('Tamanho:', len(inventario))"
      ],
      "metadata": {
        "id": "-CEj8Lt2Ks-f"
      },
      "execution_count": null,
      "outputs": []
    },
    {
      "cell_type": "code",
      "source": [
        "# Percorrer o inventário\n",
        "for equip in inventario:\n",
        "  print(equip)"
      ],
      "metadata": {
        "id": "hQVzRN54qVDO"
      },
      "execution_count": null,
      "outputs": []
    },
    {
      "cell_type": "markdown",
      "source": [
        "## 🧠 Acessar Informações\n",
        "\n",
        "A estrutura do nosso inventário ficou assim:\n",
        "```python\n",
        "inventario = [\n",
        "  [\"notebook\", 3500.0, 1234, \"TI\"],\n",
        "  [\"monitor\", 900.0, 5678, \"RH\"],\n",
        "  [\"impressora\", 500.0, 4321, \"Financeiro\"]\n",
        "]\n",
        "```\n",
        "\n",
        "\n",
        "- 🔹 Para acessar o **primeiro equipamento**, usamos:\n",
        "```python\n",
        "print(inventario[0])  # ['notebook', 3500.0, 1234, 'TI']\n",
        "```\n",
        "\n",
        "- 🔹 Se quisermos acessar **o nome** do primeiro equipamento:\n",
        "```python\n",
        "print(inventario[0][0])  # notebook\n",
        "```\n",
        "\n",
        "**OBS:**\n",
        "- **Primeiro índice:** escolhe a sublista (equipamento)\n",
        "- **Segundo índice:** escolhe o campo dentro da sublista\n",
        "\n",
        "### 🔄 E para mostrar todos os equipamentos?\n",
        "Usamos um ```for``` para **percorrer cada sublista** (equipamento):\n",
        "```python\n",
        "for equipamento in inventario:\n",
        "  print(\"Nome:\", equipamento[0])\n",
        "  print(\"Valor:\", equipamento[1])\n",
        "  print(\"Número de Série:\", equipamento[2])\n",
        "  print(\"Departamento:\", equipamento[3])\n",
        "  print(\"---\")\n",
        "```"
      ],
      "metadata": {
        "id": "KO5FYcuXjKBj"
      }
    },
    {
      "cell_type": "markdown",
      "source": [
        "**🧩 Desafio prático:**\n",
        "\n",
        "- **Cadastre pelo menos 5 equipamentos** em uma lista chamada inventario\n",
        "\n",
        "- Depois de cadastrar, mostre **o nome, o valor e o departamento de cada equipamento**\n",
        "\n",
        "Mostre também:\n",
        "\n",
        "- Quantos equipamentos foram cadastrados\n",
        "\n",
        "- O valor total do inventário"
      ],
      "metadata": {
        "id": "mHTfpyrOq4wu"
      }
    },
    {
      "cell_type": "code",
      "source": [
        "print(f\"Exitem {...} equipamentos cadastrados no inventário\\n\")\n",
        "\n",
        "for equipamento in inventario:\n",
        "  print(f\"Nome: {...}\")\n",
        "  print(f\"Valor: {...}\")\n",
        "  print(f\"Departamento: {...}\")\n",
        "  print(\"-\" * 20)\n",
        "\n",
        "print(f\"O valor total dos equipamentos é de R${...}\")"
      ],
      "metadata": {
        "id": "0d4vNkFGrU2q"
      },
      "execution_count": null,
      "outputs": []
    },
    {
      "cell_type": "markdown",
      "source": [
        "**🔍 Desafio: Buscar Equipamento por Nome**\n",
        "\n",
        "Crie um programa que permita ao usuário digitar o nome de um equipamento, e o programa deve:\n",
        "\n",
        "- Procurar no inventário\n",
        "\n",
        "- Exibir todas as informações do equipamento, se ele for encontrado\n",
        "\n",
        "- Caso contrário, mostrar uma mensagem dizendo que não foi encontrado"
      ],
      "metadata": {
        "id": "zhfb_Hfr0f4O"
      }
    },
    {
      "cell_type": "code",
      "source": [
        "# Desafio\n",
        "busca = input(\"Digite o nome do equipamento que deseja buscar: \").lower()\n"
      ],
      "metadata": {
        "id": "7jGPj7j20vjX"
      },
      "execution_count": null,
      "outputs": []
    },
    {
      "cell_type": "markdown",
      "source": [
        "**🧮 Desafio: Depreciação de Equipamento**\n",
        "\n",
        "Permita ao usuário digitar o nome de um equipamento para **aplicar uma depreciação** (redução de valor), por exemplo, 10%.\n",
        "\n",
        "- Se o equipamento for encontrado, atualize seu valor\n",
        "\n",
        "- Mostre o novo valor do equipamento"
      ],
      "metadata": {
        "id": "VllNJa394FAR"
      }
    },
    {
      "cell_type": "code",
      "source": [
        "# Desafio\n",
        "busca = input(\"Digite o nome do equipamento que deseja buscar: \").lower()\n"
      ],
      "metadata": {
        "id": "ItZS49Fq4TWK"
      },
      "execution_count": null,
      "outputs": []
    },
    {
      "cell_type": "markdown",
      "source": [
        "**📈 Desafio: Aumentar o Valor de um Equipamento**\n",
        "\n",
        "Faça o contrário: **aumente o valor** de um equipamento, por exemplo, em 15%."
      ],
      "metadata": {
        "id": "KlZcaYj_4hB6"
      }
    },
    {
      "cell_type": "code",
      "source": [
        "# Desafio\n",
        "busca = input(\"Digite o nome do equipamento que deseja buscar: \").lower()\n"
      ],
      "metadata": {
        "id": "h7zotsn75AGE"
      },
      "execution_count": null,
      "outputs": []
    }
  ]
}