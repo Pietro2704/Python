{
  "nbformat": 4,
  "nbformat_minor": 0,
  "metadata": {
    "colab": {
      "provenance": []
    },
    "kernelspec": {
      "name": "python3",
      "display_name": "Python 3"
    },
    "language_info": {
      "name": "python"
    }
  },
  "cells": [
    {
      "cell_type": "markdown",
      "source": [
        "# Operadores\n",
        "\n"
      ],
      "metadata": {
        "id": "lDvhjGZ01cVy"
      }
    },
    {
      "cell_type": "markdown",
      "source": [
        "## Aritiméticos\n",
        "Usado para fazer conta\n",
        "```python\n",
        "print(5 + 2)       # 7\n",
        "print(5 - 2)       # 3\n",
        "print(5 * 2)       # 10\n",
        "print(5 / 2)       # 2.5\n",
        "\n",
        "print(5 // 2)      # 2\n",
        "print(5 ** 2)      # 25\n",
        "\n",
        "print(38 % 5)      # 3\n",
        "```"
      ],
      "metadata": {
        "id": "FtSIlUusCwnn"
      }
    },
    {
      "cell_type": "code",
      "source": [
        "# Teste\n"
      ],
      "metadata": {
        "id": "ntUG1Wm-Diml"
      },
      "execution_count": null,
      "outputs": []
    },
    {
      "cell_type": "markdown",
      "source": [
        "**🧩 Desafio prático:**\n",
        "Criar um programa que:\n",
        "- Peça o nome de uma pessoa\n",
        "- Peça a idade\n",
        "- Calcule o **ano de nascimento**\n",
        "- Mostre tudo formatado"
      ],
      "metadata": {
        "id": "VV282MCwHXDa"
      }
    },
    {
      "cell_type": "code",
      "source": [
        "nome = input(\"Digite seu nome: \")\n",
        "idade = int(input(\"Digite sua idade: \"))\n",
        "\n",
        "ano_nasc = ...\n",
        "\n",
        "print(f\"Olá {nome} você nasceu em {ano_nasc}\")"
      ],
      "metadata": {
        "id": "m5q-85SwHXDc"
      },
      "execution_count": null,
      "outputs": []
    },
    {
      "cell_type": "markdown",
      "source": [
        "## Atribuição\n",
        "Usados para guardar valores em variáveis:\n",
        "```python\n",
        "x = 10     # Atribuição simples\n",
        "x += 5     # x = x + 5\n",
        "x -= 2     # x = x - 2\n",
        "x *= 3     # x = x * 3\n",
        "x /= 2     # x = x / 2\n",
        "```"
      ],
      "metadata": {
        "id": "t3WZXHYAFYrm"
      }
    },
    {
      "cell_type": "code",
      "source": [
        "# Teste\n"
      ],
      "metadata": {
        "id": "bbNof7gKDnQN"
      },
      "execution_count": null,
      "outputs": []
    },
    {
      "cell_type": "markdown",
      "source": [
        "## Comparação (Relacionais)\n",
        "Usados para comparar valores. **O resultado é sempre True ou False**\n",
        "```python\n",
        "print(5 == 2)       # False\n",
        "print(5 != 2)       # True\n",
        "print(5 > 2)        # True\n",
        "print(5 < 2)        # False\n",
        "print(5 >= 5)       # True\n",
        "print(5 <= 2)       # False\n",
        "```"
      ],
      "metadata": {
        "id": "6f7BAhw6FwUu"
      }
    },
    {
      "cell_type": "code",
      "source": [
        "# Teste\n"
      ],
      "metadata": {
        "id": "dWqUahemHSBv"
      },
      "execution_count": null,
      "outputs": []
    },
    {
      "cell_type": "markdown",
      "source": [
        "**🧩 Desafio prático:**\n",
        "Criar um programa que:\n",
        "- Peça o nome de uma pessoa\n",
        "- Peça a idade\n",
        "- Verifique se ela é maior de idade"
      ],
      "metadata": {
        "id": "UG_WiE5WOaRH"
      }
    },
    {
      "cell_type": "code",
      "source": [
        "nome = ...\n",
        "idade = ...\n",
        "\n",
        "verificação = ...\n",
        "\n",
        "print(f\"{nome} é maior de idade? {verificação}\")"
      ],
      "metadata": {
        "id": "s74ASydcOSOb"
      },
      "execution_count": null,
      "outputs": []
    },
    {
      "cell_type": "markdown",
      "source": [
        "## Lógicos\n",
        "Usados para combinar condições:\n",
        "\n",
        "- **and**: Retorna verdadeiro somente **se as duas** condições forem verdadeiras\n",
        "\n",
        "  ```python\n",
        "  idade = 16\n",
        "  tem_carteira = True\n",
        "  print(idade >= 18 and tem_carteira)  # False\n",
        "  ```\n",
        "\n",
        "- **or**: Retorna verdadeiro **se pelo menos uma** das condições for verdadeira\n",
        "  ```python\n",
        "  idade = 16\n",
        "  tem_carteira = True\n",
        "  print(idade >= 18 or tem_carteira)  # True\n",
        "  ```\n",
        "\n",
        "- **not**: Inverte o valor lógico da condição\n",
        "```python\n",
        "divertido = False\n",
        "print(not divertido)  # True\n",
        "```"
      ],
      "metadata": {
        "id": "7EeTAF49JJVm"
      }
    },
    {
      "cell_type": "markdown",
      "source": [
        "**Desafio: Permissão de entrada no evento**\n",
        "\n",
        "Você vai criar um programa que, a partir de três variáveis:\n",
        "\n",
        "- idade (inteiro)\n",
        "\n",
        "- tem_convite (booleano)\n",
        "\n",
        "- está_na_lista (booleano)\n",
        "\n",
        "Determine se a pessoa pode entrar no evento.\n",
        "\n",
        "**Regras:**\n",
        "\n",
        "- Pode entrar se a pessoa *for maior ou igual a 18* **e** *tiver convite* **ou** *estiver na lista, independente da idade.*\n",
        "\n",
        "**_Mostre na tela:_** ```Pode entrar: True``` ou ```Pode entrar: False.```"
      ],
      "metadata": {
        "id": "88kIyInHJO_j"
      }
    },
    {
      "cell_type": "code",
      "source": [
        "# Teste\n",
        "print(bool(1))\n",
        "\n",
        "print(bool(0))"
      ],
      "metadata": {
        "id": "4IXgv77rKitR"
      },
      "execution_count": null,
      "outputs": []
    },
    {
      "cell_type": "code",
      "source": [
        "# Desafio:\n",
        "\n",
        "idade = int(input(\"Digite sua idade: \"))\n",
        "tem_convite = bool(int(input(\"Você tem convite? (Digite 0 para Não ou 1 para Sim): \")))\n",
        "esta_na_lista = bool(int(input(\"Está na lista? (Digite 0 para Não ou 1 para Sim): \")))\n",
        "\n",
        "print(f\"Pode entrar: {...}\")"
      ],
      "metadata": {
        "id": "2Q0kVlN8JshF"
      },
      "execution_count": null,
      "outputs": []
    },
    {
      "cell_type": "markdown",
      "source": [
        "# 🧠 Condições\n",
        "\n",
        "**❓ Por que usar condições?**\n",
        "\n",
        "Em um programa, nem sempre todas as ações devem ser executadas da mesma forma.\n",
        "Às vezes é preciso **tomar decisões**, ou seja, **fazer o programa agir de forma diferente dependendo dos dados recebidos.**\n",
        "\n",
        "📌 Isso é o que chamamos de **estrutura condicional** — o programa avalia uma condição e, com base nela, executa ou não certos blocos de código.\n"
      ],
      "metadata": {
        "id": "dUR3YtUjVq_2"
      }
    },
    {
      "cell_type": "markdown",
      "source": [
        "- **Condição Simples:**\n",
        "\n",
        "Caso a condição seja falsa, nada acontecerá"
      ],
      "metadata": {
        "id": "eLt21wtfQJjC"
      }
    },
    {
      "cell_type": "code",
      "source": [
        "# Programa para verificar se é maior de idade\n",
        "\n",
        "idade = int(input(\"Digite sua idade: \"))\n",
        "\n",
        "if idade >= 18:\n",
        "  print(\"É maior de idade!\")"
      ],
      "metadata": {
        "id": "2xMpVIf32Zvg"
      },
      "execution_count": null,
      "outputs": []
    },
    {
      "cell_type": "markdown",
      "source": [
        "- **Exercício:**"
      ],
      "metadata": {
        "id": "IXnP84QAQS7t"
      }
    },
    {
      "cell_type": "code",
      "source": [
        "# Programa para verificar se tem mais que 90kg\n",
        "\n",
        "peso = float(...)\n",
        "\n",
        "if ... :\n",
        "  print(\"Você tem mais de 90Kg\")"
      ],
      "metadata": {
        "id": "YiDPWNCcVrIY"
      },
      "execution_count": null,
      "outputs": []
    },
    {
      "cell_type": "markdown",
      "source": [
        "- **Condição Composta:**"
      ],
      "metadata": {
        "id": "F5-emk2_QZKE"
      }
    },
    {
      "cell_type": "code",
      "source": [
        "idade = int(input(\"Digite sua idade: \"))\n",
        "\n",
        "if idade >= 18:\n",
        "  print(\"É maior de idade!\")\n",
        "else:\n",
        "  print(\"Não é maior de idade!\")"
      ],
      "metadata": {
        "id": "Lefes0KHTUOD"
      },
      "execution_count": null,
      "outputs": []
    },
    {
      "cell_type": "code",
      "source": [
        "peso = float(...)\n",
        "\n",
        "if ... :\n",
        "  print(\"Você tem mais de 90Kg\")\n",
        "else:\n",
        "  print(\"Você não tem mais de 90kg\")"
      ],
      "metadata": {
        "id": "JRxQFpZkVu3x"
      },
      "execution_count": null,
      "outputs": []
    },
    {
      "cell_type": "markdown",
      "source": [
        "- **Várias condições:**"
      ],
      "metadata": {
        "id": "95WuQJQARFpY"
      }
    },
    {
      "cell_type": "code",
      "source": [
        "# Se houver mais de duas possibilidades, use elif (abreviação de “else if”).\n",
        "\n",
        "nota = int(input(\"Digite uma nota de 0 a 10\"))\n",
        "\n",
        "if nota >= 9:\n",
        "    print(\"Excelente!\")\n",
        "elif nota >= 6:\n",
        "    print(\"Aprovado.\")\n",
        "else:\n",
        "    print(\"Reprovado.\")"
      ],
      "metadata": {
        "id": "RKqnMgL2V8n0"
      },
      "execution_count": null,
      "outputs": []
    },
    {
      "cell_type": "code",
      "source": [
        "# Outro Exemplo\n",
        "\n",
        "nota = float(input(\"Digite sua nota (0 a 10): \"))\n",
        "\n",
        "if nota >= 9:\n",
        "    print(\"Conceito: A\")\n",
        "elif nota >= 7:\n",
        "    print(\"Conceito: B\")\n",
        "elif nota >= 5:\n",
        "    print(\"Conceito: C\")\n",
        "else:\n",
        "    print(\"Conceito: D\")"
      ],
      "metadata": {
        "id": "-nwiEfskWhFd"
      },
      "execution_count": null,
      "outputs": []
    },
    {
      "cell_type": "code",
      "source": [
        "# Outro Exemplo\n",
        "\n",
        "idade = int(input(\"Digite sua idade: \"))\n",
        "\n",
        "if idade < 12:\n",
        "    print(\"Criança\")\n",
        "elif idade < 18:\n",
        "    print(\"Adolescente\")\n",
        "elif idade < 60:\n",
        "    print(\"Adulto\")\n",
        "else:\n",
        "    print(\"Idoso\")"
      ],
      "metadata": {
        "id": "3YFyWz7kSVW9"
      },
      "execution_count": null,
      "outputs": []
    },
    {
      "cell_type": "markdown",
      "source": [
        "## ⚠️ Atenção: indentação é obrigatória!\n",
        "Python usa **indentação** (recuo com espaço ou tabulação) para separar blocos:\n",
        "\n",
        "```python\n",
        "if 1 == 1:\n",
        "print(\"Erro\")        # ❌ Sem indentação após if\n",
        "```"
      ],
      "metadata": {
        "id": "_H1jWu-kXCBT"
      }
    },
    {
      "cell_type": "markdown",
      "source": [
        "## 🧠 Reforçando com operadores\n",
        "\n",
        "Você pode usar operadores relacionais e lógicos dentro das condições:\n",
        "```python\n",
        "idade = int(input(\"Digite sua idade: \"))\n",
        "tem_convite = bool(int(input(\"Você tem convite? (Digite 0 para Não ou 1 para Sim): \")))\n",
        "esta_na_lista = bool(int(input(\"Está na lista? (Digite 0 para Não ou 1 para Sim): \")))\n",
        "\n",
        "if (idade >= 18 and tem_convite) or (esta_na_lista):\n",
        "  print(f\"Pode entrar\")\n",
        "else:\n",
        "  print(\"Não pode entrar!!\")\n",
        "```"
      ],
      "metadata": {
        "id": "8COlgSWIXaFH"
      }
    },
    {
      "cell_type": "markdown",
      "source": [
        "**💪 Desafio: Calculadora de IMC com Diagnóstico**\n",
        "\n",
        "Crie um programa que:\n",
        "\n",
        "1. Peça ao usuário o peso em quilos (float).\n",
        "\n",
        "2. Peça ao usuário a altura em metros (float).\n",
        "\n",
        "3. Calcule o IMC com a fórmula:\n",
        "```\n",
        "IMC = peso / altura ** 2\n",
        "```\n",
        "\n",
        "Use estruturas condicionais para exibir a classificação do IMC, com base nos valores abaixo:\n",
        "\n"
      ],
      "metadata": {
        "id": "_L_FiLOJUJAP"
      }
    },
    {
      "cell_type": "code",
      "source": [
        "# Desafio: IMC = peso / altura ** 2\n",
        "\n",
        "\"\"\"\n",
        "|          IMC          |          Classificação          |\n",
        "|-----------------------|---------------------------------|\n",
        "|   Menor que 18.5      |\t       Abaixo do peso           |\n",
        "|   Entre 18.5 e 24.9   |\t       Peso normal              |\n",
        "|   Entre 25.0 e 29.9   |\t       Sobrepeso                |\n",
        "|   Entre 30.0 e 34.9   |\t       Obesidade grau 1         |\n",
        "|   Entre 35.0 e 39.9   |\t       Obesidade grau 2         |\n",
        "|   40.0 ou mais        |\t       Obesidade grau 3 (grave) |\n",
        "\"\"\""
      ],
      "metadata": {
        "id": "uFxvr56oX3G7"
      },
      "execution_count": null,
      "outputs": []
    },
    {
      "cell_type": "markdown",
      "source": [
        "## **🏥 Contexto do Desafio: Triagem Hospitalar Inteligente**\n",
        "Você foi contratado por um hospital para ajudar na **automatização do sistema de triagem de pacientes** que chegam ao pronto-atendimento. O hospital quer otimizar o tempo de espera e organizar melhor as salas de atendimento, levando em conta dois fatores essenciais:\n",
        "\n",
        "1. **Idade do paciente** (idosos têm prioridade);\n",
        "\n",
        "2. **Suspeita de doença infectocontagiosa** (esses pacientes precisam ser isolados em salas diferentes).\n",
        "\n",
        "Sua missão é desenvolver um sistema simples que, ao receber o **nome, a idade e a resposta sobre suspeita de infecção (SIM ou NAO)**, informe para qual **sala o paciente deve ser encaminhado:**\n",
        "\n",
        "### **Regras da triagem:**\n",
        "\n",
        "**👴👵 Sala AMARELA – COM prioridade:** pacientes com 65 anos ou mais **e** com suspeita de infecção.\n",
        "\n",
        "**🧍‍♂️🟡 Sala AMARELA – SEM prioridade:** pacientes com menos de 65 anos **e** com suspeita de infecção.\n",
        "\n",
        "**👴👵⚪ Sala BRANCA – COM prioridade:** pacientes com 65 anos ou mais **e** sem suspeita de infecção.\n",
        "\n",
        "**🧍‍♂️⚪ Sala BRANCA – SEM prioridade:** pacientes com menos de 65 anos **e** sem suspeita de infecção.\n",
        "\n",
        "❌ Se o paciente responder algo diferente de **SIM ou NAO** sobre a infecção, o programa deve mostrar uma **mensagem de erro** indicando resposta inválida."
      ],
      "metadata": {
        "id": "LjEC8XNhY2yE"
      }
    },
    {
      "cell_type": "code",
      "source": [
        "nome = input(\"Digite o nome: \")\n",
        "idade = int(input(\"Digite a idade: \"))\n",
        "doenca_infectocontagiosa = input(\"Suspeita de doença infectocontagiosa?\").upper()\n",
        "\n",
        "if idade >= ... and doenca_infectocontagiosa == ...:\n",
        "  print(\"O paciente será direcionado para sala ... - ... prioridade\")"
      ],
      "metadata": {
        "id": "HE7q7l5_4uKG"
      },
      "execution_count": null,
      "outputs": []
    },
    {
      "cell_type": "markdown",
      "source": [
        "## Decisões Encadeadas\n",
        "\n",
        "As decisões encadeadas servem para avaliarmos uma situação e,\n",
        "dependendo da situação, serão tomadas algumas outras decisões.\n",
        "\n",
        "Por isso, servem como uma alternativa para estruturas mais robustas, como a que foi vista no último tópico ou ainda para verificar mais possibilidades para um mesmo dado sem a utilização dos operadores “and” ou “or”.\n",
        "\n",
        "Podemos pensar em uma string que não tenha apenas os valores “SIM” e\n",
        "“NAO”, como o estado civil, que pode ter mais do que simplesmente dois valores\n",
        "(solteiro, casado, divorciado, viúvo etc.)."
      ],
      "metadata": {
        "id": "Ut1iMa7T5MOl"
      }
    },
    {
      "cell_type": "code",
      "source": [
        "nome = input(\"Digite o nome: \")\n",
        "idade = int(input(\"Digite a idade: \"))\n",
        "doenca_infectocontagiosa = input(\"Suspeita de doença infectocontagiosa? (SIM ou NAO): \").upper()\n",
        "\n",
        "if idade >= 65:\n",
        "  if doenca_infectocontagiosa == \"SIM\":\n",
        "    print(\"O paciente será direcionado para sala AMARELA - COM prioridade\")\n",
        "  elif doenca_infectocontagiosa == \"NAO\":\n",
        "    print(\"O paciente será direcionado para sala BRANCA - COM prioridade\")\n",
        "  else:\n",
        "    print(\"Responda a suspeita de doença infectocontagiosa com SIM ou NAO\")\n",
        "\n",
        "else:\n",
        "  if doenca_infectocontagiosa == \"SIM\":\n",
        "    print(\"O paciente será direcionado para sala AMARELA - SEM prioridade\")\n",
        "  elif doenca_infectocontagiosa == \"NAO\":\n",
        "    print(\"O paciente será direcionado para sala BRANCA - SEM prioridade\")\n",
        "  else:\n",
        "    print(\"Responda a suspeita de doença infectocontagiosa com SIM ou NAO\")"
      ],
      "metadata": {
        "id": "nd7YNquf5mMg"
      },
      "execution_count": null,
      "outputs": []
    },
    {
      "cell_type": "code",
      "source": [
        "nome = input(\"Digite o nome: \")\n",
        "idade = int(input(\"Digite a idade: \"))\n",
        "doenca_infectocontagiosa = input(\"Suspeita de doença infectocontagiosa? (SIM ou NAO): \").upper()\n",
        "\n",
        "# Verificar se doença foi escrito certo\n",
        "if doenca_infectocontagiosa == \"SIM\" or doenca_infectocontagiosa == \"NAO\":\n",
        "\n",
        "    # Ver se possui doenca infectocontagiosa\n",
        "    if doenca_infectocontagiosa == \"SIM\":\n",
        "      doenca = True\n",
        "    else:\n",
        "      doenca = False\n",
        "\n",
        "    # Ver prioridade\n",
        "    if idade >= 65:\n",
        "      prioridade = True\n",
        "    else:\n",
        "      prioridade = False\n",
        "\n",
        "    # Imprimir na Tela\n",
        "    if prioridade and doenca:\n",
        "        print(\"O paciente será direcionado para sala AMARELA - COM prioridade\")\n",
        "    elif prioridade and not doenca:\n",
        "        print(\"O paciente será direcionado para sala BRANCA - COM prioridade\")\n",
        "    elif not prioridade and doenca:\n",
        "        print(\"O paciente será direcionado para sala AMARELA - SEM prioridade\")\n",
        "    else:\n",
        "        print(\"O paciente será direcionado para sala BRANCA - SEM prioridade\")\n",
        "\n",
        "else:\n",
        "  print(\"Responda a suspeita de doença infectocontagiosa com SIM ou NAO\")"
      ],
      "metadata": {
        "id": "ECBJEXs3Z02Z"
      },
      "execution_count": null,
      "outputs": []
    },
    {
      "cell_type": "markdown",
      "source": [
        "##🧩 Desafio 1: Classificação de Idade\n",
        "Crie um programa que recebe a idade de uma pessoa e imprime uma mensagem dependendo da faixa etária:\n",
        "\n",
        "Menor que 12 → \"Criança\"\n",
        "\n",
        "De 12 a 17 → \"Adolescente\"\n",
        "\n",
        "De 18 a 64 → \"Adulto\"\n",
        "\n",
        "65 ou mais → \"Idoso\""
      ],
      "metadata": {
        "id": "okK7Ow64oGO5"
      }
    },
    {
      "cell_type": "code",
      "source": [],
      "metadata": {
        "id": "FX9qzCmwobLh"
      },
      "execution_count": null,
      "outputs": []
    },
    {
      "cell_type": "markdown",
      "source": [
        "##🧩 Desafio 2: Calculadora Simples\n",
        "Crie um programa que recebe dois números e um operador matemático (+, -, *, /).\n",
        "Use if, elif e else para realizar a operação correspondente e exibir o resultado.\n",
        "Se o operador não for válido, exiba uma mensagem de erro."
      ],
      "metadata": {
        "id": "9SJPenbdoloy"
      }
    },
    {
      "cell_type": "code",
      "source": [],
      "metadata": {
        "id": "To_-OE7cooF4"
      },
      "execution_count": null,
      "outputs": []
    },
    {
      "cell_type": "markdown",
      "source": [
        "##🧩 Desafio 3: Verificação de Paridade\n",
        "Crie um programa que recebe um número inteiro e verifica se ele é par ou ímpar.\n",
        "Exiba a mensagem \"Par\" se for divisível por 2, ou \"Ímpar\" se não for."
      ],
      "metadata": {
        "id": "QAxuq95FpNRX"
      }
    },
    {
      "cell_type": "code",
      "source": [],
      "metadata": {
        "id": "B4A68-3KpP3W"
      },
      "execution_count": null,
      "outputs": []
    },
    {
      "cell_type": "markdown",
      "source": [
        "##🧩 Desafio 4: Verificação de Notas\n",
        "Crie um programa que recebe três notas de um aluno, calcula a média e imprime a situação:\n",
        "\n",
        "Média maior ou igual a 7 → \"Aprovado\"\n",
        "\n",
        "Média entre 5 e 6.9 → \"Recuperação\"\n",
        "\n",
        "Média menor que 5 → \"Reprovado\""
      ],
      "metadata": {
        "id": "H4AB007LpDr8"
      }
    },
    {
      "cell_type": "code",
      "source": [],
      "metadata": {
        "id": "mVG_EguRpQRt"
      },
      "execution_count": null,
      "outputs": []
    },
    {
      "cell_type": "markdown",
      "source": [
        "##🧩 Desafio 5: Identificação de Sinal\n",
        "Crie um programa que recebe um número e identifica se ele é positivo, negativo ou zero.\n",
        "Exiba a mensagem correspondente de acordo com o valor digitado."
      ],
      "metadata": {
        "id": "YlpVQuJzpQb1"
      }
    },
    {
      "cell_type": "code",
      "source": [],
      "metadata": {
        "id": "qMgx0Za-pS_u"
      },
      "execution_count": null,
      "outputs": []
    },
    {
      "cell_type": "markdown",
      "source": [
        "# Looping\n",
        "**🧠 Por que usar loop?**\n",
        "\n",
        "Para **repetir um bloco de código várias vezes** sem precisar copiar ele várias vezes. Útil para **tarefas repetitivas**, como cadastrar pessoas, processar listas, etc.\n"
      ],
      "metadata": {
        "id": "UxC6zH-lVu9W"
      }
    },
    {
      "cell_type": "markdown",
      "source": [
        "## While — Quando usar?\n",
        "Quando **não sabemos quantas vezes o código deve repetir**, mas temos uma condição para continuar repetindo.\n",
        "\n",
        "<p>\n",
        "  <var><strong>\"Enquanto</strong> <ins><em>algo for verdade,</em></ins> <strong>faça:</strong>\"</var>\n",
        "  </p>\n"
      ],
      "metadata": {
        "id": "OYLNnXjPsYor"
      }
    },
    {
      "cell_type": "code",
      "source": [
        "x = 1\n",
        "\n",
        "while x == 1:\n",
        "  nome = input(\"Digite seu nome: \")\n",
        "  print(f\"Olá {nome}!\")\n",
        "  x = int(input(\"X = \"))\n",
        "\n",
        "print(\"Looping Encerrado...\")"
      ],
      "metadata": {
        "id": "A9Aw2ByOsh79"
      },
      "execution_count": null,
      "outputs": []
    },
    {
      "cell_type": "code",
      "source": [
        "# Contando\n",
        "\n",
        "contador = 0\n",
        "\n",
        "while contador <= 10:\n",
        "  print(f\"Contador vale: {contador}\")\n",
        "  contador = contador + 1"
      ],
      "metadata": {
        "id": "sTIoEmKXM-tZ"
      },
      "execution_count": null,
      "outputs": []
    },
    {
      "cell_type": "code",
      "source": [
        "# Simulação de cadastro de pessoa\n",
        "\n",
        "qntd_pessoa = 0\n",
        "\n",
        "while qntd_pessoa <= 5:\n",
        "  nome = input(\"Digite seu nome: \")\n",
        "  idade = int(input(\"Digite sua idade: \"))\n",
        "  qntd_pessoa = qntd_pessoa + 1"
      ],
      "metadata": {
        "id": "hdWDvHQtXxT6"
      },
      "execution_count": null,
      "outputs": []
    },
    {
      "cell_type": "markdown",
      "source": [
        "### break\n",
        "Serve para **parar imediatamente a execução de um loop**, mesmo que a condição original ainda seja verdadeira.\n",
        "\n",
        "Útil quando você quer **interromper** a repetição **antes** do fim natural."
      ],
      "metadata": {
        "id": "UWDyI59sx8Lj"
      }
    },
    {
      "cell_type": "code",
      "source": [
        "# Simulação de cadastro de pessoa\n",
        "\n",
        "qntd_pessoa = 0\n",
        "\n",
        "while qntd_pessoa <= 5:\n",
        "  nome = input(\"Digite seu nome: \")\n",
        "  idade = int(input(\"Digite sua idade: \"))\n",
        "\n",
        "  if idade > 100:\n",
        "    print(\"Encerrando Looping...\")\n",
        "    break\n",
        "\n",
        "  qntd_pessoa = qntd_pessoa + 1\n",
        "  print(f\"Quantidade de pessoas: {qntd_pessoa}\")"
      ],
      "metadata": {
        "id": "TFfwMDrGyE3z"
      },
      "execution_count": null,
      "outputs": []
    },
    {
      "cell_type": "markdown",
      "source": [
        "**💥 Desafio com break**\n",
        "\n",
        "Crie um programa que **simule o cadastro de visitantes em um museu**.\n",
        "Cada visitante deve informar **nome e idade**.\n",
        "\n",
        "O loop deve ser encerrado automaticamente com **_break_ se for digitada uma idade negativa.**"
      ],
      "metadata": {
        "id": "XhqcatIKOrX8"
      }
    },
    {
      "cell_type": "code",
      "source": [
        "# Desafio:\n"
      ],
      "metadata": {
        "id": "eiE54zP9NzoA"
      },
      "execution_count": null,
      "outputs": []
    },
    {
      "cell_type": "markdown",
      "source": [
        "### continue\n",
        "Serve para **pular a iteração atual** do loop, **indo direto para a próxima repetição.**\n",
        "\n",
        "Útil quando você quer **ignorar** certas condições dentro do loop, sem sair dele."
      ],
      "metadata": {
        "id": "wTn0BZVN1JLF"
      }
    },
    {
      "cell_type": "code",
      "source": [
        "qntd_idosos = 0\n",
        "\n",
        "while qntd_idosos <= 5:\n",
        "  nome = input(\"Digite seu nome: \")\n",
        "  idade = int(input(\"Digite sua idade: \"))\n",
        "\n",
        "  if idade < 60:\n",
        "    print(\"Não é Idoso\")\n",
        "    continue\n",
        "\n",
        "  qntd_idosos = qntd_idosos + 1\n",
        "  print(f\"Quantidade de idosos: {qntd_idosos}\")"
      ],
      "metadata": {
        "id": "ppfiWkUq1XbK"
      },
      "execution_count": null,
      "outputs": []
    },
    {
      "cell_type": "markdown",
      "source": [
        "**⏭️ Desafio com continue**\n",
        "\n",
        "Crie um programa que peça **nomes e idades de pessoas**.\n",
        "\n",
        "Mas **só conte e exiba mensagens para quem tiver mais de 18 anos**.\n",
        "Use continue para pular os menores de idade."
      ],
      "metadata": {
        "id": "lAYmyDEtO_DC"
      }
    },
    {
      "cell_type": "code",
      "source": [
        "# Desafio:\n"
      ],
      "metadata": {
        "id": "Tw6ZiqloOF31"
      },
      "execution_count": null,
      "outputs": []
    },
    {
      "cell_type": "markdown",
      "source": [
        "## For - Quando usar?\n",
        "\n",
        "Quando **sabemos exatamente quantas vezes queremos repetir**, ou queremos **iterar sobre uma coleção** (lista, string, etc).\n",
        "\n",
        "<p>\n",
        "  <var><strong>\"Para cada</strong> <ins><em>coisa</em></ins> <strong>em</strong> <ins><em>algo</em></ins>\"</var>\n",
        "  </p>\n"
      ],
      "metadata": {
        "id": "_MGxixDv5cBc"
      }
    },
    {
      "cell_type": "code",
      "source": [
        "# Exemplo com Strings\n",
        "texto = \"Python\"\n",
        "\n",
        "# Percorrer a string\n",
        "for caractere in texto:\n",
        "  print(caractere)"
      ],
      "metadata": {
        "id": "qYTCnz146phW"
      },
      "execution_count": null,
      "outputs": []
    },
    {
      "cell_type": "code",
      "source": [
        "# Usando break\n",
        "for caractere in texto:\n",
        "\n",
        "  if caractere == \"o\":\n",
        "    print(\"Achei a letra o. Parei por aqui!\")\n",
        "    break\n",
        "  else:\n",
        "    print(caractere)"
      ],
      "metadata": {
        "id": "38_NxNXqhzNs"
      },
      "execution_count": null,
      "outputs": []
    },
    {
      "cell_type": "code",
      "source": [
        "# Usando continue\n",
        "for caractere in texto:\n",
        "\n",
        "  if caractere == \"y\":\n",
        "    continue\n",
        "  else:\n",
        "      print(caractere)"
      ],
      "metadata": {
        "id": "16wTnEvG9K-z"
      },
      "execution_count": null,
      "outputs": []
    },
    {
      "cell_type": "markdown",
      "source": [
        "### range\n",
        "`range()` é uma função do Python que **gera uma sequência de números inteiros**, muito usada para repetir algo um número específico de vezes, principalmente dentro de loops for."
      ],
      "metadata": {
        "id": "L2ckroFm5X9F"
      }
    },
    {
      "cell_type": "code",
      "source": [
        "fila_de_pessoas = range(5) # Gera números de 0 até o 4 excluindo o 5. -> (0, 1, 2, 3, 4)\n",
        "\n",
        "# Percorrer a fila de pessoas carimbando o ingresso de cada uma\n",
        "for pessoa in fila_de_pessoas:\n",
        "  print(f\"Carimbar ingresso da pessoa {pessoa}\")"
      ],
      "metadata": {
        "id": "Jnp0-CiH5_Kj"
      },
      "execution_count": null,
      "outputs": []
    },
    {
      "cell_type": "code",
      "source": [
        "for numero in range(10):\n",
        "  print(f\"O quadrado de {numero} é {numero ** 2}\")"
      ],
      "metadata": {
        "id": "zEaBUoe9-AZ2"
      },
      "execution_count": null,
      "outputs": []
    },
    {
      "cell_type": "markdown",
      "source": [
        "# Exercicios:\n",
        "\n",
        "- __Exercício 1: Soma de Números:__\n",
        "Crie um programa que solicita ao usuário 10 números e utiliza um loop for para calcular e exibir a soma desses números.\n",
        "\n",
        "- __Exercício 2: Tabuada:__\n",
        "Crie um programa que pede ao usuário um número inteiro e utiliza um loop for para exibir a tabuada desse número de 1 a 10.\n",
        "\n",
        "- __Exercício 3: Contagem Regressiva:__\n",
        "Crie um programa que utiliza um loop while para fazer uma contagem regressiva de 10 até 0, e ao final, exibe a mensagem \"Fogo!\".\n",
        "\n",
        "- __Exercício 4: Fatorial de um Número:__\n",
        "Crie um programa que solicita ao usuário um número inteiro e utiliza um loop while para calcular e exibir o fatorial desse número.\n",
        "\n",
        "- __Exercício 5: Média de Notas:__\n",
        "Crie um programa que solicita ao usuário o número de alunos em uma turma. Em seguida, use um loop for para solicitar a nota de cada aluno, calcular a média da turma e exibir o resultado.\n",
        "\n",
        "- __Exercício 6: Contagem de Pares e Ímpares:__\n",
        "Crie um programa que solicita ao usuário um número inteiro positivo n.\n",
        "Utilize um loop for para contar quantos números pares e quantos números ímpares existem entre 1 e n, e exiba o resultado.\n",
        "\n",
        "- __Exercício 7: Números Divisíveis:__\n",
        "Crie um programa que solicita ao usuário um número inteiro positivo n.\n",
        "Utilize um loop while para exibir todos os números de 1 até n que são divisíveis por 3.\n",
        "Para cada número, utilize uma estrutura if para verificar a divisibilidade."
      ],
      "metadata": {
        "id": "90SPOLCGw6KF"
      }
    }
  ]
}