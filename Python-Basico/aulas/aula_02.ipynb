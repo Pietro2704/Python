{
  "cells": [
    {
      "cell_type": "markdown",
      "metadata": {
        "id": "dUR3YtUjVq_2"
      },
      "source": [
        "# 🧠 Condições\n",
        "\n",
        "**❓ Por que usar condições?**\n",
        "\n",
        "Em um programa, nem sempre todas as ações devem ser executadas da mesma forma.\n",
        "Às vezes é preciso **tomar decisões**, ou seja, **fazer o programa agir de forma diferente dependendo dos dados recebidos.**\n",
        "\n",
        "📌 Isso é o que chamamos de **estrutura condicional** — o programa avalia uma condição e, com base nela, executa ou não certos blocos de código.\n"
      ]
    },
    {
      "cell_type": "code",
      "execution_count": null,
      "metadata": {
        "id": "2xMpVIf32Zvg"
      },
      "outputs": [],
      "source": [
        "# Verificar a idade\n",
        "\n",
        "idade = int(input(\"Digite sua idade: \"))\n",
        "\n",
        "if idade >= 18:\n",
        "  print(\"É maior de idade!\")"
      ]
    },
    {
      "cell_type": "code",
      "execution_count": null,
      "metadata": {
        "id": "YiDPWNCcVrIY"
      },
      "outputs": [],
      "source": [
        "# Outro Exemplo\n",
        "\n",
        "# Verificar Peso"
      ]
    },
    {
      "cell_type": "code",
      "execution_count": null,
      "metadata": {
        "id": "Lefes0KHTUOD"
      },
      "outputs": [],
      "source": [
        "idade = int(input(\"Digite sua idade: \"))\n",
        "\n",
        "if idade >= 18:\n",
        "  print(\"É maior de idade!\")\n",
        "else:\n",
        "  print(\"Não é maior de idade!\")"
      ]
    },
    {
      "cell_type": "code",
      "execution_count": null,
      "metadata": {
        "id": "JRxQFpZkVu3x"
      },
      "outputs": [],
      "source": [
        "# Outro Exemplo\n",
        "\n"
      ]
    },
    {
      "cell_type": "code",
      "execution_count": null,
      "metadata": {
        "id": "RKqnMgL2V8n0"
      },
      "outputs": [],
      "source": [
        "# Se houver mais de duas possibilidades, use elif (abreviação de “else if”).\n",
        "\n",
        "nota = int(input(\"Digite uma nota de 0 a 10\"))\n",
        "\n",
        "if nota >= 9:\n",
        "    print(\"Excelente!\")\n",
        "elif nota >= 6:\n",
        "    print(\"Aprovado.\")\n",
        "else:\n",
        "    print(\"Reprovado.\")"
      ]
    },
    {
      "cell_type": "code",
      "execution_count": null,
      "metadata": {
        "id": "-nwiEfskWhFd"
      },
      "outputs": [],
      "source": [
        "# Outro Exemplo\n",
        "\n"
      ]
    },
    {
      "cell_type": "markdown",
      "metadata": {
        "id": "_H1jWu-kXCBT"
      },
      "source": [
        "## ⚠️ Atenção: indentação é obrigatória!\n",
        "Python usa **indentação** (recuo com espaço ou tabulação) para separar blocos:\n",
        "\n",
        "```python\n",
        "if 1 == 1:\n",
        "print(\"Erro\")        # ❌ Sem indentação após if\n",
        "```"
      ]
    },
    {
      "cell_type": "markdown",
      "metadata": {
        "id": "8COlgSWIXaFH"
      },
      "source": [
        "## 🧠 Reforçando com operadores\n",
        "\n",
        "Você pode usar operadores relacionais e lógicos dentro das condições:\n",
        "```python\n",
        "idade = 17\n",
        "tem_autorizacao = True\n",
        "\n",
        "if idade >= 18 or tem_autorizacao:\n",
        "    print(\"Pode entrar no evento.\")\n",
        "else:\n",
        "    print(\"Entrada proibida.\")\n",
        "```"
      ]
    },
    {
      "cell_type": "code",
      "execution_count": null,
      "metadata": {
        "id": "uFxvr56oX3G7"
      },
      "outputs": [],
      "source": [
        "# Peça a idade da pessoa\n",
        "\n",
        "# Se for meno que 18\n",
        "  # \"Menor de idade\"\n",
        "\n",
        "# Entre 18 e 59\n",
        "  # \"Adulto\"\n",
        "\n",
        "# 60 ou mais\n",
        "  # \"Idoso\""
      ]
    },
    {
      "cell_type": "markdown",
      "metadata": {
        "id": "LjEC8XNhY2yE"
      },
      "source": [
        "## 🧩 Desafio:\n",
        "Crie um programa que leia o nome, a idade e se o paciente tem suspeita de doença infectocontagiosa (SIM ou NAO), e direcione-o para a sala adequada com base nas regras:\n",
        "\n",
        "- AMARELA – COM prioridade: idade ≥ 65 e suspeita = \"SIM\"\n",
        "\n",
        "- AMARELA – SEM prioridade: idade < 65 e suspeita = \"SIM\"\n",
        "\n",
        "- BRANCA – COM prioridade: idade ≥ 65 e suspeita = \"NAO\"\n",
        "\n",
        "- BRANCA – SEM prioridade: idade < 65 e suspeita = \"NAO\"\n",
        "\n",
        "- Se a resposta sobre a doença não for \"SIM\" ou \"NAO\", exiba uma mensagem de erro."
      ]
    },
    {
      "cell_type": "code",
      "execution_count": null,
      "metadata": {
        "id": "HE7q7l5_4uKG"
      },
      "outputs": [],
      "source": [
        "nome = input(\"Digite o nome: \")\n",
        "idade = int(input(\"Digite a idade: \"))\n",
        "doenca_infectocontagiosa = input(\"Suspeita de doença infectocontagiosa?\").upper()\n",
        "\n",
        "if idade >= ... and doenca_infectocontagiosa == ...:\n",
        "  print(\"O paciente será direcionado para sala ... - ... prioridade\")"
      ]
    },
    {
      "cell_type": "markdown",
      "metadata": {
        "id": "Ut1iMa7T5MOl"
      },
      "source": [
        "## Decisões Encadeadas\n",
        "\n",
        "As decisões encadeadas servem para avaliarmos uma situação e,\n",
        "dependendo da situação, serão tomadas algumas outras decisões.\n",
        "\n",
        "Por isso, servem como uma alternativa para estruturas mais robustas, como a que foi vista no último tópico ou ainda para verificar mais possibilidades para um mesmo dado sem a utilização dos operadores “and” ou “or”.\n",
        "\n",
        "Podemos pensar em uma string que não tenha apenas os valores “SIM” e\n",
        "“NAO”, como o estado civil, que pode ter mais do que simplesmente dois valores\n",
        "(solteiro, casado, divorciado, viúvo etc.)."
      ]
    },
    {
      "cell_type": "code",
      "execution_count": null,
      "metadata": {
        "id": "nd7YNquf5mMg"
      },
      "outputs": [],
      "source": [
        "nome = input(\"Digite o nome: \")\n",
        "idade = int(input(\"Digite a idade: \"))\n",
        "doenca_infectocontagiosa = input(\"Suspeita de doença infectocontagiosa?\").upper()\n",
        "\n",
        "if idade >= 65:\n",
        "  print(\"Paciente COM prioridade\")\n",
        "\n",
        "  if doenca_infectocontagiosa==\"SIM\":\n",
        "    print(\"Encaminhe o paciente para sala AMARELA\")\n",
        "  elif doenca_infectocontagiosa==\"NAO\":\n",
        "    print(\"Encaminhe o paciente para sala BRANCA\")\n",
        "  else:\n",
        "    print(\"Responda a suspeita de doença infectocontagiosa com SIM ou NAO\")\n",
        "\n",
        "else:\n",
        "  print(\"Paciente SEM prioridade pois não atingiu a idade\")"
      ]
    },
    {
      "cell_type": "markdown",
      "metadata": {
        "id": "okK7Ow64oGO5"
      },
      "source": [
        "##🧩 Desafio 1: Classificação de Idade\n",
        "Crie um programa que recebe a idade de uma pessoa e imprime uma mensagem dependendo da faixa etária:\n",
        "\n",
        "Menor que 12 → \"Criança\"\n",
        "\n",
        "De 12 a 17 → \"Adolescente\"\n",
        "\n",
        "De 18 a 64 → \"Adulto\"\n",
        "\n",
        "65 ou mais → \"Idoso\""
      ]
    },
    {
      "cell_type": "code",
      "execution_count": null,
      "metadata": {
        "id": "FX9qzCmwobLh"
      },
      "outputs": [],
      "source": []
    },
    {
      "cell_type": "markdown",
      "metadata": {
        "id": "9SJPenbdoloy"
      },
      "source": [
        "##🧩 Desafio 2: Calculadora Simples\n",
        "Crie um programa que recebe dois números e um operador matemático (+, -, *, /).\n",
        "Use if, elif e else para realizar a operação correspondente e exibir o resultado.\n",
        "Se o operador não for válido, exiba uma mensagem de erro."
      ]
    },
    {
      "cell_type": "code",
      "execution_count": null,
      "metadata": {
        "id": "To_-OE7cooF4"
      },
      "outputs": [],
      "source": []
    },
    {
      "cell_type": "markdown",
      "metadata": {
        "id": "QAxuq95FpNRX"
      },
      "source": [
        "##🧩 Desafio 3: Verificação de Paridade\n",
        "Crie um programa que recebe um número inteiro e verifica se ele é par ou ímpar.\n",
        "Exiba a mensagem \"Par\" se for divisível por 2, ou \"Ímpar\" se não for."
      ]
    },
    {
      "cell_type": "code",
      "execution_count": null,
      "metadata": {
        "id": "B4A68-3KpP3W"
      },
      "outputs": [],
      "source": []
    },
    {
      "cell_type": "markdown",
      "metadata": {
        "id": "H4AB007LpDr8"
      },
      "source": [
        "##🧩 Desafio 4: Verificação de Notas\n",
        "Crie um programa que recebe três notas de um aluno, calcula a média e imprime a situação:\n",
        "\n",
        "Média maior ou igual a 7 → \"Aprovado\"\n",
        "\n",
        "Média entre 5 e 6.9 → \"Recuperação\"\n",
        "\n",
        "Média menor que 5 → \"Reprovado\""
      ]
    },
    {
      "cell_type": "code",
      "execution_count": null,
      "metadata": {
        "id": "mVG_EguRpQRt"
      },
      "outputs": [],
      "source": []
    },
    {
      "cell_type": "markdown",
      "metadata": {
        "id": "YlpVQuJzpQb1"
      },
      "source": [
        "##🧩 Desafio 5: Identificação de Sinal\n",
        "Crie um programa que recebe um número e identifica se ele é positivo, negativo ou zero.\n",
        "Exiba a mensagem correspondente de acordo com o valor digitado."
      ]
    },
    {
      "cell_type": "code",
      "execution_count": null,
      "metadata": {
        "id": "qMgx0Za-pS_u"
      },
      "outputs": [],
      "source": []
    },
    {
      "cell_type": "markdown",
      "metadata": {
        "id": "UxC6zH-lVu9W"
      },
      "source": [
        "# Looping\n",
        "**🧠 Por que usar loop?**\n",
        "\n",
        "Para **repetir um bloco de código várias vezes** sem precisar copiar ele várias vezes. Útil para **tarefas repetitivas**, como cadastrar pessoas, processar listas, etc.\n"
      ]
    },
    {
      "cell_type": "markdown",
      "metadata": {
        "id": "OYLNnXjPsYor"
      },
      "source": [
        "## While — Quando usar?\n",
        "Quando **não sabemos quantas vezes o código deve repetir**, mas temos uma condição para continuar repetindo.\n",
        "\n",
        "**`\"Enquanto algo for verdade, o código deve repetir\"`**"
      ]
    },
    {
      "cell_type": "code",
      "execution_count": null,
      "metadata": {
        "id": "A9Aw2ByOsh79"
      },
      "outputs": [],
      "source": [
        "x = 1\n",
        "\n",
        "while x == 1:\n",
        "  nome = input(\"Digite seu nome: \")\n",
        "  print(f\"Olá {nome}!\")\n",
        "  x = int(input(\"X = \"))\n",
        "\n",
        "print(\"Looping Encerrado...\")"
      ]
    },
    {
      "cell_type": "code",
      "execution_count": null,
      "metadata": {
        "id": "hdWDvHQtXxT6"
      },
      "outputs": [],
      "source": [
        "qntd_pessoa = 0\n",
        "\n",
        "while qntd_pessoa <= 10:\n",
        "  nome = input(\"Digite seu nome: \")\n",
        "  idade = int(input(\"Digite sua idade: \"))\n",
        "  qntd_pessoa = qntd_pessoa + 1"
      ]
    },
    {
      "cell_type": "markdown",
      "metadata": {
        "id": "UWDyI59sx8Lj"
      },
      "source": [
        "### break\n",
        "Serve para **parar imediatamente a execução de um loop**, mesmo que a condição original ainda seja verdadeira.\n",
        "\n",
        "Útil quando você quer **interromper** a repetição **antes** do fim natural."
      ]
    },
    {
      "cell_type": "code",
      "execution_count": null,
      "metadata": {
        "id": "TFfwMDrGyE3z"
      },
      "outputs": [],
      "source": [
        "contador = 1\n",
        "\n",
        "while contador < 5:\n",
        "  nome = input(\"Digite seu nome: \")\n",
        "  idade = int(input(\"Digite sua idade: \"))\n",
        "\n",
        "  if idade > 100:\n",
        "    break\n",
        "\n",
        "  contador = contador + 1\n",
        "  print(f\"Contador vale: {contador}\")"
      ]
    },
    {
      "cell_type": "markdown",
      "metadata": {
        "id": "wTn0BZVN1JLF"
      },
      "source": [
        "### continue\n",
        "Serve para **pular a iteração atual** do loop, **indo direto para a próxima repetição.**\n",
        "\n",
        "Útil quando você quer **ignorar** certas condições dentro do loop, sem sair dele."
      ]
    },
    {
      "cell_type": "code",
      "execution_count": null,
      "metadata": {
        "id": "ppfiWkUq1XbK"
      },
      "outputs": [],
      "source": [
        "contador = 1\n",
        "\n",
        "while contador < 5:\n",
        "  nome = input(\"Digite seu nome: \")\n",
        "  idade = int(input(\"Digite sua idade: \"))\n",
        "\n",
        "  if idade < 65:\n",
        "    continue\n",
        "\n",
        "  contador = contador + 1\n",
        "  print(f\"Contador vale: {contador}\")"
      ]
    },
    {
      "cell_type": "markdown",
      "metadata": {
        "id": "_MGxixDv5cBc"
      },
      "source": [
        "## For - Quando usar?\n",
        "\n",
        "Quando **sabemos exatamente quantas vezes queremos repetir**, ou queremos **iterar sobre uma coleção** (lista, string, etc).\n",
        "\n",
        "\"**`Para cada ... em ...`**\""
      ]
    },
    {
      "cell_type": "markdown",
      "metadata": {
        "id": "L2ckroFm5X9F"
      },
      "source": [
        "### range\n",
        "`range()` é uma função do Python que **gera uma sequência de números inteiros**, muito usada para repetir algo um número específico de vezes, principalmente dentro de loops for."
      ]
    },
    {
      "cell_type": "code",
      "execution_count": null,
      "metadata": {
        "id": "Jnp0-CiH5_Kj"
      },
      "outputs": [],
      "source": [
        "numeros = range(5) # Gera os números do 0 até o 4 excluindo o 5. -> (0, 1, 2, 3, 4)\n",
        "\n",
        "for num in numeros:\n",
        "  print(num)"
      ]
    },
    {
      "cell_type": "code",
      "execution_count": null,
      "metadata": {
        "id": "zEaBUoe9-AZ2"
      },
      "outputs": [],
      "source": [
        "numeros = range(5)\n",
        "\n",
        "for num in numeros:\n",
        "\n",
        "  if num == 3:\n",
        "    break\n",
        "\n",
        "  print(num)"
      ]
    },
    {
      "cell_type": "code",
      "execution_count": null,
      "metadata": {
        "id": "qYTCnz146phW"
      },
      "outputs": [],
      "source": [
        "texto = \"Python\"\n",
        "\n",
        "for caractere in texto:\n",
        "  print(caractere)"
      ]
    },
    {
      "cell_type": "code",
      "execution_count": null,
      "metadata": {
        "id": "16wTnEvG9K-z"
      },
      "outputs": [],
      "source": [
        "texto = \"Python\"\n",
        "\n",
        "for caractere in texto:\n",
        "\n",
        "  if caractere == \"y\":\n",
        "    continue\n",
        "\n",
        "  print(caractere)"
      ]
    },
    {
      "cell_type": "markdown",
      "metadata": {
        "id": "90SPOLCGw6KF"
      },
      "source": [
        "# Exercicios:\n",
        "\n",
        "- __Exercício 1: Soma de Números:__\n",
        "Crie um programa que solicita ao usuário 10 números e utiliza um loop for para calcular e exibir a soma desses números.\n",
        "\n",
        "- __Exercício 2: Tabuada:__\n",
        "Crie um programa que pede ao usuário um número inteiro e utiliza um loop for para exibir a tabuada desse número de 1 a 10.\n",
        "\n",
        "- __Exercício 3: Contagem Regressiva:__\n",
        "Crie um programa que utiliza um loop while para fazer uma contagem regressiva de 10 até 0, e ao final, exibe a mensagem \"Fogo!\".\n",
        "\n",
        "- __Exercício 4: Fatorial de um Número:__\n",
        "Crie um programa que solicita ao usuário um número inteiro e utiliza um loop while para calcular e exibir o fatorial desse número.\n",
        "\n",
        "- __Exercício 5: Média de Notas:__\n",
        "Crie um programa que solicita ao usuário o número de alunos em uma turma. Em seguida, use um loop for para solicitar a nota de cada aluno, calcular a média da turma e exibir o resultado."
      ]
    },
    {
      "cell_type": "code",
      "execution_count": null,
      "metadata": {
        "id": "F5hgniNYsyM2"
      },
      "outputs": [],
      "source": [
        "soma = 0\n",
        "for num in range(10):\n",
        "  num = int(input(f\"Digite o {num+1}° número: \"))\n",
        "  soma = soma + num\n",
        "\n",
        "print(f\"A soma desse números deu: {soma}\")"
      ]
    },
    {
      "cell_type": "code",
      "execution_count": null,
      "metadata": {
        "id": "1SX2JN2qm7Jy"
      },
      "outputs": [],
      "source": [
        "soma = 0\n",
        "\n",
        "for numero in range(10):\n",
        "  num = int(input(f\"Digite o {numero+1}° numero: \"))\n",
        "  soma = soma + num\n",
        "\n",
        "print(soma)"
      ]
    },
    {
      "cell_type": "code",
      "execution_count": null,
      "metadata": {
        "id": "iYLr98YuxHtA"
      },
      "outputs": [],
      "source": [
        "num = int(input(\"Digite um número inteiro para calcular o fatorial: \"))\n",
        "fatorial = 1\n",
        "contador = num\n",
        "\n",
        "while contador > 0:\n",
        "    fatorial = fatorial * contador\n",
        "    contador = contador - 1\n",
        "\n",
        "print(f\"O fatorial de {num} é {fatorial}.\")\n"
      ]
    },
    {
      "cell_type": "code",
      "execution_count": null,
      "metadata": {
        "id": "dJ3cT__blnyo"
      },
      "outputs": [],
      "source": [
        "# Tabuada\n",
        "num = int(input(\"Digite um numero: \"))\n",
        "\n",
        "for numero in range(1,11):\n",
        "  result = num * numero\n",
        "  print(f\"{num} x {numero} = {result}\")"
      ]
    },
    {
      "cell_type": "markdown",
      "metadata": {
        "id": "-kaRfV_yoteT"
      },
      "source": [
        "- __Exercício 1: Contagem de Pares e Ímpares:__\n",
        "Crie um programa que solicita ao usuário um número inteiro positivo n.\n",
        "\n",
        "  Utilize um loop for para contar quantos números pares e quantos números ímpares existem entre 1 e n, e exiba o resultado.\n",
        "\n",
        "- __Exercício 2: Números Divisíveis:__\n",
        "Crie um programa que solicita ao usuário um número inteiro positivo n.\n",
        "\n",
        "  Utilize um loop while para exibir todos os números de 1 até n que são divisíveis por 3.\n",
        "\n",
        "  Para cada número, utilize uma estrutura if para verificar a divisibilidade."
      ]
    },
    {
      "cell_type": "code",
      "execution_count": null,
      "metadata": {
        "id": "PfdLb2CMjcFS"
      },
      "outputs": [],
      "source": [
        "num = int(input(\"Digite um numero: \"))\n",
        "\n",
        "for numero in range(1,num+1):\n",
        "  if numero % 2 == 0:\n",
        "    print(\"{} é par\".format(numero))\n",
        "  else:\n",
        "    print(f\"{numero} é impar\")"
      ]
    },
    {
      "cell_type": "code",
      "execution_count": null,
      "metadata": {
        "id": "d1F3ULjWss6h"
      },
      "outputs": [],
      "source": []
    }
  ],
  "metadata": {
    "colab": {
      "provenance": []
    },
    "kernelspec": {
      "display_name": "Python 3",
      "name": "python3"
    },
    "language_info": {
      "name": "python"
    }
  },
  "nbformat": 4,
  "nbformat_minor": 0
}
