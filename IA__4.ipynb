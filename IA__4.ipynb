{
  "nbformat": 4,
  "nbformat_minor": 0,
  "metadata": {
    "colab": {
      "provenance": []
    },
    "kernelspec": {
      "name": "python3",
      "display_name": "Python 3"
    },
    "language_info": {
      "name": "python"
    }
  },
  "cells": [
    {
      "cell_type": "markdown",
      "source": [
        "# Preço pelo Bairro"
      ],
      "metadata": {
        "id": "b8hIG3ZYEsM4"
      }
    },
    {
      "cell_type": "code",
      "source": [
        "pip install category_encoders"
      ],
      "metadata": {
        "id": "UcqwLtJ9QcUd"
      },
      "execution_count": null,
      "outputs": []
    },
    {
      "cell_type": "code",
      "execution_count": null,
      "metadata": {
        "id": "3LTIqTMEEXUR"
      },
      "outputs": [],
      "source": [
        "from glob import glob\n",
        "import numpy as np\n",
        "\n",
        "import pandas as pd\n",
        "import matplotlib.pyplot as plt\n",
        "\n",
        "from category_encoders import OneHotEncoder\n",
        "\n",
        "from sklearn.linear_model import LinearRegression, Ridge\n",
        "from sklearn.metrics import mean_absolute_error\n",
        "from sklearn.pipeline import make_pipeline\n",
        "from sklearn.utils.validation import check_is_fitted"
      ]
    },
    {
      "cell_type": "markdown",
      "source": [
        "Na última lição, criamos um modelo que usava a localização — representada por latitude e longitude — para prever o preço. Nesta lição, vamos usar uma representação diferente para a localização: o bairro."
      ],
      "metadata": {
        "id": "uN0MKrmoFUoi"
      }
    },
    {
      "cell_type": "code",
      "source": [
        "def limpeza(filepath):\n",
        "    df = pd.read_csv(filepath)\n",
        "\n",
        "    mask_ba = df[\"place_with_parent_names\"].str.contains(\"Capital Federal\")\n",
        "    mask_apt = df[\"property_type\"] == \"apartment\"\n",
        "    mask_price = df[\"price_aprox_usd\"] < 400_000\n",
        "    df = df[mask_ba & mask_apt & mask_price]\n",
        "\n",
        "    low, high = df[\"surface_covered_in_m2\"].quantile([0.1, 0.9])\n",
        "    mask_area = df[\"surface_covered_in_m2\"].between(low, high)\n",
        "    df = df[mask_area]\n",
        "\n",
        "    df[[\"lat\", \"lon\"]] = df[\"lat-lon\"].str.split(\",\", expand=True).astype(float)\n",
        "\n",
        "    df[\"neighborhood\"] = df[\"place_with_parent_names\"].str.split(\"|\", expand=True)[3]\n",
        "\n",
        "    df.drop(columns=[\"place_with_parent_names\", \"lat-lon\"], inplace=True)\n",
        "\n",
        "    return df"
      ],
      "metadata": {
        "id": "29gCRbO4F1E9"
      },
      "execution_count": null,
      "outputs": []
    },
    {
      "cell_type": "markdown",
      "source": [
        "### Exercício:\n",
        "Modifique sua função limpeza para criar uma nova característica chamada \"neighborhood\". Você pode encontrar o bairro de cada propriedade na coluna \"place_with_parent_names\". Por exemplo, uma propriedade com o nome do local \"|Argentina|Capital Federal|Palermo|\" está localizada no bairro \"Palermo\". Além disso, sua função deve remover a coluna \"place_with_parent_names\"."
      ],
      "metadata": {
        "id": "JmxO5pECGw2d"
      }
    },
    {
      "cell_type": "code",
      "source": [
        "df = limpeza('/content/drive/MyDrive/Buenos-Aires-2/buenos-aires-1.csv')\n",
        "df.head(10)"
      ],
      "metadata": {
        "id": "a1aCb0HoG9Ht"
      },
      "execution_count": null,
      "outputs": []
    },
    {
      "cell_type": "markdown",
      "source": [
        "Na última lição, usamos nossa função limpeza para importar dois arquivos CSV como DataFrames. Mas e se tivéssemos centenas de arquivos CSV para importar? Manipulá-los um por um não seria uma opção. Então, vamos começar com uma técnica para ler vários arquivos CSV em um único DataFrame.\n",
        "\n",
        "O primeiro passo é reunir os nomes de todos os arquivos que queremos importar. Podemos fazer isso usando correspondência de padrões"
      ],
      "metadata": {
        "id": "OQ2OwGlwGUKy"
      }
    },
    {
      "cell_type": "markdown",
      "source": [
        "### Exercício:\n",
        "Use o `glob` para criar uma lista que contenha os nomes dos arquivos de todos os arquivos CSV de imóveis de Buenos Aires no diretório de dados. Atribua essa lista à variável chamada `files`."
      ],
      "metadata": {
        "id": "lEnkNquxHISj"
      }
    },
    {
      "cell_type": "code",
      "source": [
        "files = glob('/content/drive/MyDrive/Buenos-Aires-2/buenos-aires-?.csv')\n",
        "files"
      ],
      "metadata": {
        "id": "uyZ9_ja4G7rr"
      },
      "execution_count": null,
      "outputs": []
    },
    {
      "cell_type": "markdown",
      "source": [
        "O próximo passo é ler cada um dos arquivos CSV em `files` em um DataFrame e colocar todos esses DataFrames em uma lista. Qual é uma boa maneira de iterar por `files` para fazermos isso? Um laço `for`!"
      ],
      "metadata": {
        "id": "y623zJGHHWb0"
      }
    },
    {
      "cell_type": "markdown",
      "source": [
        "### Exercício:\n",
        "Use sua função `limpeza` em um laço `for` para criar uma lista chamada `frames`. A lista deve conter os DataFrames limpos criados a partir dos nomes de arquivos CSV que você coletou em `files`."
      ],
      "metadata": {
        "id": "5E4KvRVPHY2U"
      }
    },
    {
      "cell_type": "code",
      "source": [
        "frames = []\n",
        "for file in files:\n",
        "  frames.append(limpeza(file))\n",
        "\n",
        "display(frames[1].head())"
      ],
      "metadata": {
        "id": "xNyBvH4NHgdE"
      },
      "execution_count": null,
      "outputs": []
    },
    {
      "cell_type": "markdown",
      "source": [
        "### Exercício:\n",
        "Use `pd.concat` para concatenar os itens em `frames` em um único DataFrame chamado `df`. Certifique-se de definir o argumento `ignore_index` como `True`."
      ],
      "metadata": {
        "id": "v5FlzApcHujf"
      }
    },
    {
      "cell_type": "code",
      "source": [
        "df = pd.concat(frames, ignore_index=True)\n",
        "df.head(10)"
      ],
      "metadata": {
        "id": "P-X7fGCzH1z6"
      },
      "execution_count": null,
      "outputs": []
    },
    {
      "cell_type": "markdown",
      "source": [
        "# Dividir  \n",
        "Neste ponto, você deve se sentir mais à vontade com a divisão dos dados, então vamos condensar todo o processo em uma única tarefa."
      ],
      "metadata": {
        "id": "UIYp4I7FIXdr"
      }
    },
    {
      "cell_type": "markdown",
      "source": [
        "### Exercício:\n",
        "Crie sua matriz de características `X_train` e o vetor de alvo `y_train`.\n",
        "\n",
        "`X_train` deve conter uma característica: \"neighborhood\". Seu alvo é \"price_aprox_usd\"."
      ],
      "metadata": {
        "id": "kT5ky8ASINh6"
      }
    },
    {
      "cell_type": "code",
      "source": [
        "features = [\"neighborhood\"]\n",
        "target = \"price_aprox_usd\"\n",
        "\n",
        "y_train = df[target]\n",
        "X_train = df[features]"
      ],
      "metadata": {
        "id": "0et2y5PVIhfR"
      },
      "execution_count": null,
      "outputs": []
    },
    {
      "cell_type": "markdown",
      "source": [
        "# Baseline\n",
        "Vamos também condensar o código que usamos para estabelecer nossa linha de base."
      ],
      "metadata": {
        "id": "w1ynjkCMIsWp"
      }
    },
    {
      "cell_type": "markdown",
      "source": [
        "### Exercício:\n",
        "Calcule o erro absoluto médio de linha de base para o seu modelo."
      ],
      "metadata": {
        "id": "U8T6UsA1I7hj"
      }
    },
    {
      "cell_type": "code",
      "source": [
        "y_mean = y_train.mean()\n",
        "y_pred_baseline = [y_mean] * len(y_train)\n",
        "\n",
        "mae_baseline = mean_absolute_error(y_train, y_pred_baseline)\n",
        "\n",
        "print(\"Erro absoluto médio de linha de base:\", mae_baseline.round(2))"
      ],
      "metadata": {
        "id": "1DSCt0TaI_Sh"
      },
      "execution_count": null,
      "outputs": []
    },
    {
      "cell_type": "markdown",
      "source": [
        "# Iterar\n",
        "Se você tentar ajustar um preditor `LinearRegression` aos seus dados de treinamento neste ponto, você receberá um erro que se parece com isto:\n",
        "\n",
        "`ValueError: could not convert string to float`\n",
        "\n",
        "O que isso significa? Quando você ajusta um modelo de regressão linear, está pedindo ao scikit-learn para realizar uma operação matemática.\n",
        "\n",
        "O problema é que nosso conjunto de treinamento contém informações sobre o bairro em formato não numérico. Para criar nosso modelo, precisamos codificar essas informações para que sejam representadas numericamente.\n",
        "\n",
        "A boa notícia é que existem muitos transformadores que podem fazer isso. Aqui, usaremos o transformador da biblioteca `Category Encoders`, chamado `OneHotEncoder.`"
      ],
      "metadata": {
        "id": "Fi497kD1JnyP"
      }
    },
    {
      "cell_type": "markdown",
      "source": [
        "## OneHotEncoder\n",
        "Transforma variáveis __categóricas__ em variáveis __binárias__ (dummies).\n",
        "\n",
        "Por exemplo, se você tiver uma coluna com três categorias (\"A\", \"B\", \"C\"), o encoder criará três colunas binárias, uma para cada categoria.\n",
        "\n",
        "- ## `use_cats_name:`\n",
        "  - `use_cats_name = True:` Quando esta opção é ativada, o encoder usa os nomes das categorias para nomear as colunas resultantes. Isso é útil para garantir que as novas colunas criadas após a transformação sejam identificáveis e correspondam aos nomes originais das categorias.\n",
        "\n",
        "  - `use_cats_name = False:` Se não ativado, o encoder pode usar uma nomenclatura padrão para as colunas resultantes, o que pode ser menos intuitivo para a interpretação posterior."
      ],
      "metadata": {
        "id": "m-GeZ8X7LGBN"
      }
    },
    {
      "cell_type": "markdown",
      "source": [
        "### Exercício:\n",
        "Primeiro, instancie um `OneHotEncoder` chamado `ohe`.\n",
        "Certifique-se de definir o argumento `use_cat_names` como `True`.\n",
        "\n",
        "Em seguida, ajuste seu transformador à matriz de características `X_train`.\n",
        "\n",
        "Por fim, use seu codificador para transformar a matriz de características `X_train` e atribua os dados transformados à variável `XT_train`."
      ],
      "metadata": {
        "id": "LDIhcQrdL2_p"
      }
    },
    {
      "cell_type": "code",
      "source": [
        "ohe = OneHotEncoder(use_cat_names=True)\n",
        "ohe.fit(X_train)\n",
        "XT_train = ohe.transform(X_train)\n",
        "\n",
        "XT_train.head()"
      ],
      "metadata": {
        "id": "1ZXgaIFkJ6Zn"
      },
      "execution_count": null,
      "outputs": []
    },
    {
      "cell_type": "markdown",
      "source": [
        "## Ridge\n",
        "O Ridge é uma forma de regressão linear que inclui um termo de regularização. Ele é uma técnica de __regressão linear regularizada__, onde o modelo tenta minimizar o erro de previsão, mas também penaliza grandes coeficientes para evitar overfitting.\n",
        "\n",
        "### Por que usar Ridge e OneHotEncoder juntos?\n",
        "A regularização do Ridge ajuda a prevenir overfitting, especialmente em situações onde há muitas características (como muitas variáveis dummies geradas pelo OneHotEncoder).\n",
        "\n",
        "Sem regularização, o modelo pode se ajustar demais aos dados de treinamento e performar mal em dados novos.\n",
        "\n",
        "### Overfitting\n",
        "Overfitting é um problema que ocorre quando um modelo de machine learning aprende muito bem os dados de treinamento, incluindo o ruído e as peculiaridades específicas desses dados, mas não generaliza bem para novos dados.\n",
        "\n",
        "Isso significa que o modelo tem um desempenho muito bom em seus dados de treinamento, mas seu desempenho em dados não vistos (dados de teste) é ruim. Em outras palavras, o modelo está “superajustado” aos dados de treinamento."
      ],
      "metadata": {
        "id": "VaGg4XTuOBrf"
      }
    },
    {
      "cell_type": "markdown",
      "source": [
        "### Exercício:\n",
        "Crie um pipeline chamado `model` que contenha um transformador `OneHotEncoder` e um preditor de Regressão Linear.\n",
        "\n",
        "Em seguida, ajuste seu modelo aos dados de treinamento."
      ],
      "metadata": {
        "id": "cpe7BWjpO_g2"
      }
    },
    {
      "cell_type": "code",
      "source": [
        "model = make_pipeline(\n",
        "    OneHotEncoder(use_cat_names=True),\n",
        "    Ridge()\n",
        ")\n",
        "\n",
        "model.fit(X_train, y_train)"
      ],
      "metadata": {
        "id": "UR_CE-QMPWCU"
      },
      "execution_count": null,
      "outputs": []
    },
    {
      "cell_type": "markdown",
      "source": [
        "# Avaliar  \n",
        "Independentemente de como você construa seu modelo, o passo de avaliação permanece o mesmo. Vamos ver como nosso modelo se desempenha com o conjunto de treinamento."
      ],
      "metadata": {
        "id": "I3vW2T-8Psu3"
      }
    },
    {
      "cell_type": "markdown",
      "source": [
        "### Exercício:\n",
        "Primeiro, crie uma lista de previsões para as observações na sua matriz de características `X_train`. Nomeie essa lista como `y_pred_training`.\n",
        "\n",
        "Em seguida, calcule o erro absoluto médio de treinamento para suas previsões em `y_pred_training` em comparação com os alvos reais em `y_train`."
      ],
      "metadata": {
        "id": "_K06PfZQPzgw"
      }
    },
    {
      "cell_type": "code",
      "source": [
        "y_pred_training = model.predict(X_train)\n",
        "mae_training = mean_absolute_error(y_train, y_pred_training)\n",
        "\n",
        "round(mae_training,2)"
      ],
      "metadata": {
        "id": "w5Gj-yngP6R3"
      },
      "execution_count": null,
      "outputs": []
    },
    {
      "cell_type": "markdown",
      "source": [
        "### Exercício:\n",
        "Importe seus dados de teste `buenos-aires-features.csv` para um DataFrame e gere um Series de previsões usando seu modelo."
      ],
      "metadata": {
        "id": "MGu_7cGQQ1aY"
      }
    },
    {
      "cell_type": "code",
      "source": [
        "X_test = pd.read_csv('/content/drive/MyDrive/Buenos-Aires-2/buenos-aires-features.csv')[features]\n",
        "y_pred_test = pd.Series(model.predict(X_test))\n",
        "\n",
        "y_pred_test.head()"
      ],
      "metadata": {
        "id": "RilZsG4kRFrm"
      },
      "execution_count": null,
      "outputs": []
    },
    {
      "cell_type": "markdown",
      "source": [
        "# Comunicar Resultados  \n",
        "Se escrevermos a equação para o nosso modelo, ela será grande demais para caber na tela. Isso ocorre porque, ao usar o `OneHotEncoder` para codificar os dados do bairro, criamos um DataFrame muito mais largo, e cada coluna/característica tem seu próprio coeficiente na equação do modelo.\n",
        "\n",
        "![image.png](data:image/png;base64,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)\n",
        "\n",
        "Isso é importante manter em mente por duas razões. Primeiro, significa que este é um modelo de alta dimensionalidade. Em vez de um gráfico 2D ou 3D, precisaríamos de um gráfico 58-dimensional para representá-lo, o que é impossível! Segundo, significa que precisaremos extrair e representar as informações para nossa equação de uma forma um pouco diferente do que antes. Vamos começar obtendo o intercepto e os coeficientes."
      ],
      "metadata": {
        "id": "jvz3SxtWRJWf"
      }
    },
    {
      "cell_type": "markdown",
      "source": [
        "### Exercício:\n",
        "Extraia o intercepto e os coeficientes do seu modelo."
      ],
      "metadata": {
        "id": "SL8N_nfUSLQA"
      }
    },
    {
      "cell_type": "code",
      "source": [
        "intercept = model.named_steps['ridge'].intercept_\n",
        "coef = model.named_steps['ridge'].coef_\n",
        "\n",
        "coef[:5]"
      ],
      "metadata": {
        "id": "bKAW4GW8RfMT"
      },
      "execution_count": null,
      "outputs": []
    },
    {
      "cell_type": "markdown",
      "source": [
        "Temos os valores dos nossos coeficientes, mas como sabemos a quais características eles pertencem? Precisaremos obter essa informação acessando a parte do nosso pipeline que fez a codificação."
      ],
      "metadata": {
        "id": "9yjDPRVjSYAz"
      }
    },
    {
      "cell_type": "markdown",
      "source": [
        "### Exercício:\n",
        "Extraia os nomes das características dos seus dados codificados do `OneHotEncoder` no seu modelo."
      ],
      "metadata": {
        "id": "AoRoK6NgSgVI"
      }
    },
    {
      "cell_type": "code",
      "source": [
        "features_names = model.named_steps['onehotencoder'].get_feature_names()\n",
        "features_names[:5]"
      ],
      "metadata": {
        "id": "LamA5VcySi0j"
      },
      "execution_count": null,
      "outputs": []
    },
    {
      "cell_type": "markdown",
      "source": [
        "Temos coeficientes e nomes das características, e agora precisamos juntá-los. Para isso, usaremos um `Series`."
      ],
      "metadata": {
        "id": "GxBVeWvpSq5k"
      }
    },
    {
      "cell_type": "markdown",
      "source": [
        "### Exercício:\n",
        "Crie uma `Series` do pandas chamada `feat_imp`, onde o índice é suas características e os valores são seus coeficientes."
      ],
      "metadata": {
        "id": "_QKbnoc6Stid"
      }
    },
    {
      "cell_type": "code",
      "source": [
        "feat_imp = pd.Series(coef, index=features_names)\n",
        "feat_imp.head(10)"
      ],
      "metadata": {
        "id": "ZxWUxfXCS1Kx"
      },
      "execution_count": null,
      "outputs": []
    },
    {
      "cell_type": "markdown",
      "source": [
        "Para ser claro, definitivamente não é uma boa ideia mostrar essa equação, mas vamos imprimi-la apenas para verificar nosso trabalho.\n",
        "\n",
        "Como há muitos termos para imprimir, usaremos um laço for."
      ],
      "metadata": {
        "id": "AJJUdH--TFfX"
      }
    },
    {
      "cell_type": "code",
      "source": [
        "print(f\"price = {intercept.round(2)}\")\n",
        "for f, c in feat_imp.items():\n",
        "    print(f\"+ ({round(c, 2)} * {f})\", end='')"
      ],
      "metadata": {
        "id": "fenE_Ct1TP9s"
      },
      "execution_count": null,
      "outputs": []
    },
    {
      "cell_type": "markdown",
      "source": [
        "### Exercício:\n",
        "Crie um gráfico de barras horizontal que mostre os 15 principais coeficientes do seu modelo, com base no valor absoluto deles."
      ],
      "metadata": {
        "id": "MREGr79-TiTA"
      }
    },
    {
      "cell_type": "code",
      "source": [
        "feat_imp.sort_values(key=abs).tail(15).plot(kind='barh')\n",
        "plt.xlabel('Importance [USD]')\n",
        "plt.ylabel('Feature')\n",
        "plt.title('Feature Importance for Apartment Price')\n",
        "plt.show()"
      ],
      "metadata": {
        "id": "y8Rn4VZIYh8r"
      },
      "execution_count": null,
      "outputs": []
    },
    {
      "cell_type": "code",
      "source": [],
      "metadata": {
        "id": "T4XIWyIst07O"
      },
      "execution_count": null,
      "outputs": []
    }
  ]
}