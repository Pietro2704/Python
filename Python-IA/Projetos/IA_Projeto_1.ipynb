{
  "nbformat": 4,
  "nbformat_minor": 0,
  "metadata": {
    "colab": {
      "provenance": []
    },
    "kernelspec": {
      "name": "python3",
      "display_name": "Python 3"
    },
    "language_info": {
      "name": "python"
    }
  },
  "cells": [
    {
      "cell_type": "code",
      "source": [
        "# pip install category_encoders"
      ],
      "metadata": {
        "id": "4qJYTesuRdw5"
      },
      "execution_count": null,
      "outputs": []
    },
    {
      "cell_type": "code",
      "source": [
        "import pandas as pd\n",
        "from glob import glob\n",
        "import seaborn as sns\n",
        "import matplotlib.pyplot as plt\n",
        "import plotly.express as px\n",
        "from sklearn.metrics import mean_absolute_error\n",
        "from sklearn.pipeline import make_pipeline\n",
        "from sklearn.impute import SimpleImputer\n",
        "from category_encoders import OneHotEncoder\n",
        "from sklearn.linear_model import Ridge"
      ],
      "metadata": {
        "id": "jcd7z-9lD2Js"
      },
      "execution_count": null,
      "outputs": []
    },
    {
      "cell_type": "markdown",
      "source": [
        "Escreva uma função de \"limpeza\" que recebe o nome de um arquivo CSV como entrada e retorna um DataFrame.\n",
        "\n",
        "A função deve realizar os seguintes passos:\n",
        "\n",
        "- Selecione os dados no arquivo CSV e retorne apenas apartamentos na Cidade do México (\"Distrito Federal\") que custem menos de $100.000.\n",
        "\n",
        "- Remova outliers cortando os 10% inferiores e superiores das propriedades em termos de \"surface_covered_in_m2\".\n",
        "\n",
        "- Crie colunas separadas \"lat\" e \"lon\".\n",
        "\n",
        "- A Cidade do México é dividida em 15 bairros. Crie uma feature \"borough\" a partir da coluna \"place_with_parent_names\".\n",
        "\n",
        "- Exclua colunas que contenham mais de 50% de valores nulos.\n",
        "\n",
        "- Exclua colunas que contenham valores categóricos de baixa ou alta cardinalidade.\n",
        "\n",
        "- Exclua quaisquer colunas que constituam vazamento para o alvo \"price_aprox_usd\".\n",
        "\n",
        "- Exclua quaisquer colunas que criariam problemas de multicolinearidade"
      ],
      "metadata": {
        "id": "f4DzkK67F2Pz"
      }
    },
    {
      "cell_type": "code",
      "execution_count": null,
      "metadata": {
        "id": "6N31J24vCtm6"
      },
      "outputs": [],
      "source": [
        "def limpeza(arquivo):\n",
        "  df = pd.read_csv(arquivo)\n",
        "\n",
        "  # Mascaras de apt, distrito federal e preco\n",
        "  mask_apt = df[\"property_type\"] == \"apartment\"\n",
        "  mask_ba = df[\"place_with_parent_names\"].str.contains(\"Distrito Federal\")\n",
        "  mask_price = df[\"price_aprox_usd\"] < 100_000\n",
        "  df = df[mask_apt & mask_ba & mask_price]\n",
        "\n",
        "  # Outliers\n",
        "  low, high = df[\"surface_covered_in_m2\"].quantile([0.1, 0.9])\n",
        "  mask_area = df[\"surface_covered_in_m2\"].between(low, high)\n",
        "  df = df[mask_area]\n",
        "\n",
        "  # Lat e lon\n",
        "  df[[\"lat\",\"lon\"]] = df[\"lat-lon\"].str.split(\",\", expand=True).astype(float)\n",
        "  df.drop(columns=[\"lat-lon\"], inplace=True)\n",
        "\n",
        "  # Borough\n",
        "  df[\"borough\"] = df[\"place_with_parent_names\"].str.split(\"|\", expand=True)[1]\n",
        "  df.drop(columns=\"place_with_parent_names\", inplace=True)\n",
        "\n",
        "  # Mais de 50% vazio\n",
        "  df.drop(columns=[\"surface_total_in_m2\", \"price_usd_per_m2\", \"floor\", \"rooms\", \"expenses\"], inplace=True)\n",
        "\n",
        "  # Cardinalidade\n",
        "  df.drop(columns=[\"operation\", \"property_type\", \"currency\", \"properati_url\"], inplace=True)\n",
        "\n",
        "  # Vazamento\n",
        "  df.drop(columns=[\"price\", \"price_aprox_local_currency\", \"price_per_m2\"], inplace=True)\n",
        "\n",
        "  return df\n"
      ]
    },
    {
      "cell_type": "markdown",
      "source": [
        "Use o glob para criar a lista de arquivos. Ela deve conter os nomes dos arquivos de todos os CSVs de imóveis da Cidade do México no diretório ./data, exceto o mexico-city-features.csv."
      ],
      "metadata": {
        "id": "HRbrvQLXG2vj"
      }
    },
    {
      "cell_type": "code",
      "source": [
        "files = glob('/content/drive/MyDrive/Buenos-Aires-2/mexico-city-?.csv')"
      ],
      "metadata": {
        "id": "V22GBpoaFZyk"
      },
      "execution_count": null,
      "outputs": []
    },
    {
      "cell_type": "markdown",
      "source": [
        "Combine sua função de \"limpeza\", uma compreensão de lista e pd.concat para criar um DataFrame df.\n",
        "\n",
        "Ele deve conter todas as propriedades dos cinco arquivos CSV em files."
      ],
      "metadata": {
        "id": "ktLmQbwPHL4q"
      }
    },
    {
      "cell_type": "code",
      "source": [
        "frames = []\n",
        "for file in files:\n",
        "    df = limpeza(file)\n",
        "    frames.append(df)\n",
        "\n",
        "df = pd.concat(frames, ignore_index=True)\n",
        "print(df.info())\n",
        "# df.head()"
      ],
      "metadata": {
        "id": "iXaqXgtZF1rE"
      },
      "execution_count": null,
      "outputs": []
    },
    {
      "cell_type": "markdown",
      "source": [
        "Crie um histograma mostrando a distribuição dos preços de apartamentos (\"price_aprox_usd\") em df.\n",
        "\n",
        "Certifique-se de rotular o eixo x como \"Price [$]\", o eixo y como \"Count\" e dar o título \"Distribution of Apartment Prices\". Use o Matplotlib (plt).\n",
        "\n",
        "Como é a distribuição dos preços? Os dados são normais, ligeiramente assimétricos ou muito assimétricos?"
      ],
      "metadata": {
        "id": "CyoQr_XZHjcK"
      }
    },
    {
      "cell_type": "code",
      "source": [
        "plt.hist(df[\"price_aprox_usd\"])\n",
        "plt.xlabel(\"Price [$]\")\n",
        "plt.ylabel(\"Count\")\n",
        "plt.title(\"Distribution of Apartment Prices\");"
      ],
      "metadata": {
        "id": "wiBulRMJHo_A"
      },
      "execution_count": null,
      "outputs": []
    },
    {
      "cell_type": "markdown",
      "source": [
        "Crie um gráfico de dispersão que mostre o preço dos apartamentos (\"price_aprox_usd\") como uma função do tamanho dos apartamentos (\"surface_covered_in_m2\").\n",
        "\n",
        "Certifique-se de rotular o eixo x como \"Area [sq meters]\" e o eixo y como \"Price [USD]\". Seu gráfico deve ter o título \"Mexico City: Price vs. Area\".\n",
        "\n",
        "Use o Matplotlib (plt)."
      ],
      "metadata": {
        "id": "sn_jI4R7Hrgy"
      }
    },
    {
      "cell_type": "code",
      "source": [
        "plt.scatter(x=df[\"surface_covered_in_m2\"], y=df[\"price_aprox_usd\"])\n",
        "plt.xlabel(\"Area [sq meters]\")\n",
        "plt.ylabel(\"Price [USD]\")\n",
        "plt.title(\"Mexico City: Price vs. Area\");"
      ],
      "metadata": {
        "id": "uNe-Ra8yHzZ_"
      },
      "execution_count": null,
      "outputs": []
    },
    {
      "cell_type": "markdown",
      "source": [
        "Você vê alguma relação entre preço e área nos dados? Como isso é semelhante ou diferente do conjunto de dados de Buenos Aires?"
      ],
      "metadata": {
        "id": "-4kyafYMHzrd"
      }
    },
    {
      "cell_type": "markdown",
      "source": [
        "Crie um gráfico de dispersão no Mapbox que mostre a localização dos apartamentos em seu conjunto de dados e represente seu preço usando cores.\n",
        "\n",
        "Quais áreas da cidade parecem ter preços de imóveis mais altos?"
      ],
      "metadata": {
        "id": "xYqNEZYeIGJF"
      }
    },
    {
      "cell_type": "code",
      "source": [
        "fig = px.scatter_mapbox(\n",
        "    df,\n",
        "    lat=\"lat\",\n",
        "    lon=\"lon\",\n",
        "    width = 600,\n",
        "    height = 600,\n",
        "    color=\"price_aprox_usd\",\n",
        "    hover_data=[\"price_aprox_usd\"])\n",
        "\n",
        "fig.update_layout(mapbox_style=\"open-street-map\")\n",
        "fig.show()"
      ],
      "metadata": {
        "id": "QM-Ve03DIH0X"
      },
      "execution_count": null,
      "outputs": []
    },
    {
      "cell_type": "markdown",
      "source": [
        "Crie sua matriz de características X_train e o vetor alvo y_train.\n",
        "\n",
        "Seu alvo é \"price_aprox_usd\". Suas características devem ser todas as colunas que restam no DataFrame que você limpou acima."
      ],
      "metadata": {
        "id": "F-2iRg5SIdGk"
      }
    },
    {
      "cell_type": "code",
      "source": [
        "features = [\"surface_covered_in_m2\", \"lat\", \"lon\", \"borough\"]\n",
        "target = \"price_aprox_usd\"\n",
        "\n",
        "X_train = df[features]\n",
        "y_train = df[target]\n",
        "\n",
        "X_train.head()"
      ],
      "metadata": {
        "id": "K3V_gzs7Iirk"
      },
      "execution_count": null,
      "outputs": []
    },
    {
      "cell_type": "markdown",
      "source": [
        "Calcule o erro absoluto médio de referência para o seu modelo."
      ],
      "metadata": {
        "id": "lcjNoDORInLu"
      }
    },
    {
      "cell_type": "code",
      "source": [
        "y_mean = y_train.mean()\n",
        "y_pred_baseline = [y_mean] * len(y_train)\n",
        "mae_baseline = mean_absolute_error(y_train, y_pred_baseline)\n",
        "mae_baseline.round(2)"
      ],
      "metadata": {
        "id": "mOx1FUOcIoAv"
      },
      "execution_count": null,
      "outputs": []
    },
    {
      "cell_type": "markdown",
      "source": [
        "Crie um pipeline chamado model que contenha todos os transformadores necessários para este conjunto de dados e um dos preditores que você usou durante este projeto. Em seguida, ajuste seu modelo aos dados de treinamento."
      ],
      "metadata": {
        "id": "zA1pzpvqIuZO"
      }
    },
    {
      "cell_type": "code",
      "source": [
        "model = make_pipeline(\n",
        "    OneHotEncoder(use_cat_names=True),\n",
        "    SimpleImputer(),\n",
        "    Ridge()\n",
        ")\n",
        "\n",
        "model.fit(X_train, y_train)"
      ],
      "metadata": {
        "id": "Lw3tBITgIuyu"
      },
      "execution_count": null,
      "outputs": []
    },
    {
      "cell_type": "markdown",
      "source": [
        "Leia o arquivo CSV mexico-city-features.csv para o DataFrame X_test."
      ],
      "metadata": {
        "id": "OiPZlI_qI0SE"
      }
    },
    {
      "cell_type": "code",
      "source": [
        "X_test = pd.read_csv(\"/content/drive/MyDrive/Buenos-Aires-2/mexico-city-features.csv\")\n",
        "X_test.info()"
      ],
      "metadata": {
        "id": "hsWtq0ErJBw7"
      },
      "execution_count": null,
      "outputs": []
    },
    {
      "cell_type": "markdown",
      "source": [
        "Use seu modelo para gerar uma Série de previsões para X_test.\n"
      ],
      "metadata": {
        "id": "96mboEOkJCBo"
      }
    },
    {
      "cell_type": "code",
      "source": [
        "y_test_pred = pd.Series(model.predict(X_test))\n",
        "y_test_pred.head()"
      ],
      "metadata": {
        "id": "gGy60otYJCe0"
      },
      "execution_count": null,
      "outputs": []
    },
    {
      "cell_type": "markdown",
      "source": [
        "Crie um `Serie` chamado feat_imp. O índice deve conter os nomes de todas as características que seu modelo considera ao fazer previsões;\n",
        "\n",
        "Os valores devem ser os valores dos coeficientes associados a cada característica.\n",
        "\n",
        "A Série deve ser ordenada em ordem crescente pelo valor absoluto."
      ],
      "metadata": {
        "id": "bhJp4BGfJK-T"
      }
    },
    {
      "cell_type": "code",
      "source": [
        "coef = model.named_steps[\"ridge\"].coef_\n",
        "feats = model.named_steps[\"onehotencoder\"].get_feature_names_out()\n",
        "\n",
        "feat_imp = pd.Series(coef, index=feats).sort_values()\n",
        "feat_imp"
      ],
      "metadata": {
        "id": "xDCM6yCXJWJP"
      },
      "execution_count": null,
      "outputs": []
    },
    {
      "cell_type": "markdown",
      "source": [
        "Crie um gráfico de barras horizontal que mostre os 10 coeficientes mais influentes para seu modelo.\n",
        "\n",
        "Certifique-se de rotular o eixo x como \"Importance [USD]\" e o eixo y como \"Feature\", e dê ao seu gráfico o título \"Feature Importances for Apartment Price\". Use o pandas."
      ],
      "metadata": {
        "id": "K4PkrTxzJgPT"
      }
    },
    {
      "cell_type": "code",
      "source": [
        "feat_imp.sort_values(key=abs).tail(10).plot(kind='barh')\n",
        "\n",
        "plt.xlabel('Importance [USD]')\n",
        "plt.ylabel('Feature')\n",
        "plt.title('Feature Importances for Apartment Price')"
      ],
      "metadata": {
        "id": "SMZrtwZ3Jii7"
      },
      "execution_count": null,
      "outputs": []
    }
  ]
}