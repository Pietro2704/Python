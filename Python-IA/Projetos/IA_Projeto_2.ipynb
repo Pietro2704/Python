{
  "cells": [
    {
      "cell_type": "markdown",
      "id": "7adfb2a2-f887-41a8-8003-6744801b7780",
      "metadata": {
        "deletable": false,
        "editable": false,
        "id": "7adfb2a2-f887-41a8-8003-6744801b7780"
      },
      "source": [
        "# Danos causados pelo terremoto em Kavrepalanchok 🇳🇵"
      ]
    },
    {
      "cell_type": "markdown",
      "id": "bc60813d-d919-4f33-9e5c-8a5f5655d25f",
      "metadata": {
        "deletable": false,
        "editable": false,
        "id": "bc60813d-d919-4f33-9e5c-8a5f5655d25f"
      },
      "source": [
        "Nesta tarefa, você construirá um modelo de classificação para prever os danos aos edifícios no distrito de Kavrepalanchok."
      ]
    },
    {
      "cell_type": "code",
      "execution_count": null,
      "id": "2ef8eaa3-d1c0-42f7-87f9-ace7e1a4f712",
      "metadata": {
        "deletable": false,
        "id": "2ef8eaa3-d1c0-42f7-87f9-ace7e1a4f712"
      },
      "outputs": [],
      "source": [
        "# Import libraries here\n"
      ]
    },
    {
      "cell_type": "markdown",
      "id": "0cec9bac-5fb3-4ad8-9ed3-d6d754160640",
      "metadata": {
        "deletable": false,
        "editable": false,
        "id": "0cec9bac-5fb3-4ad8-9ed3-d6d754160640"
      },
      "source": [
        "# Preparando Dados"
      ]
    },
    {
      "cell_type": "markdown",
      "id": "bda33c00-118e-4000-92b8-536e4a4108d5",
      "metadata": {
        "deletable": false,
        "editable": false,
        "id": "bda33c00-118e-4000-92b8-536e4a4108d5"
      },
      "source": [
        "## Conexão"
      ]
    },
    {
      "cell_type": "markdown",
      "id": "b8503125-3767-4385-b22c-b9b12cf048a7",
      "metadata": {
        "deletable": false,
        "editable": false,
        "id": "b8503125-3767-4385-b22c-b9b12cf048a7"
      },
      "source": [
        "Execute a célula abaixo para se conectar ao banco de dados `banco.db`."
      ]
    },
    {
      "cell_type": "code",
      "execution_count": null,
      "id": "b4f41e25-9e0f-4736-ae75-ab8e51bffcfb",
      "metadata": {
        "deletable": false,
        "id": "b4f41e25-9e0f-4736-ae75-ab8e51bffcfb"
      },
      "outputs": [],
      "source": [
        "%load_ext sql\n",
        "%sql sqlite:///"
      ]
    },
    {
      "cell_type": "markdown",
      "id": "72de701a-ead5-48c3-9c40-9e548d5cb634",
      "metadata": {
        "deletable": false,
        "editable": false,
        "id": "72de701a-ead5-48c3-9c40-9e548d5cb634"
      },
      "source": [
        "<div class=\"alert alert-block alert-warning\">\n",
        "<b>Aviso: </b>Tenha cuidado com suas consultas SQL nesta tarefa. Se você tentar obter todas as linhas de uma tabela (por exemplo, <code>SELECT * FROM id_map</code>), isso causará um erro de Falta de Memória na sua máquina virtual. Portanto, sempre inclua um <code>LIMIT</code> ao explorar um banco de dados pela primeira vez.\n",
        "</div>"
      ]
    },
    {
      "cell_type": "markdown",
      "id": "fef7dca8-4955-43b0-b78d-d839702ab257",
      "metadata": {
        "deletable": false,
        "editable": false,
        "id": "fef7dca8-4955-43b0-b78d-d839702ab257"
      },
      "source": [
        "### Exercício:\n",
        "Quais distritos estão representados na tabela `id_map`? Determine os valores únicos na coluna **`district_id`**."
      ]
    },
    {
      "cell_type": "code",
      "execution_count": null,
      "id": "e0fe1e67-0bf7-4955-83a8-c355a73c231d",
      "metadata": {
        "deletable": false,
        "id": "e0fe1e67-0bf7-4955-83a8-c355a73c231d"
      },
      "outputs": [],
      "source": [
        "%%sql\n",
        "\n"
      ]
    },
    {
      "cell_type": "markdown",
      "id": "e5e29983-87b0-4f09-b2e6-ebad6cc5d87f",
      "metadata": {
        "deletable": false,
        "editable": false,
        "id": "e5e29983-87b0-4f09-b2e6-ebad6cc5d87f"
      },
      "source": [
        "Qual é o ID do distrito de Kavrepalanchok? Pelas lições, você já sabe que Gorkha é `4`.\n",
        "Dos distritos restantes, Kavrepalanchok é o que possui o maior número de observações na tabela `id_map`."
      ]
    },
    {
      "cell_type": "code",
      "source": [],
      "metadata": {
        "id": "V_qo8RwEerO3"
      },
      "id": "V_qo8RwEerO3",
      "execution_count": null,
      "outputs": []
    },
    {
      "cell_type": "markdown",
      "id": "8bfad7c2-f8c8-40d7-aed9-592af00d468f",
      "metadata": {
        "deletable": false,
        "editable": false,
        "id": "8bfad7c2-f8c8-40d7-aed9-592af00d468f"
      },
      "source": [
        "### Exercício:\n",
        "Calcule o número de observações na tabela `id_map` associadas ao distrito `1`."
      ]
    },
    {
      "cell_type": "code",
      "execution_count": null,
      "id": "f69563d2-ed56-42ce-9bbb-bca91fb83245",
      "metadata": {
        "deletable": false,
        "id": "f69563d2-ed56-42ce-9bbb-bca91fb83245"
      },
      "outputs": [],
      "source": [
        "%%sql\n",
        "\n"
      ]
    },
    {
      "cell_type": "markdown",
      "id": "a2d265c6-ebf5-4cd1-b414-6dbc58a62119",
      "metadata": {
        "deletable": false,
        "editable": false,
        "id": "a2d265c6-ebf5-4cd1-b414-6dbc58a62119"
      },
      "source": [
        "### Exercício:\n",
        "Calcule o número de observações na tabela `id_map` associadas ao distrito `3`."
      ]
    },
    {
      "cell_type": "code",
      "execution_count": null,
      "id": "ed88fe76-9572-4bc3-b8d0-f9bdff06d1b8",
      "metadata": {
        "deletable": false,
        "id": "ed88fe76-9572-4bc3-b8d0-f9bdff06d1b8"
      },
      "outputs": [],
      "source": [
        "%%sql\n",
        "\n"
      ]
    },
    {
      "cell_type": "markdown",
      "id": "712062bd-117a-4b18-857b-435b61a6913f",
      "metadata": {
        "deletable": false,
        "editable": false,
        "id": "712062bd-117a-4b18-857b-435b61a6913f"
      },
      "source": [
        "### Exercício:\n",
        "Una os IDs únicos dos edifícios de Kavrepalanchok na tabela `id_map`, todas as colunas de `building_structure`, e a coluna **`damage_grade`** da tabela `building_damage`, limitando os resultados a 5 linhas. Certifique-se de renomear a coluna **`building_id`** de `id_map` como **`b_id`** e limite seus resultados às primeiras cinco linhas da nova tabela."
      ]
    },
    {
      "cell_type": "code",
      "execution_count": null,
      "id": "4f19b935-07ec-4e13-a780-5aae82f8dfb3",
      "metadata": {
        "deletable": false,
        "id": "4f19b935-07ec-4e13-a780-5aae82f8dfb3"
      },
      "outputs": [],
      "source": [
        "%%sql\n",
        "\n",
        "\n",
        "LIMIT 5"
      ]
    },
    {
      "cell_type": "markdown",
      "id": "fa6700bb-fcf9-417f-92cd-83805a049873",
      "metadata": {
        "deletable": false,
        "editable": false,
        "id": "fa6700bb-fcf9-417f-92cd-83805a049873"
      },
      "source": [
        "## Importar"
      ]
    },
    {
      "cell_type": "markdown",
      "id": "38989cd1-b725-4c23-b734-789f9f5315b9",
      "metadata": {
        "deletable": false,
        "editable": false,
        "id": "38989cd1-b725-4c23-b734-789f9f5315b9"
      },
      "source": [
        "### Exercício:\n",
        "Escreva uma função `wrangle` que usará a consulta que você criou na tarefa anterior para criar um DataFrame. Além disso, sua função deve:\n",
        "\n",
        "1. Criar uma coluna `\"severe_damage\"`, onde todos os edifícios com uma nota de dano maior que `3` devem ser codificados como `1`. Todos os outros edifícios devem ser codificados como `0`.\n",
        "2. Remover quaisquer colunas que possam causar problemas de vazamento ou multicolinearidade em seu modelo."
      ]
    },
    {
      "cell_type": "code",
      "execution_count": null,
      "id": "20fd1370-8034-4f96-a525-cc5c8153ca0e",
      "metadata": {
        "deletable": false,
        "id": "20fd1370-8034-4f96-a525-cc5c8153ca0e"
      },
      "outputs": [],
      "source": [
        "# Build your `wrangle` function here\n"
      ]
    },
    {
      "cell_type": "markdown",
      "id": "5d450d82-bccf-4734-8529-6e71abfc9d76",
      "metadata": {
        "deletable": false,
        "editable": false,
        "id": "5d450d82-bccf-4734-8529-6e71abfc9d76"
      },
      "source": [
        "Use sua função `wrangle` para consultar o banco de dados em `\"banco.db\"` e retornar seus resultados limpos."
      ]
    },
    {
      "cell_type": "code",
      "execution_count": null,
      "id": "c07f1e9c-3037-4cf7-b282-f3cad3985761",
      "metadata": {
        "deletable": false,
        "id": "c07f1e9c-3037-4cf7-b282-f3cad3985761"
      },
      "outputs": [],
      "source": [
        "df = ...\n",
        "df.head()"
      ]
    },
    {
      "cell_type": "markdown",
      "id": "65aa9771-74b9-4bdf-b7c4-65ae0aa40ba7",
      "metadata": {
        "deletable": false,
        "editable": false,
        "id": "65aa9771-74b9-4bdf-b7c4-65ae0aa40ba7"
      },
      "source": [
        "## Explorar"
      ]
    },
    {
      "cell_type": "markdown",
      "id": "dffc3d6d-46ed-4929-952e-5bc79cd32db9",
      "metadata": {
        "deletable": false,
        "editable": false,
        "id": "dffc3d6d-46ed-4929-952e-5bc79cd32db9"
      },
      "source": [
        "### Exercício:\n",
        "As classes neste conjunto de dados estão balanceadas? Crie um gráfico de barras com as contagens normalizadas da coluna `\"severe_damage\"`. Certifique-se de rotular o eixo x como `\"Severe Damage\"` e o eixo y como `\"Frequência Relativa\"`. Use o título `\"Kavrepalanchok, Balanceamento de Classes\"`."
      ]
    },
    {
      "cell_type": "code",
      "execution_count": null,
      "id": "f2b8ee83-1a0d-4362-b1a2-c7882128c50b",
      "metadata": {
        "deletable": false,
        "id": "f2b8ee83-1a0d-4362-b1a2-c7882128c50b"
      },
      "outputs": [],
      "source": [
        "# Plot value counts of `\"severe_damage\"`\n",
        "\n"
      ]
    },
    {
      "cell_type": "markdown",
      "id": "da85d06c-1071-473f-84df-9c030f2e3df8",
      "metadata": {
        "deletable": false,
        "editable": false,
        "id": "da85d06c-1071-473f-84df-9c030f2e3df8"
      },
      "source": [
        "### Exercício:\n",
        "Há uma relação entre o tamanho da área de base de um edifício e os danos que ele sofreu no terremoto? Use o seaborn para criar um boxplot que mostre as distribuições da coluna `\"plinth_area_sq_ft\"` para ambos os grupos na coluna `\"severe_damage\"`. Rotule seu eixo x como `\"Severe Damage\"` e o eixo y como `\"Área de Base [sq. ft.]\"`. Use o título `\"Kavrepalanchok, Área de Base vs Danos aos Edifícios\"`."
      ]
    },
    {
      "cell_type": "code",
      "execution_count": null,
      "id": "5442fab6-d0ee-4b03-82d8-d4b13b1d7f0a",
      "metadata": {
        "deletable": false,
        "id": "5442fab6-d0ee-4b03-82d8-d4b13b1d7f0a"
      },
      "outputs": [],
      "source": []
    },
    {
      "cell_type": "markdown",
      "id": "06724b29-fd2e-47fa-b528-a8de78b2572a",
      "metadata": {
        "deletable": false,
        "editable": false,
        "id": "06724b29-fd2e-47fa-b528-a8de78b2572a"
      },
      "source": [
        "### Exercício:\n",
        "Os edifícios com certos tipos de telhado são mais propensos a sofrer danos severos? Crie uma tabela dinâmica de `df`, onde o índice é `\"roof_type\"` e os valores vêm da coluna `\"severe_damage\"`, agregados pela média."
      ]
    },
    {
      "cell_type": "code",
      "execution_count": null,
      "id": "d67cf52d-e656-4c22-a81e-deeef1d069bc",
      "metadata": {
        "deletable": false,
        "id": "d67cf52d-e656-4c22-a81e-deeef1d069bc"
      },
      "outputs": [],
      "source": [
        "roof_pivot = ...\n",
        "roof_pivot"
      ]
    },
    {
      "cell_type": "markdown",
      "id": "02c31a37-40d4-4898-81f3-68f08ce8cc2a",
      "metadata": {
        "deletable": false,
        "editable": false,
        "id": "02c31a37-40d4-4898-81f3-68f08ce8cc2a"
      },
      "source": [
        "## Dividir"
      ]
    },
    {
      "cell_type": "markdown",
      "id": "2fc525f3-5043-4630-ab7d-2d69594b0b32",
      "metadata": {
        "deletable": false,
        "editable": false,
        "id": "2fc525f3-5043-4630-ab7d-2d69594b0b32"
      },
      "source": [
        "### Exercício:\n",
        "Crie sua matriz de características `X` e o vetor alvo `y`. Seu alvo é `\"severe_damage\"`."
      ]
    },
    {
      "cell_type": "code",
      "execution_count": null,
      "id": "dd434d37-3528-4929-b3cf-3a40518fdbe2",
      "metadata": {
        "deletable": false,
        "id": "dd434d37-3528-4929-b3cf-3a40518fdbe2"
      },
      "outputs": [],
      "source": [
        "\n",
        "X = ...\n",
        "y = ...\n",
        "print(\"X shape:\", X.shape)\n",
        "print(\"y shape:\", y.shape)"
      ]
    },
    {
      "cell_type": "markdown",
      "id": "60c087c2-6337-417f-aaaa-b204e9a33fbc",
      "metadata": {
        "deletable": false,
        "editable": false,
        "id": "60c087c2-6337-417f-aaaa-b204e9a33fbc"
      },
      "source": [
        "### Exercício:\n",
        "Divida seu conjunto de dados em conjuntos de treinamento e validação usando uma divisão aleatória. Seu conjunto de validação deve ser 20% dos seus dados."
      ]
    },
    {
      "cell_type": "code",
      "execution_count": null,
      "id": "dce122c9-97a9-40ff-bb09-2c8d28f1f6f5",
      "metadata": {
        "deletable": false,
        "id": "dce122c9-97a9-40ff-bb09-2c8d28f1f6f5"
      },
      "outputs": [],
      "source": [
        "X_train, X_val, y_train, y_val = ...\n",
        "print(\"X_train shape:\", X_train.shape)\n",
        "print(\"y_train shape:\", y_train.shape)\n",
        "print(\"X_val shape:\", X_val.shape)\n",
        "print(\"y_val shape:\", y_val.shape)"
      ]
    },
    {
      "cell_type": "markdown",
      "id": "bf76ec92-7473-4a25-ac72-a1ced1fd213a",
      "metadata": {
        "deletable": false,
        "editable": false,
        "id": "bf76ec92-7473-4a25-ac72-a1ced1fd213a"
      },
      "source": [
        "# Construindo Model"
      ]
    },
    {
      "cell_type": "markdown",
      "id": "59e1e4d3-3ff9-41f7-8a38-35d622517486",
      "metadata": {
        "deletable": false,
        "editable": false,
        "id": "59e1e4d3-3ff9-41f7-8a38-35d622517486"
      },
      "source": [
        "## Baseline"
      ]
    },
    {
      "cell_type": "markdown",
      "id": "64ba0679-9abb-4a40-85b2-cdeb94481f72",
      "metadata": {
        "deletable": false,
        "editable": false,
        "id": "64ba0679-9abb-4a40-85b2-cdeb94481f72"
      },
      "source": [
        "### Exercício:\n",
        "Calcule a pontuação de precisão de referência para o seu modelo."
      ]
    },
    {
      "cell_type": "code",
      "execution_count": null,
      "id": "c9ecd21e-06c2-4917-8ed4-228a1004cd9c",
      "metadata": {
        "deletable": false,
        "id": "c9ecd21e-06c2-4917-8ed4-228a1004cd9c"
      },
      "outputs": [],
      "source": [
        "acc_baseline = ...\n",
        "print(\"Baseline Accuracy:\", round(acc_baseline, 2))"
      ]
    },
    {
      "cell_type": "markdown",
      "id": "417d5536-9aa5-45f7-99db-946a792d5978",
      "metadata": {
        "deletable": false,
        "editable": false,
        "tags": [],
        "id": "417d5536-9aa5-45f7-99db-946a792d5978"
      },
      "source": [
        "## Iterar"
      ]
    },
    {
      "cell_type": "markdown",
      "id": "1028a961-792a-4ab5-b2cf-c2a7531a6099",
      "metadata": {
        "deletable": false,
        "editable": false,
        "id": "1028a961-792a-4ab5-b2cf-c2a7531a6099"
      },
      "source": [
        "###Exercício:\n",
        "Crie um modelo `model_lr` que use regressão logística para prever danos aos edifícios. Certifique-se de incluir um codificador apropriado para as características categóricas."
      ]
    },
    {
      "cell_type": "code",
      "execution_count": null,
      "id": "71ddc9e5-2c17-418e-ad3b-2eecf5ed7c1b",
      "metadata": {
        "deletable": false,
        "id": "71ddc9e5-2c17-418e-ad3b-2eecf5ed7c1b"
      },
      "outputs": [],
      "source": [
        "model_lr = ...\n"
      ]
    },
    {
      "cell_type": "markdown",
      "id": "8c7837f0-f107-4abc-8ff4-86223dac5e08",
      "metadata": {
        "deletable": false,
        "editable": false,
        "id": "8c7837f0-f107-4abc-8ff4-86223dac5e08"
      },
      "source": [
        "### Exercício:\n",
        "Calcule a pontuação de precisão do treinamento e da validação para o `model_lr`."
      ]
    },
    {
      "cell_type": "code",
      "execution_count": null,
      "id": "4df9fcb4-c627-4eed-985d-db6cc7b55a42",
      "metadata": {
        "deletable": false,
        "id": "4df9fcb4-c627-4eed-985d-db6cc7b55a42"
      },
      "outputs": [],
      "source": [
        "lr_train_acc = ...\n",
        "lr_val_acc = ...\n",
        "\n",
        "print(\"Logistic Regression, Training Accuracy Score:\", lr_train_acc)\n",
        "print(\"Logistic Regression, Validation Accuracy Score:\", lr_val_acc)"
      ]
    },
    {
      "cell_type": "markdown",
      "id": "aeee54b5-3a37-4bd8-9dd6-d1dee9ed9bc6",
      "metadata": {
        "deletable": false,
        "editable": false,
        "id": "aeee54b5-3a37-4bd8-9dd6-d1dee9ed9bc6"
      },
      "source": [
        "### Exercício:\n",
        "Talvez um modelo de árvore de decisão apresente um desempenho melhor do que a regressão logística, mas qual é o melhor valor de hiperparâmetro para `max_depth`? Crie um laço `for` para treinar e avaliar o modelo `model_dt` em todas as profundidades de 1 a 15. Certifique-se de usar um codificador apropriado para seu modelo e registre suas pontuações de precisão de treinamento e validação em cada profundidade. O avaliador irá avaliar apenas suas pontuações de precisão de validação."
      ]
    },
    {
      "cell_type": "code",
      "execution_count": null,
      "id": "7b41bf29-973d-4270-acd4-495c7c9de283",
      "metadata": {
        "deletable": false,
        "id": "7b41bf29-973d-4270-acd4-495c7c9de283"
      },
      "outputs": [],
      "source": [
        "depth_hyperparams = range(1, 16)\n",
        "training_acc = []\n",
        "validation_acc = []\n",
        "for d in depth_hyperparams:\n",
        "    model_dt = ...\n",
        "    model_dt.fit(X_train, y_train)\n",
        ""
      ]
    },
    {
      "cell_type": "markdown",
      "id": "ccca1d0e-59fc-43cb-8dce-1cbb18c25d1d",
      "metadata": {
        "deletable": false,
        "editable": false,
        "id": "ccca1d0e-59fc-43cb-8dce-1cbb18c25d1d"
      },
      "source": [
        "### Exercício:\n",
        "Usando os valores em `training_acc` e `validation_acc`, plote a curva de validação para o `model_dt`. Rotule seu eixo x como `\"Max Depth\"` e seu eixo y como `\"Pontuação de Precisão\"`. Use o título `\"Curva de Validação, Modelo de Árvore de Decisão\"` e inclua uma legenda."
      ]
    },
    {
      "cell_type": "code",
      "source": [],
      "metadata": {
        "id": "3BmWrkOkgtoO"
      },
      "id": "3BmWrkOkgtoO",
      "execution_count": null,
      "outputs": []
    },
    {
      "cell_type": "markdown",
      "id": "cf5db086-c8b9-4be4-8e03-78aa67e8f5a6",
      "metadata": {
        "deletable": false,
        "editable": false,
        "id": "cf5db086-c8b9-4be4-8e03-78aa67e8f5a6"
      },
      "source": [
        "### Exercício:\n",
        "Construa e treine um novo modelo de árvore de decisão `final_model_dt`, usando o valor de `max_depth` que obteve a melhor pontuação de precisão de validação em seu gráfico acima."
      ]
    },
    {
      "cell_type": "code",
      "execution_count": null,
      "id": "3b05fdc0-547e-4fca-8111-82b90f3c223b",
      "metadata": {
        "deletable": false,
        "id": "3b05fdc0-547e-4fca-8111-82b90f3c223b"
      },
      "outputs": [],
      "source": [
        "final_model_dt = ...\n"
      ]
    },
    {
      "cell_type": "markdown",
      "id": "be7ec560-b79b-4fb1-9b86-350e26eed2f8",
      "metadata": {
        "deletable": false,
        "editable": false,
        "id": "be7ec560-b79b-4fb1-9b86-350e26eed2f8"
      },
      "source": [
        "## Avaliar"
      ]
    },
    {
      "cell_type": "markdown",
      "id": "73082001-4b01-4aac-9c04-1d4d339d0d32",
      "metadata": {
        "deletable": false,
        "editable": false,
        "id": "73082001-4b01-4aac-9c04-1d4d339d0d32"
      },
      "source": [
        "### Exercício:\n",
        "Como o seu modelo se desempenha no conjunto de teste? Primeiro, leia o arquivo CSV `\"data/kavrepalanchok-test-features.csv\"` no DataFrame `X_test`. Em seguida, use `final_model_dt` para gerar uma lista de previsões de teste `y_test_pred`. Por fim, envie suas previsões de teste para o avaliador para ver como seu modelo se desempenha.\n",
        "\n",
        "**Dica:** Certifique-se de que a ordem das colunas em `X_test` seja a mesma que em seu `X_train`. Caso contrário, isso pode prejudicar o desempenho do seu modelo."
      ]
    },
    {
      "cell_type": "code",
      "execution_count": null,
      "id": "8f3a24cf-7053-464a-a558-08eb34fe867a",
      "metadata": {
        "deletable": false,
        "id": "8f3a24cf-7053-464a-a558-08eb34fe867a"
      },
      "outputs": [],
      "source": [
        "X_test = pd.read_csv(\"data/kavrepalanchok-test-features.csv\", index_col=\"b_id\")\n",
        "y_test_pred = ...\n",
        "y_test_pred[:5]"
      ]
    },
    {
      "cell_type": "markdown",
      "id": "751232ec-054c-4773-a72f-7390481aefd8",
      "metadata": {
        "deletable": false,
        "editable": false,
        "id": "751232ec-054c-4773-a72f-7390481aefd8"
      },
      "source": [
        "# Comunicar Resultados"
      ]
    },
    {
      "cell_type": "markdown",
      "id": "6a4ce549-358e-4b20-9471-027c24e8b2fb",
      "metadata": {
        "deletable": false,
        "editable": false,
        "id": "6a4ce549-358e-4b20-9471-027c24e8b2fb"
      },
      "source": [
        "### Exercício:\n",
        "Quais são as características mais importantes para o `final_model_dt`? Crie uma Série Gini `feat_imp`, onde os rótulos do índice são os nomes das características do seu conjunto de dados e os valores são as importâncias das características para o seu modelo. Certifique-se de que a Série esteja ordenada da menor para a maior importância das características."
      ]
    },
    {
      "cell_type": "code",
      "execution_count": null,
      "id": "1edbfa3e-c51b-438e-a000-d99d135715d2",
      "metadata": {
        "deletable": false,
        "id": "1edbfa3e-c51b-438e-a000-d99d135715d2"
      },
      "outputs": [],
      "source": [
        "\n",
        "feat_imp = ...\n",
        "feat_imp.head()"
      ]
    },
    {
      "cell_type": "markdown",
      "id": "7be11cdd-a6dc-4fe2-bfea-2f8233640613",
      "metadata": {
        "deletable": false,
        "editable": false,
        "id": "7be11cdd-a6dc-4fe2-bfea-2f8233640613"
      },
      "source": [
        "### Exercício:\n",
        "Crie um gráfico de barras horizontal de `feat_imp`. Rotule seu eixo x como `\"Importância de Gini\"` e seu eixo y como `\"Característica\"`. Use o título `\"Árvore de Decisão Kavrepalanchok, Importância das Características\"`.\n",
        "\n",
        "Você vê alguma relação entre este gráfico e a análise exploratória de dados que você fez em relação ao tipo de telhado?"
      ]
    },
    {
      "cell_type": "code",
      "execution_count": null,
      "id": "43304b26-366c-4390-a581-bc049c9c6c86",
      "metadata": {
        "deletable": false,
        "id": "43304b26-366c-4390-a581-bc049c9c6c86"
      },
      "outputs": [],
      "source": [
        "# Create horizontal bar chart of feature importances\n",
        "\n"
      ]
    },
    {
      "cell_type": "markdown",
      "id": "8411d749-4338-4cc0-8bd3-6e3837a10435",
      "metadata": {
        "deletable": false,
        "editable": false,
        "id": "8411d749-4338-4cc0-8bd3-6e3837a10435"
      },
      "source": [
        "Parabéns! Você chegou ao final do Projeto 2. 👏👏👏"
      ]
    }
  ],
  "metadata": {
    "kernelspec": {
      "display_name": "Python 3 (ipykernel)",
      "language": "python",
      "name": "python3"
    },
    "language_info": {
      "codemirror_mode": {
        "name": "ipython",
        "version": 3
      },
      "file_extension": ".py",
      "mimetype": "text/x-python",
      "name": "python",
      "nbconvert_exporter": "python",
      "pygments_lexer": "ipython3",
      "version": "3.9.6"
    },
    "toc-autonumbering": false,
    "colab": {
      "provenance": []
    }
  },
  "nbformat": 4,
  "nbformat_minor": 5
}