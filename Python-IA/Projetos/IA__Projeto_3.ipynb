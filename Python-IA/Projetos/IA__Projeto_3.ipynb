{
  "cells": [
    {
      "cell_type": "markdown",
      "id": "361b7c4f-1fd2-4e6f-9e60-1d97f3e05afb",
      "metadata": {
        "deletable": false,
        "editable": false,
        "id": "361b7c4f-1fd2-4e6f-9e60-1d97f3e05afb"
      },
      "source": [
        "# Falência em Taiwan 🇹🇼"
      ]
    },
    {
      "cell_type": "code",
      "execution_count": null,
      "id": "bfb5048c-b025-4997-b391-16b806b43f8f",
      "metadata": {
        "deletable": false,
        "tags": [],
        "id": "bfb5048c-b025-4997-b391-16b806b43f8f"
      },
      "outputs": [],
      "source": [
        "# Import libraries here\n",
        "import gzip\n",
        "import json\n",
        "import pickle\n",
        "\n",
        "import ipywidgets as widgets\n",
        "import pandas as pd\n",
        "from imblearn.over_sampling import RandomOverSampler\n",
        "from ipywidgets import interact\n",
        "from sklearn.ensemble import GradientBoostingClassifier\n",
        "from sklearn.impute import SimpleImputer\n",
        "from sklearn.metrics import (\n",
        "    ConfusionMatrixDisplay,\n",
        "    classification_report,\n",
        "    confusion_matrix,\n",
        ")\n",
        "from sklearn.model_selection import GridSearchCV, train_test_split\n",
        "from sklearn.pipeline import make_pipeline\n",
        "from teaching_tools.widgets import ConfusionMatrixWidget"
      ]
    },
    {
      "cell_type": "markdown",
      "id": "341db403-0701-4165-b646-8d01cb154f8c",
      "metadata": {
        "deletable": false,
        "editable": false,
        "id": "341db403-0701-4165-b646-8d01cb154f8c"
      },
      "source": [
        "# Preparando Dados"
      ]
    },
    {
      "cell_type": "markdown",
      "id": "74522f26-cf58-47a8-9f3e-20bb9d0b4324",
      "metadata": {
        "deletable": false,
        "editable": false,
        "id": "74522f26-cf58-47a8-9f3e-20bb9d0b4324"
      },
      "source": [
        "## Importação"
      ]
    },
    {
      "cell_type": "markdown",
      "id": "ad2b932d-e036-4918-9eeb-2d6b2530a3a5",
      "metadata": {
        "deletable": false,
        "editable": false,
        "id": "ad2b932d-e036-4918-9eeb-2d6b2530a3a5"
      },
      "source": [
        "### Exercício:\n",
        "Carregue o conteúdo do arquivo `\"data/taiwan-bankruptcy-data.json.gz\"` e atribua-o à variável `taiwan_data`."
      ]
    },
    {
      "cell_type": "code",
      "execution_count": null,
      "id": "b692714a-3837-449c-a617-3173951341e8",
      "metadata": {
        "deletable": false,
        "tags": [],
        "id": "b692714a-3837-449c-a617-3173951341e8"
      },
      "outputs": [],
      "source": [
        "# Load data file\n"
      ]
    },
    {
      "cell_type": "markdown",
      "id": "233a292e-d47c-42e4-b5d9-7262d707b58b",
      "metadata": {
        "deletable": false,
        "editable": false,
        "id": "233a292e-d47c-42e4-b5d9-7262d707b58b"
      },
      "source": [
        "### Exercício:\n",
        "Extraia os nomes das chaves de <code>taiwan_data</code> e atribua-os à variável <code>taiwan_data_keys</code>.\n",
        "\n",
        "__Dica:__ Os dados nesta tarefa podem estar organizados de forma diferente dos dados do projeto, portanto, certifique-se de inspecioná-los primeiro."
      ]
    },
    {
      "cell_type": "code",
      "execution_count": null,
      "id": "3b5e0062-1286-40c3-8c04-8b89ecf3e2d1",
      "metadata": {
        "deletable": false,
        "tags": [],
        "id": "3b5e0062-1286-40c3-8c04-8b89ecf3e2d1"
      },
      "outputs": [],
      "source": []
    },
    {
      "cell_type": "markdown",
      "id": "51e4cebc-dc66-4946-ad06-8e1b2e5b8e8a",
      "metadata": {
        "deletable": false,
        "editable": false,
        "id": "51e4cebc-dc66-4946-ad06-8e1b2e5b8e8a"
      },
      "source": [
        "### Exercício:\n",
        "Calcule quantas empresas estão em `taiwan_data` e atribua o resultado à variável `n_companies`."
      ]
    },
    {
      "cell_type": "code",
      "execution_count": null,
      "id": "0ef61745-634f-490b-bdbd-261336c4c7d9",
      "metadata": {
        "deletable": false,
        "tags": [],
        "id": "0ef61745-634f-490b-bdbd-261336c4c7d9"
      },
      "outputs": [],
      "source": [
        "n_companies = len(taiwan_data[\"observations\"])\n",
        "print(n_companies)"
      ]
    },
    {
      "cell_type": "markdown",
      "id": "9ba47fc4-6b37-475d-9463-a7eb805ff8d6",
      "metadata": {
        "deletable": false,
        "editable": false,
        "id": "9ba47fc4-6b37-475d-9463-a7eb805ff8d6"
      },
      "source": [
        "### Exercício:\n",
        "Calcule o número de features associadas a cada empresa e atribua o resultado à variável `n_features`."
      ]
    },
    {
      "cell_type": "code",
      "execution_count": null,
      "id": "8b6d6d0e-1d03-41e4-852e-d3802317f345",
      "metadata": {
        "deletable": false,
        "tags": [],
        "id": "8b6d6d0e-1d03-41e4-852e-d3802317f345"
      },
      "outputs": [],
      "source": [
        "n_features = ...\n",
        "print(n_features)"
      ]
    },
    {
      "cell_type": "markdown",
      "id": "6df07bb9-5816-4532-a640-840e16023478",
      "metadata": {
        "deletable": false,
        "editable": false,
        "id": "6df07bb9-5816-4532-a640-840e16023478"
      },
      "source": [
        "### Exercício:\n",
        "Crie uma função `wrangle` que receba como entrada o caminho de um arquivo JSON compactado e retorne o conteúdo do arquivo como um DataFrame. Certifique-se de que o índice do DataFrame contenha o ID das empresas. Quando sua função estiver completa, use-a para carregar os dados no DataFrame `df`."
      ]
    },
    {
      "cell_type": "code",
      "execution_count": null,
      "id": "bec08e49-fa77-4b55-8c58-5c1dd090c07c",
      "metadata": {
        "deletable": false,
        "tags": [],
        "id": "bec08e49-fa77-4b55-8c58-5c1dd090c07c"
      },
      "outputs": [],
      "source": [
        "def wrangle():\n",
        "  pass"
      ]
    },
    {
      "cell_type": "code",
      "execution_count": null,
      "id": "dd06e4fb-25a2-4582-8051-99bc6f13e57e",
      "metadata": {
        "deletable": false,
        "tags": [],
        "id": "dd06e4fb-25a2-4582-8051-99bc6f13e57e"
      },
      "outputs": [],
      "source": [
        "df = ...\n",
        "print(\"df shape:\", df.shape)\n",
        "df.head()"
      ]
    },
    {
      "cell_type": "markdown",
      "id": "21dff117-59fd-4b60-958e-4f9e91d5db6e",
      "metadata": {
        "deletable": false,
        "editable": false,
        "id": "21dff117-59fd-4b60-958e-4f9e91d5db6e"
      },
      "source": [
        "## Explorar"
      ]
    },
    {
      "cell_type": "markdown",
      "id": "02d5c558-b7d7-43ff-b646-f4e14db22a06",
      "metadata": {
        "deletable": false,
        "editable": false,
        "id": "02d5c558-b7d7-43ff-b646-f4e14db22a06"
      },
      "source": [
        "### Exercício:\n",
        "Existe algum dado ausente no conjunto de dados? Crie uma Series onde o índice contenha o nome das colunas em `df` e os valores sejam o número de valores <code>NaN</code> em cada coluna. Atribua o resultado à variável <code>nans_by_col</code>. Nem a própria Series nem seu índice precisam de um nome."
      ]
    },
    {
      "cell_type": "code",
      "execution_count": null,
      "id": "3177f6b9-80ca-4837-b236-0c9d6d1cf589",
      "metadata": {
        "deletable": false,
        "tags": [],
        "id": "3177f6b9-80ca-4837-b236-0c9d6d1cf589"
      },
      "outputs": [],
      "source": [
        "nans_by_col = ...\n",
        "print(\"nans_by_col shape:\", nans_by_col.shape)\n",
        "nans_by_col.head()"
      ]
    },
    {
      "cell_type": "markdown",
      "id": "9cb1aa5a-9ea0-4e99-8bba-ba843ca987f5",
      "metadata": {
        "deletable": false,
        "editable": false,
        "id": "9cb1aa5a-9ea0-4e99-8bba-ba843ca987f5"
      },
      "source": [
        "### Exercício:\n",
        "Os dados estão desbalanceados? Crie um gráfico de barras que mostre a contagem de valores normalizados para a coluna `df[\"bankrupt\"]`. Certifique-se de rotular o eixo x como `\"Bankrupt\"`, o eixo y como `\"Frequency\"`, e usar o título `\"Class Balance\"`."
      ]
    },
    {
      "cell_type": "code",
      "execution_count": null,
      "id": "6a2a5fe0-a1cd-48a5-84ee-525e7fc4cc44",
      "metadata": {
        "deletable": false,
        "id": "6a2a5fe0-a1cd-48a5-84ee-525e7fc4cc44"
      },
      "outputs": [],
      "source": []
    },
    {
      "cell_type": "markdown",
      "id": "47242176-15c2-4e50-981a-4a2791e6ea5f",
      "metadata": {
        "deletable": false,
        "editable": false,
        "id": "47242176-15c2-4e50-981a-4a2791e6ea5f"
      },
      "source": [
        "## Divisão:"
      ]
    },
    {
      "cell_type": "markdown",
      "id": "e941ed58-7723-4def-8b0d-24b8b3447c9b",
      "metadata": {
        "deletable": false,
        "editable": false,
        "id": "e941ed58-7723-4def-8b0d-24b8b3447c9b"
      },
      "source": [
        "### Exercício:\n",
        "Crie sua matriz de features `X` e o vetor alvo `y`. Seu alvo é `\"bankrupt\"`."
      ]
    },
    {
      "cell_type": "code",
      "execution_count": null,
      "id": "feeb0205-bdd2-493a-aaa9-a5fe4fa030a7",
      "metadata": {
        "deletable": false,
        "id": "feeb0205-bdd2-493a-aaa9-a5fe4fa030a7"
      },
      "outputs": [],
      "source": [
        "target = ...\n",
        "X = ...\n",
        "y = ...\n",
        "print(\"X shape:\", X.shape)\n",
        "print(\"y shape:\", y.shape)"
      ]
    },
    {
      "cell_type": "markdown",
      "id": "b0e5791a-ed64-485e-85cc-998340b3c162",
      "metadata": {
        "deletable": false,
        "editable": false,
        "id": "b0e5791a-ed64-485e-85cc-998340b3c162"
      },
      "source": [
        "### Exercício:\n",
        "Divida seu conjunto de dados em conjuntos de treinamento e teste usando uma divisão aleatória. Seu conjunto de teste deve ser 20% dos seus dados. Certifique-se de definir `random_state` como `42`."
      ]
    },
    {
      "cell_type": "code",
      "execution_count": null,
      "id": "31d44df7-8211-4066-a399-6c31c1b0864c",
      "metadata": {
        "deletable": false,
        "id": "31d44df7-8211-4066-a399-6c31c1b0864c"
      },
      "outputs": [],
      "source": [
        "X_train, X_test, y_train, y_test = ...\n",
        "print(\"X_train shape:\", X_train.shape)\n",
        "print(\"y_train shape:\", y_train.shape)\n",
        "print(\"X_test shape:\", X_test.shape)\n",
        "print(\"y_test shape:\", y_test.shape)"
      ]
    },
    {
      "cell_type": "markdown",
      "id": "3b51378d-7f0a-4109-861c-1cbbbcbff707",
      "metadata": {
        "deletable": false,
        "editable": false,
        "id": "3b51378d-7f0a-4109-861c-1cbbbcbff707"
      },
      "source": [
        "## Resample"
      ]
    },
    {
      "cell_type": "markdown",
      "id": "b4ba1574-15ea-49e8-abe0-13adde0d1513",
      "metadata": {
        "deletable": false,
        "editable": false,
        "id": "b4ba1574-15ea-49e8-abe0-13adde0d1513"
      },
      "source": [
        "### Exercício:\n",
        "Crie uma nova matriz de features `X_train_over` e um vetor alvo `y_train_over` realizando a sobre-amostragem aleatória nos dados de treinamento. Certifique-se de definir `random_state` como `42`."
      ]
    },
    {
      "cell_type": "code",
      "execution_count": null,
      "id": "40d10781-032f-4b17-9f3b-e4919dbb3af5",
      "metadata": {
        "deletable": false,
        "id": "40d10781-032f-4b17-9f3b-e4919dbb3af5"
      },
      "outputs": [],
      "source": [
        "over_sampler = ...\n",
        "X_train_over, y_train_over = ...\n",
        "print(\"X_train_over shape:\", X_train_over.shape)\n",
        "X_train_over.head()"
      ]
    },
    {
      "cell_type": "markdown",
      "id": "56432e44-2454-4811-828b-61887df09346",
      "metadata": {
        "deletable": false,
        "editable": false,
        "id": "56432e44-2454-4811-828b-61887df09346"
      },
      "source": [
        "# Construindo Model"
      ]
    },
    {
      "cell_type": "markdown",
      "id": "3783e564-560e-432f-b49e-f2e585a865f8",
      "metadata": {
        "deletable": false,
        "editable": false,
        "id": "3783e564-560e-432f-b49e-f2e585a865f8"
      },
      "source": [
        "## Iterar"
      ]
    },
    {
      "cell_type": "markdown",
      "id": "ef7c2d9d-08b1-4668-bf2e-e4910293dbe0",
      "metadata": {
        "deletable": false,
        "editable": false,
        "id": "ef7c2d9d-08b1-4668-bf2e-e4910293dbe0"
      },
      "source": [
        "### Exercício:\n",
        "Crie um classificador <code>clf</code> que possa ser treinado em `(X_train_over, y_train_over)`. Você pode usar qualquer um dos novos preditores em conjunto que aprendeu neste projeto."
      ]
    },
    {
      "cell_type": "code",
      "execution_count": null,
      "id": "b37aca3d-8a72-440e-a99c-e069f9850bd2",
      "metadata": {
        "deletable": false,
        "id": "b37aca3d-8a72-440e-a99c-e069f9850bd2"
      },
      "outputs": [],
      "source": [
        "clf = ..."
      ]
    },
    {
      "cell_type": "markdown",
      "id": "ff7a967c-756f-4c2d-998e-90b67e9918ac",
      "metadata": {
        "deletable": false,
        "editable": false,
        "id": "ff7a967c-756f-4c2d-998e-90b67e9918ac"
      },
      "source": [
        "### Exercício:\n",
        "Realize a validação cruzada com seu classificador usando os dados de treinamento sobre-amostrados e atribua seus resultados à variável <code>cv_scores</code>. Certifique-se de definir o argumento <code>cv</code> como 5."
      ]
    },
    {
      "cell_type": "markdown",
      "id": "e5ee8f58-aac7-40d8-a2e2-20f3db4898bd",
      "metadata": {
        "deletable": false,
        "editable": false,
        "id": "e5ee8f58-aac7-40d8-a2e2-20f3db4898bd"
      },
      "source": [
        "__Dica:__ Use suas pontuações de validação cruzada para avaliar diferentes classificadores. Escolha o que lhe der os melhores resultados."
      ]
    },
    {
      "cell_type": "code",
      "execution_count": null,
      "id": "b4e861a8-c2ea-49b2-b789-0b3dbe586384",
      "metadata": {
        "deletable": false,
        "id": "b4e861a8-c2ea-49b2-b789-0b3dbe586384"
      },
      "outputs": [],
      "source": [
        "cv_scores = ...\n",
        "print(cv_scores)"
      ]
    },
    {
      "cell_type": "markdown",
      "id": "bfd434c3-e5af-47f5-b169-8a78a4c9483d",
      "metadata": {
        "deletable": false,
        "editable": false,
        "id": "bfd434c3-e5af-47f5-b169-8a78a4c9483d"
      },
      "source": [
        "### Exercício:\n",
        "Crie um dicionário <code>params</code> com a faixa de hiperparâmetros que você deseja avaliar para seu classificador. Se você não tiver certeza de quais hiperparâmetros ajustar, consulte a documentação do scikit-learn para seu preditor em busca de ideias."
      ]
    },
    {
      "cell_type": "markdown",
      "id": "f676fdcf-76c2-4e3b-b619-11fbca6f247e",
      "metadata": {
        "deletable": false,
        "editable": false,
        "id": "f676fdcf-76c2-4e3b-b619-11fbca6f247e"
      },
      "source": [
        "__Dica:__ Se o classificador que você construiu for apenas um preditor (não um pipeline com várias etapas), você não precisa incluir o nome da etapa nas chaves do seu dicionário <code>params</code>.\n",
        "\n",
        "Por exemplo, se seu classificador for apenas uma floresta aleatória (não um pipeline contendo uma floresta aleatória), você acessaria o número de estimadores usando <code>\"n_estimators\"</code>, e não <code>\"randomforestclassifier__n_estimators\"</code>."
      ]
    },
    {
      "cell_type": "code",
      "execution_count": null,
      "id": "dd75b82b-6b93-49f0-a329-175d75c56cfb",
      "metadata": {
        "deletable": false,
        "id": "dd75b82b-6b93-49f0-a329-175d75c56cfb"
      },
      "outputs": [],
      "source": [
        "params = ..."
      ]
    },
    {
      "cell_type": "markdown",
      "id": "fc280d9a-3cd4-4ddb-9c93-01f9b84c748b",
      "metadata": {
        "deletable": false,
        "editable": false,
        "id": "fc280d9a-3cd4-4ddb-9c93-01f9b84c748b"
      },
      "source": [
        "### Exercício:\n",
        "Crie um <code>GridSearchCV</code> chamado `model` que inclua seu classificador e a grade de hiperparâmetros. Certifique-se de definir `cv` como 5, `n_jobs` como -1 e `verbose` como 1."
      ]
    },
    {
      "cell_type": "code",
      "execution_count": null,
      "id": "28c7e9a9-0f16-418f-b299-f888df1d7f41",
      "metadata": {
        "deletable": false,
        "id": "28c7e9a9-0f16-418f-b299-f888df1d7f41"
      },
      "outputs": [],
      "source": [
        "model = ..."
      ]
    },
    {
      "cell_type": "markdown",
      "id": "10252f2b-c9cc-4e25-960e-e88e5a13aaa7",
      "metadata": {
        "deletable": false,
        "editable": false,
        "id": "10252f2b-c9cc-4e25-960e-e88e5a13aaa7"
      },
      "source": [
        "### Exercício  \n",
        "Ajuste seu modelo aos dados de treinamento **sobre-amostrados.**"
      ]
    },
    {
      "cell_type": "code",
      "execution_count": null,
      "id": "ede4b08f-12b6-4f02-91ec-43917193adf3",
      "metadata": {
        "deletable": false,
        "id": "ede4b08f-12b6-4f02-91ec-43917193adf3"
      },
      "outputs": [],
      "source": [
        "model.fit()"
      ]
    },
    {
      "cell_type": "markdown",
      "id": "053c6eea-f08a-4699-8502-3099f2ba6422",
      "metadata": {
        "deletable": false,
        "editable": false,
        "id": "053c6eea-f08a-4699-8502-3099f2ba6422"
      },
      "source": [
        "### Exercício:\n",
        "Extraia os resultados da validação cruzada do seu modelo e carregue-os em um DataFrame chamado <code>cv_results</code>. Observando os resultados, qual conjunto de hiperparâmetros levou ao melhor desempenho?"
      ]
    },
    {
      "cell_type": "code",
      "execution_count": null,
      "id": "47e2ba81-a16c-4563-bb45-885eba3dc953",
      "metadata": {
        "deletable": false,
        "id": "47e2ba81-a16c-4563-bb45-885eba3dc953"
      },
      "outputs": [],
      "source": [
        "cv_results = ...\n",
        "cv_results.head(5)"
      ]
    },
    {
      "cell_type": "markdown",
      "id": "3664fb33-2b5d-426d-af7f-0daa582575cc",
      "metadata": {
        "deletable": false,
        "editable": false,
        "id": "3664fb33-2b5d-426d-af7f-0daa582575cc"
      },
      "source": [
        "### Exercício:\n",
        "Extraia os melhores hiperparâmetros do seu modelo e atribua-os à variável <code>best_params</code>."
      ]
    },
    {
      "cell_type": "code",
      "execution_count": null,
      "id": "5bca6dd7-0711-4a4c-8c10-848bbdbba92c",
      "metadata": {
        "deletable": false,
        "id": "5bca6dd7-0711-4a4c-8c10-848bbdbba92c"
      },
      "outputs": [],
      "source": [
        "best_params = ...\n",
        "print(best_params)"
      ]
    },
    {
      "cell_type": "markdown",
      "id": "6dbab4ae-2376-4a5a-b92e-ccd4bd39ec88",
      "metadata": {
        "deletable": false,
        "editable": false,
        "id": "6dbab4ae-2376-4a5a-b92e-ccd4bd39ec88"
      },
      "source": [
        "## Avaliar"
      ]
    },
    {
      "cell_type": "markdown",
      "id": "546758ef-9a65-4275-bdf8-0bd3e43c0b30",
      "metadata": {
        "deletable": false,
        "editable": false,
        "id": "546758ef-9a65-4275-bdf8-0bd3e43c0b30"
      },
      "source": [
        "### Exercício:\n",
        "Teste a qualidade do seu modelo calculando as pontuações de precisão para os dados de treinamento e teste."
      ]
    },
    {
      "cell_type": "code",
      "execution_count": null,
      "id": "428e0694-ede2-40ff-aa6f-9cb8665ce024",
      "metadata": {
        "deletable": false,
        "id": "428e0694-ede2-40ff-aa6f-9cb8665ce024"
      },
      "outputs": [],
      "source": [
        "acc_train = ...\n",
        "acc_test = ...\n",
        "\n",
        "print(\"Model Training Accuracy:\", round(acc_train, 4))\n",
        "print(\"Model Test Accuracy:\", round(acc_test, 4))"
      ]
    },
    {
      "cell_type": "markdown",
      "id": "00e35b54-acc0-47ea-b053-75212c0b631c",
      "metadata": {
        "deletable": false,
        "editable": false,
        "id": "00e35b54-acc0-47ea-b053-75212c0b631c"
      },
      "source": [
        "### Exercício:\n",
        "Plote uma matriz de confusão que mostre como seu modelo se desempenhou em seu conjunto de teste."
      ]
    },
    {
      "cell_type": "code",
      "execution_count": null,
      "id": "4d6875a6-62b7-4198-b8a2-5871dd7dd156",
      "metadata": {
        "deletable": false,
        "id": "4d6875a6-62b7-4198-b8a2-5871dd7dd156"
      },
      "outputs": [],
      "source": []
    },
    {
      "cell_type": "markdown",
      "id": "5d31978d-b6d8-4397-a884-0ab6d9dc5ddb",
      "metadata": {
        "deletable": false,
        "editable": false,
        "id": "5d31978d-b6d8-4397-a884-0ab6d9dc5ddb"
      },
      "source": [
        "### Exercício:\n",
        "Gere um relatório de classificação para o desempenho do seu modelo nos dados de teste e atribua-o à variável `class_report`."
      ]
    },
    {
      "cell_type": "code",
      "execution_count": null,
      "id": "0b04df35-1326-482b-b86c-489f3eeb992f",
      "metadata": {
        "deletable": false,
        "id": "0b04df35-1326-482b-b86c-489f3eeb992f"
      },
      "outputs": [],
      "source": [
        "class_report = classification_report(y_test, model.predict(X_test))\n",
        "print(class_report)"
      ]
    },
    {
      "cell_type": "markdown",
      "id": "64153890-7c5d-4b8d-9265-08444c4c3068",
      "metadata": {
        "deletable": false,
        "editable": false,
        "id": "64153890-7c5d-4b8d-9265-08444c4c3068"
      },
      "source": [
        "# Comunicar Resultados"
      ]
    },
    {
      "cell_type": "markdown",
      "id": "bd293667-cf33-4645-9a6d-6102fed6a8b8",
      "metadata": {
        "deletable": false,
        "editable": false,
        "id": "bd293667-cf33-4645-9a6d-6102fed6a8b8"
      },
      "source": [
        "### Exercício:\n",
        "Crie um gráfico de barras horizontal com as 10 características mais importantes para o seu modelo. Certifique-se de rotular o eixo x como `\"Gini Importance\"`, o eixo y como `\"Feature\"` e usar o título `\"Feature Importance\"`."
      ]
    },
    {
      "cell_type": "code",
      "execution_count": null,
      "id": "682d409c-30bd-43b2-8fa9-942b241b26f0",
      "metadata": {
        "deletable": false,
        "id": "682d409c-30bd-43b2-8fa9-942b241b26f0"
      },
      "outputs": [],
      "source": []
    },
    {
      "cell_type": "markdown",
      "id": "1edec385-98f2-4d33-95a6-72ee4378038c",
      "metadata": {
        "deletable": false,
        "editable": false,
        "id": "1edec385-98f2-4d33-95a6-72ee4378038c"
      },
      "source": [
        "### Exercício:\n",
        "Salve seu modelo de melhor desempenho em um arquivo nomeado <code>\"model-5-5.pkl\"</code>."
      ]
    },
    {
      "cell_type": "code",
      "execution_count": null,
      "id": "418d11d0-1f01-4f41-b248-7f9f6fd0bf55",
      "metadata": {
        "deletable": false,
        "id": "418d11d0-1f01-4f41-b248-7f9f6fd0bf55"
      },
      "outputs": [],
      "source": [
        "# Save model\n"
      ]
    },
    {
      "cell_type": "markdown",
      "id": "93cae90c-fdfd-4295-8bca-0a670185e86a",
      "metadata": {
        "deletable": false,
        "editable": false,
        "id": "93cae90c-fdfd-4295-8bca-0a670185e86a"
      },
      "source": [
        "### Exercício:\n",
        "Abra o arquivo <code>my_predictor_assignment.py</code>. Adicione sua função `wrangle` e, em seguida, crie uma função `make_predictions` que recebe dois argumentos: `data_filepath` e <code>model_filepath</code>. Use a célula abaixo para testar seu módulo. Quando estiver satisfeito com o resultado, envie-o para o avaliador."
      ]
    },
    {
      "cell_type": "code",
      "execution_count": null,
      "id": "8708d162-ebf0-4f11-92f1-05f65088f576",
      "metadata": {
        "deletable": false,
        "id": "8708d162-ebf0-4f11-92f1-05f65088f576"
      },
      "outputs": [],
      "source": [
        "# Import your module\n",
        "\n",
        "\n",
        "# Generate predictions\n",
        "y_test_pred = make_predictions(\n",
        "    data_filepath=\"data/taiwan-bankruptcy-data-test-features.json.gz\",\n",
        "    model_filepath=\"model-5-5.pkl\",\n",
        ")\n",
        "\n",
        "print(\"predictions shape:\", y_test_pred.shape)\n",
        "y_test_pred.head()"
      ]
    },
    {
      "cell_type": "markdown",
      "id": "e96df798-3221-44d6-876a-3488c1772300",
      "metadata": {
        "deletable": false,
        "editable": false,
        "id": "e96df798-3221-44d6-876a-3488c1772300"
      },
      "source": [
        "<div class=\"alert alert-info\" role=\"alert\">\n",
        "    <b>Dica:</b> Se você receber um <code style=\"color:#E45E5C;background-color:#FEDDDE\">ImportError</code> ao tentar importar <code>make_predictions</code> de <code>my_predictor_assignment</code>, tente reiniciar seu kernel. Vá ao menu <b>Kernel</b> e clique em <b>Reiniciar Kernel e Limpar Todas as Saídas</b>. Em seguida, execute apenas a célula acima. ☝️\n",
        "</div>"
      ]
    }
  ],
  "metadata": {
    "kernelspec": {
      "display_name": "Python 3 (ipykernel)",
      "language": "python",
      "name": "python3"
    },
    "language_info": {
      "codemirror_mode": {
        "name": "ipython",
        "version": 3
      },
      "file_extension": ".py",
      "mimetype": "text/x-python",
      "name": "python",
      "nbconvert_exporter": "python",
      "pygments_lexer": "ipython3",
      "version": "3.11.4"
    },
    "toc-autonumbering": false,
    "colab": {
      "provenance": []
    }
  },
  "nbformat": 4,
  "nbformat_minor": 5
}