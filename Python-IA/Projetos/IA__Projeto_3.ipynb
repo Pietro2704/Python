{
  "cells": [
    {
      "cell_type": "markdown",
      "id": "361b7c4f-1fd2-4e6f-9e60-1d97f3e05afb",
      "metadata": {
        "deletable": false,
        "editable": false,
        "id": "361b7c4f-1fd2-4e6f-9e60-1d97f3e05afb"
      },
      "source": [
        "# Falência em Taiwan 🇹🇼"
      ]
    },
    {
      "cell_type": "code",
      "execution_count": 22,
      "id": "bfb5048c-b025-4997-b391-16b806b43f8f",
      "metadata": {
        "deletable": false,
        "tags": [],
        "id": "bfb5048c-b025-4997-b391-16b806b43f8f"
      },
      "outputs": [],
      "source": [
        "# Import libraries here\n",
        "import gzip\n",
        "import json\n",
        "import pickle\n",
        "import matplotlib.pyplot as plt\n",
        "import ipywidgets as widgets\n",
        "import pandas as pd\n",
        "from imblearn.over_sampling import RandomOverSampler\n",
        "from ipywidgets import interact\n",
        "from sklearn.ensemble import RandomForestClassifier\n",
        "from sklearn.impute import SimpleImputer\n",
        "from sklearn.metrics import (\n",
        "    ConfusionMatrixDisplay,\n",
        "    classification_report,\n",
        "    confusion_matrix,\n",
        ")\n",
        "from sklearn.model_selection import GridSearchCV, train_test_split, cross_val_score\n",
        "from sklearn.pipeline import make_pipeline"
      ]
    },
    {
      "cell_type": "markdown",
      "id": "341db403-0701-4165-b646-8d01cb154f8c",
      "metadata": {
        "deletable": false,
        "editable": false,
        "id": "341db403-0701-4165-b646-8d01cb154f8c"
      },
      "source": [
        "# Preparando Dados"
      ]
    },
    {
      "cell_type": "markdown",
      "id": "74522f26-cf58-47a8-9f3e-20bb9d0b4324",
      "metadata": {
        "deletable": false,
        "editable": false,
        "id": "74522f26-cf58-47a8-9f3e-20bb9d0b4324"
      },
      "source": [
        "## Importação"
      ]
    },
    {
      "cell_type": "markdown",
      "id": "ad2b932d-e036-4918-9eeb-2d6b2530a3a5",
      "metadata": {
        "deletable": false,
        "editable": false,
        "id": "ad2b932d-e036-4918-9eeb-2d6b2530a3a5"
      },
      "source": [
        "### Exercício:\n",
        "Carregue o conteúdo do arquivo `\"data/taiwan-bankruptcy-data.json.gz\"` e atribua-o à variável `taiwan_data`."
      ]
    },
    {
      "cell_type": "code",
      "execution_count": 3,
      "id": "b692714a-3837-449c-a617-3173951341e8",
      "metadata": {
        "deletable": false,
        "tags": [],
        "id": "b692714a-3837-449c-a617-3173951341e8",
        "colab": {
          "base_uri": "https://localhost:8080/"
        },
        "outputId": "41e99a9c-7d02-4376-93cf-6deeb5877431"
      },
      "outputs": [
        {
          "output_type": "stream",
          "name": "stdout",
          "text": [
            "<class 'dict'>\n"
          ]
        }
      ],
      "source": [
        "# Load data file\n",
        "with gzip.open('/content/taiwan-bankruptcy-data.json.gz','r') as arq:\n",
        "  taiwan_data = json.load(arq)\n",
        "\n",
        "print(type(taiwan_data))"
      ]
    },
    {
      "cell_type": "markdown",
      "id": "233a292e-d47c-42e4-b5d9-7262d707b58b",
      "metadata": {
        "deletable": false,
        "editable": false,
        "id": "233a292e-d47c-42e4-b5d9-7262d707b58b"
      },
      "source": [
        "### Exercício:\n",
        "Extraia os nomes das chaves de <code>taiwan_data</code> e atribua-os à variável <code>taiwan_data_keys</code>.\n",
        "\n",
        "__Dica:__ Os dados nesta tarefa podem estar organizados de forma diferente dos dados do projeto, portanto, certifique-se de inspecioná-los primeiro."
      ]
    },
    {
      "cell_type": "code",
      "execution_count": 4,
      "id": "3b5e0062-1286-40c3-8c04-8b89ecf3e2d1",
      "metadata": {
        "deletable": false,
        "tags": [],
        "id": "3b5e0062-1286-40c3-8c04-8b89ecf3e2d1",
        "colab": {
          "base_uri": "https://localhost:8080/"
        },
        "outputId": "1316c8b4-f5db-4fbc-cefb-05cccb2b7ce4"
      },
      "outputs": [
        {
          "output_type": "execute_result",
          "data": {
            "text/plain": [
              "dict_keys(['schema', 'metadata', 'observations'])"
            ]
          },
          "metadata": {},
          "execution_count": 4
        }
      ],
      "source": [
        "taiwan_data_keys = taiwan_data.keys()\n",
        "taiwan_data_keys"
      ]
    },
    {
      "cell_type": "markdown",
      "id": "51e4cebc-dc66-4946-ad06-8e1b2e5b8e8a",
      "metadata": {
        "deletable": false,
        "editable": false,
        "id": "51e4cebc-dc66-4946-ad06-8e1b2e5b8e8a"
      },
      "source": [
        "### Exercício:\n",
        "Calcule quantas empresas estão em `taiwan_data` e atribua o resultado à variável `n_companies`."
      ]
    },
    {
      "cell_type": "code",
      "execution_count": 5,
      "id": "0ef61745-634f-490b-bdbd-261336c4c7d9",
      "metadata": {
        "deletable": false,
        "tags": [],
        "id": "0ef61745-634f-490b-bdbd-261336c4c7d9",
        "colab": {
          "base_uri": "https://localhost:8080/"
        },
        "outputId": "7bd47f65-b0a6-4caf-8bff-986e8621330d"
      },
      "outputs": [
        {
          "output_type": "stream",
          "name": "stdout",
          "text": [
            "6137\n"
          ]
        }
      ],
      "source": [
        "n_companies = len(taiwan_data[\"observations\"])\n",
        "print(n_companies)"
      ]
    },
    {
      "cell_type": "markdown",
      "id": "9ba47fc4-6b37-475d-9463-a7eb805ff8d6",
      "metadata": {
        "deletable": false,
        "editable": false,
        "id": "9ba47fc4-6b37-475d-9463-a7eb805ff8d6"
      },
      "source": [
        "### Exercício:\n",
        "Calcule o número de features associadas a cada empresa e atribua o resultado à variável `n_features`."
      ]
    },
    {
      "cell_type": "code",
      "execution_count": 6,
      "id": "8b6d6d0e-1d03-41e4-852e-d3802317f345",
      "metadata": {
        "deletable": false,
        "tags": [],
        "id": "8b6d6d0e-1d03-41e4-852e-d3802317f345",
        "colab": {
          "base_uri": "https://localhost:8080/"
        },
        "outputId": "143f8057-0963-4994-f657-cebe91e46866"
      },
      "outputs": [
        {
          "output_type": "stream",
          "name": "stdout",
          "text": [
            "97\n"
          ]
        }
      ],
      "source": [
        "n_features = len(taiwan_data[\"observations\"][0])\n",
        "print(n_features)"
      ]
    },
    {
      "cell_type": "markdown",
      "id": "6df07bb9-5816-4532-a640-840e16023478",
      "metadata": {
        "deletable": false,
        "editable": false,
        "id": "6df07bb9-5816-4532-a640-840e16023478"
      },
      "source": [
        "### Exercício:\n",
        "Crie uma função `wrangle` que receba como entrada o caminho de um arquivo JSON compactado e retorne o conteúdo do arquivo como um DataFrame. Certifique-se de que o índice do DataFrame contenha o ID das empresas. Quando sua função estiver completa, use-a para carregar os dados no DataFrame `df`."
      ]
    },
    {
      "cell_type": "code",
      "execution_count": 7,
      "id": "bec08e49-fa77-4b55-8c58-5c1dd090c07c",
      "metadata": {
        "deletable": false,
        "tags": [],
        "id": "bec08e49-fa77-4b55-8c58-5c1dd090c07c"
      },
      "outputs": [],
      "source": [
        "def wrangle(filepath):\n",
        "  with gzip.open(filepath,'r') as arq:\n",
        "    data = json.load(arq)\n",
        "\n",
        "  df = pd.DataFrame().from_dict(data['observations']).set_index('id')\n",
        "  return df"
      ]
    },
    {
      "cell_type": "code",
      "execution_count": 9,
      "id": "dd06e4fb-25a2-4582-8051-99bc6f13e57e",
      "metadata": {
        "deletable": false,
        "tags": [],
        "id": "dd06e4fb-25a2-4582-8051-99bc6f13e57e",
        "colab": {
          "base_uri": "https://localhost:8080/"
        },
        "outputId": "32e1f2c3-3d60-44e9-b8ed-985aaa5c8c28"
      },
      "outputs": [
        {
          "output_type": "stream",
          "name": "stdout",
          "text": [
            "df shape: (6137, 96)\n",
            "<class 'pandas.core.frame.DataFrame'>\n",
            "Index: 6137 entries, 1 to 6819\n",
            "Data columns (total 96 columns):\n",
            " #   Column    Non-Null Count  Dtype  \n",
            "---  ------    --------------  -----  \n",
            " 0   bankrupt  6137 non-null   bool   \n",
            " 1   feat_1    6137 non-null   float64\n",
            " 2   feat_2    6137 non-null   float64\n",
            " 3   feat_3    6137 non-null   float64\n",
            " 4   feat_4    6137 non-null   float64\n",
            " 5   feat_5    6137 non-null   float64\n",
            " 6   feat_6    6137 non-null   float64\n",
            " 7   feat_7    6137 non-null   float64\n",
            " 8   feat_8    6137 non-null   float64\n",
            " 9   feat_9    6137 non-null   float64\n",
            " 10  feat_10   6137 non-null   float64\n",
            " 11  feat_11   6137 non-null   float64\n",
            " 12  feat_12   6137 non-null   float64\n",
            " 13  feat_13   6137 non-null   float64\n",
            " 14  feat_14   6137 non-null   float64\n",
            " 15  feat_15   6137 non-null   float64\n",
            " 16  feat_16   6137 non-null   float64\n",
            " 17  feat_17   6137 non-null   float64\n",
            " 18  feat_18   6137 non-null   float64\n",
            " 19  feat_19   6137 non-null   float64\n",
            " 20  feat_20   6137 non-null   float64\n",
            " 21  feat_21   6137 non-null   float64\n",
            " 22  feat_22   6137 non-null   float64\n",
            " 23  feat_23   6137 non-null   float64\n",
            " 24  feat_24   6137 non-null   float64\n",
            " 25  feat_25   6137 non-null   float64\n",
            " 26  feat_26   6137 non-null   float64\n",
            " 27  feat_27   6137 non-null   float64\n",
            " 28  feat_28   6137 non-null   float64\n",
            " 29  feat_29   6137 non-null   float64\n",
            " 30  feat_30   6137 non-null   float64\n",
            " 31  feat_31   6137 non-null   float64\n",
            " 32  feat_32   6137 non-null   float64\n",
            " 33  feat_33   6137 non-null   float64\n",
            " 34  feat_34   6137 non-null   float64\n",
            " 35  feat_35   6137 non-null   float64\n",
            " 36  feat_36   6137 non-null   float64\n",
            " 37  feat_37   6137 non-null   float64\n",
            " 38  feat_38   6137 non-null   float64\n",
            " 39  feat_39   6137 non-null   float64\n",
            " 40  feat_40   6137 non-null   float64\n",
            " 41  feat_41   6137 non-null   float64\n",
            " 42  feat_42   6137 non-null   float64\n",
            " 43  feat_43   6137 non-null   float64\n",
            " 44  feat_44   6137 non-null   float64\n",
            " 45  feat_45   6137 non-null   float64\n",
            " 46  feat_46   6137 non-null   float64\n",
            " 47  feat_47   6137 non-null   float64\n",
            " 48  feat_48   6137 non-null   float64\n",
            " 49  feat_49   6137 non-null   float64\n",
            " 50  feat_50   6137 non-null   float64\n",
            " 51  feat_51   6137 non-null   float64\n",
            " 52  feat_52   6137 non-null   float64\n",
            " 53  feat_53   6137 non-null   float64\n",
            " 54  feat_54   6137 non-null   float64\n",
            " 55  feat_55   6137 non-null   float64\n",
            " 56  feat_56   6137 non-null   float64\n",
            " 57  feat_57   6137 non-null   float64\n",
            " 58  feat_58   6137 non-null   float64\n",
            " 59  feat_59   6137 non-null   float64\n",
            " 60  feat_60   6137 non-null   float64\n",
            " 61  feat_61   6137 non-null   float64\n",
            " 62  feat_62   6137 non-null   float64\n",
            " 63  feat_63   6137 non-null   float64\n",
            " 64  feat_64   6137 non-null   float64\n",
            " 65  feat_65   6137 non-null   float64\n",
            " 66  feat_66   6137 non-null   float64\n",
            " 67  feat_67   6137 non-null   float64\n",
            " 68  feat_68   6137 non-null   float64\n",
            " 69  feat_69   6137 non-null   float64\n",
            " 70  feat_70   6137 non-null   float64\n",
            " 71  feat_71   6137 non-null   float64\n",
            " 72  feat_72   6137 non-null   float64\n",
            " 73  feat_73   6137 non-null   float64\n",
            " 74  feat_74   6137 non-null   float64\n",
            " 75  feat_75   6137 non-null   float64\n",
            " 76  feat_76   6137 non-null   float64\n",
            " 77  feat_77   6137 non-null   float64\n",
            " 78  feat_78   6137 non-null   float64\n",
            " 79  feat_79   6137 non-null   float64\n",
            " 80  feat_80   6137 non-null   float64\n",
            " 81  feat_81   6137 non-null   float64\n",
            " 82  feat_82   6137 non-null   float64\n",
            " 83  feat_83   6137 non-null   float64\n",
            " 84  feat_84   6137 non-null   float64\n",
            " 85  feat_85   6137 non-null   int64  \n",
            " 86  feat_86   6137 non-null   float64\n",
            " 87  feat_87   6137 non-null   float64\n",
            " 88  feat_88   6137 non-null   float64\n",
            " 89  feat_89   6137 non-null   float64\n",
            " 90  feat_90   6137 non-null   float64\n",
            " 91  feat_91   6137 non-null   float64\n",
            " 92  feat_92   6137 non-null   float64\n",
            " 93  feat_93   6137 non-null   float64\n",
            " 94  feat_94   6137 non-null   int64  \n",
            " 95  feat_95   6137 non-null   float64\n",
            "dtypes: bool(1), float64(93), int64(2)\n",
            "memory usage: 4.5 MB\n"
          ]
        }
      ],
      "source": [
        "df = wrangle('/content/taiwan-bankruptcy-data.json.gz')\n",
        "print(\"df shape:\", df.shape)\n",
        "df.info()"
      ]
    },
    {
      "cell_type": "markdown",
      "id": "21dff117-59fd-4b60-958e-4f9e91d5db6e",
      "metadata": {
        "deletable": false,
        "editable": false,
        "id": "21dff117-59fd-4b60-958e-4f9e91d5db6e"
      },
      "source": [
        "## Explorar"
      ]
    },
    {
      "cell_type": "markdown",
      "id": "02d5c558-b7d7-43ff-b646-f4e14db22a06",
      "metadata": {
        "deletable": false,
        "editable": false,
        "id": "02d5c558-b7d7-43ff-b646-f4e14db22a06"
      },
      "source": [
        "### Exercício:\n",
        "Existe algum dado ausente no conjunto de dados? Crie uma Series onde o índice contenha o nome das colunas em `df` e os valores sejam o número de valores <code>NaN</code> em cada coluna. Atribua o resultado à variável <code>nans_by_col</code>. Nem a própria Series nem seu índice precisam de um nome."
      ]
    },
    {
      "cell_type": "code",
      "execution_count": 10,
      "id": "3177f6b9-80ca-4837-b236-0c9d6d1cf589",
      "metadata": {
        "deletable": false,
        "tags": [],
        "id": "3177f6b9-80ca-4837-b236-0c9d6d1cf589",
        "colab": {
          "base_uri": "https://localhost:8080/",
          "height": 258
        },
        "outputId": "661248d1-d85c-4527-b188-f31a573bcbb9"
      },
      "outputs": [
        {
          "output_type": "stream",
          "name": "stdout",
          "text": [
            "nans_by_col shape: (96,)\n"
          ]
        },
        {
          "output_type": "execute_result",
          "data": {
            "text/plain": [
              "bankrupt    0\n",
              "feat_1      0\n",
              "feat_2      0\n",
              "feat_3      0\n",
              "feat_4      0\n",
              "dtype: int64"
            ],
            "text/html": [
              "<div>\n",
              "<style scoped>\n",
              "    .dataframe tbody tr th:only-of-type {\n",
              "        vertical-align: middle;\n",
              "    }\n",
              "\n",
              "    .dataframe tbody tr th {\n",
              "        vertical-align: top;\n",
              "    }\n",
              "\n",
              "    .dataframe thead th {\n",
              "        text-align: right;\n",
              "    }\n",
              "</style>\n",
              "<table border=\"1\" class=\"dataframe\">\n",
              "  <thead>\n",
              "    <tr style=\"text-align: right;\">\n",
              "      <th></th>\n",
              "      <th>0</th>\n",
              "    </tr>\n",
              "  </thead>\n",
              "  <tbody>\n",
              "    <tr>\n",
              "      <th>bankrupt</th>\n",
              "      <td>0</td>\n",
              "    </tr>\n",
              "    <tr>\n",
              "      <th>feat_1</th>\n",
              "      <td>0</td>\n",
              "    </tr>\n",
              "    <tr>\n",
              "      <th>feat_2</th>\n",
              "      <td>0</td>\n",
              "    </tr>\n",
              "    <tr>\n",
              "      <th>feat_3</th>\n",
              "      <td>0</td>\n",
              "    </tr>\n",
              "    <tr>\n",
              "      <th>feat_4</th>\n",
              "      <td>0</td>\n",
              "    </tr>\n",
              "  </tbody>\n",
              "</table>\n",
              "</div><br><label><b>dtype:</b> int64</label>"
            ]
          },
          "metadata": {},
          "execution_count": 10
        }
      ],
      "source": [
        "nans_by_col = pd.Series(df.isna().sum().values, index=df.columns)\n",
        "print(\"nans_by_col shape:\", nans_by_col.shape)\n",
        "nans_by_col.head()"
      ]
    },
    {
      "cell_type": "markdown",
      "id": "9cb1aa5a-9ea0-4e99-8bba-ba843ca987f5",
      "metadata": {
        "deletable": false,
        "editable": false,
        "id": "9cb1aa5a-9ea0-4e99-8bba-ba843ca987f5"
      },
      "source": [
        "### Exercício:\n",
        "Os dados estão desbalanceados? Crie um gráfico de barras que mostre a contagem de valores normalizados para a coluna `df[\"bankrupt\"]`. Certifique-se de rotular o eixo x como `\"Bankrupt\"`, o eixo y como `\"Frequency\"`, e usar o título `\"Class Balance\"`."
      ]
    },
    {
      "cell_type": "code",
      "execution_count": 12,
      "id": "6a2a5fe0-a1cd-48a5-84ee-525e7fc4cc44",
      "metadata": {
        "deletable": false,
        "id": "6a2a5fe0-a1cd-48a5-84ee-525e7fc4cc44",
        "colab": {
          "base_uri": "https://localhost:8080/",
          "height": 493
        },
        "outputId": "0d8897a7-32ed-44d4-9b44-92cf59f3da80"
      },
      "outputs": [
        {
          "output_type": "display_data",
          "data": {
            "text/plain": [
              "<Figure size 640x480 with 1 Axes>"
            ],
            "image/png": "[encoded data removed]"
          },
          "metadata": {}
        }
      ],
      "source": [
        "df[\"bankrupt\"].value_counts(normalize=True).plot(\n",
        "    kind='bar',\n",
        "    xlabel='Bankrupt',\n",
        "    ylabel='Frequency',\n",
        "    title='Class Balance'\n",
        ");"
      ]
    },
    {
      "cell_type": "markdown",
      "id": "47242176-15c2-4e50-981a-4a2791e6ea5f",
      "metadata": {
        "deletable": false,
        "editable": false,
        "id": "47242176-15c2-4e50-981a-4a2791e6ea5f"
      },
      "source": [
        "## Divisão:"
      ]
    },
    {
      "cell_type": "markdown",
      "id": "e941ed58-7723-4def-8b0d-24b8b3447c9b",
      "metadata": {
        "deletable": false,
        "editable": false,
        "id": "e941ed58-7723-4def-8b0d-24b8b3447c9b"
      },
      "source": [
        "### Exercício:\n",
        "Crie sua matriz de features `X` e o vetor alvo `y`. Seu alvo é `\"bankrupt\"`."
      ]
    },
    {
      "cell_type": "code",
      "execution_count": 13,
      "id": "feeb0205-bdd2-493a-aaa9-a5fe4fa030a7",
      "metadata": {
        "deletable": false,
        "id": "feeb0205-bdd2-493a-aaa9-a5fe4fa030a7",
        "colab": {
          "base_uri": "https://localhost:8080/"
        },
        "outputId": "0a4ccc28-3597-41a7-b786-41cb2887c4de"
      },
      "outputs": [
        {
          "output_type": "stream",
          "name": "stdout",
          "text": [
            "X shape: (6137, 95)\n",
            "y shape: (6137,)\n"
          ]
        }
      ],
      "source": [
        "target = \"bankrupt\"\n",
        "X = df.drop(columns=target)\n",
        "y = df[target]\n",
        "print(\"X shape:\", X.shape)\n",
        "print(\"y shape:\", y.shape)"
      ]
    },
    {
      "cell_type": "markdown",
      "id": "b0e5791a-ed64-485e-85cc-998340b3c162",
      "metadata": {
        "deletable": false,
        "editable": false,
        "id": "b0e5791a-ed64-485e-85cc-998340b3c162"
      },
      "source": [
        "### Exercício:\n",
        "Divida seu conjunto de dados em conjuntos de treinamento e teste usando uma divisão aleatória. Seu conjunto de teste deve ser 20% dos seus dados. Certifique-se de definir `random_state` como `42`."
      ]
    },
    {
      "cell_type": "code",
      "execution_count": 15,
      "id": "31d44df7-8211-4066-a399-6c31c1b0864c",
      "metadata": {
        "deletable": false,
        "id": "31d44df7-8211-4066-a399-6c31c1b0864c",
        "colab": {
          "base_uri": "https://localhost:8080/"
        },
        "outputId": "c2421519-ede7-409f-8fb8-3cb076e87328"
      },
      "outputs": [
        {
          "output_type": "stream",
          "name": "stdout",
          "text": [
            "X_train shape: (4909, 95)\n",
            "y_train shape: (4909,)\n",
            "X_test shape: (1228, 95)\n",
            "y_test shape: (1228,)\n"
          ]
        }
      ],
      "source": [
        "X_train, X_test, y_train, y_test = train_test_split(X,y,test_size=0.2, random_state=42)\n",
        "print(\"X_train shape:\", X_train.shape)\n",
        "print(\"y_train shape:\", y_train.shape)\n",
        "print(\"X_test shape:\", X_test.shape)\n",
        "print(\"y_test shape:\", y_test.shape)"
      ]
    },
    {
      "cell_type": "markdown",
      "id": "3b51378d-7f0a-4109-861c-1cbbbcbff707",
      "metadata": {
        "deletable": false,
        "editable": false,
        "id": "3b51378d-7f0a-4109-861c-1cbbbcbff707"
      },
      "source": [
        "## Resample"
      ]
    },
    {
      "cell_type": "markdown",
      "id": "b4ba1574-15ea-49e8-abe0-13adde0d1513",
      "metadata": {
        "deletable": false,
        "editable": false,
        "id": "b4ba1574-15ea-49e8-abe0-13adde0d1513"
      },
      "source": [
        "### Exercício:\n",
        "Crie uma nova matriz de features `X_train_over` e um vetor alvo `y_train_over` realizando a sobre-amostragem aleatória nos dados de treinamento. Certifique-se de definir `random_state` como `42`."
      ]
    },
    {
      "cell_type": "code",
      "execution_count": 16,
      "id": "40d10781-032f-4b17-9f3b-e4919dbb3af5",
      "metadata": {
        "deletable": false,
        "id": "40d10781-032f-4b17-9f3b-e4919dbb3af5",
        "colab": {
          "base_uri": "https://localhost:8080/",
          "height": 273
        },
        "outputId": "cd80506b-5ba6-4764-a5d6-5723202392b1"
      },
      "outputs": [
        {
          "output_type": "stream",
          "name": "stdout",
          "text": [
            "X_train_over shape: (9512, 95)\n"
          ]
        },
        {
          "output_type": "execute_result",
          "data": {
            "text/plain": [
              "     feat_1    feat_2    feat_3    feat_4    feat_5    feat_6    feat_7  \\\n",
              "0  0.535855  0.599160  0.594411  0.627099  0.627099  0.999220  0.797686   \n",
              "1  0.554136  0.612734  0.595000  0.607388  0.607388  0.999120  0.797614   \n",
              "2  0.549554  0.603467  0.599122  0.620166  0.620166  0.999119  0.797569   \n",
              "3  0.543801  0.603249  0.606992  0.622515  0.622515  0.999259  0.797728   \n",
              "4  0.498659  0.562364  0.546978  0.603670  0.603670  0.998904  0.797584   \n",
              "\n",
              "     feat_8    feat_9   feat_10  ...   feat_86   feat_87   feat_88   feat_89  \\\n",
              "0  0.809591  0.303518  0.781865  ...  0.834091  0.022025  0.624364  0.627101   \n",
              "1  0.809483  0.303600  0.781754  ...  0.840293  0.002407  0.624548  0.607385   \n",
              "2  0.809470  0.303524  0.781740  ...  0.840403  0.000840  0.624010  0.620163   \n",
              "3  0.809649  0.303510  0.781930  ...  0.831514  0.006176  0.626775  0.622513   \n",
              "4  0.809459  0.304000  0.781713  ...  0.811988  0.004256  0.623674  0.603669   \n",
              "\n",
              "    feat_90   feat_91   feat_92   feat_93  feat_94   feat_95  \n",
              "0  0.841977  0.275384  0.026791  0.565158        1  0.147943  \n",
              "1  0.842645  0.276532  0.026791  0.565158        1  0.062544  \n",
              "2  0.842873  0.277249  0.026800  0.565200        1  0.047929  \n",
              "3  0.842989  0.280013  0.026839  0.565375        1  0.028386  \n",
              "4  0.841105  0.277628  0.026897  0.565618        1  0.043080  \n",
              "\n",
              "[5 rows x 95 columns]"
            ],
            "text/html": [
              "\n",
              "  <div id=\"df-6eebf2a3-8222-4ab2-9cce-08420df0abf2\" class=\"colab-df-container\">\n",
              "    <div>\n",
              "<style scoped>\n",
              "    .dataframe tbody tr th:only-of-type {\n",
              "        vertical-align: middle;\n",
              "    }\n",
              "\n",
              "    .dataframe tbody tr th {\n",
              "        vertical-align: top;\n",
              "    }\n",
              "\n",
              "    .dataframe thead th {\n",
              "        text-align: right;\n",
              "    }\n",
              "</style>\n",
              "<table border=\"1\" class=\"dataframe\">\n",
              "  <thead>\n",
              "    <tr style=\"text-align: right;\">\n",
              "      <th></th>\n",
              "      <th>feat_1</th>\n",
              "      <th>feat_2</th>\n",
              "      <th>feat_3</th>\n",
              "      <th>feat_4</th>\n",
              "      <th>feat_5</th>\n",
              "      <th>feat_6</th>\n",
              "      <th>feat_7</th>\n",
              "      <th>feat_8</th>\n",
              "      <th>feat_9</th>\n",
              "      <th>feat_10</th>\n",
              "      <th>...</th>\n",
              "      <th>feat_86</th>\n",
              "      <th>feat_87</th>\n",
              "      <th>feat_88</th>\n",
              "      <th>feat_89</th>\n",
              "      <th>feat_90</th>\n",
              "      <th>feat_91</th>\n",
              "      <th>feat_92</th>\n",
              "      <th>feat_93</th>\n",
              "      <th>feat_94</th>\n",
              "      <th>feat_95</th>\n",
              "    </tr>\n",
              "  </thead>\n",
              "  <tbody>\n",
              "    <tr>\n",
              "      <th>0</th>\n",
              "      <td>0.535855</td>\n",
              "      <td>0.599160</td>\n",
              "      <td>0.594411</td>\n",
              "      <td>0.627099</td>\n",
              "      <td>0.627099</td>\n",
              "      <td>0.999220</td>\n",
              "      <td>0.797686</td>\n",
              "      <td>0.809591</td>\n",
              "      <td>0.303518</td>\n",
              "      <td>0.781865</td>\n",
              "      <td>...</td>\n",
              "      <td>0.834091</td>\n",
              "      <td>0.022025</td>\n",
              "      <td>0.624364</td>\n",
              "      <td>0.627101</td>\n",
              "      <td>0.841977</td>\n",
              "      <td>0.275384</td>\n",
              "      <td>0.026791</td>\n",
              "      <td>0.565158</td>\n",
              "      <td>1</td>\n",
              "      <td>0.147943</td>\n",
              "    </tr>\n",
              "    <tr>\n",
              "      <th>1</th>\n",
              "      <td>0.554136</td>\n",
              "      <td>0.612734</td>\n",
              "      <td>0.595000</td>\n",
              "      <td>0.607388</td>\n",
              "      <td>0.607388</td>\n",
              "      <td>0.999120</td>\n",
              "      <td>0.797614</td>\n",
              "      <td>0.809483</td>\n",
              "      <td>0.303600</td>\n",
              "      <td>0.781754</td>\n",
              "      <td>...</td>\n",
              "      <td>0.840293</td>\n",
              "      <td>0.002407</td>\n",
              "      <td>0.624548</td>\n",
              "      <td>0.607385</td>\n",
              "      <td>0.842645</td>\n",
              "      <td>0.276532</td>\n",
              "      <td>0.026791</td>\n",
              "      <td>0.565158</td>\n",
              "      <td>1</td>\n",
              "      <td>0.062544</td>\n",
              "    </tr>\n",
              "    <tr>\n",
              "      <th>2</th>\n",
              "      <td>0.549554</td>\n",
              "      <td>0.603467</td>\n",
              "      <td>0.599122</td>\n",
              "      <td>0.620166</td>\n",
              "      <td>0.620166</td>\n",
              "      <td>0.999119</td>\n",
              "      <td>0.797569</td>\n",
              "      <td>0.809470</td>\n",
              "      <td>0.303524</td>\n",
              "      <td>0.781740</td>\n",
              "      <td>...</td>\n",
              "      <td>0.840403</td>\n",
              "      <td>0.000840</td>\n",
              "      <td>0.624010</td>\n",
              "      <td>0.620163</td>\n",
              "      <td>0.842873</td>\n",
              "      <td>0.277249</td>\n",
              "      <td>0.026800</td>\n",
              "      <td>0.565200</td>\n",
              "      <td>1</td>\n",
              "      <td>0.047929</td>\n",
              "    </tr>\n",
              "    <tr>\n",
              "      <th>3</th>\n",
              "      <td>0.543801</td>\n",
              "      <td>0.603249</td>\n",
              "      <td>0.606992</td>\n",
              "      <td>0.622515</td>\n",
              "      <td>0.622515</td>\n",
              "      <td>0.999259</td>\n",
              "      <td>0.797728</td>\n",
              "      <td>0.809649</td>\n",
              "      <td>0.303510</td>\n",
              "      <td>0.781930</td>\n",
              "      <td>...</td>\n",
              "      <td>0.831514</td>\n",
              "      <td>0.006176</td>\n",
              "      <td>0.626775</td>\n",
              "      <td>0.622513</td>\n",
              "      <td>0.842989</td>\n",
              "      <td>0.280013</td>\n",
              "      <td>0.026839</td>\n",
              "      <td>0.565375</td>\n",
              "      <td>1</td>\n",
              "      <td>0.028386</td>\n",
              "    </tr>\n",
              "    <tr>\n",
              "      <th>4</th>\n",
              "      <td>0.498659</td>\n",
              "      <td>0.562364</td>\n",
              "      <td>0.546978</td>\n",
              "      <td>0.603670</td>\n",
              "      <td>0.603670</td>\n",
              "      <td>0.998904</td>\n",
              "      <td>0.797584</td>\n",
              "      <td>0.809459</td>\n",
              "      <td>0.304000</td>\n",
              "      <td>0.781713</td>\n",
              "      <td>...</td>\n",
              "      <td>0.811988</td>\n",
              "      <td>0.004256</td>\n",
              "      <td>0.623674</td>\n",
              "      <td>0.603669</td>\n",
              "      <td>0.841105</td>\n",
              "      <td>0.277628</td>\n",
              "      <td>0.026897</td>\n",
              "      <td>0.565618</td>\n",
              "      <td>1</td>\n",
              "      <td>0.043080</td>\n",
              "    </tr>\n",
              "  </tbody>\n",
              "</table>\n",
              "<p>5 rows × 95 columns</p>\n",
              "</div>\n",
              "    <div class=\"colab-df-buttons\">\n",
              "\n",
              "  <div class=\"colab-df-container\">\n",
              "    <button class=\"colab-df-convert\" onclick=\"convertToInteractive('df-6eebf2a3-8222-4ab2-9cce-08420df0abf2')\"\n",
              "            title=\"Convert this dataframe to an interactive table.\"\n",
              "            style=\"display:none;\">\n",
              "\n",
              "  <svg xmlns=\"http://www.w3.org/2000/svg\" height=\"24px\" viewBox=\"0 -960 960 960\">\n",
              "    <path d=\"M120-120v-720h720v720H120Zm60-500h600v-160H180v160Zm220 220h160v-160H400v160Zm0 220h160v-160H400v160ZM180-400h160v-160H180v160Zm440 0h160v-160H620v160ZM180-180h160v-160H180v160Zm440 0h160v-160H620v160Z\"/>\n",
              "  </svg>\n",
              "    </button>\n",
              "\n",
              "  <style>\n",
              "    .colab-df-container {\n",
              "      display:flex;\n",
              "      gap: 12px;\n",
              "    }\n",
              "\n",
              "    .colab-df-convert {\n",
              "      background-color: #E8F0FE;\n",
              "      border: none;\n",
              "      border-radius: 50%;\n",
              "      cursor: pointer;\n",
              "      display: none;\n",
              "      fill: #1967D2;\n",
              "      height: 32px;\n",
              "      padding: 0 0 0 0;\n",
              "      width: 32px;\n",
              "    }\n",
              "\n",
              "    .colab-df-convert:hover {\n",
              "      background-color: #E2EBFA;\n",
              "      box-shadow: 0px 1px 2px rgba(60, 64, 67, 0.3), 0px 1px 3px 1px rgba(60, 64, 67, 0.15);\n",
              "      fill: #174EA6;\n",
              "    }\n",
              "\n",
              "    .colab-df-buttons div {\n",
              "      margin-bottom: 4px;\n",
              "    }\n",
              "\n",
              "    [theme=dark] .colab-df-convert {\n",
              "      background-color: #3B4455;\n",
              "      fill: #D2E3FC;\n",
              "    }\n",
              "\n",
              "    [theme=dark] .colab-df-convert:hover {\n",
              "      background-color: #434B5C;\n",
              "      box-shadow: 0px 1px 3px 1px rgba(0, 0, 0, 0.15);\n",
              "      filter: drop-shadow(0px 1px 2px rgba(0, 0, 0, 0.3));\n",
              "      fill: #FFFFFF;\n",
              "    }\n",
              "  </style>\n",
              "\n",
              "    <script>\n",
              "      const buttonEl =\n",
              "        document.querySelector('#df-6eebf2a3-8222-4ab2-9cce-08420df0abf2 button.colab-df-convert');\n",
              "      buttonEl.style.display =\n",
              "        google.colab.kernel.accessAllowed ? 'block' : 'none';\n",
              "\n",
              "      async function convertToInteractive(key) {\n",
              "        const element = document.querySelector('#df-6eebf2a3-8222-4ab2-9cce-08420df0abf2');\n",
              "        const dataTable =\n",
              "          await google.colab.kernel.invokeFunction('convertToInteractive',\n",
              "                                                    [key], {});\n",
              "        if (!dataTable) return;\n",
              "\n",
              "        const docLinkHtml = 'Like what you see? Visit the ' +\n",
              "          '<a target=\"_blank\" href=https://colab.research.google.com/notebooks/data_table.ipynb>data table notebook</a>'\n",
              "          + ' to learn more about interactive tables.';\n",
              "        element.innerHTML = '';\n",
              "        dataTable['output_type'] = 'display_data';\n",
              "        await google.colab.output.renderOutput(dataTable, element);\n",
              "        const docLink = document.createElement('div');\n",
              "        docLink.innerHTML = docLinkHtml;\n",
              "        element.appendChild(docLink);\n",
              "      }\n",
              "    </script>\n",
              "  </div>\n",
              "\n",
              "\n",
              "<div id=\"df-4687f08d-8cdf-4942-9e1c-e169562654c2\">\n",
              "  <button class=\"colab-df-quickchart\" onclick=\"quickchart('df-4687f08d-8cdf-4942-9e1c-e169562654c2')\"\n",
              "            title=\"Suggest charts\"\n",
              "            style=\"display:none;\">\n",
              "\n",
              "<svg xmlns=\"http://www.w3.org/2000/svg\" height=\"24px\"viewBox=\"0 0 24 24\"\n",
              "     width=\"24px\">\n",
              "    <g>\n",
              "        <path d=\"M19 3H5c-1.1 0-2 .9-2 2v14c0 1.1.9 2 2 2h14c1.1 0 2-.9 2-2V5c0-1.1-.9-2-2-2zM9 17H7v-7h2v7zm4 0h-2V7h2v10zm4 0h-2v-4h2v4z\"/>\n",
              "    </g>\n",
              "</svg>\n",
              "  </button>\n",
              "\n",
              "<style>\n",
              "  .colab-df-quickchart {\n",
              "      --bg-color: #E8F0FE;\n",
              "      --fill-color: #1967D2;\n",
              "      --hover-bg-color: #E2EBFA;\n",
              "      --hover-fill-color: #174EA6;\n",
              "      --disabled-fill-color: #AAA;\n",
              "      --disabled-bg-color: #DDD;\n",
              "  }\n",
              "\n",
              "  [theme=dark] .colab-df-quickchart {\n",
              "      --bg-color: #3B4455;\n",
              "      --fill-color: #D2E3FC;\n",
              "      --hover-bg-color: #434B5C;\n",
              "      --hover-fill-color: #FFFFFF;\n",
              "      --disabled-bg-color: #3B4455;\n",
              "      --disabled-fill-color: #666;\n",
              "  }\n",
              "\n",
              "  .colab-df-quickchart {\n",
              "    background-color: var(--bg-color);\n",
              "    border: none;\n",
              "    border-radius: 50%;\n",
              "    cursor: pointer;\n",
              "    display: none;\n",
              "    fill: var(--fill-color);\n",
              "    height: 32px;\n",
              "    padding: 0;\n",
              "    width: 32px;\n",
              "  }\n",
              "\n",
              "  .colab-df-quickchart:hover {\n",
              "    background-color: var(--hover-bg-color);\n",
              "    box-shadow: 0 1px 2px rgba(60, 64, 67, 0.3), 0 1px 3px 1px rgba(60, 64, 67, 0.15);\n",
              "    fill: var(--button-hover-fill-color);\n",
              "  }\n",
              "\n",
              "  .colab-df-quickchart-complete:disabled,\n",
              "  .colab-df-quickchart-complete:disabled:hover {\n",
              "    background-color: var(--disabled-bg-color);\n",
              "    fill: var(--disabled-fill-color);\n",
              "    box-shadow: none;\n",
              "  }\n",
              "\n",
              "  .colab-df-spinner {\n",
              "    border: 2px solid var(--fill-color);\n",
              "    border-color: transparent;\n",
              "    border-bottom-color: var(--fill-color);\n",
              "    animation:\n",
              "      spin 1s steps(1) infinite;\n",
              "  }\n",
              "\n",
              "  @keyframes spin {\n",
              "    0% {\n",
              "      border-color: transparent;\n",
              "      border-bottom-color: var(--fill-color);\n",
              "      border-left-color: var(--fill-color);\n",
              "    }\n",
              "    20% {\n",
              "      border-color: transparent;\n",
              "      border-left-color: var(--fill-color);\n",
              "      border-top-color: var(--fill-color);\n",
              "    }\n",
              "    30% {\n",
              "      border-color: transparent;\n",
              "      border-left-color: var(--fill-color);\n",
              "      border-top-color: var(--fill-color);\n",
              "      border-right-color: var(--fill-color);\n",
              "    }\n",
              "    40% {\n",
              "      border-color: transparent;\n",
              "      border-right-color: var(--fill-color);\n",
              "      border-top-color: var(--fill-color);\n",
              "    }\n",
              "    60% {\n",
              "      border-color: transparent;\n",
              "      border-right-color: var(--fill-color);\n",
              "    }\n",
              "    80% {\n",
              "      border-color: transparent;\n",
              "      border-right-color: var(--fill-color);\n",
              "      border-bottom-color: var(--fill-color);\n",
              "    }\n",
              "    90% {\n",
              "      border-color: transparent;\n",
              "      border-bottom-color: var(--fill-color);\n",
              "    }\n",
              "  }\n",
              "</style>\n",
              "\n",
              "  <script>\n",
              "    async function quickchart(key) {\n",
              "      const quickchartButtonEl =\n",
              "        document.querySelector('#' + key + ' button');\n",
              "      quickchartButtonEl.disabled = true;  // To prevent multiple clicks.\n",
              "      quickchartButtonEl.classList.add('colab-df-spinner');\n",
              "      try {\n",
              "        const charts = await google.colab.kernel.invokeFunction(\n",
              "            'suggestCharts', [key], {});\n",
              "      } catch (error) {\n",
              "        console.error('Error during call to suggestCharts:', error);\n",
              "      }\n",
              "      quickchartButtonEl.classList.remove('colab-df-spinner');\n",
              "      quickchartButtonEl.classList.add('colab-df-quickchart-complete');\n",
              "    }\n",
              "    (() => {\n",
              "      let quickchartButtonEl =\n",
              "        document.querySelector('#df-4687f08d-8cdf-4942-9e1c-e169562654c2 button');\n",
              "      quickchartButtonEl.style.display =\n",
              "        google.colab.kernel.accessAllowed ? 'block' : 'none';\n",
              "    })();\n",
              "  </script>\n",
              "</div>\n",
              "\n",
              "    </div>\n",
              "  </div>\n"
            ],
            "application/vnd.google.colaboratory.intrinsic+json": {
              "type": "dataframe",
              "variable_name": "X_train_over"
            }
          },
          "metadata": {},
          "execution_count": 16
        }
      ],
      "source": [
        "over_sampler = RandomOverSampler(random_state=42)\n",
        "X_train_over, y_train_over = over_sampler.fit_resample(X_train, y_train)\n",
        "print(\"X_train_over shape:\", X_train_over.shape)\n",
        "X_train_over.head()"
      ]
    },
    {
      "cell_type": "markdown",
      "id": "56432e44-2454-4811-828b-61887df09346",
      "metadata": {
        "deletable": false,
        "editable": false,
        "id": "56432e44-2454-4811-828b-61887df09346"
      },
      "source": [
        "# Construindo Model"
      ]
    },
    {
      "cell_type": "markdown",
      "id": "3783e564-560e-432f-b49e-f2e585a865f8",
      "metadata": {
        "deletable": false,
        "editable": false,
        "id": "3783e564-560e-432f-b49e-f2e585a865f8"
      },
      "source": [
        "## Iterar"
      ]
    },
    {
      "cell_type": "markdown",
      "id": "ef7c2d9d-08b1-4668-bf2e-e4910293dbe0",
      "metadata": {
        "deletable": false,
        "editable": false,
        "id": "ef7c2d9d-08b1-4668-bf2e-e4910293dbe0"
      },
      "source": [
        "### Exercício:\n",
        "Crie um classificador <code>clf</code> que possa ser treinado em `(X_train_over, y_train_over)`. Você pode usar qualquer um dos novos preditores em conjunto que aprendeu neste projeto."
      ]
    },
    {
      "cell_type": "code",
      "execution_count": 20,
      "id": "b37aca3d-8a72-440e-a99c-e069f9850bd2",
      "metadata": {
        "deletable": false,
        "id": "b37aca3d-8a72-440e-a99c-e069f9850bd2"
      },
      "outputs": [],
      "source": [
        "clf = RandomForestClassifier(random_state=42)"
      ]
    },
    {
      "cell_type": "markdown",
      "id": "ff7a967c-756f-4c2d-998e-90b67e9918ac",
      "metadata": {
        "deletable": false,
        "editable": false,
        "id": "ff7a967c-756f-4c2d-998e-90b67e9918ac"
      },
      "source": [
        "### Exercício:\n",
        "Realize a validação cruzada com seu classificador usando os dados de treinamento sobre-amostrados e atribua seus resultados à variável <code>cv_scores</code>. Certifique-se de definir o argumento <code>cv</code> como 5."
      ]
    },
    {
      "cell_type": "markdown",
      "id": "e5ee8f58-aac7-40d8-a2e2-20f3db4898bd",
      "metadata": {
        "deletable": false,
        "editable": false,
        "id": "e5ee8f58-aac7-40d8-a2e2-20f3db4898bd"
      },
      "source": [
        "__Dica:__ Use suas pontuações de validação cruzada para avaliar diferentes classificadores. Escolha o que lhe der os melhores resultados."
      ]
    },
    {
      "cell_type": "code",
      "execution_count": 23,
      "id": "b4e861a8-c2ea-49b2-b789-0b3dbe586384",
      "metadata": {
        "deletable": false,
        "id": "b4e861a8-c2ea-49b2-b789-0b3dbe586384",
        "colab": {
          "base_uri": "https://localhost:8080/"
        },
        "outputId": "204cb27d-8013-48ae-f8b0-d94dd25dd725"
      },
      "outputs": [
        {
          "output_type": "stream",
          "name": "stdout",
          "text": [
            "[0.99316868 0.99474514 0.99369085 0.99369085 0.9957939 ]\n"
          ]
        }
      ],
      "source": [
        "cv_scores = cross_val_score(clf, X_train_over, y_train_over, cv=5, n_jobs=-1)\n",
        "print(cv_scores)"
      ]
    },
    {
      "cell_type": "markdown",
      "id": "bfd434c3-e5af-47f5-b169-8a78a4c9483d",
      "metadata": {
        "deletable": false,
        "editable": false,
        "id": "bfd434c3-e5af-47f5-b169-8a78a4c9483d"
      },
      "source": [
        "### Exercício:\n",
        "Crie um dicionário <code>params</code> com a faixa de hiperparâmetros que você deseja avaliar para seu classificador. Se você não tiver certeza de quais hiperparâmetros ajustar, consulte a documentação do scikit-learn para seu preditor em busca de ideias."
      ]
    },
    {
      "cell_type": "markdown",
      "id": "f676fdcf-76c2-4e3b-b619-11fbca6f247e",
      "metadata": {
        "deletable": false,
        "editable": false,
        "id": "f676fdcf-76c2-4e3b-b619-11fbca6f247e"
      },
      "source": [
        "__Dica:__ Se o classificador que você construiu for apenas um preditor (não um pipeline com várias etapas), você não precisa incluir o nome da etapa nas chaves do seu dicionário <code>params</code>.\n",
        "\n",
        "Por exemplo, se seu classificador for apenas uma floresta aleatória (não um pipeline contendo uma floresta aleatória), você acessaria o número de estimadores usando <code>\"n_estimators\"</code>, e não <code>\"randomforestclassifier__n_estimators\"</code>."
      ]
    },
    {
      "cell_type": "code",
      "execution_count": 24,
      "id": "dd75b82b-6b93-49f0-a329-175d75c56cfb",
      "metadata": {
        "deletable": false,
        "id": "dd75b82b-6b93-49f0-a329-175d75c56cfb"
      },
      "outputs": [],
      "source": [
        "params = {\n",
        "    'n_estimators': range(25,100,25),\n",
        "    'max_depth': range(10, 50, 10)\n",
        "}"
      ]
    },
    {
      "cell_type": "markdown",
      "id": "fc280d9a-3cd4-4ddb-9c93-01f9b84c748b",
      "metadata": {
        "deletable": false,
        "editable": false,
        "id": "fc280d9a-3cd4-4ddb-9c93-01f9b84c748b"
      },
      "source": [
        "### Exercício:\n",
        "Crie um <code>GridSearchCV</code> chamado `model` que inclua seu classificador e a grade de hiperparâmetros. Certifique-se de definir `cv` como 5, `n_jobs` como -1 e `verbose` como 1."
      ]
    },
    {
      "cell_type": "code",
      "execution_count": 25,
      "id": "28c7e9a9-0f16-418f-b299-f888df1d7f41",
      "metadata": {
        "deletable": false,
        "id": "28c7e9a9-0f16-418f-b299-f888df1d7f41"
      },
      "outputs": [],
      "source": [
        "model = GridSearchCV(\n",
        "    clf,\n",
        "    param_grid=params,\n",
        "    cv=5,\n",
        "    n_jobs=-1,\n",
        "    verbose=1\n",
        ")"
      ]
    },
    {
      "cell_type": "markdown",
      "id": "10252f2b-c9cc-4e25-960e-e88e5a13aaa7",
      "metadata": {
        "deletable": false,
        "editable": false,
        "id": "10252f2b-c9cc-4e25-960e-e88e5a13aaa7"
      },
      "source": [
        "### Exercício  \n",
        "Ajuste seu modelo aos dados de treinamento **sobre-amostrados.**"
      ]
    },
    {
      "cell_type": "code",
      "execution_count": 26,
      "id": "ede4b08f-12b6-4f02-91ec-43917193adf3",
      "metadata": {
        "deletable": false,
        "id": "ede4b08f-12b6-4f02-91ec-43917193adf3",
        "colab": {
          "base_uri": "https://localhost:8080/",
          "height": 198
        },
        "outputId": "a6ec8ddc-c881-4428-d679-df2ce6dd5c02"
      },
      "outputs": [
        {
          "output_type": "stream",
          "name": "stdout",
          "text": [
            "Fitting 5 folds for each of 12 candidates, totalling 60 fits\n"
          ]
        },
        {
          "output_type": "execute_result",
          "data": {
            "text/plain": [
              "GridSearchCV(cv=5, estimator=RandomForestClassifier(random_state=42), n_jobs=-1,\n",
              "             param_grid={'max_depth': range(10, 50, 10),\n",
              "                         'n_estimators': range(25, 100, 25)},\n",
              "             verbose=1)"
            ],
            "text/html": [
              "<style>#sk-container-id-1 {\n",
              "  /* Definition of color scheme common for light and dark mode */\n",
              "  --sklearn-color-text: black;\n",
              "  --sklearn-color-line: gray;\n",
              "  /* Definition of color scheme for unfitted estimators */\n",
              "  --sklearn-color-unfitted-level-0: #fff5e6;\n",
              "  --sklearn-color-unfitted-level-1: #f6e4d2;\n",
              "  --sklearn-color-unfitted-level-2: #ffe0b3;\n",
              "  --sklearn-color-unfitted-level-3: chocolate;\n",
              "  /* Definition of color scheme for fitted estimators */\n",
              "  --sklearn-color-fitted-level-0: #f0f8ff;\n",
              "  --sklearn-color-fitted-level-1: #d4ebff;\n",
              "  --sklearn-color-fitted-level-2: #b3dbfd;\n",
              "  --sklearn-color-fitted-level-3: cornflowerblue;\n",
              "\n",
              "  /* Specific color for light theme */\n",
              "  --sklearn-color-text-on-default-background: var(--sg-text-color, var(--theme-code-foreground, var(--jp-content-font-color1, black)));\n",
              "  --sklearn-color-background: var(--sg-background-color, var(--theme-background, var(--jp-layout-color0, white)));\n",
              "  --sklearn-color-border-box: var(--sg-text-color, var(--theme-code-foreground, var(--jp-content-font-color1, black)));\n",
              "  --sklearn-color-icon: #696969;\n",
              "\n",
              "  @media (prefers-color-scheme: dark) {\n",
              "    /* Redefinition of color scheme for dark theme */\n",
              "    --sklearn-color-text-on-default-background: var(--sg-text-color, var(--theme-code-foreground, var(--jp-content-font-color1, white)));\n",
              "    --sklearn-color-background: var(--sg-background-color, var(--theme-background, var(--jp-layout-color0, #111)));\n",
              "    --sklearn-color-border-box: var(--sg-text-color, var(--theme-code-foreground, var(--jp-content-font-color1, white)));\n",
              "    --sklearn-color-icon: #878787;\n",
              "  }\n",
              "}\n",
              "\n",
              "#sk-container-id-1 {\n",
              "  color: var(--sklearn-color-text);\n",
              "}\n",
              "\n",
              "#sk-container-id-1 pre {\n",
              "  padding: 0;\n",
              "}\n",
              "\n",
              "#sk-container-id-1 input.sk-hidden--visually {\n",
              "  border: 0;\n",
              "  clip: rect(1px 1px 1px 1px);\n",
              "  clip: rect(1px, 1px, 1px, 1px);\n",
              "  height: 1px;\n",
              "  margin: -1px;\n",
              "  overflow: hidden;\n",
              "  padding: 0;\n",
              "  position: absolute;\n",
              "  width: 1px;\n",
              "}\n",
              "\n",
              "#sk-container-id-1 div.sk-dashed-wrapped {\n",
              "  border: 1px dashed var(--sklearn-color-line);\n",
              "  margin: 0 0.4em 0.5em 0.4em;\n",
              "  box-sizing: border-box;\n",
              "  padding-bottom: 0.4em;\n",
              "  background-color: var(--sklearn-color-background);\n",
              "}\n",
              "\n",
              "#sk-container-id-1 div.sk-container {\n",
              "  /* jupyter's `normalize.less` sets `[hidden] { display: none; }`\n",
              "     but bootstrap.min.css set `[hidden] { display: none !important; }`\n",
              "     so we also need the `!important` here to be able to override the\n",
              "     default hidden behavior on the sphinx rendered scikit-learn.org.\n",
              "     See: https://github.com/scikit-learn/scikit-learn/issues/21755 */\n",
              "  display: inline-block !important;\n",
              "  position: relative;\n",
              "}\n",
              "\n",
              "#sk-container-id-1 div.sk-text-repr-fallback {\n",
              "  display: none;\n",
              "}\n",
              "\n",
              "div.sk-parallel-item,\n",
              "div.sk-serial,\n",
              "div.sk-item {\n",
              "  /* draw centered vertical line to link estimators */\n",
              "  background-image: linear-gradient(var(--sklearn-color-text-on-default-background), var(--sklearn-color-text-on-default-background));\n",
              "  background-size: 2px 100%;\n",
              "  background-repeat: no-repeat;\n",
              "  background-position: center center;\n",
              "}\n",
              "\n",
              "/* Parallel-specific style estimator block */\n",
              "\n",
              "#sk-container-id-1 div.sk-parallel-item::after {\n",
              "  content: \"\";\n",
              "  width: 100%;\n",
              "  border-bottom: 2px solid var(--sklearn-color-text-on-default-background);\n",
              "  flex-grow: 1;\n",
              "}\n",
              "\n",
              "#sk-container-id-1 div.sk-parallel {\n",
              "  display: flex;\n",
              "  align-items: stretch;\n",
              "  justify-content: center;\n",
              "  background-color: var(--sklearn-color-background);\n",
              "  position: relative;\n",
              "}\n",
              "\n",
              "#sk-container-id-1 div.sk-parallel-item {\n",
              "  display: flex;\n",
              "  flex-direction: column;\n",
              "}\n",
              "\n",
              "#sk-container-id-1 div.sk-parallel-item:first-child::after {\n",
              "  align-self: flex-end;\n",
              "  width: 50%;\n",
              "}\n",
              "\n",
              "#sk-container-id-1 div.sk-parallel-item:last-child::after {\n",
              "  align-self: flex-start;\n",
              "  width: 50%;\n",
              "}\n",
              "\n",
              "#sk-container-id-1 div.sk-parallel-item:only-child::after {\n",
              "  width: 0;\n",
              "}\n",
              "\n",
              "/* Serial-specific style estimator block */\n",
              "\n",
              "#sk-container-id-1 div.sk-serial {\n",
              "  display: flex;\n",
              "  flex-direction: column;\n",
              "  align-items: center;\n",
              "  background-color: var(--sklearn-color-background);\n",
              "  padding-right: 1em;\n",
              "  padding-left: 1em;\n",
              "}\n",
              "\n",
              "\n",
              "/* Toggleable style: style used for estimator/Pipeline/ColumnTransformer box that is\n",
              "clickable and can be expanded/collapsed.\n",
              "- Pipeline and ColumnTransformer use this feature and define the default style\n",
              "- Estimators will overwrite some part of the style using the `sk-estimator` class\n",
              "*/\n",
              "\n",
              "/* Pipeline and ColumnTransformer style (default) */\n",
              "\n",
              "#sk-container-id-1 div.sk-toggleable {\n",
              "  /* Default theme specific background. It is overwritten whether we have a\n",
              "  specific estimator or a Pipeline/ColumnTransformer */\n",
              "  background-color: var(--sklearn-color-background);\n",
              "}\n",
              "\n",
              "/* Toggleable label */\n",
              "#sk-container-id-1 label.sk-toggleable__label {\n",
              "  cursor: pointer;\n",
              "  display: block;\n",
              "  width: 100%;\n",
              "  margin-bottom: 0;\n",
              "  padding: 0.5em;\n",
              "  box-sizing: border-box;\n",
              "  text-align: center;\n",
              "}\n",
              "\n",
              "#sk-container-id-1 label.sk-toggleable__label-arrow:before {\n",
              "  /* Arrow on the left of the label */\n",
              "  content: \"▸\";\n",
              "  float: left;\n",
              "  margin-right: 0.25em;\n",
              "  color: var(--sklearn-color-icon);\n",
              "}\n",
              "\n",
              "#sk-container-id-1 label.sk-toggleable__label-arrow:hover:before {\n",
              "  color: var(--sklearn-color-text);\n",
              "}\n",
              "\n",
              "/* Toggleable content - dropdown */\n",
              "\n",
              "#sk-container-id-1 div.sk-toggleable__content {\n",
              "  max-height: 0;\n",
              "  max-width: 0;\n",
              "  overflow: hidden;\n",
              "  text-align: left;\n",
              "  /* unfitted */\n",
              "  background-color: var(--sklearn-color-unfitted-level-0);\n",
              "}\n",
              "\n",
              "#sk-container-id-1 div.sk-toggleable__content.fitted {\n",
              "  /* fitted */\n",
              "  background-color: var(--sklearn-color-fitted-level-0);\n",
              "}\n",
              "\n",
              "#sk-container-id-1 div.sk-toggleable__content pre {\n",
              "  margin: 0.2em;\n",
              "  border-radius: 0.25em;\n",
              "  color: var(--sklearn-color-text);\n",
              "  /* unfitted */\n",
              "  background-color: var(--sklearn-color-unfitted-level-0);\n",
              "}\n",
              "\n",
              "#sk-container-id-1 div.sk-toggleable__content.fitted pre {\n",
              "  /* unfitted */\n",
              "  background-color: var(--sklearn-color-fitted-level-0);\n",
              "}\n",
              "\n",
              "#sk-container-id-1 input.sk-toggleable__control:checked~div.sk-toggleable__content {\n",
              "  /* Expand drop-down */\n",
              "  max-height: 200px;\n",
              "  max-width: 100%;\n",
              "  overflow: auto;\n",
              "}\n",
              "\n",
              "#sk-container-id-1 input.sk-toggleable__control:checked~label.sk-toggleable__label-arrow:before {\n",
              "  content: \"▾\";\n",
              "}\n",
              "\n",
              "/* Pipeline/ColumnTransformer-specific style */\n",
              "\n",
              "#sk-container-id-1 div.sk-label input.sk-toggleable__control:checked~label.sk-toggleable__label {\n",
              "  color: var(--sklearn-color-text);\n",
              "  background-color: var(--sklearn-color-unfitted-level-2);\n",
              "}\n",
              "\n",
              "#sk-container-id-1 div.sk-label.fitted input.sk-toggleable__control:checked~label.sk-toggleable__label {\n",
              "  background-color: var(--sklearn-color-fitted-level-2);\n",
              "}\n",
              "\n",
              "/* Estimator-specific style */\n",
              "\n",
              "/* Colorize estimator box */\n",
              "#sk-container-id-1 div.sk-estimator input.sk-toggleable__control:checked~label.sk-toggleable__label {\n",
              "  /* unfitted */\n",
              "  background-color: var(--sklearn-color-unfitted-level-2);\n",
              "}\n",
              "\n",
              "#sk-container-id-1 div.sk-estimator.fitted input.sk-toggleable__control:checked~label.sk-toggleable__label {\n",
              "  /* fitted */\n",
              "  background-color: var(--sklearn-color-fitted-level-2);\n",
              "}\n",
              "\n",
              "#sk-container-id-1 div.sk-label label.sk-toggleable__label,\n",
              "#sk-container-id-1 div.sk-label label {\n",
              "  /* The background is the default theme color */\n",
              "  color: var(--sklearn-color-text-on-default-background);\n",
              "}\n",
              "\n",
              "/* On hover, darken the color of the background */\n",
              "#sk-container-id-1 div.sk-label:hover label.sk-toggleable__label {\n",
              "  color: var(--sklearn-color-text);\n",
              "  background-color: var(--sklearn-color-unfitted-level-2);\n",
              "}\n",
              "\n",
              "/* Label box, darken color on hover, fitted */\n",
              "#sk-container-id-1 div.sk-label.fitted:hover label.sk-toggleable__label.fitted {\n",
              "  color: var(--sklearn-color-text);\n",
              "  background-color: var(--sklearn-color-fitted-level-2);\n",
              "}\n",
              "\n",
              "/* Estimator label */\n",
              "\n",
              "#sk-container-id-1 div.sk-label label {\n",
              "  font-family: monospace;\n",
              "  font-weight: bold;\n",
              "  display: inline-block;\n",
              "  line-height: 1.2em;\n",
              "}\n",
              "\n",
              "#sk-container-id-1 div.sk-label-container {\n",
              "  text-align: center;\n",
              "}\n",
              "\n",
              "/* Estimator-specific */\n",
              "#sk-container-id-1 div.sk-estimator {\n",
              "  font-family: monospace;\n",
              "  border: 1px dotted var(--sklearn-color-border-box);\n",
              "  border-radius: 0.25em;\n",
              "  box-sizing: border-box;\n",
              "  margin-bottom: 0.5em;\n",
              "  /* unfitted */\n",
              "  background-color: var(--sklearn-color-unfitted-level-0);\n",
              "}\n",
              "\n",
              "#sk-container-id-1 div.sk-estimator.fitted {\n",
              "  /* fitted */\n",
              "  background-color: var(--sklearn-color-fitted-level-0);\n",
              "}\n",
              "\n",
              "/* on hover */\n",
              "#sk-container-id-1 div.sk-estimator:hover {\n",
              "  /* unfitted */\n",
              "  background-color: var(--sklearn-color-unfitted-level-2);\n",
              "}\n",
              "\n",
              "#sk-container-id-1 div.sk-estimator.fitted:hover {\n",
              "  /* fitted */\n",
              "  background-color: var(--sklearn-color-fitted-level-2);\n",
              "}\n",
              "\n",
              "/* Specification for estimator info (e.g. \"i\" and \"?\") */\n",
              "\n",
              "/* Common style for \"i\" and \"?\" */\n",
              "\n",
              ".sk-estimator-doc-link,\n",
              "a:link.sk-estimator-doc-link,\n",
              "a:visited.sk-estimator-doc-link {\n",
              "  float: right;\n",
              "  font-size: smaller;\n",
              "  line-height: 1em;\n",
              "  font-family: monospace;\n",
              "  background-color: var(--sklearn-color-background);\n",
              "  border-radius: 1em;\n",
              "  height: 1em;\n",
              "  width: 1em;\n",
              "  text-decoration: none !important;\n",
              "  margin-left: 1ex;\n",
              "  /* unfitted */\n",
              "  border: var(--sklearn-color-unfitted-level-1) 1pt solid;\n",
              "  color: var(--sklearn-color-unfitted-level-1);\n",
              "}\n",
              "\n",
              ".sk-estimator-doc-link.fitted,\n",
              "a:link.sk-estimator-doc-link.fitted,\n",
              "a:visited.sk-estimator-doc-link.fitted {\n",
              "  /* fitted */\n",
              "  border: var(--sklearn-color-fitted-level-1) 1pt solid;\n",
              "  color: var(--sklearn-color-fitted-level-1);\n",
              "}\n",
              "\n",
              "/* On hover */\n",
              "div.sk-estimator:hover .sk-estimator-doc-link:hover,\n",
              ".sk-estimator-doc-link:hover,\n",
              "div.sk-label-container:hover .sk-estimator-doc-link:hover,\n",
              ".sk-estimator-doc-link:hover {\n",
              "  /* unfitted */\n",
              "  background-color: var(--sklearn-color-unfitted-level-3);\n",
              "  color: var(--sklearn-color-background);\n",
              "  text-decoration: none;\n",
              "}\n",
              "\n",
              "div.sk-estimator.fitted:hover .sk-estimator-doc-link.fitted:hover,\n",
              ".sk-estimator-doc-link.fitted:hover,\n",
              "div.sk-label-container:hover .sk-estimator-doc-link.fitted:hover,\n",
              ".sk-estimator-doc-link.fitted:hover {\n",
              "  /* fitted */\n",
              "  background-color: var(--sklearn-color-fitted-level-3);\n",
              "  color: var(--sklearn-color-background);\n",
              "  text-decoration: none;\n",
              "}\n",
              "\n",
              "/* Span, style for the box shown on hovering the info icon */\n",
              ".sk-estimator-doc-link span {\n",
              "  display: none;\n",
              "  z-index: 9999;\n",
              "  position: relative;\n",
              "  font-weight: normal;\n",
              "  right: .2ex;\n",
              "  padding: .5ex;\n",
              "  margin: .5ex;\n",
              "  width: min-content;\n",
              "  min-width: 20ex;\n",
              "  max-width: 50ex;\n",
              "  color: var(--sklearn-color-text);\n",
              "  box-shadow: 2pt 2pt 4pt #999;\n",
              "  /* unfitted */\n",
              "  background: var(--sklearn-color-unfitted-level-0);\n",
              "  border: .5pt solid var(--sklearn-color-unfitted-level-3);\n",
              "}\n",
              "\n",
              ".sk-estimator-doc-link.fitted span {\n",
              "  /* fitted */\n",
              "  background: var(--sklearn-color-fitted-level-0);\n",
              "  border: var(--sklearn-color-fitted-level-3);\n",
              "}\n",
              "\n",
              ".sk-estimator-doc-link:hover span {\n",
              "  display: block;\n",
              "}\n",
              "\n",
              "/* \"?\"-specific style due to the `<a>` HTML tag */\n",
              "\n",
              "#sk-container-id-1 a.estimator_doc_link {\n",
              "  float: right;\n",
              "  font-size: 1rem;\n",
              "  line-height: 1em;\n",
              "  font-family: monospace;\n",
              "  background-color: var(--sklearn-color-background);\n",
              "  border-radius: 1rem;\n",
              "  height: 1rem;\n",
              "  width: 1rem;\n",
              "  text-decoration: none;\n",
              "  /* unfitted */\n",
              "  color: var(--sklearn-color-unfitted-level-1);\n",
              "  border: var(--sklearn-color-unfitted-level-1) 1pt solid;\n",
              "}\n",
              "\n",
              "#sk-container-id-1 a.estimator_doc_link.fitted {\n",
              "  /* fitted */\n",
              "  border: var(--sklearn-color-fitted-level-1) 1pt solid;\n",
              "  color: var(--sklearn-color-fitted-level-1);\n",
              "}\n",
              "\n",
              "/* On hover */\n",
              "#sk-container-id-1 a.estimator_doc_link:hover {\n",
              "  /* unfitted */\n",
              "  background-color: var(--sklearn-color-unfitted-level-3);\n",
              "  color: var(--sklearn-color-background);\n",
              "  text-decoration: none;\n",
              "}\n",
              "\n",
              "#sk-container-id-1 a.estimator_doc_link.fitted:hover {\n",
              "  /* fitted */\n",
              "  background-color: var(--sklearn-color-fitted-level-3);\n",
              "}\n",
              "</style><div id=\"sk-container-id-1\" class=\"sk-top-container\"><div class=\"sk-text-repr-fallback\"><pre>GridSearchCV(cv=5, estimator=RandomForestClassifier(random_state=42), n_jobs=-1,\n",
              "             param_grid={&#x27;max_depth&#x27;: range(10, 50, 10),\n",
              "                         &#x27;n_estimators&#x27;: range(25, 100, 25)},\n",
              "             verbose=1)</pre><b>In a Jupyter environment, please rerun this cell to show the HTML representation or trust the notebook. <br />On GitHub, the HTML representation is unable to render, please try loading this page with nbviewer.org.</b></div><div class=\"sk-container\" hidden><div class=\"sk-item sk-dashed-wrapped\"><div class=\"sk-label-container\"><div class=\"sk-label fitted sk-toggleable\"><input class=\"sk-toggleable__control sk-hidden--visually\" id=\"sk-estimator-id-1\" type=\"checkbox\" ><label for=\"sk-estimator-id-1\" class=\"sk-toggleable__label fitted sk-toggleable__label-arrow fitted\">&nbsp;&nbsp;GridSearchCV<a class=\"sk-estimator-doc-link fitted\" rel=\"noreferrer\" target=\"_blank\" href=\"https://scikit-learn.org/1.5/modules/generated/sklearn.model_selection.GridSearchCV.html\">?<span>Documentation for GridSearchCV</span></a><span class=\"sk-estimator-doc-link fitted\">i<span>Fitted</span></span></label><div class=\"sk-toggleable__content fitted\"><pre>GridSearchCV(cv=5, estimator=RandomForestClassifier(random_state=42), n_jobs=-1,\n",
              "             param_grid={&#x27;max_depth&#x27;: range(10, 50, 10),\n",
              "                         &#x27;n_estimators&#x27;: range(25, 100, 25)},\n",
              "             verbose=1)</pre></div> </div></div><div class=\"sk-parallel\"><div class=\"sk-parallel-item\"><div class=\"sk-item\"><div class=\"sk-label-container\"><div class=\"sk-label fitted sk-toggleable\"><input class=\"sk-toggleable__control sk-hidden--visually\" id=\"sk-estimator-id-2\" type=\"checkbox\" ><label for=\"sk-estimator-id-2\" class=\"sk-toggleable__label fitted sk-toggleable__label-arrow fitted\">best_estimator_: RandomForestClassifier</label><div class=\"sk-toggleable__content fitted\"><pre>RandomForestClassifier(max_depth=40, n_estimators=75, random_state=42)</pre></div> </div></div><div class=\"sk-serial\"><div class=\"sk-item\"><div class=\"sk-estimator fitted sk-toggleable\"><input class=\"sk-toggleable__control sk-hidden--visually\" id=\"sk-estimator-id-3\" type=\"checkbox\" ><label for=\"sk-estimator-id-3\" class=\"sk-toggleable__label fitted sk-toggleable__label-arrow fitted\">&nbsp;RandomForestClassifier<a class=\"sk-estimator-doc-link fitted\" rel=\"noreferrer\" target=\"_blank\" href=\"https://scikit-learn.org/1.5/modules/generated/sklearn.ensemble.RandomForestClassifier.html\">?<span>Documentation for RandomForestClassifier</span></a></label><div class=\"sk-toggleable__content fitted\"><pre>RandomForestClassifier(max_depth=40, n_estimators=75, random_state=42)</pre></div> </div></div></div></div></div></div></div></div></div>"
            ]
          },
          "metadata": {},
          "execution_count": 26
        }
      ],
      "source": [
        "model.fit(X_train_over, y_train_over)"
      ]
    },
    {
      "cell_type": "markdown",
      "id": "053c6eea-f08a-4699-8502-3099f2ba6422",
      "metadata": {
        "deletable": false,
        "editable": false,
        "id": "053c6eea-f08a-4699-8502-3099f2ba6422"
      },
      "source": [
        "### Exercício:\n",
        "Extraia os resultados da validação cruzada do seu modelo e carregue-os em um DataFrame chamado <code>cv_results</code>. Observando os resultados, qual conjunto de hiperparâmetros levou ao melhor desempenho?"
      ]
    },
    {
      "cell_type": "code",
      "execution_count": 27,
      "id": "47e2ba81-a16c-4563-bb45-885eba3dc953",
      "metadata": {
        "deletable": false,
        "id": "47e2ba81-a16c-4563-bb45-885eba3dc953",
        "colab": {
          "base_uri": "https://localhost:8080/",
          "height": 486
        },
        "outputId": "787bba7e-a9b2-4e09-e1b4-2fe51efe6f33"
      },
      "outputs": [
        {
          "output_type": "execute_result",
          "data": {
            "text/plain": [
              "   mean_fit_time  std_fit_time  mean_score_time  std_score_time  \\\n",
              "0       1.783450      0.214452         0.028402        0.008390   \n",
              "1       2.183048      0.284339         0.020819        0.000970   \n",
              "2       3.734103      0.811905         0.032484        0.013686   \n",
              "3       1.463952      0.423724         0.020681        0.009417   \n",
              "4       2.413045      0.054431         0.024328        0.001406   \n",
              "\n",
              "   param_max_depth  param_n_estimators                                 params  \\\n",
              "0               10                  25  {'max_depth': 10, 'n_estimators': 25}   \n",
              "1               10                  50  {'max_depth': 10, 'n_estimators': 50}   \n",
              "2               10                  75  {'max_depth': 10, 'n_estimators': 75}   \n",
              "3               20                  25  {'max_depth': 20, 'n_estimators': 25}   \n",
              "4               20                  50  {'max_depth': 20, 'n_estimators': 50}   \n",
              "\n",
              "   split0_test_score  split1_test_score  split2_test_score  split3_test_score  \\\n",
              "0           0.981608           0.980032           0.979495           0.981073   \n",
              "1           0.983184           0.981608           0.977918           0.980021   \n",
              "2           0.983184           0.981083           0.977392           0.979495   \n",
              "3           0.990541           0.986863           0.985804           0.990011   \n",
              "4           0.990541           0.990016           0.987907           0.990011   \n",
              "\n",
              "   split4_test_score  mean_test_score  std_test_score  rank_test_score  \n",
              "0           0.980547         0.980551        0.000745               11  \n",
              "1           0.981073         0.980761        0.001750               10  \n",
              "2           0.981073         0.980445        0.001925               12  \n",
              "3           0.989485         0.988541        0.001863                9  \n",
              "4           0.990011         0.989697        0.000918                7  "
            ],
            "text/html": [
              "\n",
              "  <div id=\"df-d38ede1c-a9f2-47a5-8679-e59887740c9d\" class=\"colab-df-container\">\n",
              "    <div>\n",
              "<style scoped>\n",
              "    .dataframe tbody tr th:only-of-type {\n",
              "        vertical-align: middle;\n",
              "    }\n",
              "\n",
              "    .dataframe tbody tr th {\n",
              "        vertical-align: top;\n",
              "    }\n",
              "\n",
              "    .dataframe thead th {\n",
              "        text-align: right;\n",
              "    }\n",
              "</style>\n",
              "<table border=\"1\" class=\"dataframe\">\n",
              "  <thead>\n",
              "    <tr style=\"text-align: right;\">\n",
              "      <th></th>\n",
              "      <th>mean_fit_time</th>\n",
              "      <th>std_fit_time</th>\n",
              "      <th>mean_score_time</th>\n",
              "      <th>std_score_time</th>\n",
              "      <th>param_max_depth</th>\n",
              "      <th>param_n_estimators</th>\n",
              "      <th>params</th>\n",
              "      <th>split0_test_score</th>\n",
              "      <th>split1_test_score</th>\n",
              "      <th>split2_test_score</th>\n",
              "      <th>split3_test_score</th>\n",
              "      <th>split4_test_score</th>\n",
              "      <th>mean_test_score</th>\n",
              "      <th>std_test_score</th>\n",
              "      <th>rank_test_score</th>\n",
              "    </tr>\n",
              "  </thead>\n",
              "  <tbody>\n",
              "    <tr>\n",
              "      <th>0</th>\n",
              "      <td>1.783450</td>\n",
              "      <td>0.214452</td>\n",
              "      <td>0.028402</td>\n",
              "      <td>0.008390</td>\n",
              "      <td>10</td>\n",
              "      <td>25</td>\n",
              "      <td>{'max_depth': 10, 'n_estimators': 25}</td>\n",
              "      <td>0.981608</td>\n",
              "      <td>0.980032</td>\n",
              "      <td>0.979495</td>\n",
              "      <td>0.981073</td>\n",
              "      <td>0.980547</td>\n",
              "      <td>0.980551</td>\n",
              "      <td>0.000745</td>\n",
              "      <td>11</td>\n",
              "    </tr>\n",
              "    <tr>\n",
              "      <th>1</th>\n",
              "      <td>2.183048</td>\n",
              "      <td>0.284339</td>\n",
              "      <td>0.020819</td>\n",
              "      <td>0.000970</td>\n",
              "      <td>10</td>\n",
              "      <td>50</td>\n",
              "      <td>{'max_depth': 10, 'n_estimators': 50}</td>\n",
              "      <td>0.983184</td>\n",
              "      <td>0.981608</td>\n",
              "      <td>0.977918</td>\n",
              "      <td>0.980021</td>\n",
              "      <td>0.981073</td>\n",
              "      <td>0.980761</td>\n",
              "      <td>0.001750</td>\n",
              "      <td>10</td>\n",
              "    </tr>\n",
              "    <tr>\n",
              "      <th>2</th>\n",
              "      <td>3.734103</td>\n",
              "      <td>0.811905</td>\n",
              "      <td>0.032484</td>\n",
              "      <td>0.013686</td>\n",
              "      <td>10</td>\n",
              "      <td>75</td>\n",
              "      <td>{'max_depth': 10, 'n_estimators': 75}</td>\n",
              "      <td>0.983184</td>\n",
              "      <td>0.981083</td>\n",
              "      <td>0.977392</td>\n",
              "      <td>0.979495</td>\n",
              "      <td>0.981073</td>\n",
              "      <td>0.980445</td>\n",
              "      <td>0.001925</td>\n",
              "      <td>12</td>\n",
              "    </tr>\n",
              "    <tr>\n",
              "      <th>3</th>\n",
              "      <td>1.463952</td>\n",
              "      <td>0.423724</td>\n",
              "      <td>0.020681</td>\n",
              "      <td>0.009417</td>\n",
              "      <td>20</td>\n",
              "      <td>25</td>\n",
              "      <td>{'max_depth': 20, 'n_estimators': 25}</td>\n",
              "      <td>0.990541</td>\n",
              "      <td>0.986863</td>\n",
              "      <td>0.985804</td>\n",
              "      <td>0.990011</td>\n",
              "      <td>0.989485</td>\n",
              "      <td>0.988541</td>\n",
              "      <td>0.001863</td>\n",
              "      <td>9</td>\n",
              "    </tr>\n",
              "    <tr>\n",
              "      <th>4</th>\n",
              "      <td>2.413045</td>\n",
              "      <td>0.054431</td>\n",
              "      <td>0.024328</td>\n",
              "      <td>0.001406</td>\n",
              "      <td>20</td>\n",
              "      <td>50</td>\n",
              "      <td>{'max_depth': 20, 'n_estimators': 50}</td>\n",
              "      <td>0.990541</td>\n",
              "      <td>0.990016</td>\n",
              "      <td>0.987907</td>\n",
              "      <td>0.990011</td>\n",
              "      <td>0.990011</td>\n",
              "      <td>0.989697</td>\n",
              "      <td>0.000918</td>\n",
              "      <td>7</td>\n",
              "    </tr>\n",
              "  </tbody>\n",
              "</table>\n",
              "</div>\n",
              "    <div class=\"colab-df-buttons\">\n",
              "\n",
              "  <div class=\"colab-df-container\">\n",
              "    <button class=\"colab-df-convert\" onclick=\"convertToInteractive('df-d38ede1c-a9f2-47a5-8679-e59887740c9d')\"\n",
              "            title=\"Convert this dataframe to an interactive table.\"\n",
              "            style=\"display:none;\">\n",
              "\n",
              "  <svg xmlns=\"http://www.w3.org/2000/svg\" height=\"24px\" viewBox=\"0 -960 960 960\">\n",
              "    <path d=\"M120-120v-720h720v720H120Zm60-500h600v-160H180v160Zm220 220h160v-160H400v160Zm0 220h160v-160H400v160ZM180-400h160v-160H180v160Zm440 0h160v-160H620v160ZM180-180h160v-160H180v160Zm440 0h160v-160H620v160Z\"/>\n",
              "  </svg>\n",
              "    </button>\n",
              "\n",
              "  <style>\n",
              "    .colab-df-container {\n",
              "      display:flex;\n",
              "      gap: 12px;\n",
              "    }\n",
              "\n",
              "    .colab-df-convert {\n",
              "      background-color: #E8F0FE;\n",
              "      border: none;\n",
              "      border-radius: 50%;\n",
              "      cursor: pointer;\n",
              "      display: none;\n",
              "      fill: #1967D2;\n",
              "      height: 32px;\n",
              "      padding: 0 0 0 0;\n",
              "      width: 32px;\n",
              "    }\n",
              "\n",
              "    .colab-df-convert:hover {\n",
              "      background-color: #E2EBFA;\n",
              "      box-shadow: 0px 1px 2px rgba(60, 64, 67, 0.3), 0px 1px 3px 1px rgba(60, 64, 67, 0.15);\n",
              "      fill: #174EA6;\n",
              "    }\n",
              "\n",
              "    .colab-df-buttons div {\n",
              "      margin-bottom: 4px;\n",
              "    }\n",
              "\n",
              "    [theme=dark] .colab-df-convert {\n",
              "      background-color: #3B4455;\n",
              "      fill: #D2E3FC;\n",
              "    }\n",
              "\n",
              "    [theme=dark] .colab-df-convert:hover {\n",
              "      background-color: #434B5C;\n",
              "      box-shadow: 0px 1px 3px 1px rgba(0, 0, 0, 0.15);\n",
              "      filter: drop-shadow(0px 1px 2px rgba(0, 0, 0, 0.3));\n",
              "      fill: #FFFFFF;\n",
              "    }\n",
              "  </style>\n",
              "\n",
              "    <script>\n",
              "      const buttonEl =\n",
              "        document.querySelector('#df-d38ede1c-a9f2-47a5-8679-e59887740c9d button.colab-df-convert');\n",
              "      buttonEl.style.display =\n",
              "        google.colab.kernel.accessAllowed ? 'block' : 'none';\n",
              "\n",
              "      async function convertToInteractive(key) {\n",
              "        const element = document.querySelector('#df-d38ede1c-a9f2-47a5-8679-e59887740c9d');\n",
              "        const dataTable =\n",
              "          await google.colab.kernel.invokeFunction('convertToInteractive',\n",
              "                                                    [key], {});\n",
              "        if (!dataTable) return;\n",
              "\n",
              "        const docLinkHtml = 'Like what you see? Visit the ' +\n",
              "          '<a target=\"_blank\" href=https://colab.research.google.com/notebooks/data_table.ipynb>data table notebook</a>'\n",
              "          + ' to learn more about interactive tables.';\n",
              "        element.innerHTML = '';\n",
              "        dataTable['output_type'] = 'display_data';\n",
              "        await google.colab.output.renderOutput(dataTable, element);\n",
              "        const docLink = document.createElement('div');\n",
              "        docLink.innerHTML = docLinkHtml;\n",
              "        element.appendChild(docLink);\n",
              "      }\n",
              "    </script>\n",
              "  </div>\n",
              "\n",
              "\n",
              "<div id=\"df-d2f25afe-26e5-4e76-bed8-60e05dcaf189\">\n",
              "  <button class=\"colab-df-quickchart\" onclick=\"quickchart('df-d2f25afe-26e5-4e76-bed8-60e05dcaf189')\"\n",
              "            title=\"Suggest charts\"\n",
              "            style=\"display:none;\">\n",
              "\n",
              "<svg xmlns=\"http://www.w3.org/2000/svg\" height=\"24px\"viewBox=\"0 0 24 24\"\n",
              "     width=\"24px\">\n",
              "    <g>\n",
              "        <path d=\"M19 3H5c-1.1 0-2 .9-2 2v14c0 1.1.9 2 2 2h14c1.1 0 2-.9 2-2V5c0-1.1-.9-2-2-2zM9 17H7v-7h2v7zm4 0h-2V7h2v10zm4 0h-2v-4h2v4z\"/>\n",
              "    </g>\n",
              "</svg>\n",
              "  </button>\n",
              "\n",
              "<style>\n",
              "  .colab-df-quickchart {\n",
              "      --bg-color: #E8F0FE;\n",
              "      --fill-color: #1967D2;\n",
              "      --hover-bg-color: #E2EBFA;\n",
              "      --hover-fill-color: #174EA6;\n",
              "      --disabled-fill-color: #AAA;\n",
              "      --disabled-bg-color: #DDD;\n",
              "  }\n",
              "\n",
              "  [theme=dark] .colab-df-quickchart {\n",
              "      --bg-color: #3B4455;\n",
              "      --fill-color: #D2E3FC;\n",
              "      --hover-bg-color: #434B5C;\n",
              "      --hover-fill-color: #FFFFFF;\n",
              "      --disabled-bg-color: #3B4455;\n",
              "      --disabled-fill-color: #666;\n",
              "  }\n",
              "\n",
              "  .colab-df-quickchart {\n",
              "    background-color: var(--bg-color);\n",
              "    border: none;\n",
              "    border-radius: 50%;\n",
              "    cursor: pointer;\n",
              "    display: none;\n",
              "    fill: var(--fill-color);\n",
              "    height: 32px;\n",
              "    padding: 0;\n",
              "    width: 32px;\n",
              "  }\n",
              "\n",
              "  .colab-df-quickchart:hover {\n",
              "    background-color: var(--hover-bg-color);\n",
              "    box-shadow: 0 1px 2px rgba(60, 64, 67, 0.3), 0 1px 3px 1px rgba(60, 64, 67, 0.15);\n",
              "    fill: var(--button-hover-fill-color);\n",
              "  }\n",
              "\n",
              "  .colab-df-quickchart-complete:disabled,\n",
              "  .colab-df-quickchart-complete:disabled:hover {\n",
              "    background-color: var(--disabled-bg-color);\n",
              "    fill: var(--disabled-fill-color);\n",
              "    box-shadow: none;\n",
              "  }\n",
              "\n",
              "  .colab-df-spinner {\n",
              "    border: 2px solid var(--fill-color);\n",
              "    border-color: transparent;\n",
              "    border-bottom-color: var(--fill-color);\n",
              "    animation:\n",
              "      spin 1s steps(1) infinite;\n",
              "  }\n",
              "\n",
              "  @keyframes spin {\n",
              "    0% {\n",
              "      border-color: transparent;\n",
              "      border-bottom-color: var(--fill-color);\n",
              "      border-left-color: var(--fill-color);\n",
              "    }\n",
              "    20% {\n",
              "      border-color: transparent;\n",
              "      border-left-color: var(--fill-color);\n",
              "      border-top-color: var(--fill-color);\n",
              "    }\n",
              "    30% {\n",
              "      border-color: transparent;\n",
              "      border-left-color: var(--fill-color);\n",
              "      border-top-color: var(--fill-color);\n",
              "      border-right-color: var(--fill-color);\n",
              "    }\n",
              "    40% {\n",
              "      border-color: transparent;\n",
              "      border-right-color: var(--fill-color);\n",
              "      border-top-color: var(--fill-color);\n",
              "    }\n",
              "    60% {\n",
              "      border-color: transparent;\n",
              "      border-right-color: var(--fill-color);\n",
              "    }\n",
              "    80% {\n",
              "      border-color: transparent;\n",
              "      border-right-color: var(--fill-color);\n",
              "      border-bottom-color: var(--fill-color);\n",
              "    }\n",
              "    90% {\n",
              "      border-color: transparent;\n",
              "      border-bottom-color: var(--fill-color);\n",
              "    }\n",
              "  }\n",
              "</style>\n",
              "\n",
              "  <script>\n",
              "    async function quickchart(key) {\n",
              "      const quickchartButtonEl =\n",
              "        document.querySelector('#' + key + ' button');\n",
              "      quickchartButtonEl.disabled = true;  // To prevent multiple clicks.\n",
              "      quickchartButtonEl.classList.add('colab-df-spinner');\n",
              "      try {\n",
              "        const charts = await google.colab.kernel.invokeFunction(\n",
              "            'suggestCharts', [key], {});\n",
              "      } catch (error) {\n",
              "        console.error('Error during call to suggestCharts:', error);\n",
              "      }\n",
              "      quickchartButtonEl.classList.remove('colab-df-spinner');\n",
              "      quickchartButtonEl.classList.add('colab-df-quickchart-complete');\n",
              "    }\n",
              "    (() => {\n",
              "      let quickchartButtonEl =\n",
              "        document.querySelector('#df-d2f25afe-26e5-4e76-bed8-60e05dcaf189 button');\n",
              "      quickchartButtonEl.style.display =\n",
              "        google.colab.kernel.accessAllowed ? 'block' : 'none';\n",
              "    })();\n",
              "  </script>\n",
              "</div>\n",
              "\n",
              "    </div>\n",
              "  </div>\n"
            ],
            "application/vnd.google.colaboratory.intrinsic+json": {
              "type": "dataframe",
              "variable_name": "cv_results",
              "summary": "{\n  \"name\": \"cv_results\",\n  \"rows\": 12,\n  \"fields\": [\n    {\n      \"column\": \"mean_fit_time\",\n      \"properties\": {\n        \"dtype\": \"number\",\n        \"std\": 1.2822322005583395,\n        \"min\": 1.3427493572235107,\n        \"max\": 5.017464303970337,\n        \"num_unique_values\": 12,\n        \"samples\": [\n          2.87115364074707,\n          1.8550326824188232,\n          1.7834504127502442\n        ],\n        \"semantic_type\": \"\",\n        \"description\": \"\"\n      }\n    },\n    {\n      \"column\": \"std_fit_time\",\n      \"properties\": {\n        \"dtype\": \"number\",\n        \"std\": 0.31027218826189645,\n        \"min\": 0.04352018138528805,\n        \"max\": 0.9751575395286788,\n        \"num_unique_values\": 12,\n        \"samples\": [\n          0.22035111638643962,\n          0.4681938076069511,\n          0.2144519223704253\n        ],\n        \"semantic_type\": \"\",\n        \"description\": \"\"\n      }\n    },\n    {\n      \"column\": \"mean_score_time\",\n      \"properties\": {\n        \"dtype\": \"number\",\n        \"std\": 0.010027300018904617,\n        \"min\": 0.016486358642578126,\n        \"max\": 0.05215749740600586,\n        \"num_unique_values\": 12,\n        \"samples\": [\n          0.0381678581237793,\n          0.02221503257751465,\n          0.028401565551757813\n        ],\n        \"semantic_type\": \"\",\n        \"description\": \"\"\n      }\n    },\n    {\n      \"column\": \"std_score_time\",\n      \"properties\": {\n        \"dtype\": \"number\",\n        \"std\": 0.007036824027724945,\n        \"min\": 0.00023793488074063638,\n        \"max\": 0.023027771533698928,\n        \"num_unique_values\": 12,\n        \"samples\": [\n          0.016175482601198735,\n          0.00828365049018657,\n          0.008390232013141371\n        ],\n        \"semantic_type\": \"\",\n        \"description\": \"\"\n      }\n    },\n    {\n      \"column\": \"param_max_depth\",\n      \"properties\": {\n        \"dtype\": \"number\",\n        \"std\": 11,\n        \"min\": 10,\n        \"max\": 40,\n        \"num_unique_values\": 4,\n        \"samples\": [\n          20,\n          40,\n          10\n        ],\n        \"semantic_type\": \"\",\n        \"description\": \"\"\n      }\n    },\n    {\n      \"column\": \"param_n_estimators\",\n      \"properties\": {\n        \"dtype\": \"number\",\n        \"std\": 21,\n        \"min\": 25,\n        \"max\": 75,\n        \"num_unique_values\": 3,\n        \"samples\": [\n          25,\n          50,\n          75\n        ],\n        \"semantic_type\": \"\",\n        \"description\": \"\"\n      }\n    },\n    {\n      \"column\": \"params\",\n      \"properties\": {\n        \"dtype\": \"object\",\n        \"semantic_type\": \"\",\n        \"description\": \"\"\n      }\n    },\n    {\n      \"column\": \"split0_test_score\",\n      \"properties\": {\n        \"dtype\": \"number\",\n        \"std\": 0.0043877205213804825,\n        \"min\": 0.9816079873883342,\n        \"max\": 0.9942196531791907,\n        \"num_unique_values\": 7,\n        \"samples\": [\n          0.9816079873883342,\n          0.9831844456121913,\n          0.9921177088807147\n        ],\n        \"semantic_type\": \"\",\n        \"description\": \"\"\n      }\n    },\n    {\n      \"column\": \"split1_test_score\",\n      \"properties\": {\n        \"dtype\": \"number\",\n        \"std\": 0.005767122159813299,\n        \"min\": 0.9800315291644771,\n        \"max\": 0.9952706253284288,\n        \"num_unique_values\": 10,\n        \"samples\": [\n          0.9952706253284288,\n          0.9816079873883342,\n          0.9894902785076195\n        ],\n        \"semantic_type\": \"\",\n        \"description\": \"\"\n      }\n    },\n    {\n      \"column\": \"split2_test_score\",\n      \"properties\": {\n        \"dtype\": \"number\",\n        \"std\": 0.006617596863680251,\n        \"min\": 0.9773922187171399,\n        \"max\": 0.9947423764458465,\n        \"num_unique_values\": 10,\n        \"samples\": [\n          0.9947423764458465,\n          0.9779179810725552,\n          0.9873817034700315\n        ],\n        \"semantic_type\": \"\",\n        \"description\": \"\"\n      }\n    },\n    {\n      \"column\": \"split3_test_score\",\n      \"properties\": {\n        \"dtype\": \"number\",\n        \"std\": 0.005713257382650917,\n        \"min\": 0.9794952681388013,\n        \"max\": 0.9942166140904312,\n        \"num_unique_values\": 8,\n        \"samples\": [\n          0.9800210304942166,\n          0.9931650893796005,\n          0.9810725552050473\n        ],\n        \"semantic_type\": \"\",\n        \"description\": \"\"\n      }\n    },\n    {\n      \"column\": \"split4_test_score\",\n      \"properties\": {\n        \"dtype\": \"number\",\n        \"std\": 0.005993914457284559,\n        \"min\": 0.980546792849632,\n        \"max\": 0.9963196635120926,\n        \"num_unique_values\": 9,\n        \"samples\": [\n          0.9963196635120926,\n          0.9810725552050473,\n          0.9942166140904312\n        ],\n        \"semantic_type\": \"\",\n        \"description\": \"\"\n      }\n    },\n    {\n      \"column\": \"mean_test_score\",\n      \"properties\": {\n        \"dtype\": \"number\",\n        \"std\": 0.005643883724394945,\n        \"min\": 0.9804453977973789,\n        \"max\": 0.9944282451804197,\n        \"num_unique_values\": 12,\n        \"samples\": [\n          0.9944281899242604,\n          0.994217829725935,\n          0.9805508265492584\n        ],\n        \"semantic_type\": \"\",\n        \"description\": \"\"\n      }\n    },\n    {\n      \"column\": \"std_test_score\",\n      \"properties\": {\n        \"dtype\": \"number\",\n        \"std\": 0.00048773263094225883,\n        \"min\": 0.0005366323602706365,\n        \"max\": 0.0019249030677137042,\n        \"num_unique_values\": 12,\n        \"samples\": [\n          0.001269803821189373,\n          0.0005759457282598701,\n          0.0007448059388064685\n        ],\n        \"semantic_type\": \"\",\n        \"description\": \"\"\n      }\n    },\n    {\n      \"column\": \"rank_test_score\",\n      \"properties\": {\n        \"dtype\": \"int32\",\n        \"num_unique_values\": 12,\n        \"samples\": [\n          2,\n          3,\n          11\n        ],\n        \"semantic_type\": \"\",\n        \"description\": \"\"\n      }\n    }\n  ]\n}"
            }
          },
          "metadata": {},
          "execution_count": 27
        }
      ],
      "source": [
        "cv_results = pd.DataFrame(model.cv_results_)\n",
        "cv_results.head(5)"
      ]
    },
    {
      "cell_type": "markdown",
      "id": "3664fb33-2b5d-426d-af7f-0daa582575cc",
      "metadata": {
        "deletable": false,
        "editable": false,
        "id": "3664fb33-2b5d-426d-af7f-0daa582575cc"
      },
      "source": [
        "### Exercício:\n",
        "Extraia os melhores hiperparâmetros do seu modelo e atribua-os à variável <code>best_params</code>."
      ]
    },
    {
      "cell_type": "code",
      "execution_count": 28,
      "id": "5bca6dd7-0711-4a4c-8c10-848bbdbba92c",
      "metadata": {
        "deletable": false,
        "id": "5bca6dd7-0711-4a4c-8c10-848bbdbba92c",
        "colab": {
          "base_uri": "https://localhost:8080/"
        },
        "outputId": "5a1ff46a-a516-4dfe-e6ed-c5cc42f8457d"
      },
      "outputs": [
        {
          "output_type": "stream",
          "name": "stdout",
          "text": [
            "{'max_depth': 40, 'n_estimators': 75}\n"
          ]
        }
      ],
      "source": [
        "best_params = model.best_params_\n",
        "print(best_params)"
      ]
    },
    {
      "cell_type": "markdown",
      "id": "6dbab4ae-2376-4a5a-b92e-ccd4bd39ec88",
      "metadata": {
        "deletable": false,
        "editable": false,
        "id": "6dbab4ae-2376-4a5a-b92e-ccd4bd39ec88"
      },
      "source": [
        "## Avaliar"
      ]
    },
    {
      "cell_type": "markdown",
      "id": "546758ef-9a65-4275-bdf8-0bd3e43c0b30",
      "metadata": {
        "deletable": false,
        "editable": false,
        "id": "546758ef-9a65-4275-bdf8-0bd3e43c0b30"
      },
      "source": [
        "### Exercício:\n",
        "Teste a qualidade do seu modelo calculando as pontuações de precisão para os dados de treinamento e teste."
      ]
    },
    {
      "cell_type": "code",
      "execution_count": 29,
      "id": "428e0694-ede2-40ff-aa6f-9cb8665ce024",
      "metadata": {
        "deletable": false,
        "id": "428e0694-ede2-40ff-aa6f-9cb8665ce024",
        "colab": {
          "base_uri": "https://localhost:8080/"
        },
        "outputId": "b0ce1dee-ae93-46d6-8daa-b8dd5ebb6327"
      },
      "outputs": [
        {
          "output_type": "stream",
          "name": "stdout",
          "text": [
            "Model Training Accuracy: 1.0\n",
            "Model Test Accuracy: 0.9764\n"
          ]
        }
      ],
      "source": [
        "acc_train = model.score(X_train, y_train)\n",
        "acc_test = model.score(X_test, y_test)\n",
        "\n",
        "print(\"Model Training Accuracy:\", round(acc_train, 4))\n",
        "print(\"Model Test Accuracy:\", round(acc_test, 4))"
      ]
    },
    {
      "cell_type": "markdown",
      "id": "00e35b54-acc0-47ea-b053-75212c0b631c",
      "metadata": {
        "deletable": false,
        "editable": false,
        "id": "00e35b54-acc0-47ea-b053-75212c0b631c"
      },
      "source": [
        "### Exercício:\n",
        "Plote uma matriz de confusão que mostre como seu modelo se desempenhou em seu conjunto de teste."
      ]
    },
    {
      "cell_type": "code",
      "execution_count": 30,
      "id": "4d6875a6-62b7-4198-b8a2-5871dd7dd156",
      "metadata": {
        "deletable": false,
        "id": "4d6875a6-62b7-4198-b8a2-5871dd7dd156",
        "colab": {
          "base_uri": "https://localhost:8080/",
          "height": 466
        },
        "outputId": "7c020bbc-ae34-4c87-fa16-1979128e918b"
      },
      "outputs": [
        {
          "output_type": "execute_result",
          "data": {
            "text/plain": [
              "<sklearn.metrics._plot.confusion_matrix.ConfusionMatrixDisplay at 0x786cd804a4a0>"
            ]
          },
          "metadata": {},
          "execution_count": 30
        },
        {
          "output_type": "display_data",
          "data": {
            "text/plain": [
              "<Figure size 640x480 with 2 Axes>"
            ],
            "image/png": "[encoded data removed]"
          },
          "metadata": {}
        }
      ],
      "source": [
        "ConfusionMatrixDisplay.from_estimator(model, X_test, y_test)"
      ]
    },
    {
      "cell_type": "markdown",
      "id": "5d31978d-b6d8-4397-a884-0ab6d9dc5ddb",
      "metadata": {
        "deletable": false,
        "editable": false,
        "id": "5d31978d-b6d8-4397-a884-0ab6d9dc5ddb"
      },
      "source": [
        "### Exercício:\n",
        "Gere um relatório de classificação para o desempenho do seu modelo nos dados de teste e atribua-o à variável `class_report`."
      ]
    },
    {
      "cell_type": "code",
      "execution_count": 31,
      "id": "0b04df35-1326-482b-b86c-489f3eeb992f",
      "metadata": {
        "deletable": false,
        "id": "0b04df35-1326-482b-b86c-489f3eeb992f",
        "colab": {
          "base_uri": "https://localhost:8080/"
        },
        "outputId": "8c08c27b-398d-4f40-affc-44584fe6cc01"
      },
      "outputs": [
        {
          "output_type": "stream",
          "name": "stdout",
          "text": [
            "              precision    recall  f1-score   support\n",
            "\n",
            "       False       0.98      0.99      0.99      1191\n",
            "        True       0.68      0.41      0.51        37\n",
            "\n",
            "    accuracy                           0.98      1228\n",
            "   macro avg       0.83      0.70      0.75      1228\n",
            "weighted avg       0.97      0.98      0.97      1228\n",
            "\n"
          ]
        }
      ],
      "source": [
        "class_report = classification_report(y_test, model.predict(X_test))\n",
        "print(class_report)"
      ]
    },
    {
      "cell_type": "markdown",
      "id": "64153890-7c5d-4b8d-9265-08444c4c3068",
      "metadata": {
        "deletable": false,
        "editable": false,
        "id": "64153890-7c5d-4b8d-9265-08444c4c3068"
      },
      "source": [
        "# Comunicar Resultados"
      ]
    },
    {
      "cell_type": "markdown",
      "id": "bd293667-cf33-4645-9a6d-6102fed6a8b8",
      "metadata": {
        "deletable": false,
        "editable": false,
        "id": "bd293667-cf33-4645-9a6d-6102fed6a8b8"
      },
      "source": [
        "### Exercício:\n",
        "Crie um gráfico de barras horizontal com as 10 características mais importantes para o seu modelo. Certifique-se de rotular o eixo x como `\"Gini Importance\"`, o eixo y como `\"Feature\"` e usar o título `\"Feature Importance\"`."
      ]
    },
    {
      "cell_type": "code",
      "execution_count": 34,
      "id": "682d409c-30bd-43b2-8fa9-942b241b26f0",
      "metadata": {
        "deletable": false,
        "id": "682d409c-30bd-43b2-8fa9-942b241b26f0",
        "colab": {
          "base_uri": "https://localhost:8080/",
          "height": 472
        },
        "outputId": "1edb3cc7-f5e7-4a2f-9576-1f736dd83991"
      },
      "outputs": [
        {
          "output_type": "display_data",
          "data": {
            "text/plain": [
              "<Figure size 640x480 with 1 Axes>"
            ],
            "image/png": "[encoded data removed]"
          },
          "metadata": {}
        }
      ],
      "source": [
        "features = X_train.columns\n",
        "importances = model.best_estimator_.feature_importances_\n",
        "feat_imp = pd.Series(importances, index=features).sort_values()\n",
        "\n",
        "feat_imp.tail(10).plot(kind='barh')\n",
        "plt.xlabel(\"Gini Importance\")\n",
        "plt.ylabel(\"Feature\")\n",
        "plt.title(\"Feature Importance\");"
      ]
    },
    {
      "cell_type": "markdown",
      "id": "1edec385-98f2-4d33-95a6-72ee4378038c",
      "metadata": {
        "deletable": false,
        "editable": false,
        "id": "1edec385-98f2-4d33-95a6-72ee4378038c"
      },
      "source": [
        "### Exercício:\n",
        "Salve seu modelo de melhor desempenho em um arquivo nomeado <code>\"model-5-5.pkl\"</code>."
      ]
    },
    {
      "cell_type": "code",
      "execution_count": 37,
      "id": "418d11d0-1f01-4f41-b248-7f9f6fd0bf55",
      "metadata": {
        "deletable": false,
        "id": "418d11d0-1f01-4f41-b248-7f9f6fd0bf55"
      },
      "outputs": [],
      "source": [
        "# Save model\n",
        "with open('model.pkl','wb') as arq:\n",
        "  pickle.dump(model, arq)"
      ]
    },
    {
      "cell_type": "markdown",
      "id": "93cae90c-fdfd-4295-8bca-0a670185e86a",
      "metadata": {
        "deletable": false,
        "editable": false,
        "id": "93cae90c-fdfd-4295-8bca-0a670185e86a"
      },
      "source": [
        "### Exercício:\n",
        "Abra o arquivo <code>my_predictor_assignment.py</code>. Adicione sua função `wrangle` e, em seguida, crie uma função `make_predictions` que recebe dois argumentos: `data_filepath` e <code>model_filepath</code>. Use a célula abaixo para testar seu módulo. Quando estiver satisfeito com o resultado, envie-o para o avaliador."
      ]
    },
    {
      "cell_type": "code",
      "execution_count": 41,
      "id": "8708d162-ebf0-4f11-92f1-05f65088f576",
      "metadata": {
        "deletable": false,
        "id": "8708d162-ebf0-4f11-92f1-05f65088f576",
        "colab": {
          "base_uri": "https://localhost:8080/",
          "height": 289
        },
        "outputId": "055376d1-4379-4f2f-dc53-0ae2a8a92ec9"
      },
      "outputs": [
        {
          "output_type": "stream",
          "name": "stdout",
          "text": [
            "predictions shape: (682,)\n"
          ]
        },
        {
          "output_type": "execute_result",
          "data": {
            "text/plain": [
              "id\n",
              "18    False\n",
              "20    False\n",
              "24    False\n",
              "32    False\n",
              "38    False\n",
              "Name: bankrupt, dtype: bool"
            ],
            "text/html": [
              "<div>\n",
              "<style scoped>\n",
              "    .dataframe tbody tr th:only-of-type {\n",
              "        vertical-align: middle;\n",
              "    }\n",
              "\n",
              "    .dataframe tbody tr th {\n",
              "        vertical-align: top;\n",
              "    }\n",
              "\n",
              "    .dataframe thead th {\n",
              "        text-align: right;\n",
              "    }\n",
              "</style>\n",
              "<table border=\"1\" class=\"dataframe\">\n",
              "  <thead>\n",
              "    <tr style=\"text-align: right;\">\n",
              "      <th></th>\n",
              "      <th>bankrupt</th>\n",
              "    </tr>\n",
              "    <tr>\n",
              "      <th>id</th>\n",
              "      <th></th>\n",
              "    </tr>\n",
              "  </thead>\n",
              "  <tbody>\n",
              "    <tr>\n",
              "      <th>18</th>\n",
              "      <td>False</td>\n",
              "    </tr>\n",
              "    <tr>\n",
              "      <th>20</th>\n",
              "      <td>False</td>\n",
              "    </tr>\n",
              "    <tr>\n",
              "      <th>24</th>\n",
              "      <td>False</td>\n",
              "    </tr>\n",
              "    <tr>\n",
              "      <th>32</th>\n",
              "      <td>False</td>\n",
              "    </tr>\n",
              "    <tr>\n",
              "      <th>38</th>\n",
              "      <td>False</td>\n",
              "    </tr>\n",
              "  </tbody>\n",
              "</table>\n",
              "</div><br><label><b>dtype:</b> bool</label>"
            ]
          },
          "metadata": {},
          "execution_count": 41
        }
      ],
      "source": [
        "# Import your module\n",
        "from my_predictor import make_predictions\n",
        "\n",
        "# Generate predictions\n",
        "y_test_pred = make_predictions(\n",
        "    data_filepath=\"/content/taiwan-bankruptcy-data-test-features.json.gz\",\n",
        "    model_filepath=\"model.pkl\",\n",
        ")\n",
        "\n",
        "print(\"predictions shape:\", y_test_pred.shape)\n",
        "y_test_pred.head()"
      ]
    },
    {
      "cell_type": "markdown",
      "id": "e96df798-3221-44d6-876a-3488c1772300",
      "metadata": {
        "deletable": false,
        "editable": false,
        "id": "e96df798-3221-44d6-876a-3488c1772300"
      },
      "source": [
        "<div class=\"alert alert-info\" role=\"alert\">\n",
        "    <b>Dica:</b> Se você receber um <code style=\"color:#E45E5C;background-color:#FEDDDE\">ImportError</code> ao tentar importar <code>make_predictions</code> de <code>my_predictor_assignment</code>, tente reiniciar seu kernel. Vá ao menu <b>Kernel</b> e clique em <b>Reiniciar Kernel e Limpar Todas as Saídas</b>. Em seguida, execute apenas a célula acima. ☝️\n",
        "</div>"
      ]
    }
  ],
  "metadata": {
    "kernelspec": {
      "display_name": "Python 3 (ipykernel)",
      "language": "python",
      "name": "python3"
    },
    "language_info": {
      "codemirror_mode": {
        "name": "ipython",
        "version": 3
      },
      "file_extension": ".py",
      "mimetype": "text/x-python",
      "name": "python",
      "nbconvert_exporter": "python",
      "pygments_lexer": "ipython3",
      "version": "3.11.4"
    },
    "toc-autonumbering": false,
    "colab": {
      "provenance": []
    }
  },
  "nbformat": 4,
  "nbformat_minor": 5
}