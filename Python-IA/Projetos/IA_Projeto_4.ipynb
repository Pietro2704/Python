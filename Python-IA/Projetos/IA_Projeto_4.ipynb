{
  "cells": [
    {
      "cell_type": "markdown",
      "id": "eaf66f20-bac8-428a-b20f-2ffd9451d889",
      "metadata": {
        "deletable": false,
        "editable": false,
        "id": "eaf66f20-bac8-428a-b20f-2ffd9451d889"
      },
      "source": [
        "# Small Business Owners in the United State"
      ]
    },
    {
      "cell_type": "markdown",
      "id": "8678b1d2-e6a0-4fdd-af08-f79488580ae5",
      "metadata": {
        "deletable": false,
        "editable": false,
        "id": "8678b1d2-e6a0-4fdd-af08-f79488580ae5"
      },
      "source": [
        "Neste trabalho, você vai focar nos proprietários de negócios nos Estados Unidos. Você começará examinando algumas características demográficas desse grupo, como idade, categoria de renda e dívida em relação ao valor do imóvel. Em seguida, você selecionará as características de alta variância e criará um modelo de agrupamento para dividir os pequenos empresários em subgrupos. Finalmente, você criará algumas visualizações para destacar as diferenças entre esses subgrupos. Boa sorte! 🍀"
      ]
    },
    {
      "cell_type": "code",
      "execution_count": null,
      "id": "a8555d1a-b9e8-4dc9-a5c3-e8946c31b35f",
      "metadata": {
        "deletable": false,
        "id": "a8555d1a-b9e8-4dc9-a5c3-e8946c31b35f"
      },
      "outputs": [],
      "source": [
        "# Import libraries here\n"
      ]
    },
    {
      "cell_type": "markdown",
      "id": "1576e1a0-c324-4cef-b0a2-1b9f3a57d03f",
      "metadata": {
        "deletable": false,
        "editable": false,
        "id": "1576e1a0-c324-4cef-b0a2-1b9f3a57d03f"
      },
      "source": [
        "# Preparando Dados"
      ]
    },
    {
      "cell_type": "markdown",
      "id": "ed7add58-2e20-46cf-8eae-de94f7da3b9f",
      "metadata": {
        "deletable": false,
        "editable": false,
        "id": "ed7add58-2e20-46cf-8eae-de94f7da3b9f"
      },
      "source": [
        "## Importação"
      ]
    },
    {
      "cell_type": "markdown",
      "id": "fe611a88-176a-4c58-b155-a10e088eed94",
      "metadata": {
        "deletable": false,
        "editable": false,
        "id": "fe611a88-176a-4c58-b155-a10e088eed94"
      },
      "source": [
        "Vamos começar importando nossos dados para o trabalho."
      ]
    },
    {
      "cell_type": "markdown",
      "id": "f96b9129-a4ab-47c1-8d19-2297beb9e33d",
      "metadata": {
        "deletable": false,
        "editable": false,
        "id": "f96b9129-a4ab-47c1-8d19-2297beb9e33d"
      },
      "source": [
        "### Exercício:\n",
        "Leia o arquivo `\"data/SCFP2019.csv.gz\"` no DataFrame `df`."
      ]
    },
    {
      "cell_type": "code",
      "execution_count": null,
      "id": "2f78f00e-097e-45c4-9ea4-8a0149d51026",
      "metadata": {
        "deletable": false,
        "id": "2f78f00e-097e-45c4-9ea4-8a0149d51026"
      },
      "outputs": [],
      "source": [
        "df = ...\n",
        "print(\"df shape:\", df.shape)\n",
        "df.head()"
      ]
    },
    {
      "cell_type": "markdown",
      "id": "4e80136a-eca6-4c03-9b46-0776f30d1a41",
      "metadata": {
        "deletable": false,
        "editable": false,
        "id": "4e80136a-eca6-4c03-9b46-0776f30d1a41"
      },
      "source": [
        "## Explorar"
      ]
    },
    {
      "cell_type": "markdown",
      "id": "380628f9-502e-4cbd-9472-0a49f7f39bc9",
      "metadata": {
        "deletable": false,
        "editable": false,
        "id": "380628f9-502e-4cbd-9472-0a49f7f39bc9"
      },
      "source": [
        "Como mencionado no início deste trabalho, você está focando nos proprietários de negócios. Mas qual é a porcentagem dos respondentes em `df` que são proprietários de negócios?"
      ]
    },
    {
      "cell_type": "markdown",
      "id": "79ce64e2-381e-4b20-8aad-bd097367fffd",
      "metadata": {
        "deletable": false,
        "editable": false,
        "id": "79ce64e2-381e-4b20-8aad-bd097367fffd"
      },
      "source": [
        "### Exercício:\n",
        "Calcule a proporção de respondentes em `df` que são proprietários de negócios e atribua o resultado à variável `prop_biz_owners`. Você precisará revisar a documentação referente à coluna `\"HBUS\"` para concluir essas tarefas."
      ]
    },
    {
      "cell_type": "code",
      "execution_count": null,
      "id": "8fb64979-1988-4f2c-b77e-3ba4e74a4977",
      "metadata": {
        "deletable": false,
        "id": "8fb64979-1988-4f2c-b77e-3ba4e74a4977"
      },
      "outputs": [],
      "source": [
        "prop_biz_owners = ...\n",
        "print(\"proportion of business owners in df:\", prop_biz_owners)"
      ]
    },
    {
      "cell_type": "markdown",
      "id": "ee42fb89-d051-4e9d-9b66-f2eb81284a28",
      "metadata": {
        "deletable": false,
        "editable": false,
        "id": "ee42fb89-d051-4e9d-9b66-f2eb81284a28"
      },
      "source": [
        "A distribuição de renda é diferente para proprietários de negócios e não proprietários de negócios?"
      ]
    },
    {
      "cell_type": "markdown",
      "id": "de5dcf89-85d2-4148-9f5e-dfdef1ee4596",
      "metadata": {
        "deletable": false,
        "editable": false,
        "id": "de5dcf89-85d2-4148-9f5e-dfdef1ee4596"
      },
      "source": [
        "### Exercício:\n",
        "Crie um DataFrame `df_inccat` que mostre a frequência normalizada das categorias de renda para proprietários de negócios e não proprietários de negócios. Seu DataFrame final deve se parecer com algo assim:\n",
        "\n",
        "```\n",
        "    HBUS   INCCAT  frequency\n",
        "0      0     0-20   0.210348\n",
        "1      0  21-39.9   0.198140\n",
        "...\n",
        "11     1     0-20   0.041188\n",
        "```"
      ]
    },
    {
      "cell_type": "code",
      "execution_count": null,
      "id": "7ed3832d-8456-499a-8ce7-81abf061a534",
      "metadata": {
        "deletable": false,
        "id": "7ed3832d-8456-499a-8ce7-81abf061a534"
      },
      "outputs": [],
      "source": [
        "inccat_dict = {\n",
        "    1: \"0-20\",\n",
        "    2: \"21-39.9\",\n",
        "    3: \"40-59.9\",\n",
        "    4: \"60-79.9\",\n",
        "    5: \"80-89.9\",\n",
        "    6: \"90-100\",\n",
        "}\n",
        "\n",
        "df_inccat = ...\n",
        "\n",
        "df_inccat"
      ]
    },
    {
      "cell_type": "markdown",
      "id": "f7dda946-db04-434a-862f-6f34143f55d3",
      "metadata": {
        "deletable": false,
        "editable": false,
        "id": "f7dda946-db04-434a-862f-6f34143f55d3"
      },
      "source": [
        "### Exercício:\n",
        "Usando o seaborn, crie um gráfico de barras lado a lado de `df_inccat`. Defina `hue` como `\"HBUS\"` e certifique-se de que as categorias de renda estejam na ordem correta ao longo do eixo x. Rotule o eixo x como `\"Categoria de Renda\"`, o eixo y como `\"Frequência (%)\"` e use o título `\"Distribuição de Renda: Proprietários de Negócios vs. Não Proprietários de Negócios\"`."
      ]
    },
    {
      "cell_type": "code",
      "execution_count": null,
      "id": "c986bda0-ee6e-495b-9185-155b97d49314",
      "metadata": {
        "deletable": false,
        "id": "c986bda0-ee6e-495b-9185-155b97d49314"
      },
      "outputs": [],
      "source": [
        "# Create bar chart of `df_inccat`\n",
        "\n"
      ]
    },
    {
      "cell_type": "markdown",
      "id": "579afd36-0d9b-49a1-9d3b-6aab29e72719",
      "metadata": {
        "deletable": false,
        "editable": false,
        "id": "579afd36-0d9b-49a1-9d3b-6aab29e72719"
      },
      "source": [
        "Nós analisamos a relação entre o valor do imóvel e a dívida da casa no contexto dos temerosos de crédito, mas e quanto aos proprietários de negócios? Existem diferenças notáveis entre proprietários de negócios e não proprietários de negócios?"
      ]
    },
    {
      "cell_type": "markdown",
      "id": "b8ce1e69-92db-4059-86d8-83f592f8a423",
      "metadata": {
        "deletable": false,
        "editable": false,
        "id": "b8ce1e69-92db-4059-86d8-83f592f8a423"
      },
      "source": [
        "### Exercício:\n",
        "Usando o seaborn, crie um gráfico de dispersão que mostre `\"HOUSES\"` em relação a `\"DEBT\"`. Você deve colorir os pontos de dados de acordo com a propriedade de negócios. Certifique-se de rotular o eixo x como `\"Dívida da Casa\"`, o eixo y como `\"Valor do Imóvel\"` e usar o título `\"Valor do Imóvel vs. Dívida da Casa\"`."
      ]
    },
    {
      "cell_type": "code",
      "execution_count": null,
      "id": "8ace27c9-20a6-4964-945c-b8597240a342",
      "metadata": {
        "deletable": false,
        "id": "8ace27c9-20a6-4964-945c-b8597240a342"
      },
      "outputs": [],
      "source": [
        "# Plot \"HOUSES\" vs \"DEBT\" with hue as business ownership\n",
        "\n"
      ]
    },
    {
      "cell_type": "markdown",
      "id": "18a9f681-75f9-44ef-acd7-0708703182fd",
      "metadata": {
        "deletable": false,
        "editable": false,
        "id": "18a9f681-75f9-44ef-acd7-0708703182fd"
      },
      "source": [
        "Para a parte de construção do modelo do trabalho, você vai se concentrar nos pequenos proprietários de negócios, definidos como respondentes que têm um negócio e cuja renda não excede \\$500.000."
      ]
    },
    {
      "cell_type": "markdown",
      "id": "12832ea1-4d20-431c-9f4e-a221aeebba48",
      "metadata": {
        "deletable": false,
        "editable": false,
        "id": "12832ea1-4d20-431c-9f4e-a221aeebba48"
      },
      "source": [
        "### Exercício:\n",
        "Crie um novo DataFrame `df_small_biz` que contenha apenas os proprietários de negócios cuja renda é inferior a \\$500.000."
      ]
    },
    {
      "cell_type": "code",
      "execution_count": null,
      "id": "54386eea-e699-4d7a-9f7f-433d800f3267",
      "metadata": {
        "deletable": false,
        "id": "54386eea-e699-4d7a-9f7f-433d800f3267"
      },
      "outputs": [],
      "source": [
        "mask = ...\n",
        "df_small_biz = ...\n",
        "print(\"df_small_biz shape:\", df_small_biz.shape)\n",
        "df_small_biz.head()"
      ]
    },
    {
      "cell_type": "markdown",
      "id": "3338de70-5283-4a1d-bbaf-9dc6966579ae",
      "metadata": {
        "deletable": false,
        "editable": false,
        "id": "3338de70-5283-4a1d-bbaf-9dc6966579ae"
      },
      "source": [
        "Vimos que os respondentes temerosos de crédito eram relativamente jovens. Isso também se aplica aos pequenos proprietários de negócios?"
      ]
    },
    {
      "cell_type": "markdown",
      "id": "f9bebe06-eab0-4cdb-9863-585c9a5cfd11",
      "metadata": {
        "deletable": false,
        "editable": false,
        "id": "f9bebe06-eab0-4cdb-9863-585c9a5cfd11"
      },
      "source": [
        "### Exercício:\n",
        "Crie um histograma da coluna `\"AGE\"` em `df_small_biz` com 10 intervalos (bins). Certifique-se de rotular o eixo x como `\"Idade\"`, o eixo y como `\"Frequência (contagem)\"` e usar o título `\"Proprietários de Pequenos Negócios: Distribuição de Idade\"`."
      ]
    },
    {
      "cell_type": "code",
      "execution_count": null,
      "id": "4228d654-24bb-4059-86ab-0969da0144c3",
      "metadata": {
        "deletable": false,
        "id": "4228d654-24bb-4059-86ab-0969da0144c3"
      },
      "outputs": [],
      "source": [
        "# Plot histogram of \"AGE\"\n",
        "\n"
      ]
    },
    {
      "cell_type": "markdown",
      "id": "32b9d4c0-0444-4b69-bade-b67484b312a4",
      "metadata": {
        "deletable": false,
        "editable": false,
        "id": "32b9d4c0-0444-4b69-bade-b67484b312a4"
      },
      "source": [
        "Então, podemos dizer a mesma coisa sobre os pequenos proprietários de negócios que podemos dizer sobre as pessoas temerosas de crédito?"
      ]
    },
    {
      "cell_type": "markdown",
      "id": "b0f3cb7a-aab3-437c-8cd3-a4e562099b44",
      "metadata": {
        "deletable": false,
        "editable": false,
        "id": "b0f3cb7a-aab3-437c-8cd3-a4e562099b44"
      },
      "source": [
        "Vamos dar uma olhada na variância no conjunto de dados."
      ]
    },
    {
      "cell_type": "markdown",
      "id": "2c8a64c6-00b8-46c4-8049-474724baf2af",
      "metadata": {
        "deletable": false,
        "editable": false,
        "id": "2c8a64c6-00b8-46c4-8049-474724baf2af"
      },
      "source": [
        "### Exercício:\n",
        "Calcule a variância de todas as características em `df_small_biz` e crie uma Série `top_ten_var` com as 10 características com a maior variância."
      ]
    },
    {
      "cell_type": "code",
      "execution_count": null,
      "id": "0394ffbf-25b5-4377-9533-57441f9454f9",
      "metadata": {
        "deletable": false,
        "id": "0394ffbf-25b5-4377-9533-57441f9454f9"
      },
      "outputs": [],
      "source": [
        "# Calculate variance, get 10 largest features\n",
        "top_ten_var = ...\n",
        "top_ten_var"
      ]
    },
    {
      "cell_type": "markdown",
      "id": "9361d41c-cbd7-44cd-8cd2-0cb0390c00a5",
      "metadata": {
        "deletable": false,
        "editable": false,
        "id": "9361d41c-cbd7-44cd-8cd2-0cb0390c00a5"
      },
      "source": [
        "Precisaremos remover alguns outliers para evitar problemas em nossos cálculos, então vamos eliminá-los."
      ]
    },
    {
      "cell_type": "markdown",
      "id": "774f1692-11f9-45bd-8810-42d4403c3914",
      "metadata": {
        "deletable": false,
        "editable": false,
        "id": "774f1692-11f9-45bd-8810-42d4403c3914"
      },
      "source": [
        "### Exercício:\n",
        "Calcule a variância ajustada para as características em `df_small_biz`. Seus cálculos não devem incluir os 10% superiores e inferiores das observações. Em seguida, crie uma Série `top_ten_trim_var` com as 10 características com a maior variância ajustada."
      ]
    },
    {
      "cell_type": "code",
      "execution_count": null,
      "id": "fcacbed3-1fc2-4525-95df-9e3721be7952",
      "metadata": {
        "deletable": false,
        "id": "fcacbed3-1fc2-4525-95df-9e3721be7952"
      },
      "outputs": [],
      "source": [
        "# Calculate trimmed variance\n",
        "top_ten_trim_var = ...\n",
        "top_ten_trim_var"
      ]
    },
    {
      "cell_type": "markdown",
      "id": "ae250baf-a145-405f-bb2d-94e3d02ce090",
      "metadata": {
        "deletable": false,
        "editable": false,
        "id": "ae250baf-a145-405f-bb2d-94e3d02ce090"
      },
      "source": [
        "Vamos fazer uma rápida visualização desses valores."
      ]
    },
    {
      "cell_type": "markdown",
      "id": "ad3c5499-d30a-492f-806c-169ca1971626",
      "metadata": {
        "deletable": false,
        "editable": false,
        "id": "ad3c5499-d30a-492f-806c-169ca1971626"
      },
      "source": [
        "### Exercício:\n",
        "Use o Plotly Express para criar um gráfico de barras horizontal de `top_ten_trim_var`. Certifique-se de rotular o eixo x como `\"Variância Ajustada [$]\"`, o eixo y como `\"Características\"` e usar o título `\"Proprietários de Pequenos Negócios: Características de Alta Variância\"`."
      ]
    },
    {
      "cell_type": "code",
      "execution_count": null,
      "id": "7ff0beec-afbc-44f6-ad22-ea18be1cc3f0",
      "metadata": {
        "deletable": false,
        "id": "7ff0beec-afbc-44f6-ad22-ea18be1cc3f0"
      },
      "outputs": [],
      "source": [
        "# Create horizontal bar chart of `top_ten_trim_var`\n",
        "\n",
        "fig.show()"
      ]
    },
    {
      "cell_type": "markdown",
      "id": "b295bb84-b165-4112-ac1c-1897d38f24be",
      "metadata": {
        "deletable": false,
        "editable": false,
        "id": "b295bb84-b165-4112-ac1c-1897d38f24be"
      },
      "source": [
        "Com base neste gráfico, quais cinco características têm a maior variância?"
      ]
    },
    {
      "cell_type": "markdown",
      "id": "79f95249-6f85-4e9e-8d5c-662347671cbb",
      "metadata": {
        "deletable": false,
        "editable": false,
        "id": "79f95249-6f85-4e9e-8d5c-662347671cbb"
      },
      "source": [
        "### Exercício:\n",
        "Gere uma lista `high_var_cols` com os nomes das colunas das cinco características com a maior variância ajustada."
      ]
    },
    {
      "cell_type": "code",
      "execution_count": null,
      "id": "d84c998d-1884-41c0-a181-29fd470c480c",
      "metadata": {
        "deletable": false,
        "id": "d84c998d-1884-41c0-a181-29fd470c480c"
      },
      "outputs": [],
      "source": [
        "high_var_cols = ...\n",
        "high_var_cols"
      ]
    },
    {
      "cell_type": "markdown",
      "id": "9cb41e82-ba92-4c96-906a-6f5ac4ba5f6e",
      "metadata": {
        "deletable": false,
        "editable": false,
        "id": "9cb41e82-ba92-4c96-906a-6f5ac4ba5f6e"
      },
      "source": [
        "## Dividir"
      ]
    },
    {
      "cell_type": "markdown",
      "id": "0afbab92-374f-4d01-b12b-81bdf5d45dcd",
      "metadata": {
        "deletable": false,
        "editable": false,
        "id": "0afbab92-374f-4d01-b12b-81bdf5d45dcd"
      },
      "source": [
        "Vamos transformar essa lista em uma matriz de características."
      ]
    },
    {
      "cell_type": "markdown",
      "id": "947b81b0-9434-4a0b-aaa7-ce7120e1674f",
      "metadata": {
        "deletable": false,
        "editable": false,
        "id": "947b81b0-9434-4a0b-aaa7-ce7120e1674f"
      },
      "source": [
        "### Exercício:\n",
        "Crie a matriz de características `X` a partir de `df_small_biz`. Ela deve conter as cinco colunas em `high_var_cols`."
      ]
    },
    {
      "cell_type": "code",
      "execution_count": null,
      "id": "9ff30fe3-28df-4845-9b0f-03596b8172d1",
      "metadata": {
        "deletable": false,
        "id": "9ff30fe3-28df-4845-9b0f-03596b8172d1"
      },
      "outputs": [],
      "source": [
        "X = ...\n",
        "print(\"X shape:\", X.shape)\n",
        "X.head()"
      ]
    },
    {
      "cell_type": "markdown",
      "id": "5ba22177-d828-4cb3-a79b-73e0794472f9",
      "metadata": {
        "deletable": false,
        "editable": false,
        "id": "5ba22177-d828-4cb3-a79b-73e0794472f9"
      },
      "source": [
        "# Construir Model"
      ]
    },
    {
      "cell_type": "markdown",
      "id": "3cee6745-7456-407b-a737-c17b36bf3694",
      "metadata": {
        "deletable": false,
        "editable": false,
        "id": "3cee6745-7456-407b-a737-c17b36bf3694"
      },
      "source": [
        "Agora que nossos dados estão organizados, vamos trabalhar no modelo."
      ]
    },
    {
      "cell_type": "markdown",
      "id": "f3b7e7f9-496b-4142-a1f7-e9e3b4547ab8",
      "metadata": {
        "deletable": false,
        "editable": false,
        "id": "f3b7e7f9-496b-4142-a1f7-e9e3b4547ab8"
      },
      "source": [
        "## Iterar"
      ]
    },
    {
      "cell_type": "markdown",
      "id": "bbf67d41-8379-43a5-958e-fee93e1d3036",
      "metadata": {
        "deletable": false,
        "editable": false,
        "id": "bbf67d41-8379-43a5-958e-fee93e1d3036"
      },
      "source": [
        "### Exercício:\n",
        "Use um loop `for` para construir e treinar um modelo K-Means onde `n_clusters` varia de 2 a 12 (inclusive). Seu modelo deve incluir um `StandardScaler`. Cada vez que um modelo for treinado, calcule a inércia e adicione-a à lista `inertia_errors`, depois calcule a pontuação de silhueta e adicione-a à lista `silhouette_scores`."
      ]
    },
    {
      "cell_type": "markdown",
      "id": "56ea5c4b-8cc2-4add-aa8c-9167b90b8e88",
      "metadata": {
        "deletable": false,
        "editable": false,
        "id": "56ea5c4b-8cc2-4add-aa8c-9167b90b8e88"
      },
      "source": [
        "**Nota:** Para garantir a reprodutibilidade, certifique-se de definir o estado aleatório do seu modelo como `42`."
      ]
    },
    {
      "cell_type": "code",
      "execution_count": null,
      "id": "79c7764f-75f1-4299-a6b3-bd71f67ef3eb",
      "metadata": {
        "deletable": false,
        "id": "79c7764f-75f1-4299-a6b3-bd71f67ef3eb"
      },
      "outputs": [],
      "source": [
        "n_clusters = ...\n",
        "inertia_errors = ...\n",
        "silhouette_scores = ...\n",
        "\n",
        "# Add `for` loop to train model and calculate inertia, silhouette score.\n",
        "\n",
        "\n",
        "print(\"Inertia:\", inertia_errors[:11])\n",
        "print()\n",
        "print(\"Silhouette Scores:\", silhouette_scores[:3])"
      ]
    },
    {
      "cell_type": "markdown",
      "id": "3e98ef3c-ba19-46a7-b308-9627e82e2053",
      "metadata": {
        "deletable": false,
        "editable": false,
        "id": "3e98ef3c-ba19-46a7-b308-9627e82e2053"
      },
      "source": [
        "Assim como fizemos no módulo anterior, podemos começar a determinar quantos clusters precisamos com um gráfico de linha baseado na Inércia."
      ]
    },
    {
      "cell_type": "markdown",
      "id": "89ab36dd-ff46-46e5-8065-e82010a66cf1",
      "metadata": {
        "deletable": false,
        "editable": false,
        "id": "89ab36dd-ff46-46e5-8065-e82010a66cf1"
      },
      "source": [
        "### Exercício:\n",
        "Use o Plotly Express para criar um gráfico de linha que mostre os valores de `inertia_errors` como uma função de `n_clusters`. Certifique-se de rotular o eixo x como `\"Número de Clusters\"`, o eixo y como `\"Inércia\"` e usar o título `\"Modelo K-Means: Inércia vs Número de Clusters\"`."
      ]
    },
    {
      "cell_type": "code",
      "execution_count": null,
      "id": "4e3e7d2e-a5cb-4ae8-bbdc-d9a754747930",
      "metadata": {
        "deletable": false,
        "id": "4e3e7d2e-a5cb-4ae8-bbdc-d9a754747930"
      },
      "outputs": [],
      "source": [
        "# Create line plot of `inertia_errors` vs `n_clusters`\n",
        "\n",
        "fig.show()"
      ]
    },
    {
      "cell_type": "markdown",
      "id": "4c4fb9a3-04dc-4983-8629-e8e6405b8a4b",
      "metadata": {
        "deletable": false,
        "editable": false,
        "id": "4c4fb9a3-04dc-4983-8629-e8e6405b8a4b"
      },
      "source": [
        "E vamos fazer a mesma coisa com nossos Silhouette Scores."
      ]
    },
    {
      "cell_type": "markdown",
      "id": "1a0ecb8c-fb8a-47c0-8803-fea1024652d4",
      "metadata": {
        "deletable": false,
        "editable": false,
        "id": "1a0ecb8c-fb8a-47c0-8803-fea1024652d4"
      },
      "source": [
        "### Exercício:\n",
        "Use o Plotly Express para criar um gráfico de linha que mostre os valores de `silhouette_scores` como uma função de `n_clusters`. Certifique-se de rotular o eixo x como `\"Número de Clusters\"`, o eixo y como `\"Pontuação de Silhueta\"` e usar o título `\"Modelo K-Means: Pontuação de Silhueta vs Número de Clusters\"`."
      ]
    },
    {
      "cell_type": "code",
      "execution_count": null,
      "id": "c018ecda-03d3-415c-b2ed-38c834784179",
      "metadata": {
        "deletable": false,
        "id": "c018ecda-03d3-415c-b2ed-38c834784179"
      },
      "outputs": [],
      "source": [
        "# Create a line plot of `silhouette_scores` vs `n_clusters`\n",
        "\n",
        "fig.show()"
      ]
    },
    {
      "cell_type": "markdown",
      "id": "883d1b9e-4547-48bb-bca6-534a7c9111e6",
      "metadata": {
        "deletable": false,
        "editable": false,
        "id": "883d1b9e-4547-48bb-bca6-534a7c9111e6"
      },
      "source": [
        "Quantos clusters devemos usar? Quando você tomar uma decisão sobre isso, é hora de construir o modelo final."
      ]
    },
    {
      "cell_type": "markdown",
      "id": "e266725f-fba7-4705-966c-0a47f7867aa0",
      "metadata": {
        "deletable": false,
        "editable": false,
        "id": "e266725f-fba7-4705-966c-0a47f7867aa0"
      },
      "source": [
        "### Exercício:\n",
        "Construa e treine um novo modelo K-Means chamado `final_model`. O número de clusters deve ser `3`."
      ]
    },
    {
      "cell_type": "markdown",
      "id": "29b36653-b6b2-4de1-9b3b-2321d402e343",
      "metadata": {
        "deletable": false,
        "editable": false,
        "id": "29b36653-b6b2-4de1-9b3b-2321d402e343"
      },
      "source": [
        "**Nota:** Para garantir a reprodutibilidade, certifique-se de definir o estado aleatório do seu modelo como `42`."
      ]
    },
    {
      "cell_type": "code",
      "execution_count": null,
      "id": "a6d22f05-5109-425c-9ed3-838d03fcec76",
      "metadata": {
        "deletable": false,
        "id": "a6d22f05-5109-425c-9ed3-838d03fcec76"
      },
      "outputs": [],
      "source": [
        "final_model = ...\n"
      ]
    },
    {
      "cell_type": "markdown",
      "id": "b4e3d785-f4e9-4e56-8c93-d9267eb92846",
      "metadata": {
        "deletable": false,
        "editable": false,
        "id": "b4e3d785-f4e9-4e56-8c93-d9267eb92846"
      },
      "source": [
        "# Comunicar Resultados"
      ]
    },
    {
      "cell_type": "markdown",
      "id": "694245d3-c0f5-47ad-94a3-c220c41d1239",
      "metadata": {
        "deletable": false,
        "editable": false,
        "id": "694245d3-c0f5-47ad-94a3-c220c41d1239"
      },
      "source": [
        "Excelente! Vamos compartilhar nosso trabalho!"
      ]
    },
    {
      "cell_type": "markdown",
      "id": "45a447ef-6416-4c01-b0bf-41f24e879ad2",
      "metadata": {
        "deletable": false,
        "editable": false,
        "id": "45a447ef-6416-4c01-b0bf-41f24e879ad2"
      },
      "source": [
        "### Exercício:\n",
        "Crie um DataFrame `xgb` que contenha os valores médios das características em `X` para os 3 clusters em seu `final_model`."
      ]
    },
    {
      "cell_type": "code",
      "execution_count": null,
      "id": "d990fee8-db2d-41a7-be39-c602f7b2a078",
      "metadata": {
        "deletable": false,
        "id": "d990fee8-db2d-41a7-be39-c602f7b2a078"
      },
      "outputs": [],
      "source": [
        "labels = ...\n",
        "xgb = ...\n",
        "xgb"
      ]
    },
    {
      "cell_type": "markdown",
      "id": "7c1584d1-d6cb-49e0-860c-5359b433eb45",
      "metadata": {
        "deletable": false,
        "editable": false,
        "id": "7c1584d1-d6cb-49e0-860c-5359b433eb45"
      },
      "source": [
        "Como de costume, vamos fazer uma visualização com o DataFrame."
      ]
    },
    {
      "cell_type": "markdown",
      "id": "2d220526-ccce-4ae2-8bac-4ce9a8ddd3ae",
      "metadata": {
        "deletable": false,
        "editable": false,
        "id": "2d220526-ccce-4ae2-8bac-4ce9a8ddd3ae"
      },
      "source": [
        "### Exercício:\n",
        "Use o Plotly Express para criar um gráfico de barras lado a lado a partir de `xgb` que mostre a média das características em `X` para cada um dos clusters em seu `final_model`. Certifique-se de rotular o eixo x como `\"Cluster\"`, o eixo y como `\"Valor [$]\"` e usar o título `\"Finanças dos Proprietários de Pequenos Negócios por Cluster\"`."
      ]
    },
    {
      "cell_type": "code",
      "execution_count": null,
      "id": "ba00092d-c553-47eb-94f8-3125fe9dd791",
      "metadata": {
        "deletable": false,
        "id": "ba00092d-c553-47eb-94f8-3125fe9dd791"
      },
      "outputs": [],
      "source": [
        "# Create side-by-side bar chart of `xgb`\n",
        "\n",
        "fig.show()"
      ]
    },
    {
      "cell_type": "markdown",
      "id": "87546eaf-b468-473a-a0b3-fdfc4bedd91b",
      "metadata": {
        "deletable": false,
        "editable": false,
        "id": "87546eaf-b468-473a-a0b3-fdfc4bedd91b"
      },
      "source": [
        "Lembre-se do que fizemos com dados de dimensões mais altas na última vez? Vamos fazer o mesmo aqui."
      ]
    },
    {
      "cell_type": "markdown",
      "id": "cfafaa53-d2ae-4be8-a897-e8a990d58844",
      "metadata": {
        "deletable": false,
        "editable": false,
        "id": "cfafaa53-d2ae-4be8-a897-e8a990d58844"
      },
      "source": [
        "### Exercício:\n",
        "Crie um transformador `PCA`, use-o para reduzir a dimensionalidade dos dados em `X` para 2, e depois coloque os dados transformados em um DataFrame chamado `X_pca`. As colunas de `X_pca` devem ser nomeadas como `\"PC1\"` e `\"PC2\"`."
      ]
    },
    {
      "cell_type": "code",
      "execution_count": null,
      "id": "146b72a1-9e28-46b3-b568-f3347a31b18d",
      "metadata": {
        "deletable": false,
        "id": "146b72a1-9e28-46b3-b568-f3347a31b18d"
      },
      "outputs": [],
      "source": [
        "# Instantiate transformer\n",
        "pca = ...\n",
        "\n",
        "# Transform `X`\n",
        "X_t = ...\n",
        "\n",
        "# Put `X_t` into DataFrame\n",
        "X_pca = ...\n",
        "\n",
        "print(\"X_pca shape:\", X_pca.shape)\n",
        "X_pca.head()"
      ]
    },
    {
      "cell_type": "markdown",
      "id": "5f248d68-720a-4c0d-a746-9312e8976371",
      "metadata": {
        "deletable": false,
        "editable": false,
        "id": "5f248d68-720a-4c0d-a746-9312e8976371"
      },
      "source": [
        "Finalmente, vamos fazer uma visualização do nosso DataFrame final."
      ]
    },
    {
      "cell_type": "markdown",
      "id": "57a44ed8-2888-4902-a156-805608d722ad",
      "metadata": {
        "deletable": false,
        "editable": false,
        "id": "57a44ed8-2888-4902-a156-805608d722ad"
      },
      "source": [
        "**Task 6.5.20:** Use o Plotly Express para criar um gráfico de dispersão de `X_pca` usando seaborn. Certifique-se de colorir os pontos de dados usando os rótulos gerados pelo seu `final_model`. Rotule o eixo x como `\"PC1\"`, o eixo y como `\"PC2\"` e use o título `\"Representação PCA dos Clusters\"`."
      ]
    },
    {
      "cell_type": "code",
      "execution_count": null,
      "id": "330b262c-3d70-4609-8745-b3c0eb219913",
      "metadata": {
        "deletable": false,
        "id": "330b262c-3d70-4609-8745-b3c0eb219913"
      },
      "outputs": [],
      "source": [
        "# Create scatter plot of `PC2` vs `PC1`\n",
        "\n",
        "fig.show()"
      ]
    }
  ],
  "metadata": {
    "kernelspec": {
      "display_name": "Python 3 (ipykernel)",
      "language": "python",
      "name": "python3"
    },
    "language_info": {
      "codemirror_mode": {
        "name": "ipython",
        "version": 3
      },
      "file_extension": ".py",
      "mimetype": "text/x-python",
      "name": "python",
      "nbconvert_exporter": "python",
      "pygments_lexer": "ipython3",
      "version": "3.10.12"
    },
    "vscode": {
      "interpreter": {
        "hash": "1aa838312b528b31b4c7961d29e363799be244ea5d189daeb964016c6fd343fc"
      }
    },
    "colab": {
      "provenance": []
    }
  },
  "nbformat": 4,
  "nbformat_minor": 5
}