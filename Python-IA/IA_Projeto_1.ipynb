{
  "nbformat": 4,
  "nbformat_minor": 0,
  "metadata": {
    "colab": {
      "provenance": []
    },
    "kernelspec": {
      "name": "python3",
      "display_name": "Python 3"
    },
    "language_info": {
      "name": "python"
    }
  },
  "cells": [
    {
      "cell_type": "markdown",
      "source": [
        "Escreva uma função de \"limpeza\" que recebe o nome de um arquivo CSV como entrada e retorna um DataFrame.\n",
        "\n",
        "A função deve realizar os seguintes passos:\n",
        "\n",
        "- Selecione os dados no arquivo CSV e retorne apenas apartamentos na Cidade do México (\"Distrito Federal\") que custem menos de $100.000.\n",
        "\n",
        "- Remova outliers cortando os 10% inferiores e superiores das propriedades em termos de \"surface_covered_in_m2\".\n",
        "\n",
        "- Crie colunas separadas \"lat\" e \"lon\".\n",
        "\n",
        "- A Cidade do México é dividida em 15 bairros. Crie uma feature \"borough\" a partir da coluna \"place_with_parent_names\".\n",
        "\n",
        "- Exclua colunas que contenham mais de 50% de valores nulos.\n",
        "\n",
        "- Exclua colunas que contenham valores categóricos de baixa ou alta cardinalidade.\n",
        "\n",
        "- Exclua quaisquer colunas que constituam vazamento para o alvo \"price_aprox_usd\".\n",
        "\n",
        "- Exclua quaisquer colunas que criariam problemas de multicolinearidade"
      ],
      "metadata": {
        "id": "f4DzkK67F2Pz"
      }
    },
    {
      "cell_type": "code",
      "execution_count": null,
      "metadata": {
        "id": "6N31J24vCtm6"
      },
      "outputs": [],
      "source": []
    },
    {
      "cell_type": "markdown",
      "source": [
        "Use o glob para criar a lista de arquivos. Ela deve conter os nomes dos arquivos de todos os CSVs de imóveis da Cidade do México no diretório ./data, exceto o mexico-city-features.csv."
      ],
      "metadata": {
        "id": "HRbrvQLXG2vj"
      }
    },
    {
      "cell_type": "code",
      "source": [],
      "metadata": {
        "id": "EHsWWNVEDuPE"
      },
      "execution_count": null,
      "outputs": []
    },
    {
      "cell_type": "markdown",
      "source": [
        "Combine sua função de \"limpeza\", uma compreensão de lista e pd.concat para criar um DataFrame df.\n",
        "\n",
        "Ele deve conter todas as propriedades dos cinco arquivos CSV em files."
      ],
      "metadata": {
        "id": "ktLmQbwPHL4q"
      }
    },
    {
      "cell_type": "code",
      "source": [],
      "metadata": {
        "id": "fjv_WKt7HjGE"
      },
      "execution_count": null,
      "outputs": []
    },
    {
      "cell_type": "markdown",
      "source": [
        "Crie um histograma mostrando a distribuição dos preços de apartamentos (\"price_aprox_usd\") em df.\n",
        "\n",
        "Certifique-se de rotular o eixo x como \"Price [$]\", o eixo y como \"Count\" e dar o título \"Distribution of Apartment Prices\". Use o Matplotlib (plt).\n",
        "\n",
        "Como é a distribuição dos preços? Os dados são normais, ligeiramente assimétricos ou muito assimétricos?"
      ],
      "metadata": {
        "id": "CyoQr_XZHjcK"
      }
    },
    {
      "cell_type": "code",
      "source": [],
      "metadata": {
        "id": "wiBulRMJHo_A"
      },
      "execution_count": null,
      "outputs": []
    },
    {
      "cell_type": "markdown",
      "source": [
        "Crie um gráfico de dispersão que mostre o preço dos apartamentos (\"price_aprox_usd\") como uma função do tamanho dos apartamentos (\"surface_covered_in_m2\").\n",
        "\n",
        "Certifique-se de rotular o eixo x como \"Area [sq meters]\" e o eixo y como \"Price [USD]\". Seu gráfico deve ter o título \"Mexico City: Price vs. Area\".\n",
        "\n",
        "Use o Matplotlib (plt)."
      ],
      "metadata": {
        "id": "sn_jI4R7Hrgy"
      }
    },
    {
      "cell_type": "code",
      "source": [],
      "metadata": {
        "id": "uNe-Ra8yHzZ_"
      },
      "execution_count": null,
      "outputs": []
    },
    {
      "cell_type": "markdown",
      "source": [
        "Você vê alguma relação entre preço e área nos dados? Como isso é semelhante ou diferente do conjunto de dados de Buenos Aires?"
      ],
      "metadata": {
        "id": "-4kyafYMHzrd"
      }
    },
    {
      "cell_type": "markdown",
      "source": [
        "Crie um gráfico de dispersão no Mapbox que mostre a localização dos apartamentos em seu conjunto de dados e represente seu preço usando cores.\n",
        "\n",
        "Quais áreas da cidade parecem ter preços de imóveis mais altos?"
      ],
      "metadata": {
        "id": "xYqNEZYeIGJF"
      }
    },
    {
      "cell_type": "code",
      "source": [],
      "metadata": {
        "id": "QM-Ve03DIH0X"
      },
      "execution_count": null,
      "outputs": []
    },
    {
      "cell_type": "markdown",
      "source": [
        "Crie sua matriz de características X_train e o vetor alvo y_train.\n",
        "\n",
        "Seu alvo é \"price_aprox_usd\". Suas características devem ser todas as colunas que restam no DataFrame que você limpou acima."
      ],
      "metadata": {
        "id": "F-2iRg5SIdGk"
      }
    },
    {
      "cell_type": "code",
      "source": [],
      "metadata": {
        "id": "K3V_gzs7Iirk"
      },
      "execution_count": null,
      "outputs": []
    },
    {
      "cell_type": "markdown",
      "source": [
        "Calcule o erro absoluto médio de referência para o seu modelo."
      ],
      "metadata": {
        "id": "lcjNoDORInLu"
      }
    },
    {
      "cell_type": "code",
      "source": [],
      "metadata": {
        "id": "mOx1FUOcIoAv"
      },
      "execution_count": null,
      "outputs": []
    },
    {
      "cell_type": "markdown",
      "source": [
        "Crie um pipeline chamado model que contenha todos os transformadores necessários para este conjunto de dados e um dos preditores que você usou durante este projeto. Em seguida, ajuste seu modelo aos dados de treinamento."
      ],
      "metadata": {
        "id": "zA1pzpvqIuZO"
      }
    },
    {
      "cell_type": "code",
      "source": [],
      "metadata": {
        "id": "Lw3tBITgIuyu"
      },
      "execution_count": null,
      "outputs": []
    },
    {
      "cell_type": "markdown",
      "source": [
        "Leia o arquivo CSV mexico-city-features.csv para o DataFrame X_test."
      ],
      "metadata": {
        "id": "OiPZlI_qI0SE"
      }
    },
    {
      "cell_type": "code",
      "source": [],
      "metadata": {
        "id": "hsWtq0ErJBw7"
      },
      "execution_count": null,
      "outputs": []
    },
    {
      "cell_type": "markdown",
      "source": [
        "Use seu modelo para gerar uma Série de previsões para X_test. Quando você enviar suas previsões para o avaliador, ele calculará o erro absoluto médio para o seu modelo."
      ],
      "metadata": {
        "id": "96mboEOkJCBo"
      }
    },
    {
      "cell_type": "code",
      "source": [],
      "metadata": {
        "id": "gGy60otYJCe0"
      },
      "execution_count": null,
      "outputs": []
    },
    {
      "cell_type": "markdown",
      "source": [
        "Crie um `Serie` chamado feat_imp. O índice deve conter os nomes de todas as características que seu modelo considera ao fazer previsões;\n",
        "\n",
        "Os valores devem ser os valores dos coeficientes associados a cada característica.\n",
        "\n",
        "A Série deve ser ordenada em ordem crescente pelo valor absoluto."
      ],
      "metadata": {
        "id": "bhJp4BGfJK-T"
      }
    },
    {
      "cell_type": "code",
      "source": [],
      "metadata": {
        "id": "xDCM6yCXJWJP"
      },
      "execution_count": null,
      "outputs": []
    },
    {
      "cell_type": "markdown",
      "source": [
        "Crie um gráfico de barras horizontal que mostre os 10 coeficientes mais influentes para seu modelo.\n",
        "\n",
        "Certifique-se de rotular o eixo x como \"Importance [USD]\" e o eixo y como \"Feature\", e dê ao seu gráfico o título \"Feature Importances for Apartment Price\". Use o pandas."
      ],
      "metadata": {
        "id": "K4PkrTxzJgPT"
      }
    },
    {
      "cell_type": "code",
      "source": [],
      "metadata": {
        "id": "SMZrtwZ3Jii7"
      },
      "execution_count": null,
      "outputs": []
    }
  ]
}