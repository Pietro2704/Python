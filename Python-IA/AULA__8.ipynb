{
  "cells": [
    {
      "cell_type": "markdown",
      "id": "9ec476e1",
      "metadata": {
        "deletable": false,
        "editable": false,
        "id": "9ec476e1"
      },
      "source": [
        "\n",
        "<div class=\"alert alert-info\" role=\"alert\">\n",
        "  <p>\n",
        "    <center><b>Usage Guidelines</b></center>\n",
        "  </p>\n",
        "\n",
        "  <p>\n",
        "    This lesson is part of the <b>DS Lab core curriculum</b>. For that reason, this notebook can only be used on your WQU virtual machine.\n",
        "  </p>\n",
        "\n",
        "  <p>\n",
        "    This means:\n",
        "    <ul>\n",
        "      <li><span style=\"color: red\">ⓧ</span> No downloading this notebook.</li>\n",
        "      <li><span style=\"color: red\">ⓧ</span> No re-sharing of this notebook with friends or colleagues.</li>\n",
        "      <li><span style=\"color: red\">ⓧ</span> No downloading the embedded videos in this notebook.</li>\n",
        "      <li><span style=\"color: red\">ⓧ</span> No re-sharing embedded videos with friends or colleagues.</li>\n",
        "      <li><span style=\"color: red\">ⓧ</span> No adding this notebook to public or private repositories.</li>\n",
        "      <li><span style=\"color: red\">ⓧ</span> No uploading this notebook (or screenshots of it) to other websites, including websites for study resources.</li>\n",
        "    </ul>\n",
        "\n",
        "  </p>\n",
        "</div>\n"
      ]
    },
    {
      "cell_type": "markdown",
      "id": "e1a2d55e-855c-43bf-90d6-d7c4ea39c311",
      "metadata": {
        "deletable": false,
        "editable": false,
        "id": "e1a2d55e-855c-43bf-90d6-d7c4ea39c311"
      },
      "source": [
        "<font size=\"+3\"><strong>5.1. Working with JSON files</strong></font>"
      ]
    },
    {
      "cell_type": "markdown",
      "id": "94810d73-7954-4d31-ba93-524c3ae779c8",
      "metadata": {
        "deletable": false,
        "editable": false,
        "id": "94810d73-7954-4d31-ba93-524c3ae779c8"
      },
      "source": [
        "In this project, we'll be looking at tracking corporate bankruptcies in Poland. To do that, we'll need to get data that's been stored in a `JSON` file, explore it, and turn it into a DataFrame that we'll use to train our model."
      ]
    },
    {
      "cell_type": "code",
      "execution_count": null,
      "id": "0ce7e7e1-14e1-4e67-9b2c-cac8939af21a",
      "metadata": {
        "deletable": false,
        "editable": false,
        "init_cell": true,
        "tags": [],
        "id": "0ce7e7e1-14e1-4e67-9b2c-cac8939af21a"
      },
      "outputs": [],
      "source": [
        "import gzip\n",
        "import json\n",
        "\n",
        "import pandas as pd\n",
        "import wqet_grader\n",
        "from IPython.display import VimeoVideo\n",
        "\n",
        "wqet_grader.init(\"Project 5 Assessment\")\n"
      ]
    },
    {
      "cell_type": "code",
      "execution_count": null,
      "id": "468a9ae7-1cc1-41f8-a7f6-813ce1938c4f",
      "metadata": {
        "deletable": false,
        "editable": false,
        "init_cell": true,
        "tags": [],
        "id": "468a9ae7-1cc1-41f8-a7f6-813ce1938c4f"
      },
      "outputs": [],
      "source": [
        "VimeoVideo(\"694158732\", h=\"73c2fb4e4f\", width=600)"
      ]
    },
    {
      "cell_type": "markdown",
      "id": "d51973f2-1da4-477c-9770-97ed5174dada",
      "metadata": {
        "deletable": false,
        "editable": false,
        "id": "d51973f2-1da4-477c-9770-97ed5174dada"
      },
      "source": [
        "# Prepare Data"
      ]
    },
    {
      "cell_type": "markdown",
      "id": "d040de7c-daf6-4817-8c55-18b8f29a785d",
      "metadata": {
        "deletable": false,
        "editable": false,
        "id": "d040de7c-daf6-4817-8c55-18b8f29a785d"
      },
      "source": [
        "## Open"
      ]
    },
    {
      "cell_type": "markdown",
      "id": "46981355-9c3d-44ce-81bb-257fb30fb1f4",
      "metadata": {
        "deletable": false,
        "editable": false,
        "id": "46981355-9c3d-44ce-81bb-257fb30fb1f4"
      },
      "source": [
        "The first thing we need to do is access the file that contains the data we need. We've done this using multiple strategies before, but this time around, we're going to use the command line."
      ]
    },
    {
      "cell_type": "code",
      "execution_count": null,
      "id": "13a55cca-df6f-486e-a6ee-8823369cbf1b",
      "metadata": {
        "deletable": false,
        "editable": false,
        "init_cell": true,
        "tags": [],
        "id": "13a55cca-df6f-486e-a6ee-8823369cbf1b"
      },
      "outputs": [],
      "source": [
        "VimeoVideo(\"693794546\", h=\"6e1fab0a5e\", width=600)"
      ]
    },
    {
      "cell_type": "markdown",
      "id": "44adf074-0355-43e1-9f57-42dc3e8c7ae6",
      "metadata": {
        "deletable": false,
        "editable": false,
        "id": "44adf074-0355-43e1-9f57-42dc3e8c7ae6"
      },
      "source": [
        "**Task 5.1.1:** Open a terminal window and navigate to the directory where the data for this project is located.\n",
        "\n",
        "- [What's the  Linux command line?](../%40textbook/19-linux-command-line.ipynb)\n",
        "- [Navigate a file system using the Linux command line.](../%40textbook/19-linux-command-line.ipynb)"
      ]
    },
    {
      "cell_type": "markdown",
      "id": "998596d3-576e-480c-a148-8532e10308a9",
      "metadata": {
        "deletable": false,
        "editable": false,
        "id": "998596d3-576e-480c-a148-8532e10308a9"
      },
      "source": [
        "As we've seen in our other projects, datasets can be large or small, messy or clean, and complex or easy to understand. Regardless of how the data looks, though, it needs to be saved in a file somewhere, and when that file gets too big, we need to *compress* it. Compressed files are easier to store because they take up less space. If you've ever come across a `ZIP` file, you've worked with compressed data.\n",
        "\n",
        "The file we're using for this project is compressed, so we'll need to use a file utility called `gzip` to open it up."
      ]
    },
    {
      "cell_type": "code",
      "execution_count": null,
      "id": "96077600-8d0d-421c-88a4-00c4d871feca",
      "metadata": {
        "deletable": false,
        "editable": false,
        "init_cell": true,
        "tags": [],
        "id": "96077600-8d0d-421c-88a4-00c4d871feca"
      },
      "outputs": [],
      "source": [
        "VimeoVideo(\"693794604\", h=\"a8c0f15712\", width=600)"
      ]
    },
    {
      "cell_type": "markdown",
      "id": "0c3ed9a1-67ec-4004-adc3-bd36452bc924",
      "metadata": {
        "deletable": false,
        "editable": false,
        "id": "0c3ed9a1-67ec-4004-adc3-bd36452bc924"
      },
      "source": [
        "**Task 5.1.2:** In the terminal window, locate the data file for this project and decompress it.\n",
        "\n",
        "- [What's gzip?](../%40textbook/19-linux-command-line.ipynb#gzip)\n",
        "- [What's data compression?](../%40textbook/19-linux-command-line.ipynb#Data-Compressing)\n",
        "- [Decompress a file using gzip.](../%40textbook/19-linux-command-line.ipynb#gzip)"
      ]
    },
    {
      "cell_type": "code",
      "execution_count": null,
      "id": "1504adbf-fa93-42a9-a98d-18b265020f5f",
      "metadata": {
        "deletable": false,
        "editable": false,
        "init_cell": true,
        "id": "1504adbf-fa93-42a9-a98d-18b265020f5f"
      },
      "outputs": [],
      "source": [
        "VimeoVideo(\"693794641\", h=\"d77bf46d41\", width=600)"
      ]
    },
    {
      "cell_type": "code",
      "execution_count": null,
      "id": "1c38ec4c-447e-44e6-8198-1574a15b318e",
      "metadata": {
        "deletable": false,
        "id": "1c38ec4c-447e-44e6-8198-1574a15b318e"
      },
      "outputs": [],
      "source": [
        "%%bash\n",
        "cd data\n",
        "gzip -dfk ./poland-bankruptcy-data-2009.json.gz"
      ]
    },
    {
      "cell_type": "markdown",
      "id": "7119c915-6023-45ff-969d-9178bdf9c55a",
      "metadata": {
        "deletable": false,
        "editable": false,
        "id": "7119c915-6023-45ff-969d-9178bdf9c55a"
      },
      "source": [
        "## Explore"
      ]
    },
    {
      "cell_type": "markdown",
      "id": "80b5e424-15f3-4984-afa9-0b0b38a6a5eb",
      "metadata": {
        "deletable": false,
        "editable": false,
        "id": "80b5e424-15f3-4984-afa9-0b0b38a6a5eb"
      },
      "source": [
        "Now that we've decompressed the data, let's take a look and see what's there."
      ]
    },
    {
      "cell_type": "code",
      "execution_count": null,
      "id": "f438b1c2-8b82-498d-bad6-731de5db4f79",
      "metadata": {
        "deletable": false,
        "editable": false,
        "init_cell": true,
        "tags": [],
        "id": "f438b1c2-8b82-498d-bad6-731de5db4f79"
      },
      "outputs": [],
      "source": [
        "VimeoVideo(\"693794658\", h=\"c8f1bba831\", width=600)"
      ]
    },
    {
      "cell_type": "markdown",
      "id": "2b6c0ac5-1bb2-4f00-8555-76b3c907a9ff",
      "metadata": {
        "deletable": false,
        "editable": false,
        "id": "2b6c0ac5-1bb2-4f00-8555-76b3c907a9ff"
      },
      "source": [
        "**Task 5.1.3:** In the terminal window, examine the first 10 lines of `poland-bankruptcy-data-2009.json`.\n",
        "\n",
        "- [Print lines from a file in the Linux command line.](../%40textbook/19-linux-command-line.ipynb#Viewing-File-Contents)"
      ]
    },
    {
      "cell_type": "code",
      "execution_count": null,
      "id": "16d8ceec-d2e8-4da8-a813-491cfb071a60",
      "metadata": {
        "tags": [],
        "id": "16d8ceec-d2e8-4da8-a813-491cfb071a60"
      },
      "outputs": [],
      "source": [
        "%%bash\n",
        "cd data\n",
        "head poland-bankruptcy-data-2009.json"
      ]
    },
    {
      "cell_type": "markdown",
      "id": "79f64022-60f3-4643-a4f9-780254df8a72",
      "metadata": {
        "deletable": false,
        "editable": false,
        "id": "79f64022-60f3-4643-a4f9-780254df8a72"
      },
      "source": [
        "Does this look like any of the data structures we've seen in previous projects?"
      ]
    },
    {
      "cell_type": "code",
      "execution_count": null,
      "id": "47f04563-b4d4-4262-829e-d7929a6e3a94",
      "metadata": {
        "deletable": false,
        "editable": false,
        "init_cell": true,
        "tags": [],
        "id": "47f04563-b4d4-4262-829e-d7929a6e3a94"
      },
      "outputs": [],
      "source": [
        "VimeoVideo(\"693794680\", h=\"7f1302444b\", width=600)"
      ]
    },
    {
      "cell_type": "markdown",
      "id": "1afa9bc9-bcfe-4814-ad2f-b35866feacf6",
      "metadata": {
        "deletable": false,
        "editable": false,
        "id": "1afa9bc9-bcfe-4814-ad2f-b35866feacf6"
      },
      "source": [
        "**Task 5.1.4:** Open `poland-bankruptcy-data-2009.json` by opening the `data` folder to the left and then double-clicking on the file. 👈"
      ]
    },
    {
      "cell_type": "markdown",
      "id": "5ea0bc23-8e21-4f55-8c39-db0384bd10b5",
      "metadata": {
        "deletable": false,
        "editable": false,
        "id": "5ea0bc23-8e21-4f55-8c39-db0384bd10b5"
      },
      "source": [
        "How is the data organized?"
      ]
    },
    {
      "cell_type": "markdown",
      "id": "a2628097-59e1-4ab7-9979-c9dd9a0debba",
      "metadata": {
        "deletable": false,
        "editable": false,
        "id": "a2628097-59e1-4ab7-9979-c9dd9a0debba"
      },
      "source": [
        "Curly brackets? Key-value pairs? It looks similar to a Python dictionary. It's important to note that JSON is not _exactly_ the same as a dictionary, but a lot of the same concepts apply. Let's try reading the file into a DataFrame and see what happens."
      ]
    },
    {
      "cell_type": "code",
      "execution_count": null,
      "id": "b94eaabd-a128-46e0-a764-fffbe1d48fb9",
      "metadata": {
        "deletable": false,
        "editable": false,
        "init_cell": true,
        "tags": [],
        "id": "b94eaabd-a128-46e0-a764-fffbe1d48fb9"
      },
      "outputs": [],
      "source": [
        "VimeoVideo(\"693794696\", h=\"dd5b5ad116\", width=600)"
      ]
    },
    {
      "cell_type": "markdown",
      "id": "111acd3e-28a6-43ab-84b0-4fa82eace401",
      "metadata": {
        "deletable": false,
        "editable": false,
        "id": "111acd3e-28a6-43ab-84b0-4fa82eace401"
      },
      "source": [
        "**Task 5.1.5:** Load the data into a DataFrame.\n",
        "\n",
        "- [Read a JSON file into a DataFrame using pandas.](../%40textbook/03-pandas-getting-started.ipynb#JSON-Files)"
      ]
    },
    {
      "cell_type": "code",
      "execution_count": null,
      "id": "0fca0a10-98b4-4d33-b155-632dfec7b0a8",
      "metadata": {
        "deletable": false,
        "tags": [
          "raises-exception"
        ],
        "id": "0fca0a10-98b4-4d33-b155-632dfec7b0a8"
      },
      "outputs": [],
      "source": [
        "df = pd.read_json('./data/poland-bankruptcy-data-2009.json')\n",
        "df.head()"
      ]
    },
    {
      "cell_type": "code",
      "execution_count": null,
      "id": "4ae3246e-eafc-4172-9a10-53f2222ae355",
      "metadata": {
        "deletable": false,
        "editable": false,
        "init_cell": true,
        "tags": [],
        "id": "4ae3246e-eafc-4172-9a10-53f2222ae355"
      },
      "outputs": [],
      "source": [
        "VimeoVideo(\"693794711\", h=\"fdb009c4eb\", width=600)"
      ]
    },
    {
      "cell_type": "markdown",
      "id": "f1ec41c9-8bf4-4285-ad3e-62a57e115074",
      "metadata": {
        "deletable": false,
        "editable": false,
        "id": "f1ec41c9-8bf4-4285-ad3e-62a57e115074"
      },
      "source": [
        "Hmmm. It looks like something went wrong, and we're going to have to fix it. Luckily for us, there's an error message to help us figure out what's happening here:\n",
        "\n",
        "<code style=\"background-color:#FEDDDE;\"><span style=\"color:#E45E5C\">ValueError</span>: Mixing dicts with non-Series may lead to ambiguous ordering.\n",
        "</code>\n",
        "\n",
        "What should we do? That error sounds serious, but the world is big, and we can't possibly be the first people to encounter this problem. When you come across an error, copy the message into a search engine and see what comes back. You'll get lots of results. The web has lots of places to look for solutions to problems like this one, and [Stack Overflow](https://stackoverflow.com/) is one of the best. [Click here to check out a possible solution to our problem.](https://stackoverflow.com/questions/57018859/valueerror-mixing-dicts-with-non-series-may-lead-to-ambiguous-ordering)\n",
        "\n",
        "There are three things to look for when you're browsing through solutions on Stack Overflow.\n",
        "\n",
        "1. **Context:** A good question is specific; if you click through that link, you'll see that the person asks a **specific** question, gives some relevant information about their OS and hardware, and then offers the code that threw the error. That's important, because we need...\n",
        "2. **Reproducible Code:** A good question also includes enough information for you to reproduce the problem yourself. After all, the only way to make sure the solution actually applies to your situation is to see if the code in the question throws the error you're having trouble with! In this case, the person included not only the code they used to get the error, but the actual error message itself. That would be useful on its own, but since you're looking for an actual solution to your problem, you're really looking for...\n",
        "3. **An answer:** Not every question on Stack Overflow gets answered. Luckily for us, the one we've been looking at did. There's a big green check mark next to the first solution, which means that the person who asked the question thought that solution was the best one.\n",
        "\n",
        "Let's try it and see if it works for us too!"
      ]
    },
    {
      "cell_type": "code",
      "execution_count": null,
      "id": "d3b9a1d0-341f-4b22-8b25-8a4c61b4b074",
      "metadata": {
        "deletable": false,
        "editable": false,
        "init_cell": true,
        "tags": [],
        "id": "d3b9a1d0-341f-4b22-8b25-8a4c61b4b074"
      },
      "outputs": [],
      "source": [
        "VimeoVideo(\"693794734\", h=\"fecea6a81e\", width=600)"
      ]
    },
    {
      "cell_type": "markdown",
      "id": "6991d9b9-997b-4b49-a30f-013ea02d8bf8",
      "metadata": {
        "deletable": false,
        "editable": false,
        "id": "6991d9b9-997b-4b49-a30f-013ea02d8bf8"
      },
      "source": [
        "**Task 5.1.6:** Using a context manager, open the file `poland-bankruptcy-data-2009.json` and load it as a dictionary with the variable name `poland_data`.\n",
        "\n",
        "- [What's a context manager?](../%40textbook/02-python-advanced.ipynb#Create-files-using-Context-Manager)\n",
        "- [Open a file in Python.](../%40textbook/02-python-advanced.ipynb#Create-files-using-Context-Manager)\n",
        "- [Load a JSON file into a dictionary using Python.](../%40textbook/01-python-getting-started.ipynb#Working-with-Dictionaries)"
      ]
    },
    {
      "cell_type": "code",
      "execution_count": null,
      "id": "f9e77c69-2afb-4c18-b03f-6bc4b7b855a9",
      "metadata": {
        "deletable": false,
        "tags": [],
        "id": "f9e77c69-2afb-4c18-b03f-6bc4b7b855a9"
      },
      "outputs": [],
      "source": [
        "# Open file and load JSON\n",
        "with open('./data/poland-bankruptcy-data-2009.json', 'r') as arq:\n",
        "    poland_data = json.load(arq)\n",
        "\n",
        "print(type(poland_data))"
      ]
    },
    {
      "cell_type": "markdown",
      "id": "f9d1d062-074b-4a39-ab29-e8320c5a3977",
      "metadata": {
        "deletable": false,
        "editable": false,
        "id": "f9d1d062-074b-4a39-ab29-e8320c5a3977"
      },
      "source": [
        "Okay! Now that we've successfully opened up our dataset, let's take a look and see what's there, starting with the keys. Remember, the **keys** in a dictionary are categories of things in a dataset.<span style='color: transparent; font-size:1%'>WQU WorldQuant University Applied Data Science Lab QQQQ</span>"
      ]
    },
    {
      "cell_type": "code",
      "execution_count": null,
      "id": "f4004d58-c427-4774-95e5-242350bb6c94",
      "metadata": {
        "deletable": false,
        "editable": false,
        "init_cell": true,
        "tags": [],
        "id": "f4004d58-c427-4774-95e5-242350bb6c94"
      },
      "outputs": [],
      "source": [
        "VimeoVideo(\"693794754\", h=\"18e70f4225\", width=600)"
      ]
    },
    {
      "cell_type": "markdown",
      "id": "da816b30-050a-4387-ac01-39c0dc2e8a49",
      "metadata": {
        "deletable": false,
        "editable": false,
        "id": "da816b30-050a-4387-ac01-39c0dc2e8a49"
      },
      "source": [
        "**Task 5.1.7:** Print the keys for `poland_data`.\n",
        "\n",
        "- [List the keys of a dictionary in Python.](../%40textbook/01-python-getting-started.ipynb#Dictionary-Keys)"
      ]
    },
    {
      "cell_type": "code",
      "execution_count": null,
      "id": "e5c9deb5-13a0-4d0d-959b-ac83eada9d43",
      "metadata": {
        "deletable": false,
        "tags": [],
        "id": "e5c9deb5-13a0-4d0d-959b-ac83eada9d43"
      },
      "outputs": [],
      "source": [
        "# Print `poland_data` keys\n",
        "# for chave in poland_data.keys():\n",
        "#     print(chave)\n",
        "\n",
        "poland_data.keys()"
      ]
    },
    {
      "cell_type": "markdown",
      "id": "65d49916-782c-4fb8-84d0-21bf4644e478",
      "metadata": {
        "deletable": false,
        "editable": false,
        "id": "65d49916-782c-4fb8-84d0-21bf4644e478"
      },
      "source": [
        "`schema` tells us how the data is structured, `metadata` tells us where the data comes from, and `data` is the data itself."
      ]
    },
    {
      "cell_type": "markdown",
      "id": "2ddbac0e-cb76-4a7d-99f9-020269507dae",
      "metadata": {
        "deletable": false,
        "editable": false,
        "id": "2ddbac0e-cb76-4a7d-99f9-020269507dae"
      },
      "source": [
        "Now let's take a look at the values. Remember, the **values** in a dictionary are ways to describe the variable that belongs to a key."
      ]
    },
    {
      "cell_type": "code",
      "execution_count": null,
      "id": "ce5e14ac-c044-4bb8-912b-6e087724dcab",
      "metadata": {
        "deletable": false,
        "editable": false,
        "init_cell": true,
        "tags": [],
        "id": "ce5e14ac-c044-4bb8-912b-6e087724dcab"
      },
      "outputs": [],
      "source": [
        "VimeoVideo(\"693794768\", h=\"8e5b53b0ca\", width=600)"
      ]
    },
    {
      "cell_type": "markdown",
      "id": "59a2b7b2-4daf-4a2b-a408-58c712dda746",
      "metadata": {
        "deletable": false,
        "editable": false,
        "id": "59a2b7b2-4daf-4a2b-a408-58c712dda746"
      },
      "source": [
        "**Task 5.1.8:** Explore the values associated with the keys in `poland_data`. What do each of them represent? How is the information associated with the `\"data\"` key organized?"
      ]
    },
    {
      "cell_type": "code",
      "execution_count": null,
      "id": "28b9916e-aa13-4453-9a23-c9bb2a4c17ec",
      "metadata": {
        "deletable": false,
        "tags": [],
        "id": "28b9916e-aa13-4453-9a23-c9bb2a4c17ec"
      },
      "outputs": [],
      "source": [
        "# Continue Exploring `poland_data`\n",
        "\n",
        "# poland_data[\"schema\"].keys()\n",
        "# poland_data[\"metadata\"]\n",
        "poland_data[\"data\"][0]"
      ]
    },
    {
      "cell_type": "markdown",
      "id": "dd887da8-d504-455b-adb2-332123298dc1",
      "metadata": {
        "deletable": false,
        "editable": false,
        "id": "dd887da8-d504-455b-adb2-332123298dc1"
      },
      "source": [
        "This dataset includes all the information we need to figure whether or not a Polish company went bankrupt in 2009. There's a bunch of features included in the dataset, each of which corresponds to some element of a company's balance sheet. You can explore the features by looking at the [data dictionary](./056-data-dictionary.ipynb). Most importantly, we also know whether or not the company went bankrupt. That's the last key-value pair."
      ]
    },
    {
      "cell_type": "markdown",
      "id": "2b5b25e6-4a78-414f-8286-b667d24c2826",
      "metadata": {
        "deletable": false,
        "editable": false,
        "id": "2b5b25e6-4a78-414f-8286-b667d24c2826"
      },
      "source": [
        "Now that we know what data we have for each company, let's take a look at how many companies there are."
      ]
    },
    {
      "cell_type": "code",
      "execution_count": null,
      "id": "bb74f065-07ae-4547-97c7-79601f4ae3e3",
      "metadata": {
        "deletable": false,
        "editable": false,
        "init_cell": true,
        "tags": [],
        "id": "bb74f065-07ae-4547-97c7-79601f4ae3e3"
      },
      "outputs": [],
      "source": [
        "VimeoVideo(\"693794783\", h=\"8d333027cc\", width=600)"
      ]
    },
    {
      "cell_type": "markdown",
      "id": "e8b5393c-7c8a-41b9-b8e9-91e6afa46f94",
      "metadata": {
        "deletable": false,
        "editable": false,
        "id": "e8b5393c-7c8a-41b9-b8e9-91e6afa46f94"
      },
      "source": [
        "**Task 5.1.9:** Calculate the number of companies included in the dataset.\n",
        "\n",
        "- [Calculate the length of a list in Python.](../%40textbook/01-python-getting-started.ipynb#Working-with-Lists)\n",
        "- [List the keys of a dictionary in Python.](../%40textbook/01-python-getting-started.ipynb#Dictionary-Keys)"
      ]
    },
    {
      "cell_type": "code",
      "execution_count": null,
      "id": "a062458c-18d3-4001-b716-bc2d70f4bc8b",
      "metadata": {
        "deletable": false,
        "tags": [],
        "id": "a062458c-18d3-4001-b716-bc2d70f4bc8b"
      },
      "outputs": [],
      "source": [
        "# Calculate number of companies\n",
        "len(poland_data[\"data\"])"
      ]
    },
    {
      "cell_type": "markdown",
      "id": "2d030ed0-def1-4dd9-82a9-5e6b4ad15a1c",
      "metadata": {
        "deletable": false,
        "editable": false,
        "id": "2d030ed0-def1-4dd9-82a9-5e6b4ad15a1c"
      },
      "source": [
        "And then let's see how many features were included for one of the companies."
      ]
    },
    {
      "cell_type": "code",
      "execution_count": null,
      "id": "fa923953-d59f-4311-996d-2bc41f65dace",
      "metadata": {
        "deletable": false,
        "editable": false,
        "init_cell": true,
        "tags": [],
        "id": "fa923953-d59f-4311-996d-2bc41f65dace"
      },
      "outputs": [],
      "source": [
        "VimeoVideo(\"693794797\", h=\"3c1eff82dc\", width=600)"
      ]
    },
    {
      "cell_type": "markdown",
      "id": "2068732e-830b-465e-9f73-02043e7a5a93",
      "metadata": {
        "deletable": false,
        "editable": false,
        "id": "2068732e-830b-465e-9f73-02043e7a5a93"
      },
      "source": [
        "**Task 5.1.10:** Calculate the number of features associated with `\"company_1\"`."
      ]
    },
    {
      "cell_type": "code",
      "execution_count": null,
      "id": "e455d7c7-72df-41d0-8987-aa9dc26e7eff",
      "metadata": {
        "deletable": false,
        "tags": [],
        "id": "e455d7c7-72df-41d0-8987-aa9dc26e7eff"
      },
      "outputs": [],
      "source": [
        "# Calculate number of features\n",
        "len(poland_data[\"data\"][0])"
      ]
    },
    {
      "cell_type": "markdown",
      "id": "04b24ce6-00b3-4b09-bbd1-325780a80cb5",
      "metadata": {
        "deletable": false,
        "editable": false,
        "id": "04b24ce6-00b3-4b09-bbd1-325780a80cb5"
      },
      "source": [
        "Since we're dealing with data stored in a JSON file, which is common for semi-structured data, we can't assume that all companies have the same features. So let's check!"
      ]
    },
    {
      "cell_type": "code",
      "execution_count": null,
      "id": "bc52a27f-4409-4850-92eb-fd3bae9665cc",
      "metadata": {
        "deletable": false,
        "editable": false,
        "init_cell": true,
        "tags": [],
        "id": "bc52a27f-4409-4850-92eb-fd3bae9665cc"
      },
      "outputs": [],
      "source": [
        "VimeoVideo(\"693794810\", h=\"80e195944b\", width=600)"
      ]
    },
    {
      "cell_type": "markdown",
      "id": "d4aef7a8-09fc-466c-b27e-59a2eb1faaba",
      "metadata": {
        "deletable": false,
        "editable": false,
        "id": "d4aef7a8-09fc-466c-b27e-59a2eb1faaba"
      },
      "source": [
        "**Task 5.1.11:** Iterate through the companies in `poland_data[\"data\"]` and check that they all have the same number of features.\n",
        "\n",
        "- [What's an iterator?](../%40textbook/02-python-advanced.ipynb#Iterators-and-Iterables)\n",
        "- [Access the items in a dictionary in Python.](../%40textbook/01-python-getting-started.ipynb#Working-with-Lists)\n",
        "- [Write a for loop in Python.](../%40textbook/01-python-getting-started.ipynb#Working-with-for-Loops)"
      ]
    },
    {
      "cell_type": "code",
      "execution_count": null,
      "id": "abf4ddaa-aa83-4cfe-817c-886cce0ece35",
      "metadata": {
        "deletable": false,
        "tags": [],
        "id": "abf4ddaa-aa83-4cfe-817c-886cce0ece35"
      },
      "outputs": [],
      "source": [
        "# Iterate through companies\n",
        "# for i in range(len(poland_data[\"data\"])):\n",
        "#     conferes = len(poland_data[\"data\"][i]) == 66\n",
        "#     if conferes == False:\n",
        "#         print(poland_data[\"data\"][i])\n",
        "\n",
        "for company in poland_data[\"data\"]:\n",
        "    if len(company) != 66:\n",
        "        print(company)"
      ]
    },
    {
      "cell_type": "markdown",
      "id": "477cba81-0a53-42d6-971f-20d79ca3eabb",
      "metadata": {
        "deletable": false,
        "editable": false,
        "id": "477cba81-0a53-42d6-971f-20d79ca3eabb"
      },
      "source": [
        "It looks like they do!"
      ]
    },
    {
      "cell_type": "markdown",
      "id": "664e47ff-6c88-44fa-bf33-a0ce2bb253ab",
      "metadata": {
        "deletable": false,
        "editable": false,
        "id": "664e47ff-6c88-44fa-bf33-a0ce2bb253ab"
      },
      "source": [
        "Let's put all this together. First, open up the compressed dataset and load it directly into a dictionary."
      ]
    },
    {
      "cell_type": "code",
      "execution_count": null,
      "id": "f5a5c6e0-9da7-4e7f-ae49-3b57afaa650e",
      "metadata": {
        "deletable": false,
        "editable": false,
        "init_cell": true,
        "tags": [],
        "id": "f5a5c6e0-9da7-4e7f-ae49-3b57afaa650e"
      },
      "outputs": [],
      "source": [
        "VimeoVideo(\"693794824\", h=\"dbfc9b43ee\", width=600)"
      ]
    },
    {
      "cell_type": "markdown",
      "id": "9133e0fe-fa33-485f-975a-224028432782",
      "metadata": {
        "deletable": false,
        "editable": false,
        "id": "9133e0fe-fa33-485f-975a-224028432782"
      },
      "source": [
        "**Task 5.1.12:** Using a context manager, open the file `poland-bankruptcy-data-2009.json.gz` and load it as a dictionary with the variable name `poland_data_gz`.\n",
        "\n",
        "- [What's a context manager?](../%40textbook/02-python-advanced.ipynb#Create-files-using-Context-Manager)\n",
        "- [Open a file in Python.](../%40textbook/02-python-advanced.ipynb#Create-files-using-Context-Manager)\n",
        "- [Load a JSON file into a dictionary using Python.](../%40textbook/01-python-getting-started.ipynb#Working-with-Dictionaries)"
      ]
    },
    {
      "cell_type": "code",
      "execution_count": null,
      "id": "66f08f8d-3e3d-4ca7-a0e9-939e0ac1c570",
      "metadata": {
        "deletable": false,
        "tags": [],
        "id": "66f08f8d-3e3d-4ca7-a0e9-939e0ac1c570"
      },
      "outputs": [],
      "source": [
        "# Open compressed file and load contents\n",
        "with gzip.open('./data/poland-bankruptcy-data-2009.json.gz','r') as arq:\n",
        "    poland_data_gz = json.load(arq)\n",
        "\n",
        "print(type(poland_data_gz))"
      ]
    },
    {
      "cell_type": "markdown",
      "id": "e2590f8f-0c9c-4eb4-a317-d65fed808a85",
      "metadata": {
        "deletable": false,
        "editable": false,
        "id": "e2590f8f-0c9c-4eb4-a317-d65fed808a85"
      },
      "source": [
        "Since we now have two versions of the dataset — one compressed and one uncompressed — we need to compare them to make sure they're the same."
      ]
    },
    {
      "cell_type": "code",
      "execution_count": null,
      "id": "ebe76fcb-fbfd-491b-8da3-51d71aaf9dfb",
      "metadata": {
        "deletable": false,
        "editable": false,
        "init_cell": true,
        "tags": [],
        "id": "ebe76fcb-fbfd-491b-8da3-51d71aaf9dfb"
      },
      "outputs": [],
      "source": [
        "VimeoVideo(\"693794837\", h=\"925b5e4e5a\", width=600)"
      ]
    },
    {
      "cell_type": "markdown",
      "id": "3dba18a9-df27-4c1c-a5ab-f0382011fbbe",
      "metadata": {
        "deletable": false,
        "editable": false,
        "id": "3dba18a9-df27-4c1c-a5ab-f0382011fbbe"
      },
      "source": [
        "**Task 5.1.13:** Explore `poland_data_gz` to confirm that is contains the same data as `data`, in the same format. <span style=\"display: none\">WorldQuant University Canary</span>"
      ]
    },
    {
      "cell_type": "code",
      "execution_count": null,
      "id": "16aaa185-fd67-4d75-bf52-97568b2d31c0",
      "metadata": {
        "deletable": false,
        "tags": [],
        "id": "16aaa185-fd67-4d75-bf52-97568b2d31c0"
      },
      "outputs": [],
      "source": [
        "# Explore `poland_data_gz`\n",
        "# poland_data_gz[\"schema\"].keys()\n",
        "# poland_data_gz[\"metadata\"]\n",
        "# len(poland_data_gz[\"data\"])\n",
        "# len(poland_data_gz[\"data\"][0])\n",
        "# poland_data_gz[\"data\"][0]"
      ]
    },
    {
      "cell_type": "markdown",
      "id": "f41b5df8-2638-4364-a8ce-a8ade23e5d27",
      "metadata": {
        "deletable": false,
        "editable": false,
        "id": "f41b5df8-2638-4364-a8ce-a8ade23e5d27"
      },
      "source": [
        "Looks good! Now that we have an uncompressed dataset, we can turn it into a DataFrame using `pandas`."
      ]
    },
    {
      "cell_type": "code",
      "execution_count": null,
      "id": "ee85b6f6-b998-4b64-b3d9-51d14d65c5e0",
      "metadata": {
        "deletable": false,
        "editable": false,
        "init_cell": true,
        "tags": [],
        "id": "ee85b6f6-b998-4b64-b3d9-51d14d65c5e0"
      },
      "outputs": [],
      "source": [
        "VimeoVideo(\"693794853\", h=\"b74ef86783\", width=600)"
      ]
    },
    {
      "cell_type": "markdown",
      "id": "da3e7183-9363-421b-82ee-68f70639a876",
      "metadata": {
        "deletable": false,
        "editable": false,
        "id": "da3e7183-9363-421b-82ee-68f70639a876"
      },
      "source": [
        "**Task 5.1.14:** Create a DataFrame `df` that contains the all companies in the dataset, indexed by `\"company_id\"`. Remember the principles of *tidy data* that you learned in Project 1, and make sure your DataFrame has shape `(9977, 65)`.\n",
        "\n",
        "- [Create a DataFrame from a dictionary in pandas.](../%40textbook/03-pandas-getting-started.ipynb#Dictionaries)"
      ]
    },
    {
      "cell_type": "code",
      "execution_count": null,
      "id": "10dbd9d5-bfe0-46a8-9601-3b5dd5c10b9e",
      "metadata": {
        "deletable": false,
        "tags": [],
        "id": "10dbd9d5-bfe0-46a8-9601-3b5dd5c10b9e"
      },
      "outputs": [],
      "source": [
        "df = pd.DataFrame().from_dict(poland_data_gz[\"data\"]).set_index('company_id')\n",
        "print(df.shape)\n",
        "df.head()"
      ]
    },
    {
      "cell_type": "markdown",
      "id": "14acd9a3-683f-4fe9-859a-76d44260529e",
      "metadata": {
        "deletable": false,
        "editable": false,
        "id": "14acd9a3-683f-4fe9-859a-76d44260529e"
      },
      "source": [
        "## Import"
      ]
    },
    {
      "cell_type": "markdown",
      "id": "c7b44913-7519-455c-ae90-a079dd36124e",
      "metadata": {
        "deletable": false,
        "editable": false,
        "id": "c7b44913-7519-455c-ae90-a079dd36124e"
      },
      "source": [
        "Now that we have everything set up the way we need it to be, let's combine all these steps into a single function that will decompress the file, load it into a DataFrame, and return it to us as something we can use."
      ]
    },
    {
      "cell_type": "code",
      "execution_count": null,
      "id": "068945bd-efdf-45e1-b1ca-047c58922085",
      "metadata": {
        "deletable": false,
        "editable": false,
        "init_cell": true,
        "tags": [],
        "id": "068945bd-efdf-45e1-b1ca-047c58922085"
      },
      "outputs": [],
      "source": [
        "VimeoVideo(\"693794879\", h=\"f51a3a342f\", width=600)"
      ]
    },
    {
      "cell_type": "markdown",
      "id": "1ff20787-5093-4123-af10-2284a7cca708",
      "metadata": {
        "deletable": false,
        "editable": false,
        "id": "1ff20787-5093-4123-af10-2284a7cca708"
      },
      "source": [
        "**Task 5.1.15:** Create a `wrangle` function that takes the name of a compressed file as input and returns a tidy DataFrame. After you confirm that your function is working as intended, submit it to the grader."
      ]
    },
    {
      "cell_type": "code",
      "execution_count": null,
      "id": "79e174b4-8859-4da1-b238-c02e19ed3181",
      "metadata": {
        "deletable": false,
        "tags": [],
        "id": "79e174b4-8859-4da1-b238-c02e19ed3181"
      },
      "outputs": [],
      "source": [
        "def wrangle(filename):\n",
        "\n",
        "    with gzip.open(filename, 'r') as arq:\n",
        "        data = json.load(arq)\n",
        "\n",
        "    df = pd.DataFrame().from_dict(data[\"data\"]).set_index('company_id')\n",
        "\n",
        "    return df"
      ]
    },
    {
      "cell_type": "code",
      "execution_count": null,
      "id": "11940bd7-820c-4304-b3b9-3249e1ee6693",
      "metadata": {
        "deletable": false,
        "tags": [],
        "id": "11940bd7-820c-4304-b3b9-3249e1ee6693"
      },
      "outputs": [],
      "source": [
        "df = wrangle(\"data/poland-bankruptcy-data-2009.json.gz\")\n",
        "print(df.shape)\n",
        "df.head()"
      ]
    },
    {
      "cell_type": "code",
      "execution_count": null,
      "id": "8e30a768-4a75-409e-9a9f-8e8040940d28",
      "metadata": {
        "deletable": false,
        "editable": false,
        "tags": [],
        "id": "8e30a768-4a75-409e-9a9f-8e8040940d28"
      },
      "outputs": [],
      "source": [
        "\n",
        "wqet_grader.grade(\n",
        "    \"Project 5 Assessment\",\n",
        "    \"Task 5.1.15\",\n",
        "    wrangle(\"data/poland-bankruptcy-data-2009.json.gz\"),\n",
        ")"
      ]
    },
    {
      "cell_type": "markdown",
      "id": "55564cf1",
      "metadata": {
        "deletable": false,
        "editable": false,
        "id": "55564cf1"
      },
      "source": [
        "---\n",
        "Copyright 2023 WorldQuant University. This\n",
        "content is licensed solely for personal use. Redistribution or\n",
        "publication of this material is strictly prohibited.\n"
      ]
    },
    {
      "cell_type": "markdown",
      "id": "cfb6d21d",
      "metadata": {
        "deletable": false,
        "editable": false,
        "id": "cfb6d21d"
      },
      "source": [
        "\n",
        "<div class=\"alert alert-info\" role=\"alert\">\n",
        "  <p>\n",
        "    <center><b>Usage Guidelines</b></center>\n",
        "  </p>\n",
        "\n",
        "  <p>\n",
        "    This lesson is part of the <b>DS Lab core curriculum</b>. For that reason, this notebook can only be used on your WQU virtual machine.\n",
        "  </p>\n",
        "\n",
        "  <p>\n",
        "    This means:\n",
        "    <ul>\n",
        "      <li><span style=\"color: red\">ⓧ</span> No downloading this notebook.</li>\n",
        "      <li><span style=\"color: red\">ⓧ</span> No re-sharing of this notebook with friends or colleagues.</li>\n",
        "      <li><span style=\"color: red\">ⓧ</span> No downloading the embedded videos in this notebook.</li>\n",
        "      <li><span style=\"color: red\">ⓧ</span> No re-sharing embedded videos with friends or colleagues.</li>\n",
        "      <li><span style=\"color: red\">ⓧ</span> No adding this notebook to public or private repositories.</li>\n",
        "      <li><span style=\"color: red\">ⓧ</span> No uploading this notebook (or screenshots of it) to other websites, including websites for study resources.</li>\n",
        "    </ul>\n",
        "\n",
        "  </p>\n",
        "</div>\n"
      ]
    },
    {
      "cell_type": "markdown",
      "id": "a38665e1-edaf-45c9-ac69-3862e5ff7831",
      "metadata": {
        "deletable": false,
        "editable": false,
        "id": "a38665e1-edaf-45c9-ac69-3862e5ff7831"
      },
      "source": [
        "<font size=\"+3\"><strong>5.2. Imbalanced Data</strong></font>"
      ]
    },
    {
      "cell_type": "markdown",
      "id": "ef5d6484-df67-482b-a062-394e715c642e",
      "metadata": {
        "deletable": false,
        "editable": false,
        "id": "ef5d6484-df67-482b-a062-394e715c642e"
      },
      "source": [
        "In the last lesson, we prepared the data.\n",
        "\n",
        "In this lesson, we're going to explore some of the features of the dataset, use visualizations to help us understand those features, and develop a model that solves the problem of imbalanced data by under- and over-sampling."
      ]
    },
    {
      "cell_type": "code",
      "execution_count": null,
      "id": "e89949a0-4a09-4a49-9f79-b51c4b34f1d8",
      "metadata": {
        "deletable": false,
        "editable": false,
        "init_cell": true,
        "tags": [],
        "id": "e89949a0-4a09-4a49-9f79-b51c4b34f1d8"
      },
      "outputs": [],
      "source": [
        "import gzip\n",
        "import json\n",
        "import pickle\n",
        "\n",
        "import matplotlib.pyplot as plt\n",
        "import pandas as pd\n",
        "import seaborn as sns\n",
        "import wqet_grader\n",
        "from imblearn.over_sampling import RandomOverSampler\n",
        "from imblearn.under_sampling import RandomUnderSampler\n",
        "from IPython.display import VimeoVideo\n",
        "from sklearn.impute import SimpleImputer\n",
        "from sklearn.metrics import ConfusionMatrixDisplay\n",
        "from sklearn.model_selection import train_test_split\n",
        "from sklearn.pipeline import make_pipeline\n",
        "from sklearn.tree import DecisionTreeClassifier\n",
        "\n",
        "wqet_grader.init(\"Project 5 Assessment\")\n"
      ]
    },
    {
      "cell_type": "code",
      "execution_count": null,
      "id": "fd1507d9-7ecd-4e3c-934e-d2257478ba99",
      "metadata": {
        "deletable": false,
        "editable": false,
        "init_cell": true,
        "id": "fd1507d9-7ecd-4e3c-934e-d2257478ba99"
      },
      "outputs": [],
      "source": [
        "VimeoVideo(\"694058667\", h=\"44426f200b\", width=600)"
      ]
    },
    {
      "cell_type": "markdown",
      "id": "2209334e-f9a2-4764-83d8-150e25c5017f",
      "metadata": {
        "deletable": false,
        "editable": false,
        "id": "2209334e-f9a2-4764-83d8-150e25c5017f"
      },
      "source": [
        "# Prepare Data"
      ]
    },
    {
      "cell_type": "markdown",
      "id": "dd41eebd-6443-4b5f-9392-641506cd6589",
      "metadata": {
        "deletable": false,
        "editable": false,
        "id": "dd41eebd-6443-4b5f-9392-641506cd6589"
      },
      "source": [
        "## Import"
      ]
    },
    {
      "cell_type": "markdown",
      "id": "1a5b0717-0975-441c-9036-963c2c432df8",
      "metadata": {
        "deletable": false,
        "editable": false,
        "id": "1a5b0717-0975-441c-9036-963c2c432df8"
      },
      "source": [
        "As always, we need to begin by bringing our data into the project, and the function we developed in the previous module is exactly what we need."
      ]
    },
    {
      "cell_type": "code",
      "execution_count": null,
      "id": "0674563c-ede3-4440-9992-3c2992655704",
      "metadata": {
        "deletable": false,
        "editable": false,
        "init_cell": true,
        "id": "0674563c-ede3-4440-9992-3c2992655704"
      },
      "outputs": [],
      "source": [
        "VimeoVideo(\"694058628\", h=\"00b4cfd027\", width=600)"
      ]
    },
    {
      "cell_type": "markdown",
      "id": "9261a342-9846-4d0c-b653-9ac0d101fdf8",
      "metadata": {
        "deletable": false,
        "editable": false,
        "id": "9261a342-9846-4d0c-b653-9ac0d101fdf8"
      },
      "source": [
        "**Task 5.2.1:** Complete the `wrangle` function below using the code you developed in the last lesson. Then use it to import `poland-bankruptcy-data-2009.json.gz` into the DataFrame `df`.\n",
        "\n",
        "- [<span id='technique'>Write a function in <span id='tool'>Python</span></span>.](../%40textbook/02-python-advanced.ipynb#Functions)"
      ]
    },
    {
      "cell_type": "code",
      "execution_count": null,
      "id": "8189d8c1-e5ad-4739-9502-3e1982998139",
      "metadata": {
        "deletable": false,
        "id": "8189d8c1-e5ad-4739-9502-3e1982998139"
      },
      "outputs": [],
      "source": [
        "def wrangle(filename):\n",
        "\n",
        "    # Open compressed file, load into dictionary\n",
        "\n",
        "    # Load dictionary into DataFrame, set index\n",
        "\n",
        "    return df"
      ]
    },
    {
      "cell_type": "code",
      "execution_count": null,
      "id": "25b19635-4c1a-4a3f-85e1-dfe462874c20",
      "metadata": {
        "deletable": false,
        "id": "25b19635-4c1a-4a3f-85e1-dfe462874c20"
      },
      "outputs": [],
      "source": [
        "df = ...\n",
        "print(df.shape)\n",
        "df.head()"
      ]
    },
    {
      "cell_type": "markdown",
      "id": "e89f608b-1e91-42d5-b1ce-8008eaa51ef8",
      "metadata": {
        "deletable": false,
        "editable": false,
        "id": "e89f608b-1e91-42d5-b1ce-8008eaa51ef8"
      },
      "source": [
        "## Explore"
      ]
    },
    {
      "cell_type": "markdown",
      "id": "bff799dd-2b03-4122-972a-c93ccec20f8a",
      "metadata": {
        "deletable": false,
        "editable": false,
        "id": "bff799dd-2b03-4122-972a-c93ccec20f8a"
      },
      "source": [
        "Let's take a moment to refresh our memory on what's in this dataset. In the last lesson, we noticed that the data was stored in a JSON file (similar to a Python dictionary), and we explored the key-value pairs. This time, we're going to look at what the values in those pairs actually are."
      ]
    },
    {
      "cell_type": "code",
      "execution_count": null,
      "id": "fc31dd1f-4dea-4beb-9446-86775b9f1aee",
      "metadata": {
        "deletable": false,
        "editable": false,
        "init_cell": true,
        "id": "fc31dd1f-4dea-4beb-9446-86775b9f1aee"
      },
      "outputs": [],
      "source": [
        "VimeoVideo(\"694058591\", h=\"8fc20629aa\", width=600)"
      ]
    },
    {
      "cell_type": "markdown",
      "id": "d821578e-5c6b-4c5d-8beb-d1904a9f2243",
      "metadata": {
        "deletable": false,
        "editable": false,
        "id": "d821578e-5c6b-4c5d-8beb-d1904a9f2243"
      },
      "source": [
        "**Task 5.2.2:** Use the `info` method to explore `df`. What type of features does this dataset have? Which column is the target? Are there columns will missing values that we'll need to address?\n",
        "\n",
        "- [Inspect a DataFrame using the `shape`, `info`, and `head` in pandas.](../%40textbook/03-pandas-getting-started.ipynb#Inspecting-DataFrames)"
      ]
    },
    {
      "cell_type": "code",
      "execution_count": null,
      "id": "03e4b625-da67-4322-8598-4ea4e5de2896",
      "metadata": {
        "deletable": false,
        "id": "03e4b625-da67-4322-8598-4ea4e5de2896"
      },
      "outputs": [],
      "source": [
        "# Inspect DataFrame\n"
      ]
    },
    {
      "cell_type": "markdown",
      "id": "0743bccb-2695-478f-b983-3f1345013ea3",
      "metadata": {
        "deletable": false,
        "editable": false,
        "id": "0743bccb-2695-478f-b983-3f1345013ea3"
      },
      "source": [
        "That's solid information. We know all our features are numerical and that we have missing data. But, as always, it's a good idea to do some visualizations to see if there are any interesting trends or ideas we should keep in mind while we work. First, let's take a look at how many firms are bankrupt, and how many are not."
      ]
    },
    {
      "cell_type": "code",
      "execution_count": null,
      "id": "6ac24acf-1ce9-43d0-b563-8fd530809f96",
      "metadata": {
        "deletable": false,
        "editable": false,
        "init_cell": true,
        "id": "6ac24acf-1ce9-43d0-b563-8fd530809f96"
      },
      "outputs": [],
      "source": [
        "VimeoVideo(\"694058537\", h=\"01caf9ae83\", width=600)"
      ]
    },
    {
      "cell_type": "markdown",
      "id": "91a64015-cca6-40e7-b236-1c38ff0354e9",
      "metadata": {
        "deletable": false,
        "editable": false,
        "id": "91a64015-cca6-40e7-b236-1c38ff0354e9"
      },
      "source": [
        "**Task 5.2.3:** Create a bar chart of the value counts for the `\"bankrupt\"` column. You want to calculate the relative frequencies of the classes, not the raw count, so be sure to set the `normalize` argument to `True`.\n",
        "\n",
        "- [What's a <span id='term'>bar chart</span>?](../%40textbook/06-visualization-matplotlib.ipynb#Bar-Charts)\n",
        "- [What's a <span id='technique'>majority class</span>?](../%40textbook/14-ml-classification.ipynb#Majority-and-Minority-Classes)\n",
        "- [What's a <span id='technique'>minority class</span>?](../%40textbook/14-ml-classification.ipynb#Majority-and-Minority-Classes)\n",
        "- [What's a positive class?](../%40textbook/14-ml-classification.ipynb#Positive-and-Negative-Classes)\n",
        "- [What's a negative class?](../%40textbook/14-ml-classification.ipynb#Positive-and-Negative-Classes)\n",
        "- [Aggregate data in a Series using `value_counts` in pandas.](../%40textbook/04-pandas-advanced.ipynb#Working-with-value_counts-in-a-Series)\n",
        "- [<span id='technique'>Create a bar chart using <span id='tool'>pandas</span></span>.](../%40textbook/07-visualization-pandas.ipynb#Bar-Charts)"
      ]
    },
    {
      "cell_type": "code",
      "execution_count": null,
      "id": "49357719-acf1-4180-8fde-8ad1b79d281b",
      "metadata": {
        "deletable": false,
        "id": "49357719-acf1-4180-8fde-8ad1b79d281b"
      },
      "outputs": [],
      "source": [
        "# Plot class balance\n"
      ]
    },
    {
      "cell_type": "markdown",
      "id": "6b4b37f1-4a10-479c-80df-d7d073d8c005",
      "metadata": {
        "deletable": false,
        "editable": false,
        "id": "6b4b37f1-4a10-479c-80df-d7d073d8c005"
      },
      "source": [
        "That's good news for Poland's economy! Since it looks like most of the companies in our dataset are doing all right for themselves, let's drill down a little farther. However, it also shows us that we have an imbalanced dataset, where our majority class is far bigger than our minority class.\n",
        "\n",
        "In the last lesson, we saw that there were 64 features of each company, each of which had some kind of numerical value. It might be useful to understand where the values for one of these features cluster, so let's make a boxplot to see how the values in `\"feat_27\"` are distributed."
      ]
    },
    {
      "cell_type": "code",
      "execution_count": null,
      "id": "bccc1725-792e-481a-bbb6-4e2bc7dd4046",
      "metadata": {
        "deletable": false,
        "editable": false,
        "init_cell": true,
        "id": "bccc1725-792e-481a-bbb6-4e2bc7dd4046"
      },
      "outputs": [],
      "source": [
        "VimeoVideo(\"694058487\", h=\"6e066151d9\", width=600)"
      ]
    },
    {
      "cell_type": "markdown",
      "id": "42cbe8e8-265e-47ef-83e9-2956f6c746ff",
      "metadata": {
        "deletable": false,
        "editable": false,
        "id": "42cbe8e8-265e-47ef-83e9-2956f6c746ff"
      },
      "source": [
        "**Task 5.2.4:** Use seaborn to create a boxplot that shows the distributions of the `\"feat_27\"` column for both groups in the `\"bankrupt\"` column. Remember to label your axes.\n",
        "\n",
        "- [What's a <span id='term'>boxplot</span>?](../%40textbook/06-visualization-matplotlib.ipynb#Boxplots)\n",
        "- [<span id='technique'>Create a boxplot using <span id='tool'>Matplotlib</span></span>.](../%40textbook/06-visualization-matplotlib.ipynb#Boxplots)"
      ]
    },
    {
      "cell_type": "code",
      "execution_count": null,
      "id": "196afdf0-15bb-48ce-8b14-dc4a660d8253",
      "metadata": {
        "deletable": false,
        "id": "196afdf0-15bb-48ce-8b14-dc4a660d8253"
      },
      "outputs": [],
      "source": [
        "# Create boxplot\n",
        "\n",
        "plt.xlabel(\"Bankrupt\")\n",
        "plt.ylabel(\"POA / financial expenses\")\n",
        "plt.title(\"Distribution of Profit/Expenses Ratio, by Class\");"
      ]
    },
    {
      "cell_type": "markdown",
      "id": "028779e4-1e06-440f-b12e-c1c13fcfc4eb",
      "metadata": {
        "deletable": false,
        "editable": false,
        "id": "028779e4-1e06-440f-b12e-c1c13fcfc4eb"
      },
      "source": [
        "Why does this look so funny? Remember that boxplots exist to help us see the quartiles in a dataset, and this one doesn't really do that. Let's check the distribution of `\"feat_27\"`to see if we can figure out what's going on here."
      ]
    },
    {
      "cell_type": "code",
      "execution_count": null,
      "id": "9f635493-679e-4d48-8d68-4523ce908ef9",
      "metadata": {
        "deletable": false,
        "editable": false,
        "init_cell": true,
        "id": "9f635493-679e-4d48-8d68-4523ce908ef9"
      },
      "outputs": [],
      "source": [
        "VimeoVideo(\"694058435\", h=\"8f0ae805d6\", width=600)"
      ]
    },
    {
      "cell_type": "markdown",
      "id": "7636d728-345d-44af-986b-521d509bed52",
      "metadata": {
        "deletable": false,
        "editable": false,
        "id": "7636d728-345d-44af-986b-521d509bed52"
      },
      "source": [
        "**Task 5.2.5:** Use the `describe` method on the column for `\"feat_27\"`. What can you tell about the distribution of the data based on the mean and median?"
      ]
    },
    {
      "cell_type": "code",
      "execution_count": null,
      "id": "dd909c80-6bb1-4da3-9945-75e3c8e9a68b",
      "metadata": {
        "deletable": false,
        "id": "dd909c80-6bb1-4da3-9945-75e3c8e9a68b"
      },
      "outputs": [],
      "source": [
        "# Summary statistics for `feat_27`\n"
      ]
    },
    {
      "cell_type": "markdown",
      "id": "956e3938-f05d-4ab4-8c7c-1c128201240b",
      "metadata": {
        "deletable": false,
        "editable": false,
        "id": "956e3938-f05d-4ab4-8c7c-1c128201240b"
      },
      "source": [
        "Hmmm. Note that the median is around 1, but the mean is over 1000. That suggests that this feature is skewed to the right. Let's make a histogram to see what the distribution actually looks like."
      ]
    },
    {
      "cell_type": "code",
      "execution_count": null,
      "id": "85af2af0-f048-47eb-a0be-cbdbc8cca586",
      "metadata": {
        "deletable": false,
        "editable": false,
        "init_cell": true,
        "id": "85af2af0-f048-47eb-a0be-cbdbc8cca586"
      },
      "outputs": [],
      "source": [
        "VimeoVideo(\"694058398\", h=\"1078bb6d8b\", width=600)"
      ]
    },
    {
      "cell_type": "markdown",
      "id": "3334b78f-c578-4fe8-867c-aaf301cf07c3",
      "metadata": {
        "deletable": false,
        "editable": false,
        "id": "3334b78f-c578-4fe8-867c-aaf301cf07c3"
      },
      "source": [
        "**Task 5.2.6:** Create a histogram of `\"feat_27\"`. Make sure to label x-axis `\"POA / financial expenses\"`, the y-axis `\"Count\"`, and use the title `\"Distribution of Profit/Expenses Ratio\"`.\n",
        "\n",
        "- [What's a histogram?](../%40textbook/06-visualization-matplotlib.ipynb#Histograms)\n",
        "- [Create a histogram using Matplotlib.](../%40textbook/06-visualization-matplotlib.ipynb#Histograms)"
      ]
    },
    {
      "cell_type": "code",
      "execution_count": null,
      "id": "4889da74-cb9d-4f21-a17a-823c9955fbdf",
      "metadata": {
        "deletable": false,
        "id": "4889da74-cb9d-4f21-a17a-823c9955fbdf"
      },
      "outputs": [],
      "source": [
        "# Plot histogram of `feat_27`\n",
        "\n",
        "plt.xlabel(\"POA / financial expenses\")\n",
        "plt.ylabel(\"Count\"),\n",
        "plt.title(\"Distribution of Profit/Expenses Ratio\");"
      ]
    },
    {
      "cell_type": "markdown",
      "id": "38583fa5-9cf8-4021-88f5-4f486c636e59",
      "metadata": {
        "deletable": false,
        "editable": false,
        "id": "38583fa5-9cf8-4021-88f5-4f486c636e59"
      },
      "source": [
        "Aha! We saw it in the numbers and now we see it in the histogram. The data is very skewed. So, in order to create a helpful boxplot, we need to trim the data."
      ]
    },
    {
      "cell_type": "code",
      "execution_count": null,
      "id": "77b8aaa6-ee87-464c-a894-8e3885000d10",
      "metadata": {
        "deletable": false,
        "editable": false,
        "init_cell": true,
        "id": "77b8aaa6-ee87-464c-a894-8e3885000d10"
      },
      "outputs": [],
      "source": [
        "VimeoVideo(\"694058328\", h=\"4aecdc442d\", width=600)"
      ]
    },
    {
      "cell_type": "markdown",
      "id": "ac83aeab-48a6-4a18-9b5a-3768fd69d48f",
      "metadata": {
        "deletable": false,
        "editable": false,
        "id": "ac83aeab-48a6-4a18-9b5a-3768fd69d48f"
      },
      "source": [
        "**Task 5.2.7:** Recreate the boxplot that you made above, this time only using the values for `\"feat_27\"` that fall between the `0.1` and `0.9` quantiles for the column.\n",
        "\n",
        "- [What's a boxplot?](../%40textbook/06-visualization-matplotlib.ipynb#Boxplots)\n",
        "- [What's a quantile?](../%40textbook/05-pandas-summary-statistics.ipynb#Calculate-the-Quantiles-for-a-Series)\n",
        "- [Calculate the quantiles for a Series in pandas.](../%40textbook/05-pandas-summary-statistics.ipynb#Calculate-the-Quantiles-for-a-Series)\n",
        "- [Create a boxplot using Matplotlib.](../%40textbook/06-visualization-matplotlib.ipynb#Boxplots)"
      ]
    },
    {
      "cell_type": "code",
      "execution_count": null,
      "id": "94328747-6212-4505-9d8d-39c4b68ef126",
      "metadata": {
        "deletable": false,
        "id": "94328747-6212-4505-9d8d-39c4b68ef126"
      },
      "outputs": [],
      "source": [
        "# Create clipped boxplot\n",
        "\n",
        "plt.xlabel(\"Bankrupt\")\n",
        "plt.ylabel(\"POA / financial expenses\")\n",
        "plt.title(\"Distribution of Profit/Expenses Ratio, by Bankruptcy Status\");"
      ]
    },
    {
      "cell_type": "markdown",
      "id": "68ad9d1b-3dc4-413e-8264-f5e2058c9c2d",
      "metadata": {
        "deletable": false,
        "editable": false,
        "id": "68ad9d1b-3dc4-413e-8264-f5e2058c9c2d"
      },
      "source": [
        "That makes a lot more sense. Let's take a look at some of the other features in the dataset to see what else is out there."
      ]
    },
    {
      "cell_type": "markdown",
      "id": "460743a9-1be1-438f-a7bd-591dfafa8385",
      "metadata": {
        "deletable": false,
        "editable": false,
        "id": "460743a9-1be1-438f-a7bd-591dfafa8385"
      },
      "source": [
        "<div class=\"alert alert-info\" role=\"alert\">\n",
        "    <p><b>More context on <code>\"feat_27\"</code>:</b> <em>Profit on operating activities</em> is profit that a company makes through its \"normal\" operations. For instance, a car company profits from the sale of its cars. However, a company may have other forms of profit, such as financial investments. So a company's <em>total profit</em> may be positive even when its profit on operating activities is negative.\n",
        "    <p><em>Financial expenses</em> include things like interest due on loans, and does not include \"normal\" expenses (like the money that a car company spends on raw materials to manufacture cars).\n",
        "   </div>"
      ]
    },
    {
      "cell_type": "markdown",
      "id": "3a6390ae-0647-496c-8b45-da345b2baffc",
      "metadata": {
        "deletable": false,
        "editable": false,
        "id": "3a6390ae-0647-496c-8b45-da345b2baffc"
      },
      "source": [
        "**Task 5.2.8:** Repeat the exploration you just did for `\"feat_27\"` on two other features in the dataset. Do they show the same skewed distribution? Are there large differences between bankrupt and solvent companies?"
      ]
    },
    {
      "cell_type": "code",
      "execution_count": null,
      "id": "051b35a0",
      "metadata": {
        "deletable": false,
        "id": "051b35a0"
      },
      "outputs": [],
      "source": [
        "# Explore another feature"
      ]
    },
    {
      "cell_type": "markdown",
      "id": "9bee0894-eeb3-48fa-84b9-50bb3f053c9d",
      "metadata": {
        "deletable": false,
        "editable": false,
        "id": "9bee0894-eeb3-48fa-84b9-50bb3f053c9d"
      },
      "source": [
        "Looking at other features, we can see that they're skewed, too. This will be important to keep in mind when we decide what type of model we want to use.\n",
        "\n",
        "Another important consideration for model selection is whether there are any issues with multicollinearity in our model. Let's check."
      ]
    },
    {
      "cell_type": "code",
      "execution_count": null,
      "id": "1916f298-bd7e-4a18-9b28-d9d928f5c3bd",
      "metadata": {
        "deletable": false,
        "editable": false,
        "init_cell": true,
        "id": "1916f298-bd7e-4a18-9b28-d9d928f5c3bd"
      },
      "outputs": [],
      "source": [
        "VimeoVideo(\"694058273\", h=\"85b3be2f63\", width=600)"
      ]
    },
    {
      "cell_type": "markdown",
      "id": "dac54512-c22d-475f-9fbf-c0d5ce8946da",
      "metadata": {
        "deletable": false,
        "editable": false,
        "id": "dac54512-c22d-475f-9fbf-c0d5ce8946da"
      },
      "source": [
        "**Task 5.2.9:** Plot a correlation heatmap of features in `df`. Since `\"bankrupt\"` will be your target, you don't need to include it in your heatmap.\n",
        "\n",
        "- [What's a <span id='term'>heatmap?](../%40textbook/09-visualization-seaborn.ipynb#Correlation-Heatmaps)\n",
        "- [<span id='technique'>Create a correlation matrix in <span id='tool'>pandas.](../%40textbook/07-visualization-pandas.ipynb#Correlation-Matrices)\n",
        "- [<span id='technique'>Create a heatmap in <span id='tool'>seaborn.](../%40textbook/09-visualization-seaborn.ipynb#Correlation-Heatmaps)"
      ]
    },
    {
      "cell_type": "code",
      "execution_count": null,
      "id": "40887a1b-bcb2-4ad2-af68-bea899d0c434",
      "metadata": {
        "deletable": false,
        "id": "40887a1b-bcb2-4ad2-af68-bea899d0c434"
      },
      "outputs": [],
      "source": [
        "corr = ...\n"
      ]
    },
    {
      "cell_type": "markdown",
      "id": "c87d1c97-2e52-4bfa-aa15-640dcb2bb2e0",
      "metadata": {
        "deletable": false,
        "editable": false,
        "id": "c87d1c97-2e52-4bfa-aa15-640dcb2bb2e0"
      },
      "source": [
        "So what did we learn from this EDA? First, our data is imbalanced. This is something we need to address in our data preparation. Second, many of our features have missing values that we'll need to impute. And since the features are highly skewed, the best imputation strategy is likely median, not mean. Finally, we have autocorrelation issues, which means that we should steer clear of linear models, and try a tree-based model instead."
      ]
    },
    {
      "cell_type": "markdown",
      "id": "2f852aed-4154-4b49-9e40-af3fb52caee0",
      "metadata": {
        "deletable": false,
        "editable": false,
        "id": "2f852aed-4154-4b49-9e40-af3fb52caee0"
      },
      "source": [
        "## Split"
      ]
    },
    {
      "cell_type": "markdown",
      "id": "37fa80b9-5bf4-4ced-8c0f-050b8514e1e6",
      "metadata": {
        "deletable": false,
        "editable": false,
        "id": "37fa80b9-5bf4-4ced-8c0f-050b8514e1e6"
      },
      "source": [
        "So let's start building that model. If you need a refresher on how and why we split data in these situations, take a look back at the Time Series module."
      ]
    },
    {
      "cell_type": "markdown",
      "id": "034eddda-8e40-47eb-95fe-f31d0e88b929",
      "metadata": {
        "deletable": false,
        "editable": false,
        "id": "034eddda-8e40-47eb-95fe-f31d0e88b929"
      },
      "source": [
        "**Task 5.2.10:** Create your feature matrix `X` and target vector `y`. Your target is `\"bankrupt\"`.\n",
        "\n",
        "- [What's a <span id='term'>feature matrix</span>?](../%40textbook/15-ml-regression.ipynb#Linear-Regression)\n",
        "- [What's a <span id='term'>target vector</span>?](../%40textbook/15-ml-regression.ipynb#Linear-Regression)\n",
        "- [<span id='technique'>Subset a DataFrame by selecting one or more columns in <span id='tool'>pandas</span></span>.](../%40textbook/04-pandas-advanced.ipynb#Subset-a-DataFrame-by-Selecting-One-or-More-Columns)\n",
        "- [<span id='technique'>Select a Series from a DataFrame in <span id='tool'>pandas</span></span>.](../%40textbook/04-pandas-advanced.ipynb#Combine-multiple-categories-in-a-Series)"
      ]
    },
    {
      "cell_type": "code",
      "execution_count": null,
      "id": "3c1ca108-7089-45f3-8ec7-bc8e738808d9",
      "metadata": {
        "deletable": false,
        "id": "3c1ca108-7089-45f3-8ec7-bc8e738808d9"
      },
      "outputs": [],
      "source": [
        "target = \"bankrupt\"\n",
        "X = ...\n",
        "y = ...\n",
        "\n",
        "print(\"X shape:\", X.shape)\n",
        "print(\"y shape:\", y.shape)"
      ]
    },
    {
      "cell_type": "markdown",
      "id": "0c5e37a4-6104-4422-b5ca-493eeb4fed55",
      "metadata": {
        "deletable": false,
        "editable": false,
        "id": "0c5e37a4-6104-4422-b5ca-493eeb4fed55"
      },
      "source": [
        "In order to make sure that our model can generalize, we need to put aside a test set that we'll use to evaluate our model once it's trained."
      ]
    },
    {
      "cell_type": "markdown",
      "id": "9500b64a-eaa5-4a89-98a4-8370717be4ff",
      "metadata": {
        "deletable": false,
        "editable": false,
        "id": "9500b64a-eaa5-4a89-98a4-8370717be4ff"
      },
      "source": [
        "**Task 5.2.11:** Divide your data (`X` and `y`) into training and test sets using a randomized train-test split. Your validation set should be 20% of your total data. And don't forget to set a `random_state` for reproducibility.\n",
        "\n",
        "- [<span id='technique'>Perform a randomized train-test split using <span id='tool'>scikit-learn</span></span>.](../%40textbook/14-ml-classification.ipynb#Randomized-Train-Test-split)"
      ]
    },
    {
      "cell_type": "code",
      "execution_count": null,
      "id": "4e1cb3c3-231d-47e5-9361-bec2f83ef353",
      "metadata": {
        "deletable": false,
        "id": "4e1cb3c3-231d-47e5-9361-bec2f83ef353"
      },
      "outputs": [],
      "source": [
        "X_train, X_test, y_train, y_test = ...\n",
        "\n",
        "print(\"X_train shape:\", X_train.shape)\n",
        "print(\"y_train shape:\", y_train.shape)\n",
        "print(\"X_test shape:\", X_test.shape)\n",
        "print(\"y_test shape:\", y_test.shape)"
      ]
    },
    {
      "cell_type": "markdown",
      "id": "a24fc49d-6b3e-424d-8be2-4ff085b8c641",
      "metadata": {
        "deletable": false,
        "editable": false,
        "id": "a24fc49d-6b3e-424d-8be2-4ff085b8c641"
      },
      "source": [
        "Note that if we wanted to tune any hyperparameters for our model, we'd do another split here, further dividing the training set into training and validation sets. However, we're going to leave hyperparameters for the next lesson, so no need to do the extra split now."
      ]
    },
    {
      "cell_type": "markdown",
      "id": "35999f04-63f3-4178-8e31-75dc45f461ba",
      "metadata": {
        "deletable": false,
        "editable": false,
        "id": "35999f04-63f3-4178-8e31-75dc45f461ba"
      },
      "source": [
        "## Resample"
      ]
    },
    {
      "cell_type": "markdown",
      "id": "5e6dab03-4e55-4d2a-a9a4-6068aa274ac6",
      "metadata": {
        "deletable": false,
        "editable": false,
        "id": "5e6dab03-4e55-4d2a-a9a4-6068aa274ac6"
      },
      "source": [
        "Now that we've split our data into training and validation sets, we can address the class imbalance we saw during our EDA. One strategy is to resample the training data. (This will be different than the resampling we did with time series data in Project 3.) There are many to do this, so let's start with under-sampling."
      ]
    },
    {
      "cell_type": "code",
      "execution_count": null,
      "id": "6cf88493-1c74-4c0a-8c2e-3c91952c77f8",
      "metadata": {
        "deletable": false,
        "editable": false,
        "init_cell": true,
        "id": "6cf88493-1c74-4c0a-8c2e-3c91952c77f8"
      },
      "outputs": [],
      "source": [
        "VimeoVideo(\"694058220\", h=\"00c3a98358\", width=600)"
      ]
    },
    {
      "cell_type": "markdown",
      "id": "53713713-d9ba-4776-936a-95e327b7d202",
      "metadata": {
        "deletable": false,
        "editable": false,
        "id": "53713713-d9ba-4776-936a-95e327b7d202"
      },
      "source": [
        "**Task 5.2.12:** Create a new feature matrix `X_train_under` and target vector `y_train_under` by performing random under-sampling on your training data.\n",
        "\n",
        "- [What is under-sampling?](../%40textbook/13-ml-data-pre-processing-and-production.ipynb#Under-sampling)\n",
        "- [Perform random under-sampling using imbalanced-learn.](../%40textbook/13-ml-data-pre-processing-and-production.ipynb#Under-sampling)"
      ]
    },
    {
      "cell_type": "code",
      "execution_count": null,
      "id": "676afb5f-268b-4080-9825-1a4f69e7b558",
      "metadata": {
        "deletable": false,
        "id": "676afb5f-268b-4080-9825-1a4f69e7b558"
      },
      "outputs": [],
      "source": [
        "under_sampler = ...\n",
        "X_train_under, y_train_under = ...\n",
        "print(X_train_under.shape)\n",
        "X_train_under.head()"
      ]
    },
    {
      "cell_type": "markdown",
      "id": "b84cf5b1-2c98-4531-97cf-5855d778a0e8",
      "metadata": {
        "deletable": false,
        "editable": false,
        "id": "b84cf5b1-2c98-4531-97cf-5855d778a0e8"
      },
      "source": [
        "<div class=\"alert alert-info\" role=\"alert\">\n",
        "    <b>Note:</b> Depending on the random state you set above, you may get a different  shape for <code>X_train_under</code>. Don't worry, it's normal!\n",
        "</div>"
      ]
    },
    {
      "cell_type": "markdown",
      "id": "dd0939f0-25dc-49a0-9421-f1a7de418728",
      "metadata": {
        "deletable": false,
        "editable": false,
        "id": "dd0939f0-25dc-49a0-9421-f1a7de418728"
      },
      "source": [
        "And then we'll over-sample."
      ]
    },
    {
      "cell_type": "code",
      "execution_count": null,
      "id": "6b735652-e3af-4fa4-983a-c2adb3581514",
      "metadata": {
        "deletable": false,
        "editable": false,
        "init_cell": true,
        "id": "6b735652-e3af-4fa4-983a-c2adb3581514"
      },
      "outputs": [],
      "source": [
        "VimeoVideo(\"694058177\", h=\"5cef977f2d\", width=600)"
      ]
    },
    {
      "cell_type": "markdown",
      "id": "5f1a2efc-3bba-4b7a-b6bb-9dab726d7ab5",
      "metadata": {
        "deletable": false,
        "editable": false,
        "id": "5f1a2efc-3bba-4b7a-b6bb-9dab726d7ab5"
      },
      "source": [
        "**Task 5.2.13:** Create a new feature matrix `X_train_over` and target vector `y_train_over` by performing random over-sampling on your training data.\n",
        "\n",
        "- [What is over-sampling?](../%40textbook/13-ml-data-pre-processing-and-production.ipynb#Over-sampling)\n",
        "- [Perform random over-sampling using imbalanced-learn.](../%40textbook/13-ml-data-pre-processing-and-production.ipynb#Over-sampling)"
      ]
    },
    {
      "cell_type": "code",
      "execution_count": null,
      "id": "1ddf4a38-4635-4255-ae18-d0a396d4cfa5",
      "metadata": {
        "deletable": false,
        "id": "1ddf4a38-4635-4255-ae18-d0a396d4cfa5"
      },
      "outputs": [],
      "source": [
        "over_sampler = ...\n",
        "X_train_over, y_train_over = ...\n",
        "print(X_train_over.shape)\n",
        "X_train_over.head()"
      ]
    },
    {
      "cell_type": "markdown",
      "id": "d18094c9-d024-4570-ba60-e3c820ec7f66",
      "metadata": {
        "deletable": false,
        "editable": false,
        "id": "d18094c9-d024-4570-ba60-e3c820ec7f66"
      },
      "source": [
        "# Build Model"
      ]
    },
    {
      "cell_type": "markdown",
      "id": "b093e0e2-1044-4969-81e4-05c1c6276a26",
      "metadata": {
        "deletable": false,
        "editable": false,
        "id": "b093e0e2-1044-4969-81e4-05c1c6276a26"
      },
      "source": [
        "## Baseline"
      ]
    },
    {
      "cell_type": "markdown",
      "id": "751a3ea4-e345-4a9d-b942-ec438dc3d76e",
      "metadata": {
        "deletable": false,
        "editable": false,
        "id": "751a3ea4-e345-4a9d-b942-ec438dc3d76e"
      },
      "source": [
        "As always, we need to establish the baseline for our model. Since this is a classification problem, we'll use accuracy score."
      ]
    },
    {
      "cell_type": "code",
      "execution_count": null,
      "id": "5d0bedaa-0569-4326-ae97-3a036995d52a",
      "metadata": {
        "deletable": false,
        "editable": false,
        "init_cell": true,
        "id": "5d0bedaa-0569-4326-ae97-3a036995d52a"
      },
      "outputs": [],
      "source": [
        "VimeoVideo(\"694058140\", h=\"7ae111412f\", width=600)"
      ]
    },
    {
      "cell_type": "markdown",
      "id": "f18915ca-86cf-46b8-91e5-0afbcbceb842",
      "metadata": {
        "deletable": false,
        "editable": false,
        "id": "f18915ca-86cf-46b8-91e5-0afbcbceb842"
      },
      "source": [
        "**Task 5.2.14:** Calculate the baseline accuracy score for your model.\n",
        "\n",
        "- [What's <span id='tool'>accuracy score</span>?](../%40textbook/14-ml-classification.ipynb#Calculating-Accuracy-Score)\n",
        "- [Aggregate data in a Series using `value_counts` in pandas.](../%40textbook/04-pandas-advanced.ipynb#Working-with-value_counts-in-a-Series)"
      ]
    },
    {
      "cell_type": "code",
      "execution_count": null,
      "id": "2f2897bc-04b0-476b-b97d-d219f274a645",
      "metadata": {
        "deletable": false,
        "id": "2f2897bc-04b0-476b-b97d-d219f274a645"
      },
      "outputs": [],
      "source": [
        "acc_baseline = ...\n",
        "print(\"Baseline Accuracy:\", round(acc_baseline, 4))"
      ]
    },
    {
      "cell_type": "markdown",
      "id": "e65e1626-f07b-4c5f-8aa8-bce7a3222926",
      "metadata": {
        "deletable": false,
        "editable": false,
        "id": "e65e1626-f07b-4c5f-8aa8-bce7a3222926"
      },
      "source": [
        "Note here that, because our classes are imbalanced, the baseline accuracy is very high. We should keep this in mind because, even if our trained model gets a high validation accuracy score, that doesn't mean it's actually *good.*"
      ]
    },
    {
      "cell_type": "markdown",
      "id": "a0b46478-78d8-4183-b990-fc264ef9a68b",
      "metadata": {
        "deletable": false,
        "editable": false,
        "id": "a0b46478-78d8-4183-b990-fc264ef9a68b"
      },
      "source": [
        "## Iterate"
      ]
    },
    {
      "cell_type": "markdown",
      "id": "7596eb36-4b1a-4140-863e-e4ba5155d33c",
      "metadata": {
        "deletable": false,
        "editable": false,
        "id": "7596eb36-4b1a-4140-863e-e4ba5155d33c"
      },
      "source": [
        "Now that we have a baseline, let's build a model to see if we can beat it."
      ]
    },
    {
      "cell_type": "code",
      "execution_count": null,
      "id": "0f46d66f-4342-49af-b4d1-24ced1b80c3f",
      "metadata": {
        "deletable": false,
        "editable": false,
        "init_cell": true,
        "id": "0f46d66f-4342-49af-b4d1-24ced1b80c3f"
      },
      "outputs": [],
      "source": [
        "VimeoVideo(\"694058110\", h=\"dc751751bf\", width=600)"
      ]
    },
    {
      "cell_type": "markdown",
      "id": "892cf7eb-cc7d-4aec-9903-06ddd45e3638",
      "metadata": {
        "deletable": false,
        "editable": false,
        "id": "892cf7eb-cc7d-4aec-9903-06ddd45e3638"
      },
      "source": [
        "**Task 5.2.15:** Create three identical models: `model_reg`, `model_under` and `model_over`. All of them should use a `SimpleImputer` followed by a `DecisionTreeClassifier`. Train `model_reg` using the unaltered training data. For `model_under`, use the undersampled data. For `model_over`, use the oversampled data.\n",
        "\n",
        "- [What's a <span id='term'>decision tree</span>?](../%40textbook/14-ml-classification.ipynb#Decision-Trees)\n",
        "- [What's imputation?](../%40textbook/12-ml-core.ipynb#Imputation)\n",
        "- [<span id='technique'>Create a pipeline in <span id='tool'>scikit-learn</span></span>.](../%40textbook/13-ml-data-pre-processing-and-production.ipynb#Creating-a-Pipeline-in-scikit-learn)\n",
        "- [<span id='technique'>Fit a model to training data in <span id='tool'>scikit-learn</span></span>.](../%40textbook/15-ml-regression.ipynb#Fitting-a-Model-to-Training-Data)"
      ]
    },
    {
      "cell_type": "code",
      "execution_count": null,
      "id": "4ff60fd6-184c-4c3c-88e2-11589d212859",
      "metadata": {
        "deletable": false,
        "id": "4ff60fd6-184c-4c3c-88e2-11589d212859"
      },
      "outputs": [],
      "source": [
        "# Fit on `X_train`, `y_train`\n",
        "model_reg = ...\n",
        "model_reg.fit(..., ...)\n",
        "\n",
        "# Fit on `X_train_under`, `y_train_under`\n",
        "model_under = ...\n",
        "model_under.fit(..., ...)\n",
        "\n",
        "# Fit on `X_train_over`, `y_train_over`\n",
        "model_over = ...\n",
        "model_over.fit(..., ...)"
      ]
    },
    {
      "cell_type": "markdown",
      "id": "596ba5e3-c366-44ef-ac73-9f853fb0bbd2",
      "metadata": {
        "deletable": false,
        "editable": false,
        "id": "596ba5e3-c366-44ef-ac73-9f853fb0bbd2"
      },
      "source": [
        "## Evaluate"
      ]
    },
    {
      "cell_type": "markdown",
      "id": "a03c9432-c519-4d27-a517-d3805771a482",
      "metadata": {
        "deletable": false,
        "editable": false,
        "id": "a03c9432-c519-4d27-a517-d3805771a482"
      },
      "source": [
        "How did we do?"
      ]
    },
    {
      "cell_type": "code",
      "execution_count": null,
      "id": "dc37b9e4-be81-4edb-9ccc-18bfae4e85d9",
      "metadata": {
        "deletable": false,
        "editable": false,
        "init_cell": true,
        "id": "dc37b9e4-be81-4edb-9ccc-18bfae4e85d9"
      },
      "outputs": [],
      "source": [
        "VimeoVideo(\"694058076\", h=\"d57fb27d07\", width=600)"
      ]
    },
    {
      "cell_type": "markdown",
      "id": "3b127381-5f48-4ba9-88a6-80191e24e374",
      "metadata": {
        "deletable": false,
        "editable": false,
        "id": "3b127381-5f48-4ba9-88a6-80191e24e374"
      },
      "source": [
        "**Task 5.2.16:** Calculate training and test accuracy for your three models.\n",
        "\n",
        "- [What's an accuracy score?](../%40textbook/14-ml-classification.ipynb#Evaluation)\n",
        "- [Calculate the accuracy score for a model in scikit-learn.](../%40textbook/14-ml-classification.ipynb#Evaluation)"
      ]
    },
    {
      "cell_type": "code",
      "execution_count": null,
      "id": "c0ca1a2b-e958-4520-8665-d40f22f07390",
      "metadata": {
        "deletable": false,
        "id": "c0ca1a2b-e958-4520-8665-d40f22f07390"
      },
      "outputs": [],
      "source": [
        "for m in [model_reg, model_under, model_over]:\n",
        "    acc_train = ...\n",
        "    acc_test = ...\n",
        "\n",
        "    print(\"Training Accuracy:\", round(acc_train, 4))\n",
        "    print(\"Test Accuracy:\", round(acc_test, 4))"
      ]
    },
    {
      "cell_type": "markdown",
      "id": "8f554cac-2023-4940-ace4-03ff0d80b4b8",
      "metadata": {
        "deletable": false,
        "editable": false,
        "id": "8f554cac-2023-4940-ace4-03ff0d80b4b8"
      },
      "source": [
        "As we mentioned earlier, \"good\" accuracy scores don't tell us much about the model's performance when dealing with imbalanced data. So instead of looking at what the model got right or wrong, let's see how its predictions differ for the two classes in the dataset."
      ]
    },
    {
      "cell_type": "code",
      "execution_count": null,
      "id": "c1fbb0b3-0552-4a8a-8096-da9844cff6e3",
      "metadata": {
        "deletable": false,
        "editable": false,
        "init_cell": true,
        "id": "c1fbb0b3-0552-4a8a-8096-da9844cff6e3"
      },
      "outputs": [],
      "source": [
        "VimeoVideo(\"694058022\", h=\"ce29f57dee\", width=600)"
      ]
    },
    {
      "cell_type": "markdown",
      "id": "2a281947-e846-4173-81c2-40dbbc944bf0",
      "metadata": {
        "deletable": false,
        "editable": false,
        "id": "2a281947-e846-4173-81c2-40dbbc944bf0"
      },
      "source": [
        "**Task 5.2.17:** Plot a confusion matrix that shows how your best model performs on your validation set.\n",
        "\n",
        "- [What's a confusion matrix?](../%40textbook/14-ml-classification.ipynb#Confusion-Matrix)\n",
        "- [Create a confusion matrix using scikit-learn.](../%40textbook/14-ml-classification.ipynb#Confusion-Matrix)"
      ]
    },
    {
      "cell_type": "code",
      "execution_count": null,
      "id": "f47c811c-58bb-433f-8af5-742b2188fddf",
      "metadata": {
        "deletable": false,
        "id": "f47c811c-58bb-433f-8af5-742b2188fddf"
      },
      "outputs": [],
      "source": [
        "# Plot confusion matrix\n"
      ]
    },
    {
      "cell_type": "markdown",
      "id": "4d23026f-9d8d-4e0d-a93c-9f8599af6d27",
      "metadata": {
        "deletable": false,
        "editable": false,
        "id": "4d23026f-9d8d-4e0d-a93c-9f8599af6d27"
      },
      "source": [
        "In this lesson, we didn't do any hyperparameter tuning, but it will be helpful in the next lesson to know what the depth of the tree `model_over`."
      ]
    },
    {
      "cell_type": "code",
      "execution_count": null,
      "id": "6c483996-2a99-4197-a850-42f9308c7c54",
      "metadata": {
        "deletable": false,
        "editable": false,
        "init_cell": true,
        "id": "6c483996-2a99-4197-a850-42f9308c7c54"
      },
      "outputs": [],
      "source": [
        "VimeoVideo(\"694057996\", h=\"73882663cf\", width=600)"
      ]
    },
    {
      "cell_type": "markdown",
      "id": "f982fbc2-2802-4e26-9ac4-0477b2511db8",
      "metadata": {
        "deletable": false,
        "editable": false,
        "id": "f982fbc2-2802-4e26-9ac4-0477b2511db8"
      },
      "source": [
        "**Task 5.2.18:** Determine the depth of the decision tree in `model_over`.\n",
        "\n",
        "- [What's a decision tree?](../%40textbook/14-ml-classification.ipynb#Decision-Trees)\n",
        "- [Access an object in a pipeline in scikit-learn.](../%40textbook/13-ml-data-pre-processing-and-production.ipynb#Accessing-an-Object-in-a-Pipeline)"
      ]
    },
    {
      "cell_type": "code",
      "execution_count": null,
      "id": "408b3f41-3444-4515-83d3-0c5fd36483b3",
      "metadata": {
        "deletable": false,
        "id": "408b3f41-3444-4515-83d3-0c5fd36483b3"
      },
      "outputs": [],
      "source": [
        "depth = ...\n",
        "print(depth)"
      ]
    },
    {
      "cell_type": "markdown",
      "id": "b0131cd6-b7e6-4ff1-afb1-6913f2dc1a60",
      "metadata": {
        "deletable": false,
        "editable": false,
        "id": "b0131cd6-b7e6-4ff1-afb1-6913f2dc1a60"
      },
      "source": [
        "# Communicate"
      ]
    },
    {
      "cell_type": "markdown",
      "id": "df2beac9-6df5-4c38-9dfc-3992c50affdf",
      "metadata": {
        "deletable": false,
        "editable": false,
        "id": "df2beac9-6df5-4c38-9dfc-3992c50affdf"
      },
      "source": [
        "Now that we have a reasonable model, let's graph the importance of each feature."
      ]
    },
    {
      "cell_type": "code",
      "execution_count": null,
      "id": "529b15f9-1169-41df-870f-282cb472596e",
      "metadata": {
        "deletable": false,
        "editable": false,
        "init_cell": true,
        "id": "529b15f9-1169-41df-870f-282cb472596e"
      },
      "outputs": [],
      "source": [
        "VimeoVideo(\"694057962\", h=\"f60aa3b614\", width=600)"
      ]
    },
    {
      "cell_type": "markdown",
      "id": "60b7a603-a3f4-4c95-a514-8c61d9feb2bf",
      "metadata": {
        "deletable": false,
        "editable": false,
        "id": "60b7a603-a3f4-4c95-a514-8c61d9feb2bf"
      },
      "source": [
        "**Task 5.2.19:** Create a horizontal bar chart with the 15 most important features for `model_over`. Be sure to label your x-axis `\"Gini Importance\"`.\n",
        "\n",
        "- [What's a <span id='term'>bar chart</span>?](../%40textbook/07-visualization-pandas.ipynb#Bar-Charts)\n",
        "- [<span id='technique'>Access an object in a pipeline in <span id='tool'>scikit-learn</span></span>.](../%40textbook/13-ml-data-pre-processing-and-production.ipynb#Accessing-an-Object-in-a-Pipeline)\n",
        "- [<span id='technique'>Create a bar chart using <span id='tool'>pandas</span></span>.](../%40textbook/07-visualization-pandas.ipynb#Bar-Charts)\n",
        "- [<span id='technique'>Create a Series in <span id='tool'>pandas</span></span>.](../%40textbook/03-pandas-getting-started.ipynb#Adding-Columns)<span style='color: transparent; font-size:1%'>WQU WorldQuant University Applied Data Science Lab QQQQ</span>"
      ]
    },
    {
      "cell_type": "code",
      "execution_count": null,
      "id": "8275986a-74d1-44d0-80c9-d1cab4183da6",
      "metadata": {
        "deletable": false,
        "id": "8275986a-74d1-44d0-80c9-d1cab4183da6"
      },
      "outputs": [],
      "source": [
        "# Get importances\n",
        "importances = ...\n",
        "\n",
        "# Put importances into a Series\n",
        "feat_imp = ...\n",
        "\n",
        "# Plot series\n",
        "\n",
        "plt.xlabel(\"Gini Importance\")\n",
        "plt.ylabel(\"Feature\")\n",
        "plt.title(\"model_over Feature Importance\");"
      ]
    },
    {
      "cell_type": "markdown",
      "id": "abc81c45-5048-471f-a8cd-37749bd0052e",
      "metadata": {
        "deletable": false,
        "editable": false,
        "id": "abc81c45-5048-471f-a8cd-37749bd0052e"
      },
      "source": [
        "There's our old friend `\"feat_27\"` near the top, along with features 34 and 26. It's time to share our findings.\n",
        "\n",
        "Sometimes communication means sharing a visualization. Other times, it means sharing the actual model you've made so that colleagues can use it on new data or deploy your model into production. First step towards production: saving your model."
      ]
    },
    {
      "cell_type": "code",
      "execution_count": null,
      "id": "55ca1eb8-dec7-43d6-94cd-680035d111d5",
      "metadata": {
        "deletable": false,
        "editable": false,
        "init_cell": true,
        "id": "55ca1eb8-dec7-43d6-94cd-680035d111d5"
      },
      "outputs": [],
      "source": [
        "VimeoVideo(\"694057923\", h=\"85a50bb588\", width=600)"
      ]
    },
    {
      "cell_type": "markdown",
      "id": "2dfbb91b-9608-49a7-af74-da68695e9341",
      "metadata": {
        "deletable": false,
        "editable": false,
        "id": "2dfbb91b-9608-49a7-af74-da68695e9341"
      },
      "source": [
        "**Task 5.2.20:** Using a context manager, save your best-performing model to a a file named `\"model-5-2.pkl\"`.\n",
        "\n",
        "- [What's serialization?](../%40textbook/03-pandas-getting-started.ipynb#Pickle-Files)\n",
        "- [Store a Python object as a serialized file using pickle.](../%40textbook/03-pandas-getting-started.ipynb#Pickle-Files)"
      ]
    },
    {
      "cell_type": "code",
      "execution_count": null,
      "id": "4b4409a0-249f-4a70-b356-2fdd83d501f9",
      "metadata": {
        "deletable": false,
        "id": "4b4409a0-249f-4a70-b356-2fdd83d501f9"
      },
      "outputs": [],
      "source": [
        "# Save your model as `\"model-5-2.pkl\"`\n"
      ]
    },
    {
      "cell_type": "code",
      "execution_count": null,
      "id": "966dbb0d-29fd-45c1-af6d-102d5e0826f8",
      "metadata": {
        "deletable": false,
        "editable": false,
        "init_cell": true,
        "id": "966dbb0d-29fd-45c1-af6d-102d5e0826f8"
      },
      "outputs": [],
      "source": [
        "VimeoVideo(\"694057859\", h=\"fecd8f9e54\", width=600)"
      ]
    },
    {
      "cell_type": "markdown",
      "id": "1185a161-dc20-47a6-a8bc-0195793b746b",
      "metadata": {
        "deletable": false,
        "editable": false,
        "id": "1185a161-dc20-47a6-a8bc-0195793b746b"
      },
      "source": [
        "**Task 5.2.21:** Make sure you've saved your model correctly by loading `\"model-5-2.pkl\"` and assigning to the variable `loaded_model`. Once you're satisfied with the result, run the last cell to submit your model to the grader.\n",
        "\n",
        "- [Load a Python object from a serialized file using pickle.](../%40textbook/03-pandas-getting-started.ipynb#Pickle-Files)"
      ]
    },
    {
      "cell_type": "code",
      "execution_count": null,
      "id": "7b8b2502-6b8e-442f-9a4b-f9aa14563954",
      "metadata": {
        "deletable": false,
        "id": "7b8b2502-6b8e-442f-9a4b-f9aa14563954"
      },
      "outputs": [],
      "source": [
        "# Load `\"model-5-2.pkl\"`\n",
        "\n",
        "print(loaded_model)"
      ]
    },
    {
      "cell_type": "code",
      "execution_count": null,
      "id": "18c954f3-4ba2-4c1f-a77b-71f90c5431c8",
      "metadata": {
        "deletable": false,
        "editable": false,
        "id": "18c954f3-4ba2-4c1f-a77b-71f90c5431c8"
      },
      "outputs": [],
      "source": [
        "with open(\"model-5-2.pkl\", \"rb\") as f:\n",
        "    loaded_model = pickle.load(f)\n",
        "    wqet_grader.grade(\n",
        "        \"Project 5 Assessment\",\n",
        "        \"Task 5.2.16\",\n",
        "        loaded_model,\n",
        "    )"
      ]
    },
    {
      "cell_type": "markdown",
      "id": "be65eed4",
      "metadata": {
        "deletable": false,
        "editable": false,
        "id": "be65eed4"
      },
      "source": [
        "---\n",
        "Copyright 2023 WorldQuant University. This\n",
        "content is licensed solely for personal use. Redistribution or\n",
        "publication of this material is strictly prohibited.\n"
      ]
    }
  ],
  "metadata": {
    "kernelspec": {
      "display_name": "Python 3 (ipykernel)",
      "language": "python",
      "name": "python3"
    },
    "language_info": {
      "codemirror_mode": {
        "name": "ipython",
        "version": 3
      },
      "file_extension": ".py",
      "mimetype": "text/x-python",
      "name": "python",
      "nbconvert_exporter": "python",
      "pygments_lexer": "ipython3",
      "version": "3.11.4"
    },
    "colab": {
      "provenance": []
    }
  },
  "nbformat": 4,
  "nbformat_minor": 5
}