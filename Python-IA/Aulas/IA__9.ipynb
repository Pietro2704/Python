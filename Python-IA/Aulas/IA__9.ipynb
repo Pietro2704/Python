{
  "cells": [
    {
      "cell_type": "markdown",
      "id": "7d1f126f-bd15-4c83-b5a2-b255823aecf1",
      "metadata": {
        "deletable": false,
        "editable": false,
        "id": "7d1f126f-bd15-4c83-b5a2-b255823aecf1"
      },
      "source": [
        "# Model: Random Forest"
      ]
    },
    {
      "cell_type": "markdown",
      "id": "376a47c5-c097-412a-9ee7-a65b7ed7b8e8",
      "metadata": {
        "deletable": false,
        "editable": false,
        "id": "376a47c5-c097-412a-9ee7-a65b7ed7b8e8"
      },
      "source": [
        "Até agora neste projeto, aprendemos como recuperar e descompactar dados, e como gerenciar dados desbalanceados para construir um modelo de decisão-tree.\n",
        "\n",
        "Nesta lição, vamos expandir nosso modelo de decisão tree em uma floresta inteira (um exemplo de algo chamado de **ensemble model**); aprender como usar uma **grid search** para ajustar hiperparâmetros; e criar uma função que carrega dados e um modelo pré-treinado, e usa esse modelo para gerar uma série de previsões."
      ]
    },
    {
      "cell_type": "code",
      "execution_count": null,
      "id": "8e4a0490-5a15-456a-9925-804c62ec1c7b",
      "metadata": {
        "deletable": false,
        "editable": false,
        "init_cell": true,
        "id": "8e4a0490-5a15-456a-9925-804c62ec1c7b"
      },
      "outputs": [],
      "source": [
        "import gzip\n",
        "import json\n",
        "import pickle\n",
        "import pandas as pd\n",
        "import matplotlib.pyplot as plt\n",
        "\n",
        "from imblearn.over_sampling import RandomOverSampler\n",
        "from sklearn.ensemble import RandomForestClassifier\n",
        "from sklearn.impute import SimpleImputer\n",
        "from sklearn.metrics import ConfusionMatrixDisplay\n",
        "from sklearn.model_selection import GridSearchCV, cross_val_score, train_test_split\n",
        "from sklearn.pipeline import make_pipeline"
      ]
    },
    {
      "cell_type": "markdown",
      "id": "fd9c02a5-b79a-41d6-8371-1ca5948979d8",
      "metadata": {
        "deletable": false,
        "editable": false,
        "id": "fd9c02a5-b79a-41d6-8371-1ca5948979d8"
      },
      "source": [
        "# Preparando Dados"
      ]
    },
    {
      "cell_type": "markdown",
      "id": "794a1a5c-5927-46ae-b5f7-786f932bceba",
      "metadata": {
        "deletable": false,
        "editable": false,
        "id": "794a1a5c-5927-46ae-b5f7-786f932bceba"
      },
      "source": [
        "Como sempre, começaremos importando o dataset."
      ]
    },
    {
      "cell_type": "markdown",
      "id": "7fc1f61c-c49b-4c96-a173-0c4f45430562",
      "metadata": {
        "deletable": false,
        "editable": false,
        "id": "7fc1f61c-c49b-4c96-a173-0c4f45430562"
      },
      "source": [
        "## Importação"
      ]
    },
    {
      "cell_type": "markdown",
      "id": "22d9d776-4ab6-4cef-8f2a-ec58505bdf70",
      "metadata": {
        "deletable": false,
        "editable": false,
        "id": "22d9d776-4ab6-4cef-8f2a-ec58505bdf70"
      },
      "source": [
        "### Exercício:\n",
        "Complete a função `wrangle` abaixo usando o código que você desenvolveu nas ultimas lições. Em seguida, use-a para importar `poland-bankruptcy-data-2009.json.gz` para o DataFrame `df`."
      ]
    },
    {
      "cell_type": "code",
      "execution_count": null,
      "id": "f16a82a1-260d-410b-9c72-97e23e0e302c",
      "metadata": {
        "deletable": false,
        "id": "f16a82a1-260d-410b-9c72-97e23e0e302c"
      },
      "outputs": [],
      "source": [
        "def wrangle(filename):\n",
        "\n",
        "    return df"
      ]
    },
    {
      "cell_type": "code",
      "execution_count": null,
      "id": "c98d5162-f01f-47a2-a538-dc98e9e896d3",
      "metadata": {
        "deletable": false,
        "id": "c98d5162-f01f-47a2-a538-dc98e9e896d3"
      },
      "outputs": [],
      "source": [
        "df = ...\n",
        "print(df.shape)\n",
        "df.head()"
      ]
    },
    {
      "cell_type": "markdown",
      "id": "cafccb53-dc9f-4eaa-98c8-42357ba86eb0",
      "metadata": {
        "deletable": false,
        "editable": false,
        "tags": [],
        "id": "cafccb53-dc9f-4eaa-98c8-42357ba86eb0"
      },
      "source": [
        "## Divisão"
      ]
    },
    {
      "cell_type": "markdown",
      "id": "b2ecbffd-7743-4102-8b84-bfbbdf98f601",
      "metadata": {
        "deletable": false,
        "editable": false,
        "id": "b2ecbffd-7743-4102-8b84-bfbbdf98f601"
      },
      "source": [
        "### Exercício:\n",
        "Crie sua matriz de características `X` e vetor alvo `y`. Seu alvo é `\"bankrupt\"`."
      ]
    },
    {
      "cell_type": "code",
      "execution_count": null,
      "id": "f1093cff-131c-496f-8f00-13d837774083",
      "metadata": {
        "deletable": false,
        "id": "f1093cff-131c-496f-8f00-13d837774083"
      },
      "outputs": [],
      "source": [
        "target = \"bankrupt\"\n",
        "X = ...\n",
        "y = ...\n",
        "\n",
        "print(\"X shape:\", X.shape)\n",
        "print(\"y shape:\", y.shape)"
      ]
    },
    {
      "cell_type": "markdown",
      "id": "376f7aa4-1146-4b7f-932b-1834f953fe49",
      "metadata": {
        "deletable": false,
        "editable": false,
        "id": "376f7aa4-1146-4b7f-932b-1834f953fe49"
      },
      "source": [
        "Como não estamos trabalhando com dados de séries temporais, vamos dividir nosso dataset aleatoriamente em conjuntos de treinamento e teste"
      ]
    },
    {
      "cell_type": "markdown",
      "id": "bba7ebc0-5785-4e19-803b-3ab0a28c76ea",
      "metadata": {
        "deletable": false,
        "editable": false,
        "id": "bba7ebc0-5785-4e19-803b-3ab0a28c76ea"
      },
      "source": [
        "### Exercício:\n",
        "Divida seus dados (`X` e `y`) em conjuntos de treinamento e teste usando uma divisão aleatória de train-test. Seu conjunto de teste deve ser 20% do seu total de dados. E não se esqueça de definir um `random_state` para reprodutibilidade."
      ]
    },
    {
      "cell_type": "code",
      "execution_count": null,
      "id": "37be42f8-bf07-4e7d-921a-e6fe7f9e861f",
      "metadata": {
        "deletable": false,
        "id": "37be42f8-bf07-4e7d-921a-e6fe7f9e861f"
      },
      "outputs": [],
      "source": [
        "X_train, X_test, y_train, y_test = ...\n",
        "\n",
        "print(\"X_train shape:\", X_train.shape)\n",
        "print(\"y_train shape:\", y_train.shape)\n",
        "print(\"X_test shape:\", X_test.shape)\n",
        "print(\"y_test shape:\", y_test.shape)"
      ]
    },
    {
      "cell_type": "markdown",
      "id": "083eb52a-35ee-424b-9594-8427651fc37f",
      "metadata": {
        "deletable": false,
        "editable": false,
        "id": "083eb52a-35ee-424b-9594-8427651fc37f"
      },
      "source": [
        "Você pode ter notado que não criamos um conjunto de validação, embora estejamos planejando ajustar os hiperparâmetros do nosso modelo nesta lição. Isso porque vamos usar validação cruzada, sobre a qual falaremos mais adiante."
      ]
    },
    {
      "cell_type": "markdown",
      "id": "9df75fb0-0c88-40ad-84df-685325039dd7",
      "metadata": {
        "deletable": false,
        "editable": false,
        "id": "9df75fb0-0c88-40ad-84df-685325039dd7"
      },
      "source": [
        "## Resample"
      ]
    },
    {
      "cell_type": "markdown",
      "id": "ecb07cec-9400-4619-813b-92e34eb651ba",
      "metadata": {
        "deletable": false,
        "editable": false,
        "id": "ecb07cec-9400-4619-813b-92e34eb651ba"
      },
      "source": [
        "### Exercício:\n",
        "Crie uma nova matriz de características `X_train_over` e vetor alvo `y_train_over` realizando over-sampling aleatório nos dados de treinamento."
      ]
    },
    {
      "cell_type": "code",
      "execution_count": null,
      "id": "5594111e-ab15-43b9-a8dd-0b68ed1ccb20",
      "metadata": {
        "deletable": false,
        "id": "5594111e-ab15-43b9-a8dd-0b68ed1ccb20"
      },
      "outputs": [],
      "source": [
        "over_sampler = ...\n",
        "X_train_over, y_train_over = ...\n",
        "print(\"X_train_over shape:\", X_train_over.shape)\n",
        "X_train_over.head()"
      ]
    },
    {
      "cell_type": "markdown",
      "id": "08127742-3d7c-4f3a-95d8-a1af6d2ba88d",
      "metadata": {
        "deletable": false,
        "editable": false,
        "id": "08127742-3d7c-4f3a-95d8-a1af6d2ba88d"
      },
      "source": [
        "# Construindo Model"
      ]
    },
    {
      "cell_type": "markdown",
      "id": "99917563-9d78-4653-98d1-d1884722406c",
      "metadata": {
        "deletable": false,
        "editable": false,
        "id": "99917563-9d78-4653-98d1-d1884722406c"
      },
      "source": [
        "Agora que temos nossos dados configurados da maneira correta, podemos construir o modelo. 🏗"
      ]
    },
    {
      "cell_type": "markdown",
      "id": "f03517a4-e9c7-46f9-ab95-f1ce65a67573",
      "metadata": {
        "deletable": false,
        "editable": false,
        "id": "f03517a4-e9c7-46f9-ab95-f1ce65a67573"
      },
      "source": [
        "## Baseline"
      ]
    },
    {
      "cell_type": "markdown",
      "id": "7245db1e-6612-4952-8302-4b0fdfeb337a",
      "metadata": {
        "deletable": false,
        "editable": false,
        "id": "7245db1e-6612-4952-8302-4b0fdfeb337a"
      },
      "source": [
        "### Exercício:\n",
        "Calcule a pontuação de precisão básica para o seu modelo."
      ]
    },
    {
      "cell_type": "code",
      "execution_count": null,
      "id": "3a181afb-a78a-4e85-91b1-a07217bccba9",
      "metadata": {
        "deletable": false,
        "id": "3a181afb-a78a-4e85-91b1-a07217bccba9"
      },
      "outputs": [],
      "source": [
        "acc_baseline = ...\n",
        "print(\"Baseline Accuracy:\", round(acc_baseline, 4))"
      ]
    },
    {
      "cell_type": "markdown",
      "id": "7fbd8830-6b46-43a3-ae06-91aaf2400571",
      "metadata": {
        "deletable": false,
        "editable": false,
        "id": "7fbd8830-6b46-43a3-ae06-91aaf2400571"
      },
      "source": [
        "## Iteratar"
      ]
    },
    {
      "cell_type": "markdown",
      "id": "9b0f9f51-75ff-405c-975e-09a3133d9523",
      "metadata": {
        "deletable": false,
        "editable": false,
        "id": "9b0f9f51-75ff-405c-975e-09a3133d9523"
      },
      "source": [
        "Até agora, construímos modelos únicos que preveem um único resultado. Essa definitivamente é uma maneira útil de prever o futuro, mas e se o modelo que construímos não for o *certo*? Se pudéssemos de alguma forma usar mais de um modelo simultaneamente, teríamos uma previsão mais confiável.\n",
        "\n",
        "**Modelos de conjunto** funcionam construindo múltiplos modelos em subconjuntos aleatórios dos mesmos dados e, em seguida, comparando suas previsões para fazer uma previsão final. Como usamos uma árvore de decisão na última lição, vamos criar um conjunto de árvores aqui. Esse tipo de modelo é chamado de **random forest**.\n",
        "\n",
        "Começaremos criando um pipeline para simplificar nosso fluxo de trabalho."
      ]
    },
    {
      "cell_type": "markdown",
      "id": "6229c9b5-f739-4a12-a12b-b227eb26674d",
      "metadata": {
        "deletable": false,
        "editable": false,
        "id": "6229c9b5-f739-4a12-a12b-b227eb26674d"
      },
      "source": [
        "Crie um pipeline chamado `clf` (abreviação de \"classifier\") que contenha um transformador `SimpleImputer` e um preditor `RandomForestClassifier`."
      ]
    },
    {
      "cell_type": "code",
      "execution_count": null,
      "id": "23d29542-cf2c-4e17-b43d-7d42a0a3a5d4",
      "metadata": {
        "deletable": false,
        "id": "23d29542-cf2c-4e17-b43d-7d42a0a3a5d4"
      },
      "outputs": [],
      "source": [
        "clf = ...\n",
        "print(clf)"
      ]
    },
    {
      "cell_type": "markdown",
      "id": "376b73a6-18a0-4ad7-b501-fb08f08d8254",
      "metadata": {
        "deletable": false,
        "editable": false,
        "id": "376b73a6-18a0-4ad7-b501-fb08f08d8254"
      },
      "source": [
        "Por padrão, o número de árvores em nossa floresta (`n_estimators`) é definido como 100. Isso significa que, quando treinamos esse classificador, estaremos ajustando 100 árvores. Embora leve mais tempo para treinar, isso deve levar a um desempenho melhor.\n",
        "\n",
        "Para obter o melhor desempenho do nosso modelo, precisamos ajustar seus hiperparâmetros. Mas como podemos fazer isso se não criamos um conjunto de validação? A resposta é **validação cruzada**. Portanto, antes de analisarmos os hiperparâmetros, vamos ver como a validação cruzada funciona com o classificador que acabamos de construir."
      ]
    },
    {
      "cell_type": "markdown",
      "id": "ae4c6c98-5db2-4347-aa5b-020730a56bd6",
      "metadata": {
        "deletable": false,
        "editable": false,
        "id": "ae4c6c98-5db2-4347-aa5b-020730a56bd6"
      },
      "source": [
        "###Exercício:\n",
        "Realize a validação cruzada com seu classificador, usando os dados de treinamento sobre-amostrados. Queremos cinco dobras, então defina `cv` como 5. Também queremos acelerar o treinamento, então defina `n_jobs` como -1."
      ]
    },
    {
      "cell_type": "code",
      "execution_count": null,
      "id": "2c1a44f4-b2d2-4d5e-b426-d63bba2166a5",
      "metadata": {
        "deletable": false,
        "id": "2c1a44f4-b2d2-4d5e-b426-d63bba2166a5"
      },
      "outputs": [],
      "source": [
        "cv_acc_scores = ...\n",
        "print(cv_acc_scores)"
      ]
    },
    {
      "cell_type": "markdown",
      "id": "45c5be54-bd14-4b07-8d9b-abbe4d984e2d",
      "metadata": {
        "deletable": false,
        "editable": false,
        "id": "45c5be54-bd14-4b07-8d9b-abbe4d984e2d"
      },
      "source": [
        "Isso levou um bom tempo, mas acabamos de treinar 500 classificadores de random forest (100 trabalhos x 5 dobras). Não é de se admirar que tenha demorado tanto!\n",
        "\n",
        "__Dica profissional:__ embora `cross_val_score` seja útil para ter uma ideia de como a validação cruzada funciona, você raramente a usará. Em vez disso, a maioria das pessoas inclui um argumento `cv` ao fazer uma busca de hiperparâmetros."
      ]
    },
    {
      "cell_type": "markdown",
      "id": "40e6180f-51e4-42ad-9753-d2c39a73e7c8",
      "metadata": {
        "deletable": false,
        "editable": false,
        "id": "40e6180f-51e4-42ad-9753-d2c39a73e7c8"
      },
      "source": [
        "### Exercício:\n",
        "Agora que temos uma ideia de como a validação cruzada funciona, vamos ajustar nosso modelo. O primeiro passo é criar uma faixa de hiperparâmetros que queremos avaliar."
      ]
    },
    {
      "cell_type": "markdown",
      "id": "4d7c6240-88cd-4a9a-b384-ad049861eff3",
      "metadata": {
        "deletable": false,
        "editable": false,
        "id": "4d7c6240-88cd-4a9a-b384-ad049861eff3"
      },
      "source": [
        "Crie um dicionário com a faixa de hiperparâmetros que queremos avaliar para nosso classificador.\n",
        "\n",
        "1. Para o `SimpleImputer`, experimente as estratégias `\"mean\"` e `\"median\"`.\n",
        "2. Para o `RandomForestClassifier`, experimente configurações de `max_depth` entre 10 e 50, em incrementos de 10.\n",
        "3. Também para o `RandomForestClassifier`, experimente configurações de `n_estimators` entre 25 e 100, em incrementos de 25."
      ]
    },
    {
      "cell_type": "code",
      "execution_count": null,
      "id": "f5330f53-2ddf-4261-a17e-3ba7afc3faea",
      "metadata": {
        "deletable": false,
        "id": "f5330f53-2ddf-4261-a17e-3ba7afc3faea"
      },
      "outputs": [],
      "source": [
        "params = ...\n",
        "params"
      ]
    },
    {
      "cell_type": "markdown",
      "id": "77360385-ab0f-4d0e-b3ca-3e4faace353c",
      "metadata": {
        "deletable": false,
        "editable": false,
        "id": "77360385-ab0f-4d0e-b3ca-3e4faace353c"
      },
      "source": [
        "Agora que temos nossa grade de hiperparâmetros, vamos incorporá-la em uma **grid search**."
      ]
    },
    {
      "cell_type": "markdown",
      "id": "2c25ceef-6e09-4453-b638-dfc0b691a1c6",
      "metadata": {
        "deletable": false,
        "editable": false,
        "id": "2c25ceef-6e09-4453-b638-dfc0b691a1c6"
      },
      "source": [
        "### Exercício:\n",
        "Crie um `GridSearchCV` chamado `model` que inclua seu classificador e grade de hiperparâmetros. Certifique-se de usar os mesmos argumentos para `cv` e `n_jobs` que você usou acima, e defina `verbose` como 1."
      ]
    },
    {
      "cell_type": "code",
      "execution_count": null,
      "id": "4ee09ca3-07af-4543-828e-46d38a8a05d1",
      "metadata": {
        "deletable": false,
        "id": "4ee09ca3-07af-4543-828e-46d38a8a05d1"
      },
      "outputs": [],
      "source": [
        "model = ...\n",
        "model"
      ]
    },
    {
      "cell_type": "markdown",
      "id": "34093b4b-1c94-4c94-99a5-32c48f641322",
      "metadata": {
        "deletable": false,
        "editable": false,
        "id": "34093b4b-1c94-4c94-99a5-32c48f641322"
      },
      "source": [
        "Finalmente, agora vamos ajustar o modelo."
      ]
    },
    {
      "cell_type": "markdown",
      "id": "0c701d28-dad6-4133-9438-70e554761c35",
      "metadata": {
        "deletable": false,
        "editable": false,
        "id": "0c701d28-dad6-4133-9438-70e554761c35"
      },
      "source": [
        "### Exercício:\n",
        "Ajuste `model` aos dados de treinamento **over-sampled**."
      ]
    },
    {
      "cell_type": "code",
      "execution_count": null,
      "id": "c8367806-ae6b-46cb-9a16-bffd1a4a070c",
      "metadata": {
        "deletable": false,
        "id": "c8367806-ae6b-46cb-9a16-bffd1a4a070c"
      },
      "outputs": [],
      "source": [
        "# Train model\n"
      ]
    },
    {
      "cell_type": "markdown",
      "id": "4faafd99-fd3a-49d5-b002-0d88170aecc6",
      "metadata": {
        "deletable": false,
        "editable": false,
        "id": "4faafd99-fd3a-49d5-b002-0d88170aecc6"
      },
      "source": [
        "Isso levará algum tempo para treinar, então vamos aproveitar um momento para pensar sobre o porquê. Quantas florestas acabamos de testar? 4 diferentes `max_depth`s vezes 3 `n_estimators` vezes 2 estratégias de imputação... isso totaliza 24 florestas. Quantas adaptações acabamos de fazer? 24 florestas vezes 5 dobras é 120. E lembre-se de que cada floresta é composta por 25-75 árvores, o que resulta em *pelo menos* 3.000 árvores. Portanto, é computacionalmente caro!\n",
        "\n",
        "Ok, agora que testamos todos esses modelos, vamos dar uma olhada nos resultados."
      ]
    },
    {
      "cell_type": "markdown",
      "id": "9cb4b8fb-3422-486e-9c00-bb24a685ad3c",
      "metadata": {
        "deletable": false,
        "editable": false,
        "id": "9cb4b8fb-3422-486e-9c00-bb24a685ad3c"
      },
      "source": [
        "### Exercício:\n",
        "Extraia os resultados da validação cruzada de `model` e carregue-os em um DataFrame chamado `cv_results`."
      ]
    },
    {
      "cell_type": "code",
      "execution_count": null,
      "id": "0b2bd176-3c3e-425c-bbbc-6915cb5b9944",
      "metadata": {
        "deletable": false,
        "id": "0b2bd176-3c3e-425c-bbbc-6915cb5b9944"
      },
      "outputs": [],
      "source": [
        "cv_results = ...\n",
        "cv_results.head(10)"
      ]
    },
    {
      "cell_type": "markdown",
      "id": "ce855361-5586-476e-8701-dcafa941947d",
      "metadata": {
        "deletable": false,
        "editable": false,
        "id": "ce855361-5586-476e-8701-dcafa941947d"
      },
      "source": [
        "Além das pontuações de precisão para todos os diferentes modelos que tentamos durante nossa busca em grade, podemos ver quanto tempo levou para cada modelo ser treinado. Vamos dar uma olhada mais de perto em como as diferentes configurações de hiperparâmetros afetam o tempo de treinamento.\n",
        "\n",
        "Primeiro, vamos olhar para `n_estimators`. Nossa busca em grade avaliou esse hiperparâmetro para várias configurações de `max_depth`, mas vamos focar apenas em modelos onde `max_depth` é igual a 10."
      ]
    },
    {
      "cell_type": "markdown",
      "id": "0c189c09-8a8c-474d-8f26-ea4175fde382",
      "metadata": {
        "deletable": false,
        "editable": false,
        "id": "0c189c09-8a8c-474d-8f26-ea4175fde382"
      },
      "source": [
        "### Exercício:\n",
        "Crie uma máscara para `cv_results` para as linhas onde `\"param_randomforestclassifier__max_depth\"` é igual a 10. Em seguida, plote `\"param_randomforestclassifier__n_estimators\"` no eixo x e `\"mean_fit_time\"` no eixo y. Não se esqueça de rotular seus eixos e incluir um título."
      ]
    },
    {
      "cell_type": "code",
      "execution_count": null,
      "id": "a34c23f8-79aa-41e3-b140-39df4a61c7e7",
      "metadata": {
        "deletable": false,
        "id": "a34c23f8-79aa-41e3-b140-39df4a61c7e7"
      },
      "outputs": [],
      "source": [
        "# Create mask\n",
        "mask = ...\n",
        "# Plot fit time vs n_estimators\n",
        "\n",
        "# Label axes\n",
        "plt.xlabel(\"Number of Estimators\")\n",
        "plt.ylabel(\"Mean Fit Time [seconds]\")\n",
        "plt.title(\"Training Time vs Estimators (max_depth=10)\");"
      ]
    },
    {
      "cell_type": "markdown",
      "id": "9e6bf12e-b7c0-4e67-9181-f74e18a199f0",
      "metadata": {
        "deletable": false,
        "editable": false,
        "id": "9e6bf12e-b7c0-4e67-9181-f74e18a199f0"
      },
      "source": [
        "Em seguida, vamos analisar `max_depth`. Aqui, também vamos limitar nossos dados às linhas onde `n_estimators` é igual a 25."
      ]
    },
    {
      "cell_type": "markdown",
      "id": "6aec1af3-6701-452c-a149-fa67904fec79",
      "metadata": {
        "deletable": false,
        "editable": false,
        "id": "6aec1af3-6701-452c-a149-fa67904fec79"
      },
      "source": [
        "### Exercício:\n",
        "Crie uma máscara para `cv_results` para as linhas onde `\"param_randomforestclassifier__n_estimators\"` é igual a 25. Em seguida, plote `\"param_randomforestclassifier__max_depth\"` no eixo x e `\"mean_fit_time\"` no eixo y. Não se esqueça de rotular seus eixos e incluir um título."
      ]
    },
    {
      "cell_type": "code",
      "execution_count": null,
      "id": "c68f27d4-ca7a-4572-b29f-98e884802d56",
      "metadata": {
        "deletable": false,
        "id": "c68f27d4-ca7a-4572-b29f-98e884802d56"
      },
      "outputs": [],
      "source": [
        "# Create mask\n",
        "mask = ...\n",
        "# Plot fit time vs max_depth\n",
        "\n",
        "# Label axes\n",
        "plt.xlabel(\"Max Depth\")\n",
        "plt.ylabel(\"Mean Fit Time [seconds]\")\n",
        "plt.title(\"Training Time vs Max Depth (n_estimators=25)\");"
      ]
    },
    {
      "cell_type": "markdown",
      "id": "fea4fdf4-0b13-4b5f-8287-f10445ccc3a6",
      "metadata": {
        "deletable": false,
        "editable": false,
        "id": "fea4fdf4-0b13-4b5f-8287-f10445ccc3a6"
      },
      "source": [
        "Há uma tendência geral de aumento, mas vemos muitas oscilações aqui. Isso acontece porque, para cada profundidade máxima, a busca em grade tenta duas estratégias de imputação diferentes: média e mediana. A mediana é muito mais rápida de calcular, o que acelera o tempo de treinamento.\n",
        "\n",
        "Finalmente, vamos olhar para os hiperparâmetros que levaram ao melhor desempenho."
      ]
    },
    {
      "cell_type": "markdown",
      "id": "dcfe1215-0bd9-42b7-ba5f-081b6cc05dcb",
      "metadata": {
        "deletable": false,
        "editable": false,
        "id": "dcfe1215-0bd9-42b7-ba5f-081b6cc05dcb"
      },
      "source": [
        "Extraia os melhores hiperparâmetros de `model`."
      ]
    },
    {
      "cell_type": "code",
      "execution_count": null,
      "id": "282a14d4-dddf-4042-b18e-229b46ce5e1b",
      "metadata": {
        "deletable": false,
        "id": "282a14d4-dddf-4042-b18e-229b46ce5e1b"
      },
      "outputs": [],
      "source": [
        "# Extract best hyperparameters\n"
      ]
    },
    {
      "cell_type": "markdown",
      "id": "acf32ded-07fb-4452-a439-ac94055ba3b0",
      "metadata": {
        "deletable": false,
        "editable": false,
        "id": "acf32ded-07fb-4452-a439-ac94055ba3b0"
      },
      "source": [
        "Observe que não precisamos construir e treinar um novo modelo com essas configurações. Agora que a busca em grade está completa, quando usamos `model.predict()`, ele fornecerá previsões usando o melhor modelo — algo que faremos ao final desta lição."
      ]
    },
    {
      "cell_type": "markdown",
      "id": "3aaaaa92-edfe-4e33-b7e8-aa3f076ed00a",
      "metadata": {
        "deletable": false,
        "editable": false,
        "id": "3aaaaa92-edfe-4e33-b7e8-aa3f076ed00a"
      },
      "source": [
        "## Avaliar"
      ]
    },
    {
      "cell_type": "markdown",
      "id": "087b3534-2488-4b78-bdd0-dfd441b558f9",
      "metadata": {
        "deletable": false,
        "editable": false,
        "id": "087b3534-2488-4b78-bdd0-dfd441b558f9"
      },
      "source": [
        "Certo: o momento da verdade. Vamos ver como nosso modelo se desempenha."
      ]
    },
    {
      "cell_type": "markdown",
      "id": "a805626d-6ad2-456b-86cc-3cc2c0b4f756",
      "metadata": {
        "deletable": false,
        "editable": false,
        "id": "a805626d-6ad2-456b-86cc-3cc2c0b4f756"
      },
      "source": [
        "### Exercício:\n",
        "Calcule as pontuações de precisão para treinamento e teste de `model`."
      ]
    },
    {
      "cell_type": "code",
      "execution_count": null,
      "id": "c20b2755-83b4-4b06-a5a0-ba73ff92e108",
      "metadata": {
        "deletable": false,
        "id": "c20b2755-83b4-4b06-a5a0-ba73ff92e108"
      },
      "outputs": [],
      "source": [
        "acc_train = ...\n",
        "acc_test = ...\n",
        "\n",
        "print(\"Training Accuracy:\", round(acc_train, 4))\n",
        "print(\"Test Accuracy:\", round(acc_test, 4))"
      ]
    },
    {
      "cell_type": "markdown",
      "id": "c36a4347-0dfa-431e-8a02-de12eacde35b",
      "metadata": {
        "deletable": false,
        "editable": false,
        "id": "c36a4347-0dfa-431e-8a02-de12eacde35b"
      },
      "source": [
        "Superamos a linha de base! Apenas por pouco, mas superamos."
      ]
    },
    {
      "cell_type": "markdown",
      "id": "36e54aae-4580-483d-bbb5-d8b70dd25572",
      "metadata": {
        "deletable": false,
        "editable": false,
        "id": "36e54aae-4580-483d-bbb5-d8b70dd25572"
      },
      "source": [
        "Em seguida, vamos usar uma matriz de confusão para ver como nosso modelo se desempenha. Para entender melhor os valores que veremos na matriz, vamos primeiro contar quantas observações em nosso conjunto de teste pertencem às classes positiva e negativa."
      ]
    },
    {
      "cell_type": "code",
      "execution_count": null,
      "id": "dfa2b41c-02a0-4a36-8a99-9e515b211d3f",
      "metadata": {
        "deletable": false,
        "id": "dfa2b41c-02a0-4a36-8a99-9e515b211d3f"
      },
      "outputs": [],
      "source": [
        "y_test.value_counts()"
      ]
    },
    {
      "cell_type": "markdown",
      "id": "8552562a-c27a-462f-b99b-637c2e7d2da7",
      "metadata": {
        "deletable": false,
        "editable": false,
        "id": "8552562a-c27a-462f-b99b-637c2e7d2da7"
      },
      "source": [
        "### Exercício:\n",
        "Plote uma matriz de confusão que mostre como seu melhor modelo se desempenha em seu conjunto de teste."
      ]
    },
    {
      "cell_type": "code",
      "execution_count": null,
      "id": "5d5cb2c9-d296-4363-b26c-240cc71f51a3",
      "metadata": {
        "deletable": false,
        "id": "5d5cb2c9-d296-4363-b26c-240cc71f51a3"
      },
      "outputs": [],
      "source": [
        "# Plot confusion matrix\n"
      ]
    },
    {
      "cell_type": "markdown",
      "id": "967aca43-c5a3-47fd-b814-54c905897c0f",
      "metadata": {
        "deletable": false,
        "editable": false,
        "id": "967aca43-c5a3-47fd-b814-54c905897c0f"
      },
      "source": [
        "Observe a relação entre os números nesta matriz e a contagem que você fez na tarefa anterior. Se você somar os valores na linha inferior, obterá o total de observações positivas em `y_test` ($72 + 11 = 83$). E a soma da linha superior corresponde ao número de observações negativas ($1903 + 10 = 1913$)."
      ]
    },
    {
      "cell_type": "markdown",
      "id": "faac53ee-1a0e-423b-b68e-e85cce11bfc9",
      "metadata": {
        "deletable": false,
        "editable": false,
        "id": "faac53ee-1a0e-423b-b68e-e85cce11bfc9"
      },
      "source": [
        "# Communicar Resultados"
      ]
    },
    {
      "cell_type": "markdown",
      "id": "e867677d-1700-499d-8a92-c1d620510d1d",
      "metadata": {
        "deletable": false,
        "editable": false,
        "id": "e867677d-1700-499d-8a92-c1d620510d1d"
      },
      "source": [
        "### Exercício:\n",
        "Crie um gráfico de barras horizontal com os 10 recursos mais importantes para o seu modelo."
      ]
    },
    {
      "cell_type": "code",
      "execution_count": null,
      "id": "6a803d93-9b7c-4529-999b-326144b17fbd",
      "metadata": {
        "deletable": false,
        "id": "6a803d93-9b7c-4529-999b-326144b17fbd"
      },
      "outputs": [],
      "source": [
        "# Get feature names from training data\n",
        "features = ...\n",
        "# Extract importances from model\n",
        "importances = ...\n",
        "# Create a series with feature names and importances\n",
        "feat_imp = ...\n",
        "# Plot 10 most important features\n",
        "\n",
        "plt.xlabel(\"Gini Importance\")\n",
        "plt.ylabel(\"Feature\")\n",
        "plt.title(\"Feature Importance\");"
      ]
    },
    {
      "cell_type": "markdown",
      "id": "5b0471e4-ac32-4b45-85ba-d7169757293e",
      "metadata": {
        "deletable": false,
        "editable": false,
        "id": "5b0471e4-ac32-4b45-85ba-d7169757293e"
      },
      "source": [
        "A única coisa que resta agora é salvar seu modelo para que ele possa ser reutilizado."
      ]
    },
    {
      "cell_type": "markdown",
      "id": "7cf82a6b-81b7-402e-97e0-247b48e2af27",
      "metadata": {
        "deletable": false,
        "editable": false,
        "id": "7cf82a6b-81b7-402e-97e0-247b48e2af27"
      },
      "source": [
        "Usando um gerenciador de contexto, salve seu modelo com melhor desempenho em um arquivo chamado `\"model-5-3.pkl\"`."
      ]
    },
    {
      "cell_type": "code",
      "execution_count": null,
      "id": "3038e7b4-e125-4315-8764-4259907bd362",
      "metadata": {
        "deletable": false,
        "id": "3038e7b4-e125-4315-8764-4259907bd362"
      },
      "outputs": [],
      "source": [
        "# Save model\n"
      ]
    },
    {
      "cell_type": "markdown",
      "id": "8b6f4286-8f3f-449f-bf52-39d3fe02eefb",
      "metadata": {
        "deletable": false,
        "editable": false,
        "id": "8b6f4286-8f3f-449f-bf52-39d3fe02eefb"
      },
      "source": [
        "### Exercício:\n",
        "Crie uma função `make_predictions`. Ela deve aceitar dois argumentos: o caminho de um arquivo JSON que contém dados de teste e o caminho de um modelo serializado. A função deve carregar e limpar os dados usando a função `wrangle` que você criou, carregar o modelo, gerar um array de previsões e converter esse array em uma Série. (A Série deve ter o nome `\"bankrupt\"` e os mesmos rótulos de índice que os dados de teste.) Finalmente, a função deve retornar suas previsões como uma Série."
      ]
    },
    {
      "cell_type": "code",
      "execution_count": null,
      "id": "1ca88012-3462-429c-a5f4-d7cf9af9c54c",
      "metadata": {
        "deletable": false,
        "id": "1ca88012-3462-429c-a5f4-d7cf9af9c54c"
      },
      "outputs": [],
      "source": [
        "def make_predictions(data_filepath, model_filepath):\n",
        "    # Wrangle JSON file\n",
        "    X_test = ...\n",
        "    # Load model\n",
        "\n",
        "    # Generate predictions\n",
        "    y_test_pred = ...\n",
        "    # Put predictions into Series with name \"bankrupt\", and same index as X_test\n",
        "    y_test_pred = ...\n",
        "    return y_test_pred"
      ]
    },
    {
      "cell_type": "markdown",
      "id": "456ba113-e075-427c-8f3a-ffb9b6975c7b",
      "metadata": {
        "deletable": false,
        "editable": false,
        "id": "456ba113-e075-427c-8f3a-ffb9b6975c7b"
      },
      "source": [
        "### Exercício:\n",
        "Use o código abaixo para verificar sua função `make_predictions`. Assim que estiver satisfeito com o resultado, envie-o para o avaliador."
      ]
    },
    {
      "cell_type": "code",
      "execution_count": null,
      "id": "c668b57d-93e0-4f64-857e-60b4e0b07b67",
      "metadata": {
        "deletable": false,
        "id": "c668b57d-93e0-4f64-857e-60b4e0b07b67"
      },
      "outputs": [],
      "source": [
        "y_test_pred = make_predictions(\n",
        "    data_filepath=\"data/poland-bankruptcy-data-2009-mvp-features.json.gz\",\n",
        "    model_filepath=\"model-5-3.pkl\",\n",
        ")\n",
        "\n",
        "print(\"predictions shape:\", y_test_pred.shape)\n",
        "y_test_pred.head()"
      ]
    },
    {
      "cell_type": "markdown",
      "id": "6561878f-82ed-4b15-9fdc-065d1367a935",
      "metadata": {
        "deletable": false,
        "editable": false,
        "id": "6561878f-82ed-4b15-9fdc-065d1367a935"
      },
      "source": [
        "# Gradient Boosting Trees"
      ]
    },
    {
      "cell_type": "markdown",
      "id": "f1b81dd3-c78c-4efe-b021-2e4a3a40d549",
      "metadata": {
        "deletable": false,
        "editable": false,
        "id": "f1b81dd3-c78c-4efe-b021-2e4a3a40d549"
      },
      "source": [
        "Você tem trabalhado duro e agora tem todas as ferramentas necessárias para construir e ajustar modelos. Vamos começar esta lição da mesma forma que começamos as outras: preparando os dados e construindo nosso modelo, e desta vez com um novo modelo de conjunto. Assim que estiver funcionando, aprenderemos algumas novas métricas de desempenho para avaliá-lo. Ao final desta lição, você terá escrito seu primeiro módulo em Python!"
      ]
    },
    {
      "cell_type": "code",
      "execution_count": null,
      "id": "7a7a4299-5989-4091-91ed-a3e5608ab633",
      "metadata": {
        "deletable": false,
        "editable": false,
        "init_cell": true,
        "id": "7a7a4299-5989-4091-91ed-a3e5608ab633"
      },
      "outputs": [],
      "source": [
        "import gzip\n",
        "import json\n",
        "import pickle\n",
        "\n",
        "import pandas as pd\n",
        "import ipywidgets as widgets\n",
        "from ipywidgets import interact\n",
        "from teaching_tools.widgets import ConfusionMatrixWidget\n",
        "\n",
        "from imblearn.over_sampling import RandomOverSampler\n",
        "\n",
        "from sklearn.ensemble import GradientBoostingClassifier\n",
        "from sklearn.impute import SimpleImputer\n",
        "from sklearn.metrics import (\n",
        "    ConfusionMatrixDisplay,\n",
        "    classification_report,\n",
        "    confusion_matrix,\n",
        ")\n",
        "from sklearn.model_selection import GridSearchCV, train_test_split\n",
        "from sklearn.pipeline import make_pipeline"
      ]
    },
    {
      "cell_type": "markdown",
      "id": "7c7d858a-ba64-4886-a3a4-36fcb21d78c8",
      "metadata": {
        "deletable": false,
        "editable": false,
        "id": "7c7d858a-ba64-4886-a3a4-36fcb21d78c8"
      },
      "source": [
        "# Preparando Dados"
      ]
    },
    {
      "cell_type": "markdown",
      "id": "d3e610f8-20f6-44c1-88c8-97af43cc3cf2",
      "metadata": {
        "deletable": false,
        "editable": false,
        "id": "d3e610f8-20f6-44c1-88c8-97af43cc3cf2"
      },
      "source": [
        "Toda a preparação de dados para este módulo é a mesma que foi da última vez. Vejo você do outro lado!"
      ]
    },
    {
      "cell_type": "markdown",
      "id": "8188935f-c22e-48b8-ba9b-0e89049691fa",
      "metadata": {
        "deletable": false,
        "editable": false,
        "id": "8188935f-c22e-48b8-ba9b-0e89049691fa"
      },
      "source": [
        "## Importação"
      ]
    },
    {
      "cell_type": "markdown",
      "id": "f46941b3-2f3a-4338-a5bb-ea5eedc8852f",
      "metadata": {
        "deletable": false,
        "editable": false,
        "id": "f46941b3-2f3a-4338-a5bb-ea5eedc8852f"
      },
      "source": [
        "### Exercício:\n",
        "Complete a função `wrangle` abaixo usando o código que você desenvolveu nas ultimas lições. Em seguida, use-a para importar `poland-bankruptcy-data-2009.json.gz` no DataFrame `df`."
      ]
    },
    {
      "cell_type": "code",
      "execution_count": null,
      "id": "07e0d506-4f52-458a-b3e7-c133eb6225ac",
      "metadata": {
        "deletable": false,
        "id": "07e0d506-4f52-458a-b3e7-c133eb6225ac"
      },
      "outputs": [],
      "source": [
        "def wrangle(filename):\n",
        "\n",
        "    return df"
      ]
    },
    {
      "cell_type": "code",
      "execution_count": null,
      "id": "7cc479f1-fd50-4db6-9619-7ed61b613703",
      "metadata": {
        "deletable": false,
        "id": "7cc479f1-fd50-4db6-9619-7ed61b613703"
      },
      "outputs": [],
      "source": [
        "df = ...\n",
        "print(df.shape)\n",
        "df.head()"
      ]
    },
    {
      "cell_type": "markdown",
      "id": "7d20331e-5c04-41e3-809a-920775f8bc6d",
      "metadata": {
        "deletable": false,
        "editable": false,
        "tags": [],
        "id": "7d20331e-5c04-41e3-809a-920775f8bc6d"
      },
      "source": [
        "## Divisão"
      ]
    },
    {
      "cell_type": "markdown",
      "id": "1c66332a-8d32-40db-b60a-a397862e181f",
      "metadata": {
        "deletable": false,
        "editable": false,
        "id": "1c66332a-8d32-40db-b60a-a397862e181f"
      },
      "source": [
        "### Exercício:\n",
        "Crie sua matriz de features `X` e o vetor alvo `y`. Seu alvo é `\"bankrupt\"`."
      ]
    },
    {
      "cell_type": "code",
      "execution_count": null,
      "id": "800de6bc-0a8a-4cbb-9e6e-a4c55e5745b3",
      "metadata": {
        "deletable": false,
        "id": "800de6bc-0a8a-4cbb-9e6e-a4c55e5745b3"
      },
      "outputs": [],
      "source": [
        "target = \"bankrupt\"\n",
        "X = ...\n",
        "y = ...\n",
        "\n",
        "print(\"X shape:\", X.shape)\n",
        "print(\"y shape:\", y.shape)"
      ]
    },
    {
      "cell_type": "markdown",
      "id": "f2820a11-9843-4d4d-9eb4-9eac11fa1a25",
      "metadata": {
        "deletable": false,
        "editable": false,
        "id": "f2820a11-9843-4d4d-9eb4-9eac11fa1a25"
      },
      "source": [
        "### Exercício:\n",
        "Divida seus dados (`X` e `y`) em conjuntos de treinamento e teste usando uma divisão aleatória com `train-test split`. Seu conjunto de teste deve ser 20% do total dos dados. E não se esqueça de definir um `random_state` para reprodutibilidade."
      ]
    },
    {
      "cell_type": "code",
      "execution_count": null,
      "id": "dc44fa95-1813-40d8-a2ae-c9dcd0daa1f2",
      "metadata": {
        "deletable": false,
        "id": "dc44fa95-1813-40d8-a2ae-c9dcd0daa1f2"
      },
      "outputs": [],
      "source": [
        "X_train, X_test, y_train, y_test = ...\n",
        "\n",
        "print(\"X_train shape:\", X_train.shape)\n",
        "print(\"y_train shape:\", y_train.shape)\n",
        "print(\"X_test shape:\", X_test.shape)\n",
        "print(\"y_test shape:\", y_test.shape)"
      ]
    },
    {
      "cell_type": "markdown",
      "id": "762d668c-e5c6-4bbf-afd0-6fcb0f8fac5d",
      "metadata": {
        "deletable": false,
        "editable": false,
        "id": "762d668c-e5c6-4bbf-afd0-6fcb0f8fac5d"
      },
      "source": [
        "## Resample"
      ]
    },
    {
      "cell_type": "markdown",
      "id": "f336cad2-a9f2-46fb-aa09-c0c609e04820",
      "metadata": {
        "deletable": false,
        "editable": false,
        "id": "f336cad2-a9f2-46fb-aa09-c0c609e04820"
      },
      "source": [
        "### Exercicio:\n",
        "Crie uma nova matriz de features `X_train_over` e um vetor alvo `y_train_over` realizando random over-sampling nos dados de treinamento."
      ]
    },
    {
      "cell_type": "code",
      "execution_count": null,
      "id": "3b0160f0-5a0c-48ab-b6cf-0e6cf5a07b35",
      "metadata": {
        "deletable": false,
        "id": "3b0160f0-5a0c-48ab-b6cf-0e6cf5a07b35"
      },
      "outputs": [],
      "source": [
        "over_sampler = ...\n",
        "X_train_over, y_train_over = ...\n",
        "print(\"X_train_over shape:\", X_train_over.shape)\n",
        "X_train_over.head()"
      ]
    },
    {
      "cell_type": "markdown",
      "id": "a65ed1ae-0d46-426b-bc94-2f3c18231d8d",
      "metadata": {
        "deletable": false,
        "editable": false,
        "id": "a65ed1ae-0d46-426b-bc94-2f3c18231d8d"
      },
      "source": [
        "# Construindo Model"
      ]
    },
    {
      "cell_type": "markdown",
      "id": "f6a60638-be78-42d3-9cd5-81ba79d5c169",
      "metadata": {
        "deletable": false,
        "editable": false,
        "id": "f6a60638-be78-42d3-9cd5-81ba79d5c169"
      },
      "source": [
        "Agora vamos montar nosso modelo. Começaremos calculando a baseline accuracy, assim como fizemos da última vez."
      ]
    },
    {
      "cell_type": "markdown",
      "id": "851ebd03-3e95-4cbf-a98c-351184fc6c66",
      "metadata": {
        "deletable": false,
        "editable": false,
        "id": "851ebd03-3e95-4cbf-a98c-351184fc6c66"
      },
      "source": [
        "## Baseline"
      ]
    },
    {
      "cell_type": "markdown",
      "id": "5aaad561-eece-48ba-998c-eb18c92d4785",
      "metadata": {
        "deletable": false,
        "editable": false,
        "id": "5aaad561-eece-48ba-998c-eb18c92d4785"
      },
      "source": [
        "### Exercício:\n",
        "Calcule a baseline accuracy para o seu modelo."
      ]
    },
    {
      "cell_type": "code",
      "execution_count": null,
      "id": "0f1cc467-ab9a-4ca8-908b-4438896e8aad",
      "metadata": {
        "deletable": false,
        "id": "0f1cc467-ab9a-4ca8-908b-4438896e8aad"
      },
      "outputs": [],
      "source": [
        "acc_baseline = ...\n",
        "print(\"Baseline Accuracy:\", round(acc_baseline, 4))"
      ]
    },
    {
      "cell_type": "markdown",
      "id": "26eb3c53-5864-4c69-9233-f6819e9877fe",
      "metadata": {
        "deletable": false,
        "editable": false,
        "id": "26eb3c53-5864-4c69-9233-f6819e9877fe"
      },
      "source": [
        "## Iterar"
      ]
    },
    {
      "cell_type": "markdown",
      "id": "0eec71c2-1067-4e30-bfb8-4a1e8c44dfc9",
      "metadata": {
        "deletable": false,
        "editable": false,
        "id": "0eec71c2-1067-4e30-bfb8-4a1e8c44dfc9"
      },
      "source": [
        "Embora os blocos de construção sejam os mesmos, é aqui que começamos a trabalhar com algo novo. Primeiro, vamos usar um novo tipo de modelo de ensemble para o nosso classificador."
      ]
    },
    {
      "cell_type": "markdown",
      "id": "92b00f4f-c2e3-4abd-b825-055b2f720556",
      "metadata": {
        "deletable": false,
        "editable": false,
        "id": "92b00f4f-c2e3-4abd-b825-055b2f720556"
      },
      "source": [
        "Crie um pipeline chamado `clf` (abreviação de \"classifier\") que contenha um transformador `SimpleImputer` e um preditor `GradientBoostingClassifier`."
      ]
    },
    {
      "cell_type": "code",
      "execution_count": null,
      "id": "918f7d60-edf2-4997-b3a6-dc97500120d6",
      "metadata": {
        "deletable": false,
        "id": "918f7d60-edf2-4997-b3a6-dc97500120d6"
      },
      "outputs": [],
      "source": [
        "clf = ..."
      ]
    },
    {
      "cell_type": "markdown",
      "id": "a4f98182-0c2a-4757-9465-2f53ec1ed7e4",
      "metadata": {
        "deletable": false,
        "editable": false,
        "id": "a4f98182-0c2a-4757-9465-2f53ec1ed7e4"
      },
      "source": [
        "Lembre-se, enquanto fazemos isso, que queremos olhar apenas para a *classe positiva*. Aqui, a classe positiva é aquela em que as empresas realmente faliram. No dicionário que fizemos na última vez, a classe positiva é composta pelas empresas com o par chave-valor `bankrupt: true`.\n",
        "\n",
        "Em seguida, vamos ajustar alguns dos hiperparâmetros do nosso modelo."
      ]
    },
    {
      "cell_type": "markdown",
      "id": "2f6cf456-e27f-4677-9285-4798de66ae95",
      "metadata": {
        "deletable": false,
        "editable": false,
        "id": "2f6cf456-e27f-4677-9285-4798de66ae95"
      },
      "source": [
        "### Exercício:\n",
        "Crie um dicionário com a faixa de hiperparâmetros que queremos avaliar para o nosso classificador.\n",
        "\n",
        "1. Para o `SimpleImputer`, experimente as estratégias `\"mean\"` e `\"median\"`.\n",
        "2. Para o `GradientBoostingClassifier`, tente configurações de `max_depth` entre 2 e 5.\n",
        "3. Também para o `GradientBoostingClassifier`, tente configurações de `n_estimators` entre 20 e 31, em passos de 5."
      ]
    },
    {
      "cell_type": "code",
      "execution_count": null,
      "id": "c2b74b45-747b-4e09-b6b4-9c9e8b6f2f3e",
      "metadata": {
        "deletable": false,
        "tags": [],
        "id": "c2b74b45-747b-4e09-b6b4-9c9e8b6f2f3e"
      },
      "outputs": [],
      "source": [
        "params = ...\n",
        "params"
      ]
    },
    {
      "cell_type": "markdown",
      "id": "787c5ede-d6e8-4f59-8c96-2633ccfe9993",
      "metadata": {
        "deletable": false,
        "editable": false,
        "id": "787c5ede-d6e8-4f59-8c96-2633ccfe9993"
      },
      "source": [
        "### Exercício:\n",
        "Observe que estamos tentando números muito menores de `n_estimators`. Isso ocorre porque o `GradientBoostingClassifier` é mais lento para treinar do que o `RandomForestClassifier`. Você pode tentar aumentar o número de estimadores para ver se o desempenho do modelo melhora, mas lembre-se de que você pode esperar um longo tempo!"
      ]
    },
    {
      "cell_type": "markdown",
      "id": "3182ba88-7f4d-44ef-9da3-cc39642185a3",
      "metadata": {
        "deletable": false,
        "editable": false,
        "id": "3182ba88-7f4d-44ef-9da3-cc39642185a3"
      },
      "source": [
        "### Exercício:\n",
        "Crie um `GridSearchCV` chamado `model` que inclua seu classificador e a grade de hiperparâmetros. Certifique-se de usar os mesmos argumentos para `cv` e `n_jobs` que você usou anteriormente, e defina `verbose` como 1."
      ]
    },
    {
      "cell_type": "code",
      "execution_count": null,
      "id": "6b6339c5-13c1-46f1-81d5-01a7193ba5f6",
      "metadata": {
        "deletable": false,
        "id": "6b6339c5-13c1-46f1-81d5-01a7193ba5f6"
      },
      "outputs": [],
      "source": [
        "model = ..."
      ]
    },
    {
      "cell_type": "markdown",
      "id": "4c19d937-1fb7-4dd5-a74a-c32667f3851b",
      "metadata": {
        "deletable": false,
        "editable": false,
        "id": "4c19d937-1fb7-4dd5-a74a-c32667f3851b"
      },
      "source": [
        "Agora que temos tudo o que precisamos para o modelo, vamos ajustá-lo aos dados e ver o que conseguimos."
      ]
    },
    {
      "cell_type": "markdown",
      "id": "e34cf5e4-b6f7-43f1-9e84-56ee262bd268",
      "metadata": {
        "deletable": false,
        "editable": false,
        "id": "e34cf5e4-b6f7-43f1-9e84-56ee262bd268"
      },
      "source": [
        "### Exercício:\n",
        "Ajuste seu `model` aos dados de treinamento que foram superamostrados."
      ]
    },
    {
      "cell_type": "code",
      "execution_count": null,
      "id": "abc603b5-1a2f-4d79-ad04-6659f52d5f0e",
      "metadata": {
        "deletable": false,
        "id": "abc603b5-1a2f-4d79-ad04-6659f52d5f0e"
      },
      "outputs": [],
      "source": [
        "# Fit model to over-sampled training data\n"
      ]
    },
    {
      "cell_type": "markdown",
      "id": "26f9551d-c065-4d32-bd07-1508c7aa535c",
      "metadata": {
        "deletable": false,
        "editable": false,
        "id": "26f9551d-c065-4d32-bd07-1508c7aa535c"
      },
      "source": [
        "### Exercício:\n",
        "Extraia os resultados da validação cruzada do `model` e carregue-os em um DataFrame chamado `cv_results`."
      ]
    },
    {
      "cell_type": "code",
      "execution_count": null,
      "id": "e067484a-3c24-4025-9b73-cf9a889d4e09",
      "metadata": {
        "deletable": false,
        "id": "e067484a-3c24-4025-9b73-cf9a889d4e09"
      },
      "outputs": [],
      "source": [
        "results = ...\n",
        "results.sort_values(\"rank_test_score\").head(10)"
      ]
    },
    {
      "cell_type": "markdown",
      "id": "66902dac-33a5-4202-9406-488b5a95a463",
      "metadata": {
        "deletable": false,
        "editable": false,
        "id": "66902dac-33a5-4202-9406-488b5a95a463"
      },
      "source": [
        "Há vários hiperparâmetros lá, então vamos extrair aqueles que funcionam melhor para o nosso modelo."
      ]
    },
    {
      "cell_type": "markdown",
      "id": "7d227812-addf-4da9-a1eb-5e1204a9cd61",
      "metadata": {
        "deletable": false,
        "editable": false,
        "id": "7d227812-addf-4da9-a1eb-5e1204a9cd61"
      },
      "source": [
        "### Exercício:\n",
        "Extraia os melhores hiperparâmetros do `model`."
      ]
    },
    {
      "cell_type": "code",
      "execution_count": null,
      "id": "ae01399d-dd9f-4d40-9368-b777c61d994d",
      "metadata": {
        "deletable": false,
        "id": "ae01399d-dd9f-4d40-9368-b777c61d994d"
      },
      "outputs": [],
      "source": [
        "# Extract best hyperparameters\n"
      ]
    },
    {
      "cell_type": "markdown",
      "id": "ef0d71d6-73b5-49b8-a0fd-a5ea4852fe56",
      "metadata": {
        "deletable": false,
        "editable": false,
        "id": "ef0d71d6-73b5-49b8-a0fd-a5ea4852fe56"
      },
      "source": [
        "# Avaliar"
      ]
    },
    {
      "cell_type": "markdown",
      "id": "91752b0a-c824-4904-9833-e5f6dc214a0b",
      "metadata": {
        "deletable": false,
        "editable": false,
        "id": "91752b0a-c824-4904-9833-e5f6dc214a0b"
      },
      "source": [
        "Agora que temos um modelo funcional que está realmente nos fornecendo algo útil, vamos ver quão bom ele realmente é."
      ]
    },
    {
      "cell_type": "markdown",
      "id": "0bacbe52-aff9-4326-af47-edc58b8e1c8a",
      "metadata": {
        "deletable": false,
        "editable": false,
        "id": "0bacbe52-aff9-4326-af47-edc58b8e1c8a"
      },
      "source": [
        "### Exercício:\n",
        "Calcule as pontuações de acurácia de treinamento e teste para o `model`."
      ]
    },
    {
      "cell_type": "code",
      "execution_count": null,
      "id": "66f28b5c-67e8-4125-9f2c-7ef3a215351c",
      "metadata": {
        "deletable": false,
        "tags": [],
        "id": "66f28b5c-67e8-4125-9f2c-7ef3a215351c"
      },
      "outputs": [],
      "source": [
        "acc_train = ...\n",
        "acc_test = ...\n",
        "\n",
        "print(\"Training Accuracy:\", round(acc_train, 4))\n",
        "print(\"Validation Accuracy:\", round(acc_test, 4))"
      ]
    },
    {
      "cell_type": "markdown",
      "id": "c2f18c51-d05f-4056-befe-8fb93ed8d6f5",
      "metadata": {
        "deletable": false,
        "editable": false,
        "id": "c2f18c51-d05f-4056-befe-8fb93ed8d6f5"
      },
      "source": [
        "Assim como antes, vamos criar um `ConfusionMatrix` para ver como nosso modelo está fazendo suas previsões corretas e incorretas."
      ]
    },
    {
      "cell_type": "markdown",
      "id": "987cb21a-336a-4b8a-9048-61061cf18581",
      "metadata": {
        "deletable": false,
        "editable": false,
        "id": "987cb21a-336a-4b8a-9048-61061cf18581"
      },
      "source": [
        "### Exercício:\n",
        "Plote uma matriz de confusão que mostre como o seu melhor modelo está se saindo no seu conjunto de teste."
      ]
    },
    {
      "cell_type": "code",
      "execution_count": null,
      "id": "13aabb10-8065-4dc5-9df0-9c76b19bf332",
      "metadata": {
        "deletable": false,
        "id": "13aabb10-8065-4dc5-9df0-9c76b19bf332"
      },
      "outputs": [],
      "source": [
        "# Plot confusion matrix\n"
      ]
    },
    {
      "cell_type": "markdown",
      "id": "389c9dce-ca67-4a04-8087-b6ba8b01af40",
      "metadata": {
        "deletable": false,
        "editable": false,
        "id": "389c9dce-ca67-4a04-8087-b6ba8b01af40"
      },
      "source": [
        "Esta matriz é um ótimo lembrete de como nossos dados estão desequilibrados e de por que a acurácia nem sempre é a melhor métrica para julgar se um modelo está nos fornecendo o que queremos. Afinal, se 95% das empresas em nosso conjunto de dados não faliram, tudo o que o modelo precisa fazer é sempre prever `{\"falência\": False}`, e estará certo 95% das vezes. A pontuação de acurácia será incrível, mas não nos dirá o que realmente precisamos saber.\n",
        "\n",
        "Em vez disso, podemos avaliar nosso modelo usando duas novas métricas: **precisão** e **recall**. A pontuação de precisão é importante quando queremos que nosso modelo só preveja que uma empresa vai falir se estiver muito confiante em sua previsão. A pontuação de *recall* é importante se quisermos garantir que todas as empresas que falirão sejam identificadas, mesmo que isso signifique cometer alguns erros às vezes.\n",
        "\n",
        "Vamos começar com um relatório que você pode criar com o scikit-learn para calcular ambas as métricas. Em seguida, analisaremos cada uma delas usando uma ferramenta de visualização que desenvolvemos especialmente para o Laboratório de Ciência de Dados."
      ]
    },
    {
      "cell_type": "markdown",
      "id": "60e82afd-0cc0-4193-bad5-8560160de19b",
      "metadata": {
        "deletable": false,
        "editable": false,
        "id": "60e82afd-0cc0-4193-bad5-8560160de19b"
      },
      "source": [
        "### Exercício:\n",
        "Imprima o relatório de classificação para o seu modelo, utilizando o conjunto de teste."
      ]
    },
    {
      "cell_type": "code",
      "execution_count": null,
      "id": "ccf1036c-3949-4d6e-9253-03f29d2e2a12",
      "metadata": {
        "deletable": false,
        "id": "ccf1036c-3949-4d6e-9253-03f29d2e2a12"
      },
      "outputs": [],
      "source": [
        "# Print classification report\n",
        "print(...)"
      ]
    },
    {
      "cell_type": "markdown",
      "id": "2f1c98e4-6864-48ba-bff8-dbf98b96cea9",
      "metadata": {
        "deletable": false,
        "editable": false,
        "id": "2f1c98e4-6864-48ba-bff8-dbf98b96cea9"
      },
      "source": [
        "### Exercício:\n",
        "Execute a célula abaixo para carregar o widget da matriz de confusão."
      ]
    },
    {
      "cell_type": "code",
      "execution_count": null,
      "id": "7e141c5e-58ac-4dd7-b2fc-4334144c0c56",
      "metadata": {
        "deletable": false,
        "id": "7e141c5e-58ac-4dd7-b2fc-4334144c0c56"
      },
      "outputs": [],
      "source": [
        "c = ConfusionMatrixWidget(model, X_test, y_test)\n",
        "c.show()"
      ]
    },
    {
      "cell_type": "markdown",
      "id": "f8b564fc-09ed-4e0f-91a3-94b9de706a73",
      "metadata": {
        "deletable": false,
        "editable": false,
        "id": "f8b564fc-09ed-4e0f-91a3-94b9de706a73"
      },
      "source": [
        "Se você mover o limite de probabilidade, verá que há uma troca entre precisão e recall. Ou seja, à medida que um melhora, o outro sofre. Como cientista de dados, você muitas vezes precisará decidir se prefere um modelo com melhor precisão ou melhor recall. A escolha dependerá de como você pretende usar o modelo.\n",
        "\n",
        "Vamos examinar dois exemplos, um em que o recall é a prioridade e outro em que a precisão é mais importante. Primeiro, imagine que você trabalha para uma agência reguladora da União Europeia que auxilia empresas e investidores a navegar por processos de insolvência. Você quer construir um modelo para prever quais empresas podem falir, para que possa enviar aos devedores informações sobre como solicitar proteção legal antes que a empresa se torne insolvente. Os custos administrativos de enviar informações para uma empresa são de €500. Os custos legais para o sistema judiciário europeu se uma empresa não solicitar proteção antes da falência são de €50.000.\n",
        "\n",
        "Para um modelo como este, queremos focar no **recall**, pois o recall se trata de *quantidade*. Um modelo que prioriza recall lançará a rede mais ampla possível, o que é a abordagem ideal para esse problema. Queremos enviar informações para o maior número possível de empresas que possam falir, pois custa muito menos enviar informações para uma empresa que talvez não se torne insolvente do que ignorar uma que realmente falirá."
      ]
    },
    {
      "cell_type": "markdown",
      "id": "9ebf28d5-e3e2-4f60-88cd-d414feb8afcd",
      "metadata": {
        "deletable": false,
        "editable": false,
        "id": "9ebf28d5-e3e2-4f60-88cd-d414feb8afcd"
      },
      "source": [
        "### Exercício:\n",
        "Execute a célula abaixo e use o controle deslizante para alterar o limite de probabilidade do seu modelo. Qual relação você observa entre as mudanças no limite e as mudanças nos custos administrativos e legais desperdiçados? Na sua opinião, o que é mais importante para este modelo: alta precisão ou alto recall?"
      ]
    },
    {
      "cell_type": "code",
      "execution_count": null,
      "id": "9b39cd96-491f-43ea-ab46-e906c5aa7427",
      "metadata": {
        "deletable": false,
        "id": "9b39cd96-491f-43ea-ab46-e906c5aa7427"
      },
      "outputs": [],
      "source": [
        "c.show_eu()"
      ]
    },
    {
      "cell_type": "markdown",
      "id": "e75e2b14-f3c5-4cc4-99bb-411e927b59a5",
      "metadata": {
        "deletable": false,
        "editable": false,
        "id": "e75e2b14-f3c5-4cc4-99bb-411e927b59a5"
      },
      "source": [
        "Para o segundo exemplo, vamos supor que trabalhamos em uma firma de private equity que compra empresas em dificuldades, as melhora e depois as vende para obter lucro. Você quer construir um modelo para prever quais empresas vão falir para que possa comprá-las antes dos seus concorrentes. Se a firma compra uma empresa que realmente está insolvente, pode lucrar €100 milhões ou mais. Mas se comprar uma empresa que não está insolvente e não pode ser revendida com lucro, a firma perderá €250 milhões.\n",
        "\n",
        "Para um modelo como este, queremos focar na **precisão**. Se estamos tentando maximizar nosso lucro, a *qualidade* de nossas previsões é muito mais importante do que a *quantidade* de nossas previsões. Não é um grande problema se não conseguirmos identificar todas as empresas insolventes, mas é *definitivamente* um grande problema se as empresas que identificamos não acabarem se tornando insolventes.\n",
        "\n",
        "Desta vez, vamos construir a visualização juntos."
      ]
    },
    {
      "cell_type": "markdown",
      "id": "5d493fdf-85b1-4418-b2af-7914c3cf0179",
      "metadata": {
        "deletable": false,
        "editable": false,
        "id": "5d493fdf-85b1-4418-b2af-7914c3cf0179"
      },
      "source": [
        "### Exercício:\n",
        "Crie um painel interativo que mostre como o lucro e as perdas das empresas mudam em relação ao limite de probabilidade do seu modelo. Comece com a função `make_cnf_matrix`, que deve calcular e imprimir lucros/perdas e exibir uma matriz de confusão. Em seguida, crie um `FloatSlider` chamado `thresh_widget` que varia de 0 a 1. Por fim, combine sua função e o controle deslizante na função `interact`."
      ]
    },
    {
      "cell_type": "code",
      "execution_count": null,
      "id": "5305fa70-5d4d-4284-9ada-f362d990be90",
      "metadata": {
        "deletable": false,
        "id": "5305fa70-5d4d-4284-9ada-f362d990be90"
      },
      "outputs": [],
      "source": [
        "def make_cnf_matrix(threshold):\n",
        "\n",
        "    pass\n",
        "\n",
        "\n",
        "thresh_widget = ...\n",
        "\n",
        "interact(make_cnf_matrix, threshold=thresh_widget);"
      ]
    },
    {
      "cell_type": "markdown",
      "id": "fbc8abf1-8b50-4d56-9ce0-b02c402ac002",
      "metadata": {
        "deletable": false,
        "editable": false,
        "id": "fbc8abf1-8b50-4d56-9ce0-b02c402ac002"
      },
      "source": [
        "__Go Further:💡__ Alguns alunos sugeriram que este widget seria melhor se mostrasse a soma dos lucros e perdas. Você pode adicionar esse total?"
      ]
    },
    {
      "cell_type": "markdown",
      "id": "74240ab0-e4f5-48cb-b71a-f267862a72b8",
      "metadata": {
        "deletable": false,
        "editable": false,
        "id": "74240ab0-e4f5-48cb-b71a-f267862a72b8"
      },
      "source": [
        "# Comunicar Resultados"
      ]
    },
    {
      "cell_type": "markdown",
      "id": "56f32790-e80a-4ab8-bade-94416cc9dc09",
      "metadata": {
        "deletable": false,
        "editable": false,
        "id": "56f32790-e80a-4ab8-bade-94416cc9dc09"
      },
      "source": [
        "Quase lá! Salve o melhor modelo para que possamos compartilhá-lo com outras pessoas e, em seguida, junte tudo o que aprendemos na última lição."
      ]
    },
    {
      "cell_type": "markdown",
      "id": "46763be8-0a76-4f80-a0af-fcd5f88d73bd",
      "metadata": {
        "deletable": false,
        "editable": false,
        "id": "46763be8-0a76-4f80-a0af-fcd5f88d73bd"
      },
      "source": [
        "### Exercício:\n",
        "Usando um gerenciador de contexto, salve seu modelo de melhor desempenho em um arquivo chamado `\"model-5-4.pkl\"`."
      ]
    },
    {
      "cell_type": "code",
      "execution_count": null,
      "id": "c49a1791-b590-4621-92f0-0f8bff72577f",
      "metadata": {
        "deletable": false,
        "id": "c49a1791-b590-4621-92f0-0f8bff72577f"
      },
      "outputs": [],
      "source": [
        "# Save model\n"
      ]
    },
    {
      "cell_type": "markdown",
      "id": "57772dce-1480-4c6e-9971-6fcd46c28b91",
      "metadata": {
        "deletable": false,
        "editable": false,
        "id": "57772dce-1480-4c6e-9971-6fcd46c28b91"
      },
      "source": [
        "### Exercício:\n",
        "Abra o arquivo `my_predictor_lesson.py`, adicione as funções `wrangle` e `make_predictions` da última lição e insira todas as instruções de importação necessárias no topo do arquivo. Quando terminar, salve o arquivo. Você pode verificar se o conteúdo está correto executando a célula abaixo."
      ]
    },
    {
      "cell_type": "code",
      "execution_count": null,
      "id": "fddba6da-81ea-4d5d-b1c6-afe99e77e1b4",
      "metadata": {
        "deletable": false,
        "id": "fddba6da-81ea-4d5d-b1c6-afe99e77e1b4"
      },
      "outputs": [],
      "source": [
        "%%bash\n",
        "\n",
        "cat my_predictor_lesson.py"
      ]
    },
    {
      "cell_type": "markdown",
      "id": "123cfce0-a984-4c3d-a713-cfb8e7c6b29e",
      "metadata": {
        "deletable": false,
        "editable": false,
        "id": "123cfce0-a984-4c3d-a713-cfb8e7c6b29e"
      },
      "source": [
        "Parabéns! Você criou seu primeiro módulo!"
      ]
    },
    {
      "cell_type": "markdown",
      "id": "21064e25-3458-4a63-89a0-917406dacb69",
      "metadata": {
        "deletable": false,
        "editable": false,
        "id": "21064e25-3458-4a63-89a0-917406dacb69"
      },
      "source": [
        "### Exercício:\n",
        "Importe sua função `make_predictions` do seu módulo `my_predictor` e use o código abaixo para garantir que ela funcione conforme o esperado. Quando estiver satisfeito, envie para o avaliador."
      ]
    },
    {
      "cell_type": "code",
      "execution_count": null,
      "id": "477fbfc1-05ed-4cdd-b00b-c1732fc58ce9",
      "metadata": {
        "deletable": false,
        "id": "477fbfc1-05ed-4cdd-b00b-c1732fc58ce9"
      },
      "outputs": [],
      "source": [
        "# Import your module\n",
        "\n",
        "\n",
        "# Generate predictions\n",
        "y_test_pred = make_predictions(\n",
        "    data_filepath=\"data/poland-bankruptcy-data-2009-mvp-features.json.gz\",\n",
        "    model_filepath=\"model-5-4.pkl\",\n",
        ")\n",
        "\n",
        "print(\"predictions shape:\", y_test_pred.shape)\n",
        "y_test_pred.head()"
      ]
    }
  ],
  "metadata": {
    "kernelspec": {
      "display_name": "Python 3 (ipykernel)",
      "language": "python",
      "name": "python3"
    },
    "language_info": {
      "codemirror_mode": {
        "name": "ipython",
        "version": 3
      },
      "file_extension": ".py",
      "mimetype": "text/x-python",
      "name": "python",
      "nbconvert_exporter": "python",
      "pygments_lexer": "ipython3",
      "version": "3.9.6"
    },
    "colab": {
      "provenance": []
    }
  },
  "nbformat": 4,
  "nbformat_minor": 5
}