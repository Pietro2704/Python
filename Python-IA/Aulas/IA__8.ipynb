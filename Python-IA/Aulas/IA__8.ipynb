{
  "cells": [
    {
      "cell_type": "markdown",
      "id": "e1a2d55e-855c-43bf-90d6-d7c4ea39c311",
      "metadata": {
        "deletable": false,
        "editable": false,
        "id": "e1a2d55e-855c-43bf-90d6-d7c4ea39c311"
      },
      "source": [
        "# Trabalhando com arquivos JSON"
      ]
    },
    {
      "cell_type": "markdown",
      "id": "94810d73-7954-4d31-ba93-524c3ae779c8",
      "metadata": {
        "deletable": false,
        "editable": false,
        "id": "94810d73-7954-4d31-ba93-524c3ae779c8"
      },
      "source": [
        "Neste projeto, vamos acompanhar as falências corporativas na Polônia. Para isso, precisaremos obter dados que foram armazenados em um arquivo `JSON`, explorá-los e transformá-los em um DataFrame que usaremos para treinar nosso modelo."
      ]
    },
    {
      "cell_type": "code",
      "execution_count": 13,
      "id": "0ce7e7e1-14e1-4e67-9b2c-cac8939af21a",
      "metadata": {
        "deletable": false,
        "editable": false,
        "init_cell": true,
        "tags": [],
        "id": "0ce7e7e1-14e1-4e67-9b2c-cac8939af21a"
      },
      "outputs": [],
      "source": [
        "import gzip\n",
        "import json\n",
        "import pandas as pd"
      ]
    },
    {
      "cell_type": "markdown",
      "id": "d51973f2-1da4-477c-9770-97ed5174dada",
      "metadata": {
        "deletable": false,
        "editable": false,
        "id": "d51973f2-1da4-477c-9770-97ed5174dada"
      },
      "source": [
        "# Preparando Dados"
      ]
    },
    {
      "cell_type": "markdown",
      "id": "d040de7c-daf6-4817-8c55-18b8f29a785d",
      "metadata": {
        "deletable": false,
        "editable": false,
        "id": "d040de7c-daf6-4817-8c55-18b8f29a785d"
      },
      "source": [
        "## Abrindo"
      ]
    },
    {
      "cell_type": "markdown",
      "id": "46981355-9c3d-44ce-81bb-257fb30fb1f4",
      "metadata": {
        "deletable": false,
        "editable": false,
        "id": "46981355-9c3d-44ce-81bb-257fb30fb1f4"
      },
      "source": [
        "A primeira coisa que precisamos fazer é acessar o arquivo que contém os dados de que precisamos."
      ]
    },
    {
      "cell_type": "markdown",
      "id": "44adf074-0355-43e1-9f57-42dc3e8c7ae6",
      "metadata": {
        "deletable": false,
        "editable": false,
        "id": "44adf074-0355-43e1-9f57-42dc3e8c7ae6"
      },
      "source": [
        "### Exercício:\n",
        "Abra uma janela do terminal e navegue até o diretório onde os dados para este projeto estão localizados.\n"
      ]
    },
    {
      "cell_type": "code",
      "source": [
        "!ls"
      ],
      "metadata": {
        "id": "eV8wk4UheexX",
        "outputId": "5f985ed7-329e-47c0-e385-5d7444d91f88",
        "colab": {
          "base_uri": "https://localhost:8080/"
        }
      },
      "id": "eV8wk4UheexX",
      "execution_count": 3,
      "outputs": [
        {
          "output_type": "stream",
          "name": "stdout",
          "text": [
            "poland-bankruptcy-data-2009.json.gz  poland-bankruptcy-data-2009-mvp-features.json.gz  sample_data\n"
          ]
        }
      ]
    },
    {
      "cell_type": "markdown",
      "id": "998596d3-576e-480c-a148-8532e10308a9",
      "metadata": {
        "deletable": false,
        "editable": false,
        "id": "998596d3-576e-480c-a148-8532e10308a9"
      },
      "source": [
        "Como vimos em nossos outros projetos, os conjuntos de dados podem ser grandes ou pequenos, desorganizados ou limpos, e complexos ou fáceis de entender. Independentemente de como os dados se apresentam, eles precisam ser salvos em um arquivo em algum lugar, e quando esse arquivo fica muito grande, precisamos *comprimí-lo*. Arquivos comprimidos são mais fáceis de armazenar porque ocupam menos espaço. Se você já encontrou um arquivo `ZIP`, você já trabalhou com dados comprimidos.\n",
        "\n",
        "O arquivo que estamos usando para este projeto está comprimido, então precisaremos usar uma ferramenta de arquivos chamada `gzip` para abri-lo."
      ]
    },
    {
      "cell_type": "markdown",
      "id": "0c3ed9a1-67ec-4004-adc3-bd36452bc924",
      "metadata": {
        "deletable": false,
        "editable": false,
        "id": "0c3ed9a1-67ec-4004-adc3-bd36452bc924"
      },
      "source": [
        "### Exercício:\n",
        "Na janela do terminal, localize o arquivo de dados para este projeto e descomprima-o.\n"
      ]
    },
    {
      "cell_type": "code",
      "execution_count": 6,
      "id": "1c38ec4c-447e-44e6-8198-1574a15b318e",
      "metadata": {
        "deletable": false,
        "id": "1c38ec4c-447e-44e6-8198-1574a15b318e"
      },
      "outputs": [],
      "source": [
        "%%bash\n",
        "gzip -dkf /content/poland-bankruptcy-data-2009.json.gz"
      ]
    },
    {
      "cell_type": "markdown",
      "id": "7119c915-6023-45ff-969d-9178bdf9c55a",
      "metadata": {
        "deletable": false,
        "editable": false,
        "id": "7119c915-6023-45ff-969d-9178bdf9c55a"
      },
      "source": [
        "## Explorar"
      ]
    },
    {
      "cell_type": "markdown",
      "id": "80b5e424-15f3-4984-afa9-0b0b38a6a5eb",
      "metadata": {
        "deletable": false,
        "editable": false,
        "id": "80b5e424-15f3-4984-afa9-0b0b38a6a5eb"
      },
      "source": [
        "Agora que descomprimimos os dados, vamos dar uma olhada para ver o que temos."
      ]
    },
    {
      "cell_type": "markdown",
      "id": "2b6c0ac5-1bb2-4f00-8555-76b3c907a9ff",
      "metadata": {
        "deletable": false,
        "editable": false,
        "id": "2b6c0ac5-1bb2-4f00-8555-76b3c907a9ff"
      },
      "source": [
        "### Exercício:\n",
        "Na janela do terminal, examine as primeiras 10 linhas de `poland-bankruptcy-data-2009.json`."
      ]
    },
    {
      "cell_type": "code",
      "execution_count": 8,
      "id": "16d8ceec-d2e8-4da8-a813-491cfb071a60",
      "metadata": {
        "tags": [],
        "id": "16d8ceec-d2e8-4da8-a813-491cfb071a60",
        "outputId": "c479bbaf-a813-426e-b570-f3cae6bd347e",
        "colab": {
          "base_uri": "https://localhost:8080/"
        }
      },
      "outputs": [
        {
          "output_type": "stream",
          "name": "stdout",
          "text": [
            "{\r\n",
            "    \"schema\": {\r\n",
            "        \"fields\": [\r\n",
            "            {\r\n",
            "                \"name\": \"company_id\",\r\n",
            "                \"type\": \"integer\"\r\n",
            "            },\r\n",
            "            {\r\n",
            "                \"name\": \"feat_1\",\r\n",
            "                \"type\": \"number\"\r\n"
          ]
        }
      ],
      "source": [
        "%%bash\n",
        "head /content/poland-bankruptcy-data-2009.json"
      ]
    },
    {
      "cell_type": "markdown",
      "id": "79f64022-60f3-4643-a4f9-780254df8a72",
      "metadata": {
        "deletable": false,
        "editable": false,
        "id": "79f64022-60f3-4643-a4f9-780254df8a72"
      },
      "source": [
        "Isso se parece com alguma das estruturas de dados que vimos em projetos anteriores?\n",
        "\n",
        "Como os dados estão organizados?\n"
      ]
    },
    {
      "cell_type": "markdown",
      "id": "a2628097-59e1-4ab7-9979-c9dd9a0debba",
      "metadata": {
        "deletable": false,
        "editable": false,
        "id": "a2628097-59e1-4ab7-9979-c9dd9a0debba"
      },
      "source": [
        "Chaves? Pares de chave-valor? Parece semelhante a um dicionário Python. É importante notar que JSON não é _exatamente_ o mesmo que um dicionário, mas muitos dos mesmos conceitos se aplicam. Vamos tentar ler o arquivo em um DataFrame e ver o que acontece."
      ]
    },
    {
      "cell_type": "markdown",
      "id": "111acd3e-28a6-43ab-84b0-4fa82eace401",
      "metadata": {
        "deletable": false,
        "editable": false,
        "id": "111acd3e-28a6-43ab-84b0-4fa82eace401"
      },
      "source": [
        "### Exercício:\n",
        "Carregue os dados em um DataFrame.\n"
      ]
    },
    {
      "cell_type": "code",
      "execution_count": 11,
      "id": "0fca0a10-98b4-4d33-b155-632dfec7b0a8",
      "metadata": {
        "deletable": false,
        "tags": [
          "raises-exception"
        ],
        "id": "0fca0a10-98b4-4d33-b155-632dfec7b0a8",
        "outputId": "844ece60-7dd8-454f-df0d-f19dfe9505dc",
        "colab": {
          "base_uri": "https://localhost:8080/",
          "height": 321
        }
      },
      "outputs": [
        {
          "output_type": "error",
          "ename": "ValueError",
          "evalue": "Mixing dicts with non-Series may lead to ambiguous ordering.",
          "traceback": [
            "\u001b[0;31m---------------------------------------------------------------------------\u001b[0m",
            "\u001b[0;31mValueError\u001b[0m                                Traceback (most recent call last)",
            "\u001b[0;32m<ipython-input-11-902c9d006709>\u001b[0m in \u001b[0;36m<cell line: 2>\u001b[0;34m()\u001b[0m\n\u001b[1;32m      1\u001b[0m \u001b[0;32mimport\u001b[0m \u001b[0mpandas\u001b[0m \u001b[0;32mas\u001b[0m \u001b[0mpd\u001b[0m\u001b[0;34m\u001b[0m\u001b[0;34m\u001b[0m\u001b[0m\n\u001b[0;32m----> 2\u001b[0;31m \u001b[0mdf\u001b[0m \u001b[0;34m=\u001b[0m \u001b[0mpd\u001b[0m\u001b[0;34m.\u001b[0m\u001b[0mread_json\u001b[0m\u001b[0;34m(\u001b[0m\u001b[0;34m'/content/poland-bankruptcy-data-2009.json'\u001b[0m\u001b[0;34m)\u001b[0m\u001b[0;34m\u001b[0m\u001b[0;34m\u001b[0m\u001b[0m\n\u001b[0m\u001b[1;32m      3\u001b[0m \u001b[0mdf\u001b[0m\u001b[0;34m.\u001b[0m\u001b[0mhead\u001b[0m\u001b[0;34m(\u001b[0m\u001b[0;34m)\u001b[0m\u001b[0;34m\u001b[0m\u001b[0;34m\u001b[0m\u001b[0m\n",
            "\u001b[0;32m/usr/local/lib/python3.10/dist-packages/pandas/io/json/_json.py\u001b[0m in \u001b[0;36mread_json\u001b[0;34m(path_or_buf, orient, typ, dtype, convert_axes, convert_dates, keep_default_dates, precise_float, date_unit, encoding, encoding_errors, lines, chunksize, compression, nrows, storage_options, dtype_backend, engine)\u001b[0m\n\u001b[1;32m    813\u001b[0m         \u001b[0;32mreturn\u001b[0m \u001b[0mjson_reader\u001b[0m\u001b[0;34m\u001b[0m\u001b[0;34m\u001b[0m\u001b[0m\n\u001b[1;32m    814\u001b[0m     \u001b[0;32melse\u001b[0m\u001b[0;34m:\u001b[0m\u001b[0;34m\u001b[0m\u001b[0;34m\u001b[0m\u001b[0m\n\u001b[0;32m--> 815\u001b[0;31m         \u001b[0;32mreturn\u001b[0m \u001b[0mjson_reader\u001b[0m\u001b[0;34m.\u001b[0m\u001b[0mread\u001b[0m\u001b[0;34m(\u001b[0m\u001b[0;34m)\u001b[0m\u001b[0;34m\u001b[0m\u001b[0;34m\u001b[0m\u001b[0m\n\u001b[0m\u001b[1;32m    816\u001b[0m \u001b[0;34m\u001b[0m\u001b[0m\n\u001b[1;32m    817\u001b[0m \u001b[0;34m\u001b[0m\u001b[0m\n",
            "\u001b[0;32m/usr/local/lib/python3.10/dist-packages/pandas/io/json/_json.py\u001b[0m in \u001b[0;36mread\u001b[0;34m(self)\u001b[0m\n\u001b[1;32m   1023\u001b[0m                         \u001b[0mobj\u001b[0m \u001b[0;34m=\u001b[0m \u001b[0mself\u001b[0m\u001b[0;34m.\u001b[0m\u001b[0m_get_object_parser\u001b[0m\u001b[0;34m(\u001b[0m\u001b[0mself\u001b[0m\u001b[0;34m.\u001b[0m\u001b[0m_combine_lines\u001b[0m\u001b[0;34m(\u001b[0m\u001b[0mdata_lines\u001b[0m\u001b[0;34m)\u001b[0m\u001b[0;34m)\u001b[0m\u001b[0;34m\u001b[0m\u001b[0;34m\u001b[0m\u001b[0m\n\u001b[1;32m   1024\u001b[0m                 \u001b[0;32melse\u001b[0m\u001b[0;34m:\u001b[0m\u001b[0;34m\u001b[0m\u001b[0;34m\u001b[0m\u001b[0m\n\u001b[0;32m-> 1025\u001b[0;31m                     \u001b[0mobj\u001b[0m \u001b[0;34m=\u001b[0m \u001b[0mself\u001b[0m\u001b[0;34m.\u001b[0m\u001b[0m_get_object_parser\u001b[0m\u001b[0;34m(\u001b[0m\u001b[0mself\u001b[0m\u001b[0;34m.\u001b[0m\u001b[0mdata\u001b[0m\u001b[0;34m)\u001b[0m\u001b[0;34m\u001b[0m\u001b[0;34m\u001b[0m\u001b[0m\n\u001b[0m\u001b[1;32m   1026\u001b[0m                 \u001b[0;32mif\u001b[0m \u001b[0mself\u001b[0m\u001b[0;34m.\u001b[0m\u001b[0mdtype_backend\u001b[0m \u001b[0;32mis\u001b[0m \u001b[0;32mnot\u001b[0m \u001b[0mlib\u001b[0m\u001b[0;34m.\u001b[0m\u001b[0mno_default\u001b[0m\u001b[0;34m:\u001b[0m\u001b[0;34m\u001b[0m\u001b[0;34m\u001b[0m\u001b[0m\n\u001b[1;32m   1027\u001b[0m                     return obj.convert_dtypes(\n",
            "\u001b[0;32m/usr/local/lib/python3.10/dist-packages/pandas/io/json/_json.py\u001b[0m in \u001b[0;36m_get_object_parser\u001b[0;34m(self, json)\u001b[0m\n\u001b[1;32m   1049\u001b[0m         \u001b[0mobj\u001b[0m \u001b[0;34m=\u001b[0m \u001b[0;32mNone\u001b[0m\u001b[0;34m\u001b[0m\u001b[0;34m\u001b[0m\u001b[0m\n\u001b[1;32m   1050\u001b[0m         \u001b[0;32mif\u001b[0m \u001b[0mtyp\u001b[0m \u001b[0;34m==\u001b[0m \u001b[0;34m\"frame\"\u001b[0m\u001b[0;34m:\u001b[0m\u001b[0;34m\u001b[0m\u001b[0;34m\u001b[0m\u001b[0m\n\u001b[0;32m-> 1051\u001b[0;31m             \u001b[0mobj\u001b[0m \u001b[0;34m=\u001b[0m \u001b[0mFrameParser\u001b[0m\u001b[0;34m(\u001b[0m\u001b[0mjson\u001b[0m\u001b[0;34m,\u001b[0m \u001b[0;34m**\u001b[0m\u001b[0mkwargs\u001b[0m\u001b[0;34m)\u001b[0m\u001b[0;34m.\u001b[0m\u001b[0mparse\u001b[0m\u001b[0;34m(\u001b[0m\u001b[0;34m)\u001b[0m\u001b[0;34m\u001b[0m\u001b[0;34m\u001b[0m\u001b[0m\n\u001b[0m\u001b[1;32m   1052\u001b[0m \u001b[0;34m\u001b[0m\u001b[0m\n\u001b[1;32m   1053\u001b[0m         \u001b[0;32mif\u001b[0m \u001b[0mtyp\u001b[0m \u001b[0;34m==\u001b[0m \u001b[0;34m\"series\"\u001b[0m \u001b[0;32mor\u001b[0m \u001b[0mobj\u001b[0m \u001b[0;32mis\u001b[0m \u001b[0;32mNone\u001b[0m\u001b[0;34m:\u001b[0m\u001b[0;34m\u001b[0m\u001b[0;34m\u001b[0m\u001b[0m\n",
            "\u001b[0;32m/usr/local/lib/python3.10/dist-packages/pandas/io/json/_json.py\u001b[0m in \u001b[0;36mparse\u001b[0;34m(self)\u001b[0m\n\u001b[1;32m   1185\u001b[0m     \u001b[0;34m@\u001b[0m\u001b[0mfinal\u001b[0m\u001b[0;34m\u001b[0m\u001b[0;34m\u001b[0m\u001b[0m\n\u001b[1;32m   1186\u001b[0m     \u001b[0;32mdef\u001b[0m \u001b[0mparse\u001b[0m\u001b[0;34m(\u001b[0m\u001b[0mself\u001b[0m\u001b[0;34m)\u001b[0m\u001b[0;34m:\u001b[0m\u001b[0;34m\u001b[0m\u001b[0;34m\u001b[0m\u001b[0m\n\u001b[0;32m-> 1187\u001b[0;31m         \u001b[0mself\u001b[0m\u001b[0;34m.\u001b[0m\u001b[0m_parse\u001b[0m\u001b[0;34m(\u001b[0m\u001b[0;34m)\u001b[0m\u001b[0;34m\u001b[0m\u001b[0;34m\u001b[0m\u001b[0m\n\u001b[0m\u001b[1;32m   1188\u001b[0m \u001b[0;34m\u001b[0m\u001b[0m\n\u001b[1;32m   1189\u001b[0m         \u001b[0;32mif\u001b[0m \u001b[0mself\u001b[0m\u001b[0;34m.\u001b[0m\u001b[0mobj\u001b[0m \u001b[0;32mis\u001b[0m \u001b[0;32mNone\u001b[0m\u001b[0;34m:\u001b[0m\u001b[0;34m\u001b[0m\u001b[0;34m\u001b[0m\u001b[0m\n",
            "\u001b[0;32m/usr/local/lib/python3.10/dist-packages/pandas/io/json/_json.py\u001b[0m in \u001b[0;36m_parse\u001b[0;34m(self)\u001b[0m\n\u001b[1;32m   1400\u001b[0m \u001b[0;34m\u001b[0m\u001b[0m\n\u001b[1;32m   1401\u001b[0m         \u001b[0;32mif\u001b[0m \u001b[0morient\u001b[0m \u001b[0;34m==\u001b[0m \u001b[0;34m\"columns\"\u001b[0m\u001b[0;34m:\u001b[0m\u001b[0;34m\u001b[0m\u001b[0;34m\u001b[0m\u001b[0m\n\u001b[0;32m-> 1402\u001b[0;31m             self.obj = DataFrame(\n\u001b[0m\u001b[1;32m   1403\u001b[0m                 \u001b[0mujson_loads\u001b[0m\u001b[0;34m(\u001b[0m\u001b[0mjson\u001b[0m\u001b[0;34m,\u001b[0m \u001b[0mprecise_float\u001b[0m\u001b[0;34m=\u001b[0m\u001b[0mself\u001b[0m\u001b[0;34m.\u001b[0m\u001b[0mprecise_float\u001b[0m\u001b[0;34m)\u001b[0m\u001b[0;34m,\u001b[0m \u001b[0mdtype\u001b[0m\u001b[0;34m=\u001b[0m\u001b[0;32mNone\u001b[0m\u001b[0;34m\u001b[0m\u001b[0;34m\u001b[0m\u001b[0m\n\u001b[1;32m   1404\u001b[0m             )\n",
            "\u001b[0;32m/usr/local/lib/python3.10/dist-packages/pandas/core/frame.py\u001b[0m in \u001b[0;36m__init__\u001b[0;34m(self, data, index, columns, dtype, copy)\u001b[0m\n\u001b[1;32m    776\u001b[0m         \u001b[0;32melif\u001b[0m \u001b[0misinstance\u001b[0m\u001b[0;34m(\u001b[0m\u001b[0mdata\u001b[0m\u001b[0;34m,\u001b[0m \u001b[0mdict\u001b[0m\u001b[0;34m)\u001b[0m\u001b[0;34m:\u001b[0m\u001b[0;34m\u001b[0m\u001b[0;34m\u001b[0m\u001b[0m\n\u001b[1;32m    777\u001b[0m             \u001b[0;31m# GH#38939 de facto copy defaults to False only in non-dict cases\u001b[0m\u001b[0;34m\u001b[0m\u001b[0;34m\u001b[0m\u001b[0m\n\u001b[0;32m--> 778\u001b[0;31m             \u001b[0mmgr\u001b[0m \u001b[0;34m=\u001b[0m \u001b[0mdict_to_mgr\u001b[0m\u001b[0;34m(\u001b[0m\u001b[0mdata\u001b[0m\u001b[0;34m,\u001b[0m \u001b[0mindex\u001b[0m\u001b[0;34m,\u001b[0m \u001b[0mcolumns\u001b[0m\u001b[0;34m,\u001b[0m \u001b[0mdtype\u001b[0m\u001b[0;34m=\u001b[0m\u001b[0mdtype\u001b[0m\u001b[0;34m,\u001b[0m \u001b[0mcopy\u001b[0m\u001b[0;34m=\u001b[0m\u001b[0mcopy\u001b[0m\u001b[0;34m,\u001b[0m \u001b[0mtyp\u001b[0m\u001b[0;34m=\u001b[0m\u001b[0mmanager\u001b[0m\u001b[0;34m)\u001b[0m\u001b[0;34m\u001b[0m\u001b[0;34m\u001b[0m\u001b[0m\n\u001b[0m\u001b[1;32m    779\u001b[0m         \u001b[0;32melif\u001b[0m \u001b[0misinstance\u001b[0m\u001b[0;34m(\u001b[0m\u001b[0mdata\u001b[0m\u001b[0;34m,\u001b[0m \u001b[0mma\u001b[0m\u001b[0;34m.\u001b[0m\u001b[0mMaskedArray\u001b[0m\u001b[0;34m)\u001b[0m\u001b[0;34m:\u001b[0m\u001b[0;34m\u001b[0m\u001b[0;34m\u001b[0m\u001b[0m\n\u001b[1;32m    780\u001b[0m             \u001b[0;32mfrom\u001b[0m \u001b[0mnumpy\u001b[0m\u001b[0;34m.\u001b[0m\u001b[0mma\u001b[0m \u001b[0;32mimport\u001b[0m \u001b[0mmrecords\u001b[0m\u001b[0;34m\u001b[0m\u001b[0;34m\u001b[0m\u001b[0m\n",
            "\u001b[0;32m/usr/local/lib/python3.10/dist-packages/pandas/core/internals/construction.py\u001b[0m in \u001b[0;36mdict_to_mgr\u001b[0;34m(data, index, columns, dtype, typ, copy)\u001b[0m\n\u001b[1;32m    501\u001b[0m             \u001b[0marrays\u001b[0m \u001b[0;34m=\u001b[0m \u001b[0;34m[\u001b[0m\u001b[0mx\u001b[0m\u001b[0;34m.\u001b[0m\u001b[0mcopy\u001b[0m\u001b[0;34m(\u001b[0m\u001b[0;34m)\u001b[0m \u001b[0;32mif\u001b[0m \u001b[0mhasattr\u001b[0m\u001b[0;34m(\u001b[0m\u001b[0mx\u001b[0m\u001b[0;34m,\u001b[0m \u001b[0;34m\"dtype\"\u001b[0m\u001b[0;34m)\u001b[0m \u001b[0;32melse\u001b[0m \u001b[0mx\u001b[0m \u001b[0;32mfor\u001b[0m \u001b[0mx\u001b[0m \u001b[0;32min\u001b[0m \u001b[0marrays\u001b[0m\u001b[0;34m]\u001b[0m\u001b[0;34m\u001b[0m\u001b[0;34m\u001b[0m\u001b[0m\n\u001b[1;32m    502\u001b[0m \u001b[0;34m\u001b[0m\u001b[0m\n\u001b[0;32m--> 503\u001b[0;31m     \u001b[0;32mreturn\u001b[0m \u001b[0marrays_to_mgr\u001b[0m\u001b[0;34m(\u001b[0m\u001b[0marrays\u001b[0m\u001b[0;34m,\u001b[0m \u001b[0mcolumns\u001b[0m\u001b[0;34m,\u001b[0m \u001b[0mindex\u001b[0m\u001b[0;34m,\u001b[0m \u001b[0mdtype\u001b[0m\u001b[0;34m=\u001b[0m\u001b[0mdtype\u001b[0m\u001b[0;34m,\u001b[0m \u001b[0mtyp\u001b[0m\u001b[0;34m=\u001b[0m\u001b[0mtyp\u001b[0m\u001b[0;34m,\u001b[0m \u001b[0mconsolidate\u001b[0m\u001b[0;34m=\u001b[0m\u001b[0mcopy\u001b[0m\u001b[0;34m)\u001b[0m\u001b[0;34m\u001b[0m\u001b[0;34m\u001b[0m\u001b[0m\n\u001b[0m\u001b[1;32m    504\u001b[0m \u001b[0;34m\u001b[0m\u001b[0m\n\u001b[1;32m    505\u001b[0m \u001b[0;34m\u001b[0m\u001b[0m\n",
            "\u001b[0;32m/usr/local/lib/python3.10/dist-packages/pandas/core/internals/construction.py\u001b[0m in \u001b[0;36marrays_to_mgr\u001b[0;34m(arrays, columns, index, dtype, verify_integrity, typ, consolidate)\u001b[0m\n\u001b[1;32m    112\u001b[0m         \u001b[0;31m# figure out the index, if necessary\u001b[0m\u001b[0;34m\u001b[0m\u001b[0;34m\u001b[0m\u001b[0m\n\u001b[1;32m    113\u001b[0m         \u001b[0;32mif\u001b[0m \u001b[0mindex\u001b[0m \u001b[0;32mis\u001b[0m \u001b[0;32mNone\u001b[0m\u001b[0;34m:\u001b[0m\u001b[0;34m\u001b[0m\u001b[0;34m\u001b[0m\u001b[0m\n\u001b[0;32m--> 114\u001b[0;31m             \u001b[0mindex\u001b[0m \u001b[0;34m=\u001b[0m \u001b[0m_extract_index\u001b[0m\u001b[0;34m(\u001b[0m\u001b[0marrays\u001b[0m\u001b[0;34m)\u001b[0m\u001b[0;34m\u001b[0m\u001b[0;34m\u001b[0m\u001b[0m\n\u001b[0m\u001b[1;32m    115\u001b[0m         \u001b[0;32melse\u001b[0m\u001b[0;34m:\u001b[0m\u001b[0;34m\u001b[0m\u001b[0;34m\u001b[0m\u001b[0m\n\u001b[1;32m    116\u001b[0m             \u001b[0mindex\u001b[0m \u001b[0;34m=\u001b[0m \u001b[0mensure_index\u001b[0m\u001b[0;34m(\u001b[0m\u001b[0mindex\u001b[0m\u001b[0;34m)\u001b[0m\u001b[0;34m\u001b[0m\u001b[0;34m\u001b[0m\u001b[0m\n",
            "\u001b[0;32m/usr/local/lib/python3.10/dist-packages/pandas/core/internals/construction.py\u001b[0m in \u001b[0;36m_extract_index\u001b[0;34m(data)\u001b[0m\n\u001b[1;32m    678\u001b[0m \u001b[0;34m\u001b[0m\u001b[0m\n\u001b[1;32m    679\u001b[0m         \u001b[0;32mif\u001b[0m \u001b[0mhave_dicts\u001b[0m\u001b[0;34m:\u001b[0m\u001b[0;34m\u001b[0m\u001b[0;34m\u001b[0m\u001b[0m\n\u001b[0;32m--> 680\u001b[0;31m             raise ValueError(\n\u001b[0m\u001b[1;32m    681\u001b[0m                 \u001b[0;34m\"Mixing dicts with non-Series may lead to ambiguous ordering.\"\u001b[0m\u001b[0;34m\u001b[0m\u001b[0;34m\u001b[0m\u001b[0m\n\u001b[1;32m    682\u001b[0m             )\n",
            "\u001b[0;31mValueError\u001b[0m: Mixing dicts with non-Series may lead to ambiguous ordering."
          ]
        }
      ],
      "source": [
        "import pandas as pd\n",
        "df = pd.read_json('/content/poland-bankruptcy-data-2009.json')\n",
        "df.head()"
      ]
    },
    {
      "cell_type": "markdown",
      "id": "f1ec41c9-8bf4-4285-ad3e-62a57e115074",
      "metadata": {
        "deletable": false,
        "editable": false,
        "id": "f1ec41c9-8bf4-4285-ad3e-62a57e115074"
      },
      "source": [
        "Hmmm. Parece que algo deu errado, e vamos ter que consertar isso. Felizmente, temos uma mensagem de erro para nos ajudar a entender o que está acontecendo aqui:\n",
        "\n",
        "<code><span>ValueError</span>: Mixing dicts with non-Series may lead to ambiguous ordering.</code>\n",
        "\n",
        "O que devemos fazer? Esse erro parece sério, mas o mundo é grande e não podemos ser os primeiros a encontrar esse problema.\n",
        "\n",
        "Quando você se deparar com um erro, copie a mensagem em um mecanismo de busca e veja o que aparece. Você encontrará muitos resultados. A internet tem muitos lugares para procurar soluções para problemas como este, e o Stack Overflow é um dos melhores.\n",
        "\n",
        "Há três coisas a procurar ao navegar por soluções no Stack Overflow.\n",
        "\n",
        "1. **Contexto:** Uma boa pergunta é específica; se você clicar nesse link, verá que a pessoa faz uma pergunta **específica**, fornece algumas informações relevantes sobre seu sistema operacional e hardware, e depois oferece o código que gerou o erro. Isso é importante, porque precisamos...\n",
        "2. **Código Reproduzível:** Uma boa pergunta também inclui informações suficientes para que você possa reproduzir o problema por conta própria. Afinal, a única maneira de garantir que a solução realmente se aplica à sua situação é ver se o código na pergunta gera o erro com o qual você está tendo problemas! Neste caso, a pessoa incluiu não apenas o código que usou para obter o erro, mas a própria mensagem de erro. Isso seria útil por si só, mas como você está procurando uma solução real para o seu problema, você está realmente procurando por...\n",
        "3. **Uma resposta:** Nem toda pergunta no Stack Overflow recebe resposta. Felizmente para nós, a que estamos analisando teve uma. Há uma grande marca verde ao lado da primeira solução, o que significa que a pessoa que fez a pergunta achou que essa solução era a melhor.\n",
        "\n",
        "Vamos tentar e ver se funciona para nós também!"
      ]
    },
    {
      "cell_type": "markdown",
      "id": "6991d9b9-997b-4b49-a30f-013ea02d8bf8",
      "metadata": {
        "deletable": false,
        "editable": false,
        "id": "6991d9b9-997b-4b49-a30f-013ea02d8bf8"
      },
      "source": [
        "### Exercício:\n",
        "Usando um gerenciador de contexto, abra o arquivo `poland-bankruptcy-data-2009.json` e carregue-o como um dicionário com o nome da variável `poland_data`."
      ]
    },
    {
      "cell_type": "code",
      "execution_count": 12,
      "id": "f9e77c69-2afb-4c18-b03f-6bc4b7b855a9",
      "metadata": {
        "deletable": false,
        "tags": [],
        "id": "f9e77c69-2afb-4c18-b03f-6bc4b7b855a9",
        "outputId": "9baed21e-502a-454f-c47e-2ef3cd9b87a2",
        "colab": {
          "base_uri": "https://localhost:8080/"
        }
      },
      "outputs": [
        {
          "output_type": "stream",
          "name": "stdout",
          "text": [
            "<class 'dict'>\n"
          ]
        }
      ],
      "source": [
        "# Open file and load JSON\n",
        "import json\n",
        "\n",
        "with open(\"/content/poland-bankruptcy-data-2009.json\", \"r\") as read_file:\n",
        "    poland_data = json.load(read_file)\n",
        "\n",
        "print(type(poland_data))"
      ]
    },
    {
      "cell_type": "markdown",
      "id": "f9d1d062-074b-4a39-ab29-e8320c5a3977",
      "metadata": {
        "deletable": false,
        "editable": false,
        "id": "f9d1d062-074b-4a39-ab29-e8320c5a3977"
      },
      "source": [
        "Certo! Agora que abrimos com sucesso nosso conjunto de dados, vamos dar uma olhada para ver o que temos, começando pelas chaves. Lembre-se de que as **chaves** em um dicionário são categorias de coisas em um conjunto de dados."
      ]
    },
    {
      "cell_type": "markdown",
      "id": "da816b30-050a-4387-ac01-39c0dc2e8a49",
      "metadata": {
        "deletable": false,
        "editable": false,
        "id": "da816b30-050a-4387-ac01-39c0dc2e8a49"
      },
      "source": [
        "### Exercício:\n",
        "Imprima as chaves de `poland_data`."
      ]
    },
    {
      "cell_type": "code",
      "execution_count": 14,
      "id": "e5c9deb5-13a0-4d0d-959b-ac83eada9d43",
      "metadata": {
        "deletable": false,
        "tags": [],
        "id": "e5c9deb5-13a0-4d0d-959b-ac83eada9d43",
        "outputId": "09896c71-028b-47bf-9a9d-1f065eb14d92",
        "colab": {
          "base_uri": "https://localhost:8080/"
        }
      },
      "outputs": [
        {
          "output_type": "execute_result",
          "data": {
            "text/plain": [
              "dict_keys(['schema', 'data', 'metadata'])"
            ]
          },
          "metadata": {},
          "execution_count": 14
        }
      ],
      "source": [
        "poland_data.keys()"
      ]
    },
    {
      "cell_type": "markdown",
      "id": "65d49916-782c-4fb8-84d0-21bf4644e478",
      "metadata": {
        "deletable": false,
        "editable": false,
        "id": "65d49916-782c-4fb8-84d0-21bf4644e478"
      },
      "source": [
        "`schema` nos informa como os dados estão estruturados, `metadata` nos diz de onde os dados vêm, e `data` é o próprio dado."
      ]
    },
    {
      "cell_type": "markdown",
      "id": "2ddbac0e-cb76-4a7d-99f9-020269507dae",
      "metadata": {
        "deletable": false,
        "editable": false,
        "id": "2ddbac0e-cb76-4a7d-99f9-020269507dae"
      },
      "source": [
        "Agora vamos dar uma olhada nos valores. Lembre-se de que os **valores** em um dicionário são formas de descrever a variável que pertence a uma chave."
      ]
    },
    {
      "cell_type": "markdown",
      "id": "59a2b7b2-4daf-4a2b-a408-58c712dda746",
      "metadata": {
        "deletable": false,
        "editable": false,
        "id": "59a2b7b2-4daf-4a2b-a408-58c712dda746"
      },
      "source": [
        "### Exercício:\n",
        "Explore os valores associados às chaves em `poland_data`. O que cada um deles representa? Como as informações associadas à chave `\"data\"` estão organizadas?"
      ]
    },
    {
      "cell_type": "code",
      "execution_count": null,
      "id": "28b9916e-aa13-4453-9a23-c9bb2a4c17ec",
      "metadata": {
        "deletable": false,
        "tags": [],
        "id": "28b9916e-aa13-4453-9a23-c9bb2a4c17ec"
      },
      "outputs": [],
      "source": [
        "# Continue Exploring `poland_data`\n",
        "# poland_data[\"metadata\"]\n",
        "# poland_data[\"schema\"].keys()\n",
        "poland_data[\"data\"][0]"
      ]
    },
    {
      "cell_type": "markdown",
      "id": "dd887da8-d504-455b-adb2-332123298dc1",
      "metadata": {
        "deletable": false,
        "editable": false,
        "id": "dd887da8-d504-455b-adb2-332123298dc1"
      },
      "source": [
        "Esse conjunto de dados inclui todas as informações que precisamos para descobrir se uma empresa polonesa faliu ou não em 2009. Há uma série de características incluídas no conjunto de dados, cada uma das quais corresponde a algum elemento do balanço patrimonial de uma empresa. Você pode explorar as características olhando o dicionário de dados.\n",
        "\n",
        "O mais importante é que também sabemos se a empresa faliu ou não. Essa é a última chave-valor."
      ]
    },
    {
      "cell_type": "markdown",
      "id": "2b5b25e6-4a78-414f-8286-b667d24c2826",
      "metadata": {
        "deletable": false,
        "editable": false,
        "id": "2b5b25e6-4a78-414f-8286-b667d24c2826"
      },
      "source": [
        "Agora que sabemos quais dados temos para cada empresa, vamos dar uma olhada em quantas empresas existem."
      ]
    },
    {
      "cell_type": "markdown",
      "id": "e8b5393c-7c8a-41b9-b8e9-91e6afa46f94",
      "metadata": {
        "deletable": false,
        "editable": false,
        "id": "e8b5393c-7c8a-41b9-b8e9-91e6afa46f94"
      },
      "source": [
        "### Exercício:\n",
        "Calcule o número de empresas incluídas no conjunto de dados."
      ]
    },
    {
      "cell_type": "code",
      "execution_count": 26,
      "id": "a062458c-18d3-4001-b716-bc2d70f4bc8b",
      "metadata": {
        "deletable": false,
        "tags": [],
        "id": "a062458c-18d3-4001-b716-bc2d70f4bc8b",
        "outputId": "4bc33583-e425-457f-b1a7-88dbd61e3e4f",
        "colab": {
          "base_uri": "https://localhost:8080/"
        }
      },
      "outputs": [
        {
          "output_type": "execute_result",
          "data": {
            "text/plain": [
              "9977"
            ]
          },
          "metadata": {},
          "execution_count": 26
        }
      ],
      "source": [
        "# Calculate number of companies\n",
        "len(poland_data[\"data\"])"
      ]
    },
    {
      "cell_type": "markdown",
      "id": "2d030ed0-def1-4dd9-82a9-5e6b4ad15a1c",
      "metadata": {
        "deletable": false,
        "editable": false,
        "id": "2d030ed0-def1-4dd9-82a9-5e6b4ad15a1c"
      },
      "source": [
        "E então vamos ver quantas características foram incluídas para uma das empresas."
      ]
    },
    {
      "cell_type": "markdown",
      "id": "2068732e-830b-465e-9f73-02043e7a5a93",
      "metadata": {
        "deletable": false,
        "editable": false,
        "id": "2068732e-830b-465e-9f73-02043e7a5a93"
      },
      "source": [
        "###Exercício:\n",
        "Calcule o número de características associadas a `\"company_1\"`."
      ]
    },
    {
      "cell_type": "code",
      "execution_count": 27,
      "id": "e455d7c7-72df-41d0-8987-aa9dc26e7eff",
      "metadata": {
        "deletable": false,
        "tags": [],
        "id": "e455d7c7-72df-41d0-8987-aa9dc26e7eff",
        "outputId": "c8f40bb5-39c1-47d4-f721-6588afc2f10b",
        "colab": {
          "base_uri": "https://localhost:8080/"
        }
      },
      "outputs": [
        {
          "output_type": "execute_result",
          "data": {
            "text/plain": [
              "66"
            ]
          },
          "metadata": {},
          "execution_count": 27
        }
      ],
      "source": [
        "# Calculate number of features\n",
        "len(poland_data[\"data\"][0])"
      ]
    },
    {
      "cell_type": "markdown",
      "id": "04b24ce6-00b3-4b09-bbd1-325780a80cb5",
      "metadata": {
        "deletable": false,
        "editable": false,
        "id": "04b24ce6-00b3-4b09-bbd1-325780a80cb5"
      },
      "source": [
        "Como estamos lidando com dados armazenados em um arquivo JSON, que é comum para dados semi-estruturados, não podemos assumir que todas as empresas têm as mesmas características.\n",
        "\n",
        "Então, vamos verificar!"
      ]
    },
    {
      "cell_type": "markdown",
      "id": "d4aef7a8-09fc-466c-b27e-59a2eb1faaba",
      "metadata": {
        "deletable": false,
        "editable": false,
        "id": "d4aef7a8-09fc-466c-b27e-59a2eb1faaba"
      },
      "source": [
        "### Exercício:\n",
        "Percorra as empresas em `poland_data[\"data\"]` e verifique se todas elas têm o mesmo número de características."
      ]
    },
    {
      "cell_type": "code",
      "execution_count": 29,
      "id": "abf4ddaa-aa83-4cfe-817c-886cce0ece35",
      "metadata": {
        "deletable": false,
        "tags": [],
        "id": "abf4ddaa-aa83-4cfe-817c-886cce0ece35"
      },
      "outputs": [],
      "source": [
        "# Iterate through companies\n",
        "for company in poland_data[\"data\"]:\n",
        "  if len(company) != 66:\n",
        "    print(company)"
      ]
    },
    {
      "cell_type": "markdown",
      "id": "477cba81-0a53-42d6-971f-20d79ca3eabb",
      "metadata": {
        "deletable": false,
        "editable": false,
        "id": "477cba81-0a53-42d6-971f-20d79ca3eabb"
      },
      "source": [
        "Parece que sim!"
      ]
    },
    {
      "cell_type": "markdown",
      "id": "664e47ff-6c88-44fa-bf33-a0ce2bb253ab",
      "metadata": {
        "deletable": false,
        "editable": false,
        "id": "664e47ff-6c88-44fa-bf33-a0ce2bb253ab"
      },
      "source": [
        "Vamos juntar tudo isso. Primeiro, abra o conjunto de dados comprimido e carregue-o diretamente em um dicionário."
      ]
    },
    {
      "cell_type": "markdown",
      "id": "9133e0fe-fa33-485f-975a-224028432782",
      "metadata": {
        "deletable": false,
        "editable": false,
        "id": "9133e0fe-fa33-485f-975a-224028432782"
      },
      "source": [
        "### Exercício:\n",
        "Usando um gerenciador de contexto, abra o arquivo `poland-bankruptcy-data-2009.json.gz` e carregue-o como um dicionário com o nome da variável `poland_data_gz`."
      ]
    },
    {
      "cell_type": "code",
      "execution_count": 30,
      "id": "66f08f8d-3e3d-4ca7-a0e9-939e0ac1c570",
      "metadata": {
        "deletable": false,
        "tags": [],
        "id": "66f08f8d-3e3d-4ca7-a0e9-939e0ac1c570",
        "outputId": "dc6a7d79-652e-4170-ee3c-deee133c638a",
        "colab": {
          "base_uri": "https://localhost:8080/"
        }
      },
      "outputs": [
        {
          "output_type": "stream",
          "name": "stdout",
          "text": [
            "<class 'dict'>\n"
          ]
        }
      ],
      "source": [
        "# Open compressed file and load contents\n",
        "with gzip.open(\"/content/poland-bankruptcy-data-2009.json.gz\", \"r\") as read_file:\n",
        "    poland_data_gz = json.load(read_file)\n",
        "\n",
        "\n",
        "print(type(poland_data_gz))"
      ]
    },
    {
      "cell_type": "markdown",
      "id": "e2590f8f-0c9c-4eb4-a317-d65fed808a85",
      "metadata": {
        "deletable": false,
        "editable": false,
        "id": "e2590f8f-0c9c-4eb4-a317-d65fed808a85"
      },
      "source": [
        "Como agora temos duas versões do conjunto de dados — uma comprimida e uma descomprimida — precisamos compará-las para garantir que sejam iguais."
      ]
    },
    {
      "cell_type": "markdown",
      "id": "3dba18a9-df27-4c1c-a5ab-f0382011fbbe",
      "metadata": {
        "deletable": false,
        "editable": false,
        "id": "3dba18a9-df27-4c1c-a5ab-f0382011fbbe"
      },
      "source": [
        "### Exercício:\n",
        "Explore `poland_data_gz` para confirmar que ele contém os mesmos dados que `data`, no mesmo formato."
      ]
    },
    {
      "cell_type": "code",
      "execution_count": 33,
      "id": "16aaa185-fd67-4d75-bf52-97568b2d31c0",
      "metadata": {
        "deletable": false,
        "tags": [],
        "id": "16aaa185-fd67-4d75-bf52-97568b2d31c0",
        "outputId": "914f3648-2351-49ee-96cd-604da22a4895",
        "colab": {
          "base_uri": "https://localhost:8080/"
        }
      },
      "outputs": [
        {
          "output_type": "execute_result",
          "data": {
            "text/plain": [
              "{'title': 'Ensemble Boosted Trees with Synthetic Features Generation in Application to Bankruptcy Prediction',\n",
              " 'authors': 'Zieba, M., Tomczak, S. K., & Tomczak, J. M.',\n",
              " 'journal': 'Expert Systems with Applications',\n",
              " 'publicationYear': 2016,\n",
              " 'dataYear': 2009,\n",
              " 'articleLink': 'doi:10.1016/j.eswa.2016.04.001',\n",
              " 'datasetLink': 'https://archive.ics.uci.edu/ml/datasets/Polish+companies+bankruptcy+data'}"
            ]
          },
          "metadata": {},
          "execution_count": 33
        }
      ],
      "source": [
        "# Explore `poland_data_gz`\n",
        "poland_data_gz[\"metadata\"]\n",
        "# poland_data_gz[\"schema\"].keys()\n",
        "# poland_data_gz[\"data\"][0]"
      ]
    },
    {
      "cell_type": "markdown",
      "id": "f41b5df8-2638-4364-a8ce-a8ade23e5d27",
      "metadata": {
        "deletable": false,
        "editable": false,
        "id": "f41b5df8-2638-4364-a8ce-a8ade23e5d27"
      },
      "source": [
        "Parece bom! Agora que temos um conjunto de dados descomprimido, podemos transformá-lo em um DataFrame usando `pandas`."
      ]
    },
    {
      "cell_type": "markdown",
      "id": "da3e7183-9363-421b-82ee-68f70639a876",
      "metadata": {
        "deletable": false,
        "editable": false,
        "id": "da3e7183-9363-421b-82ee-68f70639a876"
      },
      "source": [
        "### Exercício:\n",
        "Crie um DataFrame `df` que contenha todas as empresas no conjunto de dados, indexadas por `\"company_id\"`. Lembre-se dos princípios de *dados organizados* e certifique-se de que seu DataFrame tenha a forma `(9977, 65)`."
      ]
    },
    {
      "cell_type": "code",
      "execution_count": 34,
      "id": "10dbd9d5-bfe0-46a8-9601-3b5dd5c10b9e",
      "metadata": {
        "deletable": false,
        "tags": [],
        "id": "10dbd9d5-bfe0-46a8-9601-3b5dd5c10b9e",
        "outputId": "f09c4ac9-db88-4a1c-d7f8-cf350a1f1a32",
        "colab": {
          "base_uri": "https://localhost:8080/",
          "height": 304
        }
      },
      "outputs": [
        {
          "output_type": "stream",
          "name": "stdout",
          "text": [
            "(9977, 65)\n"
          ]
        },
        {
          "output_type": "execute_result",
          "data": {
            "text/plain": [
              "              feat_1   feat_2   feat_3  feat_4   feat_5   feat_6    feat_7  \\\n",
              "company_id                                                                   \n",
              "1           0.174190  0.41299  0.14371  1.3480 -28.9820  0.60383  0.219460   \n",
              "2           0.146240  0.46038  0.28230  1.6294   2.5952  0.00000  0.171850   \n",
              "3           0.000595  0.22612  0.48839  3.1599  84.8740  0.19114  0.004572   \n",
              "5           0.188290  0.41504  0.34231  1.9279 -58.2740  0.00000  0.233580   \n",
              "6           0.182060  0.55615  0.32191  1.6045  16.3140  0.00000  0.182060   \n",
              "\n",
              "             feat_8  feat_9  feat_10  ...   feat_56   feat_57  feat_58  \\\n",
              "company_id                            ...                                \n",
              "1           1.12250  1.1961  0.46359  ...  0.163960  0.375740  0.83604   \n",
              "2           1.17210  1.6018  0.53962  ...  0.027516  0.271000  0.90108   \n",
              "3           2.98810  1.0077  0.67566  ...  0.007639  0.000881  0.99236   \n",
              "5           1.40940  1.3393  0.58496  ...  0.176480  0.321880  0.82635   \n",
              "6           0.79808  1.8126  0.44385  ...  0.555770  0.410190  0.46957   \n",
              "\n",
              "             feat_59  feat_60  feat_61  feat_62  feat_63  feat_64  bankrupt  \n",
              "company_id                                                                   \n",
              "1           0.000007   9.7145   6.2813   84.291   4.3303   4.0341     False  \n",
              "2           0.000000   5.9882   4.1103  102.190   3.5716   5.9500     False  \n",
              "3           0.000000   6.7742   3.7922   64.846   5.6287   4.4581     False  \n",
              "5           0.073039   2.5912   7.0756  100.540   3.6303   4.6375     False  \n",
              "6           0.029421   8.4553   3.3488  107.240   3.4036  12.4540     False  \n",
              "\n",
              "[5 rows x 65 columns]"
            ],
            "text/html": [
              "\n",
              "  <div id=\"df-3830e431-7a3e-4e76-ac96-3845479ea1e2\" class=\"colab-df-container\">\n",
              "    <div>\n",
              "<style scoped>\n",
              "    .dataframe tbody tr th:only-of-type {\n",
              "        vertical-align: middle;\n",
              "    }\n",
              "\n",
              "    .dataframe tbody tr th {\n",
              "        vertical-align: top;\n",
              "    }\n",
              "\n",
              "    .dataframe thead th {\n",
              "        text-align: right;\n",
              "    }\n",
              "</style>\n",
              "<table border=\"1\" class=\"dataframe\">\n",
              "  <thead>\n",
              "    <tr style=\"text-align: right;\">\n",
              "      <th></th>\n",
              "      <th>feat_1</th>\n",
              "      <th>feat_2</th>\n",
              "      <th>feat_3</th>\n",
              "      <th>feat_4</th>\n",
              "      <th>feat_5</th>\n",
              "      <th>feat_6</th>\n",
              "      <th>feat_7</th>\n",
              "      <th>feat_8</th>\n",
              "      <th>feat_9</th>\n",
              "      <th>feat_10</th>\n",
              "      <th>...</th>\n",
              "      <th>feat_56</th>\n",
              "      <th>feat_57</th>\n",
              "      <th>feat_58</th>\n",
              "      <th>feat_59</th>\n",
              "      <th>feat_60</th>\n",
              "      <th>feat_61</th>\n",
              "      <th>feat_62</th>\n",
              "      <th>feat_63</th>\n",
              "      <th>feat_64</th>\n",
              "      <th>bankrupt</th>\n",
              "    </tr>\n",
              "    <tr>\n",
              "      <th>company_id</th>\n",
              "      <th></th>\n",
              "      <th></th>\n",
              "      <th></th>\n",
              "      <th></th>\n",
              "      <th></th>\n",
              "      <th></th>\n",
              "      <th></th>\n",
              "      <th></th>\n",
              "      <th></th>\n",
              "      <th></th>\n",
              "      <th></th>\n",
              "      <th></th>\n",
              "      <th></th>\n",
              "      <th></th>\n",
              "      <th></th>\n",
              "      <th></th>\n",
              "      <th></th>\n",
              "      <th></th>\n",
              "      <th></th>\n",
              "      <th></th>\n",
              "      <th></th>\n",
              "    </tr>\n",
              "  </thead>\n",
              "  <tbody>\n",
              "    <tr>\n",
              "      <th>1</th>\n",
              "      <td>0.174190</td>\n",
              "      <td>0.41299</td>\n",
              "      <td>0.14371</td>\n",
              "      <td>1.3480</td>\n",
              "      <td>-28.9820</td>\n",
              "      <td>0.60383</td>\n",
              "      <td>0.219460</td>\n",
              "      <td>1.12250</td>\n",
              "      <td>1.1961</td>\n",
              "      <td>0.46359</td>\n",
              "      <td>...</td>\n",
              "      <td>0.163960</td>\n",
              "      <td>0.375740</td>\n",
              "      <td>0.83604</td>\n",
              "      <td>0.000007</td>\n",
              "      <td>9.7145</td>\n",
              "      <td>6.2813</td>\n",
              "      <td>84.291</td>\n",
              "      <td>4.3303</td>\n",
              "      <td>4.0341</td>\n",
              "      <td>False</td>\n",
              "    </tr>\n",
              "    <tr>\n",
              "      <th>2</th>\n",
              "      <td>0.146240</td>\n",
              "      <td>0.46038</td>\n",
              "      <td>0.28230</td>\n",
              "      <td>1.6294</td>\n",
              "      <td>2.5952</td>\n",
              "      <td>0.00000</td>\n",
              "      <td>0.171850</td>\n",
              "      <td>1.17210</td>\n",
              "      <td>1.6018</td>\n",
              "      <td>0.53962</td>\n",
              "      <td>...</td>\n",
              "      <td>0.027516</td>\n",
              "      <td>0.271000</td>\n",
              "      <td>0.90108</td>\n",
              "      <td>0.000000</td>\n",
              "      <td>5.9882</td>\n",
              "      <td>4.1103</td>\n",
              "      <td>102.190</td>\n",
              "      <td>3.5716</td>\n",
              "      <td>5.9500</td>\n",
              "      <td>False</td>\n",
              "    </tr>\n",
              "    <tr>\n",
              "      <th>3</th>\n",
              "      <td>0.000595</td>\n",
              "      <td>0.22612</td>\n",
              "      <td>0.48839</td>\n",
              "      <td>3.1599</td>\n",
              "      <td>84.8740</td>\n",
              "      <td>0.19114</td>\n",
              "      <td>0.004572</td>\n",
              "      <td>2.98810</td>\n",
              "      <td>1.0077</td>\n",
              "      <td>0.67566</td>\n",
              "      <td>...</td>\n",
              "      <td>0.007639</td>\n",
              "      <td>0.000881</td>\n",
              "      <td>0.99236</td>\n",
              "      <td>0.000000</td>\n",
              "      <td>6.7742</td>\n",
              "      <td>3.7922</td>\n",
              "      <td>64.846</td>\n",
              "      <td>5.6287</td>\n",
              "      <td>4.4581</td>\n",
              "      <td>False</td>\n",
              "    </tr>\n",
              "    <tr>\n",
              "      <th>5</th>\n",
              "      <td>0.188290</td>\n",
              "      <td>0.41504</td>\n",
              "      <td>0.34231</td>\n",
              "      <td>1.9279</td>\n",
              "      <td>-58.2740</td>\n",
              "      <td>0.00000</td>\n",
              "      <td>0.233580</td>\n",
              "      <td>1.40940</td>\n",
              "      <td>1.3393</td>\n",
              "      <td>0.58496</td>\n",
              "      <td>...</td>\n",
              "      <td>0.176480</td>\n",
              "      <td>0.321880</td>\n",
              "      <td>0.82635</td>\n",
              "      <td>0.073039</td>\n",
              "      <td>2.5912</td>\n",
              "      <td>7.0756</td>\n",
              "      <td>100.540</td>\n",
              "      <td>3.6303</td>\n",
              "      <td>4.6375</td>\n",
              "      <td>False</td>\n",
              "    </tr>\n",
              "    <tr>\n",
              "      <th>6</th>\n",
              "      <td>0.182060</td>\n",
              "      <td>0.55615</td>\n",
              "      <td>0.32191</td>\n",
              "      <td>1.6045</td>\n",
              "      <td>16.3140</td>\n",
              "      <td>0.00000</td>\n",
              "      <td>0.182060</td>\n",
              "      <td>0.79808</td>\n",
              "      <td>1.8126</td>\n",
              "      <td>0.44385</td>\n",
              "      <td>...</td>\n",
              "      <td>0.555770</td>\n",
              "      <td>0.410190</td>\n",
              "      <td>0.46957</td>\n",
              "      <td>0.029421</td>\n",
              "      <td>8.4553</td>\n",
              "      <td>3.3488</td>\n",
              "      <td>107.240</td>\n",
              "      <td>3.4036</td>\n",
              "      <td>12.4540</td>\n",
              "      <td>False</td>\n",
              "    </tr>\n",
              "  </tbody>\n",
              "</table>\n",
              "<p>5 rows × 65 columns</p>\n",
              "</div>\n",
              "    <div class=\"colab-df-buttons\">\n",
              "\n",
              "  <div class=\"colab-df-container\">\n",
              "    <button class=\"colab-df-convert\" onclick=\"convertToInteractive('df-3830e431-7a3e-4e76-ac96-3845479ea1e2')\"\n",
              "            title=\"Convert this dataframe to an interactive table.\"\n",
              "            style=\"display:none;\">\n",
              "\n",
              "  <svg xmlns=\"http://www.w3.org/2000/svg\" height=\"24px\" viewBox=\"0 -960 960 960\">\n",
              "    <path d=\"M120-120v-720h720v720H120Zm60-500h600v-160H180v160Zm220 220h160v-160H400v160Zm0 220h160v-160H400v160ZM180-400h160v-160H180v160Zm440 0h160v-160H620v160ZM180-180h160v-160H180v160Zm440 0h160v-160H620v160Z\"/>\n",
              "  </svg>\n",
              "    </button>\n",
              "\n",
              "  <style>\n",
              "    .colab-df-container {\n",
              "      display:flex;\n",
              "      gap: 12px;\n",
              "    }\n",
              "\n",
              "    .colab-df-convert {\n",
              "      background-color: #E8F0FE;\n",
              "      border: none;\n",
              "      border-radius: 50%;\n",
              "      cursor: pointer;\n",
              "      display: none;\n",
              "      fill: #1967D2;\n",
              "      height: 32px;\n",
              "      padding: 0 0 0 0;\n",
              "      width: 32px;\n",
              "    }\n",
              "\n",
              "    .colab-df-convert:hover {\n",
              "      background-color: #E2EBFA;\n",
              "      box-shadow: 0px 1px 2px rgba(60, 64, 67, 0.3), 0px 1px 3px 1px rgba(60, 64, 67, 0.15);\n",
              "      fill: #174EA6;\n",
              "    }\n",
              "\n",
              "    .colab-df-buttons div {\n",
              "      margin-bottom: 4px;\n",
              "    }\n",
              "\n",
              "    [theme=dark] .colab-df-convert {\n",
              "      background-color: #3B4455;\n",
              "      fill: #D2E3FC;\n",
              "    }\n",
              "\n",
              "    [theme=dark] .colab-df-convert:hover {\n",
              "      background-color: #434B5C;\n",
              "      box-shadow: 0px 1px 3px 1px rgba(0, 0, 0, 0.15);\n",
              "      filter: drop-shadow(0px 1px 2px rgba(0, 0, 0, 0.3));\n",
              "      fill: #FFFFFF;\n",
              "    }\n",
              "  </style>\n",
              "\n",
              "    <script>\n",
              "      const buttonEl =\n",
              "        document.querySelector('#df-3830e431-7a3e-4e76-ac96-3845479ea1e2 button.colab-df-convert');\n",
              "      buttonEl.style.display =\n",
              "        google.colab.kernel.accessAllowed ? 'block' : 'none';\n",
              "\n",
              "      async function convertToInteractive(key) {\n",
              "        const element = document.querySelector('#df-3830e431-7a3e-4e76-ac96-3845479ea1e2');\n",
              "        const dataTable =\n",
              "          await google.colab.kernel.invokeFunction('convertToInteractive',\n",
              "                                                    [key], {});\n",
              "        if (!dataTable) return;\n",
              "\n",
              "        const docLinkHtml = 'Like what you see? Visit the ' +\n",
              "          '<a target=\"_blank\" href=https://colab.research.google.com/notebooks/data_table.ipynb>data table notebook</a>'\n",
              "          + ' to learn more about interactive tables.';\n",
              "        element.innerHTML = '';\n",
              "        dataTable['output_type'] = 'display_data';\n",
              "        await google.colab.output.renderOutput(dataTable, element);\n",
              "        const docLink = document.createElement('div');\n",
              "        docLink.innerHTML = docLinkHtml;\n",
              "        element.appendChild(docLink);\n",
              "      }\n",
              "    </script>\n",
              "  </div>\n",
              "\n",
              "\n",
              "<div id=\"df-78aabfb5-ece2-400f-99b9-c0b829b75711\">\n",
              "  <button class=\"colab-df-quickchart\" onclick=\"quickchart('df-78aabfb5-ece2-400f-99b9-c0b829b75711')\"\n",
              "            title=\"Suggest charts\"\n",
              "            style=\"display:none;\">\n",
              "\n",
              "<svg xmlns=\"http://www.w3.org/2000/svg\" height=\"24px\"viewBox=\"0 0 24 24\"\n",
              "     width=\"24px\">\n",
              "    <g>\n",
              "        <path d=\"M19 3H5c-1.1 0-2 .9-2 2v14c0 1.1.9 2 2 2h14c1.1 0 2-.9 2-2V5c0-1.1-.9-2-2-2zM9 17H7v-7h2v7zm4 0h-2V7h2v10zm4 0h-2v-4h2v4z\"/>\n",
              "    </g>\n",
              "</svg>\n",
              "  </button>\n",
              "\n",
              "<style>\n",
              "  .colab-df-quickchart {\n",
              "      --bg-color: #E8F0FE;\n",
              "      --fill-color: #1967D2;\n",
              "      --hover-bg-color: #E2EBFA;\n",
              "      --hover-fill-color: #174EA6;\n",
              "      --disabled-fill-color: #AAA;\n",
              "      --disabled-bg-color: #DDD;\n",
              "  }\n",
              "\n",
              "  [theme=dark] .colab-df-quickchart {\n",
              "      --bg-color: #3B4455;\n",
              "      --fill-color: #D2E3FC;\n",
              "      --hover-bg-color: #434B5C;\n",
              "      --hover-fill-color: #FFFFFF;\n",
              "      --disabled-bg-color: #3B4455;\n",
              "      --disabled-fill-color: #666;\n",
              "  }\n",
              "\n",
              "  .colab-df-quickchart {\n",
              "    background-color: var(--bg-color);\n",
              "    border: none;\n",
              "    border-radius: 50%;\n",
              "    cursor: pointer;\n",
              "    display: none;\n",
              "    fill: var(--fill-color);\n",
              "    height: 32px;\n",
              "    padding: 0;\n",
              "    width: 32px;\n",
              "  }\n",
              "\n",
              "  .colab-df-quickchart:hover {\n",
              "    background-color: var(--hover-bg-color);\n",
              "    box-shadow: 0 1px 2px rgba(60, 64, 67, 0.3), 0 1px 3px 1px rgba(60, 64, 67, 0.15);\n",
              "    fill: var(--button-hover-fill-color);\n",
              "  }\n",
              "\n",
              "  .colab-df-quickchart-complete:disabled,\n",
              "  .colab-df-quickchart-complete:disabled:hover {\n",
              "    background-color: var(--disabled-bg-color);\n",
              "    fill: var(--disabled-fill-color);\n",
              "    box-shadow: none;\n",
              "  }\n",
              "\n",
              "  .colab-df-spinner {\n",
              "    border: 2px solid var(--fill-color);\n",
              "    border-color: transparent;\n",
              "    border-bottom-color: var(--fill-color);\n",
              "    animation:\n",
              "      spin 1s steps(1) infinite;\n",
              "  }\n",
              "\n",
              "  @keyframes spin {\n",
              "    0% {\n",
              "      border-color: transparent;\n",
              "      border-bottom-color: var(--fill-color);\n",
              "      border-left-color: var(--fill-color);\n",
              "    }\n",
              "    20% {\n",
              "      border-color: transparent;\n",
              "      border-left-color: var(--fill-color);\n",
              "      border-top-color: var(--fill-color);\n",
              "    }\n",
              "    30% {\n",
              "      border-color: transparent;\n",
              "      border-left-color: var(--fill-color);\n",
              "      border-top-color: var(--fill-color);\n",
              "      border-right-color: var(--fill-color);\n",
              "    }\n",
              "    40% {\n",
              "      border-color: transparent;\n",
              "      border-right-color: var(--fill-color);\n",
              "      border-top-color: var(--fill-color);\n",
              "    }\n",
              "    60% {\n",
              "      border-color: transparent;\n",
              "      border-right-color: var(--fill-color);\n",
              "    }\n",
              "    80% {\n",
              "      border-color: transparent;\n",
              "      border-right-color: var(--fill-color);\n",
              "      border-bottom-color: var(--fill-color);\n",
              "    }\n",
              "    90% {\n",
              "      border-color: transparent;\n",
              "      border-bottom-color: var(--fill-color);\n",
              "    }\n",
              "  }\n",
              "</style>\n",
              "\n",
              "  <script>\n",
              "    async function quickchart(key) {\n",
              "      const quickchartButtonEl =\n",
              "        document.querySelector('#' + key + ' button');\n",
              "      quickchartButtonEl.disabled = true;  // To prevent multiple clicks.\n",
              "      quickchartButtonEl.classList.add('colab-df-spinner');\n",
              "      try {\n",
              "        const charts = await google.colab.kernel.invokeFunction(\n",
              "            'suggestCharts', [key], {});\n",
              "      } catch (error) {\n",
              "        console.error('Error during call to suggestCharts:', error);\n",
              "      }\n",
              "      quickchartButtonEl.classList.remove('colab-df-spinner');\n",
              "      quickchartButtonEl.classList.add('colab-df-quickchart-complete');\n",
              "    }\n",
              "    (() => {\n",
              "      let quickchartButtonEl =\n",
              "        document.querySelector('#df-78aabfb5-ece2-400f-99b9-c0b829b75711 button');\n",
              "      quickchartButtonEl.style.display =\n",
              "        google.colab.kernel.accessAllowed ? 'block' : 'none';\n",
              "    })();\n",
              "  </script>\n",
              "</div>\n",
              "\n",
              "    </div>\n",
              "  </div>\n"
            ],
            "application/vnd.google.colaboratory.intrinsic+json": {
              "type": "dataframe",
              "variable_name": "df"
            }
          },
          "metadata": {},
          "execution_count": 34
        }
      ],
      "source": [
        "df = pd.DataFrame().from_dict(poland_data_gz[\"data\"]).set_index(\"company_id\")\n",
        "print(df.shape)\n",
        "df.head()"
      ]
    },
    {
      "cell_type": "markdown",
      "id": "14acd9a3-683f-4fe9-859a-76d44260529e",
      "metadata": {
        "deletable": false,
        "editable": false,
        "id": "14acd9a3-683f-4fe9-859a-76d44260529e"
      },
      "source": [
        "## Importação"
      ]
    },
    {
      "cell_type": "markdown",
      "id": "c7b44913-7519-455c-ae90-a079dd36124e",
      "metadata": {
        "deletable": false,
        "editable": false,
        "id": "c7b44913-7519-455c-ae90-a079dd36124e"
      },
      "source": [
        "Agora que temos tudo configurado da maneira que precisamos, vamos combinar todas essas etapas em uma única função que irá descomprimir o arquivo, carregá-lo em um DataFrame e nos retorná-lo como algo que podemos usar."
      ]
    },
    {
      "cell_type": "markdown",
      "id": "1ff20787-5093-4123-af10-2284a7cca708",
      "metadata": {
        "deletable": false,
        "editable": false,
        "id": "1ff20787-5093-4123-af10-2284a7cca708"
      },
      "source": [
        "### Exercício:\n",
        "Crie uma função `wrangle` que aceita o nome de um arquivo comprimido como entrada e retorna um DataFrame organizado. Depois de confirmar que sua função está funcionando conforme o esperado, envie-a para o avaliador."
      ]
    },
    {
      "cell_type": "code",
      "execution_count": 35,
      "id": "79e174b4-8859-4da1-b238-c02e19ed3181",
      "metadata": {
        "deletable": false,
        "tags": [],
        "id": "79e174b4-8859-4da1-b238-c02e19ed3181"
      },
      "outputs": [],
      "source": [
        "def wrangle(filename):\n",
        "    # Descompactar e ler arquivo json\n",
        "    with gzip.open(filename, \"r\") as read_file:\n",
        "      data = json.load(read_file)\n",
        "\n",
        "    # Transformar em dataframe com o set index como \"company_id\"\n",
        "    df = pd.DataFrame().from_dict(data[\"data\"]).set_index(\"company_id\")\n",
        "\n",
        "    return df"
      ]
    },
    {
      "cell_type": "code",
      "execution_count": null,
      "id": "11940bd7-820c-4304-b3b9-3249e1ee6693",
      "metadata": {
        "deletable": false,
        "tags": [],
        "id": "11940bd7-820c-4304-b3b9-3249e1ee6693"
      },
      "outputs": [],
      "source": [
        "df = wrangle('/content/poland-bankruptcy-data-2009.json.gz')\n",
        "print(df.shape)\n",
        "df.head()"
      ]
    },
    {
      "cell_type": "markdown",
      "id": "a38665e1-edaf-45c9-ac69-3862e5ff7831",
      "metadata": {
        "deletable": false,
        "editable": false,
        "id": "a38665e1-edaf-45c9-ac69-3862e5ff7831"
      },
      "source": [
        "# Dados Desbalanceados"
      ]
    },
    {
      "cell_type": "markdown",
      "id": "ef5d6484-df67-482b-a062-394e715c642e",
      "metadata": {
        "deletable": false,
        "editable": false,
        "id": "ef5d6484-df67-482b-a062-394e715c642e"
      },
      "source": [
        "No ultimo capítulo, preparamos os dados.\n",
        "\n",
        "Nesta lição, vamos explorar algumas das características do conjunto de dados, usar visualizações para nos ajudar a entender essas características e desenvolver um modelo que resolva o problema de dados desbalanceados através de subamostragem e superamostragem."
      ]
    },
    {
      "cell_type": "code",
      "execution_count": 37,
      "id": "e89949a0-4a09-4a49-9f79-b51c4b34f1d8",
      "metadata": {
        "deletable": false,
        "editable": false,
        "init_cell": true,
        "tags": [],
        "id": "e89949a0-4a09-4a49-9f79-b51c4b34f1d8"
      },
      "outputs": [],
      "source": [
        "import gzip\n",
        "import json\n",
        "import pickle\n",
        "import pandas as pd\n",
        "\n",
        "import matplotlib.pyplot as plt\n",
        "import seaborn as sns\n",
        "\n",
        "from imblearn.over_sampling import RandomOverSampler\n",
        "from imblearn.under_sampling import RandomUnderSampler\n",
        "\n",
        "from sklearn.metrics import ConfusionMatrixDisplay\n",
        "from sklearn.model_selection import train_test_split\n",
        "from sklearn.pipeline import make_pipeline\n",
        "from sklearn.impute import SimpleImputer\n",
        "from sklearn.tree import DecisionTreeClassifier"
      ]
    },
    {
      "cell_type": "markdown",
      "id": "2209334e-f9a2-4764-83d8-150e25c5017f",
      "metadata": {
        "deletable": false,
        "editable": false,
        "id": "2209334e-f9a2-4764-83d8-150e25c5017f"
      },
      "source": [
        "# Preparando Dados"
      ]
    },
    {
      "cell_type": "markdown",
      "id": "dd41eebd-6443-4b5f-9392-641506cd6589",
      "metadata": {
        "deletable": false,
        "editable": false,
        "id": "dd41eebd-6443-4b5f-9392-641506cd6589"
      },
      "source": [
        "## Importação"
      ]
    },
    {
      "cell_type": "markdown",
      "id": "1a5b0717-0975-441c-9036-963c2c432df8",
      "metadata": {
        "deletable": false,
        "editable": false,
        "id": "1a5b0717-0975-441c-9036-963c2c432df8"
      },
      "source": [
        "Como sempre, precisamos começar trazendo nossos dados para o projeto, e a função que desenvolvemos no módulo anterior é exatamente o que precisamos."
      ]
    },
    {
      "cell_type": "markdown",
      "id": "9261a342-9846-4d0c-b653-9ac0d101fdf8",
      "metadata": {
        "deletable": false,
        "editable": false,
        "id": "9261a342-9846-4d0c-b653-9ac0d101fdf8"
      },
      "source": [
        "### Exercício:\n",
        "Complete a função `wrangle` abaixo usando o código que você desenvolveu na última lição.\n",
        "\n",
        "Em seguida, use-a para importar `poland-bankruptcy-data-2009.json.gz` para o DataFrame `df`."
      ]
    },
    {
      "cell_type": "code",
      "execution_count": 38,
      "id": "8189d8c1-e5ad-4739-9502-3e1982998139",
      "metadata": {
        "deletable": false,
        "id": "8189d8c1-e5ad-4739-9502-3e1982998139"
      },
      "outputs": [],
      "source": [
        "def wrangle(filename):\n",
        "    # Descompactar e ler arquivo json\n",
        "    with gzip.open(filename, \"r\") as read_file:\n",
        "      data = json.load(read_file)\n",
        "\n",
        "    # Transformar em dataframe com o set index como \"company_id\"\n",
        "    df = pd.DataFrame().from_dict(data[\"data\"]).set_index(\"company_id\")\n",
        "\n",
        "    return df"
      ]
    },
    {
      "cell_type": "code",
      "execution_count": 39,
      "id": "25b19635-4c1a-4a3f-85e1-dfe462874c20",
      "metadata": {
        "deletable": false,
        "id": "25b19635-4c1a-4a3f-85e1-dfe462874c20",
        "outputId": "d45722a8-2a93-40ca-986f-f169242d6382",
        "colab": {
          "base_uri": "https://localhost:8080/",
          "height": 304
        }
      },
      "outputs": [
        {
          "output_type": "stream",
          "name": "stdout",
          "text": [
            "(9977, 65)\n"
          ]
        },
        {
          "output_type": "execute_result",
          "data": {
            "text/plain": [
              "              feat_1   feat_2   feat_3  feat_4   feat_5   feat_6    feat_7  \\\n",
              "company_id                                                                   \n",
              "1           0.174190  0.41299  0.14371  1.3480 -28.9820  0.60383  0.219460   \n",
              "2           0.146240  0.46038  0.28230  1.6294   2.5952  0.00000  0.171850   \n",
              "3           0.000595  0.22612  0.48839  3.1599  84.8740  0.19114  0.004572   \n",
              "5           0.188290  0.41504  0.34231  1.9279 -58.2740  0.00000  0.233580   \n",
              "6           0.182060  0.55615  0.32191  1.6045  16.3140  0.00000  0.182060   \n",
              "\n",
              "             feat_8  feat_9  feat_10  ...   feat_56   feat_57  feat_58  \\\n",
              "company_id                            ...                                \n",
              "1           1.12250  1.1961  0.46359  ...  0.163960  0.375740  0.83604   \n",
              "2           1.17210  1.6018  0.53962  ...  0.027516  0.271000  0.90108   \n",
              "3           2.98810  1.0077  0.67566  ...  0.007639  0.000881  0.99236   \n",
              "5           1.40940  1.3393  0.58496  ...  0.176480  0.321880  0.82635   \n",
              "6           0.79808  1.8126  0.44385  ...  0.555770  0.410190  0.46957   \n",
              "\n",
              "             feat_59  feat_60  feat_61  feat_62  feat_63  feat_64  bankrupt  \n",
              "company_id                                                                   \n",
              "1           0.000007   9.7145   6.2813   84.291   4.3303   4.0341     False  \n",
              "2           0.000000   5.9882   4.1103  102.190   3.5716   5.9500     False  \n",
              "3           0.000000   6.7742   3.7922   64.846   5.6287   4.4581     False  \n",
              "5           0.073039   2.5912   7.0756  100.540   3.6303   4.6375     False  \n",
              "6           0.029421   8.4553   3.3488  107.240   3.4036  12.4540     False  \n",
              "\n",
              "[5 rows x 65 columns]"
            ],
            "text/html": [
              "\n",
              "  <div id=\"df-994c4e30-6c6d-4527-8537-ce8ea19d9343\" class=\"colab-df-container\">\n",
              "    <div>\n",
              "<style scoped>\n",
              "    .dataframe tbody tr th:only-of-type {\n",
              "        vertical-align: middle;\n",
              "    }\n",
              "\n",
              "    .dataframe tbody tr th {\n",
              "        vertical-align: top;\n",
              "    }\n",
              "\n",
              "    .dataframe thead th {\n",
              "        text-align: right;\n",
              "    }\n",
              "</style>\n",
              "<table border=\"1\" class=\"dataframe\">\n",
              "  <thead>\n",
              "    <tr style=\"text-align: right;\">\n",
              "      <th></th>\n",
              "      <th>feat_1</th>\n",
              "      <th>feat_2</th>\n",
              "      <th>feat_3</th>\n",
              "      <th>feat_4</th>\n",
              "      <th>feat_5</th>\n",
              "      <th>feat_6</th>\n",
              "      <th>feat_7</th>\n",
              "      <th>feat_8</th>\n",
              "      <th>feat_9</th>\n",
              "      <th>feat_10</th>\n",
              "      <th>...</th>\n",
              "      <th>feat_56</th>\n",
              "      <th>feat_57</th>\n",
              "      <th>feat_58</th>\n",
              "      <th>feat_59</th>\n",
              "      <th>feat_60</th>\n",
              "      <th>feat_61</th>\n",
              "      <th>feat_62</th>\n",
              "      <th>feat_63</th>\n",
              "      <th>feat_64</th>\n",
              "      <th>bankrupt</th>\n",
              "    </tr>\n",
              "    <tr>\n",
              "      <th>company_id</th>\n",
              "      <th></th>\n",
              "      <th></th>\n",
              "      <th></th>\n",
              "      <th></th>\n",
              "      <th></th>\n",
              "      <th></th>\n",
              "      <th></th>\n",
              "      <th></th>\n",
              "      <th></th>\n",
              "      <th></th>\n",
              "      <th></th>\n",
              "      <th></th>\n",
              "      <th></th>\n",
              "      <th></th>\n",
              "      <th></th>\n",
              "      <th></th>\n",
              "      <th></th>\n",
              "      <th></th>\n",
              "      <th></th>\n",
              "      <th></th>\n",
              "      <th></th>\n",
              "    </tr>\n",
              "  </thead>\n",
              "  <tbody>\n",
              "    <tr>\n",
              "      <th>1</th>\n",
              "      <td>0.174190</td>\n",
              "      <td>0.41299</td>\n",
              "      <td>0.14371</td>\n",
              "      <td>1.3480</td>\n",
              "      <td>-28.9820</td>\n",
              "      <td>0.60383</td>\n",
              "      <td>0.219460</td>\n",
              "      <td>1.12250</td>\n",
              "      <td>1.1961</td>\n",
              "      <td>0.46359</td>\n",
              "      <td>...</td>\n",
              "      <td>0.163960</td>\n",
              "      <td>0.375740</td>\n",
              "      <td>0.83604</td>\n",
              "      <td>0.000007</td>\n",
              "      <td>9.7145</td>\n",
              "      <td>6.2813</td>\n",
              "      <td>84.291</td>\n",
              "      <td>4.3303</td>\n",
              "      <td>4.0341</td>\n",
              "      <td>False</td>\n",
              "    </tr>\n",
              "    <tr>\n",
              "      <th>2</th>\n",
              "      <td>0.146240</td>\n",
              "      <td>0.46038</td>\n",
              "      <td>0.28230</td>\n",
              "      <td>1.6294</td>\n",
              "      <td>2.5952</td>\n",
              "      <td>0.00000</td>\n",
              "      <td>0.171850</td>\n",
              "      <td>1.17210</td>\n",
              "      <td>1.6018</td>\n",
              "      <td>0.53962</td>\n",
              "      <td>...</td>\n",
              "      <td>0.027516</td>\n",
              "      <td>0.271000</td>\n",
              "      <td>0.90108</td>\n",
              "      <td>0.000000</td>\n",
              "      <td>5.9882</td>\n",
              "      <td>4.1103</td>\n",
              "      <td>102.190</td>\n",
              "      <td>3.5716</td>\n",
              "      <td>5.9500</td>\n",
              "      <td>False</td>\n",
              "    </tr>\n",
              "    <tr>\n",
              "      <th>3</th>\n",
              "      <td>0.000595</td>\n",
              "      <td>0.22612</td>\n",
              "      <td>0.48839</td>\n",
              "      <td>3.1599</td>\n",
              "      <td>84.8740</td>\n",
              "      <td>0.19114</td>\n",
              "      <td>0.004572</td>\n",
              "      <td>2.98810</td>\n",
              "      <td>1.0077</td>\n",
              "      <td>0.67566</td>\n",
              "      <td>...</td>\n",
              "      <td>0.007639</td>\n",
              "      <td>0.000881</td>\n",
              "      <td>0.99236</td>\n",
              "      <td>0.000000</td>\n",
              "      <td>6.7742</td>\n",
              "      <td>3.7922</td>\n",
              "      <td>64.846</td>\n",
              "      <td>5.6287</td>\n",
              "      <td>4.4581</td>\n",
              "      <td>False</td>\n",
              "    </tr>\n",
              "    <tr>\n",
              "      <th>5</th>\n",
              "      <td>0.188290</td>\n",
              "      <td>0.41504</td>\n",
              "      <td>0.34231</td>\n",
              "      <td>1.9279</td>\n",
              "      <td>-58.2740</td>\n",
              "      <td>0.00000</td>\n",
              "      <td>0.233580</td>\n",
              "      <td>1.40940</td>\n",
              "      <td>1.3393</td>\n",
              "      <td>0.58496</td>\n",
              "      <td>...</td>\n",
              "      <td>0.176480</td>\n",
              "      <td>0.321880</td>\n",
              "      <td>0.82635</td>\n",
              "      <td>0.073039</td>\n",
              "      <td>2.5912</td>\n",
              "      <td>7.0756</td>\n",
              "      <td>100.540</td>\n",
              "      <td>3.6303</td>\n",
              "      <td>4.6375</td>\n",
              "      <td>False</td>\n",
              "    </tr>\n",
              "    <tr>\n",
              "      <th>6</th>\n",
              "      <td>0.182060</td>\n",
              "      <td>0.55615</td>\n",
              "      <td>0.32191</td>\n",
              "      <td>1.6045</td>\n",
              "      <td>16.3140</td>\n",
              "      <td>0.00000</td>\n",
              "      <td>0.182060</td>\n",
              "      <td>0.79808</td>\n",
              "      <td>1.8126</td>\n",
              "      <td>0.44385</td>\n",
              "      <td>...</td>\n",
              "      <td>0.555770</td>\n",
              "      <td>0.410190</td>\n",
              "      <td>0.46957</td>\n",
              "      <td>0.029421</td>\n",
              "      <td>8.4553</td>\n",
              "      <td>3.3488</td>\n",
              "      <td>107.240</td>\n",
              "      <td>3.4036</td>\n",
              "      <td>12.4540</td>\n",
              "      <td>False</td>\n",
              "    </tr>\n",
              "  </tbody>\n",
              "</table>\n",
              "<p>5 rows × 65 columns</p>\n",
              "</div>\n",
              "    <div class=\"colab-df-buttons\">\n",
              "\n",
              "  <div class=\"colab-df-container\">\n",
              "    <button class=\"colab-df-convert\" onclick=\"convertToInteractive('df-994c4e30-6c6d-4527-8537-ce8ea19d9343')\"\n",
              "            title=\"Convert this dataframe to an interactive table.\"\n",
              "            style=\"display:none;\">\n",
              "\n",
              "  <svg xmlns=\"http://www.w3.org/2000/svg\" height=\"24px\" viewBox=\"0 -960 960 960\">\n",
              "    <path d=\"M120-120v-720h720v720H120Zm60-500h600v-160H180v160Zm220 220h160v-160H400v160Zm0 220h160v-160H400v160ZM180-400h160v-160H180v160Zm440 0h160v-160H620v160ZM180-180h160v-160H180v160Zm440 0h160v-160H620v160Z\"/>\n",
              "  </svg>\n",
              "    </button>\n",
              "\n",
              "  <style>\n",
              "    .colab-df-container {\n",
              "      display:flex;\n",
              "      gap: 12px;\n",
              "    }\n",
              "\n",
              "    .colab-df-convert {\n",
              "      background-color: #E8F0FE;\n",
              "      border: none;\n",
              "      border-radius: 50%;\n",
              "      cursor: pointer;\n",
              "      display: none;\n",
              "      fill: #1967D2;\n",
              "      height: 32px;\n",
              "      padding: 0 0 0 0;\n",
              "      width: 32px;\n",
              "    }\n",
              "\n",
              "    .colab-df-convert:hover {\n",
              "      background-color: #E2EBFA;\n",
              "      box-shadow: 0px 1px 2px rgba(60, 64, 67, 0.3), 0px 1px 3px 1px rgba(60, 64, 67, 0.15);\n",
              "      fill: #174EA6;\n",
              "    }\n",
              "\n",
              "    .colab-df-buttons div {\n",
              "      margin-bottom: 4px;\n",
              "    }\n",
              "\n",
              "    [theme=dark] .colab-df-convert {\n",
              "      background-color: #3B4455;\n",
              "      fill: #D2E3FC;\n",
              "    }\n",
              "\n",
              "    [theme=dark] .colab-df-convert:hover {\n",
              "      background-color: #434B5C;\n",
              "      box-shadow: 0px 1px 3px 1px rgba(0, 0, 0, 0.15);\n",
              "      filter: drop-shadow(0px 1px 2px rgba(0, 0, 0, 0.3));\n",
              "      fill: #FFFFFF;\n",
              "    }\n",
              "  </style>\n",
              "\n",
              "    <script>\n",
              "      const buttonEl =\n",
              "        document.querySelector('#df-994c4e30-6c6d-4527-8537-ce8ea19d9343 button.colab-df-convert');\n",
              "      buttonEl.style.display =\n",
              "        google.colab.kernel.accessAllowed ? 'block' : 'none';\n",
              "\n",
              "      async function convertToInteractive(key) {\n",
              "        const element = document.querySelector('#df-994c4e30-6c6d-4527-8537-ce8ea19d9343');\n",
              "        const dataTable =\n",
              "          await google.colab.kernel.invokeFunction('convertToInteractive',\n",
              "                                                    [key], {});\n",
              "        if (!dataTable) return;\n",
              "\n",
              "        const docLinkHtml = 'Like what you see? Visit the ' +\n",
              "          '<a target=\"_blank\" href=https://colab.research.google.com/notebooks/data_table.ipynb>data table notebook</a>'\n",
              "          + ' to learn more about interactive tables.';\n",
              "        element.innerHTML = '';\n",
              "        dataTable['output_type'] = 'display_data';\n",
              "        await google.colab.output.renderOutput(dataTable, element);\n",
              "        const docLink = document.createElement('div');\n",
              "        docLink.innerHTML = docLinkHtml;\n",
              "        element.appendChild(docLink);\n",
              "      }\n",
              "    </script>\n",
              "  </div>\n",
              "\n",
              "\n",
              "<div id=\"df-a04db245-28c7-4ec8-9093-186b77d6673b\">\n",
              "  <button class=\"colab-df-quickchart\" onclick=\"quickchart('df-a04db245-28c7-4ec8-9093-186b77d6673b')\"\n",
              "            title=\"Suggest charts\"\n",
              "            style=\"display:none;\">\n",
              "\n",
              "<svg xmlns=\"http://www.w3.org/2000/svg\" height=\"24px\"viewBox=\"0 0 24 24\"\n",
              "     width=\"24px\">\n",
              "    <g>\n",
              "        <path d=\"M19 3H5c-1.1 0-2 .9-2 2v14c0 1.1.9 2 2 2h14c1.1 0 2-.9 2-2V5c0-1.1-.9-2-2-2zM9 17H7v-7h2v7zm4 0h-2V7h2v10zm4 0h-2v-4h2v4z\"/>\n",
              "    </g>\n",
              "</svg>\n",
              "  </button>\n",
              "\n",
              "<style>\n",
              "  .colab-df-quickchart {\n",
              "      --bg-color: #E8F0FE;\n",
              "      --fill-color: #1967D2;\n",
              "      --hover-bg-color: #E2EBFA;\n",
              "      --hover-fill-color: #174EA6;\n",
              "      --disabled-fill-color: #AAA;\n",
              "      --disabled-bg-color: #DDD;\n",
              "  }\n",
              "\n",
              "  [theme=dark] .colab-df-quickchart {\n",
              "      --bg-color: #3B4455;\n",
              "      --fill-color: #D2E3FC;\n",
              "      --hover-bg-color: #434B5C;\n",
              "      --hover-fill-color: #FFFFFF;\n",
              "      --disabled-bg-color: #3B4455;\n",
              "      --disabled-fill-color: #666;\n",
              "  }\n",
              "\n",
              "  .colab-df-quickchart {\n",
              "    background-color: var(--bg-color);\n",
              "    border: none;\n",
              "    border-radius: 50%;\n",
              "    cursor: pointer;\n",
              "    display: none;\n",
              "    fill: var(--fill-color);\n",
              "    height: 32px;\n",
              "    padding: 0;\n",
              "    width: 32px;\n",
              "  }\n",
              "\n",
              "  .colab-df-quickchart:hover {\n",
              "    background-color: var(--hover-bg-color);\n",
              "    box-shadow: 0 1px 2px rgba(60, 64, 67, 0.3), 0 1px 3px 1px rgba(60, 64, 67, 0.15);\n",
              "    fill: var(--button-hover-fill-color);\n",
              "  }\n",
              "\n",
              "  .colab-df-quickchart-complete:disabled,\n",
              "  .colab-df-quickchart-complete:disabled:hover {\n",
              "    background-color: var(--disabled-bg-color);\n",
              "    fill: var(--disabled-fill-color);\n",
              "    box-shadow: none;\n",
              "  }\n",
              "\n",
              "  .colab-df-spinner {\n",
              "    border: 2px solid var(--fill-color);\n",
              "    border-color: transparent;\n",
              "    border-bottom-color: var(--fill-color);\n",
              "    animation:\n",
              "      spin 1s steps(1) infinite;\n",
              "  }\n",
              "\n",
              "  @keyframes spin {\n",
              "    0% {\n",
              "      border-color: transparent;\n",
              "      border-bottom-color: var(--fill-color);\n",
              "      border-left-color: var(--fill-color);\n",
              "    }\n",
              "    20% {\n",
              "      border-color: transparent;\n",
              "      border-left-color: var(--fill-color);\n",
              "      border-top-color: var(--fill-color);\n",
              "    }\n",
              "    30% {\n",
              "      border-color: transparent;\n",
              "      border-left-color: var(--fill-color);\n",
              "      border-top-color: var(--fill-color);\n",
              "      border-right-color: var(--fill-color);\n",
              "    }\n",
              "    40% {\n",
              "      border-color: transparent;\n",
              "      border-right-color: var(--fill-color);\n",
              "      border-top-color: var(--fill-color);\n",
              "    }\n",
              "    60% {\n",
              "      border-color: transparent;\n",
              "      border-right-color: var(--fill-color);\n",
              "    }\n",
              "    80% {\n",
              "      border-color: transparent;\n",
              "      border-right-color: var(--fill-color);\n",
              "      border-bottom-color: var(--fill-color);\n",
              "    }\n",
              "    90% {\n",
              "      border-color: transparent;\n",
              "      border-bottom-color: var(--fill-color);\n",
              "    }\n",
              "  }\n",
              "</style>\n",
              "\n",
              "  <script>\n",
              "    async function quickchart(key) {\n",
              "      const quickchartButtonEl =\n",
              "        document.querySelector('#' + key + ' button');\n",
              "      quickchartButtonEl.disabled = true;  // To prevent multiple clicks.\n",
              "      quickchartButtonEl.classList.add('colab-df-spinner');\n",
              "      try {\n",
              "        const charts = await google.colab.kernel.invokeFunction(\n",
              "            'suggestCharts', [key], {});\n",
              "      } catch (error) {\n",
              "        console.error('Error during call to suggestCharts:', error);\n",
              "      }\n",
              "      quickchartButtonEl.classList.remove('colab-df-spinner');\n",
              "      quickchartButtonEl.classList.add('colab-df-quickchart-complete');\n",
              "    }\n",
              "    (() => {\n",
              "      let quickchartButtonEl =\n",
              "        document.querySelector('#df-a04db245-28c7-4ec8-9093-186b77d6673b button');\n",
              "      quickchartButtonEl.style.display =\n",
              "        google.colab.kernel.accessAllowed ? 'block' : 'none';\n",
              "    })();\n",
              "  </script>\n",
              "</div>\n",
              "\n",
              "    </div>\n",
              "  </div>\n"
            ],
            "application/vnd.google.colaboratory.intrinsic+json": {
              "type": "dataframe",
              "variable_name": "df"
            }
          },
          "metadata": {},
          "execution_count": 39
        }
      ],
      "source": [
        "df = wrangle('/content/poland-bankruptcy-data-2009.json.gz')\n",
        "print(df.shape)\n",
        "df.head()"
      ]
    },
    {
      "cell_type": "markdown",
      "id": "e89f608b-1e91-42d5-b1ce-8008eaa51ef8",
      "metadata": {
        "deletable": false,
        "editable": false,
        "id": "e89f608b-1e91-42d5-b1ce-8008eaa51ef8"
      },
      "source": [
        "## Explorar"
      ]
    },
    {
      "cell_type": "markdown",
      "id": "bff799dd-2b03-4122-972a-c93ccec20f8a",
      "metadata": {
        "deletable": false,
        "editable": false,
        "id": "bff799dd-2b03-4122-972a-c93ccec20f8a"
      },
      "source": [
        "Vamos fazer uma pausa para relembrar o que há neste conjunto de dados.\n",
        "\n",
        "Na última lição, notamos que os dados estavam armazenados em um arquivo JSON (semelhante a um dicionário Python) e exploramos os pares de chave-valor. Desta vez, vamos analisar quais são realmente os valores nesses pares."
      ]
    },
    {
      "cell_type": "markdown",
      "id": "d821578e-5c6b-4c5d-8beb-d1904a9f2243",
      "metadata": {
        "deletable": false,
        "editable": false,
        "id": "d821578e-5c6b-4c5d-8beb-d1904a9f2243"
      },
      "source": [
        "### Exercício:\n",
        "Use o método `info` para explorar `df`. Que tipo de características este conjunto de dados possui? Qual coluna é o alvo? Existem colunas com valores ausentes que precisaremos abordar?\n"
      ]
    },
    {
      "cell_type": "code",
      "execution_count": 41,
      "id": "03e4b625-da67-4322-8598-4ea4e5de2896",
      "metadata": {
        "deletable": false,
        "id": "03e4b625-da67-4322-8598-4ea4e5de2896",
        "outputId": "6722fecb-9741-4635-9895-7c12d182b0cc",
        "colab": {
          "base_uri": "https://localhost:8080/",
          "height": 287
        }
      },
      "outputs": [
        {
          "output_type": "execute_result",
          "data": {
            "text/plain": [
              "              feat_1   feat_2   feat_3  feat_4   feat_5   feat_6    feat_7  \\\n",
              "company_id                                                                   \n",
              "1           0.174190  0.41299  0.14371  1.3480 -28.9820  0.60383  0.219460   \n",
              "2           0.146240  0.46038  0.28230  1.6294   2.5952  0.00000  0.171850   \n",
              "3           0.000595  0.22612  0.48839  3.1599  84.8740  0.19114  0.004572   \n",
              "5           0.188290  0.41504  0.34231  1.9279 -58.2740  0.00000  0.233580   \n",
              "6           0.182060  0.55615  0.32191  1.6045  16.3140  0.00000  0.182060   \n",
              "\n",
              "             feat_8  feat_9  feat_10  ...   feat_56   feat_57  feat_58  \\\n",
              "company_id                            ...                                \n",
              "1           1.12250  1.1961  0.46359  ...  0.163960  0.375740  0.83604   \n",
              "2           1.17210  1.6018  0.53962  ...  0.027516  0.271000  0.90108   \n",
              "3           2.98810  1.0077  0.67566  ...  0.007639  0.000881  0.99236   \n",
              "5           1.40940  1.3393  0.58496  ...  0.176480  0.321880  0.82635   \n",
              "6           0.79808  1.8126  0.44385  ...  0.555770  0.410190  0.46957   \n",
              "\n",
              "             feat_59  feat_60  feat_61  feat_62  feat_63  feat_64  bankrupt  \n",
              "company_id                                                                   \n",
              "1           0.000007   9.7145   6.2813   84.291   4.3303   4.0341     False  \n",
              "2           0.000000   5.9882   4.1103  102.190   3.5716   5.9500     False  \n",
              "3           0.000000   6.7742   3.7922   64.846   5.6287   4.4581     False  \n",
              "5           0.073039   2.5912   7.0756  100.540   3.6303   4.6375     False  \n",
              "6           0.029421   8.4553   3.3488  107.240   3.4036  12.4540     False  \n",
              "\n",
              "[5 rows x 65 columns]"
            ],
            "text/html": [
              "\n",
              "  <div id=\"df-a27d6d5a-f403-449e-8013-a8c232babddd\" class=\"colab-df-container\">\n",
              "    <div>\n",
              "<style scoped>\n",
              "    .dataframe tbody tr th:only-of-type {\n",
              "        vertical-align: middle;\n",
              "    }\n",
              "\n",
              "    .dataframe tbody tr th {\n",
              "        vertical-align: top;\n",
              "    }\n",
              "\n",
              "    .dataframe thead th {\n",
              "        text-align: right;\n",
              "    }\n",
              "</style>\n",
              "<table border=\"1\" class=\"dataframe\">\n",
              "  <thead>\n",
              "    <tr style=\"text-align: right;\">\n",
              "      <th></th>\n",
              "      <th>feat_1</th>\n",
              "      <th>feat_2</th>\n",
              "      <th>feat_3</th>\n",
              "      <th>feat_4</th>\n",
              "      <th>feat_5</th>\n",
              "      <th>feat_6</th>\n",
              "      <th>feat_7</th>\n",
              "      <th>feat_8</th>\n",
              "      <th>feat_9</th>\n",
              "      <th>feat_10</th>\n",
              "      <th>...</th>\n",
              "      <th>feat_56</th>\n",
              "      <th>feat_57</th>\n",
              "      <th>feat_58</th>\n",
              "      <th>feat_59</th>\n",
              "      <th>feat_60</th>\n",
              "      <th>feat_61</th>\n",
              "      <th>feat_62</th>\n",
              "      <th>feat_63</th>\n",
              "      <th>feat_64</th>\n",
              "      <th>bankrupt</th>\n",
              "    </tr>\n",
              "    <tr>\n",
              "      <th>company_id</th>\n",
              "      <th></th>\n",
              "      <th></th>\n",
              "      <th></th>\n",
              "      <th></th>\n",
              "      <th></th>\n",
              "      <th></th>\n",
              "      <th></th>\n",
              "      <th></th>\n",
              "      <th></th>\n",
              "      <th></th>\n",
              "      <th></th>\n",
              "      <th></th>\n",
              "      <th></th>\n",
              "      <th></th>\n",
              "      <th></th>\n",
              "      <th></th>\n",
              "      <th></th>\n",
              "      <th></th>\n",
              "      <th></th>\n",
              "      <th></th>\n",
              "      <th></th>\n",
              "    </tr>\n",
              "  </thead>\n",
              "  <tbody>\n",
              "    <tr>\n",
              "      <th>1</th>\n",
              "      <td>0.174190</td>\n",
              "      <td>0.41299</td>\n",
              "      <td>0.14371</td>\n",
              "      <td>1.3480</td>\n",
              "      <td>-28.9820</td>\n",
              "      <td>0.60383</td>\n",
              "      <td>0.219460</td>\n",
              "      <td>1.12250</td>\n",
              "      <td>1.1961</td>\n",
              "      <td>0.46359</td>\n",
              "      <td>...</td>\n",
              "      <td>0.163960</td>\n",
              "      <td>0.375740</td>\n",
              "      <td>0.83604</td>\n",
              "      <td>0.000007</td>\n",
              "      <td>9.7145</td>\n",
              "      <td>6.2813</td>\n",
              "      <td>84.291</td>\n",
              "      <td>4.3303</td>\n",
              "      <td>4.0341</td>\n",
              "      <td>False</td>\n",
              "    </tr>\n",
              "    <tr>\n",
              "      <th>2</th>\n",
              "      <td>0.146240</td>\n",
              "      <td>0.46038</td>\n",
              "      <td>0.28230</td>\n",
              "      <td>1.6294</td>\n",
              "      <td>2.5952</td>\n",
              "      <td>0.00000</td>\n",
              "      <td>0.171850</td>\n",
              "      <td>1.17210</td>\n",
              "      <td>1.6018</td>\n",
              "      <td>0.53962</td>\n",
              "      <td>...</td>\n",
              "      <td>0.027516</td>\n",
              "      <td>0.271000</td>\n",
              "      <td>0.90108</td>\n",
              "      <td>0.000000</td>\n",
              "      <td>5.9882</td>\n",
              "      <td>4.1103</td>\n",
              "      <td>102.190</td>\n",
              "      <td>3.5716</td>\n",
              "      <td>5.9500</td>\n",
              "      <td>False</td>\n",
              "    </tr>\n",
              "    <tr>\n",
              "      <th>3</th>\n",
              "      <td>0.000595</td>\n",
              "      <td>0.22612</td>\n",
              "      <td>0.48839</td>\n",
              "      <td>3.1599</td>\n",
              "      <td>84.8740</td>\n",
              "      <td>0.19114</td>\n",
              "      <td>0.004572</td>\n",
              "      <td>2.98810</td>\n",
              "      <td>1.0077</td>\n",
              "      <td>0.67566</td>\n",
              "      <td>...</td>\n",
              "      <td>0.007639</td>\n",
              "      <td>0.000881</td>\n",
              "      <td>0.99236</td>\n",
              "      <td>0.000000</td>\n",
              "      <td>6.7742</td>\n",
              "      <td>3.7922</td>\n",
              "      <td>64.846</td>\n",
              "      <td>5.6287</td>\n",
              "      <td>4.4581</td>\n",
              "      <td>False</td>\n",
              "    </tr>\n",
              "    <tr>\n",
              "      <th>5</th>\n",
              "      <td>0.188290</td>\n",
              "      <td>0.41504</td>\n",
              "      <td>0.34231</td>\n",
              "      <td>1.9279</td>\n",
              "      <td>-58.2740</td>\n",
              "      <td>0.00000</td>\n",
              "      <td>0.233580</td>\n",
              "      <td>1.40940</td>\n",
              "      <td>1.3393</td>\n",
              "      <td>0.58496</td>\n",
              "      <td>...</td>\n",
              "      <td>0.176480</td>\n",
              "      <td>0.321880</td>\n",
              "      <td>0.82635</td>\n",
              "      <td>0.073039</td>\n",
              "      <td>2.5912</td>\n",
              "      <td>7.0756</td>\n",
              "      <td>100.540</td>\n",
              "      <td>3.6303</td>\n",
              "      <td>4.6375</td>\n",
              "      <td>False</td>\n",
              "    </tr>\n",
              "    <tr>\n",
              "      <th>6</th>\n",
              "      <td>0.182060</td>\n",
              "      <td>0.55615</td>\n",
              "      <td>0.32191</td>\n",
              "      <td>1.6045</td>\n",
              "      <td>16.3140</td>\n",
              "      <td>0.00000</td>\n",
              "      <td>0.182060</td>\n",
              "      <td>0.79808</td>\n",
              "      <td>1.8126</td>\n",
              "      <td>0.44385</td>\n",
              "      <td>...</td>\n",
              "      <td>0.555770</td>\n",
              "      <td>0.410190</td>\n",
              "      <td>0.46957</td>\n",
              "      <td>0.029421</td>\n",
              "      <td>8.4553</td>\n",
              "      <td>3.3488</td>\n",
              "      <td>107.240</td>\n",
              "      <td>3.4036</td>\n",
              "      <td>12.4540</td>\n",
              "      <td>False</td>\n",
              "    </tr>\n",
              "  </tbody>\n",
              "</table>\n",
              "<p>5 rows × 65 columns</p>\n",
              "</div>\n",
              "    <div class=\"colab-df-buttons\">\n",
              "\n",
              "  <div class=\"colab-df-container\">\n",
              "    <button class=\"colab-df-convert\" onclick=\"convertToInteractive('df-a27d6d5a-f403-449e-8013-a8c232babddd')\"\n",
              "            title=\"Convert this dataframe to an interactive table.\"\n",
              "            style=\"display:none;\">\n",
              "\n",
              "  <svg xmlns=\"http://www.w3.org/2000/svg\" height=\"24px\" viewBox=\"0 -960 960 960\">\n",
              "    <path d=\"M120-120v-720h720v720H120Zm60-500h600v-160H180v160Zm220 220h160v-160H400v160Zm0 220h160v-160H400v160ZM180-400h160v-160H180v160Zm440 0h160v-160H620v160ZM180-180h160v-160H180v160Zm440 0h160v-160H620v160Z\"/>\n",
              "  </svg>\n",
              "    </button>\n",
              "\n",
              "  <style>\n",
              "    .colab-df-container {\n",
              "      display:flex;\n",
              "      gap: 12px;\n",
              "    }\n",
              "\n",
              "    .colab-df-convert {\n",
              "      background-color: #E8F0FE;\n",
              "      border: none;\n",
              "      border-radius: 50%;\n",
              "      cursor: pointer;\n",
              "      display: none;\n",
              "      fill: #1967D2;\n",
              "      height: 32px;\n",
              "      padding: 0 0 0 0;\n",
              "      width: 32px;\n",
              "    }\n",
              "\n",
              "    .colab-df-convert:hover {\n",
              "      background-color: #E2EBFA;\n",
              "      box-shadow: 0px 1px 2px rgba(60, 64, 67, 0.3), 0px 1px 3px 1px rgba(60, 64, 67, 0.15);\n",
              "      fill: #174EA6;\n",
              "    }\n",
              "\n",
              "    .colab-df-buttons div {\n",
              "      margin-bottom: 4px;\n",
              "    }\n",
              "\n",
              "    [theme=dark] .colab-df-convert {\n",
              "      background-color: #3B4455;\n",
              "      fill: #D2E3FC;\n",
              "    }\n",
              "\n",
              "    [theme=dark] .colab-df-convert:hover {\n",
              "      background-color: #434B5C;\n",
              "      box-shadow: 0px 1px 3px 1px rgba(0, 0, 0, 0.15);\n",
              "      filter: drop-shadow(0px 1px 2px rgba(0, 0, 0, 0.3));\n",
              "      fill: #FFFFFF;\n",
              "    }\n",
              "  </style>\n",
              "\n",
              "    <script>\n",
              "      const buttonEl =\n",
              "        document.querySelector('#df-a27d6d5a-f403-449e-8013-a8c232babddd button.colab-df-convert');\n",
              "      buttonEl.style.display =\n",
              "        google.colab.kernel.accessAllowed ? 'block' : 'none';\n",
              "\n",
              "      async function convertToInteractive(key) {\n",
              "        const element = document.querySelector('#df-a27d6d5a-f403-449e-8013-a8c232babddd');\n",
              "        const dataTable =\n",
              "          await google.colab.kernel.invokeFunction('convertToInteractive',\n",
              "                                                    [key], {});\n",
              "        if (!dataTable) return;\n",
              "\n",
              "        const docLinkHtml = 'Like what you see? Visit the ' +\n",
              "          '<a target=\"_blank\" href=https://colab.research.google.com/notebooks/data_table.ipynb>data table notebook</a>'\n",
              "          + ' to learn more about interactive tables.';\n",
              "        element.innerHTML = '';\n",
              "        dataTable['output_type'] = 'display_data';\n",
              "        await google.colab.output.renderOutput(dataTable, element);\n",
              "        const docLink = document.createElement('div');\n",
              "        docLink.innerHTML = docLinkHtml;\n",
              "        element.appendChild(docLink);\n",
              "      }\n",
              "    </script>\n",
              "  </div>\n",
              "\n",
              "\n",
              "<div id=\"df-dbafa50f-d45c-4adb-8699-ba8d9c39e7e4\">\n",
              "  <button class=\"colab-df-quickchart\" onclick=\"quickchart('df-dbafa50f-d45c-4adb-8699-ba8d9c39e7e4')\"\n",
              "            title=\"Suggest charts\"\n",
              "            style=\"display:none;\">\n",
              "\n",
              "<svg xmlns=\"http://www.w3.org/2000/svg\" height=\"24px\"viewBox=\"0 0 24 24\"\n",
              "     width=\"24px\">\n",
              "    <g>\n",
              "        <path d=\"M19 3H5c-1.1 0-2 .9-2 2v14c0 1.1.9 2 2 2h14c1.1 0 2-.9 2-2V5c0-1.1-.9-2-2-2zM9 17H7v-7h2v7zm4 0h-2V7h2v10zm4 0h-2v-4h2v4z\"/>\n",
              "    </g>\n",
              "</svg>\n",
              "  </button>\n",
              "\n",
              "<style>\n",
              "  .colab-df-quickchart {\n",
              "      --bg-color: #E8F0FE;\n",
              "      --fill-color: #1967D2;\n",
              "      --hover-bg-color: #E2EBFA;\n",
              "      --hover-fill-color: #174EA6;\n",
              "      --disabled-fill-color: #AAA;\n",
              "      --disabled-bg-color: #DDD;\n",
              "  }\n",
              "\n",
              "  [theme=dark] .colab-df-quickchart {\n",
              "      --bg-color: #3B4455;\n",
              "      --fill-color: #D2E3FC;\n",
              "      --hover-bg-color: #434B5C;\n",
              "      --hover-fill-color: #FFFFFF;\n",
              "      --disabled-bg-color: #3B4455;\n",
              "      --disabled-fill-color: #666;\n",
              "  }\n",
              "\n",
              "  .colab-df-quickchart {\n",
              "    background-color: var(--bg-color);\n",
              "    border: none;\n",
              "    border-radius: 50%;\n",
              "    cursor: pointer;\n",
              "    display: none;\n",
              "    fill: var(--fill-color);\n",
              "    height: 32px;\n",
              "    padding: 0;\n",
              "    width: 32px;\n",
              "  }\n",
              "\n",
              "  .colab-df-quickchart:hover {\n",
              "    background-color: var(--hover-bg-color);\n",
              "    box-shadow: 0 1px 2px rgba(60, 64, 67, 0.3), 0 1px 3px 1px rgba(60, 64, 67, 0.15);\n",
              "    fill: var(--button-hover-fill-color);\n",
              "  }\n",
              "\n",
              "  .colab-df-quickchart-complete:disabled,\n",
              "  .colab-df-quickchart-complete:disabled:hover {\n",
              "    background-color: var(--disabled-bg-color);\n",
              "    fill: var(--disabled-fill-color);\n",
              "    box-shadow: none;\n",
              "  }\n",
              "\n",
              "  .colab-df-spinner {\n",
              "    border: 2px solid var(--fill-color);\n",
              "    border-color: transparent;\n",
              "    border-bottom-color: var(--fill-color);\n",
              "    animation:\n",
              "      spin 1s steps(1) infinite;\n",
              "  }\n",
              "\n",
              "  @keyframes spin {\n",
              "    0% {\n",
              "      border-color: transparent;\n",
              "      border-bottom-color: var(--fill-color);\n",
              "      border-left-color: var(--fill-color);\n",
              "    }\n",
              "    20% {\n",
              "      border-color: transparent;\n",
              "      border-left-color: var(--fill-color);\n",
              "      border-top-color: var(--fill-color);\n",
              "    }\n",
              "    30% {\n",
              "      border-color: transparent;\n",
              "      border-left-color: var(--fill-color);\n",
              "      border-top-color: var(--fill-color);\n",
              "      border-right-color: var(--fill-color);\n",
              "    }\n",
              "    40% {\n",
              "      border-color: transparent;\n",
              "      border-right-color: var(--fill-color);\n",
              "      border-top-color: var(--fill-color);\n",
              "    }\n",
              "    60% {\n",
              "      border-color: transparent;\n",
              "      border-right-color: var(--fill-color);\n",
              "    }\n",
              "    80% {\n",
              "      border-color: transparent;\n",
              "      border-right-color: var(--fill-color);\n",
              "      border-bottom-color: var(--fill-color);\n",
              "    }\n",
              "    90% {\n",
              "      border-color: transparent;\n",
              "      border-bottom-color: var(--fill-color);\n",
              "    }\n",
              "  }\n",
              "</style>\n",
              "\n",
              "  <script>\n",
              "    async function quickchart(key) {\n",
              "      const quickchartButtonEl =\n",
              "        document.querySelector('#' + key + ' button');\n",
              "      quickchartButtonEl.disabled = true;  // To prevent multiple clicks.\n",
              "      quickchartButtonEl.classList.add('colab-df-spinner');\n",
              "      try {\n",
              "        const charts = await google.colab.kernel.invokeFunction(\n",
              "            'suggestCharts', [key], {});\n",
              "      } catch (error) {\n",
              "        console.error('Error during call to suggestCharts:', error);\n",
              "      }\n",
              "      quickchartButtonEl.classList.remove('colab-df-spinner');\n",
              "      quickchartButtonEl.classList.add('colab-df-quickchart-complete');\n",
              "    }\n",
              "    (() => {\n",
              "      let quickchartButtonEl =\n",
              "        document.querySelector('#df-dbafa50f-d45c-4adb-8699-ba8d9c39e7e4 button');\n",
              "      quickchartButtonEl.style.display =\n",
              "        google.colab.kernel.accessAllowed ? 'block' : 'none';\n",
              "    })();\n",
              "  </script>\n",
              "</div>\n",
              "\n",
              "    </div>\n",
              "  </div>\n"
            ],
            "application/vnd.google.colaboratory.intrinsic+json": {
              "type": "dataframe",
              "variable_name": "df"
            }
          },
          "metadata": {},
          "execution_count": 41
        }
      ],
      "source": [
        "# Inspect DataFrame\n",
        "df.head()"
      ]
    },
    {
      "cell_type": "markdown",
      "id": "0743bccb-2695-478f-b983-3f1345013ea3",
      "metadata": {
        "deletable": false,
        "editable": false,
        "id": "0743bccb-2695-478f-b983-3f1345013ea3"
      },
      "source": [
        "Essa é uma informação sólida. Sabemos que todas as nossas características são numéricas e que temos dados ausentes. Mas, como sempre, é uma boa ideia fazer algumas visualizações para ver se há tendências ou ideias interessantes que devemos considerar enquanto trabalhamos. Primeiro, vamos dar uma olhada em quantas empresas estão em falência e quantas não estão."
      ]
    },
    {
      "cell_type": "markdown",
      "id": "91a64015-cca6-40e7-b236-1c38ff0354e9",
      "metadata": {
        "deletable": false,
        "editable": false,
        "id": "91a64015-cca6-40e7-b236-1c38ff0354e9"
      },
      "source": [
        "### Exercício:\n",
        "Crie um gráfico de barras dos valores contados para a coluna \"bankrupt\". Você quer calcular as frequências relativas das classes, não a contagem bruta, então certifique-se de definir o argumento normalize como True."
      ]
    },
    {
      "cell_type": "code",
      "execution_count": 44,
      "id": "49357719-acf1-4180-8fde-8ad1b79d281b",
      "metadata": {
        "deletable": false,
        "id": "49357719-acf1-4180-8fde-8ad1b79d281b",
        "outputId": "f4c47226-1bab-4545-9a85-987c1e99038a",
        "colab": {
          "base_uri": "https://localhost:8080/",
          "height": 493
        }
      },
      "outputs": [
        {
          "output_type": "display_data",
          "data": {
            "text/plain": [
              "<Figure size 640x480 with 1 Axes>"
            ],
            "image/png": "[encoded data removed]"
          },
          "metadata": {}
        }
      ],
      "source": [
        "# Plot class balance\n",
        "df[\"bankrupt\"].value_counts(normalize=True).plot(\n",
        "    kind='bar',\n",
        "    xlabel=\"bankrupt\",\n",
        "    ylabel=\"Frequency\",\n",
        "    title=\"Class Balance\"\n",
        "    );"
      ]
    },
    {
      "cell_type": "markdown",
      "id": "6b4b37f1-4a10-479c-80df-d7d073d8c005",
      "metadata": {
        "deletable": false,
        "editable": false,
        "id": "6b4b37f1-4a10-479c-80df-d7d073d8c005"
      },
      "source": [
        "Isso é uma boa notícia para a economia da Polônia! Como parece que a maioria das empresas em nosso conjunto de dados está se saindo bem, vamos aprofundar um pouco mais. No entanto, isso também nos mostra que temos um conjunto de dados desbalanceado, onde nossa classe majoritária é muito maior do que nossa classe minoritária.\n",
        "\n",
        "Na última lição, vimos que havia 64 características de cada empresa, cada uma das quais tinha algum tipo de valor numérico. Pode ser útil entender onde os valores de uma dessas características estão agrupados, então vamos fazer um boxplot para ver como os valores em \"feat_27\" estão distribuídos."
      ]
    },
    {
      "cell_type": "markdown",
      "id": "42cbe8e8-265e-47ef-83e9-2956f6c746ff",
      "metadata": {
        "deletable": false,
        "editable": false,
        "id": "42cbe8e8-265e-47ef-83e9-2956f6c746ff"
      },
      "source": [
        "### Exercício:\n",
        "Use o Seaborn para criar um boxplot que mostre as distribuições da coluna `\"feat_27\"` para ambos os grupos na coluna `\"bankrupt\"`. Lembre-se de rotular seus eixos."
      ]
    },
    {
      "cell_type": "code",
      "execution_count": 45,
      "id": "196afdf0-15bb-48ce-8b14-dc4a660d8253",
      "metadata": {
        "deletable": false,
        "id": "196afdf0-15bb-48ce-8b14-dc4a660d8253",
        "outputId": "4759ae3a-415e-42d0-c96e-440310b0d05f",
        "colab": {
          "base_uri": "https://localhost:8080/",
          "height": 527
        }
      },
      "outputs": [
        {
          "output_type": "stream",
          "name": "stderr",
          "text": [
            "/usr/local/lib/python3.10/dist-packages/seaborn/categorical.py:640: FutureWarning: SeriesGroupBy.grouper is deprecated and will be removed in a future version of pandas.\n",
            "  positions = grouped.grouper.result_index.to_numpy(dtype=float)\n"
          ]
        },
        {
          "output_type": "display_data",
          "data": {
            "text/plain": [
              "<Figure size 640x480 with 1 Axes>"
            ],
            "image/png": "[encoded data removed]"
          },
          "metadata": {}
        }
      ],
      "source": [
        "# Create boxplot\n",
        "sns.boxplot(data=df,x=\"bankrupt\",y=\"feat_27\")\n",
        "plt.xlabel(\"Bankrupt\")\n",
        "plt.ylabel(\"POA / financial expenses\")\n",
        "plt.title(\"Distribution of Profit/Expenses Ratio, by Class\");"
      ]
    },
    {
      "cell_type": "markdown",
      "id": "028779e4-1e06-440f-b12e-c1c13fcfc4eb",
      "metadata": {
        "deletable": false,
        "editable": false,
        "id": "028779e4-1e06-440f-b12e-c1c13fcfc4eb"
      },
      "source": [
        "Por que isso parece tão estranho? Lembre-se de que os boxplots existem para nos ajudar a ver os quartis em um conjunto de dados, e este não faz isso de fato. Vamos verificar a distribuição de `\"feat_27\"` para ver se conseguimos entender o que está acontecendo aqui."
      ]
    },
    {
      "cell_type": "markdown",
      "id": "7636d728-345d-44af-986b-521d509bed52",
      "metadata": {
        "deletable": false,
        "editable": false,
        "id": "7636d728-345d-44af-986b-521d509bed52"
      },
      "source": [
        "### Exercício:\n",
        "Use o método `describe` na coluna `\"feat_27\"`. O que você pode dizer sobre a distribuição dos dados com base na média e na mediana?"
      ]
    },
    {
      "cell_type": "code",
      "execution_count": 47,
      "id": "dd909c80-6bb1-4da3-9945-75e3c8e9a68b",
      "metadata": {
        "deletable": false,
        "id": "dd909c80-6bb1-4da3-9945-75e3c8e9a68b",
        "outputId": "ef374eb0-f222-44f7-a593-83558191515e",
        "colab": {
          "base_uri": "https://localhost:8080/",
          "height": 335
        }
      },
      "outputs": [
        {
          "output_type": "execute_result",
          "data": {
            "text/plain": [
              "count        9,312\n",
              "mean         1,206\n",
              "std         35,477\n",
              "min       -190,130\n",
              "25%              0\n",
              "50%              1\n",
              "75%              5\n",
              "max      2,723,000\n",
              "Name: feat_27, dtype: object"
            ],
            "text/html": [
              "<div>\n",
              "<style scoped>\n",
              "    .dataframe tbody tr th:only-of-type {\n",
              "        vertical-align: middle;\n",
              "    }\n",
              "\n",
              "    .dataframe tbody tr th {\n",
              "        vertical-align: top;\n",
              "    }\n",
              "\n",
              "    .dataframe thead th {\n",
              "        text-align: right;\n",
              "    }\n",
              "</style>\n",
              "<table border=\"1\" class=\"dataframe\">\n",
              "  <thead>\n",
              "    <tr style=\"text-align: right;\">\n",
              "      <th></th>\n",
              "      <th>feat_27</th>\n",
              "    </tr>\n",
              "  </thead>\n",
              "  <tbody>\n",
              "    <tr>\n",
              "      <th>count</th>\n",
              "      <td>9,312</td>\n",
              "    </tr>\n",
              "    <tr>\n",
              "      <th>mean</th>\n",
              "      <td>1,206</td>\n",
              "    </tr>\n",
              "    <tr>\n",
              "      <th>std</th>\n",
              "      <td>35,477</td>\n",
              "    </tr>\n",
              "    <tr>\n",
              "      <th>min</th>\n",
              "      <td>-190,130</td>\n",
              "    </tr>\n",
              "    <tr>\n",
              "      <th>25%</th>\n",
              "      <td>0</td>\n",
              "    </tr>\n",
              "    <tr>\n",
              "      <th>50%</th>\n",
              "      <td>1</td>\n",
              "    </tr>\n",
              "    <tr>\n",
              "      <th>75%</th>\n",
              "      <td>5</td>\n",
              "    </tr>\n",
              "    <tr>\n",
              "      <th>max</th>\n",
              "      <td>2,723,000</td>\n",
              "    </tr>\n",
              "  </tbody>\n",
              "</table>\n",
              "</div><br><label><b>dtype:</b> object</label>"
            ]
          },
          "metadata": {},
          "execution_count": 47
        }
      ],
      "source": [
        "# Summary statistics for `feat_27`\n",
        "df[\"feat_27\"].describe().apply(\"{0:,.0f}\".format)"
      ]
    },
    {
      "cell_type": "markdown",
      "id": "956e3938-f05d-4ab4-8c7c-1c128201240b",
      "metadata": {
        "deletable": false,
        "editable": false,
        "id": "956e3938-f05d-4ab4-8c7c-1c128201240b"
      },
      "source": [
        "Hmm. Note que a mediana está em torno de 1, mas a média está acima de 1000. Isso sugere que essa característica está assimétrica para a direita. Vamos fazer um histograma para ver como a distribuição realmente se parece."
      ]
    },
    {
      "cell_type": "markdown",
      "id": "3334b78f-c578-4fe8-867c-aaf301cf07c3",
      "metadata": {
        "deletable": false,
        "editable": false,
        "id": "3334b78f-c578-4fe8-867c-aaf301cf07c3"
      },
      "source": [
        "### Exercício:\n",
        "Crie um histograma de `\"feat_27\"`. Certifique-se de rotular o eixo x como `\"POA / despesas financeiras\"`, o eixo y como `\"Contagem\"` e usar o título `\"Distribuição da Relação Lucro/Despesas\"`."
      ]
    },
    {
      "cell_type": "code",
      "execution_count": 48,
      "id": "4889da74-cb9d-4f21-a17a-823c9955fbdf",
      "metadata": {
        "deletable": false,
        "id": "4889da74-cb9d-4f21-a17a-823c9955fbdf",
        "outputId": "48eac6b0-e9c3-417a-ee44-ccaf78c87e9d",
        "colab": {
          "base_uri": "https://localhost:8080/",
          "height": 472
        }
      },
      "outputs": [
        {
          "output_type": "display_data",
          "data": {
            "text/plain": [
              "<Figure size 640x480 with 1 Axes>"
            ],
            "image/png": "[encoded data removed]"
          },
          "metadata": {}
        }
      ],
      "source": [
        "# Plot histogram of `feat_27`\n",
        "plt.hist(df[\"feat_27\"])\n",
        "plt.xlabel(\"POA / financial expenses\")\n",
        "plt.ylabel(\"Count\"),\n",
        "plt.title(\"Distribution of Profit/Expenses Ratio\");"
      ]
    },
    {
      "cell_type": "markdown",
      "id": "38583fa5-9cf8-4021-88f5-4f486c636e59",
      "metadata": {
        "deletable": false,
        "editable": false,
        "id": "38583fa5-9cf8-4021-88f5-4f486c636e59"
      },
      "source": [
        "Aha! Nós vimos isso nos números e agora vemos isso no histograma. Os dados estão muito assimétricos. Portanto, para criar um boxplot útil, precisamos fazer um corte nos dados."
      ]
    },
    {
      "cell_type": "markdown",
      "id": "ac83aeab-48a6-4a18-9b5a-3768fd69d48f",
      "metadata": {
        "deletable": false,
        "editable": false,
        "id": "ac83aeab-48a6-4a18-9b5a-3768fd69d48f"
      },
      "source": [
        "### Exercício:\n",
        "Recrie o boxplot que você fez acima, desta vez usando apenas os valores de `\"feat_27\"` que estão entre os quantis `0.1` e `0.9` para a coluna."
      ]
    },
    {
      "cell_type": "code",
      "execution_count": 49,
      "id": "94328747-6212-4505-9d8d-39c4b68ef126",
      "metadata": {
        "deletable": false,
        "id": "94328747-6212-4505-9d8d-39c4b68ef126",
        "outputId": "c3ba6e0a-76fa-4d24-d98f-4a79d54f0abe",
        "colab": {
          "base_uri": "https://localhost:8080/",
          "height": 527
        }
      },
      "outputs": [
        {
          "output_type": "stream",
          "name": "stderr",
          "text": [
            "/usr/local/lib/python3.10/dist-packages/seaborn/categorical.py:640: FutureWarning: SeriesGroupBy.grouper is deprecated and will be removed in a future version of pandas.\n",
            "  positions = grouped.grouper.result_index.to_numpy(dtype=float)\n"
          ]
        },
        {
          "output_type": "display_data",
          "data": {
            "text/plain": [
              "<Figure size 640x480 with 1 Axes>"
            ],
            "image/png": "[encoded data removed]"
          },
          "metadata": {}
        }
      ],
      "source": [
        "# Create clipped boxplot\n",
        "low, high = df[\"feat_27\"].quantile([0.1,0.9])\n",
        "mask_q = df[\"feat_27\"].between(low,high)\n",
        "\n",
        "sns.boxplot(data=df[mask_q], x=\"bankrupt\", y=\"feat_27\")\n",
        "plt.xlabel(\"Bankrupt\")\n",
        "plt.ylabel(\"POA / financial expenses\")\n",
        "plt.title(\"Distribution of Profit/Expenses Ratio, by Bankruptcy Status\");"
      ]
    },
    {
      "cell_type": "markdown",
      "id": "68ad9d1b-3dc4-413e-8264-f5e2058c9c2d",
      "metadata": {
        "deletable": false,
        "editable": false,
        "id": "68ad9d1b-3dc4-413e-8264-f5e2058c9c2d"
      },
      "source": [
        "Isso faz muito mais sentido. Vamos dar uma olhada em algumas das outras características do conjunto de dados para ver o que mais está disponível."
      ]
    },
    {
      "cell_type": "markdown",
      "id": "460743a9-1be1-438f-a7bd-591dfafa8385",
      "metadata": {
        "deletable": false,
        "editable": false,
        "id": "460743a9-1be1-438f-a7bd-591dfafa8385"
      },
      "source": [
        "__Mais contexto sobre__ `\"feat_27\"`: __*Lucro em atividades operacionais*__ é o lucro que uma empresa obtém através de suas operações \"normais\".\n",
        "\n",
        "Por exemplo, uma montadora lucra com a venda de seus carros. No entanto, uma empresa pode ter outras formas de lucro, como investimentos financeiros. Assim, o *__lucro total da empresa__* pode ser positivo mesmo quando seu lucro em atividades operacionais é negativo.\n",
        "\n",
        "*__Despesas financeiras__* incluem coisas como juros devidos sobre empréstimos e não incluem despesas \"normais\" (como o dinheiro que uma montadora gasta em matérias-primas para fabricar carros)."
      ]
    },
    {
      "cell_type": "markdown",
      "id": "3a6390ae-0647-496c-8b45-da345b2baffc",
      "metadata": {
        "deletable": false,
        "editable": false,
        "id": "3a6390ae-0647-496c-8b45-da345b2baffc"
      },
      "source": [
        "### Exercício:\n",
        "Repita a exploração que você acabou de fazer para `\"feat_27\"` em duas outras características do conjunto de dados. Elas mostram a mesma distribuição assimétrica? Existem grandes diferenças entre empresas falidas e solventes?"
      ]
    },
    {
      "cell_type": "code",
      "execution_count": null,
      "id": "051b35a0",
      "metadata": {
        "deletable": false,
        "id": "051b35a0"
      },
      "outputs": [],
      "source": [
        "# Explore another feature\n",
        "\n",
        "# Create boxplot\n",
        "\n",
        "# Feat 26\n",
        "sns.boxplot(data=df, x=\"bankrupt\", y=\"feat_26\")\n",
        "# Feat 34\n",
        "sns.boxplot(data=df, x=\"bankrupt\", y=\"feat_34\")\n",
        "\n",
        "# Summary statistics for `feat_`\n",
        "\n",
        "# Feat 26\n",
        "df[\"feat_26\"].describe()\n",
        "# Feat 34\n",
        "df[\"feat_34\"].describe()\n",
        "\n",
        "# Plot histogram\n",
        "\n",
        "# Feat 26\n",
        "plt.hist(df[\"feat_26\"])\n",
        "# Feat 34\n",
        "plt.hist(df[\"feat_34\"])\n",
        "\n",
        "# Create clipped boxplot\n",
        "\n",
        "# Feat 26\n",
        "low, high = df[\"feat_26\"].quantile([0.1,0.9])\n",
        "mask_q = df[\"feat_26\"].between(low,high)\n",
        "sns.boxplot(data=df[mask_q], x=\"bankrupt\", y=\"feat_26\")\n",
        "\n",
        "# Feat 34\n",
        "low, high = df[\"feat_34\"].quantile([0.1,0.9])\n",
        "mask_q = df[\"feat_34\"].between(low,high)\n",
        "sns.boxplot(data=df[mask_q], x=\"bankrupt\", y=\"feat_34\")"
      ]
    },
    {
      "cell_type": "markdown",
      "id": "9bee0894-eeb3-48fa-84b9-50bb3f053c9d",
      "metadata": {
        "deletable": false,
        "editable": false,
        "id": "9bee0894-eeb3-48fa-84b9-50bb3f053c9d"
      },
      "source": [
        "Analisando outras características, podemos ver que também estão assimétricas. Isso será importante para lembrarmos ao decidirmos que tipo de modelo queremos usar.\n",
        "\n",
        "Outra consideração importante para a seleção do modelo é verificar se há problemas de multicolinearidade em nosso modelo. Vamos conferir."
      ]
    },
    {
      "cell_type": "markdown",
      "id": "dac54512-c22d-475f-9fbf-c0d5ce8946da",
      "metadata": {
        "deletable": false,
        "editable": false,
        "id": "dac54512-c22d-475f-9fbf-c0d5ce8946da"
      },
      "source": [
        "### Exercício:\n",
        "Trace um mapa de calor de correlação das características em `df`. Como `\"bankrupt\"` será seu alvo, você não precisa incluí-lo em seu mapa de calor."
      ]
    },
    {
      "cell_type": "code",
      "execution_count": null,
      "id": "40887a1b-bcb2-4ad2-af68-bea899d0c434",
      "metadata": {
        "deletable": false,
        "id": "40887a1b-bcb2-4ad2-af68-bea899d0c434"
      },
      "outputs": [],
      "source": [
        "corr = ...\n"
      ]
    },
    {
      "cell_type": "markdown",
      "id": "c87d1c97-2e52-4bfa-aa15-640dcb2bb2e0",
      "metadata": {
        "deletable": false,
        "editable": false,
        "id": "c87d1c97-2e52-4bfa-aa15-640dcb2bb2e0"
      },
      "source": [
        "Então, o que aprendemos com esta análise exploratória de dados?\n",
        "\n",
        "Primeiro, nossos dados estão desequilibrados. Isso é algo que precisamos abordar na preparação dos dados.\n",
        "\n",
        "Em segundo lugar, muitas das nossas características têm valores ausentes que precisaremos imputar. E, como as características estão altamente distorcidas, a melhor estratégia de imputação provavelmente é a mediana, não a média.\n",
        "\n",
        "Por fim, temos problemas de autocorrelação, o que significa que devemos evitar modelos lineares e tentar um modelo baseado em árvore em vez disso."
      ]
    },
    {
      "cell_type": "markdown",
      "id": "2f852aed-4154-4b49-9e40-af3fb52caee0",
      "metadata": {
        "deletable": false,
        "editable": false,
        "id": "2f852aed-4154-4b49-9e40-af3fb52caee0"
      },
      "source": [
        "## Dividir"
      ]
    },
    {
      "cell_type": "markdown",
      "id": "37fa80b9-5bf4-4ced-8c0f-050b8514e1e6",
      "metadata": {
        "deletable": false,
        "editable": false,
        "id": "37fa80b9-5bf4-4ced-8c0f-050b8514e1e6"
      },
      "source": [
        "Então, vamos começar a construir esse modelo. Se você precisar de um lembrete sobre como e por que dividimos os dados nessas situações, dê uma olhada no módulo de Séries Temporais."
      ]
    },
    {
      "cell_type": "markdown",
      "id": "034eddda-8e40-47eb-95fe-f31d0e88b929",
      "metadata": {
        "deletable": false,
        "editable": false,
        "id": "034eddda-8e40-47eb-95fe-f31d0e88b929"
      },
      "source": [
        "### Exercício:\n",
        "Crie sua matriz de recursos `X` e vetor alvo `y`. Seu alvo é `\"bankrupt\"`."
      ]
    },
    {
      "cell_type": "code",
      "execution_count": null,
      "id": "3c1ca108-7089-45f3-8ec7-bc8e738808d9",
      "metadata": {
        "deletable": false,
        "id": "3c1ca108-7089-45f3-8ec7-bc8e738808d9"
      },
      "outputs": [],
      "source": [
        "target = \"bankrupt\"\n",
        "X = ...\n",
        "y = ...\n",
        "\n",
        "print(\"X shape:\", X.shape)\n",
        "print(\"y shape:\", y.shape)"
      ]
    },
    {
      "cell_type": "markdown",
      "id": "0c5e37a4-6104-4422-b5ca-493eeb4fed55",
      "metadata": {
        "deletable": false,
        "editable": false,
        "id": "0c5e37a4-6104-4422-b5ca-493eeb4fed55"
      },
      "source": [
        "Para garantir que nosso modelo possa generalizar, precisamos reservar um conjunto de teste que usaremos para avaliar nosso modelo uma vez que ele esteja treinado."
      ]
    },
    {
      "cell_type": "markdown",
      "id": "9500b64a-eaa5-4a89-98a4-8370717be4ff",
      "metadata": {
        "deletable": false,
        "editable": false,
        "id": "9500b64a-eaa5-4a89-98a4-8370717be4ff"
      },
      "source": [
        "### Exercício:\n",
        "Divida seus dados (`X` e `y`) em conjuntos de treinamento e teste usando uma divisão aleatória de treino-teste. Seu conjunto de validação deve ser 20% do total dos seus dados. E não se esqueça de definir um `random_state` para garantir a reprodutibilidade."
      ]
    },
    {
      "cell_type": "code",
      "execution_count": null,
      "id": "4e1cb3c3-231d-47e5-9361-bec2f83ef353",
      "metadata": {
        "deletable": false,
        "id": "4e1cb3c3-231d-47e5-9361-bec2f83ef353"
      },
      "outputs": [],
      "source": [
        "X_train, X_test, y_train, y_test = ...\n",
        "\n",
        "print(\"X_train shape:\", X_train.shape)\n",
        "print(\"y_train shape:\", y_train.shape)\n",
        "print(\"X_test shape:\", X_test.shape)\n",
        "print(\"y_test shape:\", y_test.shape)"
      ]
    },
    {
      "cell_type": "markdown",
      "id": "a24fc49d-6b3e-424d-8be2-4ff085b8c641",
      "metadata": {
        "deletable": false,
        "editable": false,
        "id": "a24fc49d-6b3e-424d-8be2-4ff085b8c641"
      },
      "source": [
        "Observe que, se quisermos ajustar quaisquer hiperparâmetros para o nosso modelo, faríamos outra divisão aqui, dividindo ainda mais o conjunto de treinamento em conjuntos de treinamento e validação. No entanto, vamos deixar os hiperparâmetros para a próxima lição, então não há necessidade de fazer a divisão extra agora."
      ]
    },
    {
      "cell_type": "markdown",
      "id": "35999f04-63f3-4178-8e31-75dc45f461ba",
      "metadata": {
        "deletable": false,
        "editable": false,
        "id": "35999f04-63f3-4178-8e31-75dc45f461ba"
      },
      "source": [
        "## Resample"
      ]
    },
    {
      "cell_type": "markdown",
      "id": "5e6dab03-4e55-4d2a-a9a4-6068aa274ac6",
      "metadata": {
        "deletable": false,
        "editable": false,
        "id": "5e6dab03-4e55-4d2a-a9a4-6068aa274ac6"
      },
      "source": [
        "Agora que dividimos nossos dados em conjuntos de treinamento e validação, podemos abordar o desequilíbrio de classes que vimos durante nossa análise exploratória. Uma estratégia é reamostrar os dados de treinamento.\n",
        "\n",
        "Existem várias maneiras de fazer isso, então vamos começar com a subamostragem."
      ]
    },
    {
      "cell_type": "markdown",
      "id": "53713713-d9ba-4776-936a-95e327b7d202",
      "metadata": {
        "deletable": false,
        "editable": false,
        "id": "53713713-d9ba-4776-936a-95e327b7d202"
      },
      "source": [
        "Crie uma nova matriz de características `X_train_under` e um vetor de alvo `y_train_under` realizando a `under_sampler` aleatória nos seus dados de treinamento."
      ]
    },
    {
      "cell_type": "code",
      "execution_count": null,
      "id": "676afb5f-268b-4080-9825-1a4f69e7b558",
      "metadata": {
        "deletable": false,
        "id": "676afb5f-268b-4080-9825-1a4f69e7b558"
      },
      "outputs": [],
      "source": [
        "under_sampler = ...\n",
        "X_train_under, y_train_under = ...\n",
        "print(X_train_under.shape)\n",
        "X_train_under.head()"
      ]
    },
    {
      "cell_type": "markdown",
      "id": "b84cf5b1-2c98-4531-97cf-5855d778a0e8",
      "metadata": {
        "deletable": false,
        "editable": false,
        "id": "b84cf5b1-2c98-4531-97cf-5855d778a0e8"
      },
      "source": [
        "__Nota:__ Dependendo do estado aleatório que você definiu acima, você pode obter uma forma diferente para `X_train_under`. Não se preocupe, isso é normal!"
      ]
    },
    {
      "cell_type": "markdown",
      "id": "dd0939f0-25dc-49a0-9421-f1a7de418728",
      "metadata": {
        "deletable": false,
        "editable": false,
        "id": "dd0939f0-25dc-49a0-9421-f1a7de418728"
      },
      "source": [
        "E então faremos o **over-sampling**."
      ]
    },
    {
      "cell_type": "markdown",
      "id": "5f1a2efc-3bba-4b7a-b6bb-9dab726d7ab5",
      "metadata": {
        "deletable": false,
        "editable": false,
        "id": "5f1a2efc-3bba-4b7a-b6bb-9dab726d7ab5"
      },
      "source": [
        "### Exercício:\n",
        "Crie uma nova matriz de características `X_train_over` e um vetor alvo `y_train_over` realizando o **over-sampling** aleatório nos seus dados de treinamento."
      ]
    },
    {
      "cell_type": "code",
      "execution_count": null,
      "id": "1ddf4a38-4635-4255-ae18-d0a396d4cfa5",
      "metadata": {
        "deletable": false,
        "id": "1ddf4a38-4635-4255-ae18-d0a396d4cfa5"
      },
      "outputs": [],
      "source": [
        "over_sampler = ...\n",
        "X_train_over, y_train_over = ...\n",
        "print(X_train_over.shape)\n",
        "X_train_over.head()"
      ]
    },
    {
      "cell_type": "markdown",
      "id": "d18094c9-d024-4570-ba60-e3c820ec7f66",
      "metadata": {
        "deletable": false,
        "editable": false,
        "id": "d18094c9-d024-4570-ba60-e3c820ec7f66"
      },
      "source": [
        "# Construindo Model"
      ]
    },
    {
      "cell_type": "markdown",
      "id": "b093e0e2-1044-4969-81e4-05c1c6276a26",
      "metadata": {
        "deletable": false,
        "editable": false,
        "id": "b093e0e2-1044-4969-81e4-05c1c6276a26"
      },
      "source": [
        "## Baseline"
      ]
    },
    {
      "cell_type": "markdown",
      "id": "751a3ea4-e345-4a9d-b942-ec438dc3d76e",
      "metadata": {
        "deletable": false,
        "editable": false,
        "id": "751a3ea4-e345-4a9d-b942-ec438dc3d76e"
      },
      "source": [
        "Como sempre, precisamos estabelecer a linha de base para o nosso modelo. Como se trata de um problema de classificação, usaremos a **pontuação de precisão**."
      ]
    },
    {
      "cell_type": "markdown",
      "id": "f18915ca-86cf-46b8-91e5-0afbcbceb842",
      "metadata": {
        "deletable": false,
        "editable": false,
        "id": "f18915ca-86cf-46b8-91e5-0afbcbceb842"
      },
      "source": [
        "### Exercício:\n",
        "Calcule a pontuação de precisão básica para o seu modelo."
      ]
    },
    {
      "cell_type": "code",
      "execution_count": null,
      "id": "2f2897bc-04b0-476b-b97d-d219f274a645",
      "metadata": {
        "deletable": false,
        "id": "2f2897bc-04b0-476b-b97d-d219f274a645"
      },
      "outputs": [],
      "source": [
        "acc_baseline = ...\n",
        "print(\"Baseline Accuracy:\", round(acc_baseline, 4))"
      ]
    },
    {
      "cell_type": "markdown",
      "id": "e65e1626-f07b-4c5f-8aa8-bce7a3222926",
      "metadata": {
        "deletable": false,
        "editable": false,
        "id": "e65e1626-f07b-4c5f-8aa8-bce7a3222926"
      },
      "source": [
        "Observe aqui que, devido ao fato de nossas classes estarem desequilibradas, a precisão básica é muito alta. Devemos ter isso em mente porque, mesmo que nosso modelo treinado obtenha uma alta pontuação de precisão de validação, isso não significa que ele seja realmente *__bom.__*"
      ]
    },
    {
      "cell_type": "markdown",
      "id": "a0b46478-78d8-4183-b990-fc264ef9a68b",
      "metadata": {
        "deletable": false,
        "editable": false,
        "id": "a0b46478-78d8-4183-b990-fc264ef9a68b"
      },
      "source": [
        "## Iterar"
      ]
    },
    {
      "cell_type": "markdown",
      "id": "7596eb36-4b1a-4140-863e-e4ba5155d33c",
      "metadata": {
        "deletable": false,
        "editable": false,
        "id": "7596eb36-4b1a-4140-863e-e4ba5155d33c"
      },
      "source": [
        "Agora que temos uma linha de base, vamos construir um modelo para ver se conseguimos superá-la."
      ]
    },
    {
      "cell_type": "markdown",
      "id": "892cf7eb-cc7d-4aec-9903-06ddd45e3638",
      "metadata": {
        "deletable": false,
        "editable": false,
        "id": "892cf7eb-cc7d-4aec-9903-06ddd45e3638"
      },
      "source": [
        "### Exercício:\n",
        "Crie três modelos idênticos: `model_reg`, `model_under` e `model_over`. Todos eles devem usar um `SimpleImputer` seguido de um `DecisionTreeClassifier`. Treine `model_reg` usando os dados de treinamento não alterados. Para `model_under`, use os dados subamostrados. Para `model_over`, use os dados superamostrados."
      ]
    },
    {
      "cell_type": "code",
      "execution_count": null,
      "id": "4ff60fd6-184c-4c3c-88e2-11589d212859",
      "metadata": {
        "deletable": false,
        "id": "4ff60fd6-184c-4c3c-88e2-11589d212859"
      },
      "outputs": [],
      "source": [
        "# Fit on `X_train`, `y_train`\n",
        "model_reg = ...\n",
        "model_reg.fit(..., ...)\n",
        "\n",
        "# Fit on `X_train_under`, `y_train_under`\n",
        "model_under = ...\n",
        "model_under.fit(..., ...)\n",
        "\n",
        "# Fit on `X_train_over`, `y_train_over`\n",
        "model_over = ...\n",
        "model_over.fit(..., ...)"
      ]
    },
    {
      "cell_type": "markdown",
      "id": "596ba5e3-c366-44ef-ac73-9f853fb0bbd2",
      "metadata": {
        "deletable": false,
        "editable": false,
        "id": "596ba5e3-c366-44ef-ac73-9f853fb0bbd2"
      },
      "source": [
        "## Avaliar"
      ]
    },
    {
      "cell_type": "markdown",
      "id": "a03c9432-c519-4d27-a517-d3805771a482",
      "metadata": {
        "deletable": false,
        "editable": false,
        "id": "a03c9432-c519-4d27-a517-d3805771a482"
      },
      "source": [
        "Como fazer?"
      ]
    },
    {
      "cell_type": "markdown",
      "id": "3b127381-5f48-4ba9-88a6-80191e24e374",
      "metadata": {
        "deletable": false,
        "editable": false,
        "id": "3b127381-5f48-4ba9-88a6-80191e24e374"
      },
      "source": [
        "### Exercício:\n",
        "Calcule a acurácia de treinamento e teste para seus três modelos."
      ]
    },
    {
      "cell_type": "code",
      "execution_count": null,
      "id": "c0ca1a2b-e958-4520-8665-d40f22f07390",
      "metadata": {
        "deletable": false,
        "id": "c0ca1a2b-e958-4520-8665-d40f22f07390"
      },
      "outputs": [],
      "source": [
        "for m in [model_reg, model_under, model_over]:\n",
        "    acc_train = ...\n",
        "    acc_test = ...\n",
        "\n",
        "    print(\"Training Accuracy:\", round(acc_train, 4))\n",
        "    print(\"Test Accuracy:\", round(acc_test, 4))"
      ]
    },
    {
      "cell_type": "markdown",
      "id": "8f554cac-2023-4940-ace4-03ff0d80b4b8",
      "metadata": {
        "deletable": false,
        "editable": false,
        "id": "8f554cac-2023-4940-ace4-03ff0d80b4b8"
      },
      "source": [
        "Como mencionamos anteriormente, \"boas\" pontuações de acurácia não dizem muito sobre o desempenho do modelo ao lidar com dados desbalanceados.\n",
        "\n",
        "Portanto, em vez de observar o que o modelo acertou ou errou, vamos ver como suas previsões diferem para as duas classes no conjunto de dados."
      ]
    },
    {
      "cell_type": "markdown",
      "id": "2a281947-e846-4173-81c2-40dbbc944bf0",
      "metadata": {
        "deletable": false,
        "editable": false,
        "id": "2a281947-e846-4173-81c2-40dbbc944bf0"
      },
      "source": [
        "### Exercício:\n",
        "Plote uma matriz de confusão que mostre como seu melhor modelo se comporta em seu conjunto de validação."
      ]
    },
    {
      "cell_type": "code",
      "execution_count": null,
      "id": "f47c811c-58bb-433f-8af5-742b2188fddf",
      "metadata": {
        "deletable": false,
        "id": "f47c811c-58bb-433f-8af5-742b2188fddf"
      },
      "outputs": [],
      "source": [
        "# Plot confusion matrix\n"
      ]
    },
    {
      "cell_type": "markdown",
      "id": "4d23026f-9d8d-4e0d-a93c-9f8599af6d27",
      "metadata": {
        "deletable": false,
        "editable": false,
        "id": "4d23026f-9d8d-4e0d-a93c-9f8599af6d27"
      },
      "source": [
        "Nesta lição, não fizemos nenhum ajuste de hiperparâmetros, mas será útil na próxima lição saber qual é a profundidade da árvore `model_over`."
      ]
    },
    {
      "cell_type": "markdown",
      "id": "f982fbc2-2802-4e26-9ac4-0477b2511db8",
      "metadata": {
        "deletable": false,
        "editable": false,
        "id": "f982fbc2-2802-4e26-9ac4-0477b2511db8"
      },
      "source": [
        "### Exercício:\n",
        "Determine a profundidade da árvore de decisão em `model_over`."
      ]
    },
    {
      "cell_type": "code",
      "execution_count": null,
      "id": "408b3f41-3444-4515-83d3-0c5fd36483b3",
      "metadata": {
        "deletable": false,
        "id": "408b3f41-3444-4515-83d3-0c5fd36483b3"
      },
      "outputs": [],
      "source": [
        "depth = ...\n",
        "print(depth)"
      ]
    },
    {
      "cell_type": "markdown",
      "id": "b0131cd6-b7e6-4ff1-afb1-6913f2dc1a60",
      "metadata": {
        "deletable": false,
        "editable": false,
        "id": "b0131cd6-b7e6-4ff1-afb1-6913f2dc1a60"
      },
      "source": [
        "# Comunicar Resultados"
      ]
    },
    {
      "cell_type": "markdown",
      "id": "df2beac9-6df5-4c38-9dfc-3992c50affdf",
      "metadata": {
        "deletable": false,
        "editable": false,
        "id": "df2beac9-6df5-4c38-9dfc-3992c50affdf"
      },
      "source": [
        "Agora que temos um modelo razoável, vamos representar graficamente a importância de cada recurso."
      ]
    },
    {
      "cell_type": "markdown",
      "id": "60b7a603-a3f4-4c95-a514-8c61d9feb2bf",
      "metadata": {
        "deletable": false,
        "editable": false,
        "id": "60b7a603-a3f4-4c95-a514-8c61d9feb2bf"
      },
      "source": [
        "### Exercício:\n",
        "Crie um gráfico de barras horizontal com os 15 recursos mais importantes para `model_over`. Certifique-se de rotular o eixo x como `\"Importância Gini\"`."
      ]
    },
    {
      "cell_type": "code",
      "execution_count": null,
      "id": "8275986a-74d1-44d0-80c9-d1cab4183da6",
      "metadata": {
        "deletable": false,
        "id": "8275986a-74d1-44d0-80c9-d1cab4183da6"
      },
      "outputs": [],
      "source": [
        "# Get importances\n",
        "importances = ...\n",
        "\n",
        "# Put importances into a Series\n",
        "feat_imp = ...\n",
        "\n",
        "# Plot series\n",
        "\n",
        "plt.xlabel(\"Gini Importance\")\n",
        "plt.ylabel(\"Feature\")\n",
        "plt.title(\"model_over Feature Importance\");"
      ]
    },
    {
      "cell_type": "markdown",
      "id": "abc81c45-5048-471f-a8cd-37749bd0052e",
      "metadata": {
        "deletable": false,
        "editable": false,
        "id": "abc81c45-5048-471f-a8cd-37749bd0052e"
      },
      "source": [
        "Lá está nosso velho amigo `\"feat_27\"` perto do topo, junto com as características 34 e 26. É hora de compartilhar nossas descobertas.\n",
        "\n",
        "Às vezes, a comunicação significa compartilhar uma visualização. Outras vezes, significa compartilhar o modelo real que você criou para que colegas possam usá-lo em novos dados ou implantar seu modelo em produção. Primeiro passo em direção à produção: salvar seu modelo."
      ]
    },
    {
      "cell_type": "markdown",
      "id": "2dfbb91b-9608-49a7-af74-da68695e9341",
      "metadata": {
        "deletable": false,
        "editable": false,
        "id": "2dfbb91b-9608-49a7-af74-da68695e9341"
      },
      "source": [
        "### Exercício:\n",
        "Usando um gerenciador de contexto, salve seu modelo de melhor desempenho em um arquivo chamado `\"model-5-2.pkl\"`."
      ]
    },
    {
      "cell_type": "code",
      "execution_count": null,
      "id": "4b4409a0-249f-4a70-b356-2fdd83d501f9",
      "metadata": {
        "deletable": false,
        "id": "4b4409a0-249f-4a70-b356-2fdd83d501f9"
      },
      "outputs": [],
      "source": [
        "# Save your model as `\"model-5-2.pkl\"`\n"
      ]
    },
    {
      "cell_type": "markdown",
      "id": "1185a161-dc20-47a6-a8bc-0195793b746b",
      "metadata": {
        "deletable": false,
        "editable": false,
        "id": "1185a161-dc20-47a6-a8bc-0195793b746b"
      },
      "source": [
        "### Exercício:\n",
        "Certifique-se de que você salvou seu modelo corretamente ao carregar `\"model-5-2.pkl\"` e atribuí-lo à variável `loaded_model`. Depois de estar satisfeito com o resultado, execute a última célula para enviar seu modelo ao avaliador."
      ]
    },
    {
      "cell_type": "code",
      "execution_count": null,
      "id": "7b8b2502-6b8e-442f-9a4b-f9aa14563954",
      "metadata": {
        "deletable": false,
        "id": "7b8b2502-6b8e-442f-9a4b-f9aa14563954"
      },
      "outputs": [],
      "source": [
        "# Load `\"model-5-2.pkl\"`\n",
        "\n",
        "print(loaded_model)"
      ]
    }
  ],
  "metadata": {
    "kernelspec": {
      "display_name": "Python 3 (ipykernel)",
      "language": "python",
      "name": "python3"
    },
    "language_info": {
      "codemirror_mode": {
        "name": "ipython",
        "version": 3
      },
      "file_extension": ".py",
      "mimetype": "text/x-python",
      "name": "python",
      "nbconvert_exporter": "python",
      "pygments_lexer": "ipython3",
      "version": "3.11.4"
    },
    "colab": {
      "provenance": []
    }
  },
  "nbformat": 4,
  "nbformat_minor": 5
}