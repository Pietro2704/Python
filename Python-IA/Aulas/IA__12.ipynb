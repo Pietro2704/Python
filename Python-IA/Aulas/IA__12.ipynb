{
  "cells": [
    {
      "cell_type": "markdown",
      "id": "e5b95a10-df83-4725-b2c6-0ea418ac82ec",
      "metadata": {
        "deletable": false,
        "editable": false,
        "id": "e5b95a10-df83-4725-b2c6-0ea418ac82ec"
      },
      "source": [
        "# Getting data from APIs"
      ]
    },
    {
      "cell_type": "markdown",
      "id": "8c31416c-80ab-415d-8908-9c2aca26a4be",
      "metadata": {
        "deletable": false,
        "editable": false,
        "id": "8c31416c-80ab-415d-8908-9c2aca26a4be"
      },
      "source": [
        "Você não pode construir um modelo sem dados, certo? Em projetos anteriores, trabalhamos com dados armazenados em arquivos (como um CSV) ou bancos de dados (como SQL). Neste projeto, vamos obter nossos dados de um servidor web usando uma API.\n",
        "\n",
        "Então, nesta lição, vamos aprender o que é uma API e como extrair dados de uma. Também vamos trabalhar na transformação de nossos dados em um formato gerenciável. Vamos lá!"
      ]
    },
    {
      "cell_type": "code",
      "execution_count": null,
      "id": "27cbbaa1-1661-4dc1-bab0-30d86c4c41cb",
      "metadata": {
        "deletable": false,
        "editable": false,
        "init_cell": true,
        "id": "27cbbaa1-1661-4dc1-bab0-30d86c4c41cb"
      },
      "outputs": [],
      "source": [
        "import pandas as pd\n",
        "import requests"
      ]
    },
    {
      "cell_type": "markdown",
      "id": "0d08d7ab-dff6-406f-a56f-c1281df543f6",
      "metadata": {
        "deletable": false,
        "editable": false,
        "id": "0d08d7ab-dff6-406f-a56f-c1281df543f6"
      },
      "source": [
        "# Acessando APIs através de uma URL"
      ]
    },
    {
      "cell_type": "markdown",
      "id": "455fce49-6084-4511-ac3b-24e4506a9778",
      "metadata": {
        "deletable": false,
        "editable": false,
        "id": "455fce49-6084-4511-ac3b-24e4506a9778"
      },
      "source": [
        "Nesta lição, vamos extrair informações do mercado de ações da API [AlphaVantage](https://alphavantage.co/). Para entender como uma API funciona, considere a URL abaixo.\n",
        "\n",
        "Tire um momento para ler o texto do link em si, depois clique nele e examine os dados que aparecem no seu navegador. Qual é o formato dos dados? Quais dados estão incluídos? Como eles estão organizados?"
      ]
    },
    {
      "cell_type": "markdown",
      "id": "db78658d-cffc-41ce-a95e-015024f89e16",
      "metadata": {
        "deletable": false,
        "editable": false,
        "id": "db78658d-cffc-41ce-a95e-015024f89e16"
      },
      "source": [
        "https://www.alphavantage.co/query?function=TIME_SERIES_DAILY&symbol=IBM&apikey=demo"
      ]
    },
    {
      "cell_type": "markdown",
      "id": "cbc39541-bc72-46c8-9183-b7dac7d591f3",
      "metadata": {
        "deletable": false,
        "editable": false,
        "id": "cbc39541-bc72-46c8-9183-b7dac7d591f3"
      },
      "source": [
        "Observe que esta URL possui vários componentes. Vamos analisá-los um por um.\n",
        "\n",
        "| URL | Componente |\n",
        "|:--- | :-------- |\n",
        "| `https://www.alphavantage.co` | Este é o **hostname** ou **URL base**. É o endereço web do servidor onde podemos obter nossos dados de ações. |\n",
        "| `/query` | Este é o **caminho**. A maioria das APIs tem várias operações diferentes que podem ser feitas. O caminho é o nome da operação específica que queremos acessar. |\n",
        "| `?` | Este ponto de interrogação indica que tudo o que segue na URL é um **parâmetro**. Cada parâmetro é separado por um caractere `&`. Esses parâmetros fornecem informações adicionais que irão modificar o comportamento da operação. Isso é semelhante à forma como passamos **argumentos** para funções em Python. |\n",
        "| `function=TIME_SERIES_DAILY` | Nosso primeiro parâmetro usa a palavra-chave `function`. O valor é `TIME_SERIES_DAILY`. Neste caso, estamos pedindo dados de ações **diários**. |\n",
        "| `symbol=IBM` | Nosso segundo parâmetro usa a palavra-chave `symbol`. Portanto, estamos pedindo dados de uma ação cujo [**ticker symbol**](https://en.wikipedia.org/wiki/Ticker_symbol) é `IBM`. |\n",
        "| `apikey=demo` | Da mesma forma que você precisa de uma senha para acessar alguns sites, uma **chave de API** ou **token de API** é a senha que você usará para acessar a API. |"
      ]
    },
    {
      "cell_type": "markdown",
      "id": "511f8afa-d99f-487b-b12f-0e497acb9975",
      "metadata": {
        "deletable": false,
        "editable": false,
        "id": "511f8afa-d99f-487b-b12f-0e497acb9975"
      },
      "source": [
        "Agora que temos uma noção dos componentes da URL que obtém informações do AlphaVantage, vamos criar a nossa própria para uma ação diferente."
      ]
    },
    {
      "cell_type": "markdown",
      "id": "5a2767fb-c1b5-4a49-be2b-e00ad431c89b",
      "metadata": {
        "deletable": false,
        "editable": false,
        "id": "5a2767fb-c1b5-4a49-be2b-e00ad431c89b"
      },
      "source": [
        "### Exercício:\n",
        "Usando a URL acima como modelo, crie uma nova URL para obter os dados da [Ambuja Cement](https://www.ambujacement.com/). com o ticker sendo `\"AMBUJACEM.BSE\"`.\n"
      ]
    },
    {
      "cell_type": "code",
      "execution_count": null,
      "id": "c3035765-16e2-4750-8bc6-0f4f4fcf2cda",
      "metadata": {
        "deletable": false,
        "id": "c3035765-16e2-4750-8bc6-0f4f4fcf2cda"
      },
      "outputs": [],
      "source": [
        "url = ...\n",
        "\n",
        "print(\"url type:\", type(url))\n",
        "url"
      ]
    },
    {
      "cell_type": "markdown",
      "id": "e2af814b-6763-4ac1-8522-177b05af7fd0",
      "metadata": {
        "deletable": false,
        "editable": false,
        "id": "e2af814b-6763-4ac1-8522-177b05af7fd0"
      },
      "source": [
        "Oh não! Um problema. Parece que precisamos da nossa própria chave de API para acessar os dados.\n",
        "\n",
        "Como você pode imaginar, uma chave de API é uma informação que deve ser mantida em sigilo, então é uma má ideia incluí-la no código da nossa aplicação. Quando se trata de informações sensíveis como esta, desenvolvedores e cientistas de dados as armazenam como uma [variável de ambiente](https://en.wikipedia.org/wiki/Environment_variable) que é mantida em um arquivo `.env`."
      ]
    },
    {
      "cell_type": "markdown",
      "id": "f9e17d6f-ad83-42aa-80d7-3eb9b68c07d2",
      "metadata": {
        "deletable": false,
        "editable": false,
        "id": "f9e17d6f-ad83-42aa-80d7-3eb9b68c07d2"
      },
      "source": [
        "### Exercício:\n",
        "Obtenha sua chave de API e a salve em seu arquivo `.env`."
      ]
    },
    {
      "cell_type": "markdown",
      "id": "5946c555-bbdf-4215-af61-01c179b08f91",
      "metadata": {
        "deletable": false,
        "editable": false,
        "id": "5946c555-bbdf-4215-af61-01c179b08f91"
      },
      "source": [
        "Agora que armazenamos nossa chave de API, precisamos importá-la para o nosso código. Isso é comumente feito criando um módulo `config`."
      ]
    },
    {
      "cell_type": "markdown",
      "id": "fcf49f12-a40c-43e7-bff1-85f6df92f214",
      "metadata": {
        "deletable": false,
        "editable": false,
        "id": "fcf49f12-a40c-43e7-bff1-85f6df92f214"
      },
      "source": [
        "### Exercício:\n",
        "Importe a variável `settings` do módulo `config`. Em seguida, use o comando `dir` para ver quais atributos ela possui."
      ]
    },
    {
      "cell_type": "code",
      "execution_count": null,
      "id": "bdc5f2da",
      "metadata": {
        "deletable": false,
        "id": "bdc5f2da"
      },
      "outputs": [],
      "source": [
        "# Import settings\n",
        "\n",
        "\n",
        "# Use `dir` to list attributes\n"
      ]
    },
    {
      "cell_type": "markdown",
      "id": "015b1f5e-9866-408d-995a-e9110c06b88d",
      "metadata": {
        "deletable": false,
        "editable": false,
        "id": "015b1f5e-9866-408d-995a-e9110c06b88d"
      },
      "source": [
        "### Exercício:\n",
        "Crie uma nova URL para `\"AMBUJACEM.BSE\"`:\n"
      ]
    },
    {
      "cell_type": "code",
      "execution_count": null,
      "id": "c194a746",
      "metadata": {
        "deletable": false,
        "id": "c194a746"
      },
      "outputs": [],
      "source": [
        "url = ...\n",
        "\n",
        "print(\"url type:\", type(url))\n",
        "url"
      ]
    },
    {
      "cell_type": "markdown",
      "id": "b69ea6f1-060e-4513-b45e-e7d27e5d1d6a",
      "metadata": {
        "deletable": false,
        "editable": false,
        "id": "b69ea6f1-060e-4513-b45e-e7d27e5d1d6a"
      },
      "source": [
        "Está funcionando! Acontece que há muitos mais parâmetros. Vamos construir nossa URL para incluí-los."
      ]
    },
    {
      "cell_type": "markdown",
      "id": "0507309b-25a3-4984-bea3-792b97f4029c",
      "metadata": {
        "deletable": false,
        "editable": false,
        "id": "0507309b-25a3-4984-bea3-792b97f4029c"
      },
      "source": [
        "### Exercício:\n",
        "Vá até a documentação da [API AlphaVantage Time Series Daily](https://www.alphavantage.co/documentation/#daily). Amplie sua URL para incorporar todos os parâmetros listados na documentação. Além disso, para tornar sua URL mais dinâmica, crie nomes de variáveis para todos os parâmetros que podem ser adicionados à URL."
      ]
    },
    {
      "cell_type": "code",
      "execution_count": null,
      "id": "f48b3383-8a31-4488-928a-10a766fb1832",
      "metadata": {
        "deletable": false,
        "id": "f48b3383-8a31-4488-928a-10a766fb1832"
      },
      "outputs": [],
      "source": [
        "ticker = ...\n",
        "output_size = ...\n",
        "data_type = ...\n",
        "\n",
        "url = ...\n",
        "\n",
        "print(\"url type:\", type(url))\n",
        "url"
      ]
    },
    {
      "cell_type": "markdown",
      "id": "989a8c6f-984a-4546-ab1c-e2d671695a9e",
      "metadata": {
        "deletable": false,
        "editable": false,
        "id": "989a8c6f-984a-4546-ab1c-e2d671695a9e"
      },
      "source": [
        "# Acessando APIs Através de uma Solicitação"
      ]
    },
    {
      "cell_type": "markdown",
      "id": "beeea08b-9e69-43cb-8e26-75a9b4dae6a6",
      "metadata": {
        "deletable": false,
        "editable": false,
        "id": "beeea08b-9e69-43cb-8e26-75a9b4dae6a6"
      },
      "source": [
        "Vimos como acessar a API AlphaVantage clicando em uma URL, mas isso não funcionará para a aplicação que estamos construindo neste projeto, pois apenas humanos clicam em URLs. Programas de computador acessam APIs fazendo **solicitações**. Vamos construir nossa primeira solicitação usando a URL que criamos na tarefa anterior."
      ]
    },
    {
      "cell_type": "markdown",
      "id": "9b9253d6-ea28-4f96-9124-f03fb784b087",
      "metadata": {
        "deletable": false,
        "editable": false,
        "id": "9b9253d6-ea28-4f96-9124-f03fb784b087"
      },
      "source": [
        "### Exercício:\n",
        "Use a biblioteca `requests` para fazer uma solicitação `get` à URL que você criou na tarefa anterior. Atribua a resposta à variável `response`."
      ]
    },
    {
      "cell_type": "code",
      "execution_count": null,
      "id": "939d960f-6ace-4c13-b8ae-e62e2da9cc43",
      "metadata": {
        "deletable": false,
        "id": "939d960f-6ace-4c13-b8ae-e62e2da9cc43"
      },
      "outputs": [],
      "source": [
        "response = ...\n",
        "\n",
        "print(\"response type:\", type(response))"
      ]
    },
    {
      "cell_type": "markdown",
      "id": "9b19f01b-c976-4c4e-b58e-80868162652f",
      "metadata": {
        "deletable": false,
        "editable": false,
        "id": "9b19f01b-c976-4c4e-b58e-80868162652f"
      },
      "source": [
        "Isso nos informa que tipo de resposta recebemos, mas não nos diz nada sobre o que isso significa. Se quisermos descobrir quais tipos de dados estão realmente *na* resposta, precisaremos usar o comando `dir`."
      ]
    },
    {
      "cell_type": "markdown",
      "id": "565e1803-12ed-4ce6-ad78-0fc8adb8d822",
      "metadata": {
        "deletable": false,
        "editable": false,
        "id": "565e1803-12ed-4ce6-ad78-0fc8adb8d822"
      },
      "source": [
        "### Exercício:\n",
        "Use o comando `dir` para ver quais atributos e métodos a variável `response` possui."
      ]
    },
    {
      "cell_type": "code",
      "execution_count": null,
      "id": "1cc5a19d-fbba-4fef-943d-054b36938fe0",
      "metadata": {
        "deletable": false,
        "id": "1cc5a19d-fbba-4fef-943d-054b36938fe0"
      },
      "outputs": [],
      "source": [
        "# Use `dir` on your `response`\n"
      ]
    },
    {
      "cell_type": "markdown",
      "id": "c88af2a2-baf3-42d6-87b4-0c48995ec6a9",
      "metadata": {
        "deletable": false,
        "editable": false,
        "id": "c88af2a2-baf3-42d6-87b4-0c48995ec6a9"
      },
      "source": [
        "O comando `dir` retorna uma lista e, como você pode ver, há muitas possibilidades aqui! Por enquanto, vamos nos concentrar em dois atributos: `status_code` e `text`."
      ]
    },
    {
      "cell_type": "markdown",
      "id": "af47e43d-42a6-4a72-9f43-f8fac2aa5a72",
      "metadata": {
        "deletable": false,
        "editable": false,
        "id": "af47e43d-42a6-4a72-9f43-f8fac2aa5a72"
      },
      "source": [
        "Começaremos com `status_code`. Sempre que você faz uma chamada para uma URL, a resposta inclui um [código de status HTTP](https://en.wikipedia.org/wiki/List_of_HTTP_status_codes) que pode ser acessado com o atributo `status_code`. Vamos ver qual é o nosso."
      ]
    },
    {
      "cell_type": "markdown",
      "id": "40cf4bf4-373a-493d-875c-b87133fea63b",
      "metadata": {
        "deletable": false,
        "editable": false,
        "id": "40cf4bf4-373a-493d-875c-b87133fea63b"
      },
      "source": [
        "### Exercício:\n",
        "Atribua o código de status da sua `response` à variável `response_code`."
      ]
    },
    {
      "cell_type": "code",
      "execution_count": null,
      "id": "c1457f39-6bf5-4c2f-b532-098aae41e708",
      "metadata": {
        "deletable": false,
        "id": "c1457f39-6bf5-4c2f-b532-098aae41e708"
      },
      "outputs": [],
      "source": [
        "response_code = ...\n",
        "\n",
        "print(\"code type:\", type(response_code))\n",
        "response_code"
      ]
    },
    {
      "cell_type": "markdown",
      "id": "6adc6c5c-1913-4389-9260-37bb0c417329",
      "metadata": {
        "deletable": false,
        "editable": false,
        "id": "6adc6c5c-1913-4389-9260-37bb0c417329"
      },
      "source": [
        "Traduzido para o inglês, `200` significa \"OK\". É a resposta padrão para uma solicitação HTTP bem-sucedida. Em outras palavras, funcionou! Recebemos com sucesso os dados da API AlphaVantage.\n",
        "\n",
        "Agora vamos dar uma olhada no `text`."
      ]
    },
    {
      "cell_type": "markdown",
      "id": "22879f32",
      "metadata": {
        "deletable": false,
        "editable": false,
        "id": "22879f32"
      },
      "source": [
        "### Exercício:\n",
        "Atribua o texto da sua `response` à variável `response_text`."
      ]
    },
    {
      "cell_type": "code",
      "execution_count": null,
      "id": "eaaec346",
      "metadata": {
        "deletable": false,
        "id": "eaaec346"
      },
      "outputs": [],
      "source": [
        "response_text = ...\n",
        "\n",
        "print(\"response_text type:\", type(response_text))\n",
        "print(response_text[:200])"
      ]
    },
    {
      "cell_type": "markdown",
      "id": "e34ff6e1-4949-4b39-872c-586dd9cfdecb",
      "metadata": {
        "deletable": false,
        "editable": false,
        "id": "e34ff6e1-4949-4b39-872c-586dd9cfdecb"
      },
      "source": [
        "Essa string parece com os dados que vimos anteriormente em nosso navegador quando clicamos na URL no exercício 5. Mas não podemos trabalhar com dados estruturados como JSON quando estão como uma string. Em vez disso, precisamos que eles estejam em um dicionário."
      ]
    },
    {
      "cell_type": "markdown",
      "id": "504c84be-9d80-47c7-bf0e-a1ef335837ec",
      "metadata": {
        "deletable": false,
        "editable": false,
        "id": "504c84be-9d80-47c7-bf0e-a1ef335837ec"
      },
      "source": [
        "### Exercício:\n",
        "Use o método `json` para acessar uma versão em dicionário dos dados. Atribua-a à variável chamada `response_data`."
      ]
    },
    {
      "cell_type": "code",
      "execution_count": null,
      "id": "3d636dfc-bd90-4e78-b709-d2d1ef1e4ad2",
      "metadata": {
        "deletable": false,
        "id": "3d636dfc-bd90-4e78-b709-d2d1ef1e4ad2"
      },
      "outputs": [],
      "source": [
        "response_data = ...\n",
        "\n",
        "print(\"response_data type:\", type(response_data))"
      ]
    },
    {
      "cell_type": "markdown",
      "id": "22b60cb3-32b0-48bc-823b-cc8ba381cd13",
      "metadata": {
        "deletable": false,
        "editable": false,
        "id": "22b60cb3-32b0-48bc-823b-cc8ba381cd13"
      },
      "source": [
        "Vamos verificar se os dados estão estruturados da mesma forma que vimos em nosso navegador."
      ]
    },
    {
      "cell_type": "markdown",
      "id": "66ecc542-a341-4064-81c2-5ca7022462b9",
      "metadata": {
        "deletable": false,
        "editable": false,
        "id": "66ecc542-a341-4064-81c2-5ca7022462b9"
      },
      "source": [
        "### Exercício:\n",
        "Imprima as chaves de `response_data`. Elas são o que você esperava?"
      ]
    },
    {
      "cell_type": "code",
      "execution_count": null,
      "id": "93bfaff8-a2d7-4d10-813a-9dc2674c07d7",
      "metadata": {
        "deletable": false,
        "id": "93bfaff8-a2d7-4d10-813a-9dc2674c07d7"
      },
      "outputs": [],
      "source": [
        "# Print `response_data` keys\n"
      ]
    },
    {
      "cell_type": "markdown",
      "id": "da856ef7-8c63-4b1f-b7c1-0f4c03e93835",
      "metadata": {
        "deletable": false,
        "editable": false,
        "id": "da856ef7-8c63-4b1f-b7c1-0f4c03e93835"
      },
      "source": [
        "Agora vamos olhar os dados que estão atribuídos à chave `\"Time Series (Daily)\"`."
      ]
    },
    {
      "cell_type": "markdown",
      "id": "3c8cb1c4-6e91-49b6-802f-becbf21731eb",
      "metadata": {
        "deletable": false,
        "editable": false,
        "id": "3c8cb1c4-6e91-49b6-802f-becbf21731eb"
      },
      "source": [
        "### Exercício:\n",
        "Atribua o valor da chave `\"Time Series (Daily)\"` à variável `stock_data`. Em seguida, examine os dados de um dos dias em `stock_data`."
      ]
    },
    {
      "cell_type": "code",
      "execution_count": null,
      "id": "2b658f23-b2c3-4812-9536-8305f1edd8b2",
      "metadata": {
        "deletable": false,
        "id": "2b658f23-b2c3-4812-9536-8305f1edd8b2"
      },
      "outputs": [],
      "source": [
        "# Extract `\"Time Series (Daily)\"` value from `response_data`\n",
        "stock_data = ...\n",
        "\n",
        "print(\"stock_data type:\", type(stock_data))\n",
        "\n",
        "# Extract data for one of the days in `stock_data`\n",
        "\n"
      ]
    },
    {
      "cell_type": "markdown",
      "id": "f25a90d6-6290-47dd-95cb-36823d0c17cb",
      "metadata": {
        "deletable": false,
        "editable": false,
        "id": "f25a90d6-6290-47dd-95cb-36823d0c17cb"
      },
      "source": [
        "Agora que sabemos como os dados estão organizados quando os extraímos da API, vamos transformá-los em um DataFrame para torná-los mais gerenciáveis."
      ]
    },
    {
      "cell_type": "markdown",
      "id": "8799fb60-4b46-4be3-af56-18ce7c4c39f3",
      "metadata": {
        "deletable": false,
        "editable": false,
        "id": "8799fb60-4b46-4be3-af56-18ce7c4c39f3"
      },
      "source": [
        "### Exercício:\n",
        "Leia os dados de `stock_data` em um DataFrame chamado `df_ambuja`. Certifique-se de que todos os seus tipos de dados estão corretos!"
      ]
    },
    {
      "cell_type": "code",
      "execution_count": null,
      "id": "c58d0b13-5146-44fc-9be0-2489aaec533d",
      "metadata": {
        "deletable": false,
        "id": "c58d0b13-5146-44fc-9be0-2489aaec533d"
      },
      "outputs": [],
      "source": [
        "df_ambuja = ...\n",
        "\n",
        "print(\"df_ambuja shape:\", df_ambuja.shape)\n",
        "print()\n",
        "print(df_ambuja.info())\n",
        "df_ambuja.head(10)"
      ]
    },
    {
      "cell_type": "markdown",
      "id": "1635c96b-1602-4df5-92f8-f8fa4895981f",
      "metadata": {
        "deletable": false,
        "editable": false,
        "id": "1635c96b-1602-4df5-92f8-f8fa4895981f"
      },
      "source": [
        "Você notou que o índice para `df_ambuja` não tem uma entrada para todos os dias? Considerando que se trata de dados do mercado de ações, por que você acha que isso acontece?"
      ]
    },
    {
      "cell_type": "markdown",
      "id": "c3a80962-1d08-42a5-8149-3b6cf7bba91b",
      "metadata": {
        "deletable": false,
        "editable": false,
        "id": "c3a80962-1d08-42a5-8149-3b6cf7bba91b"
      },
      "source": [
        "No geral, isso parece muito bom, mas há alguns problemas: o tipo de dados das datas e o formato dos cabeçalhos. Vamos corrigir as datas primeiro. No momento, as datas são strings; para que o restante do nosso código funcione, precisaremos criar um `DatetimeIndex` adequado."
      ]
    },
    {
      "cell_type": "markdown",
      "id": "ab2a80df-dd55-4c13-a8f1-adc27680b910",
      "metadata": {
        "deletable": false,
        "editable": false,
        "id": "ab2a80df-dd55-4c13-a8f1-adc27680b910"
      },
      "source": [
        "### Exercício:\n",
        "Transforme o índice de `df_ambuja` em um `DatetimeIndex` com o nome `\"date\"`."
      ]
    },
    {
      "cell_type": "code",
      "execution_count": null,
      "id": "30b1f432-c465-400c-98dc-9249038bd98c",
      "metadata": {
        "deletable": false,
        "id": "30b1f432-c465-400c-98dc-9249038bd98c"
      },
      "outputs": [],
      "source": [
        "# Convert `df_ambuja` index to `DatetimeIndex`\n",
        "\n",
        "\n",
        "# Name index \"date\"\n",
        "\n",
        "\n",
        "print(df_ambuja.info())\n",
        "df_ambuja.head()"
      ]
    },
    {
      "cell_type": "markdown",
      "id": "b7eb1d5e-ef3e-422f-95a8-72a1aa9d4d2a",
      "metadata": {
        "deletable": false,
        "editable": false,
        "id": "b7eb1d5e-ef3e-422f-95a8-72a1aa9d4d2a"
      },
      "source": [
        "__Nota:__ as linhas em `df_ambuja` estão ordenadas de forma <b>decrescente</b>, com a data mais recente no topo. Isso será vantajoso quando armazenarmos e recuperarmos os dados do nosso banco de dados da aplicação, mas precisaremos ordená-los de forma <b>crescente</b> antes de podermos usá-los para treinar um modelo."
      ]
    },
    {
      "cell_type": "markdown",
      "id": "cfa35c8f-9447-4ffc-b2df-ec57e9fc0d71",
      "metadata": {
        "deletable": false,
        "editable": false,
        "id": "cfa35c8f-9447-4ffc-b2df-ec57e9fc0d71"
      },
      "source": [
        "Ok! Agora que as datas estão corrigidas, vamos lidar com os cabeçalhos. Não há nada realmente *errado* com eles, mas aqueles números os fazem parecer um pouco inacabados. Vamos nos livrar deles."
      ]
    },
    {
      "cell_type": "markdown",
      "id": "5eac49bc-e6c0-4607-8bf7-df6d2a7cfdf1",
      "metadata": {
        "deletable": false,
        "editable": false,
        "id": "5eac49bc-e6c0-4607-8bf7-df6d2a7cfdf1"
      },
      "source": [
        "### Exercício:\n",
        "Remova a numeração dos nomes das colunas de `df_ambuja`."
      ]
    },
    {
      "cell_type": "code",
      "execution_count": null,
      "id": "0580f82d-83a6-43cb-9437-48affb90ecb3",
      "metadata": {
        "deletable": false,
        "id": "0580f82d-83a6-43cb-9437-48affb90ecb3"
      },
      "outputs": [],
      "source": [
        "# Remove numbering from `df_ambuja` column names\n",
        "df_ambuja.columns = ...\n",
        "\n",
        "print(df_ambuja.info())\n",
        "df_ambuja.head()"
      ]
    },
    {
      "cell_type": "markdown",
      "id": "178c0031-beb5-4ea8-b79a-ebd4b4e747ec",
      "metadata": {
        "deletable": false,
        "editable": false,
        "id": "178c0031-beb5-4ea8-b79a-ebd4b4e747ec"
      },
      "source": [
        "# Programação Defensiva"
      ]
    },
    {
      "cell_type": "markdown",
      "id": "f1780074-77fc-467c-aa7a-d66a214304e9",
      "metadata": {
        "deletable": false,
        "editable": false,
        "id": "f1780074-77fc-467c-aa7a-d66a214304e9"
      },
      "source": [
        "Programação defensiva é a prática de escrever código que continuará a funcionar, mesmo que algo dê errado. Nunca conseguiremos prever todos os problemas que as pessoas podem encontrar com nosso código, mas podemos tomar medidas para garantir que as coisas não desmoronem sempre que um desses problemas acontecer.\n",
        "\n",
        "Até agora, fizemos solicitações de API onde tudo funciona. Mas erros de codificação e problemas com servidores são comuns, e podem causar grandes problemas em um projeto de ciência de dados. Vamos ver como nossa `response` muda quando introduzimos erros comuns em nosso código."
      ]
    },
    {
      "cell_type": "markdown",
      "id": "43029733-5f6a-4112-8930-268632c6c3f1",
      "metadata": {
        "deletable": false,
        "editable": false,
        "id": "43029733-5f6a-4112-8930-268632c6c3f1"
      },
      "source": [
        "### Exercício:\n",
        "Volte ao exercício 5 e mude a primeira parte da sua URL. Em vez de `\"query\"`, use `\"search\"` (um caminho que não existe). Em seguida, execute novamente seu código para todas as tarefas que se seguem. O que muda? O que permanece o mesmo?"
      ]
    },
    {
      "cell_type": "markdown",
      "id": "26c179f8-a682-4c83-b9bb-8a99b14f0a9d",
      "metadata": {
        "deletable": false,
        "editable": false,
        "id": "26c179f8-a682-4c83-b9bb-8a99b14f0a9d"
      },
      "source": [
        "Sabemos o que acontece quando tentamos acessar um endereço inválido. Mas e quando acessamos o *caminho correto* com um símbolo de ação *inválido*?"
      ]
    },
    {
      "cell_type": "markdown",
      "id": "0b7c93ef-3833-4e15-97fc-68fbd8c2990e",
      "metadata": {
        "deletable": false,
        "editable": false,
        "id": "0b7c93ef-3833-4e15-97fc-68fbd8c2990e"
      },
      "source": [
        "### Exercício:\n",
        "Volte ao exercício 5 e mude o símbolo da ação de `\"AMBUJACEM.BSE\"` para `\"RAMBUJACEM.BSE\"` (uma empresa que não existe). Em seguida, execute novamente seu código para todas as tarefas que se seguem. Novamente, observe o que muda e o que permanece o mesmo."
      ]
    },
    {
      "cell_type": "markdown",
      "id": "75bdd2ed-cb05-4aef-bd1e-992b57f8472c",
      "metadata": {
        "deletable": false,
        "editable": false,
        "id": "75bdd2ed-cb05-4aef-bd1e-992b57f8472c"
      },
      "source": [
        "Vamos formalizar nosso processo de extração e transformação para a API AlphaVantage em uma função reproduzível."
      ]
    },
    {
      "cell_type": "markdown",
      "id": "82bba2b7-95e7-4544-8940-2af3764ef261",
      "metadata": {
        "deletable": false,
        "editable": false,
        "id": "82bba2b7-95e7-4544-8940-2af3764ef261"
      },
      "source": [
        "### Exercício:\n",
        "Construa uma função `get_daily` que obtenha dados da API AlphaVantage e retorne um DataFrame limpo. Use a docstring como guia. Quando estiver satisfeito com o resultado, envie seu trabalho para o avaliador."
      ]
    },
    {
      "cell_type": "code",
      "execution_count": null,
      "id": "bd062d98-5dbe-421b-bb2d-9ec81961b56e",
      "metadata": {
        "deletable": false,
        "id": "bd062d98-5dbe-421b-bb2d-9ec81961b56e"
      },
      "outputs": [],
      "source": [
        "def get_daily():\n",
        "\n",
        "    \"\"\"Get daily time series of an equity from AlphaVantage API.\n",
        "\n",
        "    Parameters\n",
        "    ----------\n",
        "    ticker : str\n",
        "        The ticker symbol of the equity.\n",
        "    output_size : str, optional\n",
        "        Number of observations to retrieve. \"compact\" returns the\n",
        "        latest 100 observations. \"full\" returns all observations for\n",
        "        equity. By default \"full\".\n",
        "\n",
        "    Returns\n",
        "    -------\n",
        "    pd.DataFrame\n",
        "        Columns are 'open', 'high', 'low', 'close', and 'volume'.\n",
        "        All are numeric.\n",
        "    \"\"\"\n",
        "    # Create URL (8.1.5)\n",
        "\n",
        "\n",
        "    # Send request to API (8.1.6)\n",
        "\n",
        "\n",
        "    # Extract JSON data from response (8.1.10)\n",
        "\n",
        "\n",
        "    # Read data into DataFrame (8.1.12 & 8.1.13)\n",
        "\n",
        "\n",
        "    # Convert index to `DatetimeIndex` named \"date\" (8.1.14)\n",
        "\n",
        "\n",
        "    # Remove numbering from columns (8.1.15)\n",
        "\n",
        "\n",
        "    # Return DataFrame\n",
        "    return df"
      ]
    },
    {
      "cell_type": "code",
      "execution_count": null,
      "id": "4f10991a-ec93-42ac-9888-e8f45e668451",
      "metadata": {
        "deletable": false,
        "id": "4f10991a-ec93-42ac-9888-e8f45e668451"
      },
      "outputs": [],
      "source": [
        "# Test your function\n",
        "df_ambuja = get_daily(ticker=\"AMBUJACEM.BSE\")\n",
        "\n",
        "print(df_ambuja.info())\n",
        "df_ambuja.head()"
      ]
    },
    {
      "cell_type": "markdown",
      "id": "a15de1d8-f719-40d4-af32-f7f7a4163e0b",
      "metadata": {
        "deletable": false,
        "editable": false,
        "id": "a15de1d8-f719-40d4-af32-f7f7a4163e0b"
      },
      "source": [
        "Como essa função lida com os dois erros que exploramos nesta seção? Nosso primeiro erro, uma URL inválida, é algo com o qual não precisamos nos preocupar. Não importa o que o usuário insira nesta função, a URL sempre estará correta. Mas veja o que acontece quando o usuário insere um símbolo de ação inválido. Qual é a mensagem de erro? Isso ajudaria o usuário a localizar seu erro?"
      ]
    },
    {
      "cell_type": "markdown",
      "id": "875b1bdd-8f5f-4507-a257-8cc3b72f7b68",
      "metadata": {
        "deletable": false,
        "editable": false,
        "id": "875b1bdd-8f5f-4507-a257-8cc3b72f7b68"
      },
      "source": [
        "### Exercício:\n",
        "Adicione uma cláusula `if` à sua função `get_daily` para que ela lance uma `Exception` quando um usuário fornecer um símbolo de ação inválido. Certifique-se de que a mensagem de erro seja informativa."
      ]
    },
    {
      "cell_type": "code",
      "execution_count": null,
      "id": "0edf1068-520e-4160-8706-674e5438ef8e",
      "metadata": {
        "deletable": false,
        "tags": [
          "raises-exception"
        ],
        "id": "0edf1068-520e-4160-8706-674e5438ef8e"
      },
      "outputs": [],
      "source": [
        "# Test your Exception\n",
        "df_test = get_daily(ticker=\"ABUJACEM.BSE\")"
      ]
    },
    {
      "cell_type": "markdown",
      "id": "b9e19321-8e9c-449e-933d-008ebcfc0658",
      "metadata": {
        "deletable": false,
        "editable": false,
        "id": "b9e19321-8e9c-449e-933d-008ebcfc0658"
      },
      "source": [
        "Certo! Agora temos todas as ferramentas necessárias para obter os dados para o nosso projeto. Na próxima lição, tornaremos nosso código AlphaVantage mais reutilizável, criando um módulo `data` com definições de classe. Também criaremos o código necessário para armazenar e ler esses dados do nosso banco de dados de aplicação."
      ]
    },
    {
      "cell_type": "markdown",
      "id": "2271075b",
      "metadata": {
        "deletable": false,
        "editable": false,
        "id": "2271075b"
      },
      "source": [
        "# Desenvolvimento Orientado a Testes (TDD)"
      ]
    },
    {
      "cell_type": "markdown",
      "id": "d31ac132-2255-4533-8ba8-a3de3fc98f29",
      "metadata": {
        "deletable": false,
        "editable": false,
        "id": "d31ac132-2255-4533-8ba8-a3de3fc98f29"
      },
      "source": [
        "Na lição anterior, aprendemos como obter dados de uma API. Nesta lição, temos dois objetivos. Primeiro, vamos pegar o código que usamos para acessar a API e construir uma classe `AlphaVantageAPI`. Isso nos permitirá reutilizar nosso código. Segundo, criaremos uma classe `SQLRepository` que nos ajudará a carregar nossos dados de ações em um banco de dados SQLite e depois extraí-los para uso posterior. Além disso, construiremos esse código usando uma técnica chamada **desenvolvimento orientado a testes**, onde usaremos instruções `assert` para garantir que tudo esteja funcionando corretamente. Assim, evitaremos problemas mais tarde ao construir nossa aplicação."
      ]
    },
    {
      "cell_type": "code",
      "execution_count": null,
      "id": "7457bb4a-c3d1-42c0-8b57-2b4872e5d3e3",
      "metadata": {
        "deletable": false,
        "editable": false,
        "init_cell": true,
        "id": "7457bb4a-c3d1-42c0-8b57-2b4872e5d3e3"
      },
      "outputs": [],
      "source": [
        "%load_ext autoreload\n",
        "%load_ext sql\n",
        "%autoreload 2\n",
        "\n",
        "import sqlite3\n",
        "import matplotlib.pyplot as plt\n",
        "import pandas as pd\n",
        "from config import settings"
      ]
    },
    {
      "cell_type": "markdown",
      "id": "603adedd-56fa-44be-8e5b-c4a802fd1da6",
      "metadata": {
        "deletable": false,
        "editable": false,
        "id": "603adedd-56fa-44be-8e5b-c4a802fd1da6"
      },
      "source": [
        "# Construindo Nosso Módulo de Dados"
      ]
    },
    {
      "cell_type": "markdown",
      "id": "18b7926f-cf91-4835-bfe2-cb40ec52eff3",
      "metadata": {
        "deletable": false,
        "editable": false,
        "id": "18b7926f-cf91-4835-bfe2-cb40ec52eff3"
      },
      "source": [
        "Para nossa aplicação, vamos manter todas as classes que usamos para extrair, transformar e carregar dados em um único módulo que chamaremos de `data`."
      ]
    },
    {
      "cell_type": "markdown",
      "id": "727cc9a0-4f06-4356-84fd-6024f6ac4421",
      "metadata": {
        "deletable": false,
        "editable": false,
        "id": "727cc9a0-4f06-4356-84fd-6024f6ac4421"
      },
      "source": [
        "## Classe AlphaVantage API"
      ]
    },
    {
      "cell_type": "markdown",
      "id": "2886d630-b241-42a9-8664-480902419af8",
      "metadata": {
        "deletable": false,
        "editable": false,
        "id": "2886d630-b241-42a9-8664-480902419af8"
      },
      "source": [
        "Vamos começar pegando o código que criamos na última lição e incorporá-lo em uma classe que será responsável por obter dados da API AlphaVantage."
      ]
    },
    {
      "cell_type": "markdown",
      "id": "393281a3-373c-4b43-9918-2593d4e5eb07",
      "metadata": {
        "deletable": false,
        "editable": false,
        "id": "393281a3-373c-4b43-9918-2593d4e5eb07"
      },
      "source": [
        "### Exercício:\n",
        "No módulo `data`, crie uma definição de classe para `AlphaVantageAPI`. Por enquanto, certifique-se de que ela tenha um método `__init__` que anexe sua chave de API como o atributo `__api_key`. Depois de terminar, importe a classe abaixo e crie uma instância dela chamada `av`."
      ]
    },
    {
      "cell_type": "code",
      "execution_count": null,
      "id": "8c02dbac-7559-4db2-b0dd-b29c8fb623e1",
      "metadata": {
        "deletable": false,
        "id": "8c02dbac-7559-4db2-b0dd-b29c8fb623e1"
      },
      "outputs": [],
      "source": [
        "# Import `AlphaVantageAPI`\n",
        "\n",
        "\n",
        "# Create instance of `AlphaVantageAPI` class\n",
        "av = ...\n",
        "\n",
        "print(\"av type:\", type(av))"
      ]
    },
    {
      "cell_type": "markdown",
      "id": "a21cb1bc-b617-430e-91eb-72a692f7f209",
      "metadata": {
        "deletable": false,
        "editable": false,
        "id": "a21cb1bc-b617-430e-91eb-72a692f7f209"
      },
      "source": [
        "Lembre-se da função `get_daily` que fizemos na última lição? Agora vamos transformá-la em um método de classe."
      ]
    },
    {
      "cell_type": "markdown",
      "id": "7e7017bd-fb32-42d2-a4a2-1b8b206efde0",
      "metadata": {
        "deletable": false,
        "editable": false,
        "id": "7e7017bd-fb32-42d2-a4a2-1b8b206efde0"
      },
      "source": [
        "### Exercício:\n",
        "Crie um método `get_daily` para sua classe `AlphaVantageAPI`. Assim que terminar, use a célula abaixo para buscar os dados das ações da empresa de energia renovável [Suzlon](https://www.suzlon.com/) e atribua-os ao DataFrame `df_suzlon`."
      ]
    },
    {
      "cell_type": "code",
      "execution_count": null,
      "id": "d7659f8c-819a-4742-93e5-7b0dec31b808",
      "metadata": {
        "deletable": false,
        "id": "d7659f8c-819a-4742-93e5-7b0dec31b808"
      },
      "outputs": [],
      "source": [
        "# Define Suzlon ticker symbol\n",
        "ticker = \"SUZLON.BSE\"\n",
        "\n",
        "# Use your `av` object to get daily data\n",
        "df_suzlon = ...\n",
        "\n",
        "print(\"df_suzlon type:\", type(df_suzlon))\n",
        "print(\"df_suzlon shape:\", df_suzlon.shape)\n",
        "df_suzlon.head()"
      ]
    },
    {
      "cell_type": "markdown",
      "id": "d904c7f4-515b-4ccb-b29e-1aa46b370889",
      "metadata": {
        "deletable": false,
        "editable": false,
        "id": "d904c7f4-515b-4ccb-b29e-1aa46b370889"
      },
      "source": [
        "Certo! A próxima coisa que precisamos fazer é testar nosso novo método para garantir que ele funcione da maneira que desejamos. Normalmente, esses tipos de testes são escritos *antes* de escrever o método, mas, neste primeiro caso, faremos o contrário para entender melhor como as instruções de assert funcionam."
      ]
    },
    {
      "cell_type": "markdown",
      "id": "0cb9dd91-7734-4489-b887-ad096608fb48",
      "metadata": {
        "deletable": false,
        "editable": false,
        "id": "0cb9dd91-7734-4489-b887-ad096608fb48"
      },
      "source": [
        "### Exercício:\n",
        "Crie quatro instruções `assert` para testar a saída do seu método `get_daily`. Use os comentários abaixo como guia."
      ]
    },
    {
      "cell_type": "code",
      "execution_count": null,
      "id": "abfe54a3-585b-46db-9b75-5e2c8fc73a31",
      "metadata": {
        "deletable": false,
        "id": "abfe54a3-585b-46db-9b75-5e2c8fc73a31"
      },
      "outputs": [],
      "source": [
        "# Does `get_daily` return a DataFrame?\n",
        "\n",
        "\n",
        "# Does DataFrame have 5 columns?\n",
        "\n",
        "\n",
        "# Does DataFrame have a DatetimeIndex?\n",
        "\n",
        "\n",
        "# Is the index name \"date\"?\n"
      ]
    },
    {
      "cell_type": "markdown",
      "id": "d36acde5-df71-4ea1-a99e-3caa32c35dd6",
      "metadata": {
        "deletable": false,
        "editable": false,
        "id": "d36acde5-df71-4ea1-a99e-3caa32c35dd6"
      },
      "source": [
        "### Exercício:\n",
        "Crie mais dois testes para a saída do seu método `get_daily`. Use os comentários abaixo como guia."
      ]
    },
    {
      "cell_type": "code",
      "execution_count": null,
      "id": "98a10e7f-d01d-4ac1-be84-7ada5f3de346",
      "metadata": {
        "deletable": false,
        "id": "98a10e7f-d01d-4ac1-be84-7ada5f3de346"
      },
      "outputs": [],
      "source": [
        "# Does DataFrame have correct column names?\n",
        "\n",
        "\n",
        "# Are columns correct data type?\n"
      ]
    },
    {
      "cell_type": "markdown",
      "id": "905320f3-19d6-4004-9953-5a695e27bf8e",
      "metadata": {
        "deletable": false,
        "editable": false,
        "id": "905320f3-19d6-4004-9953-5a695e27bf8e"
      },
      "source": [
        "Ok! Agora que nossa classe `AlphaVantageAPI` está pronta para obter dados, vamos focar na classe que precisaremos para armazenar nossos dados em nosso banco de dados SQLite."
      ]
    },
    {
      "cell_type": "markdown",
      "id": "d69dc9cf-3851-4edb-a152-03c53daf90d4",
      "metadata": {
        "deletable": false,
        "editable": false,
        "tags": [],
        "id": "d69dc9cf-3851-4edb-a152-03c53daf90d4"
      },
      "source": [
        "## Classe Repositório SQL"
      ]
    },
    {
      "cell_type": "markdown",
      "id": "bc1c1102-040c-4776-8cbf-cb1cefdeca17",
      "metadata": {
        "deletable": false,
        "editable": false,
        "id": "bc1c1102-040c-4776-8cbf-cb1cefdeca17"
      },
      "source": [
        "Não seria eficiente se nosso aplicativo precisasse obter dados da API AlphaVantage toda vez que quiséssemos explorar nossos dados ou construir um modelo, então precisaremos armazenar nossos dados em um banco de dados. Como nossos dados são altamente estruturados (cada DataFrame que extraímos da AlphaVantage sempre terá as mesmas cinco colunas), faz sentido usar um banco de dados SQL.\n",
        "\n",
        "Usaremos o SQLite para nosso banco de dados. Para consistência, esse banco de dados sempre terá o mesmo nome, que armazenamos em nosso arquivo `.env`."
      ]
    },
    {
      "cell_type": "markdown",
      "id": "1fa42d18-8b9d-4379-8d5c-76dea153d003",
      "metadata": {
        "deletable": false,
        "editable": false,
        "id": "1fa42d18-8b9d-4379-8d5c-76dea153d003"
      },
      "source": [
        "### Exercício:\n",
        "Conecte-se ao banco de dados cujo nome está armazenado no arquivo `.env` deste projeto. Certifique-se de definir o argumento `check_same_thread` como `False`. Atribua a conexão à variável `connection`."
      ]
    },
    {
      "cell_type": "code",
      "execution_count": null,
      "id": "348adcae-ef3e-4933-81b9-2fbc1ce42587",
      "metadata": {
        "deletable": false,
        "id": "348adcae-ef3e-4933-81b9-2fbc1ce42587"
      },
      "outputs": [],
      "source": [
        "connection = ...\n",
        "\n",
        "print(\"connection type:\", type(connection))"
      ]
    },
    {
      "cell_type": "markdown",
      "id": "71142242-06d8-47c4-9612-d79dd8e34c20",
      "metadata": {
        "deletable": false,
        "editable": false,
        "id": "71142242-06d8-47c4-9612-d79dd8e34c20"
      },
      "source": [
        "Temos uma conexão, e agora precisamos começar a construir a classe que irá gerenciar todas as nossas transações com o banco de dados. Com esta classe, no entanto, vamos criar nossos testes *antes* de escrever a definição da classe."
      ]
    },
    {
      "cell_type": "markdown",
      "id": "14fb7efd-beb7-4712-b126-4e2248a7de76",
      "metadata": {
        "deletable": false,
        "editable": false,
        "id": "14fb7efd-beb7-4712-b126-4e2248a7de76"
      },
      "source": [
        "### Exercício:\n",
        "Escreva dois testes para a classe `SQLRepository`, usando os comentários abaixo como guia."
      ]
    },
    {
      "cell_type": "code",
      "execution_count": null,
      "id": "f443ad9f-6b93-4c97-b525-1168921a4ee7",
      "metadata": {
        "deletable": false,
        "id": "f443ad9f-6b93-4c97-b525-1168921a4ee7"
      },
      "outputs": [],
      "source": [
        "# Import class definition\n",
        "\n",
        "\n",
        "# Create instance of class\n",
        "repo = ...\n",
        "\n",
        "# Does `repo` have a \"connection\" attribute?\n",
        "\n",
        "\n",
        "# Is the \"connection\" attribute a SQLite `Connection`?\n"
      ]
    },
    {
      "cell_type": "markdown",
      "id": "a25753a8-ec5a-4de7-b8f9-6864e0189e5d",
      "metadata": {
        "deletable": false,
        "editable": false,
        "id": "a25753a8-ec5a-4de7-b8f9-6864e0189e5d"
      },
      "source": [
        "__Dica:__ Você não poderá executar este bloco de código ☝️ até completar a tarefa abaixo. 👇"
      ]
    },
    {
      "cell_type": "markdown",
      "id": "e3fe6a9e-c8c8-4a1f-b6e0-8bec234691d0",
      "metadata": {
        "deletable": false,
        "editable": false,
        "id": "e3fe6a9e-c8c8-4a1f-b6e0-8bec234691d0"
      },
      "source": [
        "### Exercício:\n",
        "Crie uma definição para sua classe `SQLRepository`. Por enquanto, complete apenas o método `__init__`. Assim que terminar, use o código que você escreveu na tarefa anterior para testá-la."
      ]
    },
    {
      "cell_type": "markdown",
      "id": "ac9d773d-4ed7-4fb7-8bcd-09cae0774ffb",
      "metadata": {
        "deletable": false,
        "editable": false,
        "id": "ac9d773d-4ed7-4fb7-8bcd-09cae0774ffb"
      },
      "source": [
        "O próximo método que precisamos para a classe `SQLRepository` é um que nos permita armazenar informações. No jargão SQL, isso é geralmente referido como **inserir** tabelas no banco de dados."
      ]
    },
    {
      "cell_type": "markdown",
      "id": "ae1fd1a0-a8bc-4c38-8239-9d3f40b34dad",
      "metadata": {
        "deletable": false,
        "editable": false,
        "id": "ae1fd1a0-a8bc-4c38-8239-9d3f40b34dad"
      },
      "source": [
        "### Exercício:\n",
        "Adicione um método `insert_table` à sua classe `SQLRepository`. Como guia, use as instruções `assert` abaixo e o docstring no módulo `data`. Quando terminar, execute a célula abaixo para verificar seu trabalho."
      ]
    },
    {
      "cell_type": "code",
      "execution_count": null,
      "id": "2210e278-a640-41e7-b1a1-8aaa357d9d2e",
      "metadata": {
        "deletable": false,
        "id": "2210e278-a640-41e7-b1a1-8aaa357d9d2e"
      },
      "outputs": [],
      "source": [
        "response = repo.insert_table(table_name=ticker, records=df_suzlon, if_exists=\"replace\")\n",
        "\n",
        "# Does your method return a dictionary?\n",
        "assert isinstance(response, dict)\n",
        "\n",
        "# Are the keys of that dictionary correct?\n",
        "assert sorted(list(response.keys())) == [\"records_inserted\", \"transaction_successful\"]"
      ]
    },
    {
      "cell_type": "markdown",
      "id": "7a23e148-e5ff-4f06-b708-9efed1306c10",
      "metadata": {
        "deletable": false,
        "editable": false,
        "id": "7a23e148-e5ff-4f06-b708-9efed1306c10"
      },
      "source": [
        "Se nosso método estiver passando as instruções `assert`, sabemos que ele está retornando um registro da transação no banco de dados, mas ainda precisamos verificar se os dados foram realmente adicionados ao banco de dados."
      ]
    },
    {
      "cell_type": "markdown",
      "id": "e955cbbb-01cc-4c2d-8daf-16288aa250db",
      "metadata": {
        "deletable": false,
        "editable": false,
        "id": "e955cbbb-01cc-4c2d-8daf-16288aa250db"
      },
      "source": [
        "### Exercício:\n",
        "Escreva uma consulta SQL para obter as **cinco primeiras linhas** da tabela de dados da Suzlon que você acabou de inserir no banco de dados."
      ]
    },
    {
      "cell_type": "code",
      "execution_count": null,
      "id": "7757a902-f0eb-4dfe-a11f-a4bc328ceb69",
      "metadata": {
        "deletable": false,
        "id": "7757a902-f0eb-4dfe-a11f-a4bc328ceb69"
      },
      "outputs": [],
      "source": [
        "\n",
        "%sql sqlite:///"
      ]
    },
    {
      "cell_type": "code",
      "execution_count": null,
      "id": "9d49b614-60bf-4759-a18f-71361ce2a88c",
      "metadata": {
        "deletable": false,
        "id": "9d49b614-60bf-4759-a18f-71361ce2a88c"
      },
      "outputs": [],
      "source": [
        "%%sql\n",
        "\n"
      ]
    },
    {
      "cell_type": "markdown",
      "id": "1f599a58-461c-4dae-9372-328f4241aa29",
      "metadata": {
        "deletable": false,
        "editable": false,
        "id": "1f599a58-461c-4dae-9372-328f4241aa29"
      },
      "source": [
        "Podemos inserir dados no nosso banco de dados, mas não devemos esquecer que também precisamos ler dados dele. A leitura será um pouco mais complexa do que a inserção, então vamos começar escrevendo o código neste notebook antes de incorporá-lo à nossa classe `SQLRepository`."
      ]
    },
    {
      "cell_type": "markdown",
      "id": "141e2c94-3a4f-4d8b-a84c-3cfb814d90ce",
      "metadata": {
        "deletable": false,
        "editable": false,
        "id": "141e2c94-3a4f-4d8b-a84c-3cfb814d90ce"
      },
      "source": [
        "### Exercício:\n",
        "Primeiro, escreva uma consulta SQL para obter **todos** os dados da Suzlon. Em seguida, use o pandas para extrair os dados do banco de dados e ler em um DataFrame, chamado `df_suzlon_test`."
      ]
    },
    {
      "cell_type": "code",
      "execution_count": null,
      "id": "088da36d-e462-4be4-9f1a-c52586efce5a",
      "metadata": {
        "deletable": false,
        "id": "088da36d-e462-4be4-9f1a-c52586efce5a"
      },
      "outputs": [],
      "source": [
        "sql = ...\n",
        "df_suzlon_test = ...\n",
        "\n",
        "print(\"df_suzlon_test type:\", type(df_suzlon_test))\n",
        "print()\n",
        "print(df_suzlon_test.info())\n",
        "df_suzlon_test.head()"
      ]
    },
    {
      "cell_type": "markdown",
      "id": "90924b2f",
      "metadata": {
        "deletable": false,
        "editable": false,
        "id": "90924b2f"
      },
      "source": [
        "Agora que sabemos como ler uma tabela do nosso banco de dados, vamos transformar nosso código em uma função adequada. Mas, como estamos fazendo design reverso, precisamos começar com nossos testes."
      ]
    },
    {
      "cell_type": "markdown",
      "id": "ba48f1ad-fc92-488b-9d79-368be138df52",
      "metadata": {
        "deletable": false,
        "editable": false,
        "id": "ba48f1ad-fc92-488b-9d79-368be138df52"
      },
      "source": [
        "### Exercício:\n",
        "Complete as declarações `assert` abaixo para testar sua função `read_table`. Use os comentários como guia."
      ]
    },
    {
      "cell_type": "code",
      "execution_count": null,
      "id": "9d89c5e7-a3d8-4ce7-9dd1-654cab786e20",
      "metadata": {
        "deletable": false,
        "tags": [
          "raises-exception"
        ],
        "id": "9d89c5e7-a3d8-4ce7-9dd1-654cab786e20"
      },
      "outputs": [],
      "source": [
        "# Assign `read_table` output to `df_suzlon`\n",
        "df_suzlon = read_table(table_name=\"SUZLON.BSE\", limit=2500)  # noQA F821\n",
        "\n",
        "# Is `df_suzlon` a DataFrame?\n",
        "\n",
        "\n",
        "# Does it have a `DatetimeIndex`?\n",
        "\n",
        "\n",
        "# Is the index named \"date\"?\n",
        "\n",
        "\n",
        "# Does it have 2,500 rows and 5 columns?\n",
        "\n",
        "\n",
        "# Are the column names correct?\n",
        "\n",
        "\n",
        "# Are the column data types correct?\n",
        "\n",
        "\n",
        "# Print `df_suzlon` info\n",
        "print(\"df_suzlon shape:\", df_suzlon.shape)\n",
        "print()\n",
        "print(df_suzlon.info())\n",
        "df_suzlon.head()"
      ]
    },
    {
      "cell_type": "markdown",
      "id": "363900a4",
      "metadata": {
        "deletable": false,
        "editable": false,
        "id": "363900a4"
      },
      "source": [
        "__Dica:__ Você não poderá executar este bloco de código ☝️ até completar a tarefa abaixo. 👇"
      ]
    },
    {
      "cell_type": "markdown",
      "id": "23275ea4-d927-4491-8bca-cc67097cae7a",
      "metadata": {
        "deletable": false,
        "editable": false,
        "id": "23275ea4-d927-4491-8bca-cc67097cae7a"
      },
      "source": [
        "### Exercício:\n",
        "Expanda o código que você escreveu acima para completar a função `read_table` abaixo. Use a docstring como um guia."
      ]
    },
    {
      "cell_type": "markdown",
      "id": "df998521-2247-4c21-9617-494032d59511",
      "metadata": {
        "deletable": false,
        "editable": false,
        "id": "df998521-2247-4c21-9617-494032d59511"
      },
      "source": [
        "__Dica:__ Lembre-se de que armazenamos nossos dados ordenados de forma <b>decrescente</b> pela data. Isso definitivamente facilitará a implementação do <code>read_table</code>!"
      ]
    },
    {
      "cell_type": "code",
      "execution_count": null,
      "id": "88dc894f-3953-4d6c-8d05-5ab0dd51ad95",
      "metadata": {
        "deletable": false,
        "id": "88dc894f-3953-4d6c-8d05-5ab0dd51ad95"
      },
      "outputs": [],
      "source": [
        "def read_table():\n",
        "\n",
        "    \"\"\"Read table from database.\n",
        "\n",
        "    Parameters\n",
        "    ----------\n",
        "    table_name : str\n",
        "        Name of table in SQLite database.\n",
        "    limit : int, None, optional\n",
        "        Number of most recent records to retrieve. If `None`, all\n",
        "        records are retrieved. By default, `None`.\n",
        "\n",
        "    Returns\n",
        "    -------\n",
        "    pd.DataFrame\n",
        "        Index is DatetimeIndex \"date\". Columns are 'open', 'high',\n",
        "        'low', 'close', and 'volume'. All columns are numeric.\n",
        "    \"\"\"\n",
        "    # Create SQL query (with optional limit)\n",
        "    sql = ...\n",
        "\n",
        "\n",
        "    # Retrieve data, read into DataFrame\n",
        "    df = ...\n",
        "\n",
        "    # Return DataFrame\n",
        "    return df"
      ]
    },
    {
      "cell_type": "markdown",
      "id": "b2fb4e46-3af8-489c-924c-a2ad9f973b37",
      "metadata": {
        "deletable": false,
        "editable": false,
        "id": "b2fb4e46-3af8-489c-924c-a2ad9f973b37"
      },
      "source": [
        "### Exercício:\n",
        "Transforme a função `read_table` em um método da sua classe `SQLRepository`."
      ]
    },
    {
      "cell_type": "markdown",
      "id": "0ce86bf2-4246-4f84-8f4e-c4b42acc7676",
      "metadata": {
        "deletable": false,
        "editable": false,
        "id": "0ce86bf2-4246-4f84-8f4e-c4b42acc7676"
      },
      "source": [
        "### Exercício:\n",
        "Volte à tarefa 11 e altere o código para que você teste o método da sua classe em vez da função do notebook."
      ]
    },
    {
      "cell_type": "markdown",
      "id": "76507396-e592-4704-9c56-c2a64d817fa6",
      "metadata": {
        "deletable": false,
        "editable": false,
        "id": "76507396-e592-4704-9c56-c2a64d817fa6"
      },
      "source": [
        "Excelente! Temos tudo o que precisamos para obter dados do AlphaVantage, salvar esses dados em nosso banco de dados e acessá-los mais tarde. Agora é hora de fazer uma pequena análise exploratória para comparar as ações das duas empresas para as quais temos dados."
      ]
    },
    {
      "cell_type": "markdown",
      "id": "95b3fb61-9b65-438f-8ed4-08b1e52e63cc",
      "metadata": {
        "deletable": false,
        "editable": false,
        "id": "95b3fb61-9b65-438f-8ed4-08b1e52e63cc"
      },
      "source": [
        "# Comparar Retorno de Ações"
      ]
    },
    {
      "cell_type": "markdown",
      "id": "90e82934-8192-43a2-a700-30a2fd64d678",
      "metadata": {
        "deletable": false,
        "editable": false,
        "id": "90e82934-8192-43a2-a700-30a2fd64d678"
      },
      "source": [
        "Já temos os dados da Suzlon Energy em nosso banco de dados, mas precisamos adicionar os dados da Ambuja Cement antes de podermos comparar as duas ações."
      ]
    },
    {
      "cell_type": "markdown",
      "id": "7070d872-2f79-4a1b-bdf6-ac5b9354f9ec",
      "metadata": {
        "deletable": false,
        "editable": false,
        "id": "7070d872-2f79-4a1b-bdf6-ac5b9354f9ec"
      },
      "source": [
        "### Exercício:\n",
        "Use as instâncias das classes `AlphaVantageAPI` e `SQLRepository` que você criou nesta lição (`av` e `repo`, respectivamente) para obter os dados de ações da Ambuja Cement e armazená-los no banco de dados."
      ]
    },
    {
      "cell_type": "code",
      "execution_count": null,
      "id": "877ec8a6-1a9e-4ab5-b4d3-59e0248adaca",
      "metadata": {
        "deletable": false,
        "id": "877ec8a6-1a9e-4ab5-b4d3-59e0248adaca"
      },
      "outputs": [],
      "source": [
        "ticker = \"AMBUJACEM.BSE\"\n",
        "\n",
        "# Get Ambuja data using `av`\n",
        "ambuja_records = ...\n",
        "\n",
        "# Insert `ambuja_records` database using `repo`\n",
        "response = ...\n",
        "\n",
        "response"
      ]
    },
    {
      "cell_type": "markdown",
      "id": "006550f0-599d-47a7-ae8e-c59b21854809",
      "metadata": {
        "deletable": false,
        "editable": false,
        "id": "006550f0-599d-47a7-ae8e-c59b21854809"
      },
      "source": [
        "Vamos dar uma olhada nos dados para garantir que estamos obtendo o que precisamos."
      ]
    },
    {
      "cell_type": "markdown",
      "id": "111e376f-f8d6-454b-bffe-540d2e392371",
      "metadata": {
        "deletable": false,
        "editable": false,
        "id": "111e376f-f8d6-454b-bffe-540d2e392371"
      },
      "source": [
        "### Exercício:\n",
        "Usando o método `read_table` que você adicionou ao seu `SQLRepository`, extraia as 2.500 linhas mais recentes de dados da Ambuja Cement do banco de dados e atribua o resultado a `df_ambuja`."
      ]
    },
    {
      "cell_type": "code",
      "execution_count": null,
      "id": "645a6c99-a4ac-4525-8876-cf9ca89cb4d6",
      "metadata": {
        "deletable": false,
        "id": "645a6c99-a4ac-4525-8876-cf9ca89cb4d6"
      },
      "outputs": [],
      "source": [
        "ticker = \"AMBUJACEM.BSE\"\n",
        "df_ambuja = ...\n",
        "\n",
        "print(\"df_ambuja type:\", type(df_ambuja))\n",
        "print(\"df_ambuja shape:\", df_ambuja.shape)\n",
        "df_ambuja.head()"
      ]
    },
    {
      "cell_type": "markdown",
      "id": "a14158b0-ea28-4b0b-adb5-fc45103bd869",
      "metadata": {
        "deletable": false,
        "editable": false,
        "id": "a14158b0-ea28-4b0b-adb5-fc45103bd869"
      },
      "source": [
        "Já passamos bastante tempo observando esses dados, mas o que eles realmente representam? Acontece que o mercado de ações é muito parecido com qualquer outro mercado: as pessoas compram e vendem bens. Os preços desses bens podem subir ou descer dependendo de fatores como oferta e demanda. No caso de um mercado de ações, os bens sendo vendidos são ações (também chamadas de \"equities\" ou \"securities\"), que representam uma participação na propriedade de uma corporação.\n",
        "\n",
        "Durante cada dia de negociação, o preço de uma ação muda, então, quando estamos avaliando se uma ação pode ser um bom investimento, observamos quatro tipos de números: abertura (open), máximo (high), mínimo (low), fechamento (close) e volume (volume). **Abertura (Open)** é exatamente o que parece: o preço de venda de uma ação quando o mercado abre para o dia. Da mesma forma, **fechamento (Close)** é o preço de venda de uma ação quando o mercado fecha no final do dia, e **máximo (High)** e **mínimo (Low)** são os preços máximo e mínimo de uma ação ao longo do dia. **Volume** é o número de ações de uma determinada empresa que foram compradas e vendidas naquele dia. De modo geral, uma empresa cujas ações tiveram um grande volume de negociação verá mais variação de preço ao longo do dia do que uma empresa cujas ações foram negociadas de forma mais leve.\n",
        "\n",
        "Vamos visualizar como o preço da Ambuja Cement mudou na última década."
      ]
    },
    {
      "cell_type": "markdown",
      "id": "efd079bf-b7c4-4b04-a583-50678306daaa",
      "metadata": {
        "deletable": false,
        "editable": false,
        "id": "efd079bf-b7c4-4b04-a583-50678306daaa"
      },
      "source": [
        "### Exercício:\n",
        "Plote o preço de fechamento de `df_ambuja`. Certifique-se de rotular seus eixos e incluir uma legenda."
      ]
    },
    {
      "cell_type": "code",
      "execution_count": null,
      "id": "4904ceb7-832a-4cf3-bf99-6913d984f9f1",
      "metadata": {
        "deletable": false,
        "id": "4904ceb7-832a-4cf3-bf99-6913d984f9f1"
      },
      "outputs": [],
      "source": [
        "fig, ax = plt.subplots(figsize=(15, 6))\n",
        "# Plot `df_ambuja` closing price\n",
        "\n",
        "\n",
        "# Label axes\n",
        "\n",
        "\n",
        "\n",
        "# Add legend\n"
      ]
    },
    {
      "cell_type": "markdown",
      "id": "178995dd-eb82-49a4-90b7-978bb22ec100",
      "metadata": {
        "deletable": false,
        "editable": false,
        "id": "178995dd-eb82-49a4-90b7-978bb22ec100"
      },
      "source": [
        "Vamos adicionar o preço de fechamento da Suzlon ao nosso gráfico para que possamos comparar os dois."
      ]
    },
    {
      "cell_type": "markdown",
      "id": "69c60268-0e80-4273-9687-7aae48197885",
      "metadata": {
        "deletable": false,
        "editable": false,
        "id": "69c60268-0e80-4273-9687-7aae48197885"
      },
      "source": [
        "### Exercício:\n",
        "Crie um gráfico que mostre os preços de fechamento de `df_suzlon` e `df_ambuja`. Novamente, rotule seus eixos e inclua uma legenda."
      ]
    },
    {
      "cell_type": "code",
      "execution_count": null,
      "id": "a4b12ff3-d790-4ad2-b1f8-22e97a1149e4",
      "metadata": {
        "deletable": false,
        "id": "a4b12ff3-d790-4ad2-b1f8-22e97a1149e4"
      },
      "outputs": [],
      "source": [
        "fig, ax = plt.subplots(figsize=(15, 6))\n",
        "# Plot `df_suzlon` and `df_ambuja`\n",
        "\n",
        "\n",
        "\n",
        "# Label axes\n",
        "\n",
        "\n",
        "\n",
        "# Add legend\n"
      ]
    },
    {
      "cell_type": "markdown",
      "id": "f1f00230-e924-4cee-828d-ac69bff887c4",
      "metadata": {
        "deletable": false,
        "editable": false,
        "id": "f1f00230-e924-4cee-828d-ac69bff887c4"
      },
      "source": [
        "Olhando para este gráfico, podemos concluir que a Ambuja Cement é uma ação \"melhor\" do que a Suzlon Energy, pois seu preço é mais alto. Mas o preço é apenas um fator que um investidor deve considerar ao criar uma estratégia de investimento. O que é definitivamente verdade é que é difícil fazer uma comparação direta entre essas duas ações, pois há uma diferença de preço tão grande.\n",
        "\n",
        "Uma maneira de os investidores compararem ações é observando seus **retornos**. Um retorno é a mudança de valor em um investimento, representada como uma porcentagem. Então, vamos analisar os retornos diários de nossas duas ações."
      ]
    },
    {
      "cell_type": "markdown",
      "id": "d0e2da22-819d-4e67-8d20-8abe1d34c0c3",
      "metadata": {
        "deletable": false,
        "editable": false,
        "id": "d0e2da22-819d-4e67-8d20-8abe1d34c0c3"
      },
      "source": [
        "### Exercício:\n",
        "Adicione uma coluna `\"return\"` ao `df_ambuja` que mostre a mudança percentual na coluna `\"close\"` de um dia para o outro."
      ]
    },
    {
      "cell_type": "markdown",
      "id": "94587ffb-277a-4e0e-801e-d6017956504f",
      "metadata": {
        "deletable": false,
        "editable": false,
        "id": "94587ffb-277a-4e0e-801e-d6017956504f"
      },
      "source": [
        "__Dica:__ Nossos dois DataFrames estão ordenados de forma <b>decrescente</b> por data, mas você precisará garantir que estejam ordenados de forma <b>crescente</b> para calcular seus retornos."
      ]
    },
    {
      "cell_type": "code",
      "execution_count": null,
      "id": "00c4020b-5304-4b59-bcfc-ba90bd05e5ed",
      "metadata": {
        "deletable": false,
        "id": "00c4020b-5304-4b59-bcfc-ba90bd05e5ed"
      },
      "outputs": [],
      "source": [
        "# Sort DataFrame ascending by date\n",
        "\n",
        "\n",
        "# Create \"return\" column\n",
        "\n",
        "\n",
        "print(\"df_ambuja shape:\", df_ambuja.shape)\n",
        "print(df_ambuja.info())\n",
        "df_ambuja.head()"
      ]
    },
    {
      "cell_type": "markdown",
      "id": "7eb59639-3ea3-4519-a87f-0f723a1be4d5",
      "metadata": {
        "deletable": false,
        "editable": false,
        "id": "7eb59639-3ea3-4519-a87f-0f723a1be4d5"
      },
      "source": [
        "### Exercício:\n",
        "Adicione uma coluna `\"return\"` ao `df_suzlon` que mostre a variação percentual na coluna `\"close\"` de um dia para o outro."
      ]
    },
    {
      "cell_type": "code",
      "execution_count": null,
      "id": "3076a820-add7-4541-95df-b4cda12c5fbc",
      "metadata": {
        "deletable": false,
        "id": "3076a820-add7-4541-95df-b4cda12c5fbc"
      },
      "outputs": [],
      "source": [
        "# Sort DataFrame ascending by date\n",
        "\n",
        "\n",
        "# Create \"return\" column\n",
        "\n",
        "\n",
        "print(\"df_suzlon shape:\", df_suzlon.shape)\n",
        "print(df_suzlon.info())\n",
        "df_suzlon.head()"
      ]
    },
    {
      "cell_type": "markdown",
      "id": "e04ec796-6fda-416a-9257-11dddae0b628",
      "metadata": {
        "deletable": false,
        "editable": false,
        "id": "e04ec796-6fda-416a-9257-11dddae0b628"
      },
      "source": [
        "Agora vamos plotar os retornos das nossas duas empresas e ver como as duas se comparam."
      ]
    },
    {
      "cell_type": "markdown",
      "id": "d85d36bb-6b5c-4f31-a8af-47240071ee6b",
      "metadata": {
        "deletable": false,
        "editable": false,
        "id": "d85d36bb-6b5c-4f31-a8af-47240071ee6b"
      },
      "source": [
        "### Exercício:\n",
        "Plote os retornos de `df_suzlon` e `df_ambuja`. Certifique-se de rotular seus eixos e usar uma legenda."
      ]
    },
    {
      "cell_type": "code",
      "execution_count": null,
      "id": "d95138c2-4fc2-4b42-96f2-62ab7e9ab874",
      "metadata": {
        "deletable": false,
        "id": "d95138c2-4fc2-4b42-96f2-62ab7e9ab874"
      },
      "outputs": [],
      "source": [
        "fig, ax = plt.subplots(figsize=(15, 6))\n",
        "# Plot returns for `df_suzlon` and `df_ambuja`\n",
        "\n",
        "\n",
        "\n",
        "# Label axes\n",
        "\n",
        "\n",
        "\n",
        "# Add legend\n"
      ]
    },
    {
      "cell_type": "markdown",
      "id": "6cd81a16-179a-47b2-8ab5-532f19cbf55a",
      "metadata": {
        "deletable": false,
        "editable": false,
        "id": "6cd81a16-179a-47b2-8ab5-532f19cbf55a"
      },
      "source": [
        "Sucesso! Ao representar os retornos como uma porcentagem, conseguimos comparar duas ações que têm preços muito diferentes. Mas o que essa visualização está nos dizendo? Podemos ver que os retornos da Suzlon têm uma variação maior. Observamos grandes ganhos e grandes perdas. Em contraste, a variação da Ambuja é mais estreita, o que significa que o preço não flutua tanto.\n",
        "\n",
        "Outro nome para essa flutuação diária nos retornos é chamado de [**volatilidade**](https://en.wikipedia.org/wiki/Volatility_(finance)), que é outro fator importante para os investidores. Portanto, na próxima lição, aprenderemos mais sobre volatilidade e, em seguida, construiremos um modelo de séries temporais para prever isso."
      ]
    }
  ],
  "metadata": {
    "kernelspec": {
      "display_name": "Python 3 (ipykernel)",
      "language": "python",
      "name": "python3"
    },
    "language_info": {
      "codemirror_mode": {
        "name": "ipython",
        "version": 3
      },
      "file_extension": ".py",
      "mimetype": "text/x-python",
      "name": "python",
      "nbconvert_exporter": "python",
      "pygments_lexer": "ipython3",
      "version": "3.11.4"
    },
    "colab": {
      "provenance": []
    }
  },
  "nbformat": 4,
  "nbformat_minor": 5
}