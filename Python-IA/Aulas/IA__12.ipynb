{
 "cells": [
  {
   "cell_type": "markdown",
   "id": "e5b95a10-df83-4725-b2c6-0ea418ac82ec",
   "metadata": {
    "deletable": false,
    "editable": false,
    "id": "e5b95a10-df83-4725-b2c6-0ea418ac82ec"
   },
   "source": [
    "# Getting data from APIs"
   ]
  },
  {
   "cell_type": "markdown",
   "id": "8c31416c-80ab-415d-8908-9c2aca26a4be",
   "metadata": {
    "deletable": false,
    "editable": false,
    "id": "8c31416c-80ab-415d-8908-9c2aca26a4be"
   },
   "source": [
    "Você não pode construir um modelo sem dados, certo? Em projetos anteriores, trabalhamos com dados armazenados em arquivos (como um CSV) ou bancos de dados (como SQL). Neste projeto, vamos obter nossos dados de um servidor web usando uma API.\n",
    "\n",
    "Então, nesta lição, vamos aprender o que é uma API e como extrair dados de uma. Também vamos trabalhar na transformação de nossos dados em um formato gerenciável. Vamos lá!"
   ]
  },
  {
   "cell_type": "code",
   "execution_count": 1,
   "id": "27cbbaa1-1661-4dc1-bab0-30d86c4c41cb",
   "metadata": {
    "deletable": false,
    "editable": false,
    "id": "27cbbaa1-1661-4dc1-bab0-30d86c4c41cb",
    "init_cell": true
   },
   "outputs": [],
   "source": [
    "import pandas as pd\n",
    "import requests"
   ]
  },
  {
   "cell_type": "markdown",
   "id": "0d08d7ab-dff6-406f-a56f-c1281df543f6",
   "metadata": {
    "deletable": false,
    "editable": false,
    "id": "0d08d7ab-dff6-406f-a56f-c1281df543f6"
   },
   "source": [
    "# Acessando APIs através de uma URL"
   ]
  },
  {
   "cell_type": "markdown",
   "id": "455fce49-6084-4511-ac3b-24e4506a9778",
   "metadata": {
    "deletable": false,
    "editable": false,
    "id": "455fce49-6084-4511-ac3b-24e4506a9778"
   },
   "source": [
    "Nesta lição, vamos extrair informações do mercado de ações da API [AlphaVantage](https://alphavantage.co/). Para entender como uma API funciona, considere a URL abaixo.\n",
    "\n",
    "Tire um momento para ler o texto do link em si, depois clique nele e examine os dados que aparecem no seu navegador. Qual é o formato dos dados? Quais dados estão incluídos? Como eles estão organizados?"
   ]
  },
  {
   "cell_type": "markdown",
   "id": "db78658d-cffc-41ce-a95e-015024f89e16",
   "metadata": {
    "deletable": false,
    "editable": false,
    "id": "db78658d-cffc-41ce-a95e-015024f89e16"
   },
   "source": [
    "https://www.alphavantage.co/query?function=TIME_SERIES_DAILY&symbol=IBM&apikey=demo"
   ]
  },
  {
   "cell_type": "markdown",
   "id": "cbc39541-bc72-46c8-9183-b7dac7d591f3",
   "metadata": {
    "deletable": false,
    "editable": false,
    "id": "cbc39541-bc72-46c8-9183-b7dac7d591f3"
   },
   "source": [
    "Observe que esta URL possui vários componentes. Vamos analisá-los um por um.\n",
    "\n",
    "| URL | Componente |\n",
    "|:--- | :-------- |\n",
    "| `https://www.alphavantage.co` | Este é o **hostname** ou **URL base**. É o endereço web do servidor onde podemos obter nossos dados de ações. |\n",
    "| `/query` | Este é o **caminho**. A maioria das APIs tem várias operações diferentes que podem ser feitas. O caminho é o nome da operação específica que queremos acessar. |\n",
    "| `?` | Este ponto de interrogação indica que tudo o que segue na URL é um **parâmetro**. Cada parâmetro é separado por um caractere `&`. Esses parâmetros fornecem informações adicionais que irão modificar o comportamento da operação. Isso é semelhante à forma como passamos **argumentos** para funções em Python. |\n",
    "| `function=TIME_SERIES_DAILY` | Nosso primeiro parâmetro usa a palavra-chave `function`. O valor é `TIME_SERIES_DAILY`. Neste caso, estamos pedindo dados de ações **diários**. |\n",
    "| `symbol=IBM` | Nosso segundo parâmetro usa a palavra-chave `symbol`. Portanto, estamos pedindo dados de uma ação cujo [**ticker symbol**](https://en.wikipedia.org/wiki/Ticker_symbol) é `IBM`. |\n",
    "| `apikey=demo` | Da mesma forma que você precisa de uma senha para acessar alguns sites, uma **chave de API** ou **token de API** é a senha que você usará para acessar a API. |"
   ]
  },
  {
   "cell_type": "markdown",
   "id": "511f8afa-d99f-487b-b12f-0e497acb9975",
   "metadata": {
    "deletable": false,
    "editable": false,
    "id": "511f8afa-d99f-487b-b12f-0e497acb9975"
   },
   "source": [
    "Agora que temos uma noção dos componentes da URL que obtém informações do AlphaVantage, vamos criar a nossa própria para uma ação diferente."
   ]
  },
  {
   "cell_type": "markdown",
   "id": "5a2767fb-c1b5-4a49-be2b-e00ad431c89b",
   "metadata": {
    "deletable": false,
    "editable": false,
    "id": "5a2767fb-c1b5-4a49-be2b-e00ad431c89b"
   },
   "source": [
    "### Exercício:\n",
    "Usando a URL acima como modelo, crie uma nova URL para obter os dados da [Ambuja Cement](https://www.ambujacement.com/). com o ticker sendo `\"AMBUJACEM.BSE\"`.\n"
   ]
  },
  {
   "cell_type": "code",
   "execution_count": 2,
   "id": "c3035765-16e2-4750-8bc6-0f4f4fcf2cda",
   "metadata": {
    "colab": {
     "base_uri": "https://localhost:8080/",
     "height": 53
    },
    "deletable": false,
    "id": "c3035765-16e2-4750-8bc6-0f4f4fcf2cda",
    "outputId": "7869c4e4-1f4c-4e38-c465-1cb1ae7eb880"
   },
   "outputs": [
    {
     "name": "stdout",
     "output_type": "stream",
     "text": [
      "url type: <class 'str'>\n"
     ]
    },
    {
     "data": {
      "application/vnd.google.colaboratory.intrinsic+json": {
       "type": "string"
      },
      "text/plain": [
       "'https://www.alphavantage.co/query?function=TIME_SERIES_DAILY&symbol=AMBUJACEM.BSE&apikey=demo'"
      ]
     },
     "execution_count": 2,
     "metadata": {},
     "output_type": "execute_result"
    }
   ],
   "source": [
    "url = (\n",
    "    \"https://www.alphavantage.co\"    # URL base\n",
    "    \"/query?\"                        # caminho\n",
    "    \"function=TIME_SERIES_DAILY&\"    # param\n",
    "    \"symbol=AMBUJACEM.BSE&\"          # param\n",
    "    \"apikey=demo\"                    # param\n",
    ")\n",
    "\n",
    "print(\"url type:\", type(url))\n",
    "url"
   ]
  },
  {
   "cell_type": "markdown",
   "id": "e2af814b-6763-4ac1-8522-177b05af7fd0",
   "metadata": {
    "deletable": false,
    "editable": false,
    "id": "e2af814b-6763-4ac1-8522-177b05af7fd0"
   },
   "source": [
    "Oh não! Um problema. Parece que precisamos da nossa própria chave de API para acessar os dados.\n",
    "\n",
    "Como você pode imaginar, uma chave de API é uma informação que deve ser mantida em sigilo, então é uma má ideia incluí-la no código da nossa aplicação. Quando se trata de informações sensíveis como esta, desenvolvedores e cientistas de dados as armazenam como uma [variável de ambiente](https://en.wikipedia.org/wiki/Environment_variable) que é mantida em um arquivo `.env`."
   ]
  },
  {
   "cell_type": "markdown",
   "id": "f9e17d6f-ad83-42aa-80d7-3eb9b68c07d2",
   "metadata": {
    "deletable": false,
    "editable": false,
    "id": "f9e17d6f-ad83-42aa-80d7-3eb9b68c07d2"
   },
   "source": [
    "### Exercício:\n",
    "Obtenha sua chave de API e a salve em seu arquivo `.env`."
   ]
  },
  {
   "cell_type": "markdown",
   "id": "5946c555-bbdf-4215-af61-01c179b08f91",
   "metadata": {
    "deletable": false,
    "editable": false,
    "id": "5946c555-bbdf-4215-af61-01c179b08f91"
   },
   "source": [
    "Agora que armazenamos nossa chave de API, precisamos importá-la para o nosso código. Isso é comumente feito criando um módulo `config`."
   ]
  },
  {
   "cell_type": "markdown",
   "id": "fcf49f12-a40c-43e7-bff1-85f6df92f214",
   "metadata": {
    "deletable": false,
    "editable": false,
    "id": "fcf49f12-a40c-43e7-bff1-85f6df92f214"
   },
   "source": [
    "### Exercício:\n",
    "Importe a variável `settings` do módulo `config`. Em seguida, use o comando `dir` para ver quais atributos ela possui."
   ]
  },
  {
   "cell_type": "code",
   "execution_count": 10,
   "id": "bdc5f2da",
   "metadata": {
    "colab": {
     "base_uri": "https://localhost:8080/"
    },
    "deletable": false,
    "id": "bdc5f2da",
    "outputId": "5048c845-5b2b-4f12-cdbd-1920fcf9e394"
   },
   "outputs": [
    {
     "data": {
      "text/plain": [
       "['Config',\n",
       " '__abstractmethods__',\n",
       " '__annotations__',\n",
       " '__class__',\n",
       " '__class_getitem__',\n",
       " '__class_vars__',\n",
       " '__copy__',\n",
       " '__deepcopy__',\n",
       " '__delattr__',\n",
       " '__dict__',\n",
       " '__dir__',\n",
       " '__doc__',\n",
       " '__eq__',\n",
       " '__fields__',\n",
       " '__fields_set__',\n",
       " '__format__',\n",
       " '__ge__',\n",
       " '__get_pydantic_core_schema__',\n",
       " '__get_pydantic_json_schema__',\n",
       " '__getattr__',\n",
       " '__getattribute__',\n",
       " '__getstate__',\n",
       " '__gt__',\n",
       " '__hash__',\n",
       " '__init__',\n",
       " '__init_subclass__',\n",
       " '__iter__',\n",
       " '__le__',\n",
       " '__lt__',\n",
       " '__module__',\n",
       " '__ne__',\n",
       " '__new__',\n",
       " '__pretty__',\n",
       " '__private_attributes__',\n",
       " '__pydantic_complete__',\n",
       " '__pydantic_core_schema__',\n",
       " '__pydantic_custom_init__',\n",
       " '__pydantic_decorators__',\n",
       " '__pydantic_extra__',\n",
       " '__pydantic_fields_set__',\n",
       " '__pydantic_generic_metadata__',\n",
       " '__pydantic_init_subclass__',\n",
       " '__pydantic_parent_namespace__',\n",
       " '__pydantic_post_init__',\n",
       " '__pydantic_private__',\n",
       " '__pydantic_root_model__',\n",
       " '__pydantic_serializer__',\n",
       " '__pydantic_validator__',\n",
       " '__reduce__',\n",
       " '__reduce_ex__',\n",
       " '__repr__',\n",
       " '__repr_args__',\n",
       " '__repr_name__',\n",
       " '__repr_str__',\n",
       " '__rich_repr__',\n",
       " '__setattr__',\n",
       " '__setstate__',\n",
       " '__signature__',\n",
       " '__sizeof__',\n",
       " '__slots__',\n",
       " '__str__',\n",
       " '__subclasshook__',\n",
       " '__weakref__',\n",
       " '_abc_impl',\n",
       " '_calculate_keys',\n",
       " '_check_frozen',\n",
       " '_copy_and_set_values',\n",
       " '_get_value',\n",
       " '_iter',\n",
       " '_settings_build_values',\n",
       " 'alpha_api_key',\n",
       " 'construct',\n",
       " 'copy',\n",
       " 'db_name',\n",
       " 'dict',\n",
       " 'from_orm',\n",
       " 'json',\n",
       " 'model_computed_fields',\n",
       " 'model_config',\n",
       " 'model_construct',\n",
       " 'model_copy',\n",
       " 'model_directory',\n",
       " 'model_dump',\n",
       " 'model_dump_json',\n",
       " 'model_extra',\n",
       " 'model_fields',\n",
       " 'model_fields_set',\n",
       " 'model_json_schema',\n",
       " 'model_parametrized_name',\n",
       " 'model_post_init',\n",
       " 'model_rebuild',\n",
       " 'model_validate',\n",
       " 'model_validate_json',\n",
       " 'model_validate_strings',\n",
       " 'parse_file',\n",
       " 'parse_obj',\n",
       " 'parse_raw',\n",
       " 'schema',\n",
       " 'schema_json',\n",
       " 'settings_customise_sources',\n",
       " 'update_forward_refs',\n",
       " 'validate']"
      ]
     },
     "execution_count": 10,
     "metadata": {},
     "output_type": "execute_result"
    }
   ],
   "source": [
    "# Import settings\n",
    "# !pip install pydantic\n",
    "from config import settings\n",
    "\n",
    "# Use `dir` to list attributes\n",
    "dir(settings)"
   ]
  },
  {
   "cell_type": "code",
   "execution_count": null,
   "id": "Yc63Zh4o-PE5",
   "metadata": {
    "id": "Yc63Zh4o-PE5"
   },
   "outputs": [],
   "source": [
    "settings.alpha_api_key"
   ]
  },
  {
   "cell_type": "markdown",
   "id": "015b1f5e-9866-408d-995a-e9110c06b88d",
   "metadata": {
    "deletable": false,
    "editable": false,
    "id": "015b1f5e-9866-408d-995a-e9110c06b88d"
   },
   "source": [
    "### Exercício:\n",
    "Crie uma nova URL para `\"AMBUJACEM.BSE\"`:\n"
   ]
  },
  {
   "cell_type": "code",
   "execution_count": 11,
   "id": "c194a746",
   "metadata": {
    "colab": {
     "base_uri": "https://localhost:8080/",
     "height": 53
    },
    "deletable": false,
    "id": "c194a746",
    "outputId": "27c719cf-881f-4ca9-893d-45d4060fac16"
   },
   "outputs": [
    {
     "name": "stdout",
     "output_type": "stream",
     "text": [
      "url type: <class 'str'>\n"
     ]
    },
    {
     "data": {
      "application/vnd.google.colaboratory.intrinsic+json": {
       "type": "string"
      },
      "text/plain": [
       "'https://www.alphavantage.co/query?function=TIME_SERIES_DAILY&symbol=AMBUJACEM.BSE&apikey=JWK8Z958ODBXS114'"
      ]
     },
     "execution_count": 11,
     "metadata": {},
     "output_type": "execute_result"
    }
   ],
   "source": [
    "url = (\n",
    "    \"https://www.alphavantage.co\"\n",
    "    \"/query?\"\n",
    "    \"function=TIME_SERIES_DAILY&\"\n",
    "    \"symbol=AMBUJACEM.BSE&\"\n",
    "    f\"apikey={settings.alpha_api_key}\"\n",
    ")\n",
    "\n",
    "print(\"url type:\", type(url))\n",
    "url"
   ]
  },
  {
   "cell_type": "markdown",
   "id": "b69ea6f1-060e-4513-b45e-e7d27e5d1d6a",
   "metadata": {
    "deletable": false,
    "editable": false,
    "id": "b69ea6f1-060e-4513-b45e-e7d27e5d1d6a"
   },
   "source": [
    "Está funcionando! Acontece que há muitos mais parâmetros. Vamos construir nossa URL para incluí-los."
   ]
  },
  {
   "cell_type": "markdown",
   "id": "0507309b-25a3-4984-bea3-792b97f4029c",
   "metadata": {
    "deletable": false,
    "editable": false,
    "id": "0507309b-25a3-4984-bea3-792b97f4029c"
   },
   "source": [
    "### Exercício:\n",
    "Vá até a documentação da [API AlphaVantage Time Series Daily](https://www.alphavantage.co/documentation/#daily). Amplie sua URL para incorporar todos os parâmetros listados na documentação. Além disso, para tornar sua URL mais dinâmica, crie nomes de variáveis para todos os parâmetros que podem ser adicionados à URL."
   ]
  },
  {
   "cell_type": "code",
   "execution_count": 17,
   "id": "f48b3383-8a31-4488-928a-10a766fb1832",
   "metadata": {
    "colab": {
     "base_uri": "https://localhost:8080/",
     "height": 70
    },
    "deletable": false,
    "id": "f48b3383-8a31-4488-928a-10a766fb1832",
    "outputId": "8a12e02d-0f8d-4b22-ca7c-0aa67ec589f2"
   },
   "outputs": [
    {
     "name": "stdout",
     "output_type": "stream",
     "text": [
      "url type: <class 'str'>\n"
     ]
    },
    {
     "data": {
      "application/vnd.google.colaboratory.intrinsic+json": {
       "type": "string"
      },
      "text/plain": [
       "'https://www.alphavantage.co/query?function=TIME_SERIES_DAILY&symbol=AMBUJACEM.BSE&outputsize=compact&datatype=json&apikey=JWK8Z958ODBXS114'"
      ]
     },
     "execution_count": 17,
     "metadata": {},
     "output_type": "execute_result"
    }
   ],
   "source": [
    "ticker = \"AMBUJACEM.BSE\"\n",
    "output_size = \"compact\"\n",
    "data_type = \"json\"\n",
    "\n",
    "url = (\n",
    "    \"https://www.alphavantage.co\"\n",
    "    \"/query?\"\n",
    "    \"function=TIME_SERIES_DAILY&\"\n",
    "    f\"symbol={ticker}&\"\n",
    "    f\"outputsize={output_size}&\"\n",
    "    f\"datatype={data_type}&\"\n",
    "    f\"apikey={settings.alpha_api_key}\"\n",
    ")\n",
    "\n",
    "print(\"url type:\", type(url))\n",
    "url"
   ]
  },
  {
   "cell_type": "markdown",
   "id": "989a8c6f-984a-4546-ab1c-e2d671695a9e",
   "metadata": {
    "deletable": false,
    "editable": false,
    "id": "989a8c6f-984a-4546-ab1c-e2d671695a9e"
   },
   "source": [
    "# Acessando APIs Através de uma Solicitação"
   ]
  },
  {
   "cell_type": "markdown",
   "id": "beeea08b-9e69-43cb-8e26-75a9b4dae6a6",
   "metadata": {
    "deletable": false,
    "editable": false,
    "id": "beeea08b-9e69-43cb-8e26-75a9b4dae6a6"
   },
   "source": [
    "Vimos como acessar a API AlphaVantage clicando em uma URL, mas isso não funcionará para a aplicação que estamos construindo neste projeto, pois apenas humanos clicam em URLs. Programas de computador acessam APIs fazendo **solicitações**. Vamos construir nossa primeira solicitação usando a URL que criamos na tarefa anterior."
   ]
  },
  {
   "cell_type": "markdown",
   "id": "9b9253d6-ea28-4f96-9124-f03fb784b087",
   "metadata": {
    "deletable": false,
    "editable": false,
    "id": "9b9253d6-ea28-4f96-9124-f03fb784b087"
   },
   "source": [
    "### Exercício:\n",
    "Use a biblioteca `requests` para fazer uma solicitação `get` à URL que você criou na tarefa anterior. Atribua a resposta à variável `response`."
   ]
  },
  {
   "cell_type": "code",
   "execution_count": 18,
   "id": "939d960f-6ace-4c13-b8ae-e62e2da9cc43",
   "metadata": {
    "colab": {
     "base_uri": "https://localhost:8080/"
    },
    "deletable": false,
    "id": "939d960f-6ace-4c13-b8ae-e62e2da9cc43",
    "outputId": "93a5c391-1432-4459-95c1-653210093d85"
   },
   "outputs": [
    {
     "name": "stdout",
     "output_type": "stream",
     "text": [
      "response type: <class 'requests.models.Response'>\n"
     ]
    }
   ],
   "source": [
    "response = requests.get(url=url)\n",
    "\n",
    "print(\"response type:\", type(response))"
   ]
  },
  {
   "cell_type": "markdown",
   "id": "9b19f01b-c976-4c4e-b58e-80868162652f",
   "metadata": {
    "deletable": false,
    "editable": false,
    "id": "9b19f01b-c976-4c4e-b58e-80868162652f"
   },
   "source": [
    "Isso nos informa que tipo de resposta recebemos, mas não nos diz nada sobre o que isso significa. Se quisermos descobrir quais tipos de dados estão realmente *na* resposta, precisaremos usar o comando `dir`."
   ]
  },
  {
   "cell_type": "markdown",
   "id": "565e1803-12ed-4ce6-ad78-0fc8adb8d822",
   "metadata": {
    "deletable": false,
    "editable": false,
    "id": "565e1803-12ed-4ce6-ad78-0fc8adb8d822"
   },
   "source": [
    "### Exercício:\n",
    "Use o comando `dir` para ver quais atributos e métodos a variável `response` possui."
   ]
  },
  {
   "cell_type": "code",
   "execution_count": 20,
   "id": "1cc5a19d-fbba-4fef-943d-054b36938fe0",
   "metadata": {
    "colab": {
     "base_uri": "https://localhost:8080/"
    },
    "deletable": false,
    "id": "1cc5a19d-fbba-4fef-943d-054b36938fe0",
    "outputId": "8600ce3d-e6c5-4780-e1ee-f3d69387281d"
   },
   "outputs": [
    {
     "data": {
      "text/plain": [
       "['__attrs__',\n",
       " '__bool__',\n",
       " '__class__',\n",
       " '__delattr__',\n",
       " '__dict__',\n",
       " '__dir__',\n",
       " '__doc__',\n",
       " '__enter__',\n",
       " '__eq__',\n",
       " '__exit__',\n",
       " '__format__',\n",
       " '__ge__',\n",
       " '__getattribute__',\n",
       " '__getstate__',\n",
       " '__gt__',\n",
       " '__hash__',\n",
       " '__init__',\n",
       " '__init_subclass__',\n",
       " '__iter__',\n",
       " '__le__',\n",
       " '__lt__',\n",
       " '__module__',\n",
       " '__ne__',\n",
       " '__new__',\n",
       " '__nonzero__',\n",
       " '__reduce__',\n",
       " '__reduce_ex__',\n",
       " '__repr__',\n",
       " '__setattr__',\n",
       " '__setstate__',\n",
       " '__sizeof__',\n",
       " '__str__',\n",
       " '__subclasshook__',\n",
       " '__weakref__',\n",
       " '_content',\n",
       " '_content_consumed',\n",
       " '_next',\n",
       " 'apparent_encoding',\n",
       " 'close',\n",
       " 'connection',\n",
       " 'content',\n",
       " 'cookies',\n",
       " 'elapsed',\n",
       " 'encoding',\n",
       " 'headers',\n",
       " 'history',\n",
       " 'is_permanent_redirect',\n",
       " 'is_redirect',\n",
       " 'iter_content',\n",
       " 'iter_lines',\n",
       " 'json',\n",
       " 'links',\n",
       " 'next',\n",
       " 'ok',\n",
       " 'raise_for_status',\n",
       " 'raw',\n",
       " 'reason',\n",
       " 'request',\n",
       " 'status_code',\n",
       " 'text',\n",
       " 'url']"
      ]
     },
     "execution_count": 20,
     "metadata": {},
     "output_type": "execute_result"
    }
   ],
   "source": [
    "# Use `dir` on your `response`\n",
    "dir(response)"
   ]
  },
  {
   "cell_type": "markdown",
   "id": "c88af2a2-baf3-42d6-87b4-0c48995ec6a9",
   "metadata": {
    "deletable": false,
    "editable": false,
    "id": "c88af2a2-baf3-42d6-87b4-0c48995ec6a9"
   },
   "source": [
    "O comando `dir` retorna uma lista e, como você pode ver, há muitas possibilidades aqui! Por enquanto, vamos nos concentrar em dois atributos: `status_code` e `text`."
   ]
  },
  {
   "cell_type": "markdown",
   "id": "af47e43d-42a6-4a72-9f43-f8fac2aa5a72",
   "metadata": {
    "deletable": false,
    "editable": false,
    "id": "af47e43d-42a6-4a72-9f43-f8fac2aa5a72"
   },
   "source": [
    "Começaremos com `status_code`. Sempre que você faz uma chamada para uma URL, a resposta inclui um [código de status HTTP](https://en.wikipedia.org/wiki/List_of_HTTP_status_codes) que pode ser acessado com o atributo `status_code`. Vamos ver qual é o nosso."
   ]
  },
  {
   "cell_type": "markdown",
   "id": "40cf4bf4-373a-493d-875c-b87133fea63b",
   "metadata": {
    "deletable": false,
    "editable": false,
    "id": "40cf4bf4-373a-493d-875c-b87133fea63b"
   },
   "source": [
    "### Exercício:\n",
    "Atribua o código de status da sua `response` à variável `response_code`."
   ]
  },
  {
   "cell_type": "code",
   "execution_count": 34,
   "id": "c1457f39-6bf5-4c2f-b532-098aae41e708",
   "metadata": {
    "colab": {
     "base_uri": "https://localhost:8080/"
    },
    "deletable": false,
    "id": "c1457f39-6bf5-4c2f-b532-098aae41e708",
    "outputId": "b63aca53-43be-4a3d-df70-3c3acafefb08"
   },
   "outputs": [
    {
     "name": "stdout",
     "output_type": "stream",
     "text": [
      "code type: <class 'int'>\n",
      "200\n"
     ]
    }
   ],
   "source": [
    "response_code = response.status_code\n",
    "\n",
    "print(\"code type:\", type(response_code))\n",
    "print(response_code)"
   ]
  },
  {
   "cell_type": "markdown",
   "id": "6adc6c5c-1913-4389-9260-37bb0c417329",
   "metadata": {
    "deletable": false,
    "editable": false,
    "id": "6adc6c5c-1913-4389-9260-37bb0c417329"
   },
   "source": [
    "Traduzido para o inglês, `200` significa \"OK\". É a resposta padrão para uma solicitação HTTP bem-sucedida. Em outras palavras, funcionou! Recebemos com sucesso os dados da API AlphaVantage.\n",
    "\n",
    "Agora vamos dar uma olhada no `text`."
   ]
  },
  {
   "cell_type": "markdown",
   "id": "22879f32",
   "metadata": {
    "deletable": false,
    "editable": false,
    "id": "22879f32"
   },
   "source": [
    "### Exercício:\n",
    "Atribua o texto da sua `response` à variável `response_text`."
   ]
  },
  {
   "cell_type": "code",
   "execution_count": 35,
   "id": "eaaec346",
   "metadata": {
    "colab": {
     "base_uri": "https://localhost:8080/"
    },
    "deletable": false,
    "id": "eaaec346",
    "outputId": "2df4602f-89c4-4fda-c3f6-30ac146836f3"
   },
   "outputs": [
    {
     "name": "stdout",
     "output_type": "stream",
     "text": [
      "response_text type: <class 'str'>\n",
      "{\n",
      "    \"Meta Data\": {\n",
      "        \"1. Information\": \"Daily Prices (open, high, low, close) and Volumes\",\n",
      "        \"2. Symbol\": \"AMBUJACEM.BSE\",\n",
      "        \"3. Last Refreshed\": \"2024-10-15\",\n",
      "        \"4. Output \n"
     ]
    }
   ],
   "source": [
    "response_text = response.text\n",
    "\n",
    "print(\"response_text type:\", type(response_text))\n",
    "print(response_text[:200])"
   ]
  },
  {
   "cell_type": "markdown",
   "id": "e34ff6e1-4949-4b39-872c-586dd9cfdecb",
   "metadata": {
    "deletable": false,
    "editable": false,
    "id": "e34ff6e1-4949-4b39-872c-586dd9cfdecb"
   },
   "source": [
    "Essa string parece com os dados que vimos anteriormente em nosso navegador quando clicamos na URL no exercício 5. Mas não podemos trabalhar com dados estruturados como JSON quando estão como uma string. Em vez disso, precisamos que eles estejam em um dicionário."
   ]
  },
  {
   "cell_type": "markdown",
   "id": "504c84be-9d80-47c7-bf0e-a1ef335837ec",
   "metadata": {
    "deletable": false,
    "editable": false,
    "id": "504c84be-9d80-47c7-bf0e-a1ef335837ec"
   },
   "source": [
    "### Exercício:\n",
    "Use o método `json` para acessar uma versão em dicionário dos dados. Atribua-a à variável chamada `response_data`."
   ]
  },
  {
   "cell_type": "code",
   "execution_count": 36,
   "id": "3d636dfc-bd90-4e78-b709-d2d1ef1e4ad2",
   "metadata": {
    "colab": {
     "base_uri": "https://localhost:8080/"
    },
    "deletable": false,
    "id": "3d636dfc-bd90-4e78-b709-d2d1ef1e4ad2",
    "outputId": "7440e407-c1da-47ce-efa1-e0a7667eaeae"
   },
   "outputs": [
    {
     "name": "stdout",
     "output_type": "stream",
     "text": [
      "response_data type: <class 'dict'>\n"
     ]
    }
   ],
   "source": [
    "response_data = response.json()\n",
    "\n",
    "print(\"response_data type:\", type(response_data))"
   ]
  },
  {
   "cell_type": "markdown",
   "id": "22b60cb3-32b0-48bc-823b-cc8ba381cd13",
   "metadata": {
    "deletable": false,
    "editable": false,
    "id": "22b60cb3-32b0-48bc-823b-cc8ba381cd13"
   },
   "source": [
    "Vamos verificar se os dados estão estruturados da mesma forma que vimos em nosso navegador."
   ]
  },
  {
   "cell_type": "markdown",
   "id": "66ecc542-a341-4064-81c2-5ca7022462b9",
   "metadata": {
    "deletable": false,
    "editable": false,
    "id": "66ecc542-a341-4064-81c2-5ca7022462b9"
   },
   "source": [
    "### Exercício:\n",
    "Imprima as chaves de `response_data`. Elas são o que você esperava?"
   ]
  },
  {
   "cell_type": "code",
   "execution_count": 37,
   "id": "93bfaff8-a2d7-4d10-813a-9dc2674c07d7",
   "metadata": {
    "colab": {
     "base_uri": "https://localhost:8080/"
    },
    "deletable": false,
    "id": "93bfaff8-a2d7-4d10-813a-9dc2674c07d7",
    "outputId": "d16dc72e-a696-43fa-ecd2-01770e1612f4"
   },
   "outputs": [
    {
     "data": {
      "text/plain": [
       "dict_keys(['Meta Data', 'Time Series (Daily)'])"
      ]
     },
     "execution_count": 37,
     "metadata": {},
     "output_type": "execute_result"
    }
   ],
   "source": [
    "# Print `response_data` keys\n",
    "response_data.keys()"
   ]
  },
  {
   "cell_type": "markdown",
   "id": "da856ef7-8c63-4b1f-b7c1-0f4c03e93835",
   "metadata": {
    "deletable": false,
    "editable": false,
    "id": "da856ef7-8c63-4b1f-b7c1-0f4c03e93835"
   },
   "source": [
    "Agora vamos olhar os dados que estão atribuídos à chave `\"Time Series (Daily)\"`."
   ]
  },
  {
   "cell_type": "markdown",
   "id": "3c8cb1c4-6e91-49b6-802f-becbf21731eb",
   "metadata": {
    "deletable": false,
    "editable": false,
    "id": "3c8cb1c4-6e91-49b6-802f-becbf21731eb"
   },
   "source": [
    "### Exercício:\n",
    "Atribua o valor da chave `\"Time Series (Daily)\"` à variável `stock_data`. Em seguida, examine os dados de um dos dias em `stock_data`."
   ]
  },
  {
   "cell_type": "code",
   "execution_count": null,
   "id": "2b658f23-b2c3-4812-9536-8305f1edd8b2",
   "metadata": {
    "deletable": false,
    "id": "2b658f23-b2c3-4812-9536-8305f1edd8b2"
   },
   "outputs": [],
   "source": [
    "# Extract `\"Time Series (Daily)\"` value from `response_data`\n",
    "stock_data = ...\n",
    "\n",
    "print(\"stock_data type:\", type(stock_data))\n",
    "\n",
    "# Extract data for one of the days in `stock_data`\n",
    "\n"
   ]
  },
  {
   "cell_type": "markdown",
   "id": "f25a90d6-6290-47dd-95cb-36823d0c17cb",
   "metadata": {
    "deletable": false,
    "editable": false,
    "id": "f25a90d6-6290-47dd-95cb-36823d0c17cb"
   },
   "source": [
    "Agora que sabemos como os dados estão organizados quando os extraímos da API, vamos transformá-los em um DataFrame para torná-los mais gerenciáveis."
   ]
  },
  {
   "cell_type": "markdown",
   "id": "8799fb60-4b46-4be3-af56-18ce7c4c39f3",
   "metadata": {
    "deletable": false,
    "editable": false,
    "id": "8799fb60-4b46-4be3-af56-18ce7c4c39f3"
   },
   "source": [
    "### Exercício:\n",
    "Leia os dados de `stock_data` em um DataFrame chamado `df_ambuja`. Certifique-se de que todos os seus tipos de dados estão corretos!"
   ]
  },
  {
   "cell_type": "code",
   "execution_count": null,
   "id": "c58d0b13-5146-44fc-9be0-2489aaec533d",
   "metadata": {
    "deletable": false,
    "id": "c58d0b13-5146-44fc-9be0-2489aaec533d"
   },
   "outputs": [],
   "source": [
    "df_ambuja = ...\n",
    "\n",
    "print(\"df_ambuja shape:\", df_ambuja.shape)\n",
    "print()\n",
    "print(df_ambuja.info())\n",
    "df_ambuja.head(10)"
   ]
  },
  {
   "cell_type": "markdown",
   "id": "1635c96b-1602-4df5-92f8-f8fa4895981f",
   "metadata": {
    "deletable": false,
    "editable": false,
    "id": "1635c96b-1602-4df5-92f8-f8fa4895981f"
   },
   "source": [
    "Você notou que o índice para `df_ambuja` não tem uma entrada para todos os dias? Considerando que se trata de dados do mercado de ações, por que você acha que isso acontece?"
   ]
  },
  {
   "cell_type": "markdown",
   "id": "c3a80962-1d08-42a5-8149-3b6cf7bba91b",
   "metadata": {
    "deletable": false,
    "editable": false,
    "id": "c3a80962-1d08-42a5-8149-3b6cf7bba91b"
   },
   "source": [
    "No geral, isso parece muito bom, mas há alguns problemas: o tipo de dados das datas e o formato dos cabeçalhos. Vamos corrigir as datas primeiro. No momento, as datas são strings; para que o restante do nosso código funcione, precisaremos criar um `DatetimeIndex` adequado."
   ]
  },
  {
   "cell_type": "markdown",
   "id": "ab2a80df-dd55-4c13-a8f1-adc27680b910",
   "metadata": {
    "deletable": false,
    "editable": false,
    "id": "ab2a80df-dd55-4c13-a8f1-adc27680b910"
   },
   "source": [
    "### Exercício:\n",
    "Transforme o índice de `df_ambuja` em um `DatetimeIndex` com o nome `\"date\"`."
   ]
  },
  {
   "cell_type": "code",
   "execution_count": null,
   "id": "30b1f432-c465-400c-98dc-9249038bd98c",
   "metadata": {
    "deletable": false,
    "id": "30b1f432-c465-400c-98dc-9249038bd98c"
   },
   "outputs": [],
   "source": [
    "# Convert `df_ambuja` index to `DatetimeIndex`\n",
    "\n",
    "\n",
    "# Name index \"date\"\n",
    "\n",
    "\n",
    "print(df_ambuja.info())\n",
    "df_ambuja.head()"
   ]
  },
  {
   "cell_type": "markdown",
   "id": "b7eb1d5e-ef3e-422f-95a8-72a1aa9d4d2a",
   "metadata": {
    "deletable": false,
    "editable": false,
    "id": "b7eb1d5e-ef3e-422f-95a8-72a1aa9d4d2a"
   },
   "source": [
    "__Nota:__ as linhas em `df_ambuja` estão ordenadas de forma <b>decrescente</b>, com a data mais recente no topo. Isso será vantajoso quando armazenarmos e recuperarmos os dados do nosso banco de dados da aplicação, mas precisaremos ordená-los de forma <b>crescente</b> antes de podermos usá-los para treinar um modelo."
   ]
  },
  {
   "cell_type": "markdown",
   "id": "cfa35c8f-9447-4ffc-b2df-ec57e9fc0d71",
   "metadata": {
    "deletable": false,
    "editable": false,
    "id": "cfa35c8f-9447-4ffc-b2df-ec57e9fc0d71"
   },
   "source": [
    "Ok! Agora que as datas estão corrigidas, vamos lidar com os cabeçalhos. Não há nada realmente *errado* com eles, mas aqueles números os fazem parecer um pouco inacabados. Vamos nos livrar deles."
   ]
  },
  {
   "cell_type": "markdown",
   "id": "5eac49bc-e6c0-4607-8bf7-df6d2a7cfdf1",
   "metadata": {
    "deletable": false,
    "editable": false,
    "id": "5eac49bc-e6c0-4607-8bf7-df6d2a7cfdf1"
   },
   "source": [
    "### Exercício:\n",
    "Remova a numeração dos nomes das colunas de `df_ambuja`."
   ]
  },
  {
   "cell_type": "code",
   "execution_count": null,
   "id": "0580f82d-83a6-43cb-9437-48affb90ecb3",
   "metadata": {
    "deletable": false,
    "id": "0580f82d-83a6-43cb-9437-48affb90ecb3"
   },
   "outputs": [],
   "source": [
    "# Remove numbering from `df_ambuja` column names\n",
    "df_ambuja.columns = ...\n",
    "\n",
    "print(df_ambuja.info())\n",
    "df_ambuja.head()"
   ]
  },
  {
   "cell_type": "markdown",
   "id": "178c0031-beb5-4ea8-b79a-ebd4b4e747ec",
   "metadata": {
    "deletable": false,
    "editable": false,
    "id": "178c0031-beb5-4ea8-b79a-ebd4b4e747ec"
   },
   "source": [
    "# Programação Defensiva"
   ]
  },
  {
   "cell_type": "markdown",
   "id": "f1780074-77fc-467c-aa7a-d66a214304e9",
   "metadata": {
    "deletable": false,
    "editable": false,
    "id": "f1780074-77fc-467c-aa7a-d66a214304e9"
   },
   "source": [
    "Programação defensiva é a prática de escrever código que continuará a funcionar, mesmo que algo dê errado. Nunca conseguiremos prever todos os problemas que as pessoas podem encontrar com nosso código, mas podemos tomar medidas para garantir que as coisas não desmoronem sempre que um desses problemas acontecer.\n",
    "\n",
    "Até agora, fizemos solicitações de API onde tudo funciona. Mas erros de codificação e problemas com servidores são comuns, e podem causar grandes problemas em um projeto de ciência de dados. Vamos ver como nossa `response` muda quando introduzimos erros comuns em nosso código."
   ]
  },
  {
   "cell_type": "markdown",
   "id": "43029733-5f6a-4112-8930-268632c6c3f1",
   "metadata": {
    "deletable": false,
    "editable": false,
    "id": "43029733-5f6a-4112-8930-268632c6c3f1"
   },
   "source": [
    "### Exercício:\n",
    "Volte ao exercício 5 e mude a primeira parte da sua URL. Em vez de `\"query\"`, use `\"search\"` (um caminho que não existe). Em seguida, execute novamente seu código para todas as tarefas que se seguem. O que muda? O que permanece o mesmo?"
   ]
  },
  {
   "cell_type": "markdown",
   "id": "26c179f8-a682-4c83-b9bb-8a99b14f0a9d",
   "metadata": {
    "deletable": false,
    "editable": false,
    "id": "26c179f8-a682-4c83-b9bb-8a99b14f0a9d"
   },
   "source": [
    "Sabemos o que acontece quando tentamos acessar um endereço inválido. Mas e quando acessamos o *caminho correto* com um símbolo de ação *inválido*?"
   ]
  },
  {
   "cell_type": "markdown",
   "id": "0b7c93ef-3833-4e15-97fc-68fbd8c2990e",
   "metadata": {
    "deletable": false,
    "editable": false,
    "id": "0b7c93ef-3833-4e15-97fc-68fbd8c2990e"
   },
   "source": [
    "### Exercício:\n",
    "Volte ao exercício 5 e mude o símbolo da ação de `\"AMBUJACEM.BSE\"` para `\"RAMBUJACEM.BSE\"` (uma empresa que não existe). Em seguida, execute novamente seu código para todas as tarefas que se seguem. Novamente, observe o que muda e o que permanece o mesmo."
   ]
  },
  {
   "cell_type": "markdown",
   "id": "75bdd2ed-cb05-4aef-bd1e-992b57f8472c",
   "metadata": {
    "deletable": false,
    "editable": false,
    "id": "75bdd2ed-cb05-4aef-bd1e-992b57f8472c"
   },
   "source": [
    "Vamos formalizar nosso processo de extração e transformação para a API AlphaVantage em uma função reproduzível."
   ]
  },
  {
   "cell_type": "markdown",
   "id": "82bba2b7-95e7-4544-8940-2af3764ef261",
   "metadata": {
    "deletable": false,
    "editable": false,
    "id": "82bba2b7-95e7-4544-8940-2af3764ef261"
   },
   "source": [
    "### Exercício:\n",
    "Construa uma função `get_daily` que obtenha dados da API AlphaVantage e retorne um DataFrame limpo. Use a docstring como guia. Quando estiver satisfeito com o resultado, envie seu trabalho para o avaliador."
   ]
  },
  {
   "cell_type": "code",
   "execution_count": null,
   "id": "bd062d98-5dbe-421b-bb2d-9ec81961b56e",
   "metadata": {
    "deletable": false,
    "id": "bd062d98-5dbe-421b-bb2d-9ec81961b56e"
   },
   "outputs": [],
   "source": [
    "def get_daily():\n",
    "\n",
    "    \"\"\"Get daily time series of an equity from AlphaVantage API.\n",
    "\n",
    "    Parameters\n",
    "    ----------\n",
    "    ticker : str\n",
    "        The ticker symbol of the equity.\n",
    "    output_size : str, optional\n",
    "        Number of observations to retrieve. \"compact\" returns the\n",
    "        latest 100 observations. \"full\" returns all observations for\n",
    "        equity. By default \"full\".\n",
    "\n",
    "    Returns\n",
    "    -------\n",
    "    pd.DataFrame\n",
    "        Columns are 'open', 'high', 'low', 'close', and 'volume'.\n",
    "        All are numeric.\n",
    "    \"\"\"\n",
    "    # Create URL (8.1.5)\n",
    "\n",
    "\n",
    "    # Send request to API (8.1.6)\n",
    "\n",
    "\n",
    "    # Extract JSON data from response (8.1.10)\n",
    "\n",
    "\n",
    "    # Read data into DataFrame (8.1.12 & 8.1.13)\n",
    "\n",
    "\n",
    "    # Convert index to `DatetimeIndex` named \"date\" (8.1.14)\n",
    "\n",
    "\n",
    "    # Remove numbering from columns (8.1.15)\n",
    "\n",
    "\n",
    "    # Return DataFrame\n",
    "    return df"
   ]
  },
  {
   "cell_type": "code",
   "execution_count": null,
   "id": "4f10991a-ec93-42ac-9888-e8f45e668451",
   "metadata": {
    "deletable": false,
    "id": "4f10991a-ec93-42ac-9888-e8f45e668451"
   },
   "outputs": [],
   "source": [
    "# Test your function\n",
    "df_ambuja = get_daily(ticker=\"AMBUJACEM.BSE\")\n",
    "\n",
    "print(df_ambuja.info())\n",
    "df_ambuja.head()"
   ]
  },
  {
   "cell_type": "markdown",
   "id": "a15de1d8-f719-40d4-af32-f7f7a4163e0b",
   "metadata": {
    "deletable": false,
    "editable": false,
    "id": "a15de1d8-f719-40d4-af32-f7f7a4163e0b"
   },
   "source": [
    "Como essa função lida com os dois erros que exploramos nesta seção? Nosso primeiro erro, uma URL inválida, é algo com o qual não precisamos nos preocupar. Não importa o que o usuário insira nesta função, a URL sempre estará correta. Mas veja o que acontece quando o usuário insere um símbolo de ação inválido. Qual é a mensagem de erro? Isso ajudaria o usuário a localizar seu erro?"
   ]
  },
  {
   "cell_type": "markdown",
   "id": "875b1bdd-8f5f-4507-a257-8cc3b72f7b68",
   "metadata": {
    "deletable": false,
    "editable": false,
    "id": "875b1bdd-8f5f-4507-a257-8cc3b72f7b68"
   },
   "source": [
    "### Exercício:\n",
    "Adicione uma cláusula `if` à sua função `get_daily` para que ela lance uma `Exception` quando um usuário fornecer um símbolo de ação inválido. Certifique-se de que a mensagem de erro seja informativa."
   ]
  },
  {
   "cell_type": "code",
   "execution_count": null,
   "id": "0edf1068-520e-4160-8706-674e5438ef8e",
   "metadata": {
    "deletable": false,
    "id": "0edf1068-520e-4160-8706-674e5438ef8e",
    "tags": [
     "raises-exception"
    ]
   },
   "outputs": [],
   "source": [
    "# Test your Exception\n",
    "df_test = get_daily(ticker=\"ABUJACEM.BSE\")"
   ]
  },
  {
   "cell_type": "markdown",
   "id": "b9e19321-8e9c-449e-933d-008ebcfc0658",
   "metadata": {
    "deletable": false,
    "editable": false,
    "id": "b9e19321-8e9c-449e-933d-008ebcfc0658"
   },
   "source": [
    "Certo! Agora temos todas as ferramentas necessárias para obter os dados para o nosso projeto. Na próxima lição, tornaremos nosso código AlphaVantage mais reutilizável, criando um módulo `data` com definições de classe. Também criaremos o código necessário para armazenar e ler esses dados do nosso banco de dados de aplicação."
   ]
  },
  {
   "cell_type": "markdown",
   "id": "2271075b",
   "metadata": {
    "deletable": false,
    "editable": false,
    "id": "2271075b"
   },
   "source": [
    "# Desenvolvimento Orientado a Testes (TDD)"
   ]
  },
  {
   "cell_type": "markdown",
   "id": "d31ac132-2255-4533-8ba8-a3de3fc98f29",
   "metadata": {
    "deletable": false,
    "editable": false,
    "id": "d31ac132-2255-4533-8ba8-a3de3fc98f29"
   },
   "source": [
    "Na lição anterior, aprendemos como obter dados de uma API. Nesta lição, temos dois objetivos. Primeiro, vamos pegar o código que usamos para acessar a API e construir uma classe `AlphaVantageAPI`. Isso nos permitirá reutilizar nosso código. Segundo, criaremos uma classe `SQLRepository` que nos ajudará a carregar nossos dados de ações em um banco de dados SQLite e depois extraí-los para uso posterior. Além disso, construiremos esse código usando uma técnica chamada **desenvolvimento orientado a testes**, onde usaremos instruções `assert` para garantir que tudo esteja funcionando corretamente. Assim, evitaremos problemas mais tarde ao construir nossa aplicação."
   ]
  },
  {
   "cell_type": "code",
   "execution_count": null,
   "id": "7457bb4a-c3d1-42c0-8b57-2b4872e5d3e3",
   "metadata": {
    "deletable": false,
    "editable": false,
    "id": "7457bb4a-c3d1-42c0-8b57-2b4872e5d3e3",
    "init_cell": true
   },
   "outputs": [],
   "source": [
    "%load_ext autoreload\n",
    "%load_ext sql\n",
    "%autoreload 2\n",
    "\n",
    "import sqlite3\n",
    "import matplotlib.pyplot as plt\n",
    "import pandas as pd\n",
    "from config import settings"
   ]
  },
  {
   "cell_type": "markdown",
   "id": "603adedd-56fa-44be-8e5b-c4a802fd1da6",
   "metadata": {
    "deletable": false,
    "editable": false,
    "id": "603adedd-56fa-44be-8e5b-c4a802fd1da6"
   },
   "source": [
    "# Construindo Nosso Módulo de Dados"
   ]
  },
  {
   "cell_type": "markdown",
   "id": "18b7926f-cf91-4835-bfe2-cb40ec52eff3",
   "metadata": {
    "deletable": false,
    "editable": false,
    "id": "18b7926f-cf91-4835-bfe2-cb40ec52eff3"
   },
   "source": [
    "Para nossa aplicação, vamos manter todas as classes que usamos para extrair, transformar e carregar dados em um único módulo que chamaremos de `data`."
   ]
  },
  {
   "cell_type": "markdown",
   "id": "727cc9a0-4f06-4356-84fd-6024f6ac4421",
   "metadata": {
    "deletable": false,
    "editable": false,
    "id": "727cc9a0-4f06-4356-84fd-6024f6ac4421"
   },
   "source": [
    "## Classe AlphaVantage API"
   ]
  },
  {
   "cell_type": "markdown",
   "id": "2886d630-b241-42a9-8664-480902419af8",
   "metadata": {
    "deletable": false,
    "editable": false,
    "id": "2886d630-b241-42a9-8664-480902419af8"
   },
   "source": [
    "Vamos começar pegando o código que criamos na última lição e incorporá-lo em uma classe que será responsável por obter dados da API AlphaVantage."
   ]
  },
  {
   "cell_type": "markdown",
   "id": "393281a3-373c-4b43-9918-2593d4e5eb07",
   "metadata": {
    "deletable": false,
    "editable": false,
    "id": "393281a3-373c-4b43-9918-2593d4e5eb07"
   },
   "source": [
    "### Exercício:\n",
    "No módulo `data`, crie uma definição de classe para `AlphaVantageAPI`. Por enquanto, certifique-se de que ela tenha um método `__init__` que anexe sua chave de API como o atributo `__api_key`. Depois de terminar, importe a classe abaixo e crie uma instância dela chamada `av`."
   ]
  },
  {
   "cell_type": "code",
   "execution_count": null,
   "id": "8c02dbac-7559-4db2-b0dd-b29c8fb623e1",
   "metadata": {
    "deletable": false,
    "id": "8c02dbac-7559-4db2-b0dd-b29c8fb623e1"
   },
   "outputs": [],
   "source": [
    "# Import `AlphaVantageAPI`\n",
    "\n",
    "\n",
    "# Create instance of `AlphaVantageAPI` class\n",
    "av = ...\n",
    "\n",
    "print(\"av type:\", type(av))"
   ]
  },
  {
   "cell_type": "markdown",
   "id": "a21cb1bc-b617-430e-91eb-72a692f7f209",
   "metadata": {
    "deletable": false,
    "editable": false,
    "id": "a21cb1bc-b617-430e-91eb-72a692f7f209"
   },
   "source": [
    "Lembre-se da função `get_daily` que fizemos na última lição? Agora vamos transformá-la em um método de classe."
   ]
  },
  {
   "cell_type": "markdown",
   "id": "7e7017bd-fb32-42d2-a4a2-1b8b206efde0",
   "metadata": {
    "deletable": false,
    "editable": false,
    "id": "7e7017bd-fb32-42d2-a4a2-1b8b206efde0"
   },
   "source": [
    "### Exercício:\n",
    "Crie um método `get_daily` para sua classe `AlphaVantageAPI`. Assim que terminar, use a célula abaixo para buscar os dados das ações da empresa de energia renovável [Suzlon](https://www.suzlon.com/) e atribua-os ao DataFrame `df_suzlon`."
   ]
  },
  {
   "cell_type": "code",
   "execution_count": null,
   "id": "d7659f8c-819a-4742-93e5-7b0dec31b808",
   "metadata": {
    "deletable": false,
    "id": "d7659f8c-819a-4742-93e5-7b0dec31b808"
   },
   "outputs": [],
   "source": [
    "# Define Suzlon ticker symbol\n",
    "ticker = \"SUZLON.BSE\"\n",
    "\n",
    "# Use your `av` object to get daily data\n",
    "df_suzlon = ...\n",
    "\n",
    "print(\"df_suzlon type:\", type(df_suzlon))\n",
    "print(\"df_suzlon shape:\", df_suzlon.shape)\n",
    "df_suzlon.head()"
   ]
  },
  {
   "cell_type": "markdown",
   "id": "d904c7f4-515b-4ccb-b29e-1aa46b370889",
   "metadata": {
    "deletable": false,
    "editable": false,
    "id": "d904c7f4-515b-4ccb-b29e-1aa46b370889"
   },
   "source": [
    "Certo! A próxima coisa que precisamos fazer é testar nosso novo método para garantir que ele funcione da maneira que desejamos. Normalmente, esses tipos de testes são escritos *antes* de escrever o método, mas, neste primeiro caso, faremos o contrário para entender melhor como as instruções de assert funcionam."
   ]
  },
  {
   "cell_type": "markdown",
   "id": "0cb9dd91-7734-4489-b887-ad096608fb48",
   "metadata": {
    "deletable": false,
    "editable": false,
    "id": "0cb9dd91-7734-4489-b887-ad096608fb48"
   },
   "source": [
    "### Exercício:\n",
    "Crie quatro instruções `assert` para testar a saída do seu método `get_daily`. Use os comentários abaixo como guia."
   ]
  },
  {
   "cell_type": "code",
   "execution_count": null,
   "id": "abfe54a3-585b-46db-9b75-5e2c8fc73a31",
   "metadata": {
    "deletable": false,
    "id": "abfe54a3-585b-46db-9b75-5e2c8fc73a31"
   },
   "outputs": [],
   "source": [
    "# Does `get_daily` return a DataFrame?\n",
    "\n",
    "\n",
    "# Does DataFrame have 5 columns?\n",
    "\n",
    "\n",
    "# Does DataFrame have a DatetimeIndex?\n",
    "\n",
    "\n",
    "# Is the index name \"date\"?\n"
   ]
  },
  {
   "cell_type": "markdown",
   "id": "d36acde5-df71-4ea1-a99e-3caa32c35dd6",
   "metadata": {
    "deletable": false,
    "editable": false,
    "id": "d36acde5-df71-4ea1-a99e-3caa32c35dd6"
   },
   "source": [
    "### Exercício:\n",
    "Crie mais dois testes para a saída do seu método `get_daily`. Use os comentários abaixo como guia."
   ]
  },
  {
   "cell_type": "code",
   "execution_count": null,
   "id": "98a10e7f-d01d-4ac1-be84-7ada5f3de346",
   "metadata": {
    "deletable": false,
    "id": "98a10e7f-d01d-4ac1-be84-7ada5f3de346"
   },
   "outputs": [],
   "source": [
    "# Does DataFrame have correct column names?\n",
    "\n",
    "\n",
    "# Are columns correct data type?\n"
   ]
  },
  {
   "cell_type": "markdown",
   "id": "905320f3-19d6-4004-9953-5a695e27bf8e",
   "metadata": {
    "deletable": false,
    "editable": false,
    "id": "905320f3-19d6-4004-9953-5a695e27bf8e"
   },
   "source": [
    "Ok! Agora que nossa classe `AlphaVantageAPI` está pronta para obter dados, vamos focar na classe que precisaremos para armazenar nossos dados em nosso banco de dados SQLite."
   ]
  },
  {
   "cell_type": "markdown",
   "id": "d69dc9cf-3851-4edb-a152-03c53daf90d4",
   "metadata": {
    "deletable": false,
    "editable": false,
    "id": "d69dc9cf-3851-4edb-a152-03c53daf90d4",
    "tags": []
   },
   "source": [
    "## Classe Repositório SQL"
   ]
  },
  {
   "cell_type": "markdown",
   "id": "bc1c1102-040c-4776-8cbf-cb1cefdeca17",
   "metadata": {
    "deletable": false,
    "editable": false,
    "id": "bc1c1102-040c-4776-8cbf-cb1cefdeca17"
   },
   "source": [
    "Não seria eficiente se nosso aplicativo precisasse obter dados da API AlphaVantage toda vez que quiséssemos explorar nossos dados ou construir um modelo, então precisaremos armazenar nossos dados em um banco de dados. Como nossos dados são altamente estruturados (cada DataFrame que extraímos da AlphaVantage sempre terá as mesmas cinco colunas), faz sentido usar um banco de dados SQL.\n",
    "\n",
    "Usaremos o SQLite para nosso banco de dados. Para consistência, esse banco de dados sempre terá o mesmo nome, que armazenamos em nosso arquivo `.env`."
   ]
  },
  {
   "cell_type": "markdown",
   "id": "1fa42d18-8b9d-4379-8d5c-76dea153d003",
   "metadata": {
    "deletable": false,
    "editable": false,
    "id": "1fa42d18-8b9d-4379-8d5c-76dea153d003"
   },
   "source": [
    "### Exercício:\n",
    "Conecte-se ao banco de dados cujo nome está armazenado no arquivo `.env` deste projeto. Certifique-se de definir o argumento `check_same_thread` como `False`. Atribua a conexão à variável `connection`."
   ]
  },
  {
   "cell_type": "code",
   "execution_count": null,
   "id": "348adcae-ef3e-4933-81b9-2fbc1ce42587",
   "metadata": {
    "deletable": false,
    "id": "348adcae-ef3e-4933-81b9-2fbc1ce42587"
   },
   "outputs": [],
   "source": [
    "connection = ...\n",
    "\n",
    "print(\"connection type:\", type(connection))"
   ]
  },
  {
   "cell_type": "markdown",
   "id": "71142242-06d8-47c4-9612-d79dd8e34c20",
   "metadata": {
    "deletable": false,
    "editable": false,
    "id": "71142242-06d8-47c4-9612-d79dd8e34c20"
   },
   "source": [
    "Temos uma conexão, e agora precisamos começar a construir a classe que irá gerenciar todas as nossas transações com o banco de dados. Com esta classe, no entanto, vamos criar nossos testes *antes* de escrever a definição da classe."
   ]
  },
  {
   "cell_type": "markdown",
   "id": "14fb7efd-beb7-4712-b126-4e2248a7de76",
   "metadata": {
    "deletable": false,
    "editable": false,
    "id": "14fb7efd-beb7-4712-b126-4e2248a7de76"
   },
   "source": [
    "### Exercício:\n",
    "Escreva dois testes para a classe `SQLRepository`, usando os comentários abaixo como guia."
   ]
  },
  {
   "cell_type": "code",
   "execution_count": null,
   "id": "f443ad9f-6b93-4c97-b525-1168921a4ee7",
   "metadata": {
    "deletable": false,
    "id": "f443ad9f-6b93-4c97-b525-1168921a4ee7"
   },
   "outputs": [],
   "source": [
    "# Import class definition\n",
    "\n",
    "\n",
    "# Create instance of class\n",
    "repo = ...\n",
    "\n",
    "# Does `repo` have a \"connection\" attribute?\n",
    "\n",
    "\n",
    "# Is the \"connection\" attribute a SQLite `Connection`?\n"
   ]
  },
  {
   "cell_type": "markdown",
   "id": "a25753a8-ec5a-4de7-b8f9-6864e0189e5d",
   "metadata": {
    "deletable": false,
    "editable": false,
    "id": "a25753a8-ec5a-4de7-b8f9-6864e0189e5d"
   },
   "source": [
    "__Dica:__ Você não poderá executar este bloco de código ☝️ até completar a tarefa abaixo. 👇"
   ]
  },
  {
   "cell_type": "markdown",
   "id": "e3fe6a9e-c8c8-4a1f-b6e0-8bec234691d0",
   "metadata": {
    "deletable": false,
    "editable": false,
    "id": "e3fe6a9e-c8c8-4a1f-b6e0-8bec234691d0"
   },
   "source": [
    "### Exercício:\n",
    "Crie uma definição para sua classe `SQLRepository`. Por enquanto, complete apenas o método `__init__`. Assim que terminar, use o código que você escreveu na tarefa anterior para testá-la."
   ]
  },
  {
   "cell_type": "markdown",
   "id": "ac9d773d-4ed7-4fb7-8bcd-09cae0774ffb",
   "metadata": {
    "deletable": false,
    "editable": false,
    "id": "ac9d773d-4ed7-4fb7-8bcd-09cae0774ffb"
   },
   "source": [
    "O próximo método que precisamos para a classe `SQLRepository` é um que nos permita armazenar informações. No jargão SQL, isso é geralmente referido como **inserir** tabelas no banco de dados."
   ]
  },
  {
   "cell_type": "markdown",
   "id": "ae1fd1a0-a8bc-4c38-8239-9d3f40b34dad",
   "metadata": {
    "deletable": false,
    "editable": false,
    "id": "ae1fd1a0-a8bc-4c38-8239-9d3f40b34dad"
   },
   "source": [
    "### Exercício:\n",
    "Adicione um método `insert_table` à sua classe `SQLRepository`. Como guia, use as instruções `assert` abaixo e o docstring no módulo `data`. Quando terminar, execute a célula abaixo para verificar seu trabalho."
   ]
  },
  {
   "cell_type": "code",
   "execution_count": null,
   "id": "2210e278-a640-41e7-b1a1-8aaa357d9d2e",
   "metadata": {
    "deletable": false,
    "id": "2210e278-a640-41e7-b1a1-8aaa357d9d2e"
   },
   "outputs": [],
   "source": [
    "response = repo.insert_table(table_name=ticker, records=df_suzlon, if_exists=\"replace\")\n",
    "\n",
    "# Does your method return a dictionary?\n",
    "assert isinstance(response, dict)\n",
    "\n",
    "# Are the keys of that dictionary correct?\n",
    "assert sorted(list(response.keys())) == [\"records_inserted\", \"transaction_successful\"]"
   ]
  },
  {
   "cell_type": "markdown",
   "id": "7a23e148-e5ff-4f06-b708-9efed1306c10",
   "metadata": {
    "deletable": false,
    "editable": false,
    "id": "7a23e148-e5ff-4f06-b708-9efed1306c10"
   },
   "source": [
    "Se nosso método estiver passando as instruções `assert`, sabemos que ele está retornando um registro da transação no banco de dados, mas ainda precisamos verificar se os dados foram realmente adicionados ao banco de dados."
   ]
  },
  {
   "cell_type": "markdown",
   "id": "e955cbbb-01cc-4c2d-8daf-16288aa250db",
   "metadata": {
    "deletable": false,
    "editable": false,
    "id": "e955cbbb-01cc-4c2d-8daf-16288aa250db"
   },
   "source": [
    "### Exercício:\n",
    "Escreva uma consulta SQL para obter as **cinco primeiras linhas** da tabela de dados da Suzlon que você acabou de inserir no banco de dados."
   ]
  },
  {
   "cell_type": "code",
   "execution_count": null,
   "id": "7757a902-f0eb-4dfe-a11f-a4bc328ceb69",
   "metadata": {
    "deletable": false,
    "id": "7757a902-f0eb-4dfe-a11f-a4bc328ceb69"
   },
   "outputs": [],
   "source": [
    "\n",
    "%sql sqlite:///"
   ]
  },
  {
   "cell_type": "code",
   "execution_count": null,
   "id": "9d49b614-60bf-4759-a18f-71361ce2a88c",
   "metadata": {
    "deletable": false,
    "id": "9d49b614-60bf-4759-a18f-71361ce2a88c"
   },
   "outputs": [],
   "source": [
    "%%sql\n",
    "\n"
   ]
  },
  {
   "cell_type": "markdown",
   "id": "1f599a58-461c-4dae-9372-328f4241aa29",
   "metadata": {
    "deletable": false,
    "editable": false,
    "id": "1f599a58-461c-4dae-9372-328f4241aa29"
   },
   "source": [
    "Podemos inserir dados no nosso banco de dados, mas não devemos esquecer que também precisamos ler dados dele. A leitura será um pouco mais complexa do que a inserção, então vamos começar escrevendo o código neste notebook antes de incorporá-lo à nossa classe `SQLRepository`."
   ]
  },
  {
   "cell_type": "markdown",
   "id": "141e2c94-3a4f-4d8b-a84c-3cfb814d90ce",
   "metadata": {
    "deletable": false,
    "editable": false,
    "id": "141e2c94-3a4f-4d8b-a84c-3cfb814d90ce"
   },
   "source": [
    "### Exercício:\n",
    "Primeiro, escreva uma consulta SQL para obter **todos** os dados da Suzlon. Em seguida, use o pandas para extrair os dados do banco de dados e ler em um DataFrame, chamado `df_suzlon_test`."
   ]
  },
  {
   "cell_type": "code",
   "execution_count": null,
   "id": "088da36d-e462-4be4-9f1a-c52586efce5a",
   "metadata": {
    "deletable": false,
    "id": "088da36d-e462-4be4-9f1a-c52586efce5a"
   },
   "outputs": [],
   "source": [
    "sql = ...\n",
    "df_suzlon_test = ...\n",
    "\n",
    "print(\"df_suzlon_test type:\", type(df_suzlon_test))\n",
    "print()\n",
    "print(df_suzlon_test.info())\n",
    "df_suzlon_test.head()"
   ]
  },
  {
   "cell_type": "markdown",
   "id": "90924b2f",
   "metadata": {
    "deletable": false,
    "editable": false,
    "id": "90924b2f"
   },
   "source": [
    "Agora que sabemos como ler uma tabela do nosso banco de dados, vamos transformar nosso código em uma função adequada. Mas, como estamos fazendo design reverso, precisamos começar com nossos testes."
   ]
  },
  {
   "cell_type": "markdown",
   "id": "ba48f1ad-fc92-488b-9d79-368be138df52",
   "metadata": {
    "deletable": false,
    "editable": false,
    "id": "ba48f1ad-fc92-488b-9d79-368be138df52"
   },
   "source": [
    "### Exercício:\n",
    "Complete as declarações `assert` abaixo para testar sua função `read_table`. Use os comentários como guia."
   ]
  },
  {
   "cell_type": "code",
   "execution_count": null,
   "id": "9d89c5e7-a3d8-4ce7-9dd1-654cab786e20",
   "metadata": {
    "deletable": false,
    "id": "9d89c5e7-a3d8-4ce7-9dd1-654cab786e20",
    "tags": [
     "raises-exception"
    ]
   },
   "outputs": [],
   "source": [
    "# Assign `read_table` output to `df_suzlon`\n",
    "df_suzlon = read_table(table_name=\"SUZLON.BSE\", limit=2500)  # noQA F821\n",
    "\n",
    "# Is `df_suzlon` a DataFrame?\n",
    "\n",
    "\n",
    "# Does it have a `DatetimeIndex`?\n",
    "\n",
    "\n",
    "# Is the index named \"date\"?\n",
    "\n",
    "\n",
    "# Does it have 2,500 rows and 5 columns?\n",
    "\n",
    "\n",
    "# Are the column names correct?\n",
    "\n",
    "\n",
    "# Are the column data types correct?\n",
    "\n",
    "\n",
    "# Print `df_suzlon` info\n",
    "print(\"df_suzlon shape:\", df_suzlon.shape)\n",
    "print()\n",
    "print(df_suzlon.info())\n",
    "df_suzlon.head()"
   ]
  },
  {
   "cell_type": "markdown",
   "id": "363900a4",
   "metadata": {
    "deletable": false,
    "editable": false,
    "id": "363900a4"
   },
   "source": [
    "__Dica:__ Você não poderá executar este bloco de código ☝️ até completar a tarefa abaixo. 👇"
   ]
  },
  {
   "cell_type": "markdown",
   "id": "23275ea4-d927-4491-8bca-cc67097cae7a",
   "metadata": {
    "deletable": false,
    "editable": false,
    "id": "23275ea4-d927-4491-8bca-cc67097cae7a"
   },
   "source": [
    "### Exercício:\n",
    "Expanda o código que você escreveu acima para completar a função `read_table` abaixo. Use a docstring como um guia."
   ]
  },
  {
   "cell_type": "markdown",
   "id": "df998521-2247-4c21-9617-494032d59511",
   "metadata": {
    "deletable": false,
    "editable": false,
    "id": "df998521-2247-4c21-9617-494032d59511"
   },
   "source": [
    "__Dica:__ Lembre-se de que armazenamos nossos dados ordenados de forma <b>decrescente</b> pela data. Isso definitivamente facilitará a implementação do <code>read_table</code>!"
   ]
  },
  {
   "cell_type": "code",
   "execution_count": null,
   "id": "88dc894f-3953-4d6c-8d05-5ab0dd51ad95",
   "metadata": {
    "deletable": false,
    "id": "88dc894f-3953-4d6c-8d05-5ab0dd51ad95"
   },
   "outputs": [],
   "source": [
    "def read_table():\n",
    "\n",
    "    \"\"\"Read table from database.\n",
    "\n",
    "    Parameters\n",
    "    ----------\n",
    "    table_name : str\n",
    "        Name of table in SQLite database.\n",
    "    limit : int, None, optional\n",
    "        Number of most recent records to retrieve. If `None`, all\n",
    "        records are retrieved. By default, `None`.\n",
    "\n",
    "    Returns\n",
    "    -------\n",
    "    pd.DataFrame\n",
    "        Index is DatetimeIndex \"date\". Columns are 'open', 'high',\n",
    "        'low', 'close', and 'volume'. All columns are numeric.\n",
    "    \"\"\"\n",
    "    # Create SQL query (with optional limit)\n",
    "    sql = ...\n",
    "\n",
    "\n",
    "    # Retrieve data, read into DataFrame\n",
    "    df = ...\n",
    "\n",
    "    # Return DataFrame\n",
    "    return df"
   ]
  },
  {
   "cell_type": "markdown",
   "id": "b2fb4e46-3af8-489c-924c-a2ad9f973b37",
   "metadata": {
    "deletable": false,
    "editable": false,
    "id": "b2fb4e46-3af8-489c-924c-a2ad9f973b37"
   },
   "source": [
    "### Exercício:\n",
    "Transforme a função `read_table` em um método da sua classe `SQLRepository`."
   ]
  },
  {
   "cell_type": "markdown",
   "id": "0ce86bf2-4246-4f84-8f4e-c4b42acc7676",
   "metadata": {
    "deletable": false,
    "editable": false,
    "id": "0ce86bf2-4246-4f84-8f4e-c4b42acc7676"
   },
   "source": [
    "### Exercício:\n",
    "Volte à tarefa 11 e altere o código para que você teste o método da sua classe em vez da função do notebook."
   ]
  },
  {
   "cell_type": "markdown",
   "id": "76507396-e592-4704-9c56-c2a64d817fa6",
   "metadata": {
    "deletable": false,
    "editable": false,
    "id": "76507396-e592-4704-9c56-c2a64d817fa6"
   },
   "source": [
    "Excelente! Temos tudo o que precisamos para obter dados do AlphaVantage, salvar esses dados em nosso banco de dados e acessá-los mais tarde. Agora é hora de fazer uma pequena análise exploratória para comparar as ações das duas empresas para as quais temos dados."
   ]
  },
  {
   "cell_type": "markdown",
   "id": "95b3fb61-9b65-438f-8ed4-08b1e52e63cc",
   "metadata": {
    "deletable": false,
    "editable": false,
    "id": "95b3fb61-9b65-438f-8ed4-08b1e52e63cc"
   },
   "source": [
    "# Comparar Retorno de Ações"
   ]
  },
  {
   "cell_type": "markdown",
   "id": "90e82934-8192-43a2-a700-30a2fd64d678",
   "metadata": {
    "deletable": false,
    "editable": false,
    "id": "90e82934-8192-43a2-a700-30a2fd64d678"
   },
   "source": [
    "Já temos os dados da Suzlon Energy em nosso banco de dados, mas precisamos adicionar os dados da Ambuja Cement antes de podermos comparar as duas ações."
   ]
  },
  {
   "cell_type": "markdown",
   "id": "7070d872-2f79-4a1b-bdf6-ac5b9354f9ec",
   "metadata": {
    "deletable": false,
    "editable": false,
    "id": "7070d872-2f79-4a1b-bdf6-ac5b9354f9ec"
   },
   "source": [
    "### Exercício:\n",
    "Use as instâncias das classes `AlphaVantageAPI` e `SQLRepository` que você criou nesta lição (`av` e `repo`, respectivamente) para obter os dados de ações da Ambuja Cement e armazená-los no banco de dados."
   ]
  },
  {
   "cell_type": "code",
   "execution_count": null,
   "id": "877ec8a6-1a9e-4ab5-b4d3-59e0248adaca",
   "metadata": {
    "deletable": false,
    "id": "877ec8a6-1a9e-4ab5-b4d3-59e0248adaca"
   },
   "outputs": [],
   "source": [
    "ticker = \"AMBUJACEM.BSE\"\n",
    "\n",
    "# Get Ambuja data using `av`\n",
    "ambuja_records = ...\n",
    "\n",
    "# Insert `ambuja_records` database using `repo`\n",
    "response = ...\n",
    "\n",
    "response"
   ]
  },
  {
   "cell_type": "markdown",
   "id": "006550f0-599d-47a7-ae8e-c59b21854809",
   "metadata": {
    "deletable": false,
    "editable": false,
    "id": "006550f0-599d-47a7-ae8e-c59b21854809"
   },
   "source": [
    "Vamos dar uma olhada nos dados para garantir que estamos obtendo o que precisamos."
   ]
  },
  {
   "cell_type": "markdown",
   "id": "111e376f-f8d6-454b-bffe-540d2e392371",
   "metadata": {
    "deletable": false,
    "editable": false,
    "id": "111e376f-f8d6-454b-bffe-540d2e392371"
   },
   "source": [
    "### Exercício:\n",
    "Usando o método `read_table` que você adicionou ao seu `SQLRepository`, extraia as 2.500 linhas mais recentes de dados da Ambuja Cement do banco de dados e atribua o resultado a `df_ambuja`."
   ]
  },
  {
   "cell_type": "code",
   "execution_count": null,
   "id": "645a6c99-a4ac-4525-8876-cf9ca89cb4d6",
   "metadata": {
    "deletable": false,
    "id": "645a6c99-a4ac-4525-8876-cf9ca89cb4d6"
   },
   "outputs": [],
   "source": [
    "ticker = \"AMBUJACEM.BSE\"\n",
    "df_ambuja = ...\n",
    "\n",
    "print(\"df_ambuja type:\", type(df_ambuja))\n",
    "print(\"df_ambuja shape:\", df_ambuja.shape)\n",
    "df_ambuja.head()"
   ]
  },
  {
   "cell_type": "markdown",
   "id": "a14158b0-ea28-4b0b-adb5-fc45103bd869",
   "metadata": {
    "deletable": false,
    "editable": false,
    "id": "a14158b0-ea28-4b0b-adb5-fc45103bd869"
   },
   "source": [
    "Já passamos bastante tempo observando esses dados, mas o que eles realmente representam? Acontece que o mercado de ações é muito parecido com qualquer outro mercado: as pessoas compram e vendem bens. Os preços desses bens podem subir ou descer dependendo de fatores como oferta e demanda. No caso de um mercado de ações, os bens sendo vendidos são ações (também chamadas de \"equities\" ou \"securities\"), que representam uma participação na propriedade de uma corporação.\n",
    "\n",
    "Durante cada dia de negociação, o preço de uma ação muda, então, quando estamos avaliando se uma ação pode ser um bom investimento, observamos quatro tipos de números: abertura (open), máximo (high), mínimo (low), fechamento (close) e volume (volume). **Abertura (Open)** é exatamente o que parece: o preço de venda de uma ação quando o mercado abre para o dia. Da mesma forma, **fechamento (Close)** é o preço de venda de uma ação quando o mercado fecha no final do dia, e **máximo (High)** e **mínimo (Low)** são os preços máximo e mínimo de uma ação ao longo do dia. **Volume** é o número de ações de uma determinada empresa que foram compradas e vendidas naquele dia. De modo geral, uma empresa cujas ações tiveram um grande volume de negociação verá mais variação de preço ao longo do dia do que uma empresa cujas ações foram negociadas de forma mais leve.\n",
    "\n",
    "Vamos visualizar como o preço da Ambuja Cement mudou na última década."
   ]
  },
  {
   "cell_type": "markdown",
   "id": "efd079bf-b7c4-4b04-a583-50678306daaa",
   "metadata": {
    "deletable": false,
    "editable": false,
    "id": "efd079bf-b7c4-4b04-a583-50678306daaa"
   },
   "source": [
    "### Exercício:\n",
    "Plote o preço de fechamento de `df_ambuja`. Certifique-se de rotular seus eixos e incluir uma legenda."
   ]
  },
  {
   "cell_type": "code",
   "execution_count": null,
   "id": "4904ceb7-832a-4cf3-bf99-6913d984f9f1",
   "metadata": {
    "deletable": false,
    "id": "4904ceb7-832a-4cf3-bf99-6913d984f9f1"
   },
   "outputs": [],
   "source": [
    "fig, ax = plt.subplots(figsize=(15, 6))\n",
    "# Plot `df_ambuja` closing price\n",
    "\n",
    "\n",
    "# Label axes\n",
    "\n",
    "\n",
    "\n",
    "# Add legend\n"
   ]
  },
  {
   "cell_type": "markdown",
   "id": "178995dd-eb82-49a4-90b7-978bb22ec100",
   "metadata": {
    "deletable": false,
    "editable": false,
    "id": "178995dd-eb82-49a4-90b7-978bb22ec100"
   },
   "source": [
    "Vamos adicionar o preço de fechamento da Suzlon ao nosso gráfico para que possamos comparar os dois."
   ]
  },
  {
   "cell_type": "markdown",
   "id": "69c60268-0e80-4273-9687-7aae48197885",
   "metadata": {
    "deletable": false,
    "editable": false,
    "id": "69c60268-0e80-4273-9687-7aae48197885"
   },
   "source": [
    "### Exercício:\n",
    "Crie um gráfico que mostre os preços de fechamento de `df_suzlon` e `df_ambuja`. Novamente, rotule seus eixos e inclua uma legenda."
   ]
  },
  {
   "cell_type": "code",
   "execution_count": null,
   "id": "a4b12ff3-d790-4ad2-b1f8-22e97a1149e4",
   "metadata": {
    "deletable": false,
    "id": "a4b12ff3-d790-4ad2-b1f8-22e97a1149e4"
   },
   "outputs": [],
   "source": [
    "fig, ax = plt.subplots(figsize=(15, 6))\n",
    "# Plot `df_suzlon` and `df_ambuja`\n",
    "\n",
    "\n",
    "\n",
    "# Label axes\n",
    "\n",
    "\n",
    "\n",
    "# Add legend\n"
   ]
  },
  {
   "cell_type": "markdown",
   "id": "f1f00230-e924-4cee-828d-ac69bff887c4",
   "metadata": {
    "deletable": false,
    "editable": false,
    "id": "f1f00230-e924-4cee-828d-ac69bff887c4"
   },
   "source": [
    "Olhando para este gráfico, podemos concluir que a Ambuja Cement é uma ação \"melhor\" do que a Suzlon Energy, pois seu preço é mais alto. Mas o preço é apenas um fator que um investidor deve considerar ao criar uma estratégia de investimento. O que é definitivamente verdade é que é difícil fazer uma comparação direta entre essas duas ações, pois há uma diferença de preço tão grande.\n",
    "\n",
    "Uma maneira de os investidores compararem ações é observando seus **retornos**. Um retorno é a mudança de valor em um investimento, representada como uma porcentagem. Então, vamos analisar os retornos diários de nossas duas ações."
   ]
  },
  {
   "cell_type": "markdown",
   "id": "d0e2da22-819d-4e67-8d20-8abe1d34c0c3",
   "metadata": {
    "deletable": false,
    "editable": false,
    "id": "d0e2da22-819d-4e67-8d20-8abe1d34c0c3"
   },
   "source": [
    "### Exercício:\n",
    "Adicione uma coluna `\"return\"` ao `df_ambuja` que mostre a mudança percentual na coluna `\"close\"` de um dia para o outro."
   ]
  },
  {
   "cell_type": "markdown",
   "id": "94587ffb-277a-4e0e-801e-d6017956504f",
   "metadata": {
    "deletable": false,
    "editable": false,
    "id": "94587ffb-277a-4e0e-801e-d6017956504f"
   },
   "source": [
    "__Dica:__ Nossos dois DataFrames estão ordenados de forma <b>decrescente</b> por data, mas você precisará garantir que estejam ordenados de forma <b>crescente</b> para calcular seus retornos."
   ]
  },
  {
   "cell_type": "code",
   "execution_count": null,
   "id": "00c4020b-5304-4b59-bcfc-ba90bd05e5ed",
   "metadata": {
    "deletable": false,
    "id": "00c4020b-5304-4b59-bcfc-ba90bd05e5ed"
   },
   "outputs": [],
   "source": [
    "# Sort DataFrame ascending by date\n",
    "\n",
    "\n",
    "# Create \"return\" column\n",
    "\n",
    "\n",
    "print(\"df_ambuja shape:\", df_ambuja.shape)\n",
    "print(df_ambuja.info())\n",
    "df_ambuja.head()"
   ]
  },
  {
   "cell_type": "markdown",
   "id": "7eb59639-3ea3-4519-a87f-0f723a1be4d5",
   "metadata": {
    "deletable": false,
    "editable": false,
    "id": "7eb59639-3ea3-4519-a87f-0f723a1be4d5"
   },
   "source": [
    "### Exercício:\n",
    "Adicione uma coluna `\"return\"` ao `df_suzlon` que mostre a variação percentual na coluna `\"close\"` de um dia para o outro."
   ]
  },
  {
   "cell_type": "code",
   "execution_count": null,
   "id": "3076a820-add7-4541-95df-b4cda12c5fbc",
   "metadata": {
    "deletable": false,
    "id": "3076a820-add7-4541-95df-b4cda12c5fbc"
   },
   "outputs": [],
   "source": [
    "# Sort DataFrame ascending by date\n",
    "\n",
    "\n",
    "# Create \"return\" column\n",
    "\n",
    "\n",
    "print(\"df_suzlon shape:\", df_suzlon.shape)\n",
    "print(df_suzlon.info())\n",
    "df_suzlon.head()"
   ]
  },
  {
   "cell_type": "markdown",
   "id": "e04ec796-6fda-416a-9257-11dddae0b628",
   "metadata": {
    "deletable": false,
    "editable": false,
    "id": "e04ec796-6fda-416a-9257-11dddae0b628"
   },
   "source": [
    "Agora vamos plotar os retornos das nossas duas empresas e ver como as duas se comparam."
   ]
  },
  {
   "cell_type": "markdown",
   "id": "d85d36bb-6b5c-4f31-a8af-47240071ee6b",
   "metadata": {
    "deletable": false,
    "editable": false,
    "id": "d85d36bb-6b5c-4f31-a8af-47240071ee6b"
   },
   "source": [
    "### Exercício:\n",
    "Plote os retornos de `df_suzlon` e `df_ambuja`. Certifique-se de rotular seus eixos e usar uma legenda."
   ]
  },
  {
   "cell_type": "code",
   "execution_count": null,
   "id": "d95138c2-4fc2-4b42-96f2-62ab7e9ab874",
   "metadata": {
    "deletable": false,
    "id": "d95138c2-4fc2-4b42-96f2-62ab7e9ab874"
   },
   "outputs": [],
   "source": [
    "fig, ax = plt.subplots(figsize=(15, 6))\n",
    "# Plot returns for `df_suzlon` and `df_ambuja`\n",
    "\n",
    "\n",
    "\n",
    "# Label axes\n",
    "\n",
    "\n",
    "\n",
    "# Add legend\n"
   ]
  },
  {
   "cell_type": "markdown",
   "id": "6cd81a16-179a-47b2-8ab5-532f19cbf55a",
   "metadata": {
    "deletable": false,
    "editable": false,
    "id": "6cd81a16-179a-47b2-8ab5-532f19cbf55a"
   },
   "source": [
    "Sucesso! Ao representar os retornos como uma porcentagem, conseguimos comparar duas ações que têm preços muito diferentes. Mas o que essa visualização está nos dizendo? Podemos ver que os retornos da Suzlon têm uma variação maior. Observamos grandes ganhos e grandes perdas. Em contraste, a variação da Ambuja é mais estreita, o que significa que o preço não flutua tanto.\n",
    "\n",
    "Outro nome para essa flutuação diária nos retornos é chamado de [**volatilidade**](https://en.wikipedia.org/wiki/Volatility_(finance)), que é outro fator importante para os investidores. Portanto, na próxima lição, aprenderemos mais sobre volatilidade e, em seguida, construiremos um modelo de séries temporais para prever isso."
   ]
  },
  {
   "cell_type": "markdown",
   "id": "f052a506-dffe-4bb7-8733-05b10d595598",
   "metadata": {
    "deletable": false,
    "editable": false,
    "id": "f052a506-dffe-4bb7-8733-05b10d595598"
   },
   "source": [
    "# Previsão de Volatilidade"
   ]
  },
  {
   "cell_type": "markdown",
   "id": "1c58fcc7-f7a9-43f6-bdac-106799f600d1",
   "metadata": {
    "deletable": false,
    "editable": false,
    "id": "1c58fcc7-f7a9-43f6-bdac-106799f600d1"
   },
   "source": [
    "Na última aula, aprendemos que uma característica das ações que é importante para os investidores é a **volatilidade**. Na verdade, é tão importante que existem vários modelos de séries temporais para prevê-la. Nesta aula, construiremos um desses modelos chamado **GARCH**. Também continuaremos trabalhando com declarações de assertiva para testar nosso código."
   ]
  },
  {
   "cell_type": "code",
   "execution_count": null,
   "id": "9ef298f6-86e3-4fe4-9af7-fd5ac37383ec",
   "metadata": {
    "deletable": false,
    "editable": false,
    "id": "9ef298f6-86e3-4fe4-9af7-fd5ac37383ec",
    "init_cell": true
   },
   "outputs": [],
   "source": [
    "import sqlite3\n",
    "\n",
    "import matplotlib.pyplot as plt\n",
    "import numpy as np\n",
    "import pandas as pd\n",
    "from arch import arch_model\n",
    "from config import settings\n",
    "from data import SQLRepository\n",
    "from statsmodels.graphics.tsaplots import plot_acf, plot_pacf"
   ]
  },
  {
   "cell_type": "markdown",
   "id": "f367e686-f209-4001-ba58-2f01c717a5ec",
   "metadata": {
    "deletable": false,
    "editable": false,
    "id": "f367e686-f209-4001-ba58-2f01c717a5ec"
   },
   "source": [
    "# Preparar Dados\n",
    "\n",
    "Como sempre, a primeira coisa que precisamos fazer é nos conectar à nossa fonte de dados."
   ]
  },
  {
   "cell_type": "markdown",
   "id": "ab54f272-cb39-4861-8554-429b2faaf007",
   "metadata": {
    "deletable": false,
    "editable": false,
    "id": "ab54f272-cb39-4861-8554-429b2faaf007"
   },
   "source": [
    "## Importação"
   ]
  },
  {
   "cell_type": "markdown",
   "id": "54403bbd-90e2-4df5-9a9c-f620ffbe7970",
   "metadata": {
    "deletable": false,
    "editable": false,
    "id": "54403bbd-90e2-4df5-9a9c-f620ffbe7970"
   },
   "source": [
    "### Exercício:\n",
    "Crie uma conexão com o seu banco de dados e, em seguida, instancie um SQLRepository chamado repo para interagir com esse banco de dados."
   ]
  },
  {
   "cell_type": "code",
   "execution_count": null,
   "id": "27ae5ab8-a859-4f72-982b-7a6bf7e14737",
   "metadata": {
    "deletable": false,
    "id": "27ae5ab8-a859-4f72-982b-7a6bf7e14737"
   },
   "outputs": [],
   "source": [
    "connection = ...\n",
    "repo = ...\n",
    "\n",
    "print(\"repo type:\", type(repo))\n",
    "print(\"repo.connection type:\", type(repo.connection))"
   ]
  },
  {
   "cell_type": "markdown",
   "id": "f5c08a36-49c6-4d51-91d8-97f5274d4d1a",
   "metadata": {
    "deletable": false,
    "editable": false,
    "id": "f5c08a36-49c6-4d51-91d8-97f5274d4d1a"
   },
   "source": [
    "Agora que estamos conectados a um banco de dados, vamos extrair o que precisamos."
   ]
  },
  {
   "cell_type": "markdown",
   "id": "d8260f08-3daf-4958-ab03-f179026c1816",
   "metadata": {
    "deletable": false,
    "editable": false,
    "id": "d8260f08-3daf-4958-ab03-f179026c1816"
   },
   "source": [
    "### Exercício:\n",
    "Extraia as 2.500 linhas mais recentes de dados da Ambuja Cement do seu banco de dados. Atribua os resultados à variável `df_ambuja`."
   ]
  },
  {
   "cell_type": "code",
   "execution_count": null,
   "id": "6aae0dac-151a-4976-b8cb-61ed1c75ac8f",
   "metadata": {
    "deletable": false,
    "id": "6aae0dac-151a-4976-b8cb-61ed1c75ac8f"
   },
   "outputs": [],
   "source": [
    "df_ambuja = ...\n",
    "\n",
    "print(\"df_ambuja type:\", type(df_ambuja))\n",
    "print(\"df_ambuja shape:\", df_ambuja.shape)\n",
    "df_ambuja.head()"
   ]
  },
  {
   "cell_type": "markdown",
   "id": "d5bdec68-8903-43a2-91f8-6288f34cc72e",
   "metadata": {
    "deletable": false,
    "editable": false,
    "id": "d5bdec68-8903-43a2-91f8-6288f34cc72e"
   },
   "source": [
    "Para treinar nosso modelo, os únicos dados que precisamos são os retornos diários para `\"AMBUJACEM.BSE\"`. Aprendemos como calcular os retornos na última aula, mas agora vamos formalizar esse processo com uma função de tratamento."
   ]
  },
  {
   "cell_type": "markdown",
   "id": "125db279-7e3c-4341-90a9-8046e3493183",
   "metadata": {
    "deletable": false,
    "editable": false,
    "id": "125db279-7e3c-4341-90a9-8046e3493183"
   },
   "source": [
    "### Exercício:\n",
    "Crie uma função `wrangle_data` cujo resultado sejam os retornos de uma ação armazenada no seu banco de dados. Use a docstring como guia e as declarações de assertiva no bloco de código a seguir para testar sua função."
   ]
  },
  {
   "cell_type": "code",
   "execution_count": null,
   "id": "0d394609-f139-48c0-a104-2d5294f96828",
   "metadata": {
    "deletable": false,
    "id": "0d394609-f139-48c0-a104-2d5294f96828"
   },
   "outputs": [],
   "source": [
    "def wrangle_data():\n",
    "\n",
    "    \"\"\"Extract table data from database. Calculate returns.\n",
    "\n",
    "    Parameters\n",
    "    ----------\n",
    "    ticker : str\n",
    "        The ticker symbol of the stock (also table name in database).\n",
    "\n",
    "    n_observations : int\n",
    "        Number of observations to return.\n",
    "\n",
    "    Returns\n",
    "    -------\n",
    "    pd.Series\n",
    "        Name will be `\"return\"`. There will be no `NaN` values.\n",
    "    \"\"\"\n",
    "    # Get table from database\n",
    "\n",
    "\n",
    "    # Sort DataFrame ascending by date\n",
    "\n",
    "\n",
    "    # Create \"return\" column\n",
    "\n",
    "\n",
    "    # Return returns\n",
    "    return ..."
   ]
  },
  {
   "cell_type": "markdown",
   "id": "c3da8a10-477c-4d0c-b962-91c8d8cbc195",
   "metadata": {
    "deletable": false,
    "editable": false,
    "id": "c3da8a10-477c-4d0c-b962-91c8d8cbc195"
   },
   "source": [
    "Quando você executar a célula abaixo para testar sua função, também criará uma Série `y_ambuja` que usaremos para treinar nosso modelo."
   ]
  },
  {
   "cell_type": "code",
   "execution_count": null,
   "id": "4868bd94-afe9-48d4-b9d7-4f99c8e55f4b",
   "metadata": {
    "deletable": false,
    "id": "4868bd94-afe9-48d4-b9d7-4f99c8e55f4b"
   },
   "outputs": [],
   "source": [
    "y_ambuja = wrangle_data(ticker=\"AMBUJACEM.BSE\", n_observations=2500)\n",
    "\n",
    "# Is `y_ambuja` a Series?\n",
    "assert isinstance(y_ambuja, pd.Series)\n",
    "\n",
    "# Are there 2500 observations in the Series?\n",
    "assert len(y_ambuja) == 2500\n",
    "\n",
    "# Is `y_ambuja` name \"return\"?\n",
    "assert y_ambuja.name == \"return\"\n",
    "\n",
    "# Does `y_ambuja` have a DatetimeIndex?\n",
    "assert isinstance(y_ambuja.index, pd.DatetimeIndex)\n",
    "\n",
    "# Is index sorted ascending?\n",
    "assert all(y_ambuja.index == y_ambuja.sort_index(ascending=True).index)\n",
    "\n",
    "# Are there no `NaN` values?\n",
    "assert y_ambuja.isnull().sum() == 0\n",
    "\n",
    "y_ambuja.head()"
   ]
  },
  {
   "cell_type": "markdown",
   "id": "8e6d25fe-39bb-4854-8242-ce48ae94973c",
   "metadata": {
    "deletable": false,
    "editable": false,
    "id": "8e6d25fe-39bb-4854-8242-ce48ae94973c"
   },
   "source": [
    "Ótimo trabalho! Agora que temos uma função de tratamento, vamos obter os retornos da Suzlon Energy também."
   ]
  },
  {
   "cell_type": "markdown",
   "id": "165ecf06-93fb-4702-bb13-ee7a4a82441c",
   "metadata": {
    "deletable": false,
    "editable": false,
    "id": "165ecf06-93fb-4702-bb13-ee7a4a82441c"
   },
   "source": [
    "### Exercício:\n",
    "Use sua função `wrangle_data` para obter os retornos dos 2.500 dias de negociação mais recentes da Suzlon Energy. Atribua os resultados a `y_suzlon`."
   ]
  },
  {
   "cell_type": "code",
   "execution_count": null,
   "id": "765b8202-782e-4c86-a17e-5047298678ab",
   "metadata": {
    "deletable": false,
    "id": "765b8202-782e-4c86-a17e-5047298678ab"
   },
   "outputs": [],
   "source": [
    "y_suzlon = ...\n",
    "\n",
    "print(\"y_suzlon type:\", type(y_suzlon))\n",
    "print(\"y_suzlon shape:\", y_suzlon.shape)\n",
    "y_suzlon.head()"
   ]
  },
  {
   "cell_type": "markdown",
   "id": "7d18d60e-b4c9-4219-a8d8-98ef6ff8e959",
   "metadata": {
    "deletable": false,
    "editable": false,
    "id": "7d18d60e-b4c9-4219-a8d8-98ef6ff8e959"
   },
   "source": [
    "## Explorar"
   ]
  },
  {
   "cell_type": "markdown",
   "id": "dd917b12-c2ab-44d5-b625-4ce463968cbc",
   "metadata": {
    "deletable": false,
    "editable": false,
    "id": "dd917b12-c2ab-44d5-b625-4ce463968cbc"
   },
   "source": [
    "Vamos recriar o gráfico da série temporal de volatilidade que fizemos na última aula para que tenhamos um recurso visual para discutir o que é volatilidade."
   ]
  },
  {
   "cell_type": "code",
   "execution_count": null,
   "id": "d9f91a9f-1c4c-483c-8718-eb4e14a476c6",
   "metadata": {
    "deletable": false,
    "id": "d9f91a9f-1c4c-483c-8718-eb4e14a476c6"
   },
   "outputs": [],
   "source": [
    "fig, ax = plt.subplots(figsize=(15, 6))\n",
    "\n",
    "# Plot returns for `df_suzlon` and `df_ambuja`\n",
    "y_suzlon.plot(ax=ax, label=\"SUZLON\")\n",
    "y_ambuja.plot(ax=ax, label=\"AMBUJACEM\")\n",
    "\n",
    "# Label axes\n",
    "plt.xlabel(\"Date\")\n",
    "plt.ylabel(\"Return\")\n",
    "\n",
    "# Add legend\n",
    "plt.legend();"
   ]
  },
  {
   "cell_type": "markdown",
   "id": "41a0a05b-a035-4e03-a932-fcf136882ab4",
   "metadata": {
    "deletable": false,
    "editable": false,
    "id": "41a0a05b-a035-4e03-a932-fcf136882ab4"
   },
   "source": [
    "O gráfico acima mostra como os retornos mudam ao longo do tempo. Isso pode parecer um conceito totalmente novo, mas se visualizarmos os retornos sem considerar o tempo, as coisas começarão a parecer familiares."
   ]
  },
  {
   "cell_type": "markdown",
   "id": "6f2e3e53-0bca-46de-b850-46cf5c76c134",
   "metadata": {
    "deletable": false,
    "editable": false,
    "id": "6f2e3e53-0bca-46de-b850-46cf5c76c134"
   },
   "source": [
    "### Exercício:\n",
    "Crie um histograma de `y_ambuja` com 25 bins. Certifique-se de rotular o eixo x como `\"Retornos\"`, o eixo y como `\"Frequência [contagem]\"` e use o título `\"Distribuição dos Retornos Diários da Ambuja Cement\"`."
   ]
  },
  {
   "cell_type": "code",
   "execution_count": null,
   "id": "a471c87d-6427-431a-b236-40b00630e5b5",
   "metadata": {
    "deletable": false,
    "id": "a471c87d-6427-431a-b236-40b00630e5b5"
   },
   "outputs": [],
   "source": [
    "# Create histogram of `y_ambuja`, 25 bins\n",
    "\n",
    "\n",
    "# Add axis labels\n",
    "\n",
    "\n",
    "\n",
    "# Add title\n"
   ]
  },
  {
   "cell_type": "markdown",
   "id": "4b62d9f7-7551-43e7-a94e-4c7cb707d1d9",
   "metadata": {
    "deletable": false,
    "editable": false,
    "id": "4b62d9f7-7551-43e7-a94e-4c7cb707d1d9"
   },
   "source": [
    "Essa é uma forma familiar! Acontece que os retornos seguem uma distribuição quase normal, centrada em `0`. **Volatilidade** é a medida da dispersão desses retornos em torno da média. Em outras palavras, a volatilidade em finanças é a mesma coisa que o desvio padrão em estatísticas.\n",
    "\n",
    "Vamos começar medindo a volatilidade diária das nossas duas ações. Como nossa frequência de dados também é diária, isso será exatamente o mesmo que calcular o desvio padrão."
   ]
  },
  {
   "cell_type": "markdown",
   "id": "34cd8d94-e36a-4323-84cc-55352c3011d4",
   "metadata": {
    "deletable": false,
    "editable": false,
    "id": "34cd8d94-e36a-4323-84cc-55352c3011d4"
   },
   "source": [
    "### Exercício:\n",
    "Calcule a volatilidade diária para Suzlon e Ambuja, atribuindo os resultados às variáveis `suzlon_daily_volatility` e `ambuja_daily_volatility`, respectivamente."
   ]
  },
  {
   "cell_type": "code",
   "execution_count": null,
   "id": "4cb88ec7-3939-4beb-8338-22fec5c61fe9",
   "metadata": {
    "deletable": false,
    "id": "4cb88ec7-3939-4beb-8338-22fec5c61fe9"
   },
   "outputs": [],
   "source": [
    "suzlon_daily_volatility = ...\n",
    "ambuja_daily_volatility = ...\n",
    "\n",
    "print(\"Suzlon Daily Volatility:\", suzlon_daily_volatility)\n",
    "print(\"Ambuja Daily Volatility:\", ambuja_daily_volatility)"
   ]
  },
  {
   "cell_type": "markdown",
   "id": "c105a396-db94-4d3e-91e2-8b6578427fb2",
   "metadata": {
    "deletable": false,
    "editable": false,
    "id": "c105a396-db94-4d3e-91e2-8b6578427fb2"
   },
   "source": [
    "Parece que Suzlon é mais volátil do que Ambuja. Isso reforça o que vimos em nosso gráfico de série temporal, onde os retornos da Suzlon têm uma dispersão muito maior.\n",
    "\n",
    "Embora a volatilidade diária seja útil, os investidores também se interessam pela volatilidade em outros períodos — como a volatilidade anual. Lembre-se de que um ano não tem 365 dias para o mercado de ações. Após excluir finais de semana e feriados, a maioria dos mercados tem apenas 252 dias de negociação.\n",
    "\n",
    "Então, como fazemos a transição da volatilidade diária para a volatilidade anual? Da mesma forma que calculamos o desvio padrão para nosso experimento de vários dias no Projeto 7!"
   ]
  },
  {
   "cell_type": "markdown",
   "id": "815ada86-e32f-45e7-848e-86795a319dfe",
   "metadata": {
    "deletable": false,
    "editable": false,
    "id": "815ada86-e32f-45e7-848e-86795a319dfe"
   },
   "source": [
    "### Exercício:\n",
    "Calcule a volatilidade anual para Suzlon e Ambuja, atribuindo os resultados a `suzlon_annual_volatility` e `ambuja_annual_volatility`, respectivamente."
   ]
  },
  {
   "cell_type": "code",
   "execution_count": null,
   "id": "24903149-26c2-4664-a48a-7adeed64708b",
   "metadata": {
    "deletable": false,
    "id": "24903149-26c2-4664-a48a-7adeed64708b"
   },
   "outputs": [],
   "source": [
    "suzlon_annual_volatility = ...\n",
    "ambuja_annual_volatility = ...\n",
    "\n",
    "print(\"Suzlon Annual Volatility:\", suzlon_annual_volatility)\n",
    "print(\"Ambuja Annual Volatility:\", ambuja_annual_volatility)"
   ]
  },
  {
   "cell_type": "markdown",
   "id": "c6a6d09e-0498-4271-a6eb-3b73eec09d18",
   "metadata": {
    "deletable": false,
    "editable": false,
    "id": "c6a6d09e-0498-4271-a6eb-3b73eec09d18"
   },
   "source": [
    "Novamente, Suzlon apresenta uma volatilidade maior do que Ambuja. O que você acha que significa que a volatilidade anual é maior do que a volatilidade diária?"
   ]
  },
  {
   "cell_type": "markdown",
   "id": "eda1ba56-46b4-4cb9-abd6-a0085923656a",
   "metadata": {
    "deletable": false,
    "editable": false,
    "id": "eda1ba56-46b4-4cb9-abd6-a0085923656a"
   },
   "source": [
    "Como estamos lidando com dados de séries temporais, outra maneira de analisar a volatilidade é calculá-la usando uma janela deslizante. Começaremos a nos concentrar exclusivamente na Ambuja Cement."
   ]
  },
  {
   "cell_type": "markdown",
   "id": "23e86fc9-5e19-485c-b4fa-c7d7ffe5f085",
   "metadata": {
    "deletable": false,
    "editable": false,
    "id": "23e86fc9-5e19-485c-b4fa-c7d7ffe5f085"
   },
   "source": [
    "### Exercício:\n",
    "Calcule a volatilidade móvel para `y_ambuja`, usando uma janela de 50 dias. Atribua o resultado a `ambuja_rolling_50d_volatility`."
   ]
  },
  {
   "cell_type": "code",
   "execution_count": null,
   "id": "64837a2c-91f0-42a5-b805-e644b4d66674",
   "metadata": {
    "deletable": false,
    "id": "64837a2c-91f0-42a5-b805-e644b4d66674"
   },
   "outputs": [],
   "source": [
    "ambuja_rolling_50d_volatility = ...\n",
    "\n",
    "print(\"rolling_50d_volatility type:\", type(ambuja_rolling_50d_volatility))\n",
    "print(\"rolling_50d_volatility shape:\", ambuja_rolling_50d_volatility.shape)\n",
    "ambuja_rolling_50d_volatility.head()"
   ]
  },
  {
   "cell_type": "markdown",
   "id": "5cde1ec3-4002-4ffc-81d7-04ddccaee304",
   "metadata": {
    "deletable": false,
    "editable": false,
    "id": "5cde1ec3-4002-4ffc-81d7-04ddccaee304"
   },
   "source": [
    "Desta vez, vamos nos concentrar na Ambuja Cement."
   ]
  },
  {
   "cell_type": "markdown",
   "id": "4d911cbc-f05d-46d2-9834-059f76e8c826",
   "metadata": {
    "deletable": false,
    "editable": false,
    "id": "4d911cbc-f05d-46d2-9834-059f76e8c826"
   },
   "source": [
    "### Exercício:\n",
    "Crie um gráfico de série temporal mostrando os retornos diários da Ambuja Cement e a volatilidade móvel de 50 dias. Certifique-se de rotular seus eixos e incluir uma legenda."
   ]
  },
  {
   "cell_type": "code",
   "execution_count": null,
   "id": "196b280a-653c-49e9-bee9-3808fca904ca",
   "metadata": {
    "deletable": false,
    "id": "196b280a-653c-49e9-bee9-3808fca904ca"
   },
   "outputs": [],
   "source": [
    "fig, ax = plt.subplots(figsize=(15, 6))\n",
    "\n",
    "# Plot `y_ambuja`\n",
    "\n",
    "\n",
    "# Plot `ambuja_rolling_50d_volatility`\n",
    "\n",
    "\n",
    "# Add x-axis label\n",
    "\n",
    "\n",
    "# Add legend\n"
   ]
  },
  {
   "cell_type": "markdown",
   "id": "d41d0ed6-068e-43e3-9212-7bd98a5c2eb9",
   "metadata": {
    "deletable": false,
    "editable": false,
    "id": "d41d0ed6-068e-43e3-9212-7bd98a5c2eb9"
   },
   "source": [
    "Aqui podemos ver que a volatilidade aumenta quando os retornos mudam drasticamente — tanto para cima quanto para baixo. Por exemplo, podemos observar um grande aumento na volatilidade em maio de 2020, quando houve vários dias de grandes retornos negativos. Também podemos ver a volatilidade diminuir em agosto de 2022, quando há apenas pequenas mudanças diárias nos retornos.\n",
    "\n",
    "Esse gráfico revela um problema. Queremos usar os retornos para ver se uma alta volatilidade em um dia está associada a uma alta volatilidade no dia seguinte. Mas a alta volatilidade é causada por grandes mudanças nos retornos, que podem ser positivas ou negativas. Como podemos avaliar números negativos e positivos juntos sem que eles se cancelarem? Uma solução é tomar o valor absoluto dos números, que é o que fazemos para calcular métricas de desempenho, como o erro absoluto médio. A outra solução, que é mais comum neste contexto, é elevar todos os valores ao quadrado."
   ]
  },
  {
   "cell_type": "markdown",
   "id": "30868fc2-e28a-446f-8dbd-0b3e2e83c3b0",
   "metadata": {
    "deletable": false,
    "editable": false,
    "id": "30868fc2-e28a-446f-8dbd-0b3e2e83c3b0"
   },
   "source": [
    "### Exercício:\n",
    "Crie um gráfico de série temporal dos retornos ao quadrado em `y_ambuja`. Não se esqueça de rotular seus eixos."
   ]
  },
  {
   "cell_type": "code",
   "execution_count": null,
   "id": "43da1d40-550b-4c08-ad74-968f4280e589",
   "metadata": {
    "deletable": false,
    "id": "43da1d40-550b-4c08-ad74-968f4280e589"
   },
   "outputs": [],
   "source": [
    "fig, ax = plt.subplots(figsize=(15, 6))\n",
    "\n",
    "# Plot squared returns\n",
    "\n",
    "\n",
    "# Add axis labels\n",
    "\n"
   ]
  },
  {
   "cell_type": "markdown",
   "id": "8b834de4-dc54-4b63-a3c4-7ea51fc6324b",
   "metadata": {
    "deletable": false,
    "editable": false,
    "id": "8b834de4-dc54-4b63-a3c4-7ea51fc6324b"
   },
   "source": [
    "Perfeito! Agora é muito mais fácil ver que (1) temos períodos de alta e baixa volatilidade, e (2) os dias de alta volatilidade tendem a se agrupar. Esta é uma situação perfeita para usar um modelo GARCH.\n",
    "\n",
    "Um modelo GARCH é um tipo de modelo ARMA que aprendemos na Aula 3.4. Ele tem um parâmetro `p` que lida com correlações em etapas de tempo anteriores e um parâmetro `q` para lidar com eventos de \"choque\". Ele também utiliza a noção de defasagem. Para ver quantas defasagens devemos ter em nosso modelo, devemos criar um gráfico ACF e PACF — mas usando os retornos ao quadrado."
   ]
  },
  {
   "cell_type": "markdown",
   "id": "a16260c5-732d-4c93-a99a-e0c6d7620573",
   "metadata": {
    "deletable": false,
    "editable": false,
    "id": "a16260c5-732d-4c93-a99a-e0c6d7620573"
   },
   "source": [
    "### Exercício:\n",
    "Crie um gráfico ACF dos retornos ao quadrado da Ambuja Cement. Certifique-se de rotular seu eixo x como `\"Defasagem [dias]\"` e seu eixo y como `\"Coeficiente de Correlação\"`."
   ]
  },
  {
   "cell_type": "code",
   "execution_count": null,
   "id": "9e71e04b-32a8-4497-9f76-677ddfef7f7d",
   "metadata": {
    "deletable": false,
    "id": "9e71e04b-32a8-4497-9f76-677ddfef7f7d"
   },
   "outputs": [],
   "source": [
    "fig, ax = plt.subplots(figsize=(15, 6))\n",
    "\n",
    "# Create ACF of squared returns\n",
    "\n",
    "\n",
    "# Add axis labels\n",
    "\n"
   ]
  },
  {
   "cell_type": "markdown",
   "id": "9ff76d6f-e1b6-416f-aa07-ad235277900d",
   "metadata": {
    "deletable": false,
    "editable": false,
    "id": "9ff76d6f-e1b6-416f-aa07-ad235277900d"
   },
   "source": [
    "### Exercício:\n",
    "Crie um gráfico PACF dos retornos ao quadrado da Ambuja Cement. Certifique-se de rotular seu eixo x como `\"Defasagem [dias]\"` e seu eixo y como `\"Coeficiente de Correlação\"`."
   ]
  },
  {
   "cell_type": "code",
   "execution_count": null,
   "id": "262bea6b-bbd7-40c4-9446-b2df12b983ad",
   "metadata": {
    "deletable": false,
    "id": "262bea6b-bbd7-40c4-9446-b2df12b983ad"
   },
   "outputs": [],
   "source": [
    "fig, ax = plt.subplots(figsize=(15, 6))\n",
    "\n",
    "# Create PACF of squared returns\n",
    "\n",
    "\n",
    "# Add axis labels\n",
    "\n"
   ]
  },
  {
   "cell_type": "markdown",
   "id": "09ee2784-a850-4e55-9d73-712b68880ed2",
   "metadata": {
    "deletable": false,
    "editable": false,
    "id": "09ee2784-a850-4e55-9d73-712b68880ed2"
   },
   "source": [
    "Em nosso PACF, parece que uma defasagem de 3 seria um bom ponto de partida.\n",
    "\n",
    "Normalmente, neste ponto do processo de construção do modelo, dividiríamos nossos dados em conjuntos de treinamento e teste e, em seguida, estabeleceríamos uma linha de base. Não desta vez. Isso ocorre porque a entrada do nosso modelo e sua saída são duas medições diferentes. Usaremos **retornos** para treinar nosso modelo, mas queremos que ele preveja **volatilidade**. Se criássemos um conjunto de teste, não teríamos os \"valores verdadeiros\" que precisaríamos para avaliar o desempenho do nosso modelo. Portanto, desta vez, iremos direto para a iteração."
   ]
  },
  {
   "cell_type": "markdown",
   "id": "2a550951-98fe-4688-a448-1412ee3a08c2",
   "metadata": {
    "deletable": false,
    "editable": false,
    "id": "2a550951-98fe-4688-a448-1412ee3a08c2"
   },
   "source": [
    "## Dividir"
   ]
  },
  {
   "cell_type": "markdown",
   "id": "1a6d1dfa-ef5f-4b4e-8951-d3c40f8506c4",
   "metadata": {
    "deletable": false,
    "editable": false,
    "id": "1a6d1dfa-ef5f-4b4e-8951-d3c40f8506c4"
   },
   "source": [
    "A última coisa que precisamos fazer antes de construir nosso modelo é criar um conjunto de treinamento. Observe que não vamos criar um conjunto de teste aqui. Em vez disso, usaremos todo o `y_ambuja` para conduzir a validação em avanço contínuo após termos construído nosso modelo."
   ]
  },
  {
   "cell_type": "markdown",
   "id": "1a8f33d4-ceb3-45f1-ab51-d223b944d6dd",
   "metadata": {
    "deletable": false,
    "editable": false,
    "id": "1a8f33d4-ceb3-45f1-ab51-d223b944d6dd"
   },
   "source": [
    "### Exercício:\n",
    "Crie um conjunto de treinamento `y_ambuja_train` que contenha os primeiros 80% das observações em `y_ambuja`."
   ]
  },
  {
   "cell_type": "code",
   "execution_count": null,
   "id": "fa8aa22c-47dd-4200-9a2b-03b720c4d762",
   "metadata": {
    "deletable": false,
    "id": "fa8aa22c-47dd-4200-9a2b-03b720c4d762"
   },
   "outputs": [],
   "source": [
    "cutoff_test = ...\n",
    "y_ambuja_train = ...\n",
    "\n",
    "print(\"y_ambuja_train type:\", type(y_ambuja_train))\n",
    "print(\"y_ambuja_train shape:\", y_ambuja_train.shape)\n",
    "y_ambuja_train.tail()"
   ]
  },
  {
   "cell_type": "markdown",
   "id": "e2ce9a4f-9c9b-4391-98d9-0a4938156ff0",
   "metadata": {
    "deletable": false,
    "editable": false,
    "id": "e2ce9a4f-9c9b-4391-98d9-0a4938156ff0"
   },
   "source": [
    "# Construir Model"
   ]
  },
  {
   "cell_type": "markdown",
   "id": "01d407a0-e216-4c28-9b07-dbec43333e2a",
   "metadata": {
    "deletable": false,
    "editable": false,
    "id": "01d407a0-e216-4c28-9b07-dbec43333e2a"
   },
   "source": [
    "Assim como fizemos da última vez que construímos um modelo como este, começaremos a iterar."
   ]
  },
  {
   "cell_type": "markdown",
   "id": "5676e0c0-b4a5-47cf-9663-4cba27192ddc",
   "metadata": {
    "deletable": false,
    "editable": false,
    "id": "5676e0c0-b4a5-47cf-9663-4cba27192ddc"
   },
   "source": [
    "## Iterar"
   ]
  },
  {
   "cell_type": "markdown",
   "id": "adc079ff-4cdb-4769-a737-e96f83e034d7",
   "metadata": {
    "deletable": false,
    "editable": false,
    "id": "adc079ff-4cdb-4769-a737-e96f83e034d7"
   },
   "source": [
    "### Exercício:\n",
    "Construa e ajuste um modelo GARCH usando os dados em `y_ambuja`. Comece com `3` como valor para `p` e `q`. Em seguida, use o resumo do modelo para avaliar seu desempenho e experimente outras defasagens."
   ]
  },
  {
   "cell_type": "code",
   "execution_count": null,
   "id": "2089c76b-08b1-4a19-a072-45bb44d308bf",
   "metadata": {
    "deletable": false,
    "id": "2089c76b-08b1-4a19-a072-45bb44d308bf"
   },
   "outputs": [],
   "source": [
    "# Build and train model\n",
    "model = ...\n",
    "print(\"model type:\", type(model))\n",
    "\n",
    "# Show model summary\n"
   ]
  },
  {
   "cell_type": "markdown",
   "id": "6817c464-a39a-4d25-82e3-4c94532999f6",
   "metadata": {
    "deletable": false,
    "editable": false,
    "id": "6817c464-a39a-4d25-82e3-4c94532999f6"
   },
   "source": [
    "__Dica:__ Você pode acessar os scores AIC e BIC programaticamente. Cada <code>ARCHModelResult</code> possui um atributo <code>.aic</code> e <code>.bic</code>. Experimente você mesmo: insira <code>model.aic</code> ou <code>model.bic</code>."
   ]
  },
  {
   "cell_type": "markdown",
   "id": "e1f72021-bb34-462e-bacb-8a723947e2aa",
   "metadata": {
    "deletable": false,
    "editable": false,
    "id": "e1f72021-bb34-462e-bacb-8a723947e2aa"
   },
   "source": [
    "Agora que decidimos sobre um modelo, vamos visualizar suas previsões, juntamente com os retornos da Ambuja."
   ]
  },
  {
   "cell_type": "markdown",
   "id": "db46bbd6-0959-49a2-96f8-21ca76c60d94",
   "metadata": {
    "deletable": false,
    "editable": false,
    "id": "db46bbd6-0959-49a2-96f8-21ca76c60d94"
   },
   "source": [
    "### Exercício:\n",
    "Crie um gráfico de série temporal com os retornos da Ambuja e a volatilidade condicional do seu `modelo`. Certifique-se de incluir rótulos nos eixos e adicionar uma legenda."
   ]
  },
  {
   "cell_type": "code",
   "execution_count": null,
   "id": "19836c73-d06e-4235-badd-f59fbe8a5970",
   "metadata": {
    "deletable": false,
    "id": "19836c73-d06e-4235-badd-f59fbe8a5970"
   },
   "outputs": [],
   "source": [
    "fig, ax = plt.subplots(figsize=(15, 6))\n",
    "\n",
    "# Plot `y_ambuja_train`\n",
    "\n",
    "\n",
    "# Plot conditional volatility * 2\n",
    "\n",
    "\n",
    "# Plot conditional volatility * -2\n",
    "\n",
    "\n",
    "# Add axis labels\n",
    "\n",
    "\n",
    "\n",
    "# Add legend\n"
   ]
  },
  {
   "cell_type": "markdown",
   "id": "66b943bb-53e3-4c05-b4c7-f420b9a1b6c7",
   "metadata": {
    "deletable": false,
    "editable": false,
    "id": "66b943bb-53e3-4c05-b4c7-f420b9a1b6c7"
   },
   "source": [
    "Visualmente, nosso modelo parece bastante bom, mas devemos examinar os resíduos, apenas para garantir. No caso dos modelos GARCH, precisamos olhar para os resíduos padronizados."
   ]
  },
  {
   "cell_type": "markdown",
   "id": "6c654e13-5c63-46e2-87bc-0a23c658a812",
   "metadata": {
    "deletable": false,
    "editable": false,
    "id": "6c654e13-5c63-46e2-87bc-0a23c658a812"
   },
   "source": [
    "### Exercício:\n",
    "Crie um gráfico de série temporal dos resíduos padronizados do seu `modelo`. Certifique-se de incluir rótulos nos eixos e uma legenda."
   ]
  },
  {
   "cell_type": "code",
   "execution_count": null,
   "id": "422f2258-1088-42a2-b0df-b38f08101e86",
   "metadata": {
    "deletable": false,
    "id": "422f2258-1088-42a2-b0df-b38f08101e86"
   },
   "outputs": [],
   "source": [
    "fig, ax = plt.subplots(figsize=(15, 6))\n",
    "\n",
    "# Plot standardized residuals\n",
    "\n",
    "\n",
    "# Add axis labels\n",
    "\n",
    "\n",
    "\n",
    "# Add legend\n"
   ]
  },
  {
   "cell_type": "markdown",
   "id": "406600e6-074d-4470-9a0a-5b248599dd20",
   "metadata": {
    "deletable": false,
    "editable": false,
    "id": "406600e6-074d-4470-9a0a-5b248599dd20"
   },
   "source": [
    "Esses resíduos parecem bons: eles têm uma média e uma dispersão consistentes ao longo do tempo. Vamos verificar sua normalidade usando um histograma."
   ]
  },
  {
   "cell_type": "markdown",
   "id": "6a3469da-298f-4405-9642-7a045e27aea1",
   "metadata": {
    "deletable": false,
    "editable": false,
    "id": "6a3469da-298f-4405-9642-7a045e27aea1"
   },
   "source": [
    "### Exercício:\n",
    "Crie um histograma com 25 bins dos resíduos padronizados do seu modelo. Certifique-se de rotular seus eixos e usar um título."
   ]
  },
  {
   "cell_type": "code",
   "execution_count": null,
   "id": "2e70738a-75ff-4c3b-9c9d-49f15b75debd",
   "metadata": {
    "deletable": false,
    "id": "2e70738a-75ff-4c3b-9c9d-49f15b75debd"
   },
   "outputs": [],
   "source": [
    "# Create histogram of standardized residuals, 25 bins\n",
    "\n",
    "\n",
    "# Add axis labels\n",
    "\n",
    "\n",
    "\n",
    "# Add title\n"
   ]
  },
  {
   "cell_type": "markdown",
   "id": "f413b7c8-7ad2-42e9-bd58-f311fd085031",
   "metadata": {
    "deletable": false,
    "editable": false,
    "id": "f413b7c8-7ad2-42e9-bd58-f311fd085031"
   },
   "source": [
    "Nossa última visualização será a ACF dos resíduos padronizados. Assim como fizemos com nossa primeira ACF, precisaremos quadrar os valores aqui também."
   ]
  },
  {
   "cell_type": "markdown",
   "id": "e15d5674-8baf-4a22-8253-6bf73149a1aa",
   "metadata": {
    "deletable": false,
    "editable": false,
    "id": "e15d5674-8baf-4a22-8253-6bf73149a1aa"
   },
   "source": [
    "### Exercício:\n",
    "Crie um gráfico ACF do quadrado dos seus resíduos padronizados. Não se esqueça de rotular os eixos!"
   ]
  },
  {
   "cell_type": "code",
   "execution_count": null,
   "id": "d00d2168-9e26-409d-8bd1-b5d61683d50a",
   "metadata": {
    "deletable": false,
    "id": "d00d2168-9e26-409d-8bd1-b5d61683d50a"
   },
   "outputs": [],
   "source": [
    "fig, ax = plt.subplots(figsize=(15, 6))\n",
    "\n",
    "# Create ACF of squared, standardized residuals\n",
    "\n",
    "\n",
    "# Add axis labels\n",
    "\n"
   ]
  },
  {
   "cell_type": "markdown",
   "id": "6a079921-f894-457f-be68-fda18c7e6cb0",
   "metadata": {
    "deletable": false,
    "editable": false,
    "id": "6a079921-f894-457f-be68-fda18c7e6cb0"
   },
   "source": [
    "Excelente! Parece que este modelo está pronto para uma avaliação final."
   ]
  },
  {
   "cell_type": "markdown",
   "id": "55638147-a3df-4abb-9110-aea91e763e41",
   "metadata": {
    "deletable": false,
    "editable": false,
    "id": "55638147-a3df-4abb-9110-aea91e763e41",
    "tags": []
   },
   "source": [
    "## Avaliar"
   ]
  },
  {
   "cell_type": "markdown",
   "id": "d2802f08-661a-4ca3-9035-ca43d738c343",
   "metadata": {
    "deletable": false,
    "editable": false,
    "id": "d2802f08-661a-4ca3-9035-ca43d738c343"
   },
   "source": [
    "Para avaliar nosso modelo, faremos validação contínua. Antes de fazermos isso, vamos dar uma olhada em como este modelo retorna suas previsões."
   ]
  },
  {
   "cell_type": "markdown",
   "id": "e3879857-951c-4284-bd3c-daa5faa15ad9",
   "metadata": {
    "deletable": false,
    "editable": false,
    "id": "e3879857-951c-4284-bd3c-daa5faa15ad9"
   },
   "source": [
    "### Exercício:\n",
    "Crie uma previsão de um dia a partir do seu `modelo` e atribua o resultado à variável `one_day_forecast`."
   ]
  },
  {
   "cell_type": "code",
   "execution_count": null,
   "id": "e3a412e3-e408-47a4-8471-14436a8ab19b",
   "metadata": {
    "deletable": false,
    "id": "e3a412e3-e408-47a4-8471-14436a8ab19b"
   },
   "outputs": [],
   "source": [
    "one_day_forecast = ...\n",
    "\n",
    "print(\"one_day_forecast type:\", type(one_day_forecast))\n",
    "one_day_forecast"
   ]
  },
  {
   "cell_type": "markdown",
   "id": "9fbbb3a5-bc23-4fee-a85e-a71c8504b5ed",
   "metadata": {
    "deletable": false,
    "editable": false,
    "id": "9fbbb3a5-bc23-4fee-a85e-a71c8504b5ed"
   },
   "source": [
    "Existem duas coisas que precisamos ter em mente aqui. Primeiro, nossa previsão do `modelo` mostra a **variância** prevista, não o **desvio padrão** / **volatilidade**. Portanto, precisaremos tirar a raiz quadrada do valor. Em segundo lugar, a previsão está na forma de um DataFrame. Ele possui um DatetimeIndex, e a data é o último dia para o qual temos dados de treinamento. A coluna `\"h.1\"` representa \"horizonte 1\", ou seja, a previsão do nosso modelo para o dia seguinte. Precisaremos manter tudo isso em mente ao reformular essa previsão para servir ao usuário final de nossa aplicação."
   ]
  },
  {
   "cell_type": "markdown",
   "id": "990f9aef-ba7a-4061-ad90-c90b66d90894",
   "metadata": {
    "deletable": false,
    "editable": false,
    "id": "990f9aef-ba7a-4061-ad90-c90b66d90894"
   },
   "source": [
    "### Exercício:\n",
    "Complete o código abaixo para realizar a validação contínua no seu `modelo`. Em seguida, execute o bloco de código a seguir para visualizar as previsões do modelo em teste."
   ]
  },
  {
   "cell_type": "code",
   "execution_count": null,
   "id": "93e4b808-b717-4b99-8ab8-8131c835adcc",
   "metadata": {
    "deletable": false,
    "id": "93e4b808-b717-4b99-8ab8-8131c835adcc"
   },
   "outputs": [],
   "source": [
    "# Create empty list to hold predictions\n",
    "predictions = []\n",
    "\n",
    "# Calculate size of test data (20%)\n",
    "test_size = int(len(y_ambuja) * 0.2)\n",
    "\n",
    "# Walk forward\n",
    "for i in range(test_size):\n",
    "    # Create test data\n",
    "    y_train = y_ambuja.iloc[: -(test_size - i)]\n",
    "\n",
    "    # Train model\n",
    "    model = ...\n",
    "\n",
    "    # Generate next prediction (volatility, not variance)\n",
    "    next_pred = ...\n",
    "\n",
    "    # Append prediction to list\n",
    "    predictions.append(next_pred)\n",
    "\n",
    "# Create Series from predictions list\n",
    "y_test_wfv = pd.Series(predictions, index=y_ambuja.tail(test_size).index)\n",
    "\n",
    "print(\"y_test_wfv type:\", type(y_test_wfv))\n",
    "print(\"y_test_wfv shape:\", y_test_wfv.shape)\n",
    "y_test_wfv.head()"
   ]
  },
  {
   "cell_type": "code",
   "execution_count": null,
   "id": "6873867f-f503-4b7d-9009-5a820879af68",
   "metadata": {
    "deletable": false,
    "id": "6873867f-f503-4b7d-9009-5a820879af68"
   },
   "outputs": [],
   "source": [
    "fig, ax = plt.subplots(figsize=(15, 6))\n",
    "\n",
    "# Plot returns for test data\n",
    "y_ambuja.tail(test_size).plot(ax=ax, label=\"Ambuja Return\")\n",
    "\n",
    "# Plot volatility predictions * 2\n",
    "(2 * y_test_wfv).plot(ax=ax, c=\"C1\", label=\"2 SD Predicted Volatility\")\n",
    "\n",
    "# Plot volatility predictions * -2\n",
    "(-2 * y_test_wfv).plot(ax=ax, c=\"C1\")\n",
    "\n",
    "# Label axes\n",
    "plt.xlabel(\"Date\")\n",
    "plt.ylabel(\"Return\")\n",
    "\n",
    "# Add legend\n",
    "plt.legend();"
   ]
  },
  {
   "cell_type": "markdown",
   "id": "511017b8-b57b-4b55-82bf-cbc5ab57a816",
   "metadata": {
    "deletable": false,
    "editable": false,
    "id": "511017b8-b57b-4b55-82bf-cbc5ab57a816"
   },
   "source": [
    "Isso parece muito bom. Nossas previsões de volatilidade parecem seguir as mudanças nos retornos ao longo do tempo. Isso é especialmente claro no período de baixa volatilidade no verão de 2022 e no período de alta volatilidade no outono de 2022.\n",
    "\n",
    "Um passo adicional que poderíamos dar para avaliar como o nosso `modelo` se sai nos dados de teste seria plotar a ACF dos resíduos padronizados apenas para o conjunto de teste. Mas você pode fazer esse passo por conta própria."
   ]
  },
  {
   "cell_type": "markdown",
   "id": "0e74ac46-0f2a-4da1-ab7d-affad15f2378",
   "metadata": {
    "deletable": false,
    "editable": false,
    "id": "0e74ac46-0f2a-4da1-ab7d-affad15f2378"
   },
   "source": [
    "# Comunicar Resultados"
   ]
  },
  {
   "cell_type": "markdown",
   "id": "bd313a79-fadb-4da0-940c-84b25cc82af2",
   "metadata": {
    "deletable": false,
    "editable": false,
    "id": "bd313a79-fadb-4da0-940c-84b25cc82af2"
   },
   "source": [
    "Normalmente, nesta seção, criamos visualizações para um público humano, mas nosso objetivo para *este* projeto é criar uma API para um público *computacional*. Portanto, vamos nos concentrar em transformar as previsões do nosso modelo em formato JSON, que é o que usaremos para enviar previsões em nossa aplicação.\n",
    "\n",
    "A primeira coisa que precisamos fazer é criar um `DatetimeIndex` para nossas previsões. Usar rótulos como `\"h.1\"`, `\"h.2\"`, etc., não funcionará. Mas há duas coisas que precisamos ter em mente. Primeiro, não podemos incluir datas que sejam fins de semana, pois não há negociações nesses dias. E precisaremos escrever nossas datas usando strings que sigam o padrão [ISO 8601](https://en.wikipedia.org/wiki/ISO_8601)."
   ]
  },
  {
   "cell_type": "markdown",
   "id": "59440538-e96b-49cd-9734-449b3a7b021d",
   "metadata": {
    "deletable": false,
    "editable": false,
    "id": "59440538-e96b-49cd-9734-449b3a7b021d"
   },
   "source": [
    "### Exercício:\n",
    "Abaixo está uma `previsão`, que contém uma previsão de 5 dias do nosso `modelo`. Usando isso como ponto de partida, crie um `índice_de_previsão`. Isso deve ser uma lista com as seguintes 5 datas escritas no formato ISO 8601."
   ]
  },
  {
   "cell_type": "code",
   "execution_count": null,
   "id": "393da727-0215-486a-9d41-54b3573e06c0",
   "metadata": {
    "deletable": false,
    "id": "393da727-0215-486a-9d41-54b3573e06c0"
   },
   "outputs": [],
   "source": [
    "# Generate 5-day volatility forecast\n",
    "prediction = model.forecast(horizon=5, reindex=False).variance ** 0.5\n",
    "print(prediction)\n",
    "\n",
    "# Calculate forecast start date\n",
    "start = ...\n",
    "\n",
    "# Create date range\n",
    "prediction_dates = ...\n",
    "\n",
    "# Create prediction index labels, ISO 8601 format\n",
    "prediction_index = ...\n",
    "\n",
    "print(\"prediction_index type:\", type(prediction_index))\n",
    "print(\"prediction_index len:\", len(prediction_index))\n",
    "prediction_index[:3]"
   ]
  },
  {
   "cell_type": "markdown",
   "id": "52faac34-b977-4d10-a629-28ea003e7ed9",
   "metadata": {
    "deletable": false,
    "editable": false,
    "id": "52faac34-b977-4d10-a629-28ea003e7ed9"
   },
   "source": [
    "Agora que sabemos como criar o índice, vamos criar uma função para combinar o índice e as previsões, e então retornar um dicionário onde cada chave é uma data e cada valor é uma volatilidade prevista."
   ]
  },
  {
   "cell_type": "markdown",
   "id": "5646c1e0-d803-4782-ac49-d8babf57937c",
   "metadata": {
    "deletable": false,
    "editable": false,
    "id": "5646c1e0-d803-4782-ac49-d8babf57937c"
   },
   "source": [
    "### Exercício:\n",
    "Crie uma função `clean_prediction`. Ela deve receber um DataFrame de previsões de variância como entrada e retornar um dicionário onde cada chave é uma data no formato ISO 8601 e cada valor é a volatilidade prevista. Use a docstring como guia e as instruções `assert` para testar sua função. Quando estiver satisfeito com o resultado, envie-o para o avaliador."
   ]
  },
  {
   "cell_type": "code",
   "execution_count": null,
   "id": "2017caee-e09c-43db-bc82-8ab5e1bb19da",
   "metadata": {
    "deletable": false,
    "id": "2017caee-e09c-43db-bc82-8ab5e1bb19da"
   },
   "outputs": [],
   "source": [
    "def clean_prediction():\n",
    "\n",
    "    \"\"\"Reformat model prediction to JSON.\n",
    "\n",
    "    Parameters\n",
    "    ----------\n",
    "    prediction : pd.DataFrame\n",
    "        Variance from a `ARCHModelForecast`\n",
    "\n",
    "    Returns\n",
    "    -------\n",
    "    dict\n",
    "        Forecast of volatility. Each key is date in ISO 8601 format.\n",
    "        Each value is predicted volatility.\n",
    "    \"\"\"\n",
    "    # Calculate forecast start date\n",
    "\n",
    "\n",
    "    # Create date range\n",
    "\n",
    "\n",
    "    # Create prediction index labels, ISO 8601 format\n",
    "\n",
    "\n",
    "    # Extract predictions from DataFrame, get square root\n",
    "\n",
    "\n",
    "    # Combine `data` and `prediction_index` into Series\n",
    "\n",
    "\n",
    "    # Return Series as dictionary\n",
    "    return ..."
   ]
  },
  {
   "cell_type": "code",
   "execution_count": null,
   "id": "785187dd-cf2c-4256-865c-52722532a329",
   "metadata": {
    "deletable": false,
    "id": "785187dd-cf2c-4256-865c-52722532a329"
   },
   "outputs": [],
   "source": [
    "prediction = model.forecast(horizon=10, reindex=False).variance\n",
    "prediction_formatted = clean_prediction(prediction)\n",
    "\n",
    "# Is `prediction_formatted` a dictionary?\n",
    "assert isinstance(prediction_formatted, dict)\n",
    "\n",
    "# Are keys correct data type?\n",
    "assert all(isinstance(k, str) for k in prediction_formatted.keys())\n",
    "\n",
    "# Are values correct data type\n",
    "assert all(isinstance(v, float) for v in prediction_formatted.values())\n",
    "\n",
    "prediction_formatted"
   ]
  },
  {
   "cell_type": "markdown",
   "id": "2c861196-2975-495e-b81e-fbec48a89293",
   "metadata": {
    "deletable": false,
    "editable": false,
    "id": "2c861196-2975-495e-b81e-fbec48a89293"
   },
   "source": [
    "Ótimo trabalho! Agora temos vários componentes para nossa aplicação: classes para obter dados de uma API, classes para armazená-los em um banco de dados e código para construir nosso modelo e limpar nossas previsões. O próximo passo é criar uma classe para nosso modelo e definir os caminhos para a aplicação — ambos serão feitos na próxima lição."
   ]
  },
  {
   "cell_type": "markdown",
   "id": "215c83eb-b91f-4f83-bb76-9325dfa73567",
   "metadata": {
    "deletable": false,
    "editable": false,
    "id": "215c83eb-b91f-4f83-bb76-9325dfa73567"
   },
   "source": [
    "# Model Deployment"
   ]
  },
  {
   "cell_type": "markdown",
   "id": "1b6c86c4-a444-4b87-a739-e4e4eb17f66f",
   "metadata": {
    "deletable": false,
    "editable": false,
    "id": "1b6c86c4-a444-4b87-a739-e4e4eb17f66f"
   },
   "source": [
    "Pronto para o deploy! Nas últimas três lições, construímos todas as peças de que precisamos para nossa aplicação. Temos um módulo para obter e armazenar nossos dados. Temos o código para treinar nosso modelo e limpar suas previsões. Nesta lição, vamos juntar todas essas peças e fazer o deploy do nosso modelo com uma API que outros poderão usar para treinar seus próprios modelos e prever a volatilidade. Vamos começar criando um `model` para todo o código que criamos na última lição. Depois, completaremos nosso módulo `main`, que conterá nossa aplicação FastAPI com dois caminhos: um para o treinamento do modelo e outro para a previsão. Vamos começar!"
   ]
  },
  {
   "cell_type": "code",
   "execution_count": null,
   "id": "c7bb7093-1121-4333-967a-bc205b647c95",
   "metadata": {
    "deletable": false,
    "editable": false,
    "id": "c7bb7093-1121-4333-967a-bc205b647c95",
    "init_cell": true
   },
   "outputs": [],
   "source": [
    "%load_ext autoreload\n",
    "%autoreload 2\n",
    "\n",
    "import os\n",
    "import sqlite3\n",
    "from glob import glob\n",
    "\n",
    "import joblib\n",
    "import pandas as pd\n",
    "import requests\n",
    "from arch.univariate.base import ARCHModelResult\n",
    "from config import settings\n",
    "from data import SQLRepository"
   ]
  },
  {
   "cell_type": "markdown",
   "id": "c2086d75-4525-4af3-a649-7e129a6b1679",
   "metadata": {
    "deletable": false,
    "editable": false,
    "id": "c2086d75-4525-4af3-a649-7e129a6b1679"
   },
   "source": [
    "# Módulo do Modelo\n"
   ]
  },
  {
   "cell_type": "markdown",
   "id": "c62563bc-8cca-489a-b93e-373d83a9ac92",
   "metadata": {
    "deletable": false,
    "editable": false,
    "id": "c62563bc-8cca-489a-b93e-373d83a9ac92"
   },
   "source": [
    "Criamos muito código na última lição para construir, treinar e fazer previsões com o nosso modelo GARCH(1,1). Queremos que esse código seja reutilizável, então vamos colocá-lo em um módulo próprio.\n",
    "\n",
    "Vamos começar instanciando um repositório que usaremos para testar nosso módulo conforme o desenvolvemos."
   ]
  },
  {
   "cell_type": "markdown",
   "id": "270de4f0-2f8b-41e2-9cb5-b324b130a22f",
   "metadata": {
    "deletable": false,
    "editable": false,
    "id": "270de4f0-2f8b-41e2-9cb5-b324b130a22f"
   },
   "source": [
    "### Exercício:\n",
    "Crie um `SQLRepository` chamado `repo`. Certifique-se de que ele esteja conectado a uma conexão SQLite."
   ]
  },
  {
   "cell_type": "code",
   "execution_count": null,
   "id": "58a0ee94-79d0-424f-b7ff-9253cc3443e8",
   "metadata": {
    "deletable": false,
    "id": "58a0ee94-79d0-424f-b7ff-9253cc3443e8"
   },
   "outputs": [],
   "source": [
    "connection = ...\n",
    "repo = ...\n",
    "\n",
    "print(\"repo type:\", type(repo))\n",
    "print(\"repo.connection type:\", type(repo.connection))"
   ]
  },
  {
   "cell_type": "markdown",
   "id": "5b9dfaac-b1ff-4359-9884-200192622a9f",
   "metadata": {
    "deletable": false,
    "editable": false,
    "id": "5b9dfaac-b1ff-4359-9884-200192622a9f"
   },
   "source": [
    "Agora que temos o `repo` pronto, vamos mudar para o nosso módulo `model` e criar uma classe `GarchModel` para armazenar todo o nosso código da última lição."
   ]
  },
  {
   "cell_type": "markdown",
   "id": "2cf70acd-613f-44d3-b3a0-18c5c80afce5",
   "metadata": {
    "deletable": false,
    "editable": false,
    "id": "2cf70acd-613f-44d3-b3a0-18c5c80afce5"
   },
   "source": [
    "### Exercício:\n",
    "No módulo `model`, crie uma definição para uma classe de modelo `GarchModel`. Por enquanto, ela deve ter apenas um método `__init__`. Use o docstring como guia. Quando terminar, teste sua classe usando as instruções `assert` abaixo."
   ]
  },
  {
   "cell_type": "code",
   "execution_count": null,
   "id": "495d5150-5178-4976-92c3-4f12f2f29f34",
   "metadata": {
    "deletable": false,
    "id": "495d5150-5178-4976-92c3-4f12f2f29f34"
   },
   "outputs": [],
   "source": [
    "from model import GarchModel\n",
    "\n",
    "# Instantiate a `GarchModel`\n",
    "gm_ambuja = GarchModel(ticker=\"AMBUJACEM.BSE\", repo=repo, use_new_data=False)\n",
    "\n",
    "# Does `gm_ambuja` have the correct attributes?\n",
    "assert gm_ambuja.ticker == \"AMBUJACEM.BSE\"\n",
    "assert gm_ambuja.repo == repo\n",
    "assert not gm_ambuja.use_new_data\n",
    "assert gm_ambuja.model_directory == settings.model_directory"
   ]
  },
  {
   "cell_type": "markdown",
   "id": "3ccc64d2-c0ca-4a4a-8fae-60183b608d92",
   "metadata": {
    "deletable": false,
    "editable": false,
    "id": "3ccc64d2-c0ca-4a4a-8fae-60183b608d92"
   },
   "source": [
    "### Exercício:\n",
    "Transforme sua função `wrangle_data` da última lição em um método para a classe `GarchModel`. Quando terminar, use as instruções `assert` abaixo para testar o método, obtendo e organizando dados para a loja de departamento [Shoppers Stop](https://www.shoppersstop.com/)."
   ]
  },
  {
   "cell_type": "code",
   "execution_count": null,
   "id": "45915594-111e-480b-a22f-47ab46ef75c5",
   "metadata": {
    "deletable": false,
    "id": "45915594-111e-480b-a22f-47ab46ef75c5"
   },
   "outputs": [],
   "source": [
    "# Instantiate `GarchModel`, use new data\n",
    "model_shop = GarchModel(ticker=\"SHOPERSTOP.BSE\", repo=repo, use_new_data=True)\n",
    "\n",
    "# Check that model doesn't have `data` attribute yet\n",
    "assert not hasattr(model_shop, \"data\")\n",
    "\n",
    "# Wrangle data\n",
    "model_shop.wrangle_data(n_observations=1000)\n",
    "\n",
    "# Does model now have `data` attribute?\n",
    "assert hasattr(model_shop, \"data\")\n",
    "\n",
    "# Is the `data` a Series?\n",
    "assert isinstance(model_shop.data, pd.Series)\n",
    "\n",
    "# Is Series correct shape?\n",
    "assert model_shop.data.shape == (1000,)\n",
    "\n",
    "model_shop.data.head()"
   ]
  },
  {
   "cell_type": "markdown",
   "id": "22d035b7-e081-4503-a7bc-617f35f4f6c4",
   "metadata": {
    "deletable": false,
    "editable": false,
    "id": "22d035b7-e081-4503-a7bc-617f35f4f6c4"
   },
   "source": [
    "### Exercício:\n",
    "Usando seu código da lição anterior, crie um método `fit` para sua classe `GarchModel`. Quando terminar, use o código abaixo para testá-lo."
   ]
  },
  {
   "cell_type": "code",
   "execution_count": null,
   "id": "23f66c6c-4975-41d0-8612-08b4791f969c",
   "metadata": {
    "deletable": false,
    "id": "23f66c6c-4975-41d0-8612-08b4791f969c"
   },
   "outputs": [],
   "source": [
    "# Instantiate `GarchModel`, use old data\n",
    "model_shop = GarchModel(ticker=\"SHOPERSTOP.BSE\", repo=repo, use_new_data=False)\n",
    "\n",
    "# Wrangle data\n",
    "model_shop.wrangle_data(n_observations=1000)\n",
    "\n",
    "# Fit GARCH(1,1) model to data\n",
    "model_shop.fit(p=1, q=1)\n",
    "\n",
    "# Does `model_shop` have a `model` attribute now?\n",
    "assert hasattr(model_shop, \"model\")\n",
    "\n",
    "# Is model correct data type?\n",
    "assert isinstance(model_shop.model, ARCHModelResult)\n",
    "\n",
    "# Does model have correct parameters?\n",
    "assert model_shop.model.params.index.tolist() == [\"mu\", \"omega\", \"alpha[1]\", \"beta[1]\"]\n",
    "\n",
    "# Check model parameters\n",
    "model_shop.model.summary()"
   ]
  },
  {
   "cell_type": "markdown",
   "id": "516bc14f-e0b5-43ea-922f-e93e468ebb83",
   "metadata": {
    "deletable": false,
    "editable": false,
    "id": "516bc14f-e0b5-43ea-922f-e93e468ebb83"
   },
   "source": [
    "### Exercício:\n",
    "Usando seu código da lição anterior, crie um método `predict_volatility` para sua classe `GarchModel`. Seu método precisará retornar as previsões como um dicionário, então você precisará adicionar sua função `clean_prediction` como um método auxiliar. Quando terminar, teste seu trabalho usando as instruções assert abaixo."
   ]
  },
  {
   "cell_type": "code",
   "execution_count": null,
   "id": "6f660ff5-7e5b-453f-b58f-aae6a9a68b9e",
   "metadata": {
    "deletable": false,
    "id": "6f660ff5-7e5b-453f-b58f-aae6a9a68b9e"
   },
   "outputs": [],
   "source": [
    "# Generate prediction from `model_shop`\n",
    "prediction = model_shop.predict_volatility(horizon=5)\n",
    "\n",
    "# Is prediction a dictionary?\n",
    "assert isinstance(prediction, dict)\n",
    "\n",
    "# Are keys correct data type?\n",
    "assert all(isinstance(k, str) for k in prediction.keys())\n",
    "\n",
    "# Are values correct data type?\n",
    "assert all(isinstance(v, float) for v in prediction.values())\n",
    "\n",
    "prediction"
   ]
  },
  {
   "cell_type": "markdown",
   "id": "60b5b815-14ee-4ce1-848c-55de5135dd65",
   "metadata": {
    "deletable": false,
    "editable": false,
    "id": "60b5b815-14ee-4ce1-848c-55de5135dd65"
   },
   "source": [
    "As coisas estão indo bem! Existem dois últimos métodos que precisamos adicionar ao nosso `GarchModel` para que possamos salvar um modelo treinado e, em seguida, carregá-lo quando precisarmos. Quando aprendemos sobre salvar e carregar arquivos no Projeto 5, usamos um manipulador de contexto. Desta vez, vamos simplificar o processo usando a [biblioteca joblib](https://joblib.readthedocs.io/en/latest/). Também começaremos a escrever nossos caminhos de arquivo de forma mais programática usando a [biblioteca os](https://docs.python.org/3/library/os.html)."
   ]
  },
  {
   "cell_type": "markdown",
   "id": "dcef0488-fb22-4984-a3e8-70f5d0fc5d54",
   "metadata": {
    "deletable": false,
    "editable": false,
    "id": "dcef0488-fb22-4984-a3e8-70f5d0fc5d54"
   },
   "source": [
    "### Exercício:\n",
    "Crie um método `dump` para sua classe `GarchModel`. Ele deve salvar o modelo atribuído ao atributo `model` na pasta especificada em sua configuração `settings`. Use a docstring como guia e, em seguida, teste seu trabalho abaixo."
   ]
  },
  {
   "cell_type": "code",
   "execution_count": null,
   "id": "0c826d54-906b-4d71-a679-cdcf613f59da",
   "metadata": {
    "deletable": false,
    "id": "0c826d54-906b-4d71-a679-cdcf613f59da"
   },
   "outputs": [],
   "source": [
    "# Save `model_shop` model, assign filename\n",
    "filename = model_shop.dump()\n",
    "\n",
    "# Is `filename` a string?\n",
    "assert isinstance(filename, str)\n",
    "\n",
    "# Does filename include ticker symbol?\n",
    "assert model_shop.ticker in filename\n",
    "\n",
    "# Does file exist?\n",
    "assert os.path.exists(filename)\n",
    "\n",
    "filename"
   ]
  },
  {
   "cell_type": "markdown",
   "id": "db86446c-eb8e-406e-b15f-b582c99eba7d",
   "metadata": {
    "deletable": false,
    "editable": false,
    "id": "db86446c-eb8e-406e-b15f-b582c99eba7d"
   },
   "source": [
    "### Exercício:\n",
    "Crie uma função `load` abaixo que receberá um símbolo de ticker como entrada e retornará um modelo. Quando terminar, use a próxima célula para carregar o modelo da Shoppers Stop que você salvou na tarefa anterior."
   ]
  },
  {
   "cell_type": "code",
   "execution_count": null,
   "id": "434c61cc-33a9-444e-9aac-62a33f8ed2e3",
   "metadata": {
    "deletable": false,
    "id": "434c61cc-33a9-444e-9aac-62a33f8ed2e3"
   },
   "outputs": [],
   "source": [
    "def load():\n",
    "\n",
    "    \"\"\"Load latest model from model directory.\n",
    "\n",
    "    Parameters\n",
    "    ----------\n",
    "    ticker : str\n",
    "        Ticker symbol for which model was trained.\n",
    "\n",
    "    Returns\n",
    "    -------\n",
    "    `ARCHModelResult`\n",
    "    \"\"\"\n",
    "    # Create pattern for glob search\n",
    "    pattern = ...\n",
    "\n",
    "    # Try to find path of latest model\n",
    "\n",
    "    model_path = ...\n",
    "\n",
    "    # Handle possible `IndexError`\n",
    "\n",
    "\n",
    "    # Load model\n",
    "    model = ...\n",
    "\n",
    "    # Return model\n",
    "    return ..."
   ]
  },
  {
   "cell_type": "code",
   "execution_count": null,
   "id": "d576b75b-72da-42fb-8e77-02e17e8cd9f5",
   "metadata": {
    "deletable": false,
    "id": "d576b75b-72da-42fb-8e77-02e17e8cd9f5"
   },
   "outputs": [],
   "source": [
    "# Assign load output to `model`\n",
    "model_shop = load(ticker=\"SHOPERSTOP.BSE\")\n",
    "\n",
    "# Does function return an `ARCHModelResult`\n",
    "assert isinstance(model_shop, ARCHModelResult)\n",
    "\n",
    "# Check model parameters\n",
    "model_shop.summary()"
   ]
  },
  {
   "cell_type": "markdown",
   "id": "ede77d01-4ada-4a23-a382-eb10c9479eb8",
   "metadata": {
    "deletable": false,
    "editable": false,
    "id": "ede77d01-4ada-4a23-a382-eb10c9479eb8"
   },
   "source": [
    "### Exercício:\n",
    "Transforme sua função `load` em um método para sua classe `GarchModel`. Quando terminar, teste o método usando as instruções `assert` abaixo."
   ]
  },
  {
   "cell_type": "code",
   "execution_count": null,
   "id": "0f5660cf-1069-40d0-91f5-6335319e2618",
   "metadata": {
    "deletable": false,
    "id": "0f5660cf-1069-40d0-91f5-6335319e2618"
   },
   "outputs": [],
   "source": [
    "model_shop = GarchModel(ticker=\"SHOPERSTOP.BSE\", repo=repo, use_new_data=False)\n",
    "\n",
    "# Check that new `model_shop_test` doesn't have model attached\n",
    "assert not hasattr(model_shop, \"model\")\n",
    "\n",
    "# Load model\n",
    "model_shop.load()\n",
    "\n",
    "# Does `model_shop_test` have model attached?\n",
    "assert hasattr(model_shop, \"model\")\n",
    "\n",
    "model_shop.model.summary()"
   ]
  },
  {
   "cell_type": "markdown",
   "id": "1e079186-3142-404b-b0b8-a57569f3ed1b",
   "metadata": {
    "deletable": false,
    "editable": false,
    "id": "1e079186-3142-404b-b0b8-a57569f3ed1b"
   },
   "source": [
    "Nosso módulo `model` está pronto! Agora é hora de passar para o curso \"principal\" e adicionar a peça final à nossa aplicação."
   ]
  },
  {
   "cell_type": "markdown",
   "id": "04e70a0f-e756-4117-b153-29b814f50ac4",
   "metadata": {
    "deletable": false,
    "editable": false,
    "id": "04e70a0f-e756-4117-b153-29b814f50ac4"
   },
   "source": [
    "# Módulo Main"
   ]
  },
  {
   "cell_type": "markdown",
   "id": "98305162-eb69-496d-aa76-9e49a2f13b90",
   "metadata": {
    "deletable": false,
    "editable": false,
    "id": "98305162-eb69-496d-aa76-9e49a2f13b90"
   },
   "source": [
    "Semelhante às aplicações interativas que fizemos no Projeto 4, nosso primeiro passo aqui será criar um objeto `app`. Desta vez, em vez de ser uma aplicação plotly, será uma aplicação FastAPI."
   ]
  },
  {
   "cell_type": "markdown",
   "id": "d735900d-f86a-48eb-8f8a-be8b5555124a",
   "metadata": {
    "deletable": false,
    "editable": false,
    "id": "d735900d-f86a-48eb-8f8a-be8b5555124a"
   },
   "source": [
    "### Exercício:\n",
    "No módulo `main`, instancie uma aplicação FastAPI chamada `app`."
   ]
  },
  {
   "cell_type": "markdown",
   "id": "ff94fb79-86e5-400b-b663-a110576bead9",
   "metadata": {
    "deletable": false,
    "editable": false,
    "id": "ff94fb79-86e5-400b-b663-a110576bead9"
   },
   "source": [
    "Para que nosso `app` funcione, precisamos executá-lo em um servidor. Neste caso, executaremos o servidor em nossa máquina virtual usando a biblioteca [uvicorn](https://www.uvicorn.org/)."
   ]
  },
  {
   "cell_type": "markdown",
   "id": "7f74fb5d-a5df-4a5a-af40-b5466fbf7b8e",
   "metadata": {
    "deletable": false,
    "editable": false,
    "id": "7f74fb5d-a5df-4a5a-af40-b5466fbf7b8e"
   },
   "source": [
    "###Exercício:\n",
    "Vá para a linha de comando, navegue até o diretório deste projeto e inicie seu servidor de aplicativo digitando o seguinte comando.\n",
    "\n",
    "```bash\n",
    "uvicorn main:app --reload --workers 1 --host localhost --port 8008\n",
    "```"
   ]
  },
  {
   "cell_type": "markdown",
   "id": "f30ebd95-1f26-435e-90d3-46a3b5ac1fb5",
   "metadata": {
    "deletable": false,
    "editable": false,
    "id": "f30ebd95-1f26-435e-90d3-46a3b5ac1fb5"
   },
   "source": [
    "Lembre-se de como a API do AlphaVantage tinha um caminho `\"/query\"` que acessamos usando uma requisição HTTP `get`? Vamos construir caminhos semelhantes para nossa aplicação. Vamos começar com um exemplo de MVP para que possamos aprender como os caminhos funcionam no FastAPI."
   ]
  },
  {
   "cell_type": "markdown",
   "id": "93066262-a4be-4cfa-98ad-140dfcc08c25",
   "metadata": {
    "deletable": false,
    "editable": false,
    "id": "93066262-a4be-4cfa-98ad-140dfcc08c25"
   },
   "source": [
    "### Exercício:\n",
    "Crie um caminho `\"/hello\"` para sua aplicação que retorne uma saudação quando receber uma requisição `get`."
   ]
  },
  {
   "cell_type": "markdown",
   "id": "fe7ad99d-06b4-40bc-95b3-2e8dadd1ae2a",
   "metadata": {
    "deletable": false,
    "editable": false,
    "id": "fe7ad99d-06b4-40bc-95b3-2e8dadd1ae2a"
   },
   "source": [
    "Temos nosso caminho. Vamos realizar uma requisição `get` para ver se funciona."
   ]
  },
  {
   "cell_type": "markdown",
   "id": "29f92bb4-cfc1-44d6-9058-6285a3ad1423",
   "metadata": {
    "deletable": false,
    "editable": false,
    "id": "29f92bb4-cfc1-44d6-9058-6285a3ad1423"
   },
   "source": [
    "### Exercício:\n",
    "Crie uma requisição `get` para acessar o caminho `\"/hello\"` em execução em `\"http://localhost:8008\"`."
   ]
  },
  {
   "cell_type": "code",
   "execution_count": null,
   "id": "407d13f7-5f2b-445d-b3f1-38b77f109311",
   "metadata": {
    "deletable": false,
    "id": "407d13f7-5f2b-445d-b3f1-38b77f109311"
   },
   "outputs": [],
   "source": [
    "url = ...\n",
    "response = ...\n",
    "\n",
    "print(\"response code:\", response.status_code)\n",
    "response.json()"
   ]
  },
  {
   "cell_type": "markdown",
   "id": "39b782d5-3674-4b06-9227-431feb7167a4",
   "metadata": {
    "deletable": false,
    "editable": false,
    "id": "39b782d5-3674-4b06-9227-431feb7167a4"
   },
   "source": [
    "Excelente! Agora vamos começar a construir as partes divertidas."
   ]
  },
  {
   "cell_type": "markdown",
   "id": "3ba4b53b-165c-48b5-85dc-e8afbd22fccd",
   "metadata": {
    "deletable": false,
    "editable": false,
    "id": "3ba4b53b-165c-48b5-85dc-e8afbd22fccd"
   },
   "source": [
    "## `\"/fit\"` Path"
   ]
  },
  {
   "cell_type": "markdown",
   "id": "023c99b6-3b40-4b49-ae9d-7a5bf86a5d0a",
   "metadata": {
    "deletable": false,
    "editable": false,
    "id": "023c99b6-3b40-4b49-ae9d-7a5bf86a5d0a"
   },
   "source": [
    "Nossa primeira rota permitirá que o usuário ajuste um modelo aos dados das ações quando ele fizer uma solicitação `post` ao nosso servidor. Eles terão a opção de usar novos dados da AlphaVantage ou dados mais antigos que já estão em nosso banco de dados. Quando um usuário faz uma solicitação, ele recebe uma resposta informando se a operação foi bem-sucedida ou se ocorreu um erro.\n",
    "\n",
    "Uma coisa muito importante ao construir uma API é garantir que o usuário passe os parâmetros corretos para o aplicativo. Caso contrário, nosso aplicativo pode falhar! O FastAPI funciona bem com a [biblioteca pydantic](https://pydantic-docs.helpmanual.io/), que verifica se cada solicitação tem os parâmetros e tipos de dados corretos. Isso é feito usando classes de dados especiais que precisamos definir. Nossa rota `\"/fit\"` aceitará a entrada do usuário e, em seguida, retornará uma resposta, então precisamos de duas classes: uma para entrada e outra para saída."
   ]
  },
  {
   "cell_type": "markdown",
   "id": "c389fbc0-2984-48c4-a219-eef13cd2c785",
   "metadata": {
    "deletable": false,
    "editable": false,
    "id": "c389fbc0-2984-48c4-a219-eef13cd2c785"
   },
   "source": [
    "### Exercício:\n",
    "Defina as classes de dados FitIn e FitOut. A classe FitIn deve herdar da classe BaseModel do pydantic, e a classe FitOut deve herdar da classe FitIn. Certifique-se de incluir dicas de tipo."
   ]
  },
  {
   "cell_type": "markdown",
   "id": "443a2c65-a73a-4e98-9760-4272ea6d92a6",
   "metadata": {
    "deletable": false,
    "editable": false,
    "id": "443a2c65-a73a-4e98-9760-4272ea6d92a6"
   },
   "source": [
    "Com nossas classes de dados definidas, vamos ver como o pydantic garante que os usuários estão fornecendo a entrada correta e nossa aplicação está retornando a saída correta."
   ]
  },
  {
   "cell_type": "markdown",
   "id": "6c736125-ae93-4da1-83b7-8b8d35f11184",
   "metadata": {
    "deletable": false,
    "editable": false,
    "id": "6c736125-ae93-4da1-83b7-8b8d35f11184"
   },
   "source": [
    "### Exercício:\n",
    "Use o código abaixo para experimentar suas classes FitIn e FitOut. Sob quais circunstâncias a instanciação delas gera erros? De qual classe ou classes elas são instâncias?"
   ]
  },
  {
   "cell_type": "code",
   "execution_count": null,
   "id": "1f5ca4fb-92d8-4d00-b62d-415198a9108c",
   "metadata": {
    "deletable": false,
    "id": "1f5ca4fb-92d8-4d00-b62d-415198a9108c"
   },
   "outputs": [],
   "source": [
    "from main import FitIn, FitOut\n",
    "\n",
    "# Instantiate `FitIn`. Play with parameters.\n",
    "fi = ...\n",
    "print(fi)\n",
    "\n",
    "# Instantiate `FitOut`. Play with parameters.\n",
    "fo = ...\n",
    "print(fo)"
   ]
  },
  {
   "cell_type": "markdown",
   "id": "7f810c53-a0cb-4a36-b3ed-d40f25e8c790",
   "metadata": {
    "deletable": false,
    "editable": false,
    "id": "7f810c53-a0cb-4a36-b3ed-d40f25e8c790"
   },
   "source": [
    "Uma característica interessante do FastAPI é que ele pode funcionar em cenários assíncronos. Isso não é algo que precisamos aprender para este projeto, mas significa que precisamos instanciar um objeto `GarchModel` cada vez que um usuário faz uma solicitação. Para facilitar a codificação, vamos criar uma função para lidar com esse processo para nós."
   ]
  },
  {
   "cell_type": "markdown",
   "id": "ae692a6e-9f2b-4487-bf7d-ed81d0cce720",
   "metadata": {
    "deletable": false,
    "editable": false,
    "id": "ae692a6e-9f2b-4487-bf7d-ed81d0cce720"
   },
   "source": [
    "### Exercício:\n",
    "Crie uma função `build_model` em seu módulo `main`. Use a docstring como guia e teste sua função abaixo."
   ]
  },
  {
   "cell_type": "code",
   "execution_count": null,
   "id": "17935f72-a4a2-457a-944c-c6845c78d134",
   "metadata": {
    "deletable": false,
    "id": "17935f72-a4a2-457a-944c-c6845c78d134"
   },
   "outputs": [],
   "source": [
    "from main import build_model\n",
    "\n",
    "# Instantiate `GarchModel` with function\n",
    "model_shop = build_model(ticker=\"SHOPERSTOP.BSE\", use_new_data=False)\n",
    "\n",
    "# Is `SQLRepository` attached to `model_shop`?\n",
    "assert isinstance(model_shop.repo, SQLRepository)\n",
    "\n",
    "# Is SQLite database attached to `SQLRepository`\n",
    "assert isinstance(model_shop.repo.connection, sqlite3.Connection)\n",
    "\n",
    "# Is `ticker` attribute correct?\n",
    "assert model_shop.ticker == \"SHOPERSTOP.BSE\"\n",
    "\n",
    "# Is `use_new_data` attribute correct?\n",
    "assert not model_shop.use_new_data\n",
    "\n",
    "model_shop"
   ]
  },
  {
   "cell_type": "markdown",
   "id": "8a826b5f-b5f7-41ec-90b4-5d81888409b9",
   "metadata": {
    "deletable": false,
    "editable": false,
    "id": "8a826b5f-b5f7-41ec-90b4-5d81888409b9"
   },
   "source": [
    "Temos classes de dados, temos uma função `build_model` e tudo o que resta é construir o caminho `\"/fit\"`. Usaremos nosso caminho `\"/hello\"` como um template, mas precisaremos incluir mais recursos, como tratamento de erros."
   ]
  },
  {
   "cell_type": "markdown",
   "id": "716c0a4f-f3ef-478b-994b-d96b555eddfc",
   "metadata": {
    "deletable": false,
    "editable": false,
    "id": "716c0a4f-f3ef-478b-994b-d96b555eddfc"
   },
   "source": [
    "### Exercício:\n",
    "Crie um caminho `\"/fit\"` para seu `app`. Ele receberá um objeto `FitIn` como entrada e, em seguida, construirá um `GarchModel` usando a função `build_model`. O modelo irá processar os dados necessários, ajustar-se aos dados e salvar o modelo completo. Por fim, enviará uma resposta na forma de um objeto `FitOut`. Certifique-se de tratar qualquer erro que possa surgir."
   ]
  },
  {
   "cell_type": "markdown",
   "id": "bf5b6cf2-4916-4497-8150-be586ef2735e",
   "metadata": {
    "deletable": false,
    "editable": false,
    "id": "bf5b6cf2-4916-4497-8150-be586ef2735e"
   },
   "source": [
    "Última etapa! Vamos fazer uma solicitação `post` e ver como nosso aplicativo responde."
   ]
  },
  {
   "cell_type": "markdown",
   "id": "610bf3eb-7018-49bb-9b83-a14860b0a11e",
   "metadata": {
    "deletable": false,
    "editable": false,
    "id": "610bf3eb-7018-49bb-9b83-a14860b0a11e"
   },
   "source": [
    "### Exercício:\n",
    "Crie uma solicitação `post` para acessar o caminho `\"/fit\"` em execução em `\"http://localhost:8008\"`. Você deve treinar um modelo GARCH(1,1) em 2000 observações dos dados da Shoppers Stop que você já baixou. Passe seus parâmetros como um dicionário usando o argumento `json`."
   ]
  },
  {
   "cell_type": "code",
   "execution_count": null,
   "id": "bc0a6664-07f3-4850-80fc-ca33b9d57ae1",
   "metadata": {
    "deletable": false,
    "id": "bc0a6664-07f3-4850-80fc-ca33b9d57ae1"
   },
   "outputs": [],
   "source": [
    "# URL of `/fit` path\n",
    "url = ...\n",
    "\n",
    "# Data to send to path\n",
    "json = ...\n",
    "# Response of post request\n",
    "response = ...\n",
    "# Inspect response\n",
    "print(\"response code:\", response.status_code)\n",
    "response.json()"
   ]
  },
  {
   "cell_type": "markdown",
   "id": "2abbfbf1-87b8-4819-9ed2-94d5b8790e15",
   "metadata": {
    "deletable": false,
    "editable": false,
    "id": "2abbfbf1-87b8-4819-9ed2-94d5b8790e15"
   },
   "source": [
    "Boom! Agora podemos treinar modelos usando a API que criamos. A seguir: um caminho para fazer previsões."
   ]
  },
  {
   "cell_type": "markdown",
   "id": "f804ea6a-cec0-4d1e-b991-740190cc705d",
   "metadata": {
    "deletable": false,
    "editable": false,
    "id": "f804ea6a-cec0-4d1e-b991-740190cc705d"
   },
   "source": [
    "## `\"/predict\"` Path"
   ]
  },
  {
   "cell_type": "markdown",
   "id": "0efccd4d-8219-4b22-a30d-664996912460",
   "metadata": {
    "deletable": false,
    "editable": false,
    "id": "0efccd4d-8219-4b22-a30d-664996912460"
   },
   "source": [
    "Para nosso caminho `\"/predict\"`, os usuários poderão fazer uma solicitação `post` com o símbolo da ação para a qual desejam uma previsão e o número de dias que desejam prever no futuro. Nosso aplicativo retornará uma previsão ou, se houver um erro, uma mensagem explicando o problema.\n",
    "\n",
    "A configuração será muito semelhante ao nosso caminho `\"/fit\"`. Começaremos com classes de dados para entrada e saída."
   ]
  },
  {
   "cell_type": "markdown",
   "id": "fceb1f5d-6083-44e2-b07b-86c561afdb7f",
   "metadata": {
    "deletable": false,
    "editable": false,
    "id": "fceb1f5d-6083-44e2-b07b-86c561afdb7f"
   },
   "source": [
    "### Exercício:\n",
    "Crie definições para uma classe de dados `PredictIn` e `PredictOut`. A classe `PredictIn` deve herdar da `BaseModel` do pydantic, e a classe `PredictOut` deve herdar da classe `PredictIn`. Certifique-se de incluir dicas de tipo. Em seguida, use o código abaixo para testar suas classes."
   ]
  },
  {
   "cell_type": "code",
   "execution_count": null,
   "id": "1f5a98e6-049a-4972-84a9-50fe26cc75cf",
   "metadata": {
    "deletable": false,
    "id": "1f5a98e6-049a-4972-84a9-50fe26cc75cf"
   },
   "outputs": [],
   "source": [
    "from main import PredictIn, PredictOut\n",
    "\n",
    "pi = PredictIn(ticker=\"SHOPERSTOP.BSE\", n_days=5)\n",
    "print(pi)\n",
    "\n",
    "po = PredictOut(\n",
    "    ticker=\"SHOPERSTOP.BSE\", n_days=5, success=True, forecast={}, message=\"success\"\n",
    ")\n",
    "print(po)"
   ]
  },
  {
   "cell_type": "markdown",
   "id": "52b2e076-a176-459d-8911-b0f526a67059",
   "metadata": {
    "deletable": false,
    "editable": false,
    "id": "52b2e076-a176-459d-8911-b0f526a67059"
   },
   "source": [
    "A seguir, vamos criar o caminho. A boa notícia é que poderemos reutilizar nossa função `build_model`."
   ]
  },
  {
   "cell_type": "markdown",
   "id": "c33a4264-956a-4333-908e-980a9140311a",
   "metadata": {
    "deletable": false,
    "editable": false,
    "id": "c33a4264-956a-4333-908e-980a9140311a"
   },
   "source": [
    "### Exercício:\n",
    "Crie um caminho `\"/predict\"` para seu `app`. Ele deve receber um objeto `PredictIn` como entrada, construir um `GarchModel`, carregar o modelo treinado mais recente para o ticker fornecido e gerar um dicionário de previsões. Em seguida, deve retornar um objeto `PredictOut` com as previsões incluídas. Certifique-se de tratar quaisquer erros que possam surgir."
   ]
  },
  {
   "cell_type": "markdown",
   "id": "5cab00b4-59dd-444e-98f5-5b283caaca65",
   "metadata": {
    "deletable": false,
    "editable": false,
    "id": "5cab00b4-59dd-444e-98f5-5b283caaca65"
   },
   "source": [
    "Último passo, vamos ver o que acontece quando fazemos uma requisição `post`..."
   ]
  },
  {
   "cell_type": "markdown",
   "id": "45f9966d-545d-4e74-9c8e-9b6a22fe5297",
   "metadata": {
    "deletable": false,
    "editable": false,
    "id": "45f9966d-545d-4e74-9c8e-9b6a22fe5297"
   },
   "source": [
    "### Exercício:\n",
    "Crie uma requisição `post` para acessar o caminho `\"/predict\"` rodando em `\"http://localhost:8008\"`. Você deve obter a previsão de volatilidade para 5 dias da Shoppers Stop. Quando estiver satisfeito, envie seu trabalho para o avaliador."
   ]
  },
  {
   "cell_type": "code",
   "execution_count": null,
   "id": "367a91bd-88ea-4a86-b90c-0f9e4c739197",
   "metadata": {
    "deletable": false,
    "id": "367a91bd-88ea-4a86-b90c-0f9e4c739197"
   },
   "outputs": [],
   "source": [
    "# URL of `/predict` path\n",
    "url = ...\n",
    "# Data to send to path\n",
    "json = ...\n",
    "# Response of post request\n",
    "response = ...\n",
    "# Response JSON to be submitted to grader\n",
    "submission = response.json()\n",
    "# Inspect JSON\n",
    "submission"
   ]
  },
  {
   "cell_type": "markdown",
   "id": "4e584a1c-b68b-4d5f-a472-8f1de947fcd6",
   "metadata": {
    "deletable": false,
    "editable": false,
    "id": "4e584a1c-b68b-4d5f-a472-8f1de947fcd6"
   },
   "source": [
    "Conseguimos! Melhor dizendo, **você** conseguiu. Você obteve dados da API AlphaVantage, armazenou-os em um banco de dados SQL, construiu e treinou um modelo GARCH para prever volatilidade e criou sua própria API para fornecer previsões do seu modelo. Isso é engenharia de dados, ciência de dados e implantação de modelos, tudo em um único projeto. Se você ainda não fez isso, agora é um bom momento para se dar um tapinha nas costas. Você definitivamente merece."
   ]
  }
 ],
 "metadata": {
  "colab": {
   "provenance": []
  },
  "kernelspec": {
   "display_name": "Python 3 (ipykernel)",
   "language": "python",
   "name": "python3"
  },
  "language_info": {
   "codemirror_mode": {
    "name": "ipython",
    "version": 3
   },
   "file_extension": ".py",
   "mimetype": "text/x-python",
   "name": "python",
   "nbconvert_exporter": "python",
   "pygments_lexer": "ipython3",
   "version": "3.11.4"
  }
 },
 "nbformat": 4,
 "nbformat_minor": 5
}
