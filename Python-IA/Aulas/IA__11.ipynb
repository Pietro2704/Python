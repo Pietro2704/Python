{
  "cells": [
    {
      "cell_type": "markdown",
      "id": "1c17a3a2-ca39-41eb-bdde-015363f482bf",
      "metadata": {
        "deletable": false,
        "editable": false,
        "id": "1c17a3a2-ca39-41eb-bdde-015363f482bf"
      },
      "source": [
        "# Clustering com Múltiplas Features"
      ]
    },
    {
      "cell_type": "markdown",
      "source": [
        "[Data Dicionary](https://sda.berkeley.edu/sdaweb/docs/scfcomb2019/DOC/hcbkx01.htm)"
      ],
      "metadata": {
        "id": "R2RfRiL6llmI"
      },
      "id": "R2RfRiL6llmI"
    },
    {
      "cell_type": "markdown",
      "id": "44101fc2-7324-4ebf-b813-5792bec0d809",
      "metadata": {
        "deletable": false,
        "editable": false,
        "id": "44101fc2-7324-4ebf-b813-5792bec0d809"
      },
      "source": [
        "Na lição anterior, construímos um modelo K-Means para criar clusters de respondentes da Pesquisa de Finanças dos Consumidores. Criamos nossos clusters analisando apenas duas variáveis, mas há centenas de variáveis no conjunto de dados que não levamos em conta e que podem conter informações valiosas. Nesta lição, vamos examinar todas as variáveis e selecionar cinco para criar os clusters. Depois de construir nosso modelo e escolher um número apropriado de clusters, aprenderemos como visualizar clusters multidimensionais em um gráfico de dispersão 2D usando algo chamado análise de componentes principais (PCA)."
      ]
    },
    {
      "cell_type": "code",
      "execution_count": null,
      "id": "aa88536d-23d7-4371-86f3-c0d45ac38c87",
      "metadata": {
        "deletable": false,
        "editable": false,
        "init_cell": true,
        "id": "aa88536d-23d7-4371-86f3-c0d45ac38c87"
      },
      "outputs": [],
      "source": [
        "import pandas as pd\n",
        "import plotly.express as px\n",
        "from scipy.stats.mstats import trimmed_var\n",
        "from sklearn.cluster import KMeans\n",
        "from sklearn.decomposition import PCA\n",
        "from sklearn.metrics import silhouette_score\n",
        "from sklearn.pipeline import make_pipeline\n",
        "from sklearn.preprocessing import StandardScaler"
      ]
    },
    {
      "cell_type": "markdown",
      "id": "66972d20-fc04-4015-8477-47e21df78913",
      "metadata": {
        "deletable": false,
        "editable": false,
        "id": "66972d20-fc04-4015-8477-47e21df78913"
      },
      "source": [
        "# Preparando Dados"
      ]
    },
    {
      "cell_type": "markdown",
      "id": "2837aa20-3602-48fa-a9b0-8978df695602",
      "metadata": {
        "deletable": false,
        "editable": false,
        "id": "2837aa20-3602-48fa-a9b0-8978df695602"
      },
      "source": [
        "## Importação"
      ]
    },
    {
      "cell_type": "markdown",
      "id": "d8fcef97-4aee-4f06-ab97-046ab45ff8ee",
      "metadata": {
        "deletable": false,
        "editable": false,
        "id": "d8fcef97-4aee-4f06-ab97-046ab45ff8ee"
      },
      "source": [
        "Passamos algum tempo na última lição focando em um subconjunto útil do SCF, e desta vez, vamos nos concentrar ainda mais. Um dos problemas persistentes que tivemos com este conjunto de dados é que ele inclui alguns outliers na forma de lares ultra-ricos. Isso não fez muita diferença na nossa última análise, mas pode causar problemas nesta lição, então vamos nos concentrar em famílias com patrimônio líquido abaixo de 2 milhões de dólares."
      ]
    },
    {
      "cell_type": "markdown",
      "id": "5a3b5845-08a4-4255-aefb-4d3d09fcfc65",
      "metadata": {
        "deletable": false,
        "editable": false,
        "id": "5a3b5845-08a4-4255-aefb-4d3d09fcfc65"
      },
      "source": [
        "### Exercício:\n",
        "Reescreva sua função `wrangle` da última lição para que ela retorne um DataFrame de lares cujo patrimônio líquido seja inferior a 2 milhões de dólares e que tenham sido recusados para crédito ou tenham temido ser negados crédito nos últimos 5 anos (veja `\"TURNFEAR\"`)."
      ]
    },
    {
      "cell_type": "code",
      "execution_count": null,
      "id": "5956d2d8-4c71-4355-aa81-d8e0e86b139f",
      "metadata": {
        "deletable": false,
        "id": "5956d2d8-4c71-4355-aa81-d8e0e86b139f"
      },
      "outputs": [],
      "source": [
        "def wrangle(filepath):\n",
        "  df = pd.read_csv(filepath)\n",
        "\n",
        "  mask = (df[\"TURNFEAR\"] == 1) & (df[\"INCOME\"] < 2e6)\n",
        "  df = df[mask]\n",
        "\n",
        "  return df"
      ]
    },
    {
      "cell_type": "code",
      "execution_count": null,
      "id": "ccea8d01-e0bb-4f56-8ae1-31d04ecd4622",
      "metadata": {
        "deletable": false,
        "id": "ccea8d01-e0bb-4f56-8ae1-31d04ecd4622"
      },
      "outputs": [],
      "source": [
        "df = wrangle('/content/SCFP2019.csv.gz')\n",
        "\n",
        "print(\"df type:\", type(df))\n",
        "print(\"df shape:\", df.shape)\n",
        "df.head()"
      ]
    },
    {
      "cell_type": "markdown",
      "id": "5060b5a5-94f9-4998-9a5a-bd55561b484e",
      "metadata": {
        "deletable": false,
        "editable": false,
        "tags": [],
        "id": "5060b5a5-94f9-4998-9a5a-bd55561b484e"
      },
      "source": [
        "## Explorar"
      ]
    },
    {
      "cell_type": "markdown",
      "id": "e3dc7769-a70b-4f61-a5ad-9f4a7ed31949",
      "metadata": {
        "deletable": false,
        "editable": false,
        "id": "e3dc7769-a70b-4f61-a5ad-9f4a7ed31949"
      },
      "source": [
        "Nesta lição, queremos criar clusters utilizando mais de duas variáveis, mas quais das 351 variáveis devemos escolher? Muitas vezes, essa decisão será tomada por outra pessoa. Por exemplo, um interessado pode fornecer uma lista das variáveis que são mais importantes para ele. No entanto, se você não tiver essa limitação, outra maneira de escolher as melhores variáveis para clustering é determinar quais variáveis numéricas têm a maior **variância**. É isso que faremos aqui."
      ]
    },
    {
      "cell_type": "markdown",
      "source": [
        "A __variância__ de uma variável numérica é uma medida de quão __*dispersos*__ os valores estão em relação à __*média*__ dessa variável.\n",
        "\n",
        "Em termos simples, ela quantifica o quanto os dados variam ou se afastam da média.\n",
        "\n",
        "Se a variância for alta, isso significa que os valores estão bem espalhados em torno da média, ou seja, há uma grande diferença entre os valores. Se a variância for baixa, os valores estão mais próximos da média, com pouca variação."
      ],
      "metadata": {
        "id": "sv07OdM7mxDe"
      },
      "id": "sv07OdM7mxDe"
    },
    {
      "cell_type": "markdown",
      "id": "57b6c0a7-871d-474b-aea4-32b016515f28",
      "metadata": {
        "deletable": false,
        "editable": false,
        "id": "57b6c0a7-871d-474b-aea4-32b016515f28"
      },
      "source": [
        "### Exercício:\n",
        "Calcule a variância de todas as variáveis em `df` e crie uma Series `top_ten_var` com as 10 variáveis com a maior variância."
      ]
    },
    {
      "cell_type": "code",
      "execution_count": null,
      "id": "cc1a883e-0e9d-4bc3-9d5b-7db7bfebd177",
      "metadata": {
        "deletable": false,
        "id": "cc1a883e-0e9d-4bc3-9d5b-7db7bfebd177"
      },
      "outputs": [],
      "source": [
        "# Calculate variance, get 10 largest features\n",
        "top_ten_var = df.var().sort_values().tail(10)\n",
        "\n",
        "print(\"top_ten_var type:\", type(top_ten_var))\n",
        "print(\"top_ten_var shape:\", top_ten_var.shape)\n",
        "top_ten_var"
      ]
    },
    {
      "cell_type": "markdown",
      "id": "93711110-494d-4b3b-bb41-e8a71603b64d",
      "metadata": {
        "deletable": false,
        "editable": false,
        "id": "93711110-494d-4b3b-bb41-e8a71603b64d"
      },
      "source": [
        "Como de costume, é mais difícil entender uma lista como essa do que seria se a visualizássemos, então vamos criar um gráfico."
      ]
    },
    {
      "cell_type": "markdown",
      "id": "46505fff-8a73-4f9c-bb9a-90cc22d6cf70",
      "metadata": {
        "deletable": false,
        "editable": false,
        "id": "46505fff-8a73-4f9c-bb9a-90cc22d6cf70"
      },
      "source": [
        "### Exercício:\n",
        "Use o Plotly Express para criar um gráfico de barras horizontais de `top_ten_var`. Certifique-se de rotular o eixo x como `\"Variance\"`, o eixo y como `\"Feature\"` e utilizar o título `\"SCF: High Variance Features\"`."
      ]
    },
    {
      "cell_type": "code",
      "execution_count": null,
      "id": "7abed052-b12f-42a6-91d9-84590c333ce6",
      "metadata": {
        "deletable": false,
        "id": "7abed052-b12f-42a6-91d9-84590c333ce6"
      },
      "outputs": [],
      "source": [
        "# Create horizontal bar chart of `top_ten_var`\n",
        "fig = px.bar(\n",
        "    x = top_ten_var,\n",
        "    y = top_ten_var.index,\n",
        "    title = \"SCF: High Variance Features\"\n",
        ")\n",
        "fig.update_layout(xaxis_title=\"Variance\", yaxis_title=\"Features\")\n",
        "\n",
        "fig.show()"
      ]
    },
    {
      "cell_type": "markdown",
      "id": "c8a1ce17-f69b-455d-98d5-7acdeda65c10",
      "metadata": {
        "deletable": false,
        "editable": false,
        "id": "c8a1ce17-f69b-455d-98d5-7acdeda65c10"
      },
      "source": [
        "Uma coisa que observamos ao longo deste projeto é que muitos dos indicadores de riqueza são altamente enviesados, com alguns lares outliers possuindo uma riqueza enorme. Esses outliers podem afetar nossa medida de variância. Vamos ver se isso acontece com uma das variáveis de `top_five_var`."
      ]
    },
    {
      "cell_type": "markdown",
      "id": "9dda134d-e2ef-42c4-a26c-d818b7e76597",
      "metadata": {
        "deletable": false,
        "editable": false,
        "id": "9dda134d-e2ef-42c4-a26c-d818b7e76597"
      },
      "source": [
        "### Exercício:\n",
        "Use o Plotly Express para criar um boxplot horizontal de `\"NHNFIN\"` para determinar se os valores estão enviesados. Certifique-se de rotular o eixo x como `\"Value [$]\"` e utilizar o título `\"Distribution of Non-home, Non-Financial Assets\"`."
      ]
    },
    {
      "cell_type": "code",
      "execution_count": null,
      "id": "36ba45c0-af53-48c9-994c-7e5860feab01",
      "metadata": {
        "deletable": false,
        "id": "36ba45c0-af53-48c9-994c-7e5860feab01"
      },
      "outputs": [],
      "source": [
        "# Create a boxplot of `NHNFIN`\n",
        "fig = px.box(\n",
        "    data_frame=df,\n",
        "    x=\"NHNFIN\",\n",
        "    title=\"Distribution of Non-home, Non-Financial Assets\"\n",
        ")\n",
        "fig.update_layout(xaxis_title=\"$\")\n",
        "fig.show()"
      ]
    },
    {
      "cell_type": "markdown",
      "id": "17041530-9b0e-4c61-b12c-62f6d75a5591",
      "metadata": {
        "deletable": false,
        "editable": false,
        "id": "17041530-9b0e-4c61-b12c-62f6d75a5591"
      },
      "source": [
        "Uau! O conjunto de dados está imensamente enviesado à direita por causa dos grandes outliers no lado direito da distribuição. Embora já tenhamos excluído lares com um patrimônio líquido elevado com nossa função `wrangle`, a variância ainda está sendo distorcida por alguns outliers extremos.\n",
        "\n",
        "A melhor maneira de lidar com isso é olhar para a **variância ajustada**, onde removemos valores extremos antes de calcular a variância. Podemos fazer isso usando a função `trimmed_variance` da biblioteca `SciPy`."
      ]
    },
    {
      "cell_type": "markdown",
      "source": [
        "A função trimmed_var faz parte do módulo mstats (masked statistics) da SciPy, que é projetado para lidar com arrays mascarados (arrays que podem conter valores inválidos ou ausentes).\n",
        "\n",
        "A função trimmed_var calcula a __variância aparada__ (trimmed variance) de um conjunto de dados.\n",
        "\n",
        "__Variância Aparada (Trimmed Variance):__\n",
        "É uma medida de dispersão que, antes de calcular a variância, remove uma certa porcentagem de valores extremos (tanto os mais baixos quanto os mais altos) dos dados. Esse procedimento ajuda a reduzir o impacto de outliers (valores atípicos) na estimativa da variância, proporcionando uma medida mais robusta da dispersão dos dados."
      ],
      "metadata": {
        "id": "9oYNYUkmof_G"
      },
      "id": "9oYNYUkmof_G"
    },
    {
      "cell_type": "markdown",
      "id": "abaa8f2d-70ba-4bd3-afd7-773bad8deed0",
      "metadata": {
        "deletable": false,
        "editable": false,
        "id": "abaa8f2d-70ba-4bd3-afd7-773bad8deed0"
      },
      "source": [
        "### Exercício:\n",
        "Calcule a variância ajustada para as variáveis em `df`. Seus cálculos não devem incluir os 10% superiores e inferiores de observações. Em seguida, crie uma Series `top_ten_trim_var` com as 10 variáveis que possuem a maior variância ajustada."
      ]
    },
    {
      "cell_type": "code",
      "execution_count": null,
      "id": "96609cfd-1c5c-4b90-b784-12f9a8f3cbcc",
      "metadata": {
        "deletable": false,
        "id": "96609cfd-1c5c-4b90-b784-12f9a8f3cbcc"
      },
      "outputs": [],
      "source": [
        "# Calculate trimmed variance\n",
        "top_ten_trim_var = df.apply(trimmed_var).sort_values().tail(10)\n",
        "\n",
        "print(\"top_ten_trim_var type:\", type(top_ten_trim_var))\n",
        "print(\"top_ten_trim_var shape:\", top_ten_trim_var.shape)\n",
        "top_ten_trim_var"
      ]
    },
    {
      "cell_type": "markdown",
      "id": "8f2b651f-da40-4764-a23b-ac3ad7b5b1c6",
      "metadata": {
        "deletable": false,
        "editable": false,
        "id": "8f2b651f-da40-4764-a23b-ac3ad7b5b1c6"
      },
      "source": [
        "Certo! Agora que temos um conjunto de números melhores, vamos criar outro gráfico de barras."
      ]
    },
    {
      "cell_type": "markdown",
      "id": "105b1ce5-2529-47c3-ae84-73d7d6a0a6ce",
      "metadata": {
        "deletable": false,
        "editable": false,
        "id": "105b1ce5-2529-47c3-ae84-73d7d6a0a6ce"
      },
      "source": [
        "### Exercício:\n",
        "Use o Plotly Express para criar um gráfico de barras horizontais de `top_ten_trim_var`. Certifique-se de rotular o eixo x como `\"Trimmed Variance\"`, o eixo y como `\"Feature\"` e utilizar o título `\"SCF: High Variance Features\"`."
      ]
    },
    {
      "cell_type": "code",
      "execution_count": null,
      "id": "2f511e06-97f2-48ed-a478-fd2d7c373a77",
      "metadata": {
        "deletable": false,
        "id": "2f511e06-97f2-48ed-a478-fd2d7c373a77"
      },
      "outputs": [],
      "source": [
        "# Create horizontal bar chart of `top_ten_trim_var`\n",
        "fig = px.bar(\n",
        "    x=top_ten_trim_var,\n",
        "    y=top_ten_trim_var.index,\n",
        "    title=\"SCF: High Variance Features\"\n",
        ")\n",
        "fig.update_layout(xaxis_title=\"Trimmed Variance\", yaxis_title=\"Features\")\n",
        "fig.show()"
      ]
    },
    {
      "cell_type": "markdown",
      "id": "231f71e9-2185-467e-aace-428c9ba83c71",
      "metadata": {
        "deletable": false,
        "editable": false,
        "id": "231f71e9-2185-467e-aace-428c9ba83c71"
      },
      "source": [
        "Há três coisas a se notar neste gráfico.\n",
        "\n",
        "Primeiro, as variâncias diminuíram bastante. No nosso gráfico anterior, o eixo x ia até 80 bilhões de dólares; este vai até 12 bilhões de dólares.\n",
        "\n",
        "Em segundo lugar, as 10 principais variáveis mudaram um pouco. Todas as variáveis relacionadas à propriedade de negócios (`\"...BUS\"`) desapareceram.\n",
        "\n",
        "Por fim, podemos ver que existem grandes diferenças na variância de uma variável para outra.\n",
        "\n",
        "Por exemplo, a variância de `\"WAGEINC\"` é em torno de 500 milhões de dólares, enquanto a variância de `\"ASSET\"` é quase 12 bilhões de dólares. Em outras palavras, essas variáveis têm escalas completamente diferentes. Isso é algo que precisaremos abordar antes de podermos formar bons clusters."
      ]
    },
    {
      "cell_type": "markdown",
      "id": "f41b313f-b414-4070-86b4-eaf8634ce556",
      "metadata": {
        "deletable": false,
        "editable": false,
        "id": "f41b313f-b414-4070-86b4-eaf8634ce556"
      },
      "source": [
        "### Exercício:\n",
        "Gere uma lista chamada `high_var_cols` com os nomes das cinco variáveis com a maior variância ajustada."
      ]
    },
    {
      "cell_type": "code",
      "execution_count": null,
      "id": "ab6e58d4-dbf0-456f-b3bb-c3391fe7080b",
      "metadata": {
        "deletable": false,
        "id": "ab6e58d4-dbf0-456f-b3bb-c3391fe7080b"
      },
      "outputs": [],
      "source": [
        "high_var_cols = top_ten_trim_var.tail(5).index.to_list()\n",
        "\n",
        "print(\"high_var_cols type:\", type(high_var_cols))\n",
        "print(\"high_var_cols len:\", len(high_var_cols))\n",
        "high_var_cols"
      ]
    },
    {
      "cell_type": "markdown",
      "id": "c38b222c-aa70-4504-940b-36a69f0aa836",
      "metadata": {
        "deletable": false,
        "editable": false,
        "id": "c38b222c-aa70-4504-940b-36a69f0aa836"
      },
      "source": [
        "## Dividir"
      ]
    },
    {
      "cell_type": "markdown",
      "id": "6cdf998a-89a7-498b-b5dc-9cfc74cf05b3",
      "metadata": {
        "deletable": false,
        "editable": false,
        "id": "6cdf998a-89a7-498b-b5dc-9cfc74cf05b3"
      },
      "source": [
        "Agora que temos nossos dados em um formato que podemos usar, podemos seguir os passos que usamos anteriormente para construir um modelo, começando com uma matriz de características."
      ]
    },
    {
      "cell_type": "markdown",
      "id": "23506be4-2d60-4ce8-a889-05d0a7169ef8",
      "metadata": {
        "deletable": false,
        "editable": false,
        "id": "23506be4-2d60-4ce8-a889-05d0a7169ef8"
      },
      "source": [
        "### Exercício:\n",
        "Crie a matriz de características `X`. Ela deve conter as cinco colunas da lista `high_var_cols`."
      ]
    },
    {
      "cell_type": "code",
      "execution_count": null,
      "id": "c62da46e-9241-4ce3-a76d-65dad42079e5",
      "metadata": {
        "deletable": false,
        "id": "c62da46e-9241-4ce3-a76d-65dad42079e5"
      },
      "outputs": [],
      "source": [
        "X = df[high_var_cols]\n",
        "\n",
        "print(\"X type:\", type(X))\n",
        "print(\"X shape:\", X.shape)\n",
        "X.head()"
      ]
    },
    {
      "cell_type": "markdown",
      "id": "d2b8174d-0120-45fc-96b6-33f511ec07eb",
      "metadata": {
        "deletable": false,
        "editable": false,
        "id": "d2b8174d-0120-45fc-96b6-33f511ec07eb"
      },
      "source": [
        "# Construindo Model"
      ]
    },
    {
      "cell_type": "markdown",
      "id": "26aa9c15-4537-4706-9cee-06c653e92eeb",
      "metadata": {
        "deletable": false,
        "editable": false,
        "id": "26aa9c15-4537-4706-9cee-06c653e92eeb"
      },
      "source": [
        "## Iterar"
      ]
    },
    {
      "cell_type": "markdown",
      "id": "990f6439-f602-44e3-ab70-e7b04699dbcb",
      "metadata": {
        "deletable": false,
        "editable": false,
        "id": "990f6439-f602-44e3-ab70-e7b04699dbcb"
      },
      "source": [
        "Durante nossa EDA, vimos que tínhamos um problema de escala entre nossas variáveis. Esse problema pode dificultar o agrupamento dos dados, então precisaremos corrigi-lo para ajudar em nossa análise.\n",
        "\n",
        "Uma estratégia que podemos usar é a **padronização**, um método estatístico para colocar todas as variáveis em um conjunto de dados na mesma escala.\n",
        "\n",
        "Vamos explorar como isso funciona aqui. Mais tarde, o incorporaremos ao nosso pipeline do modelo."
      ]
    },
    {
      "cell_type": "markdown",
      "id": "47bcf28e-e062-43e2-b7c8-cfdec3fe0707",
      "metadata": {
        "deletable": false,
        "editable": false,
        "id": "47bcf28e-e062-43e2-b7c8-cfdec3fe0707"
      },
      "source": [
        "### Exercício:\n",
        "Crie um DataFrame chamado `X_summary` com a média e o desvio padrão de todas as variáveis em `X`."
      ]
    },
    {
      "cell_type": "code",
      "execution_count": null,
      "id": "5587a2c3-78a2-46f3-9b83-d314d79ccc0f",
      "metadata": {
        "deletable": false,
        "id": "5587a2c3-78a2-46f3-9b83-d314d79ccc0f"
      },
      "outputs": [],
      "source": [
        "X_summary = X.aggregate([\"mean\",\"std\"]).astype(int)\n",
        "\n",
        "print(\"X_summary type:\", type(X_summary))\n",
        "print(\"X_summary shape:\", X_summary.shape)\n",
        "X_summary"
      ]
    },
    {
      "cell_type": "markdown",
      "id": "9f25a131-7d6f-42a5-b43c-700ed0516521",
      "metadata": {
        "deletable": false,
        "editable": false,
        "id": "9f25a131-7d6f-42a5-b43c-700ed0516521"
      },
      "source": [
        "Essas são as informações de que precisamos para padronizar nossos dados, então vamos colocá-las em prática."
      ]
    },
    {
      "cell_type": "markdown",
      "source": [
        "A __*standardização*__ é uma técnica fundamental em análise de dados, especialmente quando se trabalha com métodos que são sensíveis à escala das variáveis, como o k-means clustering e muitos algoritmos de aprendizado de máquina.\n",
        "\n",
        "__O que é Standardização?__\n",
        "\n",
        "A standardização transforma as variáveis de modo que tenham média zero e desvio padrão um. Isso é feito subtraindo a média da variável e dividindo pelo desvio padrão.\n",
        "\n",
        "__Benefícios da Standardização__\n",
        "\n",
        "- Igualdade de Escala: Todas as variáveis estarão na mesma escala, o que é essencial para algoritmos que utilizam distâncias, como k-means e PCA (análise de componentes principais).\n",
        "\n",
        "- Melhor Convergência: Alguns algoritmos, como gradientes, convergem mais rapidamente quando as características estão em escalas semelhantes.\n",
        "\n",
        "- Interpretação dos Coeficientes: Em modelos lineares, a standardização ajuda na interpretação dos coeficientes.\n",
        "\n",
        "__Conclusão:__\n",
        "A standardização é uma etapa crucial no pré-processamento de dados, especialmente quando se trata de análise e modelagem. Incorporá-la em seu pipeline de machine learning não só melhora a performance do modelo, mas também facilita a interpretação dos resultados."
      ],
      "metadata": {
        "id": "hjCIYLo95_BE"
      },
      "id": "hjCIYLo95_BE"
    },
    {
      "cell_type": "markdown",
      "id": "2dea251f-f38f-488e-a771-0ac1e394cf28",
      "metadata": {
        "deletable": false,
        "editable": false,
        "id": "2dea251f-f38f-488e-a771-0ac1e394cf28"
      },
      "source": [
        "### Exercício:\n",
        "Crie um transformador `StandardScaler`, use-o para transformar os dados em `X` e, em seguida, coloque os dados transformados em um DataFrame chamado `X_scaled`."
      ]
    },
    {
      "cell_type": "code",
      "execution_count": null,
      "id": "c627a3d5-4e0b-4cd2-acf2-35a53d3dd278",
      "metadata": {
        "deletable": false,
        "id": "c627a3d5-4e0b-4cd2-acf2-35a53d3dd278"
      },
      "outputs": [],
      "source": [
        "# Instantiate transformer\n",
        "ss = StandardScaler()\n",
        "\n",
        "# Transform `X`\n",
        "X_scaled_data = ss.fit_transform(X)\n",
        "\n",
        "# Put `X_scaled_data` into DataFrame\n",
        "X_scaled = pd.DataFrame(X_scaled_data, columns=X.columns)\n",
        "\n",
        "print(\"X_scaled type:\", type(X_scaled))\n",
        "print(\"X_scaled shape:\", X_scaled.shape)\n",
        "X_scaled.head()"
      ]
    },
    {
      "cell_type": "markdown",
      "id": "591e881c-0b9f-4d64-904d-7ebac8dcb195",
      "metadata": {
        "deletable": false,
        "editable": false,
        "id": "591e881c-0b9f-4d64-904d-7ebac8dcb195"
      },
      "source": [
        "Como você pode ver, todas as cinco variáveis agora usam a mesma escala. Mas, apenas para garantir, vamos dar uma olhada em suas médias e desvios padrão."
      ]
    },
    {
      "cell_type": "markdown",
      "id": "265996f9-0f0f-48da-831a-cf72c03b1f0a",
      "metadata": {
        "deletable": false,
        "editable": false,
        "id": "265996f9-0f0f-48da-831a-cf72c03b1f0a"
      },
      "source": [
        "### Exercício:\n",
        "Crie um DataFrame chamado `X_scaled_summary` com a média e o desvio padrão de todas as variáveis em `X_scaled`."
      ]
    },
    {
      "cell_type": "code",
      "execution_count": null,
      "id": "3b07600f-bd2b-4d34-837c-1992a327f5d4",
      "metadata": {
        "deletable": false,
        "id": "3b07600f-bd2b-4d34-837c-1992a327f5d4"
      },
      "outputs": [],
      "source": [
        "X_scaled_summary = X_scaled.aggregate([\"mean\",\"std\"]).astype(int)\n",
        "\n",
        "print(\"X_scaled_summary type:\", type(X_scaled_summary))\n",
        "print(\"X_scaled_summary shape:\", X_scaled_summary.shape)\n",
        "X_scaled_summary"
      ]
    },
    {
      "cell_type": "markdown",
      "id": "29e7e400-ee87-4eaf-a5e4-214d5155ad1a",
      "metadata": {
        "deletable": false,
        "editable": false,
        "id": "29e7e400-ee87-4eaf-a5e4-214d5155ad1a"
      },
      "source": [
        "E é assim que deve ficar. Lembre-se de que a padronização leva todas as variáveis e as escala para que todas tenham uma média de 0 e um desvio padrão de 1."
      ]
    },
    {
      "cell_type": "markdown",
      "id": "40021f04-9267-4486-8c16-c9439496baaf",
      "metadata": {
        "deletable": false,
        "editable": false,
        "id": "40021f04-9267-4486-8c16-c9439496baaf"
      },
      "source": [
        "Agora que podemos comparar todos os nossos dados na mesma escala, podemos começar a formar os clusters. Assim como fizemos da última vez, precisamos descobrir quantos clusters devemos ter."
      ]
    },
    {
      "cell_type": "markdown",
      "id": "fc286573-a3f0-44f3-8d7c-1e4dacb06600",
      "metadata": {
        "deletable": false,
        "editable": false,
        "id": "fc286573-a3f0-44f3-8d7c-1e4dacb06600"
      },
      "source": [
        "### Exercício:\n",
        "Use um loop `for` para construir e treinar um modelo K-Means em que `n_clusters` varia de 2 a 12 (inclusivo). Seu modelo deve incluir um `StandardScaler`. Cada vez que um modelo é treinado, calcule a inércia e adicione-a à lista `inertia_errors`; em seguida, calcule a pontuação de silhueta e adicione-a à lista `silhouette_scores`."
      ]
    },
    {
      "cell_type": "code",
      "execution_count": null,
      "id": "6b2d01d7-6e08-41b4-8339-22d6100b7056",
      "metadata": {
        "deletable": false,
        "id": "6b2d01d7-6e08-41b4-8339-22d6100b7056"
      },
      "outputs": [],
      "source": [
        "n_clusters = range(2,13)\n",
        "inertia_errors = []\n",
        "silhouette_scores = []\n",
        "\n",
        "# Add `for` loop to train model and calculate inertia, silhouette score.\n",
        "for k in n_clusters:\n",
        "  model = make_pipeline(\n",
        "      StandardScaler(),\n",
        "      KMeans(n_clusters=k, random_state=42)\n",
        "  )\n",
        "  model.fit(X)\n",
        "  inertia_errors.append(model.named_steps[\"kmeans\"].inertia_)\n",
        "  silhouette_scores.append(\n",
        "      silhouette_score(X, model.named_steps[\"kmeans\"].labels_)\n",
        "  )\n",
        "\n",
        "\n",
        "\n",
        "print(\"inertia_errors type:\", type(inertia_errors))\n",
        "print(\"inertia_errors len:\", len(inertia_errors))\n",
        "print(\"Inertia:\", inertia_errors)\n",
        "print()\n",
        "print(\"silhouette_scores type:\", type(silhouette_scores))\n",
        "print(\"silhouette_scores len:\", len(silhouette_scores))\n",
        "print(\"Silhouette Scores:\", silhouette_scores)"
      ]
    },
    {
      "cell_type": "markdown",
      "id": "51242f41-1f99-4f4b-ae10-6d340733efba",
      "metadata": {
        "deletable": false,
        "editable": false,
        "id": "51242f41-1f99-4f4b-ae10-6d340733efba"
      },
      "source": [
        "Assim como da última vez, vamos criar um gráfico de cotovelo para ver quantos clusters devemos usar."
      ]
    },
    {
      "cell_type": "markdown",
      "id": "4704c647-9954-49a3-8590-6cec568452a8",
      "metadata": {
        "deletable": false,
        "editable": false,
        "id": "4704c647-9954-49a3-8590-6cec568452a8"
      },
      "source": [
        "### Exercício:\n",
        "Use o Plotly Express para criar um gráfico de linhas que mostre os valores de `inertia_errors` em função de `n_clusters`. Certifique-se de rotular seu eixo x como `\"Number of Clusters\"`, seu eixo y como `\"Inertia\"` e utilizar o título `\"K-Means Model: Inertia vs Number of Clusters\"`."
      ]
    },
    {
      "cell_type": "code",
      "execution_count": null,
      "id": "a8f4e90b-9f3b-4737-acf9-35874ffb0480",
      "metadata": {
        "deletable": false,
        "id": "a8f4e90b-9f3b-4737-acf9-35874ffb0480"
      },
      "outputs": [],
      "source": [
        "# Create line plot of `inertia_errors` vs `n_clusters`\n",
        "fig = px.line(\n",
        "    x=n_clusters,\n",
        "    y=inertia_errors,\n",
        "    title=\"K-Means Model: Inertia vs Number of Clusters\"\n",
        ")\n",
        "fig.update_layout(xaxis_title=\"Number of Clusters\", yaxis_title=\"Inertia\")\n",
        "\n",
        "fig.show()"
      ]
    },
    {
      "cell_type": "markdown",
      "id": "11ec3fe0-30c2-4446-910e-a024660d461a",
      "metadata": {
        "deletable": false,
        "editable": false,
        "id": "11ec3fe0-30c2-4446-910e-a024660d461a"
      },
      "source": [
        "Você pode ver que a linha começa a se achatar em torno de 4 ou 5 clusters."
      ]
    },
    {
      "cell_type": "markdown",
      "id": "40026698-ff70-401b-83a7-66cbb9b7fd7d",
      "metadata": {
        "deletable": false,
        "editable": false,
        "id": "40026698-ff70-401b-83a7-66cbb9b7fd7d"
      },
      "source": [
        "**Nota:** Acabamos usando 5 clusters da última vez também, mas isso se deve ao fato de estarmos trabalhando com dados muito semelhantes. 5 clusters nem sempre será a escolha certa para esse tipo de análise, como veremos a seguir."
      ]
    },
    {
      "cell_type": "markdown",
      "id": "0e5d7f97-3f09-4b30-8644-5ee135caf3bb",
      "metadata": {
        "deletable": false,
        "editable": false,
        "id": "0e5d7f97-3f09-4b30-8644-5ee135caf3bb"
      },
      "source": [
        "Vamos criar outro gráfico de linhas com base nas pontuações de silhueta."
      ]
    },
    {
      "cell_type": "markdown",
      "id": "b17dfd5f-08c2-49f0-8f9d-c701f34a3334",
      "metadata": {
        "deletable": false,
        "editable": false,
        "id": "b17dfd5f-08c2-49f0-8f9d-c701f34a3334"
      },
      "source": [
        "### Exercício:\n",
        "Use o Plotly Express para criar um gráfico de linhas que mostre os valores de `silhouette_scores` em função de `n_clusters`. Certifique-se de rotular seu eixo x como `\"Number of Clusters\"`, seu eixo y como `\"Silhouette Score\"` e utilizar o título `\"K-Means Model: Silhouette Score vs Number of Clusters\"`."
      ]
    },
    {
      "cell_type": "code",
      "execution_count": null,
      "id": "549d5ff7-160f-4352-a16e-167f9f332543",
      "metadata": {
        "deletable": false,
        "id": "549d5ff7-160f-4352-a16e-167f9f332543"
      },
      "outputs": [],
      "source": [
        "# Create a line plot of `silhouette_scores` vs `n_clusters`\n",
        "fig = px.line(\n",
        "    x=n_clusters,\n",
        "    y=silhouette_scores,\n",
        "    title=\"K-Means Model: Silhouette Score vs Number of Clusters\"\n",
        ")\n",
        "fig.update_layout(xaxis_title=\"Number of Clusters\", yaxis_title=\"Silhouette Score\")\n",
        "fig.show()"
      ]
    },
    {
      "cell_type": "markdown",
      "id": "d5081375-af5c-4272-b466-381bfaebf82c",
      "metadata": {
        "deletable": false,
        "editable": false,
        "id": "d5081375-af5c-4272-b466-381bfaebf82c"
      },
      "source": [
        "Este gráfico é um pouco menos direto, mas podemos ver que as melhores pontuações de silhueta ocorrem quando há 3 ou 4 clusters.\n",
        "\n",
        "Juntando as informações deste gráfico com o nosso gráfico de inércia, parece que a melhor configuração para `n_clusters` será 4."
      ]
    },
    {
      "cell_type": "markdown",
      "id": "8c187019-4471-4853-83e9-709ad0a8968f",
      "metadata": {
        "deletable": false,
        "editable": false,
        "id": "8c187019-4471-4853-83e9-709ad0a8968f"
      },
      "source": [
        "### Exercício:\n",
        "Construa e treine um novo modelo K-Means chamado `final_model`. Use as informações que você obteve a partir dos dois gráficos acima para definir um valor apropriado para o argumento `n_clusters`. Assim que você tiver construído e treinado seu modelo, envie-o para avaliação."
      ]
    },
    {
      "cell_type": "code",
      "execution_count": null,
      "id": "4a8bf469-9925-45d1-b612-611b49ff08ce",
      "metadata": {
        "deletable": false,
        "id": "4a8bf469-9925-45d1-b612-611b49ff08ce"
      },
      "outputs": [],
      "source": [
        "from typing import final\n",
        "# Build model\n",
        "final_model = make_pipeline(\n",
        "    StandardScaler(),\n",
        "    KMeans(n_clusters=4, random_state=42)\n",
        ")\n",
        "\n",
        "# Fit model to data\n",
        "final_model.fit(X)\n"
      ]
    },
    {
      "cell_type": "markdown",
      "id": "a23857cb-c52b-409c-894f-16fa22e24e70",
      "metadata": {
        "deletable": false,
        "editable": false,
        "id": "a23857cb-c52b-409c-894f-16fa22e24e70"
      },
      "source": [
        "# Comunicar Resultados\n"
      ]
    },
    {
      "cell_type": "markdown",
      "id": "0a862054-a1e0-4b90-a489-31345b058a76",
      "metadata": {
        "deletable": false,
        "editable": false,
        "id": "0a862054-a1e0-4b90-a489-31345b058a76"
      },
      "source": [
        "É hora de informar a todos como as coisas terminaram. Vamos começar pegando os rótulos."
      ]
    },
    {
      "cell_type": "markdown",
      "id": "4da279cb-4920-494e-81bc-14995812e590",
      "metadata": {
        "deletable": false,
        "editable": false,
        "id": "4da279cb-4920-494e-81bc-14995812e590"
      },
      "source": [
        "### Exercício:\n",
        "Extraia os rótulos que seu `final_model` criou durante o treinamento e atribua-os à variável `labels`."
      ]
    },
    {
      "cell_type": "code",
      "execution_count": null,
      "id": "000db7ce-7c74-40a4-8bd0-5fb1f4f4eef9",
      "metadata": {
        "deletable": false,
        "id": "000db7ce-7c74-40a4-8bd0-5fb1f4f4eef9"
      },
      "outputs": [],
      "source": [
        "labels = final_model.named_steps[\"kmeans\"].labels_\n",
        "\n",
        "print(\"labels type:\", type(labels))\n",
        "print(\"labels len:\", len(labels))\n",
        "print(labels[:5])"
      ]
    },
    {
      "cell_type": "markdown",
      "id": "b07b845f-f52d-4b99-a95b-e1dee131686e",
      "metadata": {
        "deletable": false,
        "editable": false,
        "id": "b07b845f-f52d-4b99-a95b-e1dee131686e"
      },
      "source": [
        "Vamos criar um novo DataFrame para trabalharmos na visualização."
      ]
    },
    {
      "cell_type": "markdown",
      "id": "28819fc0-a54b-45de-a2dd-90b5fe47fba1",
      "metadata": {
        "deletable": false,
        "editable": false,
        "id": "28819fc0-a54b-45de-a2dd-90b5fe47fba1"
      },
      "source": [
        "### Exercício:\n",
        "Crie um DataFrame `xgb` que contenha os valores médios das características em `X` para cada um dos clusters em seu `final_model`."
      ]
    },
    {
      "cell_type": "code",
      "execution_count": null,
      "id": "841b4f7e-3047-4380-803e-949747925242",
      "metadata": {
        "deletable": false,
        "id": "841b4f7e-3047-4380-803e-949747925242"
      },
      "outputs": [],
      "source": [
        "xgb = X.groupby(labels).mean()\n",
        "\n",
        "print(\"xgb type:\", type(xgb))\n",
        "print(\"xgb shape:\", xgb.shape)\n",
        "xgb"
      ]
    },
    {
      "cell_type": "markdown",
      "id": "489eca2a-b29a-4a7c-9861-340da579eaaf",
      "metadata": {
        "deletable": false,
        "editable": false,
        "id": "489eca2a-b29a-4a7c-9861-340da579eaaf"
      },
      "source": [
        "Agora que temos um DataFrame, vamos fazer um gráfico de barras e ver como nossos clusters diferem."
      ]
    },
    {
      "cell_type": "markdown",
      "id": "f6cf4842-5822-4235-877b-5a64b7f65b7b",
      "metadata": {
        "deletable": false,
        "editable": false,
        "id": "f6cf4842-5822-4235-877b-5a64b7f65b7b"
      },
      "source": [
        "### Exercício:\n",
        "Use o Plotly Express para criar um gráfico de barras lado a lado a partir de `xgb` que mostre a média das características em `X` para cada um dos clusters em seu `final_model`. Certifique-se de rotular o eixo x como `\"Cluster\"`, o eixo y como `\"Value [$]\"` e utilizar o título `\"Mean Household Finances by Cluster\"`."
      ]
    },
    {
      "cell_type": "code",
      "execution_count": null,
      "id": "1549076a-b706-4da2-aa87-0e6495988580",
      "metadata": {
        "deletable": false,
        "id": "1549076a-b706-4da2-aa87-0e6495988580"
      },
      "outputs": [],
      "source": [
        "# Create side-by-side bar chart of `xgb`\n",
        "fig = px.bar(\n",
        "  xgb,\n",
        "  barmode=\"group\",\n",
        "  title=\"Mean Household Finances by Cluster\"\n",
        ")\n",
        "fig.update_layout(xaxis_title=\"Cluster\",yaxis_title=\"Value [$]\")\n",
        "fig.show()"
      ]
    },
    {
      "cell_type": "markdown",
      "id": "6089f477-6f9a-4711-b0c2-b80a3468ebe6",
      "metadata": {
        "deletable": false,
        "editable": false,
        "id": "6089f477-6f9a-4711-b0c2-b80a3468ebe6"
      },
      "source": [
        "Lembre-se de que nossos clusters são baseados parcialmente no `NETWORTH`, o que significa que os lares no cluster 0 têm a menor riqueza líquida, enquanto os lares no cluster 2 têm a maior. Com base nisso, há algumas coisas interessantes para explorar aqui.\n",
        "\n",
        "Primeiro, observe a variável `DEBT`.\n",
        "\n",
        "Você poderia pensar que ela aumentaria conforme a riqueza líquida aumenta, mas não é o que acontece.\n",
        "\n",
        "A menor quantidade de dívida é carregada pelos lares do cluster 2, mesmo que o valor de suas casas (mostrado em verde) seja aproximadamente o mesmo. Você não pode *realmente* dizer com esses dados o que está acontecendo, mas uma possibilidade é que as pessoas do cluster 2 tenham dinheiro suficiente para quitar suas dívidas, mas não o suficiente para alavancar o que possuem em dívidas adicionais. Por outro lado, as pessoas do cluster 3 podem não precisar se preocupar em carregar dívidas porque sua riqueza líquida é tão alta.\n",
        "\n",
        "Finalmente, como começamos este projeto analisando os valores de casas, observe a relação entre `DEBT` e `HOUSES`. O valor da dívida para as pessoas no cluster 0 é maior que o valor de suas casas, sugerindo que a maior parte da dívida que essas pessoas carregam está atrelada a suas hipotecas — se é que possuem uma casa. Em contraste com os outros três clusters: o valor da dívida de todos os outros é menor que o valor de suas casas.\n",
        "\n",
        "Então, tudo isso é bem interessante, mas é diferente do que fizemos da última vez, certo? Neste ponto da última lição, fizemos um gráfico de dispersão. Essa foi uma tarefa simples porque trabalhamos apenas com duas características, então podíamos plotar os pontos de dados em duas dimensões. Mas agora `X` tem cinco dimensões! Como podemos plotar isso para dar aos stakeholders uma ideia de nossos clusters?\n",
        "\n",
        "Como estamos trabalhando com uma tela de computador, não temos muito espaço em relação ao número de dimensões que podemos usar: precisamos que sejam duas. Portanto, se formos fazer algo parecido com o gráfico de dispersão que fizemos antes, precisaremos transformar nossos dados de 5 dimensões em algo que possamos visualizar em 2 dimensões."
      ]
    },
    {
      "cell_type": "markdown",
      "source": [
        "### Principal Component Analysis (PCA)\n",
        "\n",
        "É uma técnica estatística usada para simplificar um conjunto de dados de alta dimensionalidade, reduzindo-o a um número menor de componentes principais que ainda capturam a maior parte da variância presente nos dados originais.\n",
        "\n",
        "Essencialmente, o PCA transforma as variáveis originais em um novo conjunto de variáveis não correlacionadas chamadas componentes principais.\n",
        "\n",
        "__Objetivos do PCA:__\n",
        "\n",
        "- Redução de Dimensionalidade: Reduz o número de variáveis mantendo a maior quantidade possível de informação.\n",
        "Visualização: Facilita a visualização de dados complexos em 2D ou 3D.\n",
        "\n",
        "- Remoção de Multicolinearidade: Elimina redundâncias entre variáveis correlacionadas.\n",
        "\n",
        "- Melhoria de Performance: Reduz o tempo de treinamento de modelos de machine learning, especialmente em conjuntos de dados com muitas características.\n",
        "\n",
        "__Como Funciona o PCA?__\n",
        "\n",
        "O PCA identifica as direções (componentes principais) em que os dados variam mais. Cada componente principal é uma combinação linear das variáveis originais e é ortogonal aos demais componentes. A variância dos dados ao longo de cada componente principal decresce à medida que avançamos nos componentes."
      ],
      "metadata": {
        "id": "aZVcm3xn-kV1"
      },
      "id": "aZVcm3xn-kV1"
    },
    {
      "cell_type": "markdown",
      "id": "10e299bd-362b-4083-a12c-2c74d51f8097",
      "metadata": {
        "deletable": false,
        "editable": false,
        "id": "10e299bd-362b-4083-a12c-2c74d51f8097"
      },
      "source": [
        "### Exercício:\n",
        "Crie um transformador `PCA`, use-o para reduzir a dimensionalidade dos dados em `X` para 2 e, em seguida, coloque os dados transformados em um DataFrame chamado `X_pca`. As colunas de `X_pca` devem ser nomeadas como `\"PC1\"` e `\"PC2\"`."
      ]
    },
    {
      "cell_type": "code",
      "execution_count": null,
      "id": "fb222421-0aa9-4f14-86f6-cc8792620586",
      "metadata": {
        "deletable": false,
        "id": "fb222421-0aa9-4f14-86f6-cc8792620586"
      },
      "outputs": [],
      "source": [
        "# Instantiate transformer\n",
        "pca = PCA(n_components=2, random_state=42)\n",
        "\n",
        "# Transform `X`\n",
        "X_t = pca.fit_transform(X)\n",
        "\n",
        "# Put `X_t` into DataFrame\n",
        "X_pca = pd.DataFrame(X_t, columns=[\"PC1\",\"PC2\"])\n",
        "\n",
        "print(\"X_pca type:\", type(X_pca))\n",
        "print(\"X_pca shape:\", X_pca.shape)\n",
        "X_pca.head()"
      ]
    },
    {
      "cell_type": "markdown",
      "id": "e06e30ab-646b-4160-a555-46ccacf8aba8",
      "metadata": {
        "deletable": false,
        "editable": false,
        "id": "e06e30ab-646b-4160-a555-46ccacf8aba8"
      },
      "source": [
        "Então é isso: nossas cinco dimensões foram reduzidas para duas. Vamos fazer um gráfico de dispersão e ver o que conseguimos."
      ]
    },
    {
      "cell_type": "markdown",
      "id": "b4b62258-c48b-4361-a3a6-27a251476589",
      "metadata": {
        "deletable": false,
        "editable": false,
        "id": "b4b62258-c48b-4361-a3a6-27a251476589"
      },
      "source": [
        "### Exercício:\n",
        "Use o plotly express para criar um gráfico de dispersão de `X_pca` usando o seaborn. Certifique-se de colorir os pontos de dados usando os rótulos gerados pelo seu `final_model`. Rotule o eixo x como `\"PC1\"`, o eixo y como `\"PC2\"` e use o título `\"Representação PCA dos Clusters\"`."
      ]
    },
    {
      "cell_type": "code",
      "execution_count": null,
      "id": "996ba066-9fe8-4dce-8a2d-9757974c0ac2",
      "metadata": {
        "deletable": false,
        "id": "996ba066-9fe8-4dce-8a2d-9757974c0ac2"
      },
      "outputs": [],
      "source": [
        "# Create scatter plot of `PC2` vs `PC1`\n",
        "fig = px.scatter(\n",
        "    data_frame = X_pca,\n",
        "    x = \"PC1\",\n",
        "    y = \"PC2\",\n",
        "    title=\"Representação PCA dos Clusters\"\n",
        ")\n",
        "fig.show()"
      ]
    },
    {
      "cell_type": "markdown",
      "id": "b3fdffaf-d2d5-4634-a549-00087c16c086",
      "metadata": {
        "deletable": false,
        "editable": false,
        "id": "b3fdffaf-d2d5-4634-a549-00087c16c086"
      },
      "source": [
        "**Nota:** Você pode frequentemente melhorar o desempenho do PCA padronizando seus dados primeiro.\n",
        "Experimente incluir um `StandardScaler` em sua transformação de `X`.\n",
        "\n",
        "Como isso muda os clusters em seu gráfico de dispersão?"
      ]
    },
    {
      "cell_type": "markdown",
      "id": "f94b173a-13a0-4154-99c6-1812472c4baa",
      "metadata": {
        "deletable": false,
        "editable": false,
        "id": "f94b173a-13a0-4154-99c6-1812472c4baa"
      },
      "source": [
        "Uma limitação deste gráfico é que é difícil explicar o que os eixos representam aqui. Na verdade, ambos são uma combinação das cinco características que originalmente tínhamos em `X`, o que significa que isso é bastante abstrato. Ainda assim, é a melhor maneira que temos para mostrar o máximo de informações possível como uma ferramenta explicativa para pessoas fora da comunidade de ciência de dados.\n",
        "\n",
        "Então, o que esse gráfico significa? Significa que fizemos quatro clusters agrupados de forma compacta que compartilham algumas características-chave. Se estivéssemos apresentando isso a um grupo de partes interessadas, poderia ser útil mostrar esse gráfico primeiro como uma espécie de aquecimento, já que a maioria das pessoas entende como um objeto bidimensional funciona. Depois, poderíamos passar para uma análise mais sutil dos dados.\n",
        "\n",
        "Apenas algo a ter em mente enquanto você continua sua jornada na ciência de dados."
      ]
    },
    {
      "cell_type": "markdown",
      "id": "af32b387-69b1-4676-914a-095e88c780d4",
      "metadata": {
        "deletable": false,
        "editable": false,
        "id": "af32b387-69b1-4676-914a-095e88c780d4"
      },
      "source": [
        "# Dashboard Interativo"
      ]
    },
    {
      "cell_type": "markdown",
      "id": "62449b42-769f-413e-b478-6e52785a4af8",
      "metadata": {
        "deletable": false,
        "editable": false,
        "id": "62449b42-769f-413e-b478-6e52785a4af8"
      },
      "source": [
        "Na última lição, construímos um modelo com base nas características de maior variância em nosso conjunto de dados e criamos várias visualizações para comunicar nossos resultados. Nesta lição, vamos combinar todos esses elementos em uma aplicação web dinâmica que permitirá aos usuários escolher suas próprias características, construir um modelo e avaliar seu desempenho por meio de uma interface gráfica do usuário. Em outras palavras, você criará uma ferramenta que permitirá que qualquer pessoa construa um modelo sem precisar de código."
      ]
    },
    {
      "cell_type": "code",
      "source": [
        "!pip install dash jupyter-dash flask"
      ],
      "metadata": {
        "id": "W48x9iW8BcA4"
      },
      "id": "W48x9iW8BcA4",
      "execution_count": null,
      "outputs": []
    },
    {
      "cell_type": "code",
      "execution_count": 2,
      "id": "ca5eb70c-c80e-430e-bf38-df36ceb397fd",
      "metadata": {
        "deletable": false,
        "editable": false,
        "init_cell": true,
        "id": "ca5eb70c-c80e-430e-bf38-df36ceb397fd"
      },
      "outputs": [],
      "source": [
        "import pandas as pd\n",
        "import plotly.express as px\n",
        "\n",
        "from dash import Input, Output, dcc, html\n",
        "from jupyter_dash import JupyterDash\n",
        "from flask import Flask\n",
        "\n",
        "from scipy.stats.mstats import trimmed_var\n",
        "from sklearn.cluster import KMeans\n",
        "from sklearn.decomposition import PCA\n",
        "from sklearn.metrics import silhouette_score\n",
        "from sklearn.pipeline import make_pipeline\n",
        "from sklearn.preprocessing import StandardScaler\n",
        "\n",
        "# configurar o Dash em ambientes Jupyter que usam um proxy\n",
        "# JupyterDash.infer_jupyter_proxy_config()"
      ]
    },
    {
      "cell_type": "markdown",
      "id": "09d45f07-ad60-470a-b546-5f81f6501508",
      "metadata": {
        "deletable": false,
        "editable": false,
        "id": "09d45f07-ad60-470a-b546-5f81f6501508"
      },
      "source": [
        "# Preparando Dados"
      ]
    },
    {
      "cell_type": "markdown",
      "id": "aa1a1a1f-6c1a-419d-a792-f2376b17e66f",
      "metadata": {
        "deletable": false,
        "editable": false,
        "id": "aa1a1a1f-6c1a-419d-a792-f2376b17e66f"
      },
      "source": [
        "Como sempre, começaremos trazendo nossos dados para o projeto usando uma função `wrangle`."
      ]
    },
    {
      "cell_type": "markdown",
      "id": "524ddb91-b26e-46c8-a31f-ae32473240d4",
      "metadata": {
        "deletable": false,
        "editable": false,
        "id": "524ddb91-b26e-46c8-a31f-ae32473240d4"
      },
      "source": [
        "## Importação"
      ]
    },
    {
      "cell_type": "markdown",
      "id": "30f14287-a675-47db-bf79-7c2160e87e0e",
      "metadata": {
        "deletable": false,
        "editable": false,
        "id": "30f14287-a675-47db-bf79-7c2160e87e0e"
      },
      "source": [
        "### Exercício 1:\n",
        "Complete a função `wrangle` abaixo, usando a docstring como guia. Em seguida, utilize sua função para ler o arquivo `\"data/SCFP2019.csv.gz\"` em um DataFrame."
      ]
    },
    {
      "cell_type": "code",
      "execution_count": 3,
      "id": "a9838abc-c3ab-4206-a40d-de4bee1d0be9",
      "metadata": {
        "deletable": false,
        "id": "a9838abc-c3ab-4206-a40d-de4bee1d0be9"
      },
      "outputs": [],
      "source": [
        "def wrangle(filepath):\n",
        "    \"\"\"Read SCF data file into ``DataFrame``.\n",
        "\n",
        "    Returns only credit fearful households whose net worth is less than $2 million.\n",
        "\n",
        "    Parameters\n",
        "    ----------\n",
        "    filepath : str\n",
        "        Location of CSV file.\n",
        "    \"\"\"\n",
        "    df = pd.read_csv(filepath)\n",
        "    mask = (df[\"TURNFEAR\"] == 1) & (df[\"NETWORTH\"] < 2e6)\n",
        "\n",
        "    df = df[mask]\n",
        "    return df"
      ]
    },
    {
      "cell_type": "code",
      "execution_count": 4,
      "id": "0d5e7904-a278-4005-96e2-461ef3b7aed5",
      "metadata": {
        "deletable": false,
        "id": "0d5e7904-a278-4005-96e2-461ef3b7aed5",
        "colab": {
          "base_uri": "https://localhost:8080/",
          "height": 290
        },
        "outputId": "15ad59d9-c11f-48b7-a5d4-b8774e0700dd"
      },
      "outputs": [
        {
          "output_type": "stream",
          "name": "stdout",
          "text": [
            "df type: <class 'pandas.core.frame.DataFrame'>\n",
            "df shape: (4418, 351)\n"
          ]
        },
        {
          "output_type": "execute_result",
          "data": {
            "text/plain": [
              "   YY1  Y1          WGT  HHSEX  AGE  AGECL  EDUC  EDCL  MARRIED  KIDS  ...  \\\n",
              "5    2  21  3790.476607      1   50      3     8     2        1     3  ...   \n",
              "6    2  22  3798.868505      1   50      3     8     2        1     3  ...   \n",
              "7    2  23  3799.468393      1   50      3     8     2        1     3  ...   \n",
              "8    2  24  3788.076005      1   50      3     8     2        1     3  ...   \n",
              "9    2  25  3793.066589      1   50      3     8     2        1     3  ...   \n",
              "\n",
              "   NWCAT  INCCAT  ASSETCAT  NINCCAT  NINC2CAT  NWPCTLECAT  INCPCTLECAT  \\\n",
              "5      1       2         1        2         1           1            4   \n",
              "6      1       2         1        2         1           1            4   \n",
              "7      1       2         1        2         1           1            4   \n",
              "8      1       2         1        2         1           1            4   \n",
              "9      1       2         1        2         1           1            4   \n",
              "\n",
              "   NINCPCTLECAT  INCQRTCAT  NINCQRTCAT  \n",
              "5             4          2           2  \n",
              "6             3          2           2  \n",
              "7             4          2           2  \n",
              "8             4          2           2  \n",
              "9             4          2           2  \n",
              "\n",
              "[5 rows x 351 columns]"
            ],
            "text/html": [
              "\n",
              "  <div id=\"df-56fecbeb-36b7-4160-9224-4e3f98bd8226\" class=\"colab-df-container\">\n",
              "    <div>\n",
              "<style scoped>\n",
              "    .dataframe tbody tr th:only-of-type {\n",
              "        vertical-align: middle;\n",
              "    }\n",
              "\n",
              "    .dataframe tbody tr th {\n",
              "        vertical-align: top;\n",
              "    }\n",
              "\n",
              "    .dataframe thead th {\n",
              "        text-align: right;\n",
              "    }\n",
              "</style>\n",
              "<table border=\"1\" class=\"dataframe\">\n",
              "  <thead>\n",
              "    <tr style=\"text-align: right;\">\n",
              "      <th></th>\n",
              "      <th>YY1</th>\n",
              "      <th>Y1</th>\n",
              "      <th>WGT</th>\n",
              "      <th>HHSEX</th>\n",
              "      <th>AGE</th>\n",
              "      <th>AGECL</th>\n",
              "      <th>EDUC</th>\n",
              "      <th>EDCL</th>\n",
              "      <th>MARRIED</th>\n",
              "      <th>KIDS</th>\n",
              "      <th>...</th>\n",
              "      <th>NWCAT</th>\n",
              "      <th>INCCAT</th>\n",
              "      <th>ASSETCAT</th>\n",
              "      <th>NINCCAT</th>\n",
              "      <th>NINC2CAT</th>\n",
              "      <th>NWPCTLECAT</th>\n",
              "      <th>INCPCTLECAT</th>\n",
              "      <th>NINCPCTLECAT</th>\n",
              "      <th>INCQRTCAT</th>\n",
              "      <th>NINCQRTCAT</th>\n",
              "    </tr>\n",
              "  </thead>\n",
              "  <tbody>\n",
              "    <tr>\n",
              "      <th>5</th>\n",
              "      <td>2</td>\n",
              "      <td>21</td>\n",
              "      <td>3790.476607</td>\n",
              "      <td>1</td>\n",
              "      <td>50</td>\n",
              "      <td>3</td>\n",
              "      <td>8</td>\n",
              "      <td>2</td>\n",
              "      <td>1</td>\n",
              "      <td>3</td>\n",
              "      <td>...</td>\n",
              "      <td>1</td>\n",
              "      <td>2</td>\n",
              "      <td>1</td>\n",
              "      <td>2</td>\n",
              "      <td>1</td>\n",
              "      <td>1</td>\n",
              "      <td>4</td>\n",
              "      <td>4</td>\n",
              "      <td>2</td>\n",
              "      <td>2</td>\n",
              "    </tr>\n",
              "    <tr>\n",
              "      <th>6</th>\n",
              "      <td>2</td>\n",
              "      <td>22</td>\n",
              "      <td>3798.868505</td>\n",
              "      <td>1</td>\n",
              "      <td>50</td>\n",
              "      <td>3</td>\n",
              "      <td>8</td>\n",
              "      <td>2</td>\n",
              "      <td>1</td>\n",
              "      <td>3</td>\n",
              "      <td>...</td>\n",
              "      <td>1</td>\n",
              "      <td>2</td>\n",
              "      <td>1</td>\n",
              "      <td>2</td>\n",
              "      <td>1</td>\n",
              "      <td>1</td>\n",
              "      <td>4</td>\n",
              "      <td>3</td>\n",
              "      <td>2</td>\n",
              "      <td>2</td>\n",
              "    </tr>\n",
              "    <tr>\n",
              "      <th>7</th>\n",
              "      <td>2</td>\n",
              "      <td>23</td>\n",
              "      <td>3799.468393</td>\n",
              "      <td>1</td>\n",
              "      <td>50</td>\n",
              "      <td>3</td>\n",
              "      <td>8</td>\n",
              "      <td>2</td>\n",
              "      <td>1</td>\n",
              "      <td>3</td>\n",
              "      <td>...</td>\n",
              "      <td>1</td>\n",
              "      <td>2</td>\n",
              "      <td>1</td>\n",
              "      <td>2</td>\n",
              "      <td>1</td>\n",
              "      <td>1</td>\n",
              "      <td>4</td>\n",
              "      <td>4</td>\n",
              "      <td>2</td>\n",
              "      <td>2</td>\n",
              "    </tr>\n",
              "    <tr>\n",
              "      <th>8</th>\n",
              "      <td>2</td>\n",
              "      <td>24</td>\n",
              "      <td>3788.076005</td>\n",
              "      <td>1</td>\n",
              "      <td>50</td>\n",
              "      <td>3</td>\n",
              "      <td>8</td>\n",
              "      <td>2</td>\n",
              "      <td>1</td>\n",
              "      <td>3</td>\n",
              "      <td>...</td>\n",
              "      <td>1</td>\n",
              "      <td>2</td>\n",
              "      <td>1</td>\n",
              "      <td>2</td>\n",
              "      <td>1</td>\n",
              "      <td>1</td>\n",
              "      <td>4</td>\n",
              "      <td>4</td>\n",
              "      <td>2</td>\n",
              "      <td>2</td>\n",
              "    </tr>\n",
              "    <tr>\n",
              "      <th>9</th>\n",
              "      <td>2</td>\n",
              "      <td>25</td>\n",
              "      <td>3793.066589</td>\n",
              "      <td>1</td>\n",
              "      <td>50</td>\n",
              "      <td>3</td>\n",
              "      <td>8</td>\n",
              "      <td>2</td>\n",
              "      <td>1</td>\n",
              "      <td>3</td>\n",
              "      <td>...</td>\n",
              "      <td>1</td>\n",
              "      <td>2</td>\n",
              "      <td>1</td>\n",
              "      <td>2</td>\n",
              "      <td>1</td>\n",
              "      <td>1</td>\n",
              "      <td>4</td>\n",
              "      <td>4</td>\n",
              "      <td>2</td>\n",
              "      <td>2</td>\n",
              "    </tr>\n",
              "  </tbody>\n",
              "</table>\n",
              "<p>5 rows × 351 columns</p>\n",
              "</div>\n",
              "    <div class=\"colab-df-buttons\">\n",
              "\n",
              "  <div class=\"colab-df-container\">\n",
              "    <button class=\"colab-df-convert\" onclick=\"convertToInteractive('df-56fecbeb-36b7-4160-9224-4e3f98bd8226')\"\n",
              "            title=\"Convert this dataframe to an interactive table.\"\n",
              "            style=\"display:none;\">\n",
              "\n",
              "  <svg xmlns=\"http://www.w3.org/2000/svg\" height=\"24px\" viewBox=\"0 -960 960 960\">\n",
              "    <path d=\"M120-120v-720h720v720H120Zm60-500h600v-160H180v160Zm220 220h160v-160H400v160Zm0 220h160v-160H400v160ZM180-400h160v-160H180v160Zm440 0h160v-160H620v160ZM180-180h160v-160H180v160Zm440 0h160v-160H620v160Z\"/>\n",
              "  </svg>\n",
              "    </button>\n",
              "\n",
              "  <style>\n",
              "    .colab-df-container {\n",
              "      display:flex;\n",
              "      gap: 12px;\n",
              "    }\n",
              "\n",
              "    .colab-df-convert {\n",
              "      background-color: #E8F0FE;\n",
              "      border: none;\n",
              "      border-radius: 50%;\n",
              "      cursor: pointer;\n",
              "      display: none;\n",
              "      fill: #1967D2;\n",
              "      height: 32px;\n",
              "      padding: 0 0 0 0;\n",
              "      width: 32px;\n",
              "    }\n",
              "\n",
              "    .colab-df-convert:hover {\n",
              "      background-color: #E2EBFA;\n",
              "      box-shadow: 0px 1px 2px rgba(60, 64, 67, 0.3), 0px 1px 3px 1px rgba(60, 64, 67, 0.15);\n",
              "      fill: #174EA6;\n",
              "    }\n",
              "\n",
              "    .colab-df-buttons div {\n",
              "      margin-bottom: 4px;\n",
              "    }\n",
              "\n",
              "    [theme=dark] .colab-df-convert {\n",
              "      background-color: #3B4455;\n",
              "      fill: #D2E3FC;\n",
              "    }\n",
              "\n",
              "    [theme=dark] .colab-df-convert:hover {\n",
              "      background-color: #434B5C;\n",
              "      box-shadow: 0px 1px 3px 1px rgba(0, 0, 0, 0.15);\n",
              "      filter: drop-shadow(0px 1px 2px rgba(0, 0, 0, 0.3));\n",
              "      fill: #FFFFFF;\n",
              "    }\n",
              "  </style>\n",
              "\n",
              "    <script>\n",
              "      const buttonEl =\n",
              "        document.querySelector('#df-56fecbeb-36b7-4160-9224-4e3f98bd8226 button.colab-df-convert');\n",
              "      buttonEl.style.display =\n",
              "        google.colab.kernel.accessAllowed ? 'block' : 'none';\n",
              "\n",
              "      async function convertToInteractive(key) {\n",
              "        const element = document.querySelector('#df-56fecbeb-36b7-4160-9224-4e3f98bd8226');\n",
              "        const dataTable =\n",
              "          await google.colab.kernel.invokeFunction('convertToInteractive',\n",
              "                                                    [key], {});\n",
              "        if (!dataTable) return;\n",
              "\n",
              "        const docLinkHtml = 'Like what you see? Visit the ' +\n",
              "          '<a target=\"_blank\" href=https://colab.research.google.com/notebooks/data_table.ipynb>data table notebook</a>'\n",
              "          + ' to learn more about interactive tables.';\n",
              "        element.innerHTML = '';\n",
              "        dataTable['output_type'] = 'display_data';\n",
              "        await google.colab.output.renderOutput(dataTable, element);\n",
              "        const docLink = document.createElement('div');\n",
              "        docLink.innerHTML = docLinkHtml;\n",
              "        element.appendChild(docLink);\n",
              "      }\n",
              "    </script>\n",
              "  </div>\n",
              "\n",
              "\n",
              "<div id=\"df-8417b4b3-5181-401c-b5ee-bf6ec8f74886\">\n",
              "  <button class=\"colab-df-quickchart\" onclick=\"quickchart('df-8417b4b3-5181-401c-b5ee-bf6ec8f74886')\"\n",
              "            title=\"Suggest charts\"\n",
              "            style=\"display:none;\">\n",
              "\n",
              "<svg xmlns=\"http://www.w3.org/2000/svg\" height=\"24px\"viewBox=\"0 0 24 24\"\n",
              "     width=\"24px\">\n",
              "    <g>\n",
              "        <path d=\"M19 3H5c-1.1 0-2 .9-2 2v14c0 1.1.9 2 2 2h14c1.1 0 2-.9 2-2V5c0-1.1-.9-2-2-2zM9 17H7v-7h2v7zm4 0h-2V7h2v10zm4 0h-2v-4h2v4z\"/>\n",
              "    </g>\n",
              "</svg>\n",
              "  </button>\n",
              "\n",
              "<style>\n",
              "  .colab-df-quickchart {\n",
              "      --bg-color: #E8F0FE;\n",
              "      --fill-color: #1967D2;\n",
              "      --hover-bg-color: #E2EBFA;\n",
              "      --hover-fill-color: #174EA6;\n",
              "      --disabled-fill-color: #AAA;\n",
              "      --disabled-bg-color: #DDD;\n",
              "  }\n",
              "\n",
              "  [theme=dark] .colab-df-quickchart {\n",
              "      --bg-color: #3B4455;\n",
              "      --fill-color: #D2E3FC;\n",
              "      --hover-bg-color: #434B5C;\n",
              "      --hover-fill-color: #FFFFFF;\n",
              "      --disabled-bg-color: #3B4455;\n",
              "      --disabled-fill-color: #666;\n",
              "  }\n",
              "\n",
              "  .colab-df-quickchart {\n",
              "    background-color: var(--bg-color);\n",
              "    border: none;\n",
              "    border-radius: 50%;\n",
              "    cursor: pointer;\n",
              "    display: none;\n",
              "    fill: var(--fill-color);\n",
              "    height: 32px;\n",
              "    padding: 0;\n",
              "    width: 32px;\n",
              "  }\n",
              "\n",
              "  .colab-df-quickchart:hover {\n",
              "    background-color: var(--hover-bg-color);\n",
              "    box-shadow: 0 1px 2px rgba(60, 64, 67, 0.3), 0 1px 3px 1px rgba(60, 64, 67, 0.15);\n",
              "    fill: var(--button-hover-fill-color);\n",
              "  }\n",
              "\n",
              "  .colab-df-quickchart-complete:disabled,\n",
              "  .colab-df-quickchart-complete:disabled:hover {\n",
              "    background-color: var(--disabled-bg-color);\n",
              "    fill: var(--disabled-fill-color);\n",
              "    box-shadow: none;\n",
              "  }\n",
              "\n",
              "  .colab-df-spinner {\n",
              "    border: 2px solid var(--fill-color);\n",
              "    border-color: transparent;\n",
              "    border-bottom-color: var(--fill-color);\n",
              "    animation:\n",
              "      spin 1s steps(1) infinite;\n",
              "  }\n",
              "\n",
              "  @keyframes spin {\n",
              "    0% {\n",
              "      border-color: transparent;\n",
              "      border-bottom-color: var(--fill-color);\n",
              "      border-left-color: var(--fill-color);\n",
              "    }\n",
              "    20% {\n",
              "      border-color: transparent;\n",
              "      border-left-color: var(--fill-color);\n",
              "      border-top-color: var(--fill-color);\n",
              "    }\n",
              "    30% {\n",
              "      border-color: transparent;\n",
              "      border-left-color: var(--fill-color);\n",
              "      border-top-color: var(--fill-color);\n",
              "      border-right-color: var(--fill-color);\n",
              "    }\n",
              "    40% {\n",
              "      border-color: transparent;\n",
              "      border-right-color: var(--fill-color);\n",
              "      border-top-color: var(--fill-color);\n",
              "    }\n",
              "    60% {\n",
              "      border-color: transparent;\n",
              "      border-right-color: var(--fill-color);\n",
              "    }\n",
              "    80% {\n",
              "      border-color: transparent;\n",
              "      border-right-color: var(--fill-color);\n",
              "      border-bottom-color: var(--fill-color);\n",
              "    }\n",
              "    90% {\n",
              "      border-color: transparent;\n",
              "      border-bottom-color: var(--fill-color);\n",
              "    }\n",
              "  }\n",
              "</style>\n",
              "\n",
              "  <script>\n",
              "    async function quickchart(key) {\n",
              "      const quickchartButtonEl =\n",
              "        document.querySelector('#' + key + ' button');\n",
              "      quickchartButtonEl.disabled = true;  // To prevent multiple clicks.\n",
              "      quickchartButtonEl.classList.add('colab-df-spinner');\n",
              "      try {\n",
              "        const charts = await google.colab.kernel.invokeFunction(\n",
              "            'suggestCharts', [key], {});\n",
              "      } catch (error) {\n",
              "        console.error('Error during call to suggestCharts:', error);\n",
              "      }\n",
              "      quickchartButtonEl.classList.remove('colab-df-spinner');\n",
              "      quickchartButtonEl.classList.add('colab-df-quickchart-complete');\n",
              "    }\n",
              "    (() => {\n",
              "      let quickchartButtonEl =\n",
              "        document.querySelector('#df-8417b4b3-5181-401c-b5ee-bf6ec8f74886 button');\n",
              "      quickchartButtonEl.style.display =\n",
              "        google.colab.kernel.accessAllowed ? 'block' : 'none';\n",
              "    })();\n",
              "  </script>\n",
              "</div>\n",
              "\n",
              "    </div>\n",
              "  </div>\n"
            ],
            "application/vnd.google.colaboratory.intrinsic+json": {
              "type": "dataframe",
              "variable_name": "df"
            }
          },
          "metadata": {},
          "execution_count": 4
        }
      ],
      "source": [
        "df = wrangle('/content/SCFP2019.csv.gz')\n",
        "\n",
        "print(\"df type:\", type(df))\n",
        "print(\"df shape:\", df.shape)\n",
        "df.head()"
      ]
    },
    {
      "cell_type": "markdown",
      "id": "14c46dc7-23ae-4194-adc9-8be47cff4090",
      "metadata": {
        "deletable": false,
        "editable": false,
        "id": "14c46dc7-23ae-4194-adc9-8be47cff4090"
      },
      "source": [
        "# Contruir Dashboard"
      ]
    },
    {
      "cell_type": "markdown",
      "id": "ca16e01a-9139-425f-9d11-c5b22fe3fb82",
      "metadata": {
        "deletable": false,
        "editable": false,
        "id": "ca16e01a-9139-425f-9d11-c5b22fe3fb82"
      },
      "source": [
        "É hora de criar o aplicativo! Existem muitos passos a seguir aqui, mas, no final, você terá feito um painel interativo! Começaremos com o layout."
      ]
    },
    {
      "cell_type": "markdown",
      "id": "063b0371-9a99-443e-9cdb-9129813db84c",
      "metadata": {
        "deletable": false,
        "editable": false,
        "id": "063b0371-9a99-443e-9cdb-9129813db84c"
      },
      "source": [
        "## Application Layout"
      ]
    },
    {
      "cell_type": "markdown",
      "id": "97ba509a-e351-4f25-af26-06677b361d51",
      "metadata": {
        "deletable": false,
        "editable": false,
        "id": "97ba509a-e351-4f25-af26-06677b361d51"
      },
      "source": [
        "Primeiro, instancie a aplicação."
      ]
    },
    {
      "cell_type": "markdown",
      "id": "beeb5780-037c-442b-8c3c-1c1edf75e702",
      "metadata": {
        "deletable": false,
        "editable": false,
        "id": "beeb5780-037c-442b-8c3c-1c1edf75e702"
      },
      "source": [
        "### Exercício 2:\n",
        "Instancie uma aplicação `JupyterDash` e atribua-a à variável chamada `app`."
      ]
    },
    {
      "cell_type": "code",
      "execution_count": 5,
      "id": "31c32471-9621-47c3-afae-4ca46930c1e8",
      "metadata": {
        "deletable": false,
        "id": "31c32471-9621-47c3-afae-4ca46930c1e8",
        "colab": {
          "base_uri": "https://localhost:8080/"
        },
        "outputId": "ee1a4c10-30d6-4992-8f3b-099dcd47471d"
      },
      "outputs": [
        {
          "output_type": "stream",
          "name": "stderr",
          "text": [
            "/usr/local/lib/python3.10/dist-packages/dash/dash.py:585: UserWarning:\n",
            "\n",
            "JupyterDash is deprecated, use Dash instead.\n",
            "See https://dash.plotly.com/dash-in-jupyter for more details.\n",
            "\n"
          ]
        }
      ],
      "source": [
        "server = Flask(__name__)\n",
        "app = JupyterDash(__name__, server=server)"
      ]
    },
    {
      "cell_type": "markdown",
      "id": "e34359f0-f25f-4778-b5bd-d556c86502b7",
      "metadata": {
        "deletable": false,
        "editable": false,
        "id": "e34359f0-f25f-4778-b5bd-d556c86502b7"
      },
      "source": [
        "Então, vamos dar alguns rótulos ao aplicativo."
      ]
    },
    {
      "cell_type": "markdown",
      "id": "fb919e8c-f402-4fe9-badb-bfc2f2e9e498",
      "metadata": {
        "deletable": false,
        "editable": false,
        "id": "fb919e8c-f402-4fe9-badb-bfc2f2e9e498"
      },
      "source": [
        "### Exercício 3:\n",
        "Comece a construir o layout do seu `app` criando um objeto `Div` que tenha dois objetos filhos: um cabeçalho `H1` que exibe `\"Survey of Consumer Finances\"` e um cabeçalho `H2` que exibe `\"High Variance Features\"`."
      ]
    },
    {
      "cell_type": "markdown",
      "id": "99dfb9a5-ed31-4f52-9181-acf9039a3355",
      "metadata": {
        "deletable": false,
        "editable": false,
        "id": "99dfb9a5-ed31-4f52-9181-acf9039a3355"
      },
      "source": [
        "**Nota:** Vamos construir o layout da nossa aplicação de forma iterativa. Portanto, esteja preparado para voltar a este bloco de código várias vezes à medida que adicionamos recursos."
      ]
    },
    {
      "cell_type": "code",
      "execution_count": 13,
      "id": "bb6f5bcc-e481-418d-b091-03c467721d3d",
      "metadata": {
        "deletable": false,
        "id": "bb6f5bcc-e481-418d-b091-03c467721d3d"
      },
      "outputs": [],
      "source": [
        "app.layout = html.Div(\n",
        "    [\n",
        "        html.H1(\"Survey of Consumer Finances\"),\n",
        "        html.H2(\"High Variance Features\"),\n",
        "        dcc.Graph(figure=serve_bar_chart(),id=\"bar-chart\"),\n",
        "        dcc.RadioItems(\n",
        "            options=[\n",
        "                {\"label\": \"Trimmed\", \"value\": True},\n",
        "                {\"label\": \"Not Trimmed\", \"value\": False}\n",
        "                ],\n",
        "            value=True,\n",
        "            id=\"trim-button\"\n",
        "        ),\n",
        "        html.H2(\"K-means Clustering\"),\n",
        "        html.H3(\"Number of Clusters (k)\"),\n",
        "        dcc.Slider(min=2,max=12,value=2,step=1,id=\"k-slider\"),\n",
        "        html.Div(id=\"metrics\"),\n",
        "        dcc.Graph(id=\"pct-scatter\")\n",
        "\n",
        "    ]\n",
        ")"
      ]
    },
    {
      "cell_type": "markdown",
      "id": "5d5402d4-4d49-46d6-87a4-75b1870b2597",
      "metadata": {
        "deletable": false,
        "editable": false,
        "id": "5d5402d4-4d49-46d6-87a4-75b1870b2597"
      },
      "source": [
        "Eventualmente, o aplicativo que faremos terá várias partes interativas. Começaremos com um gráfico de barras."
      ]
    },
    {
      "cell_type": "markdown",
      "id": "f720959c-1648-44f2-a1b0-b436fa605eb5",
      "metadata": {
        "deletable": false,
        "editable": false,
        "id": "f720959c-1648-44f2-a1b0-b436fa605eb5"
      },
      "source": [
        "## Variance Bar Chart"
      ]
    },
    {
      "cell_type": "markdown",
      "id": "fb81db97-f3f2-4e79-88af-2ad1b44b8d2e",
      "metadata": {
        "deletable": false,
        "editable": false,
        "id": "fb81db97-f3f2-4e79-88af-2ad1b44b8d2e"
      },
      "source": [
        "Não importa quão bem projetado o gráfico possa ser, ele não aparecerá no aplicativo a menos que o adicionemos ao painel como um objeto primeiro."
      ]
    },
    {
      "cell_type": "markdown",
      "id": "ae81dc19-c25c-4504-b5cf-f065736ce2a6",
      "metadata": {
        "deletable": false,
        "editable": false,
        "id": "ae81dc19-c25c-4504-b5cf-f065736ce2a6"
      },
      "source": [
        "### Exercício 4:\n",
        "Adicione um objeto `Graph` ao layout da sua aplicação. Certifique-se de atribuir a ele o id `\"bar-chart\"`."
      ]
    },
    {
      "cell_type": "markdown",
      "id": "5dba69c3-935e-47b4-80f4-7105360f1288",
      "metadata": {
        "deletable": false,
        "editable": false,
        "id": "5dba69c3-935e-47b4-80f4-7105360f1288"
      },
      "source": [
        "Assim como fizemos da última vez, precisamos recuperar os recursos com a maior variância."
      ]
    },
    {
      "cell_type": "markdown",
      "id": "18ab681b-e602-4c22-9f22-22ef5f063bbe",
      "metadata": {
        "deletable": false,
        "editable": false,
        "id": "18ab681b-e602-4c22-9f22-22ef5f063bbe"
      },
      "source": [
        "### Exercício 5:\n",
        "Crie uma função `get_high_var_features` que retorne os cinco recursos com maior variância em um DataFrame. Use a docstring como guia."
      ]
    },
    {
      "cell_type": "code",
      "execution_count": 6,
      "id": "34b08cee-6d89-4a3c-b573-2f36f1b88959",
      "metadata": {
        "deletable": false,
        "id": "34b08cee-6d89-4a3c-b573-2f36f1b88959"
      },
      "outputs": [],
      "source": [
        "def get_high_var_features(trimmed=True, return_feat_names=False):\n",
        "    \"\"\"Returns the five highest-variance features of ``df``.\n",
        "\n",
        "    Parameters\n",
        "    ----------\n",
        "    trimmed : bool, default=True\n",
        "        If ``True``, calculates trimmed variance, removing bottom and top 10%\n",
        "        of observations.\n",
        "\n",
        "    return_feat_names : bool, default=False\n",
        "        If ``True``, returns feature names as a ``list``. If ``False``\n",
        "        returns ``Series``, where index is feature names and values are\n",
        "        variances.\n",
        "    \"\"\"\n",
        "    if trimmed:\n",
        "      top_five_features = df.apply(trimmed_var).sort_values().tail(5)\n",
        "    else:\n",
        "      top_five_features = df.var().sort_values().tail(5)\n",
        "\n",
        "\n",
        "    if return_feat_names:\n",
        "      top_five_features = top_five_features.index.to_list()\n",
        "\n",
        "    return top_five_features"
      ]
    },
    {
      "cell_type": "code",
      "source": [
        "get_high_var_features(trimmed=True, return_feat_names=True)"
      ],
      "metadata": {
        "id": "pPc7p03gNIDU"
      },
      "id": "pPc7p03gNIDU",
      "execution_count": null,
      "outputs": []
    },
    {
      "cell_type": "markdown",
      "id": "e637f419-9b0e-44b6-9624-464b5144aeba",
      "metadata": {
        "deletable": false,
        "editable": false,
        "id": "e637f419-9b0e-44b6-9624-464b5144aeba"
      },
      "source": [
        "Agora que temos nossas cinco principais características, podemos usar uma função para retorná-las em um gráfico de barras."
      ]
    },
    {
      "cell_type": "markdown",
      "id": "da29b216-6595-47f3-b319-bed3a625076f",
      "metadata": {
        "deletable": false,
        "editable": false,
        "id": "da29b216-6595-47f3-b319-bed3a625076f"
      },
      "source": [
        "### Exercício 6:\n",
        "Crie uma função `serve_bar_chart` que retorne um gráfico de barras do Plotly Express com as cinco características de maior variância. Você deve usar `get_high_var_features` como uma função auxiliar. Siga a docstring como guia."
      ]
    },
    {
      "cell_type": "code",
      "execution_count": 7,
      "id": "2f8cd50f-db8a-4bce-a07e-ca1f479ea271",
      "metadata": {
        "deletable": false,
        "id": "2f8cd50f-db8a-4bce-a07e-ca1f479ea271"
      },
      "outputs": [],
      "source": [
        "@app.callback(\n",
        "    Output(\"bar-chart\", \"figure\"),\n",
        "    Input(\"trim-button\", \"value\")\n",
        ")\n",
        "def serve_bar_chart(trimmed=True):\n",
        "\n",
        "    \"\"\"Returns a horizontal bar chart of five highest-variance features.\n",
        "\n",
        "    Parameters\n",
        "    ----------\n",
        "    trimmed : bool, default=True\n",
        "        If ``True``, calculates trimmed variance, removing bottom and top 10%\n",
        "        of observations.\n",
        "    \"\"\"\n",
        "    top_five_features = get_high_var_features(trimmed=trimmed, return_feat_names=False)\n",
        "\n",
        "    fig = px.bar(\n",
        "        x=top_five_features,\n",
        "        y=top_five_features.index,\n",
        "    )\n",
        "    fig.update_layout(xaxis_title=\"Variance\",yaxis_title=\"Features\")\n",
        "\n",
        "    return fig"
      ]
    },
    {
      "cell_type": "code",
      "source": [
        "serve_bar_chart(False)"
      ],
      "metadata": {
        "id": "fMkv4WQNPhRO"
      },
      "id": "fMkv4WQNPhRO",
      "execution_count": null,
      "outputs": []
    },
    {
      "cell_type": "markdown",
      "id": "a5187149-7035-4be2-b465-9980e73d27d6",
      "metadata": {
        "deletable": false,
        "editable": false,
        "id": "a5187149-7035-4be2-b465-9980e73d27d6"
      },
      "source": [
        "Agora, adicione o gráfico real ao aplicativo."
      ]
    },
    {
      "cell_type": "markdown",
      "id": "3ef0141d-5942-4f50-91c7-135b5d143dbc",
      "metadata": {
        "deletable": false,
        "editable": false,
        "id": "3ef0141d-5942-4f50-91c7-135b5d143dbc"
      },
      "source": [
        "### Exercício 7:\n",
        "Use sua função `serve_bar_chart` para adicionar um gráfico de barras ao `\"bar-chart\"`."
      ]
    },
    {
      "cell_type": "markdown",
      "id": "9e839a41-5d9e-45a5-8eee-e296dad04add",
      "metadata": {
        "deletable": false,
        "editable": false,
        "id": "9e839a41-5d9e-45a5-8eee-e296dad04add"
      },
      "source": [
        "O que fizemos até agora não foi muito diferente de outras visualizações que construímos no passado. A maioria desses gráficos tem sido estática, mas este será interativo. Vamos adicionar um botão de opção para dar às pessoas algo com que brincar."
      ]
    },
    {
      "cell_type": "markdown",
      "id": "2bec4f98-a4d3-4811-bfa9-4af90d0874b0",
      "metadata": {
        "deletable": false,
        "editable": false,
        "id": "2bec4f98-a4d3-4811-bfa9-4af90d0874b0"
      },
      "source": [
        "### Exercício 8:\n",
        "Adicione um botão de opção ao layout da sua aplicação. Ele deve ter duas opções: `\"trimmed\"` (que possui o valor `True`) e `\"not trimmed\"` (que possui o valor `False`). Certifique-se de atribuir a ele o id `\"trim-button\"`."
      ]
    },
    {
      "cell_type": "markdown",
      "id": "ebd771d3-116c-4886-953d-45e3e242f36f",
      "metadata": {
        "deletable": false,
        "editable": false,
        "id": "ebd771d3-116c-4886-953d-45e3e242f36f"
      },
      "source": [
        "Agora que temos o código para criar nosso gráfico de barras, um espaço em nosso aplicativo para colocá-lo e um botão para manipulá-lo, vamos conectar os três elementos."
      ]
    },
    {
      "cell_type": "markdown",
      "id": "d63a7013-17c8-4e8f-b0bb-476c77c9000e",
      "metadata": {
        "deletable": false,
        "editable": false,
        "id": "d63a7013-17c8-4e8f-b0bb-476c77c9000e"
      },
      "source": [
        "### Exercício 9:\n",
        "Adicione um decorador de callback à sua função `serve_bar_chart`. A entrada do callback deve ser o valor retornado por `\"trim-button\"` e a saída deve ser direcionada a `\"bar-chart\"`."
      ]
    },
    {
      "cell_type": "markdown",
      "id": "f2a05787-a170-4db5-821a-9f1aa9baf925",
      "metadata": {
        "deletable": false,
        "editable": false,
        "id": "f2a05787-a170-4db5-821a-9f1aa9baf925"
      },
      "source": [
        "Quando estiver satisfeito com seu gráfico de barras e botões de opção, role até o final desta página e execute o último bloco de código para ver seu trabalho em ação!"
      ]
    },
    {
      "cell_type": "markdown",
      "id": "4839f4b4-e967-4a11-9d57-73f7db0e0c18",
      "metadata": {
        "deletable": false,
        "editable": false,
        "id": "4839f4b4-e967-4a11-9d57-73f7db0e0c18"
      },
      "source": [
        "## K-means Slider and Metrics"
      ]
    },
    {
      "cell_type": "markdown",
      "id": "17c1963f-bd30-4973-a6b4-c4a0ebbf027a",
      "metadata": {
        "deletable": false,
        "editable": false,
        "id": "17c1963f-bd30-4973-a6b4-c4a0ebbf027a"
      },
      "source": [
        "Ok, agora nosso aplicativo tem um botão de opção, mas isso é apenas uma interação para o visualizador. Os botões são divertidos, mas e se fizéssemos um controle deslizante para ajudar as pessoas a ver o que significa a mudança no número de clusters? Vamos fazer isso!\n",
        "\n",
        "Novamente, comece adicionando alguns objetos ao layout."
      ]
    },
    {
      "cell_type": "markdown",
      "id": "24f0b8ed-b62a-46e6-a4fc-fe009d0b87bb",
      "metadata": {
        "deletable": false,
        "editable": false,
        "id": "24f0b8ed-b62a-46e6-a4fc-fe009d0b87bb"
      },
      "source": [
        "### Exercício 10:\n",
        "Adicione dois objetos de texto ao layout da sua aplicação: um cabeçalho `H2` que exibe `\"K-means Clustering\"` e um cabeçalho `H3` que exibe `\"Number of Clusters (k)\"`."
      ]
    },
    {
      "cell_type": "markdown",
      "id": "520232f3-4c2b-4fe2-bad8-af265953e44e",
      "metadata": {
        "deletable": false,
        "editable": false,
        "id": "520232f3-4c2b-4fe2-bad8-af265953e44e"
      },
      "source": [
        "Agora adicione um slider"
      ]
    },
    {
      "cell_type": "markdown",
      "id": "574120df-2476-4f0e-9046-0f458df44625",
      "metadata": {
        "deletable": false,
        "editable": false,
        "id": "574120df-2476-4f0e-9046-0f458df44625"
      },
      "source": [
        "### Exercício 11:\n",
        "Adicione um controle deslizante ao layout da sua aplicação. Ele deve variar de `2` a `12`. Certifique-se de atribuir a ele o id `\"k-slider\"`."
      ]
    },
    {
      "cell_type": "markdown",
      "id": "d6d3bbce-9d66-4374-923a-f15b7cf8fe62",
      "metadata": {
        "deletable": false,
        "editable": false,
        "id": "d6d3bbce-9d66-4374-923a-f15b7cf8fe62"
      },
      "source": [
        "E adicione a coisa toda para o app."
      ]
    },
    {
      "cell_type": "markdown",
      "id": "576f3cc9-a507-45c5-bdf3-e4cd02fd6815",
      "metadata": {
        "deletable": false,
        "editable": false,
        "id": "576f3cc9-a507-45c5-bdf3-e4cd02fd6815"
      },
      "source": [
        "### Exercício 12:\n",
        "Adicione um objeto `Div` ao layout da sua aplicação. Certifique-se de atribuir a ele o id `\"metrics\"`."
      ]
    },
    {
      "cell_type": "markdown",
      "id": "b81942f5-16fb-459c-90ae-38629141adb5",
      "metadata": {
        "deletable": false,
        "editable": false,
        "id": "b81942f5-16fb-459c-90ae-38629141adb5"
      },
      "source": [
        "Então, agora temos um gráfico de barras que muda com um botão de opção e um controle deslizante que muda... bem, ainda nada. Vamos dar a ele um modelo para trabalhar."
      ]
    },
    {
      "cell_type": "markdown",
      "id": "1bdf9584-f880-458b-a923-aff95de5c4e3",
      "metadata": {
        "deletable": false,
        "editable": false,
        "id": "1bdf9584-f880-458b-a923-aff95de5c4e3"
      },
      "source": [
        "### Exercício 13:\n",
        "Crie uma função `get_model_metrics` que construa, treine e avalie o modelo `KMeans`. Use a docstring como guia. Observe que, assim como o modelo que você fez na última lição, seu modelo aqui deve ser um pipeline que inclui um `StandardScaler`. Quando terminar, envie sua função para o avaliador."
      ]
    },
    {
      "cell_type": "code",
      "execution_count": 8,
      "id": "48dad925-6043-48a8-9d43-ae53bdefbbe2",
      "metadata": {
        "deletable": false,
        "id": "48dad925-6043-48a8-9d43-ae53bdefbbe2"
      },
      "outputs": [],
      "source": [
        "def get_model_metrics(trimmed=True, k=2, return_metrics=False):\n",
        "\n",
        "    \"\"\"Build ``KMeans`` model based on five highest-variance features in ``df``.\n",
        "\n",
        "    Parameters\n",
        "    ----------\n",
        "    trimmed : bool, default=True\n",
        "        If ``True``, calculates trimmed variance, removing bottom and top 10%\n",
        "        of observations.\n",
        "\n",
        "    k : int, default=2\n",
        "        Number of clusters.\n",
        "\n",
        "    return_metrics : bool, default=False\n",
        "        If ``False`` returns ``KMeans`` model. If ``True`` returns ``dict``\n",
        "        with inertia and silhouette score.\n",
        "\n",
        "    \"\"\"\n",
        "    features = get_high_var_features(trimmed=trimmed, return_feat_names=True)\n",
        "    X = df[features]\n",
        "    model = make_pipeline(\n",
        "        StandardScaler(),\n",
        "        KMeans(n_clusters=k,random_state=42)\n",
        "    )\n",
        "    model.fit(X)\n",
        "\n",
        "    if return_metrics:\n",
        "      i = model.named_steps[\"kmeans\"].inertia_\n",
        "      ss = silhouette_score(X, model.named_steps[\"kmeans\"].labels_)\n",
        "      metrics = {\n",
        "          \"inertia\": round(i), \"silhouette\": round(ss,3)\n",
        "      }\n",
        "      return metrics\n",
        "\n",
        "    return model"
      ]
    },
    {
      "cell_type": "code",
      "source": [
        "get_model_metrics(trimmed=False, k=2, return_metrics=True)"
      ],
      "metadata": {
        "id": "0pAmktRiXxZq"
      },
      "id": "0pAmktRiXxZq",
      "execution_count": null,
      "outputs": []
    },
    {
      "cell_type": "markdown",
      "id": "8b445947-b8c3-427f-ac5e-7afe8d8d3670",
      "metadata": {
        "deletable": false,
        "editable": false,
        "id": "8b445947-b8c3-427f-ac5e-7afe8d8d3670"
      },
      "source": [
        "Parte do que queremos que as pessoas possam fazer com o painel é ver como a inércia do modelo e a pontuação de silhueta mudam quando elas movimentam o controle deslizante, então vamos calcular esses números..."
      ]
    },
    {
      "cell_type": "markdown",
      "id": "a2343f5d-79d5-4f10-ba37-7bca33b25656",
      "metadata": {
        "deletable": false,
        "editable": false,
        "id": "a2343f5d-79d5-4f10-ba37-7bca33b25656"
      },
      "source": [
        "### Exercício 14:\n",
        "Crie uma função `serve_metrics`. Ela deve usar sua função `get_model_metrics` para construir e obter as métricas de um modelo e, em seguida, retornar dois objetos: um cabeçalho `H3` com a inércia do modelo e outro cabeçalho `H3` com a pontuação de silhueta."
      ]
    },
    {
      "cell_type": "code",
      "execution_count": 9,
      "id": "c75ad50a-7b8c-497b-9a7d-782ce287e0a5",
      "metadata": {
        "deletable": false,
        "id": "c75ad50a-7b8c-497b-9a7d-782ce287e0a5"
      },
      "outputs": [],
      "source": [
        "@app.callback(\n",
        "    Output(\"metrics\", \"children\"),\n",
        "    Input(\"trim-button\", \"value\"),\n",
        "    Input(\"k-slider\", \"value\")\n",
        ")\n",
        "def serve_metrics(trimmed=True,k=2):\n",
        "\n",
        "    \"\"\"Returns list of ``H3`` elements containing inertia and silhouette score\n",
        "    for ``KMeans`` model.\n",
        "\n",
        "    Parameters\n",
        "    ----------\n",
        "    trimmed : bool, default=True\n",
        "        If ``True``, calculates trimmed variance, removing bottom and top 10%\n",
        "        of observations.\n",
        "\n",
        "    k : int, default=2\n",
        "        Number of clusters.\n",
        "    \"\"\"\n",
        "    metrics = get_model_metrics(trimmed=trimmed, k=k, return_metrics=True)\n",
        "    text = [\n",
        "        html.H3(f\"Inertia: {metrics['inertia']}\"),\n",
        "        html.H3(f\"Silhouete: {metrics['silhouete']}\")\n",
        "    ]\n",
        "\n",
        "    return text"
      ]
    },
    {
      "cell_type": "markdown",
      "id": "02651021-35d8-4e8c-aea5-b7acf42038fe",
      "metadata": {
        "deletable": false,
        "editable": false,
        "id": "02651021-35d8-4e8c-aea5-b7acf42038fe"
      },
      "source": [
        "... E adicione no app"
      ]
    },
    {
      "cell_type": "markdown",
      "id": "8755d2bd-6993-4a71-828d-ff909ee2957b",
      "metadata": {
        "deletable": false,
        "editable": false,
        "id": "8755d2bd-6993-4a71-828d-ff909ee2957b"
      },
      "source": [
        "### Exercício 15:\n",
        "Adicione um decorador de callback à sua função `serve_metrics`. As entradas do callback devem ser os valores retornados por `\"trim-button\"` e `\"k-slider\"`, e a saída deve ser direcionada a `\"metrics\"`."
      ]
    },
    {
      "cell_type": "markdown",
      "id": "e1fe4c0b-0bac-400f-bdd1-1b1fce8d355a",
      "metadata": {
        "deletable": false,
        "editable": false,
        "id": "e1fe4c0b-0bac-400f-bdd1-1b1fce8d355a"
      },
      "source": [
        "## PCA Scatter Plot"
      ]
    },
    {
      "cell_type": "markdown",
      "id": "11732cce-fce9-47f6-81b7-1f9cda845c2f",
      "metadata": {
        "deletable": false,
        "editable": false,
        "id": "11732cce-fce9-47f6-81b7-1f9cda845c2f"
      },
      "source": [
        "Acabamos de criar um controle deslizante que pode alterar os valores de inércia e silhueta, mas nem todos conseguirão entender o que esses números em mudança significam. Vamos fazer um gráfico de dispersão para ajudar nesse entendimento."
      ]
    },
    {
      "cell_type": "markdown",
      "id": "c5aa6a29-1308-4c39-8605-28c1e0ab8374",
      "metadata": {
        "deletable": false,
        "editable": false,
        "id": "c5aa6a29-1308-4c39-8605-28c1e0ab8374"
      },
      "source": [
        "### Exercício 16:\n",
        "Adicione um objeto `Graph` ao layout da sua aplicação. Certifique-se de atribuir a ele o id `\"pca-scatter\"`."
      ]
    },
    {
      "cell_type": "markdown",
      "id": "c09bfea9-5681-4c4e-ae79-aad4256776dc",
      "metadata": {
        "deletable": false,
        "editable": false,
        "id": "c09bfea9-5681-4c4e-ae79-aad4256776dc"
      },
      "source": [
        "Assim como fizemos com o gráfico de barras, precisamos obter as cinco características de maior variância dos dados, então vamos começar por isso."
      ]
    },
    {
      "cell_type": "markdown",
      "id": "18b13375-60ab-4193-8b4c-ad257c70bbfd",
      "metadata": {
        "deletable": false,
        "editable": false,
        "id": "18b13375-60ab-4193-8b4c-ad257c70bbfd"
      },
      "source": [
        "### Exercício 17:\n",
        "Crie uma função `get_pca_labels` que faça um subconjunto de um DataFrame para suas cinco características de maior variância, reduza essas características para duas dimensões usando `PCA` e retorne um novo DataFrame com três colunas: `\"PC1\"`, `\"PC2\"` e `\"labels\"`. Esta última coluna deve ser os rótulos determinados por um modelo `KMeans`. Sua função deve usar `get_high_var_features` e `get_model_metrics` como auxiliares. Consulte a docstring para obter orientações."
      ]
    },
    {
      "cell_type": "code",
      "execution_count": 21,
      "id": "aa8ee497-e89f-439f-984a-d5051daeeca4",
      "metadata": {
        "deletable": false,
        "id": "aa8ee497-e89f-439f-984a-d5051daeeca4"
      },
      "outputs": [],
      "source": [
        "def get_pca_labels(trimmed=True,k=2):\n",
        "\n",
        "    \"\"\"\n",
        "    ``KMeans`` labels.\n",
        "\n",
        "    Parameters\n",
        "    ----------\n",
        "    trimmed : bool, default=True\n",
        "        If ``True``, calculates trimmed variance, removing bottom and top 10%\n",
        "        of observations.\n",
        "\n",
        "    k : int, default=2\n",
        "        Number of clusters.\n",
        "    \"\"\"\n",
        "    features = get_high_var_features(trimmed=trimmed, return_feat_names=True)\n",
        "    X = df[features]\n",
        "    pca = PCA(n_components=2, random_state=42)\n",
        "    X_t = pca.fit_transform(X)\n",
        "    X_pca = pd.DataFrame(X_t, columns=[\"PC1\",\"PC2\"])\n",
        "\n",
        "    model = get_model_metrics(trimmed=trimmed, k=k, return_metrics=False)\n",
        "    X_pca[\"Labels\"] = model.named_steps[\"kmeans\"].labels_.astype(str)\n",
        "    X_pca.sort_values(\"Labels\",inplace=True)\n",
        "\n",
        "    return X_pca"
      ]
    },
    {
      "cell_type": "code",
      "source": [
        "get_pca_labels().info()"
      ],
      "metadata": {
        "id": "GlbNqNnKf7kF"
      },
      "id": "GlbNqNnKf7kF",
      "execution_count": null,
      "outputs": []
    },
    {
      "cell_type": "markdown",
      "id": "818f1c65-b981-413b-97ba-375239723ac3",
      "metadata": {
        "deletable": false,
        "editable": false,
        "id": "818f1c65-b981-413b-97ba-375239723ac3"
      },
      "source": [
        "Agora podemos usar essas cinco características para criar o gráfico de dispersão real."
      ]
    },
    {
      "cell_type": "markdown",
      "id": "e53f27bd-18e3-4ce6-9a70-9ffad355cd1a",
      "metadata": {
        "deletable": false,
        "editable": false,
        "id": "e53f27bd-18e3-4ce6-9a70-9ffad355cd1a"
      },
      "source": [
        "### Exercício 18:\n",
        "Crie uma função `serve_scatter_plot` que crie um gráfico de dispersão 2D dos dados usados para treinar um modelo `KMeans`, juntamente com clusters codificados por cores. Use `get_pca_labels` como auxiliar. Consulte a docstring para obter orientações."
      ]
    },
    {
      "cell_type": "code",
      "execution_count": 25,
      "id": "f8314cd4-e49b-41ef-857b-5c4a54e213ca",
      "metadata": {
        "deletable": false,
        "id": "f8314cd4-e49b-41ef-857b-5c4a54e213ca"
      },
      "outputs": [],
      "source": [
        "@app.callback(\n",
        "    Output(\"pca-scatter\", \"figure\"),\n",
        "    Input(\"trim-button\", \"value\"),\n",
        "    Input(\"k-slider\", \"value\")\n",
        ")\n",
        "def serve_scatter_plot(trimmed=True,k=2):\n",
        "\n",
        "    \"\"\"Build 2D scatter plot of ``df`` with ``KMeans`` labels.\n",
        "\n",
        "    Parameters\n",
        "    ----------\n",
        "    trimmed : bool, default=True\n",
        "        If ``True``, calculates trimmed variance, removing bottom and top 10%\n",
        "        of observations.\n",
        "\n",
        "    k : int, default=2\n",
        "        Number of clusters.\n",
        "    \"\"\"\n",
        "    fig = px.scatter(\n",
        "        data_frame=get_pca_labels(trimmed=trimmed, k=k),\n",
        "        x=\"PC1\",\n",
        "        y=\"PC2\",\n",
        "        color=\"Labels\"\n",
        "    )\n",
        "\n",
        "    return fig"
      ]
    },
    {
      "cell_type": "code",
      "source": [
        "serve_scatter_plot()"
      ],
      "metadata": {
        "id": "KODyqeF1htg3"
      },
      "id": "KODyqeF1htg3",
      "execution_count": null,
      "outputs": []
    },
    {
      "cell_type": "markdown",
      "id": "e8c7fedb-8c48-42bc-b282-25f663ee7fce",
      "metadata": {
        "deletable": false,
        "editable": false,
        "id": "e8c7fedb-8c48-42bc-b282-25f663ee7fce"
      },
      "source": [
        "Novamente, finalizamos adicionando algum código para fazer os elementos interativos do nosso aplicativo realmente funcionarem."
      ]
    },
    {
      "cell_type": "markdown",
      "id": "e712ab71-12ff-4f69-b019-1950f74d86bf",
      "metadata": {
        "deletable": false,
        "editable": false,
        "id": "e712ab71-12ff-4f69-b019-1950f74d86bf"
      },
      "source": [
        "### Exercício 19:\n",
        "Adicione um decorador de callback à sua função `serve_scatter_plot`. As entradas do callback devem ser os valores retornados por `\"trim-button\"` e `\"k-slider\"`, e a saída deve ser direcionada a `\"pca-scatter\"`."
      ]
    },
    {
      "cell_type": "markdown",
      "id": "f5d41c5f-2272-4a53-89f1-abb6a47d09f7",
      "metadata": {
        "deletable": false,
        "editable": false,
        "id": "f5d41c5f-2272-4a53-89f1-abb6a47d09f7"
      },
      "source": [
        "## Application Deployment"
      ]
    },
    {
      "cell_type": "markdown",
      "id": "fd1bc90c-8f7d-4264-a0e8-22e4a5853cc8",
      "metadata": {
        "deletable": false,
        "editable": false,
        "id": "fd1bc90c-8f7d-4264-a0e8-22e4a5853cc8"
      },
      "source": [
        "Assim que você se sentir bem com todo o trabalho que acabamos de fazer, execute a célula e veja o aplicativo ganhar vida!"
      ]
    },
    {
      "cell_type": "markdown",
      "id": "57e08e72-e66c-40c9-81dd-f3bbebd885e5",
      "metadata": {
        "deletable": false,
        "editable": false,
        "id": "57e08e72-e66c-40c9-81dd-f3bbebd885e5"
      },
      "source": [
        "### Exercício 20:\n",
        "Rode a célula abaixo para fazer o deploy do seu app! 😎"
      ]
    },
    {
      "cell_type": "code",
      "execution_count": null,
      "id": "b2d947df-bda3-466a-96bb-ac2f8aa588f0",
      "metadata": {
        "deletable": false,
        "editable": false,
        "id": "b2d947df-bda3-466a-96bb-ac2f8aa588f0"
      },
      "outputs": [],
      "source": [
        "app.run_server(port=8050, mode='external')"
      ]
    }
  ],
  "metadata": {
    "kernelspec": {
      "display_name": "Python 3 (ipykernel)",
      "language": "python",
      "name": "python3"
    },
    "language_info": {
      "codemirror_mode": {
        "name": "ipython",
        "version": 3
      },
      "file_extension": ".py",
      "mimetype": "text/x-python",
      "name": "python",
      "nbconvert_exporter": "python",
      "pygments_lexer": "ipython3",
      "version": "3.11.4"
    },
    "toc-autonumbering": false,
    "colab": {
      "provenance": []
    }
  },
  "nbformat": 4,
  "nbformat_minor": 5
}