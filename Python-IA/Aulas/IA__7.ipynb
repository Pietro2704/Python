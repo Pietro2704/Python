{
  "cells": [
    {
      "cell_type": "markdown",
      "id": "76852d9a-e498-4f6f-818e-a4a95a672c06",
      "metadata": {
        "deletable": false,
        "editable": false,
        "id": "76852d9a-e498-4f6f-818e-a4a95a672c06"
      },
      "source": [
        "# Previsão de Danos com Árvores de Decisão"
      ]
    },
    {
      "cell_type": "markdown",
      "source": [
        "Comparar __Árvore de Decisão__ com __Regressão Linear__ ajuda a entender quando cada técnica é mais adequada, já que ambas podem ser usadas para resolver problemas de regressão.\n",
        "\n",
        "1. __Natureza do Modelo__\n",
        "  - Árvore de Decisão:\n",
        "\n",
        "    - É um modelo não linear e não paramétrico.\n",
        "\n",
        "    - Toma decisões baseadas em uma série de divisões nos dados, criando uma estrutura em forma de árvore.\n",
        "\n",
        "    - Divide o espaço dos dados em regiões com base em uma série de condições.\n",
        "\n",
        "    - Funciona bem com relações não lineares e interações complexas entre variáveis.\n",
        "  - Regressão Linear:\n",
        "\n",
        "    - É um modelo linear e paramétrico.\n",
        "\n",
        "    - Baseia-se na suposição de que a relação entre as variáveis independentes (features) e a variável dependente (target) é linear, ou seja, pode ser modelada por uma linha reta (ou plano, no caso de múltiplas variáveis).\n",
        "\n",
        "    - Procura ajustar uma linha que minimize a soma dos erros quadrados (least squares) entre os valores preditos e os valores reais.\n",
        "\n",
        "2. __Como Funciona__\n",
        "  - Árvore de Decisão:\n",
        "\n",
        "    - Divisão Recursiva: Divide os dados em subconjuntos baseados em perguntas ou condições, por exemplo, \"A idade é maior que 30?\". Cada divisão é feita para reduzir o erro dentro de cada região.\n",
        "\n",
        "    - Cada folha da árvore representa um valor final, e a previsão para novos dados é baseada no caminho tomado pela árvore.\n",
        "    - Não assume uma forma específica da relação entre as variáveis, sendo flexível para capturar padrões complexos nos dados.\n",
        "  - Regressão Linear:\n",
        "\n",
        "    - Função Linear: Ajusta uma linha reta aos dados de forma que a equação da reta seja da forma 𝑦 = 𝛽0 + 𝛽1𝑥1 + 𝛽2𝑥2 + ⋯ + 𝛽𝑛𝑥𝑛 onde β são os coeficientes do modelo.\n",
        "\n",
        "    - A previsão é feita pela combinação linear das variáveis de entrada. Isso significa que cada variável tem uma contribuição proporcional e independente no resultado final.\n",
        "\n",
        "3. __Interpretação__\n",
        "  - Árvore de Decisão:\n",
        "\n",
        "    - Interpretação fácil em termos de regras de decisão (por exemplo, \"se a idade for maior que 30 e o salário maior que R$ 5.000, o valor esperado é 300.000\").\n",
        "\n",
        "    - As árvores podem se tornar mais complexas à medida que o número de nós aumenta, mas a interpretação é direta em termos de ramificações.\n",
        "\n",
        "  - Regressão Linear:\n",
        "\n",
        "    - Muito interpretável quando se trata de entender a relação entre as variáveis independentes e a variável dependente. Cada coeficiente 𝛽 indica quanto a variável independente associada influencia o valor previsto.\n",
        "\n",
        "    - Oferece uma visão clara de como as variáveis estão correlacionadas com o resultado, facilitando a compreensão da contribuição de cada variável no resultado final.\n",
        "\n",
        "4. __Comportamento com Dados__\n",
        "  - Árvore de Decisão:\n",
        "\n",
        "    - Funciona bem com dados não lineares e discretos.\n",
        "\n",
        "    - Sensível a overfitting se não for podada ou controlada adequadamente (como limitar a profundidade da árvore).\n",
        "\n",
        "    - Tende a capturar relações complexas nos dados, mesmo em situações onde a relação entre as variáveis é difícil de modelar com uma linha reta.\n",
        "\n",
        "  - Regressão Linear:\n",
        "\n",
        "    - Funciona bem apenas com dados lineares ou aproximadamente lineares.\n",
        "\n",
        "    - Sofre com dados não lineares, pois tenta ajustar uma linha reta, o que pode não representar bem relações mais complexas.\n",
        "\n",
        "    - Menos propensa a overfitting em comparação com árvores, especialmente com regularização (como Ridge ou Lasso), mas depende muito de suposições sobre a distribuição dos dados.\n",
        "\n",
        "5. __Robustez a Outliers__\n",
        "\n",
        "  - Árvore de Decisão:\n",
        "\n",
        "    - Mais robusta a outliers. Outliers podem acabar em um galho separado da árvore e, portanto, não afetam significativamente as previsões nas outras regiões.\n",
        "\n",
        "  - Regressão Linear:\n",
        "\n",
        "    - Muito sensível a outliers. Um outlier pode ter um impacto significativo no ajuste da reta, deslocando a linha para ajustar mal os dados, já que a regressão linear minimiza o erro quadrático (least squares).\n",
        "\n",
        "6. __Aplicabilidade__\n",
        "\n",
        " - Árvore de Decisão:\n",
        "\n",
        "    - É apropriada para problemas não lineares, onde há interações complexas entre variáveis.\n",
        "\n",
        "    - Funciona bem com dados categóricos e numéricos, sem a necessidade de normalização ou padronização dos dados.\n",
        "\n",
        "    - Boa opção para situações onde a interpretação baseada em regras é importante.\n",
        "\n",
        "  - Regressão Linear:\n",
        "\n",
        "    - Ideal para problemas lineares, onde a relação entre as variáveis independentes e o alvo é aproximadamente linear.\n",
        "\n",
        "    - Funciona melhor com variáveis contínuas e exige normalização ou padronização dos dados se os valores tiverem diferentes escalas.\n",
        "\n",
        "    - Quando as relações são simples e facilmente modeláveis, a regressão linear oferece resultados diretos e interpretáveis.\n",
        "\n",
        "7. __Exemplo Gráfico de Funcionamento:__\n",
        "  - Árvore de Decisão: O espaço dos dados é dividido em regiões retangulares ou cúbicas, e a previsão é feita com base em qual \"caixa\" os dados de teste caem.\n",
        "\n",
        "  - Regressão Linear: Tenta ajustar uma linha reta através dos dados para prever o valor da variável alvo.\n",
        "\n",
        "## Conclusão:\n",
        "\n",
        "| Aspecto            | Regressão Linear (LR)               | Árvore de Decisão (DT)               |\n",
        "|--------------------|-------------------------------------|---------------------------------------|\n",
        "| **Função de Custo**| MSE (distância)                     | Impureza (Gini/Entropia)             |\n",
        "| **Relação**        | Linear                              | Não-linear                            |\n",
        "| **Tipo de Modelo** | Paramétrico (B° + B¹X¹ + ...)      | Não-paramétrico (flexível)           |\n",
        "| **Funciona bem com**| Relações lineares entre variáveis   | Dados não lineares, interações complexas |\n",
        "| **Overfitting**    | Menos propensa (pode ser regularizada) | Propensa a overfitting (pode ser podada) |\n",
        "| **Interpretação**  | Baseada em coeficientes lineares    | Baseada em regras de decisão          |\n",
        "| **Sensível a Outliers**| Altamente sensível               | Não muito sensível                    |\n",
        "| **Robustez**       | Melhor com dados numéricos contínuos| Robustez com dados mistos             |\n",
        "| **Complexidade**   | Simples de implementar e interpretar| Pode se tornar complexa com muitas divisões |\n",
        "| **Aplicações**     | Previsão de valores contínuos        | Classificação e regressão, especialmente em problemas complexos |\n",
        "\n",
        "## Finais\n",
        "A __regressão linear__ é adequada para problemas onde se espera uma __relação linear__ clara entre as variáveis, enquanto as __árvores de decisão__ são mais versáteis e podem __capturar interações complexas e não lineares.__\n",
        "\n",
        "A escolha entre os dois modelos deve considerar a natureza dos dados, a complexidade do problema e o objetivo da análise."
      ],
      "metadata": {
        "id": "mrvy9KAVotRW"
      },
      "id": "mrvy9KAVotRW"
    },
    {
      "cell_type": "code",
      "source": [
        "!pip install category_encoders"
      ],
      "metadata": {
        "id": "NPrf0ZM8lkN9"
      },
      "id": "NPrf0ZM8lkN9",
      "execution_count": null,
      "outputs": []
    },
    {
      "cell_type": "code",
      "execution_count": null,
      "id": "574bf00b-4278-4d61-a496-c4f147cd2559",
      "metadata": {
        "deletable": false,
        "editable": false,
        "init_cell": true,
        "id": "574bf00b-4278-4d61-a496-c4f147cd2559"
      },
      "outputs": [],
      "source": [
        "import sqlite3\n",
        "\n",
        "import matplotlib.pyplot as plt\n",
        "import numpy as np\n",
        "\n",
        "import pandas as pd\n",
        "\n",
        "from sklearn.model_selection import train_test_split\n",
        "from sklearn.metrics import accuracy_score\n",
        "from sklearn.pipeline import Pipeline, make_pipeline\n",
        "from category_encoders import OrdinalEncoder, OneHotEncoder\n",
        "from sklearn.tree import DecisionTreeClassifier, plot_tree\n",
        "from sklearn.linear_model import LogisticRegression"
      ]
    },
    {
      "cell_type": "markdown",
      "id": "be63124d-1ffb-486b-ad8a-b64d1ff35f02",
      "metadata": {
        "deletable": false,
        "editable": false,
        "id": "be63124d-1ffb-486b-ad8a-b64d1ff35f02"
      },
      "source": [
        "# Preparando Dados"
      ]
    },
    {
      "cell_type": "markdown",
      "id": "80613140-d7f4-4661-874e-bab6ad500f30",
      "metadata": {
        "deletable": false,
        "editable": false,
        "id": "80613140-d7f4-4661-874e-bab6ad500f30"
      },
      "source": [
        "## Importação"
      ]
    },
    {
      "cell_type": "code",
      "execution_count": null,
      "id": "e55f3ea5-f30f-4428-a12c-d7b4611fd42d",
      "metadata": {
        "deletable": false,
        "id": "e55f3ea5-f30f-4428-a12c-d7b4611fd42d"
      },
      "outputs": [],
      "source": [
        "def wrangle(db_path):\n",
        "    # Connect to database\n",
        "    conn = sqlite3.connect(db_path)\n",
        "\n",
        "    # Construct query\n",
        "    query = \"\"\"\n",
        "        SELECT distinct(i.building_id) AS b_id,\n",
        "           s.*,\n",
        "           d.damage_grade\n",
        "        FROM id_map AS i\n",
        "        JOIN building_structure AS s ON i.building_id = s.building_id\n",
        "        JOIN building_damage AS d ON i.building_id = d.building_id\n",
        "        WHERE district_id = 4\n",
        "    \"\"\"\n",
        "\n",
        "    # Read query results into DataFrame\n",
        "    df = pd.read_sql(query, conn, index_col=\"b_id\")\n",
        "\n",
        "    # Identify leaky columns\n",
        "    drop_cols = [col for col in df.columns if \"post_eq\" in col]\n",
        "\n",
        "    # Add high-cardinality / redundant column\n",
        "    drop_cols.append(\"building_id\")\n",
        "\n",
        "    # Create binary target column\n",
        "    df[\"damage_grade\"] = df[\"damage_grade\"].str[-1].astype(int)\n",
        "    df[\"severe_damage\"] = (df[\"damage_grade\"] > 3).astype(int)\n",
        "\n",
        "    # Drop old target\n",
        "    drop_cols.append(\"damage_grade\")\n",
        "\n",
        "    # Drop multicollinearity column\n",
        "    drop_cols.append(\"count_floors_pre_eq\")\n",
        "\n",
        "    # Drop columns\n",
        "    df.drop(columns=drop_cols, inplace=True)\n",
        "\n",
        "    return df"
      ]
    },
    {
      "cell_type": "markdown",
      "id": "e1834f31-fabd-455d-870f-2964f8864bb9",
      "metadata": {
        "deletable": false,
        "editable": false,
        "id": "e1834f31-fabd-455d-870f-2964f8864bb9"
      },
      "source": [
        "### Exercício:\n",
        "Use a função `wrangle` acima para importar seu conjunto de dados para o DataFrame `df`. O caminho para o banco de dados SQLite é `\"banco.db\"`\n"
      ]
    },
    {
      "cell_type": "code",
      "execution_count": null,
      "id": "6700cb6f-50e9-469b-ac40-87dea0d38888",
      "metadata": {
        "deletable": false,
        "id": "6700cb6f-50e9-469b-ac40-87dea0d38888"
      },
      "outputs": [],
      "source": [
        "df = wrangle('/content/drive/MyDrive/SQLITE/banco.db')\n",
        "df.head()"
      ]
    },
    {
      "cell_type": "markdown",
      "id": "05b2c58b-e7d0-4883-9a24-082cd3a259a2",
      "metadata": {
        "deletable": false,
        "editable": false,
        "tags": [],
        "id": "05b2c58b-e7d0-4883-9a24-082cd3a259a2"
      },
      "source": [
        "## Divisão"
      ]
    },
    {
      "cell_type": "markdown",
      "id": "0699190f-dffe-4769-acec-04b2bacca236",
      "metadata": {
        "deletable": false,
        "editable": false,
        "id": "0699190f-dffe-4769-acec-04b2bacca236"
      },
      "source": [
        "### Exercício:\n",
        "Crie sua matriz de características `X` e vetor alvo `y`. Seu alvo é `\"severe_damage\"`.\n"
      ]
    },
    {
      "cell_type": "code",
      "execution_count": null,
      "id": "65a5a66f-511e-4e0a-9602-8634b22fdc31",
      "metadata": {
        "deletable": false,
        "id": "65a5a66f-511e-4e0a-9602-8634b22fdc31"
      },
      "outputs": [],
      "source": [
        "target = \"severe_damage\"\n",
        "X = df.drop(columns=target)\n",
        "y = df[target]"
      ]
    },
    {
      "cell_type": "markdown",
      "id": "ad54e1dc-2066-4e73-bd68-150c9b5bceb6",
      "metadata": {
        "deletable": false,
        "editable": false,
        "id": "ad54e1dc-2066-4e73-bd68-150c9b5bceb6"
      },
      "source": [
        "### Exercício:\n",
        "Divida seus dados (`X` e `y`) em conjuntos de treinamento e teste usando uma divisão aleatória de treino-teste. Seu conjunto de teste deve ser 20% do total de seus dados. E não se esqueça de definir um `random_state` para garantir a reprodutibilidade."
      ]
    },
    {
      "cell_type": "code",
      "execution_count": null,
      "id": "76046b5f-370e-4128-8720-12647d353a41",
      "metadata": {
        "deletable": false,
        "id": "76046b5f-370e-4128-8720-12647d353a41"
      },
      "outputs": [],
      "source": [
        "X_train, X_test, y_train, y_test = train_test_split(\n",
        "    X,\n",
        "    y,\n",
        "    test_size=0.2,\n",
        "    random_state=42\n",
        ")"
      ]
    },
    {
      "cell_type": "markdown",
      "source": [
        "## Validações:\n",
        "\n",
        "A validação é uma etapa crucial no processo de desenvolvimento de modelos de aprendizado de máquina. Seu objetivo principal é avaliar como o modelo se comporta em dados que não foram utilizados durante o treinamento. Isso é importante para:\n",
        "\n",
        "- Evitar Overfitting: Um modelo que se ajusta muito bem aos dados de treinamento pode não generalizar bem para novos dados. A validação ajuda a identificar isso.\n",
        "\n",
        "- Aprimorar a Generalização: Garantir que o modelo aprenda padrões que sejam úteis fora do conjunto de treinamento.\n",
        "\n",
        "- Selecionar o Melhor Modelo: A validação permite comparar diferentes modelos e escolher o que apresenta melhor desempenho em dados não vistos.\n",
        "\n",
        "Durante a validação, você pode ajustar hiperparâmetros (como a profundidade de uma árvore de decisão, taxa de aprendizado, etc.). O conjunto de validação é usado para verificar o desempenho com diferentes configurações, ajudando a escolher a melhor."
      ],
      "metadata": {
        "id": "nkA2H2XEu8fH"
      },
      "id": "nkA2H2XEu8fH"
    },
    {
      "cell_type": "markdown",
      "id": "5ba9c78e-a189-4c9c-89e3-0475c7b86c83",
      "metadata": {
        "deletable": false,
        "editable": false,
        "id": "5ba9c78e-a189-4c9c-89e3-0475c7b86c83"
      },
      "source": [
        "### Exercício:\n",
        "Divida seus dados de treinamento (`X_train` e `y_train`) em conjuntos de treino e validação usando uma divisão aleatória de treino-teste. Seus dados de validação devem ser 20% dos dados restantes. Não se esqueça de definir um `random_state`.\n"
      ]
    },
    {
      "cell_type": "code",
      "execution_count": null,
      "id": "4a86074a-5c59-4119-9a4e-34c16d523ca9",
      "metadata": {
        "deletable": false,
        "id": "4a86074a-5c59-4119-9a4e-34c16d523ca9"
      },
      "outputs": [],
      "source": [
        "X_train, X_val, y_train, y_val = train_test_split(\n",
        "    X_train,\n",
        "    y_train,\n",
        "    test_size=0.2,\n",
        "    random_state=42\n",
        ")"
      ]
    },
    {
      "cell_type": "markdown",
      "id": "cf2a6fc1-690b-42b9-b60b-c63f91aabce9",
      "metadata": {
        "deletable": false,
        "editable": false,
        "tags": [],
        "id": "cf2a6fc1-690b-42b9-b60b-c63f91aabce9"
      },
      "source": [
        "# Construindo Model"
      ]
    },
    {
      "cell_type": "markdown",
      "id": "c70843c4-fbc3-4225-b093-9cf4b92e8c91",
      "metadata": {
        "deletable": false,
        "editable": false,
        "id": "c70843c4-fbc3-4225-b093-9cf4b92e8c91"
      },
      "source": [
        "## Baseline"
      ]
    },
    {
      "cell_type": "markdown",
      "id": "0b51d01d-83a4-49a0-9583-19449d088ad6",
      "metadata": {
        "deletable": false,
        "editable": false,
        "id": "0b51d01d-83a4-49a0-9583-19449d088ad6"
      },
      "source": [
        "### Exercício:\n",
        "Calcule a pontuação de precisão básica para o seu modelo.\n"
      ]
    },
    {
      "cell_type": "code",
      "execution_count": null,
      "id": "70fc8e34-a25f-42a7-af9d-76161a35dbed",
      "metadata": {
        "deletable": false,
        "id": "70fc8e34-a25f-42a7-af9d-76161a35dbed"
      },
      "outputs": [],
      "source": [
        "acc_baseline = y_train.value_counts(normalize=True).max()\n",
        "print(\"Baseline Accuracy:\", round(acc_baseline, 2))"
      ]
    },
    {
      "cell_type": "markdown",
      "id": "b6e3aa6e-03ea-4b05-9997-7886b2fef482",
      "metadata": {
        "deletable": false,
        "editable": false,
        "tags": [],
        "id": "b6e3aa6e-03ea-4b05-9997-7886b2fef482"
      },
      "source": [
        "## Iterar"
      ]
    },
    {
      "cell_type": "markdown",
      "source": [
        "# OrdinalEncoder\n",
        "O OrdinalEncoder é útil quando você trabalha com variáveis categóricas em seus dados.\n",
        "\n",
        "Árvores de decisão não conseguem lidar diretamente com texto ou categorias (por exemplo, \"baixo\", \"médio\", \"alto\").\n",
        "\n",
        "O OrdinalEncoder transforma essas categorias em números inteiros, como:\n",
        "- \"baixo\" → 0\n",
        "- \"médio\" → 1\n",
        "- \"alto\" → 2\n",
        "\n",
        "Esse processo é chamado de codificação ordinal e garante que os dados categóricos possam ser usados no treinamento do modelo.\n",
        "## Diferenças entre o LabelEncoder\n",
        "É comum confundir o `OrdinalEncoder` e o `LabelEncoder` porque ambos são usados para converter categorias em números.\n",
        "\n",
        "No entanto, eles são aplicados em contextos diferentes e têm diferenças importantes. Vamos entender:\n",
        "\n",
        "- __LabelEncoder:__\n",
        "  - Finalidade: O LabelEncoder é usado para converter rótulos (labels) de variáveis dependentes (ou seja, o alvo a ser previsto) de forma que uma variável categórica seja transformada em números.\n",
        "\n",
        "  - Aplicação: Ele é tipicamente usado quando você está lidando com uma variável de saída ou target. É útil em problemas de classificação, onde a saída (classe) é categórica.\n",
        "\n",
        "  - Como funciona: Ele mapeia cada categoria em um número inteiro único. __Por exemplo:__\n",
        "  \n",
        "    ['negado', 'aprovado', 'pendente'] pode ser convertido para [0, 1, 2].\n",
        "\n",
        "  - Restrições: Usado apenas para a variável alvo (dependente).\n",
        "  Não é recomendado para codificar variáveis preditoras (independentes), pois ele não mantém uma relação ordinal entre os valores.\n",
        "\n",
        "- __OrdinalEncoder:__\n",
        "  - Finalidade: O OrdinalEncoder é usado para converter variáveis categóricas independentes (as características ou features) em números, assumindo que existe uma ordem natural entre as categorias.\n",
        "\n",
        "  - Aplicação: Ele é aplicado nas variáveis de entrada (independentes) e pode ser usado quando as categorias têm uma relação de ordem. __Por exemplo__, uma coluna de \"nível de escolaridade\" com valores como ['Fundamental', 'Médio', 'Superior'] tem uma ordem clara, e o OrdinalEncoder pode converter esses valores em [0, 1, 2] de forma coerente com essa relação.\n",
        "\n",
        "  - Como funciona: Assim como o LabelEncoder, ele atribui números inteiros às categorias, mas pode ser aplicado a múltiplas colunas de entrada.\n",
        "\n",
        "  - Restrições: Usado apenas para variáveis de entrada (independentes). Presume que as categorias tenham uma ordem natural. Se as categorias não tiverem uma ordem (por exemplo, cores), pode ser mais apropriado usar um OneHotEncoder.\n",
        "\n",
        "## Quando Usar Cada Um:\n",
        "- Use **LabelEncoder** quando precisar codificar a variável alvo (como rótulos de classes para classificação).\n",
        "\n",
        "- Use **OrdinalEncoder** quando precisar codificar variáveis de entrada que tenham categorias com uma ordem natural."
      ],
      "metadata": {
        "id": "i7jBY-DC6kWf"
      },
      "id": "i7jBY-DC6kWf"
    },
    {
      "cell_type": "markdown",
      "id": "066ff773-54ec-4314-aaeb-fcfff62ba600",
      "metadata": {
        "deletable": false,
        "editable": false,
        "id": "066ff773-54ec-4314-aaeb-fcfff62ba600"
      },
      "source": [
        "### Exercício:\n",
        "Crie um pipeline chamado `model` que contenha um transformador `OrdinalEncoder` e um preditor `DecisionTreeClassifier`. (Certifique-se de definir um `random_state` para seu preditor.) Em seguida, ajuste seu modelo aos dados de treinamento."
      ]
    },
    {
      "cell_type": "code",
      "execution_count": null,
      "id": "4d05d9d5-54a4-43e7-9d4a-077b0f4f9066",
      "metadata": {
        "deletable": false,
        "id": "4d05d9d5-54a4-43e7-9d4a-077b0f4f9066"
      },
      "outputs": [],
      "source": [
        "# Build Model\n",
        "model = make_pipeline(\n",
        "    OrdinalEncoder(),\n",
        "    DecisionTreeClassifier(max_depth = 6, random_state=42)\n",
        ")\n",
        "# Fit model to training data\n",
        "model.fit(X_train,y_train)"
      ]
    },
    {
      "cell_type": "markdown",
      "id": "0a9b5321-af28-4f8b-86c0-d833f93c6ed8",
      "metadata": {
        "deletable": false,
        "editable": false,
        "id": "0a9b5321-af28-4f8b-86c0-d833f93c6ed8"
      },
      "source": [
        "### Exercício:\n",
        "Calcule as pontuações de precisão de treinamento e validação para seus modelos.\n"
      ]
    },
    {
      "cell_type": "code",
      "execution_count": null,
      "id": "e0d69484-3693-4c6b-a107-3063dcdaae29",
      "metadata": {
        "deletable": false,
        "id": "e0d69484-3693-4c6b-a107-3063dcdaae29"
      },
      "outputs": [],
      "source": [
        "acc_train = accuracy_score(y_train, model.predict(X_train))\n",
        "acc_val = model.score(X_val, y_val)\n",
        "\n",
        "print(\"Training Accuracy:\", round(acc_train, 2))\n",
        "print(\"Validation Accuracy:\", round(acc_val, 2))"
      ]
    },
    {
      "cell_type": "markdown",
      "id": "830f879d-52bb-4f7e-ba6c-a272340e0031",
      "metadata": {
        "deletable": false,
        "editable": false,
        "id": "830f879d-52bb-4f7e-ba6c-a272340e0031"
      },
      "source": [
        " ### Exercício:\n",
        "Use o método `get_depth` no `DecisionTreeClassifier` em seu modelo para ver quão profunda sua árvore cresceu durante o treinamento."
      ]
    },
    {
      "cell_type": "code",
      "execution_count": null,
      "id": "7abbc1af-d46d-4975-b4d8-3a93832da7f0",
      "metadata": {
        "deletable": false,
        "id": "7abbc1af-d46d-4975-b4d8-3a93832da7f0"
      },
      "outputs": [],
      "source": [
        "tree_depth = model.named_steps[\"decisiontreeclassifier\"].get_depth()\n",
        "print(\"Tree Depth:\", tree_depth)"
      ]
    },
    {
      "cell_type": "markdown",
      "id": "8276ab78-eebf-4127-855b-011728908036",
      "metadata": {
        "deletable": false,
        "editable": false,
        "id": "8276ab78-eebf-4127-855b-011728908036"
      },
      "source": [
        "### Exercício:\n",
        "Crie uma faixa de possíveis valores para o hiperparâmetro `max_depth` do `DecisionTreeClassifier` do seu modelo. `depth_hyperparams` deve variar de `1` a `50` em incrementos de `2`.\n"
      ]
    },
    {
      "cell_type": "code",
      "execution_count": null,
      "id": "32481a79-206a-4842-a9f0-067cd1777f89",
      "metadata": {
        "deletable": false,
        "id": "32481a79-206a-4842-a9f0-067cd1777f89"
      },
      "outputs": [],
      "source": [
        "depth_hyperparams = range(1,50,2)"
      ]
    },
    {
      "cell_type": "markdown",
      "id": "f0d09f37-0f63-48cf-8be3-6024d5204af2",
      "metadata": {
        "deletable": false,
        "editable": false,
        "id": "f0d09f37-0f63-48cf-8be3-6024d5204af2"
      },
      "source": [
        "### Exercício:\n",
        "Complete o código abaixo para que ele treine um modelo para cada `max_depth` em `depth_hyperparams`. Sempre que um novo modelo for treinado, o código também deve calcular as pontuações de precisão de treinamento e validação e adicioná-las às listas `training_acc` e `validation_acc`, respectivamente.\n"
      ]
    },
    {
      "cell_type": "code",
      "execution_count": null,
      "id": "504732b1-8dc8-4731-9842-014d1d5bb67b",
      "metadata": {
        "deletable": false,
        "id": "504732b1-8dc8-4731-9842-014d1d5bb67b"
      },
      "outputs": [],
      "source": [
        "# Create empty lists for training and validation accuracy scores\n",
        "training_acc = []\n",
        "validation_acc = []\n",
        "\n",
        "for d in depth_hyperparams:\n",
        "    # Create model with `max_depth` of `d`\n",
        "    test_model = make_pipeline(\n",
        "      OrdinalEncoder(),\n",
        "      DecisionTreeClassifier(max_depth=d, random_state=42)\n",
        "    )\n",
        "    # Fit model to training data\n",
        "    test_model.fit(X_train, y_train)\n",
        "    # Calculate training accuracy score and append to `training_acc`\n",
        "    training_acc.append(test_model.score(X_train,y_train))\n",
        "    # Calculate validation accuracy score and append to `training_acc`\n",
        "    validation_acc.append(test_model.score(X_val,y_val))\n",
        "\n",
        "print(\"Training Accuracy Scores:\", training_acc[:3])\n",
        "print(\"Validation Accuracy Scores:\", validation_acc[:3])"
      ]
    },
    {
      "cell_type": "markdown",
      "id": "e1f295a9-2c10-4d8f-8548-bfc7b20d641b",
      "metadata": {
        "deletable": false,
        "editable": false,
        "id": "e1f295a9-2c10-4d8f-8548-bfc7b20d641b"
      },
      "source": [
        "### Exercício:\n",
        "Crie uma visualização com duas linhas. A primeira linha deve plotar os valores de `training_acc` como uma função de `depth_hyperparams`, e a segunda deve plotar `validation_acc` como uma função de `depth_hyperparams`. O eixo x deve ser rotulado como `\"Max Depth\"` e o eixo y como `\"Accuracy Score\"`. Também inclua uma legenda para que seu público possa distinguir entre as duas linhas.\n"
      ]
    },
    {
      "cell_type": "code",
      "execution_count": null,
      "id": "cf11cadd-37f8-4011-a13b-0a1ca4b5b051",
      "metadata": {
        "deletable": false,
        "id": "cf11cadd-37f8-4011-a13b-0a1ca4b5b051"
      },
      "outputs": [],
      "source": [
        "# Plot `depth_hyperparams`, `training_acc`\n",
        "plt.plot(depth_hyperparams, training_acc, label='training')\n",
        "plt.plot(depth_hyperparams, validation_acc, label='training')\n",
        "plt.xlabel(\"Max Depth\")\n",
        "plt.ylabel(\"Accuracy Score\");"
      ]
    },
    {
      "cell_type": "markdown",
      "id": "809c2c3c",
      "metadata": {
        "deletable": false,
        "editable": false,
        "id": "809c2c3c"
      },
      "source": [
        "## Avaliar"
      ]
    },
    {
      "cell_type": "markdown",
      "id": "41ab6e8a-9e99-488f-ad93-11acf8e802a8",
      "metadata": {
        "deletable": false,
        "editable": false,
        "id": "41ab6e8a-9e99-488f-ad93-11acf8e802a8"
      },
      "source": [
        "### Exercício:\n",
        "Com base na sua visualização, escolha o valor de `max_depth` que leva à melhor pontuação de precisão de validação. Em seguida, re-treine seu modelo original com esse valor de `max_depth`. Por fim, verifique como seu modelo ajustado se comporta em seu conjunto de teste calculando a pontuação de precisão do teste abaixo. Você conseguiu resolver o problema de sobreajuste com esse novo `max_depth`?\n"
      ]
    },
    {
      "cell_type": "code",
      "execution_count": null,
      "id": "7d82c732-0f80-4462-8c4d-0455a6706741",
      "metadata": {
        "deletable": false,
        "id": "7d82c732-0f80-4462-8c4d-0455a6706741"
      },
      "outputs": [],
      "source": [
        "test_acc = model.score(X_test, y_test)\n",
        "print(\"Test Accuracy:\", round(test_acc, 2))"
      ]
    },
    {
      "cell_type": "markdown",
      "id": "aae12723",
      "metadata": {
        "deletable": false,
        "editable": false,
        "id": "aae12723"
      },
      "source": [
        "# Comunicar Resultados"
      ]
    },
    {
      "cell_type": "markdown",
      "id": "6d9a6162-66af-4fa0-8018-ded8a49718be",
      "metadata": {
        "deletable": false,
        "editable": false,
        "id": "6d9a6162-66af-4fa0-8018-ded8a49718be"
      },
      "source": [
        "### Exercício:\n",
        "Complete o código abaixo para usar a função `plot_tree` do scikit-learn para visualizar a lógica de decisão do seu modelo.\n"
      ]
    },
    {
      "cell_type": "code",
      "source": [
        "X_train.columns"
      ],
      "metadata": {
        "id": "iBVfz3ed27ti"
      },
      "id": "iBVfz3ed27ti",
      "execution_count": null,
      "outputs": []
    },
    {
      "cell_type": "code",
      "execution_count": null,
      "id": "27a1ef60-b5e0-4e84-8905-e3b4f855ebab",
      "metadata": {
        "deletable": false,
        "tags": [],
        "id": "27a1ef60-b5e0-4e84-8905-e3b4f855ebab"
      },
      "outputs": [],
      "source": [
        "# Create larger figure\n",
        "fig, ax = plt.subplots(figsize=(25, 12))\n",
        "# Plot tree\n",
        "plot_tree(\n",
        "    decision_tree=model.named_steps[\"decisiontreeclassifier\"],\n",
        "    feature_names=X_train.columns.to_list(),\n",
        "    filled=True,  # Color leaf with class\n",
        "    rounded=True,  # Round leaf edges\n",
        "    proportion=True,  # Display proportion of classes in leaf\n",
        "    max_depth=3,  # Only display first 3 levels\n",
        "    fontsize=12,  # Enlarge font\n",
        "    ax=ax,  # Place in figure axis\n",
        ");"
      ]
    },
    {
      "cell_type": "markdown",
      "source": [
        "## Resumindo a Informação de um Nó\n",
        "\n",
        "#### Cores (Azul e Laranja)\n",
        "As cores nos nós de uma árvore de decisão são uma representação visual das classes previstas para cada nó.\n",
        "\n",
        "- Significado das Cores:\n",
        "  - Azul: Representa uma classe, por exemplo, a classe 0.\n",
        "  - Laranja: Representa outra classe, por exemplo, a classe 1.\n",
        "\n",
        "- Preenchimento da Cor:\n",
        "  - Preenchimento Completo: Indica que o nó é \"puro\" e contém uma alta proporção de uma única classe. Por exemplo, um nó completamente azul sugere que a maioria ou todas as amostras pertencem à classe 0.\n",
        "\n",
        "  - Preenchimento Parcial: Sugere uma mistura de classes. Se um nó estiver parcialmente preenchido por azul e laranja, isso indica que as amostras são uma combinação de ambas as classes.\n",
        "\n",
        "#### Value\n",
        "O valor em cada nó mostra a contagem de amostras de cada classe que alcançaram aquele nó.\n",
        "\n",
        "- Interpretação do Value:\n",
        "  - Um nó que mostra value=[50, 20] indica que 50 amostras pertencem à classe 0 e 20 amostras pertencem à classe 1.\n",
        "\n",
        "  - Em nós \"puros\", onde todas as amostras pertencem a uma única classe, você verá algo como value=[70, 0] (70 amostras da classe 0) ou value=[0, 30] (30 amostras da classe 1).\n",
        "\n",
        "#### Gini\n",
        "O índice de Gini mede a impureza ou heterogeneidade de um nó. É uma métrica fundamental usada para construir a árvore de decisão.\n",
        "- Interpretação do Gini:\n",
        "\n",
        "  - Um Gini de 0 significa que o nó é puro (todas as amostras pertencem à mesma classe).\n",
        "\n",
        "  - Um Gini de 0.5 indica uma mistura igual de classes, ou seja, o nó contém um número equilibrado de amostras de ambas as classes.\n",
        "\n",
        "#### Samples\n",
        "A quantidade de samples refere-se ao número total de amostras que chegaram a um nó específico.\n",
        "\n",
        "- Interpretação de Samples:\n",
        "    - Se um nó exibe samples=100, isso significa que 100 amostras foram classificadas até aquele ponto da árvore. Essa informação ajuda a entender quantas amostras contribuíram para as decisões tomadas na árvore.\n",
        "\n",
        "#### Conclusão:\n",
        "\n",
        "- __gini=0.48:__ Um valor de Gini próximo de 0 sugere maior pureza. Um Gini de 0.48 sugere uma mistura moderada de classes.\n",
        "- __samples=120:__ Indica que 120 amostras foram classificadas até esse ponto da árvore.\n",
        "- __value=[70, 50]:__ Mostra que existem 70 amostras da classe 0 e 50 amostras da classe 1."
      ],
      "metadata": {
        "id": "i_KeyZhk8uaK"
      },
      "id": "i_KeyZhk8uaK"
    },
    {
      "cell_type": "markdown",
      "id": "d39b7687-6a8b-42bf-83b8-693ec58ec685",
      "metadata": {
        "deletable": false,
        "editable": false,
        "id": "d39b7687-6a8b-42bf-83b8-693ec58ec685"
      },
      "source": [
        "### Exercício:\n",
        "Atribua os nomes das características e importâncias do seu modelo às variáveis abaixo. Para as `features`, você pode obtê-las a partir dos nomes das colunas em seu conjunto de treinamento. Para as `importances`, você acessa o atributo `feature_importances_` do `DecisionTreeClassifier` do seu modelo.\n"
      ]
    },
    {
      "cell_type": "code",
      "execution_count": null,
      "id": "a0ad2232-eec8-4a46-af26-cb9fd4068fc8",
      "metadata": {
        "deletable": false,
        "id": "a0ad2232-eec8-4a46-af26-cb9fd4068fc8"
      },
      "outputs": [],
      "source": [
        "features = X_train.columns\n",
        "importances = model.named_steps[\"decisiontreeclassifier\"].feature_importances_\n",
        "\n",
        "print(\"Features:\", features[:3])\n",
        "print(\"Importances:\", importances[:3])"
      ]
    },
    {
      "cell_type": "markdown",
      "id": "c36a7198-2354-4ec2-a35a-921a7316e43d",
      "metadata": {
        "deletable": false,
        "editable": false,
        "id": "c36a7198-2354-4ec2-a35a-921a7316e43d"
      },
      "source": [
        "### Exercício:\n",
        "Crie uma série pandas chamada `feat_imp`, onde o índice é `features` e os valores são suas `importances`. A série deve ser classificada da menor para a maior importância."
      ]
    },
    {
      "cell_type": "code",
      "execution_count": null,
      "id": "1dc152b6-4781-403f-a67b-1c5cc5ef4e30",
      "metadata": {
        "deletable": false,
        "id": "1dc152b6-4781-403f-a67b-1c5cc5ef4e30"
      },
      "outputs": [],
      "source": [
        "feat_imp = pd.Series(importances, index=X_train.columns).sort_values(ascending=False)\n",
        "feat_imp.head()"
      ]
    },
    {
      "cell_type": "markdown",
      "id": "5a246622-3962-4309-bcb5-85f13adde3f1",
      "metadata": {
        "deletable": false,
        "editable": false,
        "id": "5a246622-3962-4309-bcb5-85f13adde3f1"
      },
      "source": [
        "### Exercício:\n",
        "Crie um gráfico de barras horizontal com todas as características em `feat_imp`. Certifique-se de rotular o eixo x como `\"Gini Importance\"`."
      ]
    },
    {
      "cell_type": "code",
      "execution_count": null,
      "id": "f801322d-0cac-4b3e-a825-258685dd71a2",
      "metadata": {
        "deletable": false,
        "id": "f801322d-0cac-4b3e-a825-258685dd71a2"
      },
      "outputs": [],
      "source": [
        "# Create horizontal bar chart\n",
        "feat_imp.plot(kind='barh')\n",
        "plt.xlabel(\"Gini Importance\")\n",
        "plt.ylabel(\"Features\");"
      ]
    },
    {
      "cell_type": "markdown",
      "id": "56a5f6d3-0bc8-4d17-a88e-3f435a485759",
      "metadata": {
        "deletable": false,
        "editable": false,
        "id": "56a5f6d3-0bc8-4d17-a88e-3f435a485759"
      },
      "source": [
        "# Além do Modelo: Ética de Dados"
      ]
    },
    {
      "cell_type": "markdown",
      "id": "0d61ec2c-51ee-4c37-8469-d56909073ad1",
      "metadata": {
        "deletable": false,
        "editable": false,
        "id": "0d61ec2c-51ee-4c37-8469-d56909073ad1"
      },
      "source": [
        "# Preparando Dados"
      ]
    },
    {
      "cell_type": "markdown",
      "id": "565c7aba-4476-44c7-8dba-32b3c0b8aac3",
      "metadata": {
        "deletable": false,
        "editable": false,
        "id": "565c7aba-4476-44c7-8dba-32b3c0b8aac3"
      },
      "source": [
        "### Exercício:\n",
        "Execute a célula abaixo para se conectar ao banco de dados `banco.db`."
      ]
    },
    {
      "cell_type": "code",
      "execution_count": null,
      "id": "6431a589-9fbb-4307-93e0-02473719ef28",
      "metadata": {
        "deletable": false,
        "id": "6431a589-9fbb-4307-93e0-02473719ef28"
      },
      "outputs": [],
      "source": [
        "%load_ext sql\n",
        "%sql sqlite:////content/drive/MyDrive/SQLITE/banco.db"
      ]
    },
    {
      "cell_type": "markdown",
      "id": "4aa77c39-044c-4723-a02d-3cc04eba5486",
      "metadata": {
        "deletable": false,
        "editable": false,
        "id": "4aa77c39-044c-4723-a02d-3cc04eba5486"
      },
      "source": [
        "### Exercício:\n",
        "Selecione todas as colunas da tabela `household_demographics`, limitando seus resultados às primeiras cinco linhas."
      ]
    },
    {
      "cell_type": "code",
      "execution_count": null,
      "id": "fcbb0f2b-071e-48c2-9709-de38f5076617",
      "metadata": {
        "deletable": false,
        "id": "fcbb0f2b-071e-48c2-9709-de38f5076617"
      },
      "outputs": [],
      "source": [
        "%%sql\n",
        "select *\n",
        "from household_demographics\n",
        "limit 5\n"
      ]
    },
    {
      "cell_type": "markdown",
      "id": "73db4135-7ab4-4e56-aea8-e456c3acd58f",
      "metadata": {
        "deletable": false,
        "editable": false,
        "id": "73db4135-7ab4-4e56-aea8-e456c3acd58f"
      },
      "source": [
        "### Exercício:\n",
        "Quantas observações existem na tabela `household_demographics`? Use o comando `count` para descobrir."
      ]
    },
    {
      "cell_type": "code",
      "execution_count": null,
      "id": "83c0e1cb-06f0-4510-a93d-3ba89eef144b",
      "metadata": {
        "deletable": false,
        "id": "83c0e1cb-06f0-4510-a93d-3ba89eef144b"
      },
      "outputs": [],
      "source": [
        "%%sql\n",
        "select count(*)\n",
        "from household_demographics\n",
        "limit 5\n"
      ]
    },
    {
      "cell_type": "markdown",
      "id": "4e8b1eb4-fe29-4d2b-9afd-a3ebdc64388d",
      "metadata": {
        "deletable": false,
        "editable": false,
        "id": "4e8b1eb4-fe29-4d2b-9afd-a3ebdc64388d"
      },
      "source": [
        "### Exercício:\n",
        "Selecione todas as colunas da tabela `id_map`, limitando seus resultados às primeiras cinco linhas."
      ]
    },
    {
      "cell_type": "code",
      "execution_count": null,
      "id": "114d6ba2-7a25-4710-b0b6-8791a129913c",
      "metadata": {
        "deletable": false,
        "id": "114d6ba2-7a25-4710-b0b6-8791a129913c"
      },
      "outputs": [],
      "source": [
        "%%sql\n",
        "select *\n",
        "from id_map\n",
        "limit 5\n",
        "\n"
      ]
    },
    {
      "cell_type": "markdown",
      "id": "25c156e1-5245-42df-bb9f-144e09270caf",
      "metadata": {
        "deletable": false,
        "editable": false,
        "id": "25c156e1-5245-42df-bb9f-144e09270caf"
      },
      "source": [
        "### Exercício:\n",
        "Crie uma tabela com todas as colunas de `household_demographics`, todas as colunas de `building_structure`, a coluna **`vdcmun_id`** de `id_map` e a coluna **`damage_grade`** de `building_damage`. Seus resultados devem mostrar apenas linhas onde o **`district_id`** é `4` e limitar seus resultados às primeiras cinco linhas."
      ]
    },
    {
      "cell_type": "code",
      "execution_count": null,
      "id": "bc2abf8c-43b2-43c1-b4a6-78cd8d3524e9",
      "metadata": {
        "deletable": false,
        "id": "bc2abf8c-43b2-43c1-b4a6-78cd8d3524e9"
      },
      "outputs": [],
      "source": [
        "%%sql\n",
        "select h.*, i.vdcmun_id, s.*, d.damage_grade\n",
        "from household_demographics as h\n",
        "\n",
        "join id_map as i on i.household_id = h.household_id\n",
        "join building_structure as s on i.building_id = s.building_id\n",
        "join building_damage as d on i.building_id = d.building_id\n",
        "\n",
        "where district_id = 4\n",
        "limit 5"
      ]
    },
    {
      "cell_type": "markdown",
      "id": "a851c41b-472d-4827-ae2e-52a1a713937f",
      "metadata": {
        "deletable": false,
        "editable": false,
        "id": "a851c41b-472d-4827-ae2e-52a1a713937f"
      },
      "source": [
        "## Importação"
      ]
    },
    {
      "cell_type": "code",
      "execution_count": null,
      "id": "0a9a898d-a7cc-474e-9e18-2459c658d4de",
      "metadata": {
        "deletable": false,
        "id": "0a9a898d-a7cc-474e-9e18-2459c658d4de"
      },
      "outputs": [],
      "source": [
        "def wrangle(db_path):\n",
        "    # Connect to database\n",
        "    conn = sqlite3.connect(db_path)\n",
        "\n",
        "    # Construct query\n",
        "    query = \"\"\"\n",
        "    select h.*, i.vdcmun_id, s.*, d.damage_grade\n",
        "    from household_demographics as h\n",
        "\n",
        "    join id_map as i on i.household_id = h.household_id\n",
        "    join building_structure as s on i.building_id = s.building_id\n",
        "    join building_damage as d on i.building_id = d.building_id\n",
        "\n",
        "    where district_id = 4;\n",
        "    \"\"\"\n",
        "\n",
        "    # Read query results into DataFrame\n",
        "    df = pd.read_sql(query, conn, index_col='household_id')\n",
        "\n",
        "    # Identify leaky columns\n",
        "    drop_cols = [col for col in df.columns if \"post_eq\" in col]\n",
        "\n",
        "    # Add high-cardinality / redundant column\n",
        "    drop_cols.append(\"building_id\")\n",
        "\n",
        "    # Create binary target column\n",
        "    df[\"damage_grade\"] = df[\"damage_grade\"].str[-1].astype(int)\n",
        "    df[\"severe_damage\"] = (df[\"damage_grade\"] > 3).astype(int)\n",
        "\n",
        "    # Drop old target\n",
        "    drop_cols.append(\"damage_grade\")\n",
        "\n",
        "    # Drop multicollinearity column\n",
        "    drop_cols.append(\"count_floors_pre_eq\")\n",
        "\n",
        "    # Group caste columns\n",
        "    top_10 = df[\"caste_household\"].value_counts().head(10).index\n",
        "    df[\"caste_household\"].apply(lambda c: c if c in top_10 else \"Other\")\n",
        "\n",
        "    # Drop columns\n",
        "    df.drop(columns=drop_cols, inplace=True)\n",
        "\n",
        "    return df"
      ]
    },
    {
      "cell_type": "markdown",
      "id": "a5cb7fba-d0a8-4f49-a239-3dcd11322b62",
      "metadata": {
        "deletable": false,
        "editable": false,
        "id": "a5cb7fba-d0a8-4f49-a239-3dcd11322b62"
      },
      "source": [
        "### Exercício:\n",
        "Adicione a consulta que você criou na tarefa anterior à função `wrangle` acima. Em seguida, importe seus dados executando a célula abaixo. O caminho para o banco de dados é `\"banco.db\"`."
      ]
    },
    {
      "cell_type": "code",
      "execution_count": null,
      "id": "a9f25089-8400-411a-aa4d-1a5b17aa4277",
      "metadata": {
        "deletable": false,
        "id": "a9f25089-8400-411a-aa4d-1a5b17aa4277"
      },
      "outputs": [],
      "source": [
        "df = wrangle('/content/drive/MyDrive/SQLITE/banco.db')\n",
        "df.head()"
      ]
    },
    {
      "cell_type": "markdown",
      "id": "7d254a79-a14c-4547-9cfc-d3a4d938abc5",
      "metadata": {
        "deletable": false,
        "editable": false,
        "id": "7d254a79-a14c-4547-9cfc-d3a4d938abc5"
      },
      "source": [
        "## Explorar"
      ]
    },
    {
      "cell_type": "markdown",
      "id": "48afaec2-737f-4a61-b2be-585f3c82560f",
      "metadata": {
        "deletable": false,
        "editable": false,
        "id": "48afaec2-737f-4a61-b2be-585f3c82560f"
      },
      "source": [
        "### Exercício:\n",
        "Combine os métodos `select_dtypes` para verificar se há características categóricas de alta ou baixa cardinalidade no conjunto de dados."
      ]
    },
    {
      "cell_type": "code",
      "execution_count": null,
      "id": "76da7779-74cd-4057-a18e-a41b735241fa",
      "metadata": {
        "deletable": false,
        "id": "76da7779-74cd-4057-a18e-a41b735241fa"
      },
      "outputs": [],
      "source": [
        "# Check for high- and low-cardinality categorical features\n",
        "df.select_dtypes(\"object\").nunique()"
      ]
    },
    {
      "cell_type": "markdown",
      "id": "24eacbde-4bc1-43bd-ac24-67c9e0aef96c",
      "metadata": {
        "deletable": false,
        "editable": false,
        "id": "24eacbde-4bc1-43bd-ac24-67c9e0aef96c"
      },
      "source": [
        "### Exercício:\n",
        "Adicione à sua função `wrangle` para que a coluna `\"caste_household\"` contenha apenas os 10 maiores grupos de castas. Para as linhas que não estão nesses grupos, `\"caste_household\"` deve ser alterado para `\"Other\"`."
      ]
    },
    {
      "cell_type": "code",
      "execution_count": null,
      "id": "58f8e8d0-1f0e-4e44-a37f-0739a3d80215",
      "metadata": {
        "deletable": false,
        "id": "58f8e8d0-1f0e-4e44-a37f-0739a3d80215"
      },
      "outputs": [],
      "source": [
        "# top_10 = df[\"caste_household\"].value_counts().head(10).index\n",
        "# df[\"caste_household\"].apply(lambda c: c if c in top_10 else \"Other\").value_counts()\n",
        "\n"
      ]
    },
    {
      "cell_type": "markdown",
      "id": "d59e6d93-b806-4c85-a9da-15e1cd2b9502",
      "metadata": {
        "deletable": false,
        "editable": false,
        "tags": [],
        "id": "d59e6d93-b806-4c85-a9da-15e1cd2b9502"
      },
      "source": [
        "## Dividir"
      ]
    },
    {
      "cell_type": "markdown",
      "id": "7dc16f7f-fa65-4244-b073-a0be9834ca7b",
      "metadata": {
        "deletable": false,
        "editable": false,
        "id": "7dc16f7f-fa65-4244-b073-a0be9834ca7b"
      },
      "source": [
        "### Exercício:\n",
        "Crie sua matriz de características `X` e vetor alvo `y`. Como nosso modelo só considerará dados de construção e de domicílio, `X` não deve incluir a coluna de município `\"vdcmun_id\"`. Seu alvo é `\"severe_damage\"`."
      ]
    },
    {
      "cell_type": "code",
      "execution_count": null,
      "id": "57db1b21-539a-43a3-8fa5-f730b45d4c37",
      "metadata": {
        "deletable": false,
        "id": "57db1b21-539a-43a3-8fa5-f730b45d4c37"
      },
      "outputs": [],
      "source": [
        "target = \"severe_damage\"\n",
        "X = df.drop(columns=[target, \"vdcmun_id\"])\n",
        "y = df[target]"
      ]
    },
    {
      "cell_type": "markdown",
      "id": "93681a6e-3480-41e5-9ce8-c9fd60552afb",
      "metadata": {
        "deletable": false,
        "editable": false,
        "id": "93681a6e-3480-41e5-9ce8-c9fd60552afb"
      },
      "source": [
        "### Exercício:\n",
        "Divida seus dados (`X` e `y`) em conjuntos de treinamento e teste usando uma divisão aleatória de treino-teste. Seu conjunto de teste deve ser 20% do total de seus dados. Certifique-se de definir um `random_state` para garantir a reprodutibilidade."
      ]
    },
    {
      "cell_type": "code",
      "execution_count": null,
      "id": "b85f1aa8-0987-4c5a-9fe8-9e3dfc7fca80",
      "metadata": {
        "deletable": false,
        "id": "b85f1aa8-0987-4c5a-9fe8-9e3dfc7fca80"
      },
      "outputs": [],
      "source": [
        "X_train, X_test, y_train, y_test = train_test_split(\n",
        "    X,\n",
        "    y,\n",
        "    test_size=0.2,\n",
        "    random_state=42\n",
        ")"
      ]
    },
    {
      "cell_type": "markdown",
      "id": "111788b7-14fe-486c-9f89-2c078157cfd4",
      "metadata": {
        "deletable": false,
        "editable": false,
        "tags": [],
        "id": "111788b7-14fe-486c-9f89-2c078157cfd4"
      },
      "source": [
        "# Construindo Model"
      ]
    },
    {
      "cell_type": "markdown",
      "id": "15c1824f-355f-47e4-b5a6-8cd1251792c7",
      "metadata": {
        "deletable": false,
        "editable": false,
        "tags": [],
        "id": "15c1824f-355f-47e4-b5a6-8cd1251792c7"
      },
      "source": [
        "## Baseline"
      ]
    },
    {
      "cell_type": "markdown",
      "id": "6755e531-b6ff-4985-9fc5-0b6601eca074",
      "metadata": {
        "deletable": false,
        "editable": false,
        "id": "6755e531-b6ff-4985-9fc5-0b6601eca074"
      },
      "source": [
        "### Exercício:\n",
        "Calcule a pontuação de precisão básica para o seu modelo."
      ]
    },
    {
      "cell_type": "code",
      "execution_count": null,
      "id": "ceaa7203-0210-43e8-a1d7-ef413cc48aab",
      "metadata": {
        "deletable": false,
        "id": "ceaa7203-0210-43e8-a1d7-ef413cc48aab"
      },
      "outputs": [],
      "source": [
        "acc_baseline = y_train.value_counts(normalize=True).max()\n",
        "print(\"Baseline Accuracy:\", round(acc_baseline, 2))"
      ]
    },
    {
      "cell_type": "markdown",
      "id": "d4da0d3d-6636-451d-bb90-d2914ce4bde8",
      "metadata": {
        "deletable": false,
        "editable": false,
        "tags": [],
        "id": "d4da0d3d-6636-451d-bb90-d2914ce4bde8"
      },
      "source": [
        "## Iterar"
      ]
    },
    {
      "cell_type": "markdown",
      "id": "b3e9324e-1d8d-4866-937f-151f44306a3d",
      "metadata": {
        "deletable": false,
        "editable": false,
        "id": "b3e9324e-1d8d-4866-937f-151f44306a3d"
      },
      "source": [
        "### Exercício:\n",
        "Crie um Pipeline chamado `model_lr`. Ele deve ter um transformador `OneHotEncoder` e um preditor `LogisticRegression`. Certifique-se de definir o argumento `use_cat_names` para `True` em seu transformador."
      ]
    },
    {
      "cell_type": "code",
      "execution_count": null,
      "id": "57160f5e-b0f0-40f1-b055-46afd8d67e95",
      "metadata": {
        "deletable": false,
        "id": "57160f5e-b0f0-40f1-b055-46afd8d67e95"
      },
      "outputs": [],
      "source": [
        "model_lr = make_pipeline(\n",
        "    OneHotEncoder(use_cat_names=True),\n",
        "    LogisticRegression(max_iter=20000)\n",
        ")\n",
        "model_lr.fit(X_train,y_train)"
      ]
    },
    {
      "cell_type": "markdown",
      "id": "4be0e001-c5c4-49f6-abc1-df1170267642",
      "metadata": {
        "deletable": false,
        "editable": false,
        "id": "4be0e001-c5c4-49f6-abc1-df1170267642"
      },
      "source": [
        "## Avaliar"
      ]
    },
    {
      "cell_type": "markdown",
      "id": "494110a5-51ab-40ca-a064-40e959990b61",
      "metadata": {
        "deletable": false,
        "editable": false,
        "id": "494110a5-51ab-40ca-a064-40e959990b61"
      },
      "source": [
        "### Exercício:\n",
        "Calcule as pontuações de precisão de treinamento e teste para `model_lr`."
      ]
    },
    {
      "cell_type": "code",
      "execution_count": null,
      "id": "15bcf25d-2c39-4dc2-bc25-ef67be033a51",
      "metadata": {
        "deletable": false,
        "id": "15bcf25d-2c39-4dc2-bc25-ef67be033a51"
      },
      "outputs": [],
      "source": [
        "acc_train = accuracy_score(y_train, model_lr.predict(X_train))\n",
        "acc_test = model_lr.score(X_test, y_test)\n",
        "\n",
        "print(\"LR Training Accuracy:\", acc_train)\n",
        "print(\"LR Validation Accuracy:\", acc_test)"
      ]
    },
    {
      "cell_type": "markdown",
      "id": "3f4cefe3-fcc2-498f-9be5-f324d753c52c",
      "metadata": {
        "deletable": false,
        "editable": false,
        "id": "3f4cefe3-fcc2-498f-9be5-f324d753c52c"
      },
      "source": [
        "# Comunicar Resultados"
      ]
    },
    {
      "cell_type": "markdown",
      "id": "9551ac0a-d7f2-48f5-8e5b-5e1783318a14",
      "metadata": {
        "deletable": false,
        "editable": false,
        "id": "9551ac0a-d7f2-48f5-8e5b-5e1783318a14"
      },
      "source": [
        "### Exercício:\n",
        "Primeiro, extraia os nomes das características e importâncias do seu modelo. Em seguida, crie uma série pandas chamada `feat_imp`, onde o índice é `features` e os valores são o exponencial das suas `importances`."
      ]
    },
    {
      "cell_type": "code",
      "execution_count": null,
      "id": "a90ee03f-f34b-4fed-a2a3-f0afeab696d0",
      "metadata": {
        "deletable": false,
        "id": "a90ee03f-f34b-4fed-a2a3-f0afeab696d0"
      },
      "outputs": [],
      "source": [
        "features = model_lr.named_steps[\"onehotencoder\"].get_feature_names_out()\n",
        "importances = model_lr.named_steps[\"logisticregression\"].coef_[0]\n",
        "feat_imp = pd.Series(np.exp(importances), index=features).sort_values()\n",
        "feat_imp.head()"
      ]
    },
    {
      "cell_type": "markdown",
      "id": "c7a78530-86a7-46b6-a6a1-1b1a7dbc69fc",
      "metadata": {
        "deletable": false,
        "editable": false,
        "id": "c7a78530-86a7-46b6-a6a1-1b1a7dbc69fc"
      },
      "source": [
        "### Exercício:\n",
        "\n",
        "Crie um gráfico de barras horizontal com os dez maiores coeficientes de `feat_imp`. Certifique-se de rotular o eixo x como `\"Odds Ratio\"`.\n"
      ]
    },
    {
      "cell_type": "code",
      "execution_count": null,
      "id": "41f58673-655d-451a-a31b-1a6544d772d6",
      "metadata": {
        "deletable": false,
        "id": "41f58673-655d-451a-a31b-1a6544d772d6"
      },
      "outputs": [],
      "source": [
        "feat_imp.tail(10).plot(kind='barh')\n",
        "plt.xlabel(\"Odds Ratio\")"
      ]
    },
    {
      "cell_type": "markdown",
      "id": "afa4d9bf-a35f-4cf0-98d3-8d048841fb17",
      "metadata": {
        "deletable": false,
        "editable": false,
        "id": "afa4d9bf-a35f-4cf0-98d3-8d048841fb17"
      },
      "source": [
        "### Exercício:\n",
        "Crie um gráfico de barras horizontal com os dez menores coeficientes de `feat_imp`. Certifique-se de rotular o eixo x como `\"Odds Ratio\"`."
      ]
    },
    {
      "cell_type": "code",
      "execution_count": null,
      "id": "37dc464c-705d-440e-abd5-166def0c39b0",
      "metadata": {
        "deletable": false,
        "id": "37dc464c-705d-440e-abd5-166def0c39b0"
      },
      "outputs": [],
      "source": [
        "feat_imp.head(10).plot(kind='barh')\n",
        "plt.xlabel(\"Odds Ratio\")"
      ]
    },
    {
      "cell_type": "markdown",
      "id": "d03bb3b6-e827-450f-9c2f-032bceacb59f",
      "metadata": {
        "deletable": false,
        "editable": false,
        "id": "d03bb3b6-e827-450f-9c2f-032bceacb59f"
      },
      "source": [
        "## Explorar Ainda Mais"
      ]
    },
    {
      "cell_type": "markdown",
      "id": "70c0be91-6417-4377-8d86-481687202ca7",
      "metadata": {
        "deletable": false,
        "editable": false,
        "id": "70c0be91-6417-4377-8d86-481687202ca7"
      },
      "source": [
        "### Exercício:\n",
        "Quais municípios tiveram a maior proporção de edifícios severamente danificados? Crie um DataFrame `damage_by_vdcmun` agrupando `df` por `\"vdcmun_id\"` e, em seguida, calculando a média da coluna `\"severe_damage\"`. Certifique-se de classificar `damage_by_vdcmun` da maior para a menor proporção."
      ]
    },
    {
      "cell_type": "code",
      "execution_count": null,
      "id": "ecb69747-f08b-49b3-aad2-8fcb8ecc5bd5",
      "metadata": {
        "deletable": false,
        "id": "ecb69747-f08b-49b3-aad2-8fcb8ecc5bd5"
      },
      "outputs": [],
      "source": [
        "damage_by_vdcmun = (\n",
        "    df.groupby(\"vdcmun_id\")[\"severe_damage\"].mean().sort_values(ascending=False)\n",
        ").to_frame()\n",
        "damage_by_vdcmun"
      ]
    },
    {
      "cell_type": "markdown",
      "id": "d471d9eb-ce26-4885-adfa-a60ae23771fe",
      "metadata": {
        "deletable": false,
        "editable": false,
        "id": "d471d9eb-ce26-4885-adfa-a60ae23771fe"
      },
      "source": [
        "Crie um gráfico de linhas de `damage_by_vdcmun`. Rotule seu eixo x como `\"Municipality ID\"`, seu eixo y como `\"% of Total Households\"` e dê ao seu gráfico o título `\"Household Damage by Municipality\"`."
      ]
    },
    {
      "cell_type": "code",
      "execution_count": null,
      "id": "dc9b5d64-b1db-401c-b5f3-28a51ca2decc",
      "metadata": {
        "deletable": false,
        "id": "dc9b5d64-b1db-401c-b5f3-28a51ca2decc"
      },
      "outputs": [],
      "source": [
        "# Plot line\n",
        "plt.plot(damage_by_vdcmun.values)\n",
        "plt.xticks(range(len(damage_by_vdcmun)), labels=damage_by_vdcmun.index)\n",
        "plt.yticks(np.arange(0.0, 1.1, 0.2))\n",
        "plt.xlabel(\"Municipality ID\")\n",
        "plt.ylabel(\"% of Total Households\")\n",
        "plt.title(\"Severe Damage by Municipality\");"
      ]
    },
    {
      "cell_type": "markdown",
      "id": "a662e1c8-cbe0-469c-9cb9-abe428b527eb",
      "metadata": {
        "deletable": false,
        "editable": false,
        "id": "a662e1c8-cbe0-469c-9cb9-abe428b527eb"
      },
      "source": [
        "Dada a plotagem acima, nossa próxima pergunta é: Como as populações Gurung e Kumal estão distribuídas por esses municípios?"
      ]
    },
    {
      "cell_type": "markdown",
      "id": "afa0fb8f-c496-4288-94ce-f7ec7db0b2f3",
      "metadata": {
        "deletable": false,
        "editable": false,
        "id": "afa0fb8f-c496-4288-94ce-f7ec7db0b2f3"
      },
      "source": [
        "### Exercício:\n",
        "Crie uma nova coluna em `damage_by_vdcmun` que contenha a proporção de lares Gurung em cada município."
      ]
    },
    {
      "cell_type": "code",
      "execution_count": null,
      "id": "61398132-62b1-4579-af67-63e780c8b5e7",
      "metadata": {
        "deletable": false,
        "id": "61398132-62b1-4579-af67-63e780c8b5e7"
      },
      "outputs": [],
      "source": [
        "damage_by_vdcmun[\"Gurung\"] = (\n",
        "    df[df[\"caste_household\"] == \"Gurung\"]\n",
        "    .groupby(\"vdcmun_id\")[\"severe_damage\"]\n",
        "    .count() /\n",
        "    df.groupby(\"vdcmun_id\")[\"severe_damage\"]\n",
        "    .count()\n",
        ")\n",
        "damage_by_vdcmun"
      ]
    },
    {
      "cell_type": "markdown",
      "id": "caea7d3d-ad20-4d81-b1a5-42cb7deccd4b",
      "metadata": {
        "deletable": false,
        "editable": false,
        "id": "caea7d3d-ad20-4d81-b1a5-42cb7deccd4b"
      },
      "source": [
        "### Exercício:\n",
        "Crie uma nova coluna em `damage_by_vdcmun` que contenha a proporção de lares Kumal em cada município. Substitua quaisquer valores `NaN` na coluna por `0`."
      ]
    },
    {
      "cell_type": "code",
      "execution_count": null,
      "id": "95e635f3-c6b7-4931-ac7f-0991e37691f3",
      "metadata": {
        "deletable": false,
        "id": "95e635f3-c6b7-4931-ac7f-0991e37691f3"
      },
      "outputs": [],
      "source": [
        "damage_by_vdcmun[\"Kumal\"] = (\n",
        "    df[df[\"caste_household\"] == \"Kumal\"]\n",
        "    .groupby(\"vdcmun_id\")[\"severe_damage\"]\n",
        "    .count() /\n",
        "    df.groupby(\"vdcmun_id\")[\"severe_damage\"]\n",
        "    .count()\n",
        ").fillna(0)\n",
        "damage_by_vdcmun"
      ]
    },
    {
      "cell_type": "markdown",
      "id": "282c833c-3fc4-4be8-8d24-edd29b199f68",
      "metadata": {
        "deletable": false,
        "editable": false,
        "id": "282c833c-3fc4-4be8-8d24-edd29b199f68"
      },
      "source": [
        "### Exercício:\n",
        "Crie uma visualização que combine o gráfico de linhas de lares severamente danificados que você fez acima com um gráfico de barras empilhadas mostrando a proporção de lares Gurung e Kumal em cada município. Rotule seu eixo x como `\"Municipality ID\"` e seu eixo y como `\"% of Total Households\"`."
      ]
    },
    {
      "cell_type": "code",
      "execution_count": null,
      "id": "277b4a0c-8ee1-4dda-b0c6-5aa520f8c6da",
      "metadata": {
        "deletable": false,
        "id": "277b4a0c-8ee1-4dda-b0c6-5aa520f8c6da"
      },
      "outputs": [],
      "source": [
        "# Plot line\n",
        "damage_by_vdcmun.drop(columns=\"severe_damage\").plot(\n",
        "    kind='bar', stacked=True\n",
        ")\n",
        "plt.plot(damage_by_vdcmun[\"severe_damage\"].values)\n",
        "plt.xticks(range(len(damage_by_vdcmun)), labels=damage_by_vdcmun.index)\n",
        "plt.yticks(np.arange(0.0, 1.1, 0.2))\n",
        "\n",
        "plt.xlabel(\"Municipality ID\")\n",
        "plt.ylabel(\"% of Total Households\")\n",
        "plt.title(\"Household Caste by Municipality\")\n",
        "plt.legend();"
      ]
    },
    {
      "cell_type": "markdown",
      "source": [
        "# Conclusão:\n",
        "Nosso modelo avaliou os lares com base na casta, embora essa característica não tenha relação com o nível de danos em um edifício.\n",
        "\n",
        "Isso ilustra o conceito de \"arma de destruição matemática\", que critica como os modelos estatísticos podem reforçar desigualdades sociais, utilizando variáveis que não são relevantes para a questão em análise.\n",
        "\n",
        "Isso significa que é fundamental ser cauteloso ao selecionar as variáveis que serão utilizadas em modelos de machine learning ou análise de dados.\n",
        "\n",
        "Utilizar características que não são relevantes ou que possam introduzir preconceitos pode resultar em decisões equivocadas e perpetuar desigualdades. Com isso, o cientista de dados deve:\n",
        "\n",
        "- __Fazer uma análise crítica dos dados:__ Avaliar quais variáveis realmente influenciam o que está sendo modelado e eliminar aquelas que não têm relevância.\n",
        "\n",
        "- __Ser ético:__ Considerar as implicações sociais das análises e modelos, garantindo que não estejam contribuindo para discriminação ou injustiça.\n",
        "\n",
        "- __Validar e testar modelos:__ Usar métodos rigorosos para testar a robustez e a validade dos modelos, garantindo que os resultados sejam justos e precisos.\n",
        "\n",
        "- __Interpretar resultados com cautela:__ Ser consciente das limitações dos modelos e das análises, e como as conclusões podem ser interpretadas erroneamente se baseadas em dados tendenciosos.\n",
        "\n",
        "Em resumo, é um lembrete de que a ciência de dados não é apenas técnica, mas também social e ética."
      ],
      "metadata": {
        "id": "iKArYmPykl6b"
      },
      "id": "iKArYmPykl6b"
    }
  ],
  "metadata": {
    "kernelspec": {
      "display_name": "Python 3 (ipykernel)",
      "language": "python",
      "name": "python3"
    },
    "language_info": {
      "codemirror_mode": {
        "name": "ipython",
        "version": 3
      },
      "file_extension": ".py",
      "mimetype": "text/x-python",
      "name": "python",
      "nbconvert_exporter": "python",
      "pygments_lexer": "ipython3",
      "version": "3.11.4"
    },
    "colab": {
      "provenance": []
    }
  },
  "nbformat": 4,
  "nbformat_minor": 5
}