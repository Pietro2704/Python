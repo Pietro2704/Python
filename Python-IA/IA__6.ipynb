{
  "cells": [
    {
      "cell_type": "markdown",
      "id": "3249299a-48f7-45e9-9b94-1c74fcd5989a",
      "metadata": {
        "deletable": false,
        "editable": false,
        "id": "3249299a-48f7-45e9-9b94-1c74fcd5989a"
      },
      "source": [
        "# Manipulando Dados com SQL"
      ]
    },
    {
      "cell_type": "code",
      "execution_count": null,
      "id": "489eaac3-6274-4594-81fe-40708b9a7d7b",
      "metadata": {
        "deletable": false,
        "editable": false,
        "id": "489eaac3-6274-4594-81fe-40708b9a7d7b",
        "init_cell": true,
        "tags": []
      },
      "outputs": [],
      "source": [
        "import sqlite3\n",
        "import pandas as pd"
      ]
    },
    {
      "cell_type": "markdown",
      "id": "27a78900-71b4-4fc4-a069-1e03dea39e1a",
      "metadata": {
        "deletable": false,
        "editable": false,
        "id": "27a78900-71b4-4fc4-a069-1e03dea39e1a"
      },
      "source": [
        "## Conexão\n",
        "O que são **Funções Mágicas?**\n",
        "\n",
        "As funções mágicas no Jupyter Notebook são comandos que começam com um ou dois sinais de porcentagem (% ou %%) e fornecem funcionalidades adicionais que não são parte da linguagem principal do notebook (como Python).\n",
        "\n",
        "Elas são divididas em dois tipos principais:\n",
        "- Line Magics (%): Afetam apenas a linha onde são usadas.\n",
        "- Cell Magics (%%): Afetam toda a célula onde são usadas.\n",
        "\n",
        "Para trabalhar com **SQL** dentro de um Jupyter Notebook, a extensão **ipython-sql** é amplamente utilizada.\n",
        "\n",
        "Ela fornece as funções mágicas %sql e %%sql, que permitem conectar-se a bancos de dados SQL e executar consultas diretamente no notebook."
      ]
    },
    {
      "cell_type": "code",
      "execution_count": null,
      "id": "uRw4LwddFkrZ",
      "metadata": {
        "id": "uRw4LwddFkrZ"
      },
      "outputs": [],
      "source": [
        "# !pip install ipython-sql"
      ]
    },
    {
      "cell_type": "code",
      "execution_count": null,
      "id": "9779113e-ca27-46de-80f3-c7a37838b8f2",
      "metadata": {
        "deletable": false,
        "id": "9779113e-ca27-46de-80f3-c7a37838b8f2",
        "tags": []
      },
      "outputs": [],
      "source": [
        "# Magic func\n",
        "%load_ext sql\n",
        "%sql sqlite:////content/drive/MyDrive/SQLITE/banco.db"
      ]
    },
    {
      "cell_type": "markdown",
      "id": "fd7b56db-bb81-43e4-82fd-5a5fe35f7448",
      "metadata": {
        "deletable": false,
        "editable": false,
        "id": "fd7b56db-bb81-43e4-82fd-5a5fe35f7448"
      },
      "source": [
        "## Explorar"
      ]
    },
    {
      "cell_type": "markdown",
      "id": "WEsQAmSaC996",
      "metadata": {
        "id": "WEsQAmSaC996"
      },
      "source": [
        "### Exercício:\n",
        "\n",
        "Selecione todas as linhas e colunas da tabela sqlite_schema e examine a saída.\n",
        "\n",
        "Quantas tabelas há no banco de dados banco.db?\n",
        "\n",
        "Que informações elas contêm?"
      ]
    },
    {
      "cell_type": "code",
      "execution_count": null,
      "id": "56b7f670-fafd-4499-9d1a-df1881d8b583",
      "metadata": {
        "deletable": false,
        "id": "56b7f670-fafd-4499-9d1a-df1881d8b583",
        "tags": []
      },
      "outputs": [],
      "source": [
        "%%sql\n",
        "SELECT * FROM sqlite_schema"
      ]
    },
    {
      "cell_type": "markdown",
      "id": "Q-_xXA4jDF5s",
      "metadata": {
        "id": "Q-_xXA4jDF5s"
      },
      "source": [
        "### Exercício:\n",
        "Selecione a coluna `name` da tabela `sqlite_schema`, mostrando apenas as linhas onde o **`type`** é `\"table\"`.\n"
      ]
    },
    {
      "cell_type": "code",
      "execution_count": null,
      "id": "6ca7ff61-1c1f-48bf-8a83-8451ffec8b66",
      "metadata": {
        "deletable": false,
        "id": "6ca7ff61-1c1f-48bf-8a83-8451ffec8b66",
        "tags": []
      },
      "outputs": [],
      "source": [
        "%%sql"
      ]
    },
    {
      "cell_type": "markdown",
      "id": "YFgpRcDuDPj7",
      "metadata": {
        "id": "YFgpRcDuDPj7"
      },
      "source": [
        "### Exercício:\n",
        "Selecione todas as colunas da tabela id_map, limitando seus resultados às primeiras cinco linhas.\n",
        "\n",
        "Como os dados estão organizados? Que tipo de observação cada linha representa? Como você acha que as colunas household_id, building_id, vdcmun_id e district_id estão relacionadas entre si?"
      ]
    },
    {
      "cell_type": "code",
      "execution_count": null,
      "id": "71e00903-a311-4ff3-ba3d-ea674436d4a7",
      "metadata": {
        "deletable": false,
        "id": "71e00903-a311-4ff3-ba3d-ea674436d4a7",
        "tags": []
      },
      "outputs": [],
      "source": [
        "%%sql\n"
      ]
    },
    {
      "cell_type": "markdown",
      "id": "fd7551e7-4032-492c-89d4-47b998d335fe",
      "metadata": {
        "deletable": false,
        "editable": false,
        "id": "fd7551e7-4032-492c-89d4-47b998d335fe"
      },
      "source": [
        "### Exercício:\n",
        "\n",
        "Quantas observações há na tabela `id_map`? Use o comando `count` para descobrir.\n"
      ]
    },
    {
      "cell_type": "code",
      "execution_count": null,
      "id": "bc6cb5e0-240a-43aa-938f-0d33cfcc7a0b",
      "metadata": {
        "deletable": false,
        "id": "bc6cb5e0-240a-43aa-938f-0d33cfcc7a0b",
        "tags": []
      },
      "outputs": [],
      "source": [
        "%%sql"
      ]
    },
    {
      "cell_type": "markdown",
      "id": "35284d1c-48ea-4489-911f-9782ab50bd3d",
      "metadata": {
        "deletable": false,
        "editable": false,
        "id": "35284d1c-48ea-4489-911f-9782ab50bd3d"
      },
      "source": [
        "### Exercício:\n",
        "\n",
        "Quais distritos estão representados na tabela `id_map`? Use o comando `distinct` para determinar os valores únicos na coluna **`district_id`**."
      ]
    },
    {
      "cell_type": "code",
      "execution_count": null,
      "id": "8f500582-54ae-42b9-846e-faf638cea156",
      "metadata": {
        "deletable": false,
        "id": "8f500582-54ae-42b9-846e-faf638cea156",
        "tags": []
      },
      "outputs": [],
      "source": [
        "%%sql\n"
      ]
    },
    {
      "cell_type": "markdown",
      "id": "7d1ed66e-bc1b-4b85-a276-91fe09ac8cd3",
      "metadata": {
        "deletable": false,
        "editable": false,
        "id": "7d1ed66e-bc1b-4b85-a276-91fe09ac8cd3"
      },
      "source": [
        "### Exercício:\n",
        "Quantos prédios existem na tabela `id_map`? Combine os comandos `count` e `distinct` para calcular o número de valores únicos na coluna **`building_id`**."
      ]
    },
    {
      "cell_type": "code",
      "execution_count": null,
      "id": "99ac2654-e442-4bd0-b61f-f3f20e5d921a",
      "metadata": {
        "deletable": false,
        "id": "99ac2654-e442-4bd0-b61f-f3f20e5d921a",
        "tags": []
      },
      "outputs": [],
      "source": [
        "%%sql\n"
      ]
    },
    {
      "cell_type": "markdown",
      "id": "81abfb2c-f2ef-4a4f-9c95-4a77978a0225",
      "metadata": {
        "deletable": false,
        "editable": false,
        "id": "81abfb2c-f2ef-4a4f-9c95-4a77978a0225"
      },
      "source": [
        "### Exercício:\n",
        "\n",
        "Para o nosso modelo, vamos focar em Gorkha (distrito `4`). Selecione todas as colunas da tabela `id_map`, mostrando apenas as linhas onde o **`district_id`** é `4` e limitando seus resultados às primeiras cinco linhas."
      ]
    },
    {
      "cell_type": "code",
      "execution_count": null,
      "id": "f946c744-d5ac-4b7a-84eb-0aa3abfce0fe",
      "metadata": {
        "deletable": false,
        "id": "f946c744-d5ac-4b7a-84eb-0aa3abfce0fe",
        "tags": []
      },
      "outputs": [],
      "source": [
        "%%sql\n"
      ]
    },
    {
      "cell_type": "markdown",
      "id": "db689349-e167-43d3-8034-72774c188d4f",
      "metadata": {
        "deletable": false,
        "editable": false,
        "id": "db689349-e167-43d3-8034-72774c188d4f"
      },
      "source": [
        "### Exercício:\n",
        "Quantas observações na tabela `id_map` vêm de Gorkha? Use os comandos `count` e `WHERE` juntos para calcular a resposta."
      ]
    },
    {
      "cell_type": "code",
      "execution_count": null,
      "id": "b8c6820c-13dd-48eb-8671-d0638d5d1fe8",
      "metadata": {
        "deletable": false,
        "id": "b8c6820c-13dd-48eb-8671-d0638d5d1fe8",
        "tags": []
      },
      "outputs": [],
      "source": [
        "%%sql"
      ]
    },
    {
      "cell_type": "markdown",
      "id": "838942e0-f0db-4266-beb5-3dfc9780480f",
      "metadata": {
        "deletable": false,
        "editable": false,
        "id": "838942e0-f0db-4266-beb5-3dfc9780480f"
      },
      "source": [
        "### Exercício:\n",
        "Quantos prédios na tabela `id_map` estão em Gorkha? Combine os comandos `count` e `distinct` para calcular o número de valores únicos na coluna **`building_id`**, considerando apenas as linhas onde o **`district_id`** é `4`.\n"
      ]
    },
    {
      "cell_type": "code",
      "execution_count": null,
      "id": "ebadb63c-be74-4e4d-9fb3-79bcdc7b6f47",
      "metadata": {
        "deletable": false,
        "id": "ebadb63c-be74-4e4d-9fb3-79bcdc7b6f47",
        "tags": []
      },
      "outputs": [],
      "source": [
        "%%sql"
      ]
    },
    {
      "cell_type": "markdown",
      "id": "647b6b9a-3901-46fd-87b9-fb11e46f1f31",
      "metadata": {
        "deletable": false,
        "editable": false,
        "id": "647b6b9a-3901-46fd-87b9-fb11e46f1f31"
      },
      "source": [
        "### Exercício:\n",
        "Selecione todas as colunas da tabela building_structure e limite seus resultados às primeiras cinco linhas.\n",
        "\n",
        "Que informações estão nesta tabela? O que cada linha representa? Como isso se relaciona com as informações na tabela id_map?"
      ]
    },
    {
      "cell_type": "code",
      "execution_count": null,
      "id": "e578867f-8a7d-4be6-95a2-7077305e81ed",
      "metadata": {
        "deletable": false,
        "id": "e578867f-8a7d-4be6-95a2-7077305e81ed",
        "tags": []
      },
      "outputs": [],
      "source": [
        "%%sql\n"
      ]
    },
    {
      "cell_type": "markdown",
      "id": "23e5dbf0-7172-472c-846c-10cd3c00d477",
      "metadata": {
        "deletable": false,
        "editable": false,
        "id": "23e5dbf0-7172-472c-846c-10cd3c00d477"
      },
      "source": [
        "### Exercício:\n",
        "Quantos prédios existem na tabela building_structure? Use o comando count para descobrir."
      ]
    },
    {
      "cell_type": "code",
      "execution_count": null,
      "id": "d1845a0f-bf0d-4a1d-9395-a4e957864d6f",
      "metadata": {
        "deletable": false,
        "id": "d1845a0f-bf0d-4a1d-9395-a4e957864d6f",
        "tags": []
      },
      "outputs": [],
      "source": [
        "%%sql\n"
      ]
    },
    {
      "cell_type": "markdown",
      "id": "f6e8e57f-cd33-4901-8ff7-25f37e5ef2fb",
      "metadata": {
        "deletable": false,
        "editable": false,
        "id": "f6e8e57f-cd33-4901-8ff7-25f37e5ef2fb"
      },
      "source": [
        "### Exercício:\n",
        "Existem mais de 200.000 prédios na tabela `building_structure`, mas como podemos recuperar apenas os prédios que estão em Gorkha?\n",
        "\n",
        "Use o comando `JOIN` para juntar as tabelas `id_map` e `building_structure`, mostrando apenas os prédios onde o **`district_id`** é `4` e limitando seus resultados às primeiras cinco linhas da nova tabela."
      ]
    },
    {
      "cell_type": "code",
      "execution_count": null,
      "id": "9b515665-3b59-4b0b-af20-fa0506ced7a8",
      "metadata": {
        "deletable": false,
        "id": "9b515665-3b59-4b0b-af20-fa0506ced7a8",
        "tags": []
      },
      "outputs": [],
      "source": [
        "%%sql"
      ]
    },
    {
      "cell_type": "markdown",
      "id": "775b552c-72f0-4426-b151-814f8498119a",
      "metadata": {
        "deletable": false,
        "editable": false,
        "id": "775b552c-72f0-4426-b151-814f8498119a"
      },
      "source": [
        "Na tabela que acabamos de criar, cada linha representa um lar único em Gorkha. Como podemos criar uma tabela onde cada linha representa um prédio único?"
      ]
    },
    {
      "cell_type": "markdown",
      "id": "36b36f82-53ab-4c62-a99a-25bc3b82bfbb",
      "metadata": {
        "deletable": false,
        "editable": false,
        "id": "36b36f82-53ab-4c62-a99a-25bc3b82bfbb"
      },
      "source": [
        "### Exercício:\n",
        "\n",
        "Use o comando `distinct` para criar uma coluna com todos os IDs de prédios únicos na tabela `id_map`.\n",
        "\n",
        "Junte essa coluna com todas as colunas da tabela `building_structure`, mostrando apenas os prédios onde o **`district_id`** é `4` e limitando seus resultados às primeiras cinco linhas da nova tabela."
      ]
    },
    {
      "cell_type": "code",
      "execution_count": null,
      "id": "3c8a6ea0-fb79-4988-b317-9c9c65d12d6b",
      "metadata": {
        "deletable": false,
        "id": "3c8a6ea0-fb79-4988-b317-9c9c65d12d6b",
        "tags": []
      },
      "outputs": [],
      "source": [
        "%%sql\n"
      ]
    },
    {
      "cell_type": "markdown",
      "id": "4003ac4e-cf3d-42c7-83f9-768f22f73414",
      "metadata": {
        "deletable": false,
        "editable": false,
        "id": "4003ac4e-cf3d-42c7-83f9-768f22f73414"
      },
      "source": [
        "Combinamos as tabelas `id_map` e `building_structure` para criar uma tabela com todos os prédios em Gorkha, mas a última peça de dados necessária para nosso modelo, o dano que cada prédio sofreu durante o terremoto, está na tabela `building_damage`."
      ]
    },
    {
      "cell_type": "markdown",
      "id": "046ff321-45d6-4d82-bc29-4ca9dbff8d5e",
      "metadata": {
        "deletable": false,
        "editable": false,
        "id": "046ff321-45d6-4d82-bc29-4ca9dbff8d5e"
      },
      "source": [
        "### Exercicio:\n",
        "Como podemos combinar todas as três tabelas? Usando a consulta que você criou na última tarefa como base, inclua a coluna **`damage_grade`** à sua tabela adicionando um segundo `JOIN` para a tabela `building_damage`. Certifique-se de limitar seus resultados às primeiras cinco linhas da nova tabela.\n"
      ]
    },
    {
      "cell_type": "code",
      "execution_count": null,
      "id": "84b84662-4fed-4dfe-8eb3-c2a527ecd5e0",
      "metadata": {
        "deletable": false,
        "id": "84b84662-4fed-4dfe-8eb3-c2a527ecd5e0",
        "tags": []
      },
      "outputs": [],
      "source": [
        "%%sql\n"
      ]
    },
    {
      "cell_type": "markdown",
      "id": "6fe8ea8f-24eb-47e8-9e1e-b3a60cbc04f8",
      "metadata": {
        "deletable": false,
        "editable": false,
        "id": "6fe8ea8f-24eb-47e8-9e1e-b3a60cbc04f8",
        "tags": []
      },
      "source": [
        "## Importação"
      ]
    },
    {
      "cell_type": "markdown",
      "id": "38402a9c-b8e6-4b67-a510-ff5994ae02ec",
      "metadata": {
        "deletable": false,
        "editable": false,
        "id": "38402a9c-b8e6-4b67-a510-ff5994ae02ec"
      },
      "source": [
        "### Exercício:\n",
        "\n",
        "Use o método `connect` da biblioteca sqlite3 para se conectar ao banco de dados.\n"
      ]
    },
    {
      "cell_type": "code",
      "execution_count": null,
      "id": "a521f96d-974a-42dc-bf7a-4439f0bc73fe",
      "metadata": {
        "deletable": false,
        "id": "a521f96d-974a-42dc-bf7a-4439f0bc73fe",
        "tags": []
      },
      "outputs": [],
      "source": [
        "conn = sqlite3.connect('')\n",
        "type(conn)"
      ]
    },
    {
      "cell_type": "markdown",
      "id": "99fa42da-85eb-4ab3-88b5-8b8823834874",
      "metadata": {
        "deletable": false,
        "editable": false,
        "id": "99fa42da-85eb-4ab3-88b5-8b8823834874"
      },
      "source": [
        "### Exercício:\n",
        "Coloque sua última consulta SQL em uma string e atribua-a à variável `query`."
      ]
    },
    {
      "cell_type": "code",
      "execution_count": null,
      "id": "165e85ec-efc7-4bcc-bae3-96859c70561f",
      "metadata": {
        "deletable": false,
        "id": "165e85ec-efc7-4bcc-bae3-96859c70561f",
        "tags": []
      },
      "outputs": [],
      "source": [
        "query = \"\"\"\n",
        "\n",
        "\"\"\"\n",
        "print(query)"
      ]
    },
    {
      "cell_type": "markdown",
      "id": "40cc8cb7-d701-4ab3-95a0-eb8178271baa",
      "metadata": {
        "deletable": false,
        "editable": false,
        "id": "40cc8cb7-d701-4ab3-95a0-eb8178271baa"
      },
      "source": [
        "### Exercício:\n",
        "Use o read_sql da biblioteca pandas para criar um DataFrame a partir de sua query. Certifique-se de que o building_id esteja definido como sua coluna de índice.\n",
        "\n",
        "__Dica:__ Sua tabela pode ter duas colunas `building_id`, e isso tornará difícil definir como a coluna de índice para seu DataFrame.\n",
        "\n",
        "Se você enfrentar esse problema, adicione um `alias` para uma das colunas `building_id` em sua consulta usando `AS`"
      ]
    },
    {
      "cell_type": "code",
      "execution_count": null,
      "id": "fa9e252c-704f-4409-9eec-cbbdeb4a1e6e",
      "metadata": {
        "deletable": false,
        "id": "fa9e252c-704f-4409-9eec-cbbdeb4a1e6e",
        "tags": []
      },
      "outputs": [],
      "source": [
        "df = pd.read_sql(query, conn)\n",
        "df.head()"
      ]
    },
    {
      "cell_type": "markdown",
      "id": "7e60ef88-f74a-4535-a61b-6108772542e0",
      "metadata": {
        "deletable": false,
        "editable": false,
        "id": "7e60ef88-f74a-4535-a61b-6108772542e0"
      },
      "source": [
        "# Previsão de Dano com Regressão Logística"
      ]
    },
    {
      "cell_type": "code",
      "source": [
        "# !pip install category_encoders"
      ],
      "metadata": {
        "id": "gn9PYl5eF0Zd"
      },
      "id": "gn9PYl5eF0Zd",
      "execution_count": null,
      "outputs": []
    },
    {
      "cell_type": "code",
      "execution_count": null,
      "id": "060b7d53-42ca-48be-a131-3453a1338857",
      "metadata": {
        "deletable": false,
        "editable": false,
        "id": "060b7d53-42ca-48be-a131-3453a1338857",
        "init_cell": true,
        "tags": []
      },
      "outputs": [],
      "source": [
        "import sqlite3\n",
        "import numpy as np\n",
        "import pandas as pd\n",
        "import matplotlib.pyplot as plt\n",
        "import seaborn as sns\n",
        "from sklearn.model_selection import train_test_split\n",
        "from sklearn.pipeline import Pipeline, make_pipeline\n",
        "from category_encoders import OneHotEncoder\n",
        "from sklearn.linear_model import LogisticRegression\n",
        "from sklearn.metrics import accuracy_score"
      ]
    },
    {
      "cell_type": "markdown",
      "id": "f89792f1-bdc7-4846-b118-4f4399c5a08b",
      "metadata": {
        "deletable": false,
        "editable": false,
        "id": "f89792f1-bdc7-4846-b118-4f4399c5a08b"
      },
      "source": [
        "# Preparando Dados"
      ]
    },
    {
      "cell_type": "markdown",
      "id": "d1081f1b-0e9f-4a14-ac46-ba2301b23ab7",
      "metadata": {
        "deletable": false,
        "editable": false,
        "id": "d1081f1b-0e9f-4a14-ac46-ba2301b23ab7"
      },
      "source": [
        "## Import"
      ]
    },
    {
      "cell_type": "code",
      "execution_count": null,
      "id": "10c26181-db22-488d-ab03-fc76e00412c5",
      "metadata": {
        "deletable": false,
        "id": "10c26181-db22-488d-ab03-fc76e00412c5",
        "tags": []
      },
      "outputs": [],
      "source": [
        "def wrangle(db_path):\n",
        "    # Connect to database\n",
        "    conn = sqlite3.connect(db_path)\n",
        "\n",
        "    # Construct query\n",
        "    query = \"\"\"\n",
        "        SELECT distinct(i.building_id) AS b_id,\n",
        "           s.*,\n",
        "           d.damage_grade\n",
        "        FROM id_map AS i\n",
        "        JOIN building_structure AS s ON i.building_id = s.building_id\n",
        "        JOIN building_damage AS d ON i.building_id = d.building_id\n",
        "        WHERE district_id = 4\n",
        "    \"\"\"\n",
        "\n",
        "    # Read query results into DataFrame\n",
        "    df = ...\n",
        "\n",
        "    return df"
      ]
    },
    {
      "cell_type": "markdown",
      "id": "f3ce879a-e68f-431b-9248-9d975d2650d3",
      "metadata": {
        "deletable": false,
        "editable": false,
        "id": "f3ce879a-e68f-431b-9248-9d975d2650d3"
      },
      "source": [
        "### Exercício:\n",
        "Complete a função `wrangle` acima para que ela retorne os resultados de `query` como um DataFrame. Certifique-se de que a coluna de índice esteja definida como `\"b_id\"`. Além disso, o caminho para o banco de dados SQLite é `\"banco.db\"`.\n"
      ]
    },
    {
      "cell_type": "code",
      "execution_count": null,
      "id": "153a9d8d-0799-491b-a84d-d8c7d313de77",
      "metadata": {
        "deletable": false,
        "id": "153a9d8d-0799-491b-a84d-d8c7d313de77",
        "tags": []
      },
      "outputs": [],
      "source": [
        "df = wrangle(\"\")\n",
        "df.head(15)"
      ]
    },
    {
      "cell_type": "markdown",
      "id": "87f29296-dd21-4313-8dfe-003e314fd285",
      "metadata": {
        "deletable": false,
        "editable": false,
        "id": "87f29296-dd21-4313-8dfe-003e314fd285"
      },
      "source": [
        "Parece haver várias características em `df` com informações sobre a condição de uma propriedade após o terremoto."
      ]
    },
    {
      "cell_type": "markdown",
      "id": "f8063973-6854-4301-9d96-2cf5ab715d6f",
      "metadata": {
        "deletable": false,
        "editable": false,
        "id": "f8063973-6854-4301-9d96-2cf5ab715d6f"
      },
      "source": [
        "### Exercício:\n",
        "Adicione à sua função `wrangle` para que essas características sejam removidas do DataFrame. Não se esqueça de reexecutar todas as células acima.\n"
      ]
    },
    {
      "cell_type": "code",
      "execution_count": null,
      "id": "4166ad7d-f562-4068-823d-0d79a9484770",
      "metadata": {
        "id": "4166ad7d-f562-4068-823d-0d79a9484770",
        "tags": []
      },
      "outputs": [],
      "source": []
    },
    {
      "cell_type": "code",
      "execution_count": null,
      "id": "7d0fb999-2922-40b9-a089-2cf9f696f563",
      "metadata": {
        "deletable": false,
        "id": "7d0fb999-2922-40b9-a089-2cf9f696f563",
        "tags": []
      },
      "outputs": [],
      "source": [
        "print(df.info())"
      ]
    },
    {
      "cell_type": "markdown",
      "id": "4780a879-483f-4c34-bc94-2d7facbbe541",
      "metadata": {
        "deletable": false,
        "editable": false,
        "id": "4780a879-483f-4c34-bc94-2d7facbbe541"
      },
      "source": [
        "Queremos construir um modelo de **classificação binária**, mas nosso alvo atual, `\"damage_grade\"`, possui mais de duas categorias."
      ]
    },
    {
      "cell_type": "markdown",
      "id": "8acbb2b6-be6e-4cad-b78e-780de0071c52",
      "metadata": {
        "deletable": false,
        "editable": false,
        "id": "8acbb2b6-be6e-4cad-b78e-780de0071c52"
      },
      "source": [
        "### Exercício:\n",
        "Adicione à sua função `wrangle` para que ela crie uma nova coluna de alvo chamada `\"severe_damage\"`. Para os prédios onde o `\"damage_grade\"` é Grade 4 ou acima, `\"severe_damage\"` deve ser `1`. Para todos os outros prédios, `\"severe_damage\"` deve ser `0`. Não se esqueça de remover `\"damage_grade\"` para evitar vazamento de dados e reexecute todas as células acima."
      ]
    },
    {
      "cell_type": "code",
      "execution_count": null,
      "id": "d7ff9bdf-aecf-4df3-bb33-2682ebb6cecc",
      "metadata": {
        "id": "d7ff9bdf-aecf-4df3-bb33-2682ebb6cecc"
      },
      "outputs": [],
      "source": []
    },
    {
      "cell_type": "code",
      "execution_count": null,
      "id": "90be38c4-2c57-4bd4-8cba-ab8f1623ed1a",
      "metadata": {
        "deletable": false,
        "id": "90be38c4-2c57-4bd4-8cba-ab8f1623ed1a",
        "tags": []
      },
      "outputs": [],
      "source": [
        "print(df[\"severe_damage\"].value_counts())"
      ]
    },
    {
      "cell_type": "markdown",
      "id": "069b72f7-0e18-4bc0-8e3a-57173f20c775",
      "metadata": {
        "deletable": false,
        "editable": false,
        "id": "069b72f7-0e18-4bc0-8e3a-57173f20c775"
      },
      "source": [
        "## Explorar"
      ]
    },
    {
      "cell_type": "markdown",
      "id": "f5166d21-b3ef-4d6d-9c2e-13de228009ed",
      "metadata": {
        "deletable": false,
        "editable": false,
        "id": "f5166d21-b3ef-4d6d-9c2e-13de228009ed"
      },
      "source": [
        "Como nosso modelo será um tipo de modelo linear, precisamos garantir que não haja problemas de multicolinearidade em nosso conjunto de dados."
      ]
    },
    {
      "cell_type": "markdown",
      "id": "0529e84c-3043-48e6-bac1-e292fca82eaa",
      "metadata": {
        "deletable": false,
        "editable": false,
        "id": "0529e84c-3043-48e6-bac1-e292fca82eaa"
      },
      "source": [
        "### Exercício:\n",
        "Plote um mapa de calor de correlação das características numéricas restantes em df. Como \"severe_damage\" será seu alvo, você não precisa incluí-lo no mapa de calor.\n",
        "\n",
        "Você vê alguma característica que precisa ser removida?"
      ]
    },
    {
      "cell_type": "code",
      "execution_count": null,
      "id": "73ad5d32-e72b-4684-92fc-98e02ce674e6",
      "metadata": {
        "deletable": false,
        "id": "73ad5d32-e72b-4684-92fc-98e02ce674e6",
        "tags": []
      },
      "outputs": [],
      "source": []
    },
    {
      "cell_type": "markdown",
      "id": "64af1c85-670f-4f76-a593-bfd31e8b95b2",
      "metadata": {
        "deletable": false,
        "editable": false,
        "id": "64af1c85-670f-4f76-a593-bfd31e8b95b2"
      },
      "source": [
        "### Exercício:\n",
        "Altere a função `wrangle` para que ela remova a coluna `\"count_floors_pre_eq\"`. Não se esqueça de reexecutar todas as células acima.\n"
      ]
    },
    {
      "cell_type": "code",
      "execution_count": null,
      "id": "eYhIHK3UGVmy",
      "metadata": {
        "id": "eYhIHK3UGVmy"
      },
      "outputs": [],
      "source": []
    },
    {
      "cell_type": "markdown",
      "id": "eabbf0ab-7f0d-4970-9f2e-8e3637667220",
      "metadata": {
        "deletable": false,
        "editable": false,
        "id": "eabbf0ab-7f0d-4970-9f2e-8e3637667220"
      },
      "source": [
        "Antes de construirmos nosso modelo, vamos ver se conseguimos identificar alguma diferença óbvia entre as casas que foram severamente danificadas no terremoto (`\"severe_damage\"==1`) e aquelas que não foram (`\"severe_damage\"==0`). Vamos começar com uma característica numérica."
      ]
    },
    {
      "cell_type": "markdown",
      "id": "86449de0-fc89-44bd-8871-f0b54a005753",
      "metadata": {
        "deletable": false,
        "editable": false,
        "id": "86449de0-fc89-44bd-8871-f0b54a005753"
      },
      "source": [
        "### Exercício:\n",
        "\n",
        "Use o seaborn para criar um boxplot que mostre as distribuições da coluna `\"height_ft_pre_eq\"` para ambos os grupos na coluna `\"severe_damage\"`. Lembre-se de rotular seus eixos.\n"
      ]
    },
    {
      "cell_type": "code",
      "execution_count": null,
      "id": "c68c0816-73e9-4e42-8641-e27e3dc0af8d",
      "metadata": {
        "deletable": false,
        "id": "c68c0816-73e9-4e42-8641-e27e3dc0af8d",
        "tags": []
      },
      "outputs": [],
      "source": []
    },
    {
      "cell_type": "markdown",
      "id": "606ed2b2-81a3-4e65-adc5-8d2e49664902",
      "metadata": {
        "deletable": false,
        "editable": false,
        "id": "606ed2b2-81a3-4e65-adc5-8d2e49664902"
      },
      "source": [
        "Antes de avançarmos para as muitas características categóricas neste conjunto de dados, é uma boa ideia verificar o equilíbrio entre nossas duas classes. Qual é a porcentagem de prédios que foram severamente danificados e qual é a porcentagem que não foram?"
      ]
    },
    {
      "cell_type": "markdown",
      "id": "d8a81528-deb5-4f3d-9f63-3e813b9033ab",
      "metadata": {
        "deletable": false,
        "editable": false,
        "id": "d8a81528-deb5-4f3d-9f63-3e813b9033ab"
      },
      "source": [
        "### Exercício:\n",
        "Crie um gráfico de barras dos valores contados na coluna `\"severe_damage\"`. Você quer calcular as frequências relativas das classes, não a contagem bruta, então não se esqueça de definir o argumento `normalize` como `True`.\n"
      ]
    },
    {
      "cell_type": "code",
      "execution_count": null,
      "id": "fd7a7324-8145-4123-8de6-c09825fde6c6",
      "metadata": {
        "deletable": false,
        "id": "fd7a7324-8145-4123-8de6-c09825fde6c6"
      },
      "outputs": [],
      "source": []
    },
    {
      "cell_type": "markdown",
      "id": "110128d4-d927-47a0-a3b0-ee5f2ac66129",
      "metadata": {
        "deletable": false,
        "editable": false,
        "id": "110128d4-d927-47a0-a3b0-ee5f2ac66129"
      },
      "source": [
        "### Exercício:\n",
        "Crie duas variáveis, `majority_class_prop` e `minority_class_prop`, para armazenar os valores contados normalizados para as duas classes em `df[\"severe_damage\"]`.\n"
      ]
    },
    {
      "cell_type": "code",
      "execution_count": null,
      "id": "cf9fe20c-bd63-4aca-8a3e-58e9736e5ac3",
      "metadata": {
        "deletable": false,
        "id": "cf9fe20c-bd63-4aca-8a3e-58e9736e5ac3",
        "tags": []
      },
      "outputs": [],
      "source": []
    },
    {
      "cell_type": "markdown",
      "source": [
        "# Tabla Pivot\n",
        "\n",
        "Uma tabela pivot (ou tabela dinâmica) em Pandas é uma estrutura de dados que permite resumir e reorganizar dados de um DataFrame, facilitando a análise de informações.\n",
        "\n",
        "Ela é frequentemente usada para __agregar dados e visualizar relações entre variáveis.__\n",
        "\n",
        "Criação de uma Tabela Pivot em Pandas:\n",
        "- Para criar uma tabela pivot, você pode usar o método pivot_table().\n",
        "\n",
        " A função permite especificar:\n",
        "\n",
        "  - data: O DataFrame que você está utilizando.\n",
        "\n",
        "  - index: As colunas que você deseja usar como índice (linhas).\n",
        "\n",
        "  - columns: As colunas que você deseja usar como colunas (cabeçalhos).\n",
        "\n",
        "  - values: Os dados que você deseja agregar.\n",
        "  \n",
        "  - aggfunc: A função de agregação a ser utilizada (como mean, sum, etc.)."
      ],
      "metadata": {
        "id": "FIimoGEaJMVZ"
      },
      "id": "FIimoGEaJMVZ"
    },
    {
      "cell_type": "markdown",
      "id": "a88eec5e-6109-4d80-a749-1a69d7d3ab4f",
      "metadata": {
        "deletable": false,
        "editable": false,
        "id": "a88eec5e-6109-4d80-a749-1a69d7d3ab4f"
      },
      "source": [
        "### Exercício:\n",
        "Será que os edifícios com certos tipos de fundação são mais propensos a sofrer danos severos? Crie uma tabela dinâmica de `df` onde o índice é `\"foundation_type\"` e os valores vêm da coluna `\"severe_damage\"`, agregados pela média.\n"
      ]
    },
    {
      "cell_type": "code",
      "execution_count": null,
      "id": "3ca2fdcd-3b7d-45cf-9a93-f1686284b94a",
      "metadata": {
        "deletable": false,
        "id": "3ca2fdcd-3b7d-45cf-9a93-f1686284b94a",
        "tags": []
      },
      "outputs": [],
      "source": []
    },
    {
      "cell_type": "markdown",
      "id": "518ed69b-bf02-46bd-a9c9-97611f8df39f",
      "metadata": {
        "deletable": false,
        "editable": false,
        "id": "518ed69b-bf02-46bd-a9c9-97611f8df39f"
      },
      "source": [
        "### Exercício:\n",
        "Como as proporções em `foundation_pivot` se comparam às proporções de nossas classes majoritária e minoritária? Plote `foundation_pivot` como um gráfico de barras horizontal, adicionando linhas verticais nos valores para `majority_class_prop` e `minority_class_prop`.\n"
      ]
    },
    {
      "cell_type": "code",
      "execution_count": null,
      "id": "1ae18acb-3ec3-471e-a078-38ddc5091055",
      "metadata": {
        "deletable": false,
        "id": "1ae18acb-3ec3-471e-a078-38ddc5091055",
        "tags": []
      },
      "outputs": [],
      "source": []
    },
    {
      "cell_type": "markdown",
      "id": "555b8f43-bae6-45a3-a08e-8686ef7da5db",
      "metadata": {
        "deletable": false,
        "editable": false,
        "id": "555b8f43-bae6-45a3-a08e-8686ef7da5db"
      },
      "source": [
        "### Exercício:\n",
        "Combine os métodos `select_dtypes` e `nunique` para verificar se há características categóricas de alta ou baixa cardinalidade no conjunto de dados.\n"
      ]
    },
    {
      "cell_type": "code",
      "execution_count": null,
      "id": "464c6b84-dba5-4b87-9f40-5224806c7160",
      "metadata": {
        "deletable": false,
        "id": "464c6b84-dba5-4b87-9f40-5224806c7160",
        "tags": []
      },
      "outputs": [],
      "source": []
    },
    {
      "cell_type": "markdown",
      "id": "c3806583-4ccf-45bb-9f30-02a95e707345",
      "metadata": {
        "deletable": false,
        "editable": false,
        "id": "c3806583-4ccf-45bb-9f30-02a95e707345",
        "tags": []
      },
      "source": [
        "## Dividir"
      ]
    },
    {
      "cell_type": "markdown",
      "id": "01991064-e0a6-4b8b-a22f-c6cc3a820ee7",
      "metadata": {
        "deletable": false,
        "editable": false,
        "id": "01991064-e0a6-4b8b-a22f-c6cc3a820ee7"
      },
      "source": [
        "### Exercício:\n",
        "Crie sua matriz de características `X` e o vetor de alvo `y`. Seu alvo é `\"severe_damage\"`.\n"
      ]
    },
    {
      "cell_type": "code",
      "execution_count": null,
      "id": "cff539e5-b160-484e-8ca8-769309548254",
      "metadata": {
        "deletable": false,
        "id": "cff539e5-b160-484e-8ca8-769309548254",
        "tags": []
      },
      "outputs": [],
      "source": []
    },
    {
      "cell_type": "markdown",
      "id": "2f90dce4-5880-4fff-acfa-9099e2c8141a",
      "metadata": {
        "deletable": false,
        "editable": false,
        "id": "2f90dce4-5880-4fff-acfa-9099e2c8141a"
      },
      "source": [
        "### Exercício:\n",
        "Divida seus dados (`X` e `y`) em conjuntos de treinamento e teste usando uma divisão aleatória de treino-teste. Seu conjunto de teste deve ser 20% do seu total de dados. E não se esqueça de definir um `random_state` para garantir a reprodutibilidade."
      ]
    },
    {
      "cell_type": "code",
      "execution_count": null,
      "id": "6ff6081b-08d3-4ee5-a277-6651a5ece81c",
      "metadata": {
        "deletable": false,
        "id": "6ff6081b-08d3-4ee5-a277-6651a5ece81c",
        "tags": []
      },
      "outputs": [],
      "source": [
        "X_train, X_test, y_train, y_test = train_test_split()\n",
        "\n",
        "print(\"X_train shape:\", X_train.shape)\n",
        "print(\"y_train shape:\", y_train.shape)\n",
        "print(\"X_test shape:\", X_test.shape)\n",
        "print(\"y_test shape:\", y_test.shape)"
      ]
    },
    {
      "cell_type": "markdown",
      "id": "ac0145e4-d0bb-4ba6-8b63-27da32fe4910",
      "metadata": {
        "deletable": false,
        "editable": false,
        "id": "ac0145e4-d0bb-4ba6-8b63-27da32fe4910"
      },
      "source": [
        "<div class=\"alert alert-block alert-info\">\n",
        "    <p><b>Pergunta Frequente:</b> Por que definimos o estado aleatório como <code>42</code>?</p>\n",
        "    <p><b>Resposta:</b> A verdade é que você pode escolher qualquer inteiro ao definir um estado aleatório. O número que você escolher não afeta os resultados do seu projeto; ele apenas garante que seu trabalho seja reprodutível para que outros possam verificá-lo. No entanto, muitas pessoas escolhem <code>42</code> porque aparece em uma obra de ficção científica bem conhecida chamada <a href='https://en.wikipedia.org/wiki/42_(number)#The_Hitchhiker's_Guide_to_the_Galaxy'>O Guia do Mochileiro das Galáxias</a>. Em resumo, é uma piada interna. 😉</p>\n",
        "</div>"
      ]
    },
    {
      "cell_type": "markdown",
      "id": "b50c5f58-1635-4b63-bfc0-102d63139859",
      "metadata": {
        "deletable": false,
        "editable": false,
        "id": "b50c5f58-1635-4b63-bfc0-102d63139859",
        "tags": []
      },
      "source": [
        "# Contruindo Model"
      ]
    },
    {
      "cell_type": "markdown",
      "id": "fafdd5ca-bde6-4cf0-a8ce-94286b4494cb",
      "metadata": {
        "deletable": false,
        "editable": false,
        "id": "fafdd5ca-bde6-4cf0-a8ce-94286b4494cb"
      },
      "source": [
        "## Baseline"
      ]
    },
    {
      "cell_type": "markdown",
      "id": "ea9a15aa-2f2f-40de-a606-602eb9281fde",
      "metadata": {
        "deletable": false,
        "editable": false,
        "id": "ea9a15aa-2f2f-40de-a606-602eb9281fde"
      },
      "source": [
        "### Exercício:\n",
        "Calcule a pontuação de precisão de referência para o seu modelo."
      ]
    },
    {
      "cell_type": "code",
      "execution_count": null,
      "id": "87aaf82d-b452-4361-b47a-8f12d79542a3",
      "metadata": {
        "deletable": false,
        "id": "87aaf82d-b452-4361-b47a-8f12d79542a3",
        "tags": []
      },
      "outputs": [],
      "source": [
        "acc_baseline = ...\n",
        "print(\"Baseline Accuracy:\", round(acc_baseline, 2))"
      ]
    },
    {
      "cell_type": "markdown",
      "id": "b4098e3e-72dd-4426-847b-7bdc33bcf15b",
      "metadata": {
        "deletable": false,
        "editable": false,
        "id": "b4098e3e-72dd-4426-847b-7bdc33bcf15b"
      },
      "source": [
        "## Iterar"
      ]
    },
    {
      "cell_type": "markdown",
      "id": "f89c7494-dac1-4cdf-bf32-87eed972b0ed",
      "metadata": {
        "deletable": false,
        "editable": false,
        "id": "f89c7494-dac1-4cdf-bf32-87eed972b0ed"
      },
      "source": [
        "### Exercício:\n",
        "Crie um pipeline chamado `model` que contenha um transformador `OneHotEncoder` e um preditor `LogisticRegression`. Certifique-se de definir o argumento `use_cat_names` para o seu transformador como `True`. Em seguida, ajuste-o aos dados de treinamento.\n",
        "\n",
        "__Dica:__ Se você receber um <code>ConvergenceWarning</code> ao ajustar seu modelo aos dados de treinamento, não se preocupe. Isso pode acontecer às vezes com modelos de regressão logística.\n",
        "\n",
        "Tente definir o argumento <code>max_iter</code> em seu preditor como <code>1000</code>.\n",
        "</div>"
      ]
    },
    {
      "cell_type": "code",
      "execution_count": null,
      "id": "16539cb4-ae13-4c08-a327-2832894028c3",
      "metadata": {
        "deletable": false,
        "id": "16539cb4-ae13-4c08-a327-2832894028c3",
        "tags": []
      },
      "outputs": [],
      "source": [
        "# Build model\n",
        "model = ..."
      ]
    },
    {
      "cell_type": "markdown",
      "id": "19634c38-c36f-48b3-9d82-8a89e33b6eb4",
      "metadata": {
        "deletable": false,
        "editable": false,
        "id": "19634c38-c36f-48b3-9d82-8a89e33b6eb4"
      },
      "source": [
        "## Avaliar"
      ]
    },
    {
      "cell_type": "markdown",
      "id": "22932c04-a053-499c-bd08-66de0d532d0f",
      "metadata": {
        "deletable": false,
        "editable": false,
        "id": "22932c04-a053-499c-bd08-66de0d532d0f"
      },
      "source": [
        "### Exercício:\n",
        "Calcule as pontuações de precisão para treinamento e teste dos seus modelos.\n"
      ]
    },
    {
      "cell_type": "code",
      "execution_count": null,
      "id": "1466d981-0037-43d4-86ed-1bd802a3878b",
      "metadata": {
        "deletable": false,
        "id": "1466d981-0037-43d4-86ed-1bd802a3878b",
        "tags": []
      },
      "outputs": [],
      "source": [
        "acc_train =\n",
        "acc_test =\n",
        "\n",
        "print(\"Training Accuracy:\", round(acc_train, 2))\n",
        "print(\"Test Accuracy:\", round(acc_test, 2))"
      ]
    },
    {
      "cell_type": "markdown",
      "id": "88aefbd7-2d94-4f4e-bfc6-b0ac4ef3fed9",
      "metadata": {
        "deletable": false,
        "editable": false,
        "id": "88aefbd7-2d94-4f4e-bfc6-b0ac4ef3fed9"
      },
      "source": [
        "# Comunicar Resultados"
      ]
    },
    {
      "cell_type": "markdown",
      "source": [
        "Em modelos de aprendizado de máquina, como a __regressão logística__, os métodos `predict` e `predict_proba` são usados para fazer previsões, mas eles retornam informações diferentes sobre as previsões.\n",
        "\n",
        "- __Predict:__\n",
        "\n",
        "  - __O que é:__ é utilizado para prever as __classes finais__ (ou rótulos) dos dados de entrada.\n",
        "\n",
        "  - __Retorno:__ Ele retorna a classe predita para cada amostra de entrada.\n",
        "\n",
        "  - __Como funciona:__ O modelo calcula a probabilidade de cada classe.\n",
        "\n",
        "- __Predict_proba:__\n",
        "\n",
        "  - __O que é:__ é usado para prever as __probabilidades__ das classes para os dados de entrada.\n",
        "\n",
        "  - __Retorno:__ Ele retorna um array com as probabilidades de cada classe para cada amostra de entrada. Para classificação binária, o retorno é uma matriz com duas colunas: a primeira coluna representa a probabilidade de pertencer à classe 0 e a segunda coluna a probabilidade de pertencer à classe 1.\n",
        "\n",
        "  - __Como funciona:__ Este método fornece uma visão mais detalhada da confiança do modelo em suas previsões, permitindo que você veja não apenas a classe predita, mas também a probabilidade associada a essa previsão.\n",
        "\n",
        "## Comparação entre predict e predict_proba:\n",
        "- __predict:__ Retorna as classes preditas diretamente (0 ou 1), ideal para decisões finais.\n",
        "\n",
        "- __predict_proba:__ Retorna as probabilidades associadas a cada classe, útil para entender a confiança do modelo em suas previsões. Isso é particularmente valioso em situações onde a diferença entre classes é sutil e uma probabilidade pode ajudar a tomar decisões mais informadas."
      ],
      "metadata": {
        "id": "r-rSJPbmOMs0"
      },
      "id": "r-rSJPbmOMs0"
    },
    {
      "cell_type": "markdown",
      "id": "54a110d0-ee26-4338-a3da-2a3138d5f9c4",
      "metadata": {
        "deletable": false,
        "editable": false,
        "id": "54a110d0-ee26-4338-a3da-2a3138d5f9c4"
      },
      "source": [
        "### Exercício:\n",
        "Em vez de usar o método `predict` com seu modelo, tente usar `predict_proba` com seus dados de treinamento. Como a saída de `predict_proba` difere da de `predict`? O que ela representa?"
      ]
    },
    {
      "cell_type": "code",
      "execution_count": null,
      "id": "d9a557fc-65ae-4b27-b9fc-ccc8f0728e6d",
      "metadata": {
        "deletable": false,
        "id": "d9a557fc-65ae-4b27-b9fc-ccc8f0728e6d",
        "tags": []
      },
      "outputs": [],
      "source": [
        "y_train_pred_proba =\n",
        "print(y_train_pred_proba[:5])"
      ]
    },
    {
      "cell_type": "markdown",
      "id": "044787eb-ef3a-498d-9548-2c8ffdcacbb2",
      "metadata": {
        "deletable": false,
        "editable": false,
        "id": "044787eb-ef3a-498d-9548-2c8ffdcacbb2"
      },
      "source": [
        "### Exercício:\n",
        "Extraia os nomes e as importâncias das características do seu `modelo`.\n"
      ]
    },
    {
      "cell_type": "code",
      "execution_count": null,
      "id": "ab67874a-9122-4223-b54f-d007adeebbfe",
      "metadata": {
        "deletable": false,
        "id": "ab67874a-9122-4223-b54f-d007adeebbfe",
        "tags": []
      },
      "outputs": [],
      "source": [
        "features =\n",
        "importances ="
      ]
    },
    {
      "cell_type": "markdown",
      "source": [
        "## Odds_ratio\n",
        "o termo odds ratio (ou razão de chances) refere-se a uma medida que quantifica a relação entre as chances de um evento acontecer em comparação com ele não acontecer.\n",
        "\n",
        "Quando você ajusta um modelo de regressão logística, o modelo estima os coeficientes (importâncias) para as variáveis independentes (features).\n",
        "\n",
        "Esses coeficientes estão na forma logarítmica. Para entender o impacto de uma variável no modelo, você pode exponenciar os coeficientes (aplicar a função exponencial), o que resulta nos odds ratios."
      ],
      "metadata": {
        "id": "KPRILaOYdG-h"
      },
      "id": "KPRILaOYdG-h"
    },
    {
      "cell_type": "markdown",
      "id": "2aedeb5d-617e-4da1-8828-664467856cfc",
      "metadata": {
        "deletable": false,
        "editable": false,
        "id": "2aedeb5d-617e-4da1-8828-664467856cfc"
      },
      "source": [
        "### Exercício:\n",
        "Crie uma Série do pandas chamada `odds_ratios`, onde o índice são as `features` e os valores são a exponencial das `importances`."
      ]
    },
    {
      "cell_type": "code",
      "execution_count": null,
      "id": "ced074e2-da4a-42af-8370-87b800c4d3a2",
      "metadata": {
        "deletable": false,
        "id": "ced074e2-da4a-42af-8370-87b800c4d3a2",
        "tags": []
      },
      "outputs": [],
      "source": [
        "odds_ratios =\n",
        "odds_ratios.head()"
      ]
    },
    {
      "cell_type": "markdown",
      "id": "165549de-8b20-4360-9f3f-fff29f525efc",
      "metadata": {
        "deletable": false,
        "editable": false,
        "id": "165549de-8b20-4360-9f3f-fff29f525efc"
      },
      "source": [
        "### Exercício:\n",
        "Crie um gráfico de barras horizontal com os cinco maiores coeficientes de `odds_ratios`. Certifique-se de rotular seu eixo x como `\"Odds Ratio\"`.\n"
      ]
    },
    {
      "cell_type": "code",
      "execution_count": null,
      "id": "41bf63be-91c0-401a-bdc2-317c1396064d",
      "metadata": {
        "deletable": false,
        "id": "41bf63be-91c0-401a-bdc2-317c1396064d",
        "tags": []
      },
      "outputs": [],
      "source": []
    },
    {
      "cell_type": "markdown",
      "id": "53ab1506-5334-48d2-8863-53e9dee87777",
      "metadata": {
        "deletable": false,
        "editable": false,
        "id": "53ab1506-5334-48d2-8863-53e9dee87777"
      },
      "source": [
        "### Exercício:\n",
        "Crie um gráfico de barras horizontal com os cinco menores coeficientes de `odds_ratios`. Certifique-se de rotular seu eixo x como `\"Odds Ratio\"`.\n"
      ]
    },
    {
      "cell_type": "code",
      "execution_count": null,
      "id": "b21e79fd-5a23-40e5-842f-2e25da3327d5",
      "metadata": {
        "deletable": false,
        "id": "b21e79fd-5a23-40e5-842f-2e25da3327d5",
        "tags": []
      },
      "outputs": [],
      "source": []
    }
  ],
  "metadata": {
    "colab": {
      "provenance": []
    },
    "kernelspec": {
      "display_name": "Python 3 (ipykernel)",
      "language": "python",
      "name": "python3"
    },
    "language_info": {
      "codemirror_mode": {
        "name": "ipython",
        "version": 3
      },
      "file_extension": ".py",
      "mimetype": "text/x-python",
      "name": "python",
      "nbconvert_exporter": "python",
      "pygments_lexer": "ipython3",
      "version": "3.11.4"
    }
  },
  "nbformat": 4,
  "nbformat_minor": 5
}