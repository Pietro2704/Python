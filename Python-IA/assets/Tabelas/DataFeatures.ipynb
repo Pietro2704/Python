{
  "cells": [
    {
      "cell_type": "markdown",
      "id": "ea2aa5dd-24f8-49f5-8bb5-0fcec663f186",
      "metadata": {
        "deletable": false,
        "editable": false,
        "id": "ea2aa5dd-24f8-49f5-8bb5-0fcec663f186"
      },
      "source": [
        "# Dicionário de Dados"
      ]
    },
    {
      "cell_type": "markdown",
      "id": "f7d75b51-313a-457f-81bc-0497dd6d9de2",
      "metadata": {
        "deletable": false,
        "editable": false,
        "id": "f7d75b51-313a-457f-81bc-0497dd6d9de2"
      },
      "source": [
        "## Dados de Falência da Polônia"
      ]
    },
    {
      "cell_type": "markdown",
      "id": "765795f6-9f0b-49f0-a45a-6c784f2fcd2d",
      "metadata": {
        "deletable": false,
        "editable": false,
        "id": "765795f6-9f0b-49f0-a45a-6c784f2fcd2d"
      },
      "source": [
        "Abaixo está um resumo das características do conjunto de dados de falência da Polônia."
      ]
    },
    {
      "cell_type": "markdown",
      "id": "c9093247-405f-458a-aa1e-d21f3b655734",
      "metadata": {
        "deletable": false,
        "editable": false,
        "id": "c9093247-405f-458a-aa1e-d21f3b655734"
      },
      "source": [
        "| característica | descrição                                                                                                         |  \n",
        "| :--------- | :------------------------------------------------------------------------------------------------------------------ |  \n",
        "| **feat_1**  | lucro líquido / ativos totais                                                                                           |  \n",
        "| **feat_2**  | passivos totais / ativos totais                                                                                    |  \n",
        "| **feat_3**  | capital de giro / ativos totais                                                                                      |  \n",
        "| **feat_4**  | ativos circulantes / passivos de curto prazo                                                                             |  \n",
        "| **feat_5**  | [(dinheiro + títulos de curto prazo + recebíveis - passivos de curto prazo) / (despesas operacionais - depreciação)] * 365 |  \n",
        "| **feat_6**  | lucros retidos / ativos totais                                                                                    |  \n",
        "| **feat_7**  | EBIT / ativos totais                                                                                                 |  \n",
        "| **feat_8**  | valor contábil do patrimônio líquido / passivos totais                                                                            |  \n",
        "| **feat_9**  | vendas / ativos totais                                                                                                |  \n",
        "| **feat_10** | patrimônio líquido / ativos totais                                                                                               |  \n",
        "| **feat_11** | (lucro bruto + itens extraordinários + despesas financeiras) / ativos totais                                            |  \n",
        "| **feat_12** | lucro bruto / passivos de curto prazo                                                                               |  \n",
        "| **feat_13** | (lucro bruto + depreciação) / vendas                                                                               |  \n",
        "| **feat_14** | (lucro bruto + juros) / ativos totais                                                                            |  \n",
        "| **feat_15** | (passivos totais * 365) / (lucro bruto + depreciação)                                                           |  \n",
        "| **feat_16** | (lucro bruto + depreciação) / passivos totais                                                                   |  \n",
        "| **feat_17** | ativos totais / passivos totais                                                                                    |  \n",
        "| **feat_18** | lucro bruto / ativos totais                                                                                         |  \n",
        "| **feat_19** | lucro bruto / vendas                                                                                                |  \n",
        "| **feat_20** | (estoque * 365) / vendas                                                                                           |  \n",
        "| **feat_21** | vendas (n) / vendas (n-1)                                                                                             |  \n",
        "| **feat_22** | lucro em atividades operacionais / ativos totais                                                                       |  \n",
        "| **feat_23** | lucro líquido / vendas                                                                                                  |  \n",
        "| **feat_24** | lucro bruto (em 3 anos) / ativos totais                                                                            |  \n",
        "| **feat_25** | (patrimônio líquido - capital social) / ativos totais                                                                             |  \n",
        "| **feat_26** | (lucro líquido + depreciação) / passivos totais                                                                     |  \n",
        "| **feat_27** | lucro em atividades operacionais / despesas financeiras                                                                 |  \n",
        "| **feat_28** | capital de giro / ativos fixos                                                                                      |  \n",
        "| **feat_29** | logaritmo dos ativos totais                                                                                           |  \n",
        "| **feat_30** | (passivos totais - dinheiro) / vendas                                                                                  |  \n",
        "| **feat_31** | (lucro bruto + juros) / vendas                                                                                   |  \n",
        "| **feat_32** | (passivos circulantes * 365) / custo dos produtos vendidos                                                                 |  \n",
        "| **feat_33** | despesas operacionais / passivos de curto prazo                                                                         |  \n",
        "| **feat_34** | despesas operacionais / passivos totais                                                                              |  \n",
        "| **feat_35** | lucro em vendas / ativos totais                                                                                      |  \n",
        "| **feat_36** | vendas totais / ativos totais                                                                                          |  \n",
        "| **feat_37** | (ativos circulantes - estoques) / passivos de longo prazo                                                              |  \n",
        "| **feat_38** | capital constante / ativos totais                                                                                     |  \n",
        "| **feat_39** | lucro em vendas / vendas                                                                                             |  \n",
        "| **feat_40** | (ativos circulantes - estoque - recebíveis) / passivos de curto prazo                                                 |  \n",
        "| **feat_41** | passivos totais / ((lucro em atividades operacionais + depreciação) * (12/365))                                    |  \n",
        "| **feat_42** | lucro em atividades operacionais / vendas                                                                              |  \n",
        "| **feat_43** | rotação de recebíveis + giro de estoques em dias                                                                   |  \n",
        "| **feat_44** | (recebíveis * 365) / vendas                                                                                         |  \n",
        "| **feat_45** | lucro líquido / estoque                                                                                              |  \n",
        "| **feat_46** | (ativos circulantes - estoque) / passivos de curto prazo                                                               |  \n",
        "| **feat_47** | (estoque * 365) / custo dos produtos vendidos                                                                           |  \n",
        "| **feat_48** | EBITDA (lucro em atividades operacionais - depreciação) / ativos totais                                               |  \n",
        "| **feat_49** | EBITDA (lucro em atividades operacionais - depreciação) / vendas                                                      |  \n",
        "| **feat_50** | ativos circulantes / passivos totais                                                                                  |  \n",
        "| **feat_51** | passivos de curto prazo / ativos totais                                                                               |  \n",
        "| **feat_52** | (passivos de curto prazo * 365) / custo dos produtos vendidos)                                                             |  \n",
        "| **feat_53** | patrimônio líquido / ativos fixos                                                                                               |  \n",
        "| **feat_54** | capital constante / ativos fixos                                                                                     |  \n",
        "| **feat_55** | capital de giro                                                                                                     |  \n",
        "| **feat_56** | (vendas - custo dos produtos vendidos) / vendas                                                                             |  \n",
        "| **feat_57** | (ativos circulantes - estoque - passivos de curto prazo) / (vendas - lucro bruto - depreciação)                       |  \n",
        "| **feat_58** | custos totais / vendas totais                                                                                            |  \n",
        "| **feat_59** | passivos de longo prazo / patrimônio líquido                                                                                      |  \n",
        "| **feat_60** | vendas / estoque                                                                                                   |  \n",
        "| **feat_61** | vendas / recebíveis                                                                                                 |  \n",
        "| **feat_62** | (passivos de curto prazo * 365) / vendas                                                                               |  \n",
        "| **feat_63** | vendas / passivos de curto prazo                                                                                      |  \n",
        "| **feat_64** | vendas / ativos fixos                                                                                                |  \n",
        "| **bankrupt** | Se a empresa faliu no final do período de previsão (2013) |"
      ]
    },
    {
      "cell_type": "markdown",
      "id": "e1ffc369-83de-4389-83c5-a4dafdd69bf0",
      "metadata": {
        "deletable": false,
        "editable": false,
        "id": "e1ffc369-83de-4389-83c5-a4dafdd69bf0"
      },
      "source": [
        "## Conjunto de Dados de Falência de Taiwan"
      ]
    },
    {
      "cell_type": "markdown",
      "id": "ec7c3c3c-d656-427d-a0eb-a795ed3e22b8",
      "metadata": {
        "deletable": false,
        "editable": false,
        "id": "ec7c3c3c-d656-427d-a0eb-a795ed3e22b8"
      },
      "source": [
        "Abaixo está um resumo das características do conjunto de dados de falência de Taiwan\n",
        "\n",
        "__Nota:__ Todas as variáveis foram normalizadas na faixa de 0 a 1."
      ]
    },
    {
      "cell_type": "markdown",
      "id": "1f2362d9-a1d1-4370-af0c-f1fab528ca02",
      "metadata": {
        "deletable": false,
        "editable": false,
        "id": "1f2362d9-a1d1-4370-af0c-f1fab528ca02"
      },
      "source": [
        "| feature      | description                                             |\n",
        "| :----------- | :------------------------------------------------------ |\n",
        "| **bankrupt** | Indica se a empresa entrou em falência                  |\n",
        "| **feat_1**   | ROA(C) antes de juros e depreciação antes de juros     |\n",
        "| **feat_2**   | ROA(A) antes de juros e % após impostos                 |\n",
        "| **feat_3**   | ROA(B) antes de juros e depreciação após impostos       |\n",
        "| **feat_4**   | Margem bruta operacional                                 |\n",
        "| **feat_5**   | Margem bruta de vendas realizadas                        |\n",
        "| **feat_6**   | Taxa de lucro operacional                                |\n",
        "| **feat_7**   | Taxa de juros líquida antes de impostos                 |\n",
        "| **feat_8**   | Taxa de juros líquida após impostos                     |\n",
        "| **feat_9**   | Renda e despesa não relacionadas/receita                |\n",
        "| **feat_10**  | Taxa de juros contínua (após impostos)                  |\n",
        "| **feat_11**  | Taxa de despesa operacional                              |\n",
        "| **feat_12**  | Taxa de despesa em pesquisa e desenvolvimento            |\n",
        "| **feat_13**  | Taxa de fluxo de caixa                                   |\n",
        "| **feat_14**  | Taxa de juros sobre a dívida com juros                   |\n",
        "| **feat_15**  | Taxa de imposto (A)                                     |\n",
        "| **feat_16**  | Valor líquido por ação (B)                               |\n",
        "| **feat_17**  | Valor líquido por ação (A)                               |\n",
        "| **feat_18**  | Valor líquido por ação (C)                               |\n",
        "| **feat_19**  | EPS persistente nas últimas quatro temporadas            |\n",
        "| **feat_20**  | Fluxo de caixa por ação                                  |\n",
        "| **feat_21**  | Receita por ação (Yuan ¥)                                |\n",
        "| **feat_22**  | Lucro operacional por ação (Yuan ¥)                      |\n",
        "| **feat_23**  | Lucro líquido por ação antes dos impostos (Yuan ¥)      |\n",
        "| **feat_24**  | Taxa de crescimento do lucro bruto realizado             |\n",
        "| **feat_25**  | Taxa de crescimento do lucro operacional                 |\n",
        "| **feat_26**  | Taxa de crescimento do lucro líquido após impostos       |\n",
        "| **feat_27**  | Taxa de crescimento do lucro líquido regular             |\n",
        "| **feat_28**  | Taxa de crescimento contínuo do lucro líquido            |\n",
        "| **feat_29**  | Taxa de crescimento do total de ativos                   |\n",
        "| **feat_30**  | Taxa de crescimento do valor líquido                      |\n",
        "| **feat_31**  | Taxa de crescimento do retorno sobre o total de ativos   |\n",
        "| **feat_32**  | % de reinvestimento de caixa                              |\n",
        "| **feat_33**  | Razão corrente                                           |\n",
        "| **feat_34**  | Razão rápida                                             |\n",
        "| **feat_35**  | Razão de despesa de juros                                |\n",
        "| **feat_36**  | Total da dívida / Patrimônio líquido total               |\n",
        "| **feat_37**  | % da razão de dívida                                      |\n",
        "| **feat_38**  | Patrimônio líquido / Ativos                              |\n",
        "| **feat_39**  | Razão de adequação de fundos de longo prazo (A)         |\n",
        "| **feat_40**  | Dependência de empréstimos                               |\n",
        "| **feat_41**  | Passivos contingentes / Patrimônio líquido               |\n",
        "| **feat_42**  | Lucro operacional / Capital social                       |\n",
        "| **feat_43**  | Lucro líquido antes de impostos / Capital social         |\n",
        "| **feat_44**  | Inventário e contas a receber / Valor líquido           |\n",
        "| **feat_45**  | Rotação total de ativos                                  |\n",
        "| **feat_46**  | Rotação de contas a receber                              |\n",
        "| **feat_47**  | Dias de cobrança médio                                   |\n",
        "| **feat_48**  | Taxa de rotatividade de inventário (vezes)              |\n",
        "| **feat_49**  | Frequência de rotação de ativos fixos                   |\n",
        "| **feat_50**  | Taxa de rotatividade do patrimônio líquido (vezes)      |\n",
        "| **feat_51**  | Receita por pessoa                                       |\n",
        "| **feat_52**  | Lucro operacional por pessoa                             |\n",
        "| **feat_53**  | Taxa de alocação por pessoa                             |\n",
        "| **feat_54**  | Capital de giro em relação ao total de ativos           |\n",
        "| **feat_55**  | Ativos rápidos / Total de ativos                         |\n",
        "| **feat_56**  | Ativos correntes / Total de ativos                       |\n",
        "| **feat_57**  | Caixa / Total de ativos                                  |\n",
        "| **feat_58**  | Ativos rápidos / Passivo circulante                      |\n",
        "| **feat_59**  | Caixa / Passivo circulante                               |\n",
        "| **feat_60**  | Passivos circulantes em relação aos ativos               |\n",
        "| **feat_61**  | Fundos operacionais em relação ao passivo                |\n",
        "| **feat_62**  | Inventário / Capital de giro                             |\n",
        "| **feat_63**  | Inventário / Passivo circulante                          |\n",
        "| **feat_64**  | Passivos circulantes / Passivo                           |\n",
        "| **feat_65**  | Capital de giro / Patrimônio líquido                     |\n",
        "| **feat_66**  | Passivos circulantes / Patrimônio líquido                |\n",
        "| **feat_67**  | Passivo de longo prazo em relação aos ativos circulantes |\n",
        "| **feat_68**  | Lucros retidos em relação ao total de ativos             |\n",
        "| **feat_69**  | Renda total / Despesa total                             |\n",
        "| **feat_70**  | Despesa total / Ativos                                  |\n",
        "| **feat_71**  | Taxa de rotação de ativos correntes                     |\n",
        "| **feat_72**  | Taxa de rotação de ativos rápidos                       |\n",
        "| **feat_73**  | Taxa de rotação de capital de giro                      |\n",
        "| **feat_74**  | Taxa de rotação de caixa                                |\n",
        "| **feat_75**  | Fluxo de caixa em relação às vendas                     |\n",
        "| **feat_76**  | Ativos fixos em relação aos ativos                       |\n",
        "| **feat_77**  | Passivo circulante em relação ao passivo                |\n",
        "| **feat_78**  | Passivo circulante em relação ao patrimônio líquido      |\n",
        "| **feat_79**  | Patrimônio líquido em relação ao passivo de longo prazo  |\n",
        "| **feat_80**  | Fluxo de caixa em relação ao total de ativos             |\n",
        "| **feat_81**  | Fluxo de caixa em relação ao passivo                     |\n",
        "| **feat_82**  | CFO em relação aos ativos                                |\n",
        "| **feat_83**  | Fluxo de caixa em relação ao patrimônio líquido          |\n",
        "| **feat_84**  | Passivo circulante em relação aos ativos correntes       |\n",
        "| **feat_85**  | Sinal de passivos e ativos                               |\n",
        "| **feat_86**  | Renda líquida em relação ao total de ativos              |\n",
        "| **feat_87**  | Total de ativos em relação ao preço do PIB               |\n",
        "| **feat_88**  | Intervalo sem crédito                                    |\n",
        "| **feat_89**  | Lucro bruto em relação às vendas                          |\n",
        "| **feat_90**  | Renda líquida em relação ao patrimônio dos acionistas    |\n",
        "| **feat_91**  | Passivos em relação ao patrimônio líquido                |\n",
        "| **feat_92**  | Grau de alavancagem financeira (DFL)                     |\n",
        "| **feat_93**  | Razão de cobertura de juros (despesa de juros em relação ao EBIT) |\n",
        "| **feat_94**  | Sinal de renda líquida                                   |\n",
        "| **feat_95**  | Patrimônio líquido em relação aos passivos                |\n"
      ]
    }
  ],
  "metadata": {
    "kernelspec": {
      "display_name": "Python 3 (ipykernel)",
      "language": "python",
      "name": "python3"
    },
    "language_info": {
      "codemirror_mode": {
        "name": "ipython",
        "version": 3
      },
      "file_extension": ".py",
      "mimetype": "text/x-python",
      "name": "python",
      "nbconvert_exporter": "python",
      "pygments_lexer": "ipython3",
      "version": "3.11.4"
    },
    "colab": {
      "provenance": []
    }
  },
  "nbformat": 4,
  "nbformat_minor": 5
}