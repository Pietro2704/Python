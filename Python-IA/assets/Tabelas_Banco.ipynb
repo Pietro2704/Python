{
  "cells": [
    {
      "cell_type": "markdown",
      "id": "c709e3b9-6091-43ad-a97b-0c0ef0abcd46",
      "metadata": {
        "deletable": false,
        "editable": false,
        "id": "c709e3b9-6091-43ad-a97b-0c0ef0abcd46"
      },
      "source": [
        "<font size=\"+3\"><strong>Data Dictionary</strong></font>"
      ]
    },
    {
      "cell_type": "markdown",
      "id": "fd498e94-d3d6-49a9-bcaf-a6e1adc71d0c",
      "metadata": {
        "deletable": false,
        "editable": false,
        "id": "fd498e94-d3d6-49a9-bcaf-a6e1adc71d0c"
      },
      "source": [
        "Below is a summary of the features stored in the the `banco.db` database."
      ]
    },
    {
      "cell_type": "markdown",
      "id": "ca612aed-9f63-40b3-9e8a-9819797c9e4c",
      "metadata": {
        "deletable": false,
        "editable": false,
        "id": "ca612aed-9f63-40b3-9e8a-9819797c9e4c"
      },
      "source": [
        "# Table `building_structure`"
      ]
    },
    {
      "cell_type": "markdown",
      "id": "60b04cdd-538e-49b6-a9e4-28d0a4c23e64",
      "metadata": {
        "deletable": false,
        "editable": false,
        "id": "60b04cdd-538e-49b6-a9e4-28d0a4c23e64"
      },
      "source": [
        "\n",
        "| Variável                   | Descrição                                                                                                     | Tipo        |\n",
        "|:--------------------------|:--------------------------------------------------------------------------------------------------------------|:------------|\n",
        "| `age_building`            | Idade do prédio (em anos)                                                                                    | Número      |\n",
        "| `building_id`             | Um ID único que identifica um prédio exclusivo da pesquisa                                                   | Texto       |\n",
        "| `condition_post_eq`       | Condição real do prédio após o terremoto                                                                    | Categórica  |\n",
        "| `count_floors_post_eq`    | Número de andares que o prédio tinha após o terremoto                                                      | Número      |\n",
        "| `count_floors_pre_eq`     | Número de andares que o prédio tinha antes do terremoto                                                    | Número      |\n",
        "| `foundation_type`         | Tipo de fundação utilizada no prédio                                                                         | Categórica  |\n",
        "| `ground_floor_type`       | Tipo do andar térreo                                                                                         | Categórica  |\n",
        "| `height_ft_post_eq`       | Altura do prédio após o terremoto (em pés)                                                                   | Número      |\n",
        "| `height_ft_pre_eq`        | Altura do prédio antes do terremoto (em pés)                                                                | Número      |\n",
        "| `land_surface_condition`  | Condição da superfície do terreno onde o prédio está construído                                             | Categórica  |\n",
        "| `other_floor_type`        | Tipo de construção utilizada em outros andares (exceto o andar térreo e o telhado)                          | Categórica  |\n",
        "| `plan_configuration`      | Configuração do plano do prédio                                                                               | Categórica  |\n",
        "| `plinth_area_sq_ft`       | Área do plinto do prédio (em pés quadrados)                                                                  | Número      |\n",
        "| `position`                | Posição do prédio                                                                                            | Categórica  |\n",
        "| `roof_type`               | Tipo de telhado utilizado no prédio. As categorias são (1) bambu leve/madeira, (2) bambu pesado e (3) concreto armado/concreto de tijolo armado | Categórica  |\n",
        "| `superstructure`          | Superestrutura do prédio                                                                                      | Categórica  |"
      ]
    },
    {
      "cell_type": "markdown",
      "id": "0039a5d4-04bf-4025-b006-79b3c3715793",
      "metadata": {
        "deletable": false,
        "editable": false,
        "id": "0039a5d4-04bf-4025-b006-79b3c3715793"
      },
      "source": [
        "# Table `building_damage`"
      ]
    },
    {
      "cell_type": "markdown",
      "id": "23aa3d87-30a0-49c0-a93c-658b44c06e68",
      "metadata": {
        "deletable": false,
        "editable": false,
        "id": "23aa3d87-30a0-49c0-a93c-658b44c06e68"
      },
      "source": [
        "|Variável|Descrição|Tipo|\n",
        "|:-------|:--------|:---|\n",
        "|`area_assesed`|Indica a natureza da avaliação de danos em termos das áreas do edifício que foram avaliadas|Categórica|\n",
        "| `building_id`| Um ID único que identifica cada edifício individual na pesquisa| Texto|\n",
        "| `damage_beam_failure_insignificant`                   | Variável categórica que captura danos relacionados a falhas insignificantes de vigas em termos da proporção da área total que está insignificativamente danificada                              | Categórica |\n",
        "| `damage_beam_failure_moderate`                        | Variável categórica que captura danos relacionados a falhas moderadas de vigas em termos da proporção da área total que está moderadamente danificada                                            | Categórica |\n",
        "| `damage_beam_failure_severe`                          | Variável categórica que captura danos relacionados a falhas severas de vigas em termos da proporção da área total que está severamente danificada                                                | Categórica |\n",
        "| `damage_cladding_glazing_insignificant`               | Variável categórica que captura danos relacionados a revestimentos/vidros insignificantes em termos da proporção da área total que está insignificativamente danificada                          | Categórica |\n",
        "| `damage_cladding_glazing_moderate`                    | Variável categórica que captura danos relacionados a revestimentos/vidros moderados em termos da proporção da área total que está moderadamente danificada                                      | Categórica |\n",
        "| `damage_cladding_glazing_severe`                      | Variável categórica que captura danos relacionados a revestimentos/vidros severos em termos da proporção da área total que está severamente danificada                                          | Categórica |\n",
        "| `damage_column_failure_insignificant`                 | Variável categórica que captura danos relacionados a falhas insignificantes de colunas em termos da proporção da área total que está insignificativamente danificada                             | Categórica |\n",
        "| `damage_column_failure_moderate`                      | Variável categórica que captura danos relacionados a falhas moderadas de colunas em termos da proporção da área total que está moderadamente danificada                                          | Categórica |\n",
        "| `damage_column_failure_severe`                        | Variável categórica que captura danos relacionados a falhas severas de colunas em termos da proporção da área total que está severamente danificada                                            | Categórica |\n",
        "| `damage_corner_separation_insignificant`              | Variável categórica que captura danos relacionados a separação de cantos insignificantes em termos da proporção da área total que está insignificativamente danificada                          | Categórica |\n",
        "| `damage_corner_separation_moderate`                   | Variável categórica que captura danos relacionados a separação de cantos moderados em termos da proporção da área total que está moderadamente danificada                                        | Categórica |\n",
        "| `damage_corner_separation_severe`                     | Variável categórica que captura danos relacionados a separação de cantos severos em termos da proporção da área total que está severamente danificada                                            | Categórica |\n",
        "| `damage_delamination_failure_insignificant`           | Variável categórica que captura danos relacionados a falhas de delaminação insignificantes em termos da proporção da área total que está insignificativamente danificada                          | Categórica |\n",
        "| `damage_delamination_failure_moderate`                | Variável categórica que captura danos relacionados a falhas de delaminação moderadas em termos da proporção da área total que está moderadamente danificada                                        | Categórica |\n",
        "| `damage_delamination_failure_severe`                  | Variável categórica que captura danos relacionados a falhas de delaminação severas em termos da proporção da área total que está severamente danificada                                          | Categórica |\n",
        "| `damage_diagonal_cracking_insignificant`              | Variável categórica que captura danos relacionados a trincas diagonais insignificantes em termos da proporção da área total que está insignificativamente danificada                             | Categórica |\n",
        "| `damage_diagonal_cracking_moderate`                   | Variável categórica que captura danos relacionados a trincas diagonais moderadas em termos da proporção da área total que está moderadamente danificada                                          | Categórica |\n",
        "| `damage_diagonal_cracking_severe`                     | Variável categórica que captura danos relacionados a trincas diagonais severas em termos da proporção da área total que está severamente danificada                                              | Categórica |\n",
        "| `damage_foundation_insignificant`                     | Variável categórica que captura danos fundacionais insignificantes em termos da proporção da área total que está insignificativamente danificada                                                  | Categórica |\n",
        "| `damage_foundation_moderate`                          | Variável categórica que captura danos fundacionais moderados em termos da proporção da área total que está moderadamente danificada                                                              | Categórica |\n",
        "| `damage_foundation_severe`                            | Variável categórica que captura danos fundacionais severos em termos da proporção da área total que está severamente danificada                                                                  | Categórica |\n",
        "| `damage_gable_failure_insignificant`                  | Variável categórica que captura danos relacionados a falhas insignificantes de beirais em termos da proporção da área total que está insignificativamente danificada                             | Categórica |\n",
        "| `damage_gable_failure_moderate`                       | Variável categórica que captura danos relacionados a falhas moderadas de beirais em termos da proporção da área total que está moderadamente danificada                                            | Categórica |\n",
        "| `damage_gable_failure_severe`                         | Variável categórica que captura danos relacionados a falhas severas de beirais em termos da proporção da área total que está severamente danificada                                              | Categórica |\n",
        "| `damage_grade`                                        | Grau de dano atribuído ao edifício pelo avaliador após a avaliação                                                                                                                            | Categórica |\n",
        "| `damage_in_plane_failure_insignificant`               | Variável categórica que captura danos relacionados a falhas insignificantes em plano em termos da proporção da área total que está insignificativamente danificada                               | Categórica |\n",
        "| `damage_in_plane_failure_moderate`                    | Variável categórica que captura danos relacionados a falhas moderadas em plano em termos da proporção da área total que está moderadamente danificada                                               | Categórica |\n",
        "| `damage_in_plane_failure_severe`                      | Variável categórica que captura danos relacionados a falhas severas em plano em termos da proporção da área total que está severamente danificada                                                | Categórica |\n",
        "| `damage_infill_partition_failure_insignificant`       | Variável categórica que captura danos relacionados a falhas insignificantes de preenchimento/divisórias em termos da proporção da área total que está insignificativamente danificada            | Categórica |\n",
        "| `damage_infill_partition_failure_moderate`            | Variável categórica que captura danos relacionados a falhas moderadas de preenchimento/divisórias em termos da proporção da área total que está moderadamente danificada                          | Categórica |\n",
        "| `damage_infill_partition_failure_severe`              | Variável categórica que captura danos relacionados a falhas severas de preenchimento/divisórias em termos da proporção da área total que está severamente danificada                              | Categórica |\n",
        "| `damage_out_of_plane_failure_insignificant`           | Variável categórica que captura danos relacionados a falhas insignificantes fora de plano em termos da proporção da área total que está insignificativamente danificada                          | Categórica |\n",
        "| `damage_out_of_plane_failure_moderate`                | Variável categórica que captura danos relacionados a falhas moderadas fora de plano em termos da proporção da área total que está moderadamente danificada                                        | Categórica |\n",
        "| `damage_out_of_plane_failure_severe`                  | Variável categórica que captura danos relacionados a falhas severas fora de plano em termos da proporção da área total que está severamente danificada                                            | Categórica |\n",
        "| `damage_out_of_plane_failure_walls_ncfr_insignificant`| Variável categórica que captura danos relacionados a falhas insignificantes fora de plano de paredes que não suportam piso/telhado em termos da proporção da área total que está insignificativamente danificada | Categórica |\n",
        "| `damage_out_of_plane_failure_walls_ncfr_moderate`     | Variável categórica que captura danos relacionados a falhas moderadas fora de plano de paredes que não suportam piso/telhado em termos da proporção da área total que está moderadamente danificada | Categórica |\n",
        "| `damage_out_of_plane_failure_walls_ncfr_severe`       | Variável categórica que captura danos relacionados a falhas severas fora de plano de paredes que não suportam piso/telhado em termos da proporção da área total que está severamente danificada | Categórica |\n",
        "| `damage_overall_adjacent_building_risk`               | Risco relacionado a edifícios adjacentes                                                                                                                                                      | Categórica |\n",
        "| `damage_overall_collapse`                             | Avaliação geral de danos para o edifício - colapso                                                                                                                                             | Categórica |\n",
        "| `damage_overall_leaning`                              | Avaliação geral de danos para o edifício - inclinação                                                                                                                                          | Categórica |\n",
        "| `damage_parapet_insignificant`                        | Variável categórica que captura danos insignificantes relacionados a beirais em termos da proporção da área total que está insignificativamente danificada                             | Categórica |\n",
        "| `damage_parapet_moderate`                             | Variável categórica que captura danos moderados relacionados a beirais em termos da proporção da área total que está moderadamente danificada                                          | Categórica |\n",
        "| `damage_parapet_severe`                               | Variável categórica que captura danos severos relacionados a beirais em termos da proporção da área total que está severamente danificada                                            | Categórica |\n",
        "| `damage_roof_insignificant`                           | Variável categórica que captura danos insignificantes relacionados ao telhado em termos da proporção da área total que está insignificativamente danificada                             | Categórica |\n",
        "| `damage_roof_moderate`                                | Variável categórica que captura danos moderados relacionados ao telhado em termos da proporção da área total que está moderadamente danificada                                          | Categórica |\n",
        "| `damage_roof_severe`                                  | Variável categórica que captura danos severos relacionados ao telhado em termos da proporção da área total que está severamente danificada                                            | Categórica |\n",
        "| `damage_wall_failure_insignificant`                   | Variável categórica que captura danos relacionados a falhas insignificantes em paredes em termos da proporção da área total que está insignificativamente danificada                   | Categórica |\n",
        "| `damage_wall_failure_moderate`                        | Variável categórica que captura danos relacionados a falhas moderadas em paredes em termos da proporção da área total que está moderadamente danificada                                 | Categórica |\n",
        "| `damage_wall_failure_severe`                          | Variável categórica que captura danos relacionados a falhas severas em paredes em termos da proporção da área total que está severamente danificada                                     | Categórica |\n",
        "| `damage_wood_beam_failure_insignificant`             | Variável categórica que captura danos relacionados a falhas insignificantes de vigas de madeira em termos da proporção da área total que está insignificativamente danificada        | Categórica |\n",
        "| `damage_wood_beam_failure_moderate`                  | Variável categórica que captura danos relacionados a falhas moderadas de vigas de madeira em termos da proporção da área total que está moderadamente danificada                       | Categórica |\n",
        "| `damage_wood_beam_failure_severe`                    | Variável categórica que captura danos relacionados a falhas severas de vigas de madeira em termos da proporção da área total que está severamente danificada                           | Categórica |\n",
        "| `damage_wood_column_failure_insignificant`           | Variável categórica que captura danos relacionados a falhas insignificantes de colunas de madeira em termos da proporção da área total que está insignificativamente danificada      | Categórica |\n",
        "| `damage_wood_column_failure_moderate`                | Variável categórica que captura danos relacionados a falhas moderadas de colunas de madeira em termos da proporção da área total que está moderadamente danificada                    | Categórica |\n",
        "| `damage_wood_column_failure_severe`                  | Variável categórica que captura danos relacionados a falhas severas de colunas de madeira em termos da proporção da área total que está severamente danificada                        | Categórica |\n",
        "| `damage_wood_roof_failure_insignificant`             | Variável categórica que captura danos relacionados a falhas insignificantes de telhados de madeira em termos da proporção da área total que está insignificativamente danificada    | Categórica |\n",
        "| `damage_wood_roof_failure_moderate`                  | Variável categórica que captura danos relacionados a falhas moderadas de telhados de madeira em termos da proporção da área total que está moderadamente danificada                   | Categórica |\n",
        "| `damage_wood_roof_failure_severe`                    | Variável categórica que captura danos relacionados a falhas severas de telhados de madeira em termos da proporção da área total que está severamente danificada                       | Categórica |\n",
        "| `damage_wood_wall_failure_insignificant`             | Variável categórica que captura danos relacionados a falhas insignificantes de paredes de madeira em termos da proporção da área total que está insignificativamente danificada      | Categórica |\n",
        "| `damage_wood_wall_failure_moderate`                  | Variável categórica que captura danos relacionados a falhas moderadas de paredes de madeira em termos da proporção da área total que está moderadamente danificada                     | Categórica |\n",
        "| `damage_wood_wall_failure_severe`                    | Variável categórica que captura danos relacionados a falhas severas de paredes de madeira em termos da proporção da área total que está severamente danificada                        | Categórica |\n",
        "| `evaluation_time`                                     | Tempo total em que a avaliação foi realizada                                                                                                                                          | Numérica   |\n",
        "| `num_ratings`                                         | Número de avaliações realizadas para cada edifício                                                                                                                                  | Numérica   |\n",
        "| `weight`                                             | Peso total considerado na avaliação, possivelmente relacionado a características do edifício                                                                                         | Numérica   |"
      ]
    },
    {
      "cell_type": "markdown",
      "id": "e1cc194b-e290-4a15-a7aa-ede834a6bda5",
      "metadata": {
        "deletable": false,
        "editable": false,
        "id": "e1cc194b-e290-4a15-a7aa-ede834a6bda5"
      },
      "source": [
        "# Table `household_demographics`"
      ]
    },
    {
      "cell_type": "markdown",
      "id": "63596965-f122-4c8a-8231-610b526361f6",
      "metadata": {
        "deletable": false,
        "editable": false,
        "id": "63596965-f122-4c8a-8231-610b526361f6"
      },
      "source": [
        "|Variável                                              |Descrição                                                       |Tipo       |\n",
        "|:-----------------------------------------------------|:---------------------------------------------------------------|-----------|\n",
        "|`household_id`                                        |Um ID único que identifica cada domicílio individualmente        |Texto      |\n",
        "|`gender_household_head`                               |Gênero do chefe de família                                       |Categórica |\n",
        "|`age_household_head`                                  |Idade do chefe de família                                        |Numérica   |\n",
        "|`caste_household`                                     |Casta/Etnia do domicílio                                         |Categórica |\n",
        "|`education_level_household_head`                      |Nível de escolaridade do chefe de família                        |Categórica |\n",
        "|`income_level_household`                              |Renda média mensal do domicílio                                  |Categórica |\n",
        "|`size_household`                                      |Tamanho do domicílio                                             |Numérica   |\n",
        "|`is_bank_account_present_in_household`                |Variável indicadora que mostra se o domicílio possui conta bancária |Booleano   |"
      ]
    },
    {
      "cell_type": "markdown",
      "id": "e853054d-899d-458e-9922-86655f05f10d",
      "metadata": {
        "deletable": false,
        "editable": false,
        "id": "e853054d-899d-458e-9922-86655f05f10d"
      },
      "source": [
        "# Table `id_map`"
      ]
    },
    {
      "cell_type": "markdown",
      "id": "a101ae05-0444-4f5c-b982-aa3684841b68",
      "metadata": {
        "deletable": false,
        "editable": false,
        "id": "a101ae05-0444-4f5c-b982-aa3684841b68"
      },
      "source": [
        "| Variável       | Descrição                                                     | Tipo |  \n",
        "| :------------- | :------------------------------------------------------------ | :--- |  \n",
        "| `building_id`  | Um ID único que identifica um edifício único da pesquisa       | Texto |  \n",
        "| `district_id`  | Distrito de residência do domicílio                           | Texto |  \n",
        "| `household_id` | Um ID único que identifica cada domicílio individualmente      | Texto |  \n",
        "| `vdcmun_id`    | Município de residência do domicílio                          | Texto |  "
      ]
    },
    {
      "cell_type": "code",
      "source": [],
      "metadata": {
        "id": "6RhHVR7g9S-N"
      },
      "id": "6RhHVR7g9S-N",
      "execution_count": null,
      "outputs": []
    }
  ],
  "metadata": {
    "kernelspec": {
      "display_name": "Python 3 (ipykernel)",
      "language": "python",
      "name": "python3"
    },
    "language_info": {
      "codemirror_mode": {
        "name": "ipython",
        "version": 3
      },
      "file_extension": ".py",
      "mimetype": "text/x-python",
      "name": "python",
      "nbconvert_exporter": "python",
      "pygments_lexer": "ipython3",
      "version": "3.11.4"
    },
    "colab": {
      "provenance": []
    }
  },
  "nbformat": 4,
  "nbformat_minor": 5
}